{
 "cells": [
  {
   "cell_type": "markdown",
   "metadata": {},
   "source": [
    "**Описание проекта**"
   ]
  },
  {
   "cell_type": "markdown",
   "metadata": {},
   "source": [
    "Вы работаете в интернет-магазине «Стримчик», который продаёт по всему миру компьютерные игры. Из открытых источников доступны исторические данные о продажах игр, оценки пользователей и экспертов, жанры и платформы (например, Xbox или PlayStation). Вам нужно выявить определяющие успешность игры закономерности. Это позволит сделать ставку на потенциально популярный продукт и спланировать рекламные кампании.\n",
    "\n",
    "Перед вами данные до 2016 года. Представим, что сейчас декабрь 2016 г., и вы планируете кампанию на 2017-й. Нужно отработать принцип работы с данными. Неважно, прогнозируете ли вы продажи на 2017 год по данным 2016-го или же 2027-й — по данным 2026 года.\n",
    "\n",
    "В наборе данных попадается аббревиатура ESRB (Entertainment Software Rating Board) — это ассоциация, определяющая возрастной рейтинг компьютерных игр. ESRB оценивает игровой контент и присваивает ему подходящую возрастную категорию, например, «Для взрослых», «Для детей младшего возраста» или «Для подростков»."
   ]
  },
  {
   "cell_type": "markdown",
   "metadata": {},
   "source": [
    "***Ход исследования:***\n",
    "- Шаг 1. Изучим общую информацию\n",
    "- Путь к файлу: /datasets/games.csv.\n",
    "\n",
    "\n",
    "- Шаг 2. Подготовим данные\n",
    "- Заменим названия столбцов (приведем к нижнему регистру);\n",
    "- Преобразуем данные в нужные типы;\n",
    "- Обработаем при необходимости пропуски;\n",
    "- Посчитаем суммарные продажи во всех регионах и запишем их в отдельный столбец.\n",
    "\n",
    "\n",
    "- Шаг 3. Проведем исследовательский анализ данных\n",
    "- Посмотрим, сколько игр выпускалось в разные годы;\n",
    "- Посмотрим, как менялись продажи по платформам. Выберем платформы с наибольшими суммарными продажами и построим распределение по годам. Определим за какой характерный срок появляются новые и исчезают старые платформы;\n",
    "- Посмотрим какие платформы лидируют по продажам, растут или падают. Выберем несколько потенциально прибыльных платформ.\n",
    "- Построим график «ящик с усами» по глобальным продажам игр в разбивке по платформам;\n",
    "- Посмотрим, как влияют на продажи внутри одной популярной платформы отзывы пользователей и критиков. Построим диаграмму рассеяния и посчитайте корреляцию между отзывами и продажами;\n",
    "- Посмотрим на общее распределение игр по жанрам.\n",
    "\n",
    "\n",
    "- Шаг 4. Составим портрет пользователя каждого региона\n",
    "- Определим для пользователя каждого региона (NA, EU, JP):\n",
    "- Самые популярные платформы (топ-5). \n",
    "- Самые популярные жанры (топ-5).\n",
    "- Оценим влияет ли рейтинг ESRB на продажи в отдельном регионе.\n",
    "\n",
    "\n",
    "- Шаг 5. Проверим гипотезы\n",
    "- Средние пользовательские рейтинги платформ Xbox One и PC одинаковые;\n",
    "- Средние пользовательские рейтинги жанров Action (англ. «действие», экшен-игры) и Sports (англ. «спортивные соревнования») разные.\n",
    "\n",
    "\n",
    "- Шаг 6. Написание общего вывода\n"
   ]
  },
  {
   "cell_type": "markdown",
   "metadata": {},
   "source": [
    "**Описание данных**"
   ]
  },
  {
   "cell_type": "markdown",
   "metadata": {},
   "source": [
    "- Name — название игры\n",
    "- Platform — платформа\n",
    "- Year_of_Release — год выпуска\n",
    "- Genre — жанр игры\n",
    "- NA_sales — продажи в Северной Америке (миллионы проданных копий)\n",
    "- EU_sales — продажи в Европе (миллионы проданных копий)\n",
    "- JP_sales — продажи в Японии (миллионы проданных копий)\n",
    "- Other_sales — продажи в других странах (миллионы проданных копий)\n",
    "- Critic_Score — оценка критиков (максимум 100)\n",
    "- User_Score — оценка пользователей (максимум 10)\n",
    "- Rating — рейтинг от организации ESRB (англ. Entertainment Software Rating Board). Эта ассоциация определяет рейтинг компьютерных игр и присваивает им подходящую возрастную категорию.\n",
    "\n",
    "Данные за 2016 год могут быть неполными."
   ]
  },
  {
   "cell_type": "markdown",
   "metadata": {},
   "source": [
    "## Шаг 1. Загрузка данных и ознакомление с ними"
   ]
  },
  {
   "cell_type": "code",
   "execution_count": 1,
   "metadata": {},
   "outputs": [],
   "source": [
    "import pandas as pd\n",
    "import matplotlib.pyplot as plt \n",
    "import seaborn as sns\n",
    "import numpy as np\n",
    "from scipy import stats as st"
   ]
  },
  {
   "cell_type": "code",
   "execution_count": 2,
   "metadata": {},
   "outputs": [],
   "source": [
    "try:\n",
    "    games = pd.read_csv('/datasets/games.csv')\n",
    "except:\n",
    "    games = pd.read_csv('https://code.s3.yandex.net/datasets/games.csv')"
   ]
  },
  {
   "cell_type": "code",
   "execution_count": 3,
   "metadata": {},
   "outputs": [],
   "source": [
    "def data_information(dataset):\n",
    "    print('Первые строки таблицы:')\n",
    "    print('')\n",
    "    display(dataset.head())\n",
    "    print('Информация о таблице:')\n",
    "    print('')\n",
    "    display(dataset.info())"
   ]
  },
  {
   "cell_type": "code",
   "execution_count": 4,
   "metadata": {},
   "outputs": [
    {
     "name": "stdout",
     "output_type": "stream",
     "text": [
      "Первые строки таблицы:\n",
      "\n"
     ]
    },
    {
     "data": {
      "text/html": [
       "<div>\n",
       "<style scoped>\n",
       "    .dataframe tbody tr th:only-of-type {\n",
       "        vertical-align: middle;\n",
       "    }\n",
       "\n",
       "    .dataframe tbody tr th {\n",
       "        vertical-align: top;\n",
       "    }\n",
       "\n",
       "    .dataframe thead th {\n",
       "        text-align: right;\n",
       "    }\n",
       "</style>\n",
       "<table border=\"1\" class=\"dataframe\">\n",
       "  <thead>\n",
       "    <tr style=\"text-align: right;\">\n",
       "      <th></th>\n",
       "      <th>Name</th>\n",
       "      <th>Platform</th>\n",
       "      <th>Year_of_Release</th>\n",
       "      <th>Genre</th>\n",
       "      <th>NA_sales</th>\n",
       "      <th>EU_sales</th>\n",
       "      <th>JP_sales</th>\n",
       "      <th>Other_sales</th>\n",
       "      <th>Critic_Score</th>\n",
       "      <th>User_Score</th>\n",
       "      <th>Rating</th>\n",
       "    </tr>\n",
       "  </thead>\n",
       "  <tbody>\n",
       "    <tr>\n",
       "      <th>0</th>\n",
       "      <td>Wii Sports</td>\n",
       "      <td>Wii</td>\n",
       "      <td>2006.0</td>\n",
       "      <td>Sports</td>\n",
       "      <td>41.36</td>\n",
       "      <td>28.96</td>\n",
       "      <td>3.77</td>\n",
       "      <td>8.45</td>\n",
       "      <td>76.0</td>\n",
       "      <td>8</td>\n",
       "      <td>E</td>\n",
       "    </tr>\n",
       "    <tr>\n",
       "      <th>1</th>\n",
       "      <td>Super Mario Bros.</td>\n",
       "      <td>NES</td>\n",
       "      <td>1985.0</td>\n",
       "      <td>Platform</td>\n",
       "      <td>29.08</td>\n",
       "      <td>3.58</td>\n",
       "      <td>6.81</td>\n",
       "      <td>0.77</td>\n",
       "      <td>NaN</td>\n",
       "      <td>NaN</td>\n",
       "      <td>NaN</td>\n",
       "    </tr>\n",
       "    <tr>\n",
       "      <th>2</th>\n",
       "      <td>Mario Kart Wii</td>\n",
       "      <td>Wii</td>\n",
       "      <td>2008.0</td>\n",
       "      <td>Racing</td>\n",
       "      <td>15.68</td>\n",
       "      <td>12.76</td>\n",
       "      <td>3.79</td>\n",
       "      <td>3.29</td>\n",
       "      <td>82.0</td>\n",
       "      <td>8.3</td>\n",
       "      <td>E</td>\n",
       "    </tr>\n",
       "    <tr>\n",
       "      <th>3</th>\n",
       "      <td>Wii Sports Resort</td>\n",
       "      <td>Wii</td>\n",
       "      <td>2009.0</td>\n",
       "      <td>Sports</td>\n",
       "      <td>15.61</td>\n",
       "      <td>10.93</td>\n",
       "      <td>3.28</td>\n",
       "      <td>2.95</td>\n",
       "      <td>80.0</td>\n",
       "      <td>8</td>\n",
       "      <td>E</td>\n",
       "    </tr>\n",
       "    <tr>\n",
       "      <th>4</th>\n",
       "      <td>Pokemon Red/Pokemon Blue</td>\n",
       "      <td>GB</td>\n",
       "      <td>1996.0</td>\n",
       "      <td>Role-Playing</td>\n",
       "      <td>11.27</td>\n",
       "      <td>8.89</td>\n",
       "      <td>10.22</td>\n",
       "      <td>1.00</td>\n",
       "      <td>NaN</td>\n",
       "      <td>NaN</td>\n",
       "      <td>NaN</td>\n",
       "    </tr>\n",
       "  </tbody>\n",
       "</table>\n",
       "</div>"
      ],
      "text/plain": [
       "                       Name Platform  Year_of_Release         Genre  NA_sales  \\\n",
       "0                Wii Sports      Wii           2006.0        Sports     41.36   \n",
       "1         Super Mario Bros.      NES           1985.0      Platform     29.08   \n",
       "2            Mario Kart Wii      Wii           2008.0        Racing     15.68   \n",
       "3         Wii Sports Resort      Wii           2009.0        Sports     15.61   \n",
       "4  Pokemon Red/Pokemon Blue       GB           1996.0  Role-Playing     11.27   \n",
       "\n",
       "   EU_sales  JP_sales  Other_sales  Critic_Score User_Score Rating  \n",
       "0     28.96      3.77         8.45          76.0          8      E  \n",
       "1      3.58      6.81         0.77           NaN        NaN    NaN  \n",
       "2     12.76      3.79         3.29          82.0        8.3      E  \n",
       "3     10.93      3.28         2.95          80.0          8      E  \n",
       "4      8.89     10.22         1.00           NaN        NaN    NaN  "
      ]
     },
     "metadata": {},
     "output_type": "display_data"
    },
    {
     "name": "stdout",
     "output_type": "stream",
     "text": [
      "Информация о таблице:\n",
      "\n",
      "<class 'pandas.core.frame.DataFrame'>\n",
      "RangeIndex: 16715 entries, 0 to 16714\n",
      "Data columns (total 11 columns):\n",
      " #   Column           Non-Null Count  Dtype  \n",
      "---  ------           --------------  -----  \n",
      " 0   Name             16713 non-null  object \n",
      " 1   Platform         16715 non-null  object \n",
      " 2   Year_of_Release  16446 non-null  float64\n",
      " 3   Genre            16713 non-null  object \n",
      " 4   NA_sales         16715 non-null  float64\n",
      " 5   EU_sales         16715 non-null  float64\n",
      " 6   JP_sales         16715 non-null  float64\n",
      " 7   Other_sales      16715 non-null  float64\n",
      " 8   Critic_Score     8137 non-null   float64\n",
      " 9   User_Score       10014 non-null  object \n",
      " 10  Rating           9949 non-null   object \n",
      "dtypes: float64(6), object(5)\n",
      "memory usage: 1.4+ MB\n"
     ]
    },
    {
     "data": {
      "text/plain": [
       "None"
      ]
     },
     "metadata": {},
     "output_type": "display_data"
    }
   ],
   "source": [
    "data_information(games)"
   ]
  },
  {
   "cell_type": "markdown",
   "metadata": {},
   "source": [
    "**Первичные наблюдения:**\n",
    "- Всего в датасете 16715 строк и 11 столбцов;\n",
    "- Столбцы **platform**, **na_sales**, **eu_sales**, **jp_sales**, **other_sales** не имеют пропусков;\n",
    "- Столбцы **name**, **genre** имеют по 2 пропуска, а столбец **year_of_release** содержит 269 пропусков;\n",
    "- Много пропусков в столбцах **critic_score**, **user_score** и **rating**;\n",
    "- В столбцах **year_of_release** и **user_score** есть также необхомость преобразовать данные.\n",
    "\n",
    "На этапе предобработки данных проанализируем все столбцы датасета детальнее."
   ]
  },
  {
   "cell_type": "markdown",
   "metadata": {},
   "source": [
    "## Шаг 2. Предобработка данных"
   ]
  },
  {
   "cell_type": "markdown",
   "metadata": {},
   "source": [
    "#### Приведем к нижнему регистру названия столбцов в датасете:"
   ]
  },
  {
   "cell_type": "code",
   "execution_count": 5,
   "metadata": {},
   "outputs": [],
   "source": [
    "games.columns = games.columns.str.lower()"
   ]
  },
  {
   "cell_type": "markdown",
   "metadata": {},
   "source": [
    "#### Проверим есть ли дубликаты:"
   ]
  },
  {
   "cell_type": "code",
   "execution_count": 6,
   "metadata": {},
   "outputs": [
    {
     "data": {
      "text/plain": [
       "0"
      ]
     },
     "execution_count": 6,
     "metadata": {},
     "output_type": "execute_result"
    }
   ],
   "source": [
    "games.duplicated().sum()"
   ]
  },
  {
   "cell_type": "markdown",
   "metadata": {},
   "source": [
    "Явные дубликаты в датасете отсутствуют"
   ]
  },
  {
   "cell_type": "markdown",
   "metadata": {},
   "source": [
    "#### Посмотрим на уникальные значения в столбцах:"
   ]
  },
  {
   "cell_type": "code",
   "execution_count": 7,
   "metadata": {},
   "outputs": [
    {
     "data": {
      "text/plain": [
       "array([2006., 1985., 2008., 2009., 1996., 1989., 1984., 2005., 1999.,\n",
       "       2007., 2010., 2013., 2004., 1990., 1988., 2002., 2001., 2011.,\n",
       "       1998., 2015., 2012., 2014., 1992., 1997., 1993., 1994., 1982.,\n",
       "       2016., 2003., 1986., 2000.,   nan, 1995., 1991., 1981., 1987.,\n",
       "       1980., 1983.])"
      ]
     },
     "metadata": {},
     "output_type": "display_data"
    },
    {
     "data": {
      "text/plain": [
       "array(['Sports', 'Platform', 'Racing', 'Role-Playing', 'Puzzle', 'Misc',\n",
       "       'Shooter', 'Simulation', 'Action', 'Fighting', 'Adventure',\n",
       "       'Strategy', nan], dtype=object)"
      ]
     },
     "metadata": {},
     "output_type": "display_data"
    },
    {
     "data": {
      "text/plain": [
       "array([76., nan, 82., 80., 89., 58., 87., 91., 61., 97., 95., 77., 88.,\n",
       "       83., 94., 93., 85., 86., 98., 96., 90., 84., 73., 74., 78., 92.,\n",
       "       71., 72., 68., 62., 49., 67., 81., 66., 56., 79., 70., 59., 64.,\n",
       "       75., 60., 63., 69., 50., 25., 42., 44., 55., 48., 57., 29., 47.,\n",
       "       65., 54., 20., 53., 37., 38., 33., 52., 30., 32., 43., 45., 51.,\n",
       "       40., 46., 39., 34., 35., 41., 36., 28., 31., 27., 26., 19., 23.,\n",
       "       24., 21., 17., 22., 13.])"
      ]
     },
     "metadata": {},
     "output_type": "display_data"
    },
    {
     "data": {
      "text/plain": [
       "array(['8', nan, '8.3', '8.5', '6.6', '8.4', '8.6', '7.7', '6.3', '7.4',\n",
       "       '8.2', '9', '7.9', '8.1', '8.7', '7.1', '3.4', '5.3', '4.8', '3.2',\n",
       "       '8.9', '6.4', '7.8', '7.5', '2.6', '7.2', '9.2', '7', '7.3', '4.3',\n",
       "       '7.6', '5.7', '5', '9.1', '6.5', 'tbd', '8.8', '6.9', '9.4', '6.8',\n",
       "       '6.1', '6.7', '5.4', '4', '4.9', '4.5', '9.3', '6.2', '4.2', '6',\n",
       "       '3.7', '4.1', '5.8', '5.6', '5.5', '4.4', '4.6', '5.9', '3.9',\n",
       "       '3.1', '2.9', '5.2', '3.3', '4.7', '5.1', '3.5', '2.5', '1.9', '3',\n",
       "       '2.7', '2.2', '2', '9.5', '2.1', '3.6', '2.8', '1.8', '3.8', '0',\n",
       "       '1.6', '9.6', '2.4', '1.7', '1.1', '0.3', '1.5', '0.7', '1.2',\n",
       "       '2.3', '0.5', '1.3', '0.2', '0.6', '1.4', '0.9', '1', '9.7'],\n",
       "      dtype=object)"
      ]
     },
     "metadata": {},
     "output_type": "display_data"
    },
    {
     "data": {
      "text/plain": [
       "array(['E', nan, 'M', 'T', 'E10+', 'K-A', 'AO', 'EC', 'RP'], dtype=object)"
      ]
     },
     "metadata": {},
     "output_type": "display_data"
    }
   ],
   "source": [
    "display(games['year_of_release'].unique())\n",
    "display(games['genre'].unique())\n",
    "display(games['critic_score'].unique())\n",
    "display(games['user_score'].unique())\n",
    "display(games['rating'].unique())"
   ]
  },
  {
   "cell_type": "markdown",
   "metadata": {},
   "source": [
    "В некоторых столбцах видим значения nan, но с ними разберемся позже.\n",
    "\n",
    "Среди уникальных значений в столбце **user_score** обращает на себя внимание значение 'tbd'. TBD – это аббревиатура, которая означает фразу \"To Be Determined\" и используется, если какая-то информация еще не определена (в нашем случае рейтинг еще не определен), по сути это тот же самый пропуск."
   ]
  },
  {
   "cell_type": "code",
   "execution_count": 8,
   "metadata": {},
   "outputs": [
    {
     "data": {
      "text/plain": [
       "tbd    2424\n",
       "7.8     324\n",
       "8       290\n",
       "8.2     282\n",
       "8.3     254\n",
       "       ... \n",
       "0.3       2\n",
       "1         2\n",
       "0.6       2\n",
       "0         1\n",
       "9.7       1\n",
       "Name: user_score, Length: 96, dtype: int64"
      ]
     },
     "execution_count": 8,
     "metadata": {},
     "output_type": "execute_result"
    }
   ],
   "source": [
    "#посмотрим сколько таких значений в столбце\n",
    "games['user_score'].value_counts()"
   ]
  },
  {
   "cell_type": "markdown",
   "metadata": {},
   "source": [
    "Получается в столбце имеется еще 2424 дополнительных пропуска. Заменим значение 'tbd' на NaN."
   ]
  },
  {
   "cell_type": "code",
   "execution_count": 9,
   "metadata": {},
   "outputs": [],
   "source": [
    "games['user_score'] = games['user_score'].replace('tbd', np.NaN, regex=True)"
   ]
  },
  {
   "cell_type": "code",
   "execution_count": 10,
   "metadata": {},
   "outputs": [
    {
     "data": {
      "text/plain": [
       "array(['8', nan, '8.3', '8.5', '6.6', '8.4', '8.6', '7.7', '6.3', '7.4',\n",
       "       '8.2', '9', '7.9', '8.1', '8.7', '7.1', '3.4', '5.3', '4.8', '3.2',\n",
       "       '8.9', '6.4', '7.8', '7.5', '2.6', '7.2', '9.2', '7', '7.3', '4.3',\n",
       "       '7.6', '5.7', '5', '9.1', '6.5', '8.8', '6.9', '9.4', '6.8', '6.1',\n",
       "       '6.7', '5.4', '4', '4.9', '4.5', '9.3', '6.2', '4.2', '6', '3.7',\n",
       "       '4.1', '5.8', '5.6', '5.5', '4.4', '4.6', '5.9', '3.9', '3.1',\n",
       "       '2.9', '5.2', '3.3', '4.7', '5.1', '3.5', '2.5', '1.9', '3', '2.7',\n",
       "       '2.2', '2', '9.5', '2.1', '3.6', '2.8', '1.8', '3.8', '0', '1.6',\n",
       "       '9.6', '2.4', '1.7', '1.1', '0.3', '1.5', '0.7', '1.2', '2.3',\n",
       "       '0.5', '1.3', '0.2', '0.6', '1.4', '0.9', '1', '9.7'], dtype=object)"
      ]
     },
     "execution_count": 10,
     "metadata": {},
     "output_type": "execute_result"
    }
   ],
   "source": [
    "#проверим произошла ли замена\n",
    "games['user_score'].unique()"
   ]
  },
  {
   "cell_type": "markdown",
   "metadata": {},
   "source": [
    "Рассмотрим подробнее, что означают буквы в столбце **rating**. Рейтинг ESRB определяет рейтинги для компьютерных видеоигр и другого развлекательного программного обеспечения в США, Канаде и Мексике.\n",
    "\n",
    "- EC («Early childhood») - для детей младшего возраста. Подходит для детей от 3 лет, неприемлемое содержание отсутствует. \n",
    "- E («Everyone») - подходит для всех возрастных категорий. Игра не должна содержать звуков или изображений, которые могут напугать маленьких детей. Не должна использоваться ненормативная лексика.\n",
    "- E 10+ («Everyone 10 and older») - подходит для лиц старше 10 лет. Игра может содержать умеренные формы насилия, а некоторые сцены могут пугать детей. \n",
    "- T («Teen») - подходит для лиц старше 13 лет. Игра может содержать более реалистичные и натуралистические сцены насилия.\n",
    "- M («Mature») - подходит для лиц старше 17 лет. Этот рейтинг используется, когда насилие становится реалистичным и похожим на реальную жизнь. Также может присутствовать ненормативная лексика, употребление табака, алкоголя или запрещенных наркотиков. \n",
    "- AO («Adults Only 18+») - подходит для взрослых старше 18 лет. Классификация «для взрослых» используется, когда в игре присутствует крайний уровень насилия и немотивированного убийства. Также может присутствовать романтизация наркотиков, азартных игр и сексуальной активности. \n",
    "- RP («Rating Pending») - Категория ещё не присвоена. \n",
    "\n",
    "В нашем столбце мы можем увидеть еще категорию K-A («Kids to Adults»). Эта категория в рейтинге ESRB в свое время была заменена на Е. \n",
    "Для более точного анализа осуществим замену в датасете."
   ]
  },
  {
   "cell_type": "code",
   "execution_count": 11,
   "metadata": {},
   "outputs": [
    {
     "data": {
      "text/plain": [
       "E       3993\n",
       "T       2961\n",
       "M       1563\n",
       "E10+    1420\n",
       "EC         8\n",
       "RP         3\n",
       "AO         1\n",
       "Name: rating, dtype: int64"
      ]
     },
     "execution_count": 11,
     "metadata": {},
     "output_type": "execute_result"
    }
   ],
   "source": [
    "games['rating'] = games['rating'].replace('K-A', 'E', regex=True)\n",
    "games['rating'].value_counts()"
   ]
  },
  {
   "cell_type": "markdown",
   "metadata": {},
   "source": [
    "#### Работа с пропусками:"
   ]
  },
  {
   "cell_type": "code",
   "execution_count": 12,
   "metadata": {},
   "outputs": [
    {
     "data": {
      "text/plain": [
       "name                  2\n",
       "platform              0\n",
       "year_of_release     269\n",
       "genre                 2\n",
       "na_sales              0\n",
       "eu_sales              0\n",
       "jp_sales              0\n",
       "other_sales           0\n",
       "critic_score       8578\n",
       "user_score         9125\n",
       "rating             6766\n",
       "dtype: int64"
      ]
     },
     "execution_count": 12,
     "metadata": {},
     "output_type": "execute_result"
    }
   ],
   "source": [
    "games.isna().sum()"
   ]
  },
  {
   "cell_type": "code",
   "execution_count": 13,
   "metadata": {},
   "outputs": [
    {
     "data": {
      "text/html": [
       "<style  type=\"text/css\" >\n",
       "#T_3885b_row0_col0,#T_3885b_row1_col0,#T_3885b_row3_col0,#T_3885b_row4_col0,#T_3885b_row5_col0,#T_3885b_row6_col0,#T_3885b_row7_col0{\n",
       "            background-color:  #3b4cc0;\n",
       "            color:  #f1f1f1;\n",
       "        }#T_3885b_row2_col0{\n",
       "            background-color:  #455cce;\n",
       "            color:  #f1f1f1;\n",
       "        }#T_3885b_row8_col0{\n",
       "            background-color:  #cd423b;\n",
       "            color:  #f1f1f1;\n",
       "        }#T_3885b_row9_col0{\n",
       "            background-color:  #b40426;\n",
       "            color:  #f1f1f1;\n",
       "        }#T_3885b_row10_col0{\n",
       "            background-color:  #f6a283;\n",
       "            color:  #000000;\n",
       "        }</style><table id=\"T_3885b_\" ><thead>    <tr>        <th class=\"blank level0\" ></th>        <th class=\"col_heading level0 col0\" >0</th>    </tr></thead><tbody>\n",
       "                <tr>\n",
       "                        <th id=\"T_3885b_level0_row0\" class=\"row_heading level0 row0\" >name</th>\n",
       "                        <td id=\"T_3885b_row0_col0\" class=\"data row0 col0\" >0.000000</td>\n",
       "            </tr>\n",
       "            <tr>\n",
       "                        <th id=\"T_3885b_level0_row1\" class=\"row_heading level0 row1\" >platform</th>\n",
       "                        <td id=\"T_3885b_row1_col0\" class=\"data row1 col0\" >0.000000</td>\n",
       "            </tr>\n",
       "            <tr>\n",
       "                        <th id=\"T_3885b_level0_row2\" class=\"row_heading level0 row2\" >year_of_release</th>\n",
       "                        <td id=\"T_3885b_row2_col0\" class=\"data row2 col0\" >2.000000</td>\n",
       "            </tr>\n",
       "            <tr>\n",
       "                        <th id=\"T_3885b_level0_row3\" class=\"row_heading level0 row3\" >genre</th>\n",
       "                        <td id=\"T_3885b_row3_col0\" class=\"data row3 col0\" >0.000000</td>\n",
       "            </tr>\n",
       "            <tr>\n",
       "                        <th id=\"T_3885b_level0_row4\" class=\"row_heading level0 row4\" >na_sales</th>\n",
       "                        <td id=\"T_3885b_row4_col0\" class=\"data row4 col0\" >0.000000</td>\n",
       "            </tr>\n",
       "            <tr>\n",
       "                        <th id=\"T_3885b_level0_row5\" class=\"row_heading level0 row5\" >eu_sales</th>\n",
       "                        <td id=\"T_3885b_row5_col0\" class=\"data row5 col0\" >0.000000</td>\n",
       "            </tr>\n",
       "            <tr>\n",
       "                        <th id=\"T_3885b_level0_row6\" class=\"row_heading level0 row6\" >jp_sales</th>\n",
       "                        <td id=\"T_3885b_row6_col0\" class=\"data row6 col0\" >0.000000</td>\n",
       "            </tr>\n",
       "            <tr>\n",
       "                        <th id=\"T_3885b_level0_row7\" class=\"row_heading level0 row7\" >other_sales</th>\n",
       "                        <td id=\"T_3885b_row7_col0\" class=\"data row7 col0\" >0.000000</td>\n",
       "            </tr>\n",
       "            <tr>\n",
       "                        <th id=\"T_3885b_level0_row8\" class=\"row_heading level0 row8\" >critic_score</th>\n",
       "                        <td id=\"T_3885b_row8_col0\" class=\"data row8 col0\" >51.000000</td>\n",
       "            </tr>\n",
       "            <tr>\n",
       "                        <th id=\"T_3885b_level0_row9\" class=\"row_heading level0 row9\" >user_score</th>\n",
       "                        <td id=\"T_3885b_row9_col0\" class=\"data row9 col0\" >55.000000</td>\n",
       "            </tr>\n",
       "            <tr>\n",
       "                        <th id=\"T_3885b_level0_row10\" class=\"row_heading level0 row10\" >rating</th>\n",
       "                        <td id=\"T_3885b_row10_col0\" class=\"data row10 col0\" >40.000000</td>\n",
       "            </tr>\n",
       "    </tbody></table>"
      ],
      "text/plain": [
       "<pandas.io.formats.style.Styler at 0x1c1318376a0>"
      ]
     },
     "execution_count": 13,
     "metadata": {},
     "output_type": "execute_result"
    }
   ],
   "source": [
    "#посмотрим также на пропуски в процентном соотношении\n",
    "pd.DataFrame(round(games.isna().mean()*100,)).style.background_gradient('coolwarm')"
   ]
  },
  {
   "cell_type": "markdown",
   "metadata": {},
   "source": [
    "Всего в датасете 16 715 строк. Пропуски полностью отсутствуют в столбцах: **platform**, **na_sales**, **eu_sales**, **jp_sales**, **other_sales**.\n",
    "\n",
    "Столбцы **name**, **genre** имеют по 2 пропуска, можем сразу их удалить. \n",
    "\n",
    "Столбец **year_of_release** содержит 269 пропусков, что составляет около 2% датасета и в случае удаления, не повлияет на выводы.  \n",
    "\n",
    "Мы видим большое количество пропусков в столбцах **critic_score**, **user_score** и **rating**. Причиной отсутствия рейтинга может быть просто отсутствие оценок в силу того, что игры вышли давно или же наоборот вышли совсем недавно и еще не получили свои оценки. Замена пропусков в этих столбцах на среднее или медианное значение может критично повлиять на выводы, у нас есть варианты или оставить пропуски как есть или поставить вместо них какое-то значение (например, -1)."
   ]
  },
  {
   "cell_type": "code",
   "execution_count": 14,
   "metadata": {},
   "outputs": [],
   "source": [
    "#удалим столбцы\n",
    "games = games.dropna(subset=['name', 'genre', 'year_of_release']).reset_index(drop=True)"
   ]
  },
  {
   "cell_type": "code",
   "execution_count": 15,
   "metadata": {},
   "outputs": [
    {
     "data": {
      "text/plain": [
       "name                  0\n",
       "platform              0\n",
       "year_of_release       0\n",
       "genre                 0\n",
       "na_sales              0\n",
       "eu_sales              0\n",
       "jp_sales              0\n",
       "other_sales           0\n",
       "critic_score       8461\n",
       "user_score         8981\n",
       "rating             6676\n",
       "dtype: int64"
      ]
     },
     "execution_count": 15,
     "metadata": {},
     "output_type": "execute_result"
    }
   ],
   "source": [
    "games.isna().sum()"
   ]
  },
  {
   "cell_type": "code",
   "execution_count": 16,
   "metadata": {},
   "outputs": [],
   "source": [
    "#заменим пропуски в столбцах на -1\n",
    "games.loc[games['critic_score'].isna(), 'critic_score'] = -1\n",
    "games.loc[games['user_score'].isna(), 'user_score'] = -1"
   ]
  },
  {
   "cell_type": "code",
   "execution_count": 17,
   "metadata": {},
   "outputs": [],
   "source": [
    "#заменим пропуски на значение 'unknown'\n",
    "games['rating']=games['rating'].fillna('unknown')"
   ]
  },
  {
   "cell_type": "code",
   "execution_count": 18,
   "metadata": {},
   "outputs": [
    {
     "data": {
      "text/plain": [
       "name               0\n",
       "platform           0\n",
       "year_of_release    0\n",
       "genre              0\n",
       "na_sales           0\n",
       "eu_sales           0\n",
       "jp_sales           0\n",
       "other_sales        0\n",
       "critic_score       0\n",
       "user_score         0\n",
       "rating             0\n",
       "dtype: int64"
      ]
     },
     "execution_count": 18,
     "metadata": {},
     "output_type": "execute_result"
    }
   ],
   "source": [
    "#перепроверим\n",
    "games.isna().sum()"
   ]
  },
  {
   "cell_type": "code",
   "execution_count": 19,
   "metadata": {},
   "outputs": [
    {
     "data": {
      "text/html": [
       "<div>\n",
       "<style scoped>\n",
       "    .dataframe tbody tr th:only-of-type {\n",
       "        vertical-align: middle;\n",
       "    }\n",
       "\n",
       "    .dataframe tbody tr th {\n",
       "        vertical-align: top;\n",
       "    }\n",
       "\n",
       "    .dataframe thead th {\n",
       "        text-align: right;\n",
       "    }\n",
       "</style>\n",
       "<table border=\"1\" class=\"dataframe\">\n",
       "  <thead>\n",
       "    <tr style=\"text-align: right;\">\n",
       "      <th></th>\n",
       "      <th>name</th>\n",
       "      <th>platform</th>\n",
       "      <th>year_of_release</th>\n",
       "      <th>genre</th>\n",
       "      <th>na_sales</th>\n",
       "      <th>eu_sales</th>\n",
       "      <th>jp_sales</th>\n",
       "      <th>other_sales</th>\n",
       "      <th>critic_score</th>\n",
       "      <th>user_score</th>\n",
       "      <th>rating</th>\n",
       "    </tr>\n",
       "  </thead>\n",
       "  <tbody>\n",
       "    <tr>\n",
       "      <th>0</th>\n",
       "      <td>Wii Sports</td>\n",
       "      <td>Wii</td>\n",
       "      <td>2006.0</td>\n",
       "      <td>Sports</td>\n",
       "      <td>41.36</td>\n",
       "      <td>28.96</td>\n",
       "      <td>3.77</td>\n",
       "      <td>8.45</td>\n",
       "      <td>76.0</td>\n",
       "      <td>8</td>\n",
       "      <td>E</td>\n",
       "    </tr>\n",
       "    <tr>\n",
       "      <th>1</th>\n",
       "      <td>Super Mario Bros.</td>\n",
       "      <td>NES</td>\n",
       "      <td>1985.0</td>\n",
       "      <td>Platform</td>\n",
       "      <td>29.08</td>\n",
       "      <td>3.58</td>\n",
       "      <td>6.81</td>\n",
       "      <td>0.77</td>\n",
       "      <td>-1.0</td>\n",
       "      <td>-1</td>\n",
       "      <td>unknown</td>\n",
       "    </tr>\n",
       "    <tr>\n",
       "      <th>2</th>\n",
       "      <td>Mario Kart Wii</td>\n",
       "      <td>Wii</td>\n",
       "      <td>2008.0</td>\n",
       "      <td>Racing</td>\n",
       "      <td>15.68</td>\n",
       "      <td>12.76</td>\n",
       "      <td>3.79</td>\n",
       "      <td>3.29</td>\n",
       "      <td>82.0</td>\n",
       "      <td>8.3</td>\n",
       "      <td>E</td>\n",
       "    </tr>\n",
       "    <tr>\n",
       "      <th>3</th>\n",
       "      <td>Wii Sports Resort</td>\n",
       "      <td>Wii</td>\n",
       "      <td>2009.0</td>\n",
       "      <td>Sports</td>\n",
       "      <td>15.61</td>\n",
       "      <td>10.93</td>\n",
       "      <td>3.28</td>\n",
       "      <td>2.95</td>\n",
       "      <td>80.0</td>\n",
       "      <td>8</td>\n",
       "      <td>E</td>\n",
       "    </tr>\n",
       "    <tr>\n",
       "      <th>4</th>\n",
       "      <td>Pokemon Red/Pokemon Blue</td>\n",
       "      <td>GB</td>\n",
       "      <td>1996.0</td>\n",
       "      <td>Role-Playing</td>\n",
       "      <td>11.27</td>\n",
       "      <td>8.89</td>\n",
       "      <td>10.22</td>\n",
       "      <td>1.00</td>\n",
       "      <td>-1.0</td>\n",
       "      <td>-1</td>\n",
       "      <td>unknown</td>\n",
       "    </tr>\n",
       "  </tbody>\n",
       "</table>\n",
       "</div>"
      ],
      "text/plain": [
       "                       name platform  year_of_release         genre  na_sales  \\\n",
       "0                Wii Sports      Wii           2006.0        Sports     41.36   \n",
       "1         Super Mario Bros.      NES           1985.0      Platform     29.08   \n",
       "2            Mario Kart Wii      Wii           2008.0        Racing     15.68   \n",
       "3         Wii Sports Resort      Wii           2009.0        Sports     15.61   \n",
       "4  Pokemon Red/Pokemon Blue       GB           1996.0  Role-Playing     11.27   \n",
       "\n",
       "   eu_sales  jp_sales  other_sales  critic_score user_score   rating  \n",
       "0     28.96      3.77         8.45          76.0          8        E  \n",
       "1      3.58      6.81         0.77          -1.0         -1  unknown  \n",
       "2     12.76      3.79         3.29          82.0        8.3        E  \n",
       "3     10.93      3.28         2.95          80.0          8        E  \n",
       "4      8.89     10.22         1.00          -1.0         -1  unknown  "
      ]
     },
     "execution_count": 19,
     "metadata": {},
     "output_type": "execute_result"
    }
   ],
   "source": [
    "games.head()"
   ]
  },
  {
   "cell_type": "markdown",
   "metadata": {},
   "source": [
    "#### Преобразование типов данных:"
   ]
  },
  {
   "cell_type": "markdown",
   "metadata": {},
   "source": [
    "Есть необходимость изменить типы данных в столбцах **year_of_release** и **user_score**"
   ]
  },
  {
   "cell_type": "code",
   "execution_count": 20,
   "metadata": {},
   "outputs": [],
   "source": [
    "games['year_of_release'] = games['year_of_release'].astype('int32')\n",
    "games['user_score'] = games['user_score'].astype('float32')"
   ]
  },
  {
   "cell_type": "code",
   "execution_count": 21,
   "metadata": {},
   "outputs": [
    {
     "name": "stdout",
     "output_type": "stream",
     "text": [
      "<class 'pandas.core.frame.DataFrame'>\n",
      "RangeIndex: 16444 entries, 0 to 16443\n",
      "Data columns (total 11 columns):\n",
      " #   Column           Non-Null Count  Dtype  \n",
      "---  ------           --------------  -----  \n",
      " 0   name             16444 non-null  object \n",
      " 1   platform         16444 non-null  object \n",
      " 2   year_of_release  16444 non-null  int32  \n",
      " 3   genre            16444 non-null  object \n",
      " 4   na_sales         16444 non-null  float64\n",
      " 5   eu_sales         16444 non-null  float64\n",
      " 6   jp_sales         16444 non-null  float64\n",
      " 7   other_sales      16444 non-null  float64\n",
      " 8   critic_score     16444 non-null  float64\n",
      " 9   user_score       16444 non-null  float32\n",
      " 10  rating           16444 non-null  object \n",
      "dtypes: float32(1), float64(5), int32(1), object(4)\n",
      "memory usage: 1.3+ MB\n"
     ]
    }
   ],
   "source": [
    "games.info()"
   ]
  },
  {
   "cell_type": "markdown",
   "metadata": {},
   "source": [
    "#### Добавление нового столбца с информацией о суммарных продажах во всех регионах:"
   ]
  },
  {
   "cell_type": "code",
   "execution_count": 22,
   "metadata": {},
   "outputs": [],
   "source": [
    "games['total_sales']=games['na_sales'] + games['eu_sales'] + games['jp_sales'] + games['other_sales']"
   ]
  },
  {
   "cell_type": "code",
   "execution_count": 23,
   "metadata": {},
   "outputs": [
    {
     "data": {
      "text/html": [
       "<div>\n",
       "<style scoped>\n",
       "    .dataframe tbody tr th:only-of-type {\n",
       "        vertical-align: middle;\n",
       "    }\n",
       "\n",
       "    .dataframe tbody tr th {\n",
       "        vertical-align: top;\n",
       "    }\n",
       "\n",
       "    .dataframe thead th {\n",
       "        text-align: right;\n",
       "    }\n",
       "</style>\n",
       "<table border=\"1\" class=\"dataframe\">\n",
       "  <thead>\n",
       "    <tr style=\"text-align: right;\">\n",
       "      <th></th>\n",
       "      <th>name</th>\n",
       "      <th>platform</th>\n",
       "      <th>year_of_release</th>\n",
       "      <th>genre</th>\n",
       "      <th>na_sales</th>\n",
       "      <th>eu_sales</th>\n",
       "      <th>jp_sales</th>\n",
       "      <th>other_sales</th>\n",
       "      <th>critic_score</th>\n",
       "      <th>user_score</th>\n",
       "      <th>rating</th>\n",
       "      <th>total_sales</th>\n",
       "    </tr>\n",
       "  </thead>\n",
       "  <tbody>\n",
       "    <tr>\n",
       "      <th>0</th>\n",
       "      <td>Wii Sports</td>\n",
       "      <td>Wii</td>\n",
       "      <td>2006</td>\n",
       "      <td>Sports</td>\n",
       "      <td>41.36</td>\n",
       "      <td>28.96</td>\n",
       "      <td>3.77</td>\n",
       "      <td>8.45</td>\n",
       "      <td>76.0</td>\n",
       "      <td>8.0</td>\n",
       "      <td>E</td>\n",
       "      <td>82.54</td>\n",
       "    </tr>\n",
       "    <tr>\n",
       "      <th>1</th>\n",
       "      <td>Super Mario Bros.</td>\n",
       "      <td>NES</td>\n",
       "      <td>1985</td>\n",
       "      <td>Platform</td>\n",
       "      <td>29.08</td>\n",
       "      <td>3.58</td>\n",
       "      <td>6.81</td>\n",
       "      <td>0.77</td>\n",
       "      <td>-1.0</td>\n",
       "      <td>-1.0</td>\n",
       "      <td>unknown</td>\n",
       "      <td>40.24</td>\n",
       "    </tr>\n",
       "    <tr>\n",
       "      <th>2</th>\n",
       "      <td>Mario Kart Wii</td>\n",
       "      <td>Wii</td>\n",
       "      <td>2008</td>\n",
       "      <td>Racing</td>\n",
       "      <td>15.68</td>\n",
       "      <td>12.76</td>\n",
       "      <td>3.79</td>\n",
       "      <td>3.29</td>\n",
       "      <td>82.0</td>\n",
       "      <td>8.3</td>\n",
       "      <td>E</td>\n",
       "      <td>35.52</td>\n",
       "    </tr>\n",
       "    <tr>\n",
       "      <th>3</th>\n",
       "      <td>Wii Sports Resort</td>\n",
       "      <td>Wii</td>\n",
       "      <td>2009</td>\n",
       "      <td>Sports</td>\n",
       "      <td>15.61</td>\n",
       "      <td>10.93</td>\n",
       "      <td>3.28</td>\n",
       "      <td>2.95</td>\n",
       "      <td>80.0</td>\n",
       "      <td>8.0</td>\n",
       "      <td>E</td>\n",
       "      <td>32.77</td>\n",
       "    </tr>\n",
       "    <tr>\n",
       "      <th>4</th>\n",
       "      <td>Pokemon Red/Pokemon Blue</td>\n",
       "      <td>GB</td>\n",
       "      <td>1996</td>\n",
       "      <td>Role-Playing</td>\n",
       "      <td>11.27</td>\n",
       "      <td>8.89</td>\n",
       "      <td>10.22</td>\n",
       "      <td>1.00</td>\n",
       "      <td>-1.0</td>\n",
       "      <td>-1.0</td>\n",
       "      <td>unknown</td>\n",
       "      <td>31.38</td>\n",
       "    </tr>\n",
       "  </tbody>\n",
       "</table>\n",
       "</div>"
      ],
      "text/plain": [
       "                       name platform  year_of_release         genre  na_sales  \\\n",
       "0                Wii Sports      Wii             2006        Sports     41.36   \n",
       "1         Super Mario Bros.      NES             1985      Platform     29.08   \n",
       "2            Mario Kart Wii      Wii             2008        Racing     15.68   \n",
       "3         Wii Sports Resort      Wii             2009        Sports     15.61   \n",
       "4  Pokemon Red/Pokemon Blue       GB             1996  Role-Playing     11.27   \n",
       "\n",
       "   eu_sales  jp_sales  other_sales  critic_score  user_score   rating  \\\n",
       "0     28.96      3.77         8.45          76.0         8.0        E   \n",
       "1      3.58      6.81         0.77          -1.0        -1.0  unknown   \n",
       "2     12.76      3.79         3.29          82.0         8.3        E   \n",
       "3     10.93      3.28         2.95          80.0         8.0        E   \n",
       "4      8.89     10.22         1.00          -1.0        -1.0  unknown   \n",
       "\n",
       "   total_sales  \n",
       "0        82.54  \n",
       "1        40.24  \n",
       "2        35.52  \n",
       "3        32.77  \n",
       "4        31.38  "
      ]
     },
     "execution_count": 23,
     "metadata": {},
     "output_type": "execute_result"
    }
   ],
   "source": [
    "games.head()"
   ]
  },
  {
   "cell_type": "markdown",
   "metadata": {},
   "source": [
    "**В результате предобработки данных:**\n",
    "- Названия столбцов были приведены к одному регистру;\n",
    "- Были обнаружены и удалены пропуски в столбцах: 'name', 'genre', 'years_of_release';\n",
    "- В столбцах 'critic_score', 'user_score' и 'rating' было принято решение не удалять пропуски в виду их большого количеств, а добавить значения заглушки. Также мы изменили значения 'tbd' на NaN для пользовательского рейтинга;\n",
    "- Преобразовали типы данных в столбцах 'year_of_release' и 'user_score';\n",
    "- Добавили новый столбец 'total_sales', который содержит информацию о суммарной выручке игр по всему миру;\n",
    "- Проверили данные на дубликаты."
   ]
  },
  {
   "cell_type": "markdown",
   "metadata": {},
   "source": [
    "## Шаг 3. Исследовательский анализ данных"
   ]
  },
  {
   "cell_type": "markdown",
   "metadata": {},
   "source": [
    "#### Количество игр, выпущенных в разные годы"
   ]
  },
  {
   "cell_type": "code",
   "execution_count": 24,
   "metadata": {},
   "outputs": [
    {
     "data": {
      "text/plain": [
       "2008    1427\n",
       "2009    1426\n",
       "2010    1255\n",
       "2007    1197\n",
       "2011    1136\n",
       "2006    1006\n",
       "2005     939\n",
       "2002     829\n",
       "2003     775\n",
       "2004     762\n",
       "2012     653\n",
       "2015     606\n",
       "2014     581\n",
       "2013     544\n",
       "2016     502\n",
       "2001     482\n",
       "1998     379\n",
       "2000     350\n",
       "1999     338\n",
       "1997     289\n",
       "1996     263\n",
       "1995     219\n",
       "1994     121\n",
       "1993      60\n",
       "1981      46\n",
       "1992      43\n",
       "1991      41\n",
       "1982      36\n",
       "1986      21\n",
       "1983      17\n",
       "1989      17\n",
       "1990      16\n",
       "1987      16\n",
       "1988      15\n",
       "1985      14\n",
       "1984      14\n",
       "1980       9\n",
       "Name: year_of_release, dtype: int64"
      ]
     },
     "execution_count": 24,
     "metadata": {},
     "output_type": "execute_result"
    }
   ],
   "source": [
    "#посчитаем в каких годах игр было больше\n",
    "games['year_of_release'].value_counts()"
   ]
  },
  {
   "cell_type": "code",
   "execution_count": 25,
   "metadata": {},
   "outputs": [
    {
     "data": {
      "image/png": "[encoded data removed]",
      "text/plain": [
       "<Figure size 864x648 with 1 Axes>"
      ]
     },
     "metadata": {
      "needs_background": "light"
     },
     "output_type": "display_data"
    }
   ],
   "source": [
    "games.groupby('year_of_release')['name'].count()\\\n",
    ".plot(kind='bar',\n",
    "      xlabel='годы',\n",
    "      ylabel='количество игр',\n",
    "      figsize=(12,9), \n",
    "      grid=True,\n",
    "      ec='black',\n",
    "      title = 'Количество игр, выпущенных в разные годы')\n",
    "plt.show()"
   ]
  },
  {
   "cell_type": "markdown",
   "metadata": {},
   "source": [
    "**Вывод:**\n",
    "\n",
    "- До 1993 видеоигр практически не было. С 1994 года количество выпускаемых игр стремительно росло с каждым годом вплоть до 2009 года. Надо отметить, что в 2005 и 2006 годах Microsoft Xbox 360, Sony Playstation 3 и Nintendo Wii открыли современную эпоху игр с высоким разрешением. В 2008 - 2009 гг. мы видим пиковые значения по количеству видеоигр.\n",
    "- После 2009 года на рынке произошел резкий спад по количеству игр. Если сравнивать 2009 и 2013 год, то можно заметить, что количество выпускаемых игр снизилось почти в 3 раза. И с 2013 по 2016 гг. количество выпускаемых игр держится почти на одном уровне."
   ]
  },
  {
   "cell_type": "markdown",
   "metadata": {},
   "source": [
    "### Анализ игровых платформ с наибольшими суммарными продажами"
   ]
  },
  {
   "cell_type": "code",
   "execution_count": 26,
   "metadata": {},
   "outputs": [
    {
     "data": {
      "image/png": "[encoded data removed]",
      "text/plain": [
       "<Figure size 864x720 with 1 Axes>"
      ]
     },
     "metadata": {
      "needs_background": "light"
     },
     "output_type": "display_data"
    }
   ],
   "source": [
    "games.groupby('platform')['total_sales'].sum().sort_values()\\\n",
    ".plot(kind='barh',\n",
    "      xlabel='название платформы',\n",
    "      ylabel='сумма продаж',\n",
    "      figsize=(12,10), \n",
    "      grid=True,\n",
    "      ec='black',\n",
    "      title = 'Игровые платформы с наибольшими суммарными продажами')\n",
    "plt.show()"
   ]
  },
  {
   "cell_type": "markdown",
   "metadata": {},
   "source": [
    "В целом можно сказать, что на рынке игровых консолей до 2016 г., ведущими платформами являлись: PS2, Xbox360, PS3, Nintendo DS и Wii."
   ]
  },
  {
   "cell_type": "code",
   "execution_count": 27,
   "metadata": {},
   "outputs": [
    {
     "data": {
      "image/png": "[encoded data removed]",
      "text/plain": [
       "<Figure size 864x720 with 1 Axes>"
      ]
     },
     "metadata": {
      "needs_background": "light"
     },
     "output_type": "display_data"
    }
   ],
   "source": [
    "games.groupby('year_of_release')['platform'].count()\\\n",
    ".plot(kind='bar',\n",
    "      xlabel='года',\n",
    "      figsize=(12,10), \n",
    "      grid=True,\n",
    "      ec='black',\n",
    "      title = 'Распределение игровых платформ с наибольшими суммарными продажами по годам')\n",
    "plt.show()"
   ]
  },
  {
   "cell_type": "markdown",
   "metadata": {},
   "source": [
    "Мы видим, что самые высокие суммарные продажи по игровым платформам приходятся на 2002-2011 гг. Пиковые значения находятся на отметках 2008-2009 гг. Собственно, этот график повторяет информацию с графика \"Количество игр, выпущенных в разные годы\", что логично."
   ]
  },
  {
   "cell_type": "markdown",
   "metadata": {},
   "source": [
    "**Посчитаем сколько лет существовала каждая платформа:**"
   ]
  },
  {
   "cell_type": "code",
   "execution_count": 28,
   "metadata": {},
   "outputs": [
    {
     "name": "stdout",
     "output_type": "stream",
     "text": [
      " Игровая платформа Wii существовала с 2006 до 2016, итого: 10 лет\n",
      " Игровая платформа NES существовала с 1983 до 1994, итого: 11 лет\n",
      " Игровая платформа GB существовала с 1988 до 2001, итого: 13 лет\n",
      " Игровая платформа DS существовала с 2004 до 2013, итого: 9 лет\n",
      " Игровая платформа X360 существовала с 2005 до 2016, итого: 11 лет\n",
      " Игровая платформа PS3 существовала с 2006 до 2016, итого: 10 лет\n",
      " Игровая платформа PS2 существовала с 2000 до 2011, итого: 11 лет\n",
      " Игровая платформа SNES существовала с 1990 до 1999, итого: 9 лет\n",
      " Игровая платформа GBA существовала с 2001 до 2007, итого: 6 лет\n",
      " Игровая платформа PS4 существовала с 2013 до 2016, итого: 3 лет\n",
      " Игровая платформа 3DS существовала с 2011 до 2016, итого: 5 лет\n",
      " Игровая платформа N64 существовала с 1996 до 2001, итого: 5 лет\n",
      " Игровая платформа PS существовала с 1994 до 2003, итого: 9 лет\n",
      " Игровая платформа XB существовала с 2000 до 2008, итого: 8 лет\n",
      " Игровая платформа PC существовала с 1992 до 2016, итого: 24 лет\n",
      " Игровая платформа 2600 существовала с 1980 до 1989, итого: 9 лет\n",
      " Игровая платформа PSP существовала с 2004 до 2013, итого: 9 лет\n",
      " Игровая платформа XOne существовала с 2013 до 2016, итого: 3 лет\n",
      " Игровая платформа WiiU существовала с 2012 до 2016, итого: 4 лет\n",
      " Игровая платформа GC существовала с 2001 до 2007, итого: 6 лет\n",
      " Игровая платформа GEN существовала с 1990 до 1994, итого: 4 лет\n",
      " Игровая платформа DC существовала с 1998 до 2002, итого: 4 лет\n",
      " Игровая платформа PSV существовала с 2011 до 2016, итого: 5 лет\n",
      " Игровая платформа SAT существовала с 1994 до 1998, итого: 4 лет\n",
      " Игровая платформа WS существовала с 1999 до 2001, итого: 2 лет\n",
      " Игровая платформа NG существовала с 1993 до 1995, итого: 2 лет\n"
     ]
    }
   ],
   "source": [
    "for platform in games['platform'].unique():\n",
    "    minimum = games[(games['platform'] == platform)&(games['total_sales'] >= 0.1)]['year_of_release'].min()\n",
    "    maximum = games[(games['platform'] == platform)&(games['total_sales'] >= 0.1)]['year_of_release'].max()\n",
    "    if platform in games['platform'].unique() and maximum - minimum >1:\n",
    "        print(f' Игровая платформа {platform} существовала с {minimum} до {maximum}, итого: {maximum - minimum} лет' )"
   ]
  },
  {
   "cell_type": "markdown",
   "metadata": {},
   "source": [
    "Таким образом, в среднем игровая платформа живет 10 лет. Игровые компании осуществляют обновление своего продукта с периодичностью примерно в 6-7 лет, при этом после выпуска новой линейки приставок последующие 3-4 года старое поколение остается на поддержке и постепенно выводится из оборота. Часть игр выпускается как для новой версии платформы так и для старой."
   ]
  },
  {
   "cell_type": "markdown",
   "metadata": {},
   "source": [
    "***Выберем актуальный период, за который мы будем оценивать наши данные и строить предсказательные модели на 2017 год.***\n",
    "\n",
    "По моему мнению актуальным является период начиная с 2013 года, т.к. в этот период вышли уже все популярные платформы и по ним всем есть данные. Рынок видеоигр динамично развивается и для составления прогноза на 2017 г. оптимально взять для анализа предыдущие 3 года.\n",
    "\n",
    "Для дальнейшего анализа сделаем акцент на самых прибыльных и интересных с точки зрения прогнозирования платформах, это - PS, XBox и DS."
   ]
  },
  {
   "cell_type": "code",
   "execution_count": 29,
   "metadata": {},
   "outputs": [
    {
     "data": {
      "image/png": "[encoded data removed]",
      "text/plain": [
       "<Figure size 1080x504 with 1 Axes>"
      ]
     },
     "metadata": {
      "needs_background": "light"
     },
     "output_type": "display_data"
    }
   ],
   "source": [
    "# Построим график распределения по годам с 2013 по 2016 (актуальный период)\n",
    "data = games.query(\"year_of_release >=2013 and platform == ['XOne', 'X360', 'PS4', 'PS3', '3DS']\")\n",
    "data.pivot_table(index='year_of_release', \n",
    "                 columns = 'platform', \n",
    "                 values='total_sales', \n",
    "                 aggfunc='sum')\\\n",
    ".plot(grid=True, figsize=(15, 7), style='-o')\n",
    "plt.xlabel('Год реализации')\n",
    "plt.ylabel('Продажи экземпляров (млн.)')\n",
    "plt.show()"
   ]
  },
  {
   "cell_type": "markdown",
   "metadata": {},
   "source": [
    "На конец 2016 года по продажам лидируют платформы PS4, XОne и 3DS.\n",
    "Надо сказать, что исходя из данных, количество продаж игр, выпущенных на каждую из этих платформ, снижается. Да и в целом, глядя на график, можно сказать, что весь рынок игр идет на снижение."
   ]
  },
  {
   "cell_type": "markdown",
   "metadata": {},
   "source": [
    "#### Построим график «ящик с усами» по глобальным продажам игр в разбивке по платформам."
   ]
  },
  {
   "cell_type": "code",
   "execution_count": 30,
   "metadata": {},
   "outputs": [
    {
     "data": {
      "text/html": [
       "<div>\n",
       "<style scoped>\n",
       "    .dataframe tbody tr th:only-of-type {\n",
       "        vertical-align: middle;\n",
       "    }\n",
       "\n",
       "    .dataframe tbody tr th {\n",
       "        vertical-align: top;\n",
       "    }\n",
       "\n",
       "    .dataframe thead th {\n",
       "        text-align: right;\n",
       "    }\n",
       "</style>\n",
       "<table border=\"1\" class=\"dataframe\">\n",
       "  <thead>\n",
       "    <tr style=\"text-align: right;\">\n",
       "      <th></th>\n",
       "      <th>count</th>\n",
       "      <th>mean</th>\n",
       "      <th>std</th>\n",
       "      <th>min</th>\n",
       "      <th>25%</th>\n",
       "      <th>50%</th>\n",
       "      <th>75%</th>\n",
       "      <th>max</th>\n",
       "    </tr>\n",
       "    <tr>\n",
       "      <th>platform</th>\n",
       "      <th></th>\n",
       "      <th></th>\n",
       "      <th></th>\n",
       "      <th></th>\n",
       "      <th></th>\n",
       "      <th></th>\n",
       "      <th></th>\n",
       "      <th></th>\n",
       "    </tr>\n",
       "  </thead>\n",
       "  <tbody>\n",
       "    <tr>\n",
       "      <th>3DS</th>\n",
       "      <td>303.0</td>\n",
       "      <td>0.472772</td>\n",
       "      <td>1.381347</td>\n",
       "      <td>0.01</td>\n",
       "      <td>0.04</td>\n",
       "      <td>0.090</td>\n",
       "      <td>0.280</td>\n",
       "      <td>14.60</td>\n",
       "    </tr>\n",
       "    <tr>\n",
       "      <th>PS3</th>\n",
       "      <td>345.0</td>\n",
       "      <td>0.525884</td>\n",
       "      <td>1.451939</td>\n",
       "      <td>0.01</td>\n",
       "      <td>0.04</td>\n",
       "      <td>0.150</td>\n",
       "      <td>0.510</td>\n",
       "      <td>21.05</td>\n",
       "    </tr>\n",
       "    <tr>\n",
       "      <th>PS4</th>\n",
       "      <td>392.0</td>\n",
       "      <td>0.801378</td>\n",
       "      <td>1.609456</td>\n",
       "      <td>0.01</td>\n",
       "      <td>0.06</td>\n",
       "      <td>0.200</td>\n",
       "      <td>0.730</td>\n",
       "      <td>14.63</td>\n",
       "    </tr>\n",
       "    <tr>\n",
       "      <th>X360</th>\n",
       "      <td>186.0</td>\n",
       "      <td>0.735484</td>\n",
       "      <td>1.663275</td>\n",
       "      <td>0.01</td>\n",
       "      <td>0.08</td>\n",
       "      <td>0.265</td>\n",
       "      <td>0.795</td>\n",
       "      <td>16.27</td>\n",
       "    </tr>\n",
       "    <tr>\n",
       "      <th>XOne</th>\n",
       "      <td>247.0</td>\n",
       "      <td>0.645020</td>\n",
       "      <td>1.036139</td>\n",
       "      <td>0.01</td>\n",
       "      <td>0.06</td>\n",
       "      <td>0.220</td>\n",
       "      <td>0.685</td>\n",
       "      <td>7.39</td>\n",
       "    </tr>\n",
       "  </tbody>\n",
       "</table>\n",
       "</div>"
      ],
      "text/plain": [
       "          count      mean       std   min   25%    50%    75%    max\n",
       "platform                                                            \n",
       "3DS       303.0  0.472772  1.381347  0.01  0.04  0.090  0.280  14.60\n",
       "PS3       345.0  0.525884  1.451939  0.01  0.04  0.150  0.510  21.05\n",
       "PS4       392.0  0.801378  1.609456  0.01  0.06  0.200  0.730  14.63\n",
       "X360      186.0  0.735484  1.663275  0.01  0.08  0.265  0.795  16.27\n",
       "XOne      247.0  0.645020  1.036139  0.01  0.06  0.220  0.685   7.39"
      ]
     },
     "execution_count": 30,
     "metadata": {},
     "output_type": "execute_result"
    }
   ],
   "source": [
    "data.groupby('platform')['total_sales'].describe()"
   ]
  },
  {
   "cell_type": "code",
   "execution_count": 31,
   "metadata": {},
   "outputs": [
    {
     "data": {
      "image/png": "[encoded data removed]",
      "text/plain": [
       "<Figure size 1080x576 with 1 Axes>"
      ]
     },
     "metadata": {
      "needs_background": "light"
     },
     "output_type": "display_data"
    }
   ],
   "source": [
    "plt.figure(figsize=(15,8))\n",
    "sns.boxplot(x='platform', y='total_sales', data=data)\n",
    "plt.title('Диаграммы размаха по платформам', fontsize=20)\n",
    "plt.xlabel('Платформа',fontsize=10)\n",
    "plt.ylabel('Продажи экземпляров (млн.)',fontsize=10)\n",
    "plt.grid(axis='y')\n",
    "plt.ylim(0,3)\n",
    "plt.show()"
   ]
  },
  {
   "cell_type": "markdown",
   "metadata": {},
   "source": [
    "В среднем, выручка с продажи игр составляет около 1,1 млн долларов.\n",
    "Медиана по лидирующим платформам находится в диапазоне от 0,12 до 0,17 млн долларов прибыли за игру.\n",
    "Среди всех платформ выделяется Nintendo DS - у него показатели продаж сильно ниже всех остальных. Медиана < 0,1 млн долларов, верхняя граница - 0,5 млн."
   ]
  },
  {
   "cell_type": "markdown",
   "metadata": {},
   "source": [
    "#### Влияние на продажи платформы отзывов пользователей и критиков"
   ]
  },
  {
   "cell_type": "markdown",
   "metadata": {},
   "source": [
    "За образец возьмем PS4 - она давно на рынке, по ней достаточно данных и на конец 2016 года она является одной из самых популярных игровых платформ."
   ]
  },
  {
   "cell_type": "markdown",
   "metadata": {},
   "source": [
    "***Как влияют на продажи платформы отзывы критиков:***"
   ]
  },
  {
   "cell_type": "code",
   "execution_count": 32,
   "metadata": {},
   "outputs": [],
   "source": [
    "game_ps4 = data[(data['platform'] == 'PS4') & (data['critic_score'] != -1)]"
   ]
  },
  {
   "cell_type": "code",
   "execution_count": 33,
   "metadata": {},
   "outputs": [
    {
     "data": {
      "image/png": "[encoded data removed]",
      "text/plain": [
       "<Figure size 720x432 with 1 Axes>"
      ]
     },
     "metadata": {
      "needs_background": "light"
     },
     "output_type": "display_data"
    }
   ],
   "source": [
    "game_ps4.plot(kind='scatter', \n",
    "              x='critic_score', \n",
    "              y='total_sales',\n",
    "              alpha=0.5, \n",
    "              figsize=(10,6), \n",
    "              grid=True,\n",
    "              title = 'Корреляция между суммарными продажами и отзывами критиков')\n",
    "plt.show()"
   ]
  },
  {
   "cell_type": "markdown",
   "metadata": {},
   "source": [
    "На графике мы видим слабую зависимость. С увеличением среднего рейтинга критиков средний уровень продаж игр немного увеличивается. Чем больше обзоров и высоких оценок у игры, тем больше денег она приносит разработчику."
   ]
  },
  {
   "cell_type": "markdown",
   "metadata": {},
   "source": [
    "***Как влияют на продажи платформы отзывы пользователей:***"
   ]
  },
  {
   "cell_type": "code",
   "execution_count": 34,
   "metadata": {},
   "outputs": [],
   "source": [
    "game_ps4 = data[(data['platform'] == 'PS4') & (data['user_score'] != -1)]"
   ]
  },
  {
   "cell_type": "code",
   "execution_count": 35,
   "metadata": {},
   "outputs": [
    {
     "data": {
      "image/png": "[encoded data removed]",
      "text/plain": [
       "<Figure size 720x432 with 1 Axes>"
      ]
     },
     "metadata": {
      "needs_background": "light"
     },
     "output_type": "display_data"
    }
   ],
   "source": [
    "game_ps4.plot(kind='scatter', \n",
    "              x='user_score', \n",
    "              y='total_sales', \n",
    "              alpha=0.5, \n",
    "              figsize=(10,6), \n",
    "              grid=True,\n",
    "              title = 'Корреляция между суммарными продажами и отзывами пользователей')\n",
    "plt.show()"
   ]
  },
  {
   "cell_type": "markdown",
   "metadata": {},
   "source": [
    "На диаграмме видим похожую картину как и в случае с отзывами критиков."
   ]
  },
  {
   "cell_type": "markdown",
   "metadata": {},
   "source": [
    "***Посмотрим на корреляцию между отзывами и продажами***"
   ]
  },
  {
   "cell_type": "code",
   "execution_count": 36,
   "metadata": {},
   "outputs": [
    {
     "data": {
      "image/png": "[encoded data removed]",
      "text/plain": [
       "<Figure size 648x648 with 2 Axes>"
      ]
     },
     "metadata": {
      "needs_background": "light"
     },
     "output_type": "display_data"
    }
   ],
   "source": [
    "plt.figure(figsize=(9,9))\n",
    "sns.heatmap(game_ps4.corr(), annot=True, cmap=\"YlOrBr\", fmt='.2f', annot_kws={'size':16})\n",
    "plt.show()"
   ]
  },
  {
   "cell_type": "code",
   "execution_count": 37,
   "metadata": {},
   "outputs": [],
   "source": [
    "game_ps4_filtered = game_ps4[['total_sales' ,'critic_score', 'user_score']]"
   ]
  },
  {
   "cell_type": "code",
   "execution_count": 38,
   "metadata": {},
   "outputs": [
    {
     "data": {
      "text/html": [
       "<div>\n",
       "<style scoped>\n",
       "    .dataframe tbody tr th:only-of-type {\n",
       "        vertical-align: middle;\n",
       "    }\n",
       "\n",
       "    .dataframe tbody tr th {\n",
       "        vertical-align: top;\n",
       "    }\n",
       "\n",
       "    .dataframe thead th {\n",
       "        text-align: right;\n",
       "    }\n",
       "</style>\n",
       "<table border=\"1\" class=\"dataframe\">\n",
       "  <thead>\n",
       "    <tr style=\"text-align: right;\">\n",
       "      <th></th>\n",
       "      <th>total_sales</th>\n",
       "    </tr>\n",
       "  </thead>\n",
       "  <tbody>\n",
       "    <tr>\n",
       "      <th>total_sales</th>\n",
       "      <td>1.000000</td>\n",
       "    </tr>\n",
       "    <tr>\n",
       "      <th>critic_score</th>\n",
       "      <td>0.350407</td>\n",
       "    </tr>\n",
       "    <tr>\n",
       "      <th>user_score</th>\n",
       "      <td>-0.031957</td>\n",
       "    </tr>\n",
       "  </tbody>\n",
       "</table>\n",
       "</div>"
      ],
      "text/plain": [
       "              total_sales\n",
       "total_sales      1.000000\n",
       "critic_score     0.350407\n",
       "user_score      -0.031957"
      ]
     },
     "execution_count": 38,
     "metadata": {},
     "output_type": "execute_result"
    }
   ],
   "source": [
    "game_ps4_filtered.corr()[['total_sales']].sort_values(by='total_sales', ascending=False)"
   ]
  },
  {
   "cell_type": "markdown",
   "metadata": {},
   "source": [
    "Таким образом, стоимость игр имеет слабую зависимость от оценки критиков (коэффициент Пирсона 0,4). А оценки пользователей вовсе не влияют продажи игр."
   ]
  },
  {
   "cell_type": "markdown",
   "metadata": {},
   "source": [
    "***Соотнесем выводы с продажами игр на других платформах***"
   ]
  },
  {
   "cell_type": "code",
   "execution_count": 39,
   "metadata": {},
   "outputs": [
    {
     "data": {
      "image/png": "[encoded data removed]",
      "text/plain": [
       "<Figure size 1080x612 with 12 Axes>"
      ]
     },
     "metadata": {
      "needs_background": "light"
     },
     "output_type": "display_data"
    }
   ],
   "source": [
    "popular_platforms = ['XOne', 'X360', 'PS4', 'PS3', '3DS', 'Wii']\n",
    "\n",
    "rows = len(popular_platforms)//2\n",
    "cols = 2\n",
    "fig, axes = plt.subplots(rows, cols, figsize=(15,8.5))\n",
    "count = 0\n",
    "for r in range(rows):\n",
    "    for c in range(cols):\n",
    "        choose_platform = popular_platforms[count]\n",
    "        df_prepare = games[(games['platform'] == choose_platform) & (games['user_score'] != -1)].copy()\n",
    "        \n",
    "        df_filtered = df_prepare[['total_sales' ,'critic_score', 'user_score']]\n",
    "        sns.set(font_scale=1.0)\n",
    "        ax = sns.heatmap(df_filtered.corr()[['total_sales']].sort_values(by='total_sales', ascending=False), \n",
    "                         cmap=\"YlOrBr\", annot=True, annot_kws={'size':15}, ax=axes[r,c])\n",
    "        ax.set_title(choose_platform, fontsize=20)\n",
    "        ax.set_yticklabels(ax.get_yticklabels(), rotation=0)\n",
    "        plt.tight_layout(pad=3)\n",
    "        count += 1"
   ]
  },
  {
   "cell_type": "markdown",
   "metadata": {},
   "source": [
    "Выше всего корреляция между продажами и оценкой критиков у платформ XOne, X360, PS3, PS4. Корреляция между продажами и оценкой пользователей имеет очень слабую зависимость практически везде. На общем фоне выделяется платформа Wii по которым зависимость в обоих случаях слабая."
   ]
  },
  {
   "cell_type": "markdown",
   "metadata": {},
   "source": [
    "#### Общее распределение игр по жанрам"
   ]
  },
  {
   "cell_type": "code",
   "execution_count": 40,
   "metadata": {},
   "outputs": [
    {
     "data": {
      "image/png": "[encoded data removed]",
      "text/plain": [
       "<Figure size 1080x360 with 1 Axes>"
      ]
     },
     "metadata": {},
     "output_type": "display_data"
    }
   ],
   "source": [
    "ax = plt.gca()\n",
    "\n",
    "pivot = data.groupby('genre').agg({'name': 'count', 'total_sales': 'sum'}).sort_values(by='name', ascending=False)\n",
    "\n",
    "plot1 = pivot['name']\n",
    "plot1.plot(kind='bar', figsize=(15,5), ec='black', ax=ax, width=0.2, position=1)\n",
    "\n",
    "plot2 = pivot['total_sales']\n",
    "plot2.plot(kind='bar', figsize=(15,5), ec='black', ax=ax, width=0.2, color='#8EBA42', position=0)\n",
    "\n",
    "ax.legend(['Количество продаж', 'Общая сумма продаж'])\n",
    "plt.show()"
   ]
  },
  {
   "cell_type": "markdown",
   "metadata": {},
   "source": [
    "Самые популярные жанры игр: Action, Role-Playing, Sports, Shooter."
   ]
  },
  {
   "cell_type": "markdown",
   "metadata": {},
   "source": [
    "Менее популярными жанрами являются: Adventure, Simulation, Racing, Fighting, Misc, Platform. Strategy и Puzzle имеют самое маленькое количество проданных копий и самую маленькую сумму выручки, можно сказать не сильно пользуются спросом. Но надо сказать, что производство игр, которые мы выделили как \"популярные\" и требуют больше затрат на создание по сравнению с остальными.\n",
    "\n",
    "Также можно заметить, что совсем небольшую вырычку с продаж приносят игры в жанре Adventure, а количество проданных копий достаточно высокое."
   ]
  },
  {
   "cell_type": "code",
   "execution_count": 41,
   "metadata": {},
   "outputs": [
    {
     "data": {
      "text/html": [
       "<div>\n",
       "<style scoped>\n",
       "    .dataframe tbody tr th:only-of-type {\n",
       "        vertical-align: middle;\n",
       "    }\n",
       "\n",
       "    .dataframe tbody tr th {\n",
       "        vertical-align: top;\n",
       "    }\n",
       "\n",
       "    .dataframe thead tr th {\n",
       "        text-align: left;\n",
       "    }\n",
       "</style>\n",
       "<table border=\"1\" class=\"dataframe\">\n",
       "  <thead>\n",
       "    <tr>\n",
       "      <th></th>\n",
       "      <th>genre</th>\n",
       "      <th>sum</th>\n",
       "      <th>mean</th>\n",
       "      <th>median</th>\n",
       "      <th>count</th>\n",
       "    </tr>\n",
       "    <tr>\n",
       "      <th></th>\n",
       "      <th></th>\n",
       "      <th>total_sales</th>\n",
       "      <th>total_sales</th>\n",
       "      <th>total_sales</th>\n",
       "      <th>total_sales</th>\n",
       "    </tr>\n",
       "  </thead>\n",
       "  <tbody>\n",
       "    <tr>\n",
       "      <th>8</th>\n",
       "      <td>Shooter</td>\n",
       "      <td>216.22</td>\n",
       "      <td>1.491172</td>\n",
       "      <td>0.620</td>\n",
       "      <td>145</td>\n",
       "    </tr>\n",
       "    <tr>\n",
       "      <th>10</th>\n",
       "      <td>Sports</td>\n",
       "      <td>142.48</td>\n",
       "      <td>0.838118</td>\n",
       "      <td>0.365</td>\n",
       "      <td>170</td>\n",
       "    </tr>\n",
       "    <tr>\n",
       "      <th>7</th>\n",
       "      <td>Role-Playing</td>\n",
       "      <td>127.83</td>\n",
       "      <td>0.694728</td>\n",
       "      <td>0.180</td>\n",
       "      <td>184</td>\n",
       "    </tr>\n",
       "    <tr>\n",
       "      <th>0</th>\n",
       "      <td>Action</td>\n",
       "      <td>285.96</td>\n",
       "      <td>0.548868</td>\n",
       "      <td>0.140</td>\n",
       "      <td>521</td>\n",
       "    </tr>\n",
       "    <tr>\n",
       "      <th>6</th>\n",
       "      <td>Racing</td>\n",
       "      <td>31.46</td>\n",
       "      <td>0.491563</td>\n",
       "      <td>0.180</td>\n",
       "      <td>64</td>\n",
       "    </tr>\n",
       "    <tr>\n",
       "      <th>4</th>\n",
       "      <td>Platform</td>\n",
       "      <td>22.88</td>\n",
       "      <td>0.486809</td>\n",
       "      <td>0.240</td>\n",
       "      <td>47</td>\n",
       "    </tr>\n",
       "    <tr>\n",
       "      <th>3</th>\n",
       "      <td>Misc</td>\n",
       "      <td>43.57</td>\n",
       "      <td>0.444592</td>\n",
       "      <td>0.130</td>\n",
       "      <td>98</td>\n",
       "    </tr>\n",
       "    <tr>\n",
       "      <th>2</th>\n",
       "      <td>Fighting</td>\n",
       "      <td>27.91</td>\n",
       "      <td>0.443016</td>\n",
       "      <td>0.150</td>\n",
       "      <td>63</td>\n",
       "    </tr>\n",
       "    <tr>\n",
       "      <th>9</th>\n",
       "      <td>Simulation</td>\n",
       "      <td>13.05</td>\n",
       "      <td>0.372857</td>\n",
       "      <td>0.100</td>\n",
       "      <td>35</td>\n",
       "    </tr>\n",
       "    <tr>\n",
       "      <th>1</th>\n",
       "      <td>Adventure</td>\n",
       "      <td>18.59</td>\n",
       "      <td>0.169000</td>\n",
       "      <td>0.060</td>\n",
       "      <td>110</td>\n",
       "    </tr>\n",
       "    <tr>\n",
       "      <th>5</th>\n",
       "      <td>Puzzle</td>\n",
       "      <td>1.79</td>\n",
       "      <td>0.162727</td>\n",
       "      <td>0.070</td>\n",
       "      <td>11</td>\n",
       "    </tr>\n",
       "    <tr>\n",
       "      <th>11</th>\n",
       "      <td>Strategy</td>\n",
       "      <td>3.20</td>\n",
       "      <td>0.128000</td>\n",
       "      <td>0.080</td>\n",
       "      <td>25</td>\n",
       "    </tr>\n",
       "  </tbody>\n",
       "</table>\n",
       "</div>"
      ],
      "text/plain": [
       "           genre         sum        mean      median       count\n",
       "                 total_sales total_sales total_sales total_sales\n",
       "8        Shooter      216.22    1.491172       0.620         145\n",
       "10        Sports      142.48    0.838118       0.365         170\n",
       "7   Role-Playing      127.83    0.694728       0.180         184\n",
       "0         Action      285.96    0.548868       0.140         521\n",
       "6         Racing       31.46    0.491563       0.180          64\n",
       "4       Platform       22.88    0.486809       0.240          47\n",
       "3           Misc       43.57    0.444592       0.130          98\n",
       "2       Fighting       27.91    0.443016       0.150          63\n",
       "9     Simulation       13.05    0.372857       0.100          35\n",
       "1      Adventure       18.59    0.169000       0.060         110\n",
       "5         Puzzle        1.79    0.162727       0.070          11\n",
       "11      Strategy        3.20    0.128000       0.080          25"
      ]
     },
     "execution_count": 41,
     "metadata": {},
     "output_type": "execute_result"
    }
   ],
   "source": [
    "#посмотрим на средние и медианные продажи по жанрам\n",
    "(data.pivot_table(index='genre', values='total_sales', aggfunc=['sum', 'mean', 'median', 'count'])\n",
    " .reset_index().sort_values(('mean', 'total_sales'), ascending=False))"
   ]
  },
  {
   "cell_type": "code",
   "execution_count": 42,
   "metadata": {},
   "outputs": [
    {
     "data": {
      "image/png": "[encoded data removed]",
      "text/plain": [
       "<Figure size 864x648 with 1 Axes>"
      ]
     },
     "metadata": {},
     "output_type": "display_data"
    }
   ],
   "source": [
    "data.groupby('genre')['total_sales'].mean().sort_values(ascending=False)\\\n",
    ".plot(kind='bar',\n",
    "      xlabel='Жанры игр',\n",
    "      ylabel = 'Средние продажи',\n",
    "      figsize=(12,9), \n",
    "      grid=True,\n",
    "      ec='black',\n",
    "      title = 'Средние продажи игр по жанрам')\n",
    "plt.show()"
   ]
  },
  {
   "cell_type": "markdown",
   "metadata": {},
   "source": [
    "Игры жанра Shooter абсолютные лидеры по средним продажам. А жанр Action в свою очередь является лидероми по валовым продажам, но по медианым продажам уступают жанрам Shooter, Sports и Role-Playing.\n",
    "\n",
    "Жанры Strategy и Puzzle имеют самое низкое колличество средних продаж."
   ]
  },
  {
   "cell_type": "markdown",
   "metadata": {},
   "source": [
    "## Шаг 4. Портрет пользователя каждого региона (NA, EU, JP)"
   ]
  },
  {
   "cell_type": "markdown",
   "metadata": {},
   "source": [
    "### Самые популярные платформы (топ-5). "
   ]
  },
  {
   "cell_type": "code",
   "execution_count": 43,
   "metadata": {},
   "outputs": [],
   "source": [
    "def regions_plot(groupby, region_sales, ax):\n",
    "    pivot = data.groupby(groupby).agg({region_sales: 'sum'}).sort_values(by=region_sales, ascending=False)[:5]\n",
    "    title_dict = {'na_sales': 'North America', 'eu_sales': 'Europe', 'jp_sales': 'Japan'}\n",
    "    color_dict = {'na_sales': 'red', 'eu_sales': 'blue', 'jp_sales': 'forestgreen'}\n",
    "    plot = pivot.plot(kind='bar', ec='black', title=title_dict[region_sales], ax=axes[ax], \n",
    "                   fontsize=18, color=color_dict[region_sales], rot=20)\n",
    "    plot.legend(prop={'size':17})\n",
    "    plot.title.set_size(20)"
   ]
  },
  {
   "cell_type": "code",
   "execution_count": 44,
   "metadata": {},
   "outputs": [
    {
     "data": {
      "image/png": "[encoded data removed]",
      "text/plain": [
       "<Figure size 1800x432 with 3 Axes>"
      ]
     },
     "metadata": {},
     "output_type": "display_data"
    }
   ],
   "source": [
    "fig, axes = plt.subplots(1, 3, figsize=(25,6))\n",
    "regions_plot('platform', 'na_sales', 0)\n",
    "regions_plot('platform', 'eu_sales', 1)\n",
    "regions_plot('platform', 'jp_sales', 2)"
   ]
  },
  {
   "cell_type": "markdown",
   "metadata": {},
   "source": [
    "В Северной Америке популярны приставки PS4, XOne и X360. Чуть менее популярны PS3 и 3DS.\n",
    "\n",
    "В Европе самая высокая популярность у PS4. За ней идут PS3, XOne, X360 и 3DS.\n",
    "\n",
    "В Японии абсолютный лидер - 3DS. За ними американские PS3 и PS4. XOne и X360 составляют мизерную долю."
   ]
  },
  {
   "cell_type": "markdown",
   "metadata": {},
   "source": [
    "### Самые популярные жанры (топ-5)"
   ]
  },
  {
   "cell_type": "code",
   "execution_count": 45,
   "metadata": {},
   "outputs": [
    {
     "data": {
      "image/png": "[encoded data removed]",
      "text/plain": [
       "<Figure size 1800x432 with 3 Axes>"
      ]
     },
     "metadata": {},
     "output_type": "display_data"
    }
   ],
   "source": [
    "fig, axes = plt.subplots(1, 3, figsize=(25,6))\n",
    "\n",
    "regions_plot('genre', 'na_sales', 0)\n",
    "regions_plot('genre', 'eu_sales', 1)\n",
    "regions_plot('genre', 'jp_sales', 2)"
   ]
  },
  {
   "cell_type": "markdown",
   "metadata": {},
   "source": [
    "Вкусы пользователей в Северной Америке и Европе практически идентичны, самый популярный жанр - Action, второе место занимает Shooter, на третьем месте игры в жанре Sports.\n",
    "\n",
    "Для японских пользователей наибольший интерес вызывают игры жанров Role-Playing и Action, остальные жанры пользуются гораздо меньшей популярностью, и распределены равномерно."
   ]
  },
  {
   "cell_type": "markdown",
   "metadata": {},
   "source": [
    "### Влияние рейтинга ESRB на продажи в отдельном регионе"
   ]
  },
  {
   "cell_type": "code",
   "execution_count": 46,
   "metadata": {},
   "outputs": [
    {
     "data": {
      "image/png": "[encoded data removed]",
      "text/plain": [
       "<Figure size 1800x432 with 3 Axes>"
      ]
     },
     "metadata": {},
     "output_type": "display_data"
    }
   ],
   "source": [
    "fig, axes = plt.subplots(1, 3, figsize=(25,6))\n",
    "regions_plot('rating', 'na_sales', 0)\n",
    "regions_plot('rating', 'eu_sales', 1)\n",
    "regions_plot('rating', 'jp_sales', 2)"
   ]
  },
  {
   "cell_type": "markdown",
   "metadata": {},
   "source": [
    "Напомним себе значения категорий:\n",
    "- E(«Everyone») - подходит для всех возрастных категорий. \n",
    "- E 10+ («Everyone 10 and older») -  подходит для лиц старше 10 лет.\n",
    "- T(«Teen») - подходит для лиц старше 13 лет. \n",
    "- M(«Mature») - подходит для лиц старше 17 лет. \n",
    "- Unknown - без категории."
   ]
  },
  {
   "cell_type": "markdown",
   "metadata": {},
   "source": [
    "Американцы и Европейцы больше всего они играю в игры с рейтингом \"М\" для лиц старше 17 лет (~160 и ~130 млн копий), на втором и третьем месте игры с неизвестным рейтингом и подходящие для всех возрастных категорий (около 80 млн копий), они одинаково популярны. Наименьший из всех спрос имеют игры с рейтингом \"Е10+\" и \"Т\".\n",
    "\n",
    "В Японии пользователи в большинстве играют в игры, у которых вообще отсутствует рейтинг (около 70 млн), далее идет рейтинг \"Т\" (~16 млн копий), и рейтинги \"М\" и \"Е\" (по ~17 млн копий), игры для детей старше 10 лет имеют самый низкий спрос."
   ]
  },
  {
   "cell_type": "markdown",
   "metadata": {},
   "source": [
    "**Влияет ли рейтинг ESRB на продажи в отдельном регионе?**\n",
    "\n",
    "Да, такое влияние прослежвается и его видно на графиках. Исключением является регион - Япония, там суммарные продажи у игр без рейтинга гораздо выше по сравнению с остальными."
   ]
  },
  {
   "cell_type": "markdown",
   "metadata": {},
   "source": [
    "**Портрет пользователя каждого региона:**\n",
    "\n",
    "У пользователей в Северной Америке популярны приставки PS4, XOne и X360. Чуть менее популярны PS3 и 3DS. Любимые жанры игр для них, это Action игры, шутеры и спортивные игры. В меньшей степени, но все же вызывает интерес игры в жанре Role-Playing. Отдает предпочтение играм с рейтингом \"М\".\n",
    "\n",
    "В Европе одинаково самая высокая популярность у PS4. За ней идут PS3, XOne, X360 и 3DS. Вкусы касательно жанров игр и рейтингов схожи с Европейцем.\n",
    "\n",
    "Японский пользователь предпочитает игровую приставку 3DS, а также в меньшей степени американские PS3 и PS4 и в основном играет Role-playing игры или в Action, больше всего игры без рейтинга.\n",
    "\n",
    "Самыми не популярными жанрами для всех пользователей являются игры в жанре Puzzle и Strategy."
   ]
  },
  {
   "cell_type": "markdown",
   "metadata": {},
   "source": [
    "## Шаг 5. Проверка гипотез"
   ]
  },
  {
   "cell_type": "markdown",
   "metadata": {},
   "source": [
    "Гипотеза, которую нужно проверить: **\"Средние пользовательские рейтинги платформ Xbox One и PC одинаковые\".**"
   ]
  },
  {
   "cell_type": "markdown",
   "metadata": {},
   "source": [
    "В данном случае нам необходимо проверить есть ли статистически значимое различие между средними значениями генеральных совокупностей пользовательских рейтингов двух игровых платформ. Для проверки гипотезы будем использовать метод scipy.stats.ttest_ind(). "
   ]
  },
  {
   "cell_type": "code",
   "execution_count": 47,
   "metadata": {},
   "outputs": [
    {
     "name": "stdout",
     "output_type": "stream",
     "text": [
      "p-value: 1.3037913196764757e-05\n",
      "Отвергаем нулевую гипотезу\n"
     ]
    }
   ],
   "source": [
    "xbox_one = games[(games['platform']=='XOne') & (games['user_score'] != -1)]['user_score']\n",
    "ps = games[(games['platform']=='PC') & (games['user_score']!=-1)]['user_score']\n",
    "\n",
    "alpha = 0.05\n",
    "\n",
    "results = st.ttest_ind(xbox_one, ps)\n",
    "\n",
    "print(f'p-value: {results.pvalue}')\n",
    "\n",
    "if (results.pvalue < alpha):\n",
    "    print('Отвергаем нулевую гипотезу')\n",
    "else:\n",
    "    print('Нет оснований отвергнуть нулевую гипотезу')"
   ]
  },
  {
   "cell_type": "markdown",
   "metadata": {},
   "source": [
    "Таким образом, средние пользовательские рейтинги платформ Xbox One и PC отличаются между собой."
   ]
  },
  {
   "cell_type": "markdown",
   "metadata": {},
   "source": [
    "Гипотеза, которую нужно проверить: **Средние пользовательские рейтинги жанров Action (англ. «действие», экшен-игры) и Sports (англ. «спортивные соревнования») разные.**"
   ]
  },
  {
   "cell_type": "markdown",
   "metadata": {},
   "source": [
    "Сформулируем гипотезы:\n",
    "\n",
    "- H0: Средние пользовательские рейтинги жанров Action и Sports одинаковые.\n",
    "- H1: Средние пользовательские рейтинги жанров Action и Sports различаются."
   ]
  },
  {
   "cell_type": "code",
   "execution_count": 48,
   "metadata": {},
   "outputs": [
    {
     "name": "stdout",
     "output_type": "stream",
     "text": [
      "p-value: 0.9013916203894785\n",
      "Нет оснований отвергнуть нулевую гипотезу\n"
     ]
    }
   ],
   "source": [
    "genre_action = games[(games['genre']=='Action') & (games['user_score'] != -1)]['user_score']\n",
    "genre_sports = games[(games['genre']=='Sports') & (games['user_score']!=-1)]['user_score']\n",
    "\n",
    "alpha = 0.05\n",
    "\n",
    "results = st.ttest_ind(genre_action, ps)\n",
    "\n",
    "print(f'p-value: {results.pvalue}')\n",
    "\n",
    "if (results.pvalue < alpha):\n",
    "    print('Отвергаем нулевую гипотезу')\n",
    "else:\n",
    "    print('Нет оснований отвергнуть нулевую гипотезу')"
   ]
  },
  {
   "cell_type": "markdown",
   "metadata": {},
   "source": [
    "Таким образом, остается верным утверждение, что средние пользовательские рейтинги жанров Action и Sports одинаковые."
   ]
  },
  {
   "cell_type": "markdown",
   "metadata": {},
   "source": [
    "## Шаг 6. Общий вывод"
   ]
  },
  {
   "cell_type": "markdown",
   "metadata": {},
   "source": [
    "***Мы проанализировали данные о продажах игр и игровых платформах, провели предобработку данных, исследовательский анализ, проверили некоторые гипотезы.***\n",
    "\n",
    "**В результате предобработки данных:**\n",
    "- Привели названия столбцов к одному регистру;\n",
    "- Обнаружили и удалили пропуски в столбцах: 'name','genre','years_of_release'; \n",
    "- В столбцах 'critic_score', 'user_score' и 'rating' было принято решение не удалять пропуски в виду их большого количеств, а добавить значения заглушки. Также мы изменили значения 'tbd' на NaN для пользовательского рейтинга;\n",
    "- Преобразовали типы данных в столбцах 'year_of_release' и 'user_score';\n",
    "- Добавили новый столбец \"total_sales\", который содержит информацию о суммарной выручке по всему миру;\n",
    "- Проверили данные на дубликаты.\n"
   ]
  },
  {
   "cell_type": "markdown",
   "metadata": {},
   "source": [
    "**Из полученных данных были выявлены следующие наблюдения:**\n",
    "\n",
    "- До 1993 видеоигр практически не было. С 1994 года количество выпускаемых игр стремительно росло с каждым годом вплоть до 2009 года. После кризиса 2008-2009 гг. на рынке был резкий спад. А с 2013 года количество выпускаемых игр стало стабильным и ежегодно держится почти на одном уровне. Можно сделать вывод, что вероятно не стоит ожидать резкого роста количества игр, так как игровая индустрия на сегодняшний день сформирована;\n",
    "\n",
    "- Средний срок жизни игровой платформы - 10 лет, первую половину которых идет плавный рост продаж, а вторую - спад. Игровые компании осуществляют обновление своего продукта с периодичностью примерно в 6-7 лет, при этом после выпуска новой линейки приставок последующие 3-4 года старое поколение остается на поддержке и постепенно выводятся из оборота. Часть игр выпускается как для новой версии платформы так и для старой;\n",
    "\n",
    "- Доминирующее положение в индустрии игровых консолей в течение значительного времени занимают  Sony playstation от Sonу, Xbox от Мicrosoft, а также портативные приставки Nintendo, Wii.Если рассматривать японский рынок, то платформа 3DS в Японии вне конкуренции;\n",
    "\n",
    "- Оценки критиков слабо коррелируют с продажами игр, а оценкой пользователей вообще можно пренебречь, так она практически никак не связана с объемом продаж;\n",
    "\n",
    "- Самые продаваемые игровые жанры - Action, Shooter, Role-Playing и Sports. Однако все иначе на японском рынке, там самые продаваемые жанры: Role-Playing и Action. Самыми не популярными жанрами для всех пользователей являются игры в жанре Puzzle и Strategy.;\n",
    "\n",
    "- Возрастные рейтинги самых популярных игр - M(17+), E(6+), E10(10+) и T(13+). На японском рынке, большая часть всех игр продается без указания возрастного рейтинга ESRB;\n",
    "\n",
    "**Портрет пользователя каждого региона:**\n",
    "\n",
    "- У пользователей в Северной Америке популярны приставки PS4, XOne и X360. Чуть менее популярны PS3 и 3DS. Любимые жанры игр для них, это Action игры, шутеры и спортивные игры. В меньшей степени, но все же вызывает интерес игры в жанре Role-Playing. Отдает предпочтение играм с рейтингом \"М\".\n",
    "\n",
    "- В Европе одинаково самая высокая популярность у PS4. За ней идут PS3, XOne, X360 и 3DS. Вкусы касательно жанров игр и рейтингов схожи с Европейцем.\n",
    "\n",
    "- Японский пользователь предпочитает игровую приставку 3DS, а также в меньшей степени американские PS3 и PS4 и в основном играет Role-playing игры или в Action, больше всего игры без рейтинга.\n",
    "\n",
    "\n",
    "***Проверка гипотез:***\n",
    "- Средние пользовательские рейтинги платформ Xbox One и PC одинаковые;\n",
    "- Средние пользовательские рейтинги жанров Action и Sports различаются.\n"
   ]
  }
 ],
 "metadata": {
  "ExecuteTimeLog": [
   {
    "duration": 1517,
    "start_time": "2023-10-18T03:06:07.409Z"
   },
   {
    "duration": 174,
    "start_time": "2023-10-18T03:06:44.618Z"
   },
   {
    "duration": 52,
    "start_time": "2023-10-18T03:07:10.416Z"
   },
   {
    "duration": 45,
    "start_time": "2023-10-18T03:08:21.298Z"
   },
   {
    "duration": 1224,
    "start_time": "2023-10-18T03:08:27.635Z"
   },
   {
    "duration": 153,
    "start_time": "2023-10-18T03:08:28.862Z"
   },
   {
    "duration": 110,
    "start_time": "2023-10-18T03:09:34.343Z"
   },
   {
    "duration": 111,
    "start_time": "2023-10-18T03:10:34.030Z"
   },
   {
    "duration": 1549,
    "start_time": "2023-10-18T03:11:02.315Z"
   },
   {
    "duration": 197,
    "start_time": "2023-10-18T03:11:03.866Z"
   },
   {
    "duration": 1394,
    "start_time": "2023-10-18T03:20:14.366Z"
   },
   {
    "duration": 221,
    "start_time": "2023-10-18T03:20:15.762Z"
   },
   {
    "duration": 55,
    "start_time": "2023-10-18T03:20:44.320Z"
   },
   {
    "duration": 83,
    "start_time": "2023-10-18T03:20:58.724Z"
   },
   {
    "duration": 1329,
    "start_time": "2023-10-18T03:21:43.103Z"
   },
   {
    "duration": 281,
    "start_time": "2023-10-18T03:21:44.435Z"
   },
   {
    "duration": 131,
    "start_time": "2023-10-18T03:25:28.956Z"
   },
   {
    "duration": 4,
    "start_time": "2023-10-18T03:26:02.631Z"
   },
   {
    "duration": 11,
    "start_time": "2023-10-18T03:26:12.242Z"
   },
   {
    "duration": 1377,
    "start_time": "2023-10-18T03:46:26.045Z"
   },
   {
    "duration": 272,
    "start_time": "2023-10-18T03:46:27.424Z"
   },
   {
    "duration": 0,
    "start_time": "2023-10-18T03:46:27.701Z"
   },
   {
    "duration": 0,
    "start_time": "2023-10-18T03:46:27.704Z"
   },
   {
    "duration": 46,
    "start_time": "2023-10-18T09:38:33.309Z"
   },
   {
    "duration": 10,
    "start_time": "2023-10-18T09:38:35.585Z"
   },
   {
    "duration": 1387,
    "start_time": "2023-10-18T09:38:42.399Z"
   },
   {
    "duration": 215,
    "start_time": "2023-10-18T09:38:43.788Z"
   },
   {
    "duration": 0,
    "start_time": "2023-10-18T09:38:44.005Z"
   },
   {
    "duration": 0,
    "start_time": "2023-10-18T09:38:44.007Z"
   },
   {
    "duration": 46,
    "start_time": "2023-10-18T09:39:07.548Z"
   },
   {
    "duration": 359,
    "start_time": "2023-10-18T09:39:14.302Z"
   },
   {
    "duration": 114,
    "start_time": "2023-10-18T09:39:14.663Z"
   },
   {
    "duration": 0,
    "start_time": "2023-10-18T09:39:14.779Z"
   },
   {
    "duration": 0,
    "start_time": "2023-10-18T09:39:14.780Z"
   },
   {
    "duration": 43,
    "start_time": "2023-10-18T09:40:24.795Z"
   },
   {
    "duration": 183,
    "start_time": "2023-10-18T09:40:29.360Z"
   },
   {
    "duration": 3,
    "start_time": "2023-10-18T09:40:33.436Z"
   },
   {
    "duration": 32,
    "start_time": "2023-10-18T09:40:34.975Z"
   },
   {
    "duration": 1277,
    "start_time": "2023-10-18T09:41:42.134Z"
   },
   {
    "duration": 68,
    "start_time": "2023-10-18T09:41:43.414Z"
   },
   {
    "duration": 3,
    "start_time": "2023-10-18T09:41:43.484Z"
   },
   {
    "duration": 118,
    "start_time": "2023-10-18T09:41:43.488Z"
   },
   {
    "duration": 1319,
    "start_time": "2023-10-18T09:42:02.904Z"
   },
   {
    "duration": 70,
    "start_time": "2023-10-18T09:42:04.225Z"
   },
   {
    "duration": 4,
    "start_time": "2023-10-18T09:42:04.297Z"
   },
   {
    "duration": 80,
    "start_time": "2023-10-18T09:42:04.303Z"
   },
   {
    "duration": 3,
    "start_time": "2023-10-18T09:43:15.315Z"
   },
   {
    "duration": 4,
    "start_time": "2023-10-18T09:43:16.841Z"
   },
   {
    "duration": 25,
    "start_time": "2023-10-18T09:43:41.449Z"
   },
   {
    "duration": 12,
    "start_time": "2023-10-18T09:44:30.112Z"
   },
   {
    "duration": 10,
    "start_time": "2023-10-18T09:46:14.080Z"
   },
   {
    "duration": 6,
    "start_time": "2023-10-18T09:47:37.312Z"
   },
   {
    "duration": 124,
    "start_time": "2023-10-18T09:49:11.245Z"
   },
   {
    "duration": 11,
    "start_time": "2023-10-18T09:49:25.394Z"
   },
   {
    "duration": 10,
    "start_time": "2023-10-18T09:49:35.062Z"
   },
   {
    "duration": 1208,
    "start_time": "2023-10-18T09:50:10.665Z"
   },
   {
    "duration": 51,
    "start_time": "2023-10-18T09:50:11.875Z"
   },
   {
    "duration": 3,
    "start_time": "2023-10-18T09:50:11.928Z"
   },
   {
    "duration": 44,
    "start_time": "2023-10-18T09:50:11.934Z"
   },
   {
    "duration": 3,
    "start_time": "2023-10-18T09:50:11.979Z"
   },
   {
    "duration": 31,
    "start_time": "2023-10-18T09:50:11.984Z"
   },
   {
    "duration": 13,
    "start_time": "2023-10-18T09:50:12.017Z"
   },
   {
    "duration": 18,
    "start_time": "2023-10-18T09:50:12.031Z"
   },
   {
    "duration": 36,
    "start_time": "2023-10-18T09:50:12.051Z"
   },
   {
    "duration": 28,
    "start_time": "2023-10-18T09:50:12.089Z"
   },
   {
    "duration": 17,
    "start_time": "2023-10-18T09:50:12.119Z"
   },
   {
    "duration": 5,
    "start_time": "2023-10-18T09:50:32.769Z"
   },
   {
    "duration": 16,
    "start_time": "2023-10-18T09:50:52.030Z"
   },
   {
    "duration": 5,
    "start_time": "2023-10-18T09:50:52.705Z"
   },
   {
    "duration": 5,
    "start_time": "2023-10-18T09:51:06.275Z"
   },
   {
    "duration": 5,
    "start_time": "2023-10-18T09:51:52.085Z"
   },
   {
    "duration": 11,
    "start_time": "2023-10-18T09:52:18.657Z"
   },
   {
    "duration": 7,
    "start_time": "2023-10-18T09:52:43.502Z"
   },
   {
    "duration": 26,
    "start_time": "2023-10-18T09:54:24.860Z"
   },
   {
    "duration": 23,
    "start_time": "2023-10-18T09:54:36.187Z"
   },
   {
    "duration": 11,
    "start_time": "2023-10-18T09:55:09.682Z"
   },
   {
    "duration": 59,
    "start_time": "2023-10-18T09:55:20.048Z"
   },
   {
    "duration": 9,
    "start_time": "2023-10-18T09:56:06.826Z"
   },
   {
    "duration": 10,
    "start_time": "2023-10-18T09:56:56.967Z"
   },
   {
    "duration": 6,
    "start_time": "2023-10-18T09:57:14.996Z"
   },
   {
    "duration": 4,
    "start_time": "2023-10-18T09:57:29.755Z"
   },
   {
    "duration": 10,
    "start_time": "2023-10-18T09:58:18.205Z"
   },
   {
    "duration": 33,
    "start_time": "2023-10-18T09:58:28.242Z"
   },
   {
    "duration": 118,
    "start_time": "2023-10-18T09:59:02.166Z"
   },
   {
    "duration": 11,
    "start_time": "2023-10-18T09:59:26.665Z"
   },
   {
    "duration": 14,
    "start_time": "2023-10-18T09:59:35.670Z"
   },
   {
    "duration": 5,
    "start_time": "2023-10-18T10:00:19.454Z"
   },
   {
    "duration": 23,
    "start_time": "2023-10-18T10:00:27.175Z"
   },
   {
    "duration": 13,
    "start_time": "2023-10-18T10:00:36.926Z"
   },
   {
    "duration": 14,
    "start_time": "2023-10-18T10:00:50.590Z"
   },
   {
    "duration": 6,
    "start_time": "2023-10-18T10:03:34.014Z"
   },
   {
    "duration": 427,
    "start_time": "2023-10-18T10:03:48.768Z"
   },
   {
    "duration": 308,
    "start_time": "2023-10-18T10:05:08.979Z"
   },
   {
    "duration": 359,
    "start_time": "2023-10-18T10:07:40.982Z"
   },
   {
    "duration": 161,
    "start_time": "2023-10-18T10:09:59.284Z"
   },
   {
    "duration": 143,
    "start_time": "2023-10-18T10:15:34.860Z"
   },
   {
    "duration": 257,
    "start_time": "2023-10-18T10:17:19.729Z"
   },
   {
    "duration": 29,
    "start_time": "2023-10-18T10:19:00.712Z"
   },
   {
    "duration": 247,
    "start_time": "2023-10-18T10:19:13.317Z"
   },
   {
    "duration": 199,
    "start_time": "2023-10-18T10:19:30.170Z"
   },
   {
    "duration": 231,
    "start_time": "2023-10-18T10:19:37.784Z"
   },
   {
    "duration": 5,
    "start_time": "2023-10-18T10:22:01.803Z"
   },
   {
    "duration": 152,
    "start_time": "2023-10-18T10:22:10.207Z"
   },
   {
    "duration": 4,
    "start_time": "2023-10-18T10:25:44.583Z"
   },
   {
    "duration": 161,
    "start_time": "2023-10-18T10:25:50.611Z"
   },
   {
    "duration": 750,
    "start_time": "2023-10-18T10:26:28.942Z"
   },
   {
    "duration": 3,
    "start_time": "2023-10-18T10:26:44.049Z"
   },
   {
    "duration": 9,
    "start_time": "2023-10-18T10:26:51.853Z"
   },
   {
    "duration": 1733,
    "start_time": "2023-10-18T10:27:35.782Z"
   },
   {
    "duration": 2008,
    "start_time": "2023-10-18T10:31:08.425Z"
   },
   {
    "duration": 253,
    "start_time": "2023-10-18T10:32:32.336Z"
   },
   {
    "duration": 4,
    "start_time": "2023-10-18T10:45:20.715Z"
   },
   {
    "duration": 425,
    "start_time": "2023-10-18T10:46:29.895Z"
   },
   {
    "duration": 5,
    "start_time": "2023-10-18T10:46:40.181Z"
   },
   {
    "duration": 393,
    "start_time": "2023-10-18T10:46:42.440Z"
   },
   {
    "duration": 4,
    "start_time": "2023-10-18T10:53:08.616Z"
   },
   {
    "duration": 473,
    "start_time": "2023-10-18T10:53:10.047Z"
   },
   {
    "duration": 4,
    "start_time": "2023-10-18T10:53:19.801Z"
   },
   {
    "duration": 4,
    "start_time": "2023-10-18T10:53:23.320Z"
   },
   {
    "duration": 595,
    "start_time": "2023-10-18T10:53:24.931Z"
   },
   {
    "duration": 4,
    "start_time": "2023-10-18T10:53:46.271Z"
   },
   {
    "duration": 472,
    "start_time": "2023-10-18T10:53:47.726Z"
   },
   {
    "duration": 4,
    "start_time": "2023-10-18T10:53:58.097Z"
   },
   {
    "duration": 429,
    "start_time": "2023-10-18T10:54:01.112Z"
   },
   {
    "duration": 497,
    "start_time": "2023-10-18T11:03:00.605Z"
   },
   {
    "duration": 421,
    "start_time": "2023-10-18T11:03:58.769Z"
   },
   {
    "duration": 15,
    "start_time": "2023-10-18T11:12:01.403Z"
   },
   {
    "duration": 8,
    "start_time": "2023-10-18T11:13:01.856Z"
   },
   {
    "duration": 15,
    "start_time": "2023-10-18T11:13:09.343Z"
   },
   {
    "duration": 23,
    "start_time": "2023-10-18T11:13:46.942Z"
   },
   {
    "duration": 14,
    "start_time": "2023-10-18T11:15:33.232Z"
   },
   {
    "duration": 89,
    "start_time": "2023-10-18T11:15:42.369Z"
   },
   {
    "duration": 15,
    "start_time": "2023-10-18T12:33:01.751Z"
   },
   {
    "duration": 255,
    "start_time": "2023-10-18T12:37:15.438Z"
   },
   {
    "duration": 188,
    "start_time": "2023-10-18T12:37:39.226Z"
   },
   {
    "duration": 15,
    "start_time": "2023-10-18T12:37:53.016Z"
   },
   {
    "duration": 13,
    "start_time": "2023-10-18T12:37:56.045Z"
   },
   {
    "duration": 305,
    "start_time": "2023-10-18T12:38:11.708Z"
   },
   {
    "duration": 238,
    "start_time": "2023-10-18T12:39:08.932Z"
   },
   {
    "duration": 221,
    "start_time": "2023-10-18T12:39:26.164Z"
   },
   {
    "duration": 50,
    "start_time": "2023-10-19T09:30:31.536Z"
   },
   {
    "duration": 7,
    "start_time": "2023-10-19T09:36:38.019Z"
   },
   {
    "duration": 1472,
    "start_time": "2023-10-19T09:36:46.785Z"
   },
   {
    "duration": 110,
    "start_time": "2023-10-19T09:36:48.259Z"
   },
   {
    "duration": 3,
    "start_time": "2023-10-19T09:36:48.371Z"
   },
   {
    "duration": 40,
    "start_time": "2023-10-19T09:36:48.376Z"
   },
   {
    "duration": 3,
    "start_time": "2023-10-19T09:36:48.417Z"
   },
   {
    "duration": 33,
    "start_time": "2023-10-19T09:36:48.421Z"
   },
   {
    "duration": 14,
    "start_time": "2023-10-19T09:36:48.456Z"
   },
   {
    "duration": 24,
    "start_time": "2023-10-19T09:36:48.471Z"
   },
   {
    "duration": 36,
    "start_time": "2023-10-19T09:36:48.496Z"
   },
   {
    "duration": 12,
    "start_time": "2023-10-19T09:36:48.535Z"
   },
   {
    "duration": 43,
    "start_time": "2023-10-19T09:36:48.549Z"
   },
   {
    "duration": 40,
    "start_time": "2023-10-19T09:36:48.593Z"
   },
   {
    "duration": 77,
    "start_time": "2023-10-19T09:36:48.635Z"
   },
   {
    "duration": 16,
    "start_time": "2023-10-19T09:36:48.717Z"
   },
   {
    "duration": 89,
    "start_time": "2023-10-19T09:36:48.734Z"
   },
   {
    "duration": 54,
    "start_time": "2023-10-19T09:36:48.825Z"
   },
   {
    "duration": 61,
    "start_time": "2023-10-19T09:36:48.881Z"
   },
   {
    "duration": 51,
    "start_time": "2023-10-19T09:36:48.943Z"
   },
   {
    "duration": 34,
    "start_time": "2023-10-19T09:36:48.996Z"
   },
   {
    "duration": 44,
    "start_time": "2023-10-19T09:36:49.032Z"
   },
   {
    "duration": 51,
    "start_time": "2023-10-19T09:36:49.078Z"
   },
   {
    "duration": 157,
    "start_time": "2023-10-19T09:36:49.130Z"
   },
   {
    "duration": 1,
    "start_time": "2023-10-19T09:36:49.289Z"
   },
   {
    "duration": 0,
    "start_time": "2023-10-19T09:36:49.291Z"
   },
   {
    "duration": 0,
    "start_time": "2023-10-19T09:36:49.293Z"
   },
   {
    "duration": 0,
    "start_time": "2023-10-19T09:36:49.306Z"
   },
   {
    "duration": 0,
    "start_time": "2023-10-19T09:36:49.308Z"
   },
   {
    "duration": 0,
    "start_time": "2023-10-19T09:36:49.309Z"
   },
   {
    "duration": 0,
    "start_time": "2023-10-19T09:36:49.310Z"
   },
   {
    "duration": 0,
    "start_time": "2023-10-19T09:36:49.311Z"
   },
   {
    "duration": 0,
    "start_time": "2023-10-19T09:36:49.312Z"
   },
   {
    "duration": 1,
    "start_time": "2023-10-19T09:36:49.313Z"
   },
   {
    "duration": 0,
    "start_time": "2023-10-19T09:36:49.315Z"
   },
   {
    "duration": 0,
    "start_time": "2023-10-19T09:36:49.316Z"
   },
   {
    "duration": 0,
    "start_time": "2023-10-19T09:36:49.319Z"
   },
   {
    "duration": 0,
    "start_time": "2023-10-19T09:36:49.323Z"
   },
   {
    "duration": 0,
    "start_time": "2023-10-19T09:36:49.325Z"
   },
   {
    "duration": 0,
    "start_time": "2023-10-19T09:36:49.327Z"
   },
   {
    "duration": 0,
    "start_time": "2023-10-19T09:36:49.328Z"
   },
   {
    "duration": 0,
    "start_time": "2023-10-19T09:36:49.330Z"
   },
   {
    "duration": 0,
    "start_time": "2023-10-19T09:36:49.332Z"
   },
   {
    "duration": 0,
    "start_time": "2023-10-19T09:36:49.333Z"
   },
   {
    "duration": 0,
    "start_time": "2023-10-19T09:36:49.335Z"
   },
   {
    "duration": 0,
    "start_time": "2023-10-19T09:36:49.337Z"
   },
   {
    "duration": 1,
    "start_time": "2023-10-19T09:36:49.338Z"
   },
   {
    "duration": 0,
    "start_time": "2023-10-19T09:36:49.340Z"
   },
   {
    "duration": 5,
    "start_time": "2023-10-19T09:39:57.673Z"
   },
   {
    "duration": 1319,
    "start_time": "2023-10-19T09:40:06.507Z"
   },
   {
    "duration": 58,
    "start_time": "2023-10-19T09:40:07.829Z"
   },
   {
    "duration": 4,
    "start_time": "2023-10-19T09:40:07.888Z"
   },
   {
    "duration": 47,
    "start_time": "2023-10-19T09:40:07.894Z"
   },
   {
    "duration": 3,
    "start_time": "2023-10-19T09:40:07.944Z"
   },
   {
    "duration": 32,
    "start_time": "2023-10-19T09:40:07.950Z"
   },
   {
    "duration": 28,
    "start_time": "2023-10-19T09:40:07.985Z"
   },
   {
    "duration": 7,
    "start_time": "2023-10-19T09:40:08.015Z"
   },
   {
    "duration": 27,
    "start_time": "2023-10-19T09:40:08.024Z"
   },
   {
    "duration": 15,
    "start_time": "2023-10-19T09:40:08.053Z"
   },
   {
    "duration": 38,
    "start_time": "2023-10-19T09:40:08.069Z"
   },
   {
    "duration": 20,
    "start_time": "2023-10-19T09:40:08.108Z"
   },
   {
    "duration": 77,
    "start_time": "2023-10-19T09:40:08.130Z"
   },
   {
    "duration": 10,
    "start_time": "2023-10-19T09:40:08.211Z"
   },
   {
    "duration": 19,
    "start_time": "2023-10-19T09:40:08.223Z"
   },
   {
    "duration": 8,
    "start_time": "2023-10-19T09:40:08.244Z"
   },
   {
    "duration": 14,
    "start_time": "2023-10-19T09:40:08.253Z"
   },
   {
    "duration": 23,
    "start_time": "2023-10-19T09:40:08.269Z"
   },
   {
    "duration": 23,
    "start_time": "2023-10-19T09:40:08.294Z"
   },
   {
    "duration": 19,
    "start_time": "2023-10-19T09:40:08.319Z"
   },
   {
    "duration": 29,
    "start_time": "2023-10-19T09:40:08.340Z"
   },
   {
    "duration": 30,
    "start_time": "2023-10-19T09:40:08.370Z"
   },
   {
    "duration": 32,
    "start_time": "2023-10-19T09:40:08.402Z"
   },
   {
    "duration": 29,
    "start_time": "2023-10-19T09:40:08.436Z"
   },
   {
    "duration": 431,
    "start_time": "2023-10-19T09:40:08.466Z"
   },
   {
    "duration": 328,
    "start_time": "2023-10-19T09:40:08.899Z"
   },
   {
    "duration": 367,
    "start_time": "2023-10-19T09:40:09.229Z"
   },
   {
    "duration": 179,
    "start_time": "2023-10-19T09:40:09.600Z"
   },
   {
    "duration": 301,
    "start_time": "2023-10-19T09:40:09.781Z"
   },
   {
    "duration": 28,
    "start_time": "2023-10-19T09:40:10.084Z"
   },
   {
    "duration": 315,
    "start_time": "2023-10-19T09:40:10.114Z"
   },
   {
    "duration": 5,
    "start_time": "2023-10-19T09:40:10.432Z"
   },
   {
    "duration": 179,
    "start_time": "2023-10-19T09:40:10.439Z"
   },
   {
    "duration": 5,
    "start_time": "2023-10-19T09:40:10.620Z"
   },
   {
    "duration": 174,
    "start_time": "2023-10-19T09:40:10.627Z"
   },
   {
    "duration": 732,
    "start_time": "2023-10-19T09:40:10.803Z"
   },
   {
    "duration": 4,
    "start_time": "2023-10-19T09:40:11.537Z"
   },
   {
    "duration": 13,
    "start_time": "2023-10-19T09:40:11.542Z"
   },
   {
    "duration": 1850,
    "start_time": "2023-10-19T09:40:11.556Z"
   },
   {
    "duration": 297,
    "start_time": "2023-10-19T09:40:13.407Z"
   },
   {
    "duration": 4,
    "start_time": "2023-10-19T09:40:13.708Z"
   },
   {
    "duration": 794,
    "start_time": "2023-10-19T09:40:13.714Z"
   },
   {
    "duration": 586,
    "start_time": "2023-10-19T09:40:14.510Z"
   },
   {
    "duration": 487,
    "start_time": "2023-10-19T09:40:15.101Z"
   },
   {
    "duration": 17,
    "start_time": "2023-10-19T09:40:15.591Z"
   },
   {
    "duration": 45,
    "start_time": "2023-10-19T09:40:15.610Z"
   },
   {
    "duration": 5,
    "start_time": "2023-10-19T09:48:58.584Z"
   },
   {
    "duration": 341,
    "start_time": "2023-10-19T10:14:15.082Z"
   },
   {
    "duration": 323,
    "start_time": "2023-10-19T10:14:28.691Z"
   },
   {
    "duration": 289,
    "start_time": "2023-10-19T10:29:45.678Z"
   },
   {
    "duration": 378,
    "start_time": "2023-10-19T10:30:38.530Z"
   },
   {
    "duration": 221,
    "start_time": "2023-10-19T10:31:46.281Z"
   },
   {
    "duration": 354,
    "start_time": "2023-10-19T10:32:59.929Z"
   },
   {
    "duration": 114,
    "start_time": "2023-10-19T10:34:45.385Z"
   },
   {
    "duration": 10,
    "start_time": "2023-10-19T10:34:53.826Z"
   },
   {
    "duration": 11,
    "start_time": "2023-10-19T10:35:00.217Z"
   },
   {
    "duration": 206,
    "start_time": "2023-10-19T10:35:06.845Z"
   },
   {
    "duration": 11,
    "start_time": "2023-10-19T10:35:29.935Z"
   },
   {
    "duration": 11,
    "start_time": "2023-10-19T10:35:43.265Z"
   },
   {
    "duration": 11,
    "start_time": "2023-10-19T10:36:25.141Z"
   },
   {
    "duration": 23,
    "start_time": "2023-10-19T10:36:42.855Z"
   },
   {
    "duration": 214,
    "start_time": "2023-10-19T10:36:57.002Z"
   },
   {
    "duration": 238,
    "start_time": "2023-10-19T10:38:12.480Z"
   },
   {
    "duration": 1304,
    "start_time": "2023-10-19T10:38:19.175Z"
   },
   {
    "duration": 63,
    "start_time": "2023-10-19T10:38:20.481Z"
   },
   {
    "duration": 5,
    "start_time": "2023-10-19T10:38:20.546Z"
   },
   {
    "duration": 108,
    "start_time": "2023-10-19T10:38:20.553Z"
   },
   {
    "duration": 14,
    "start_time": "2023-10-19T10:38:20.663Z"
   },
   {
    "duration": 48,
    "start_time": "2023-10-19T10:38:20.679Z"
   },
   {
    "duration": 34,
    "start_time": "2023-10-19T10:38:20.729Z"
   },
   {
    "duration": 34,
    "start_time": "2023-10-19T10:38:20.765Z"
   },
   {
    "duration": 45,
    "start_time": "2023-10-19T10:38:20.801Z"
   },
   {
    "duration": 37,
    "start_time": "2023-10-19T10:38:20.848Z"
   },
   {
    "duration": 48,
    "start_time": "2023-10-19T10:38:20.887Z"
   },
   {
    "duration": 26,
    "start_time": "2023-10-19T10:38:20.936Z"
   },
   {
    "duration": 81,
    "start_time": "2023-10-19T10:38:20.963Z"
   },
   {
    "duration": 11,
    "start_time": "2023-10-19T10:38:21.047Z"
   },
   {
    "duration": 74,
    "start_time": "2023-10-19T10:38:21.060Z"
   },
   {
    "duration": 153,
    "start_time": "2023-10-19T10:38:21.136Z"
   },
   {
    "duration": 42,
    "start_time": "2023-10-19T10:38:21.291Z"
   },
   {
    "duration": 33,
    "start_time": "2023-10-19T10:38:21.335Z"
   },
   {
    "duration": 19,
    "start_time": "2023-10-19T10:38:21.370Z"
   },
   {
    "duration": 37,
    "start_time": "2023-10-19T10:38:21.391Z"
   },
   {
    "duration": 27,
    "start_time": "2023-10-19T10:38:21.430Z"
   },
   {
    "duration": 49,
    "start_time": "2023-10-19T10:38:21.459Z"
   },
   {
    "duration": 21,
    "start_time": "2023-10-19T10:38:21.511Z"
   },
   {
    "duration": 12,
    "start_time": "2023-10-19T10:38:21.534Z"
   },
   {
    "duration": 454,
    "start_time": "2023-10-19T10:38:21.548Z"
   },
   {
    "duration": 361,
    "start_time": "2023-10-19T10:38:22.004Z"
   },
   {
    "duration": 417,
    "start_time": "2023-10-19T10:38:22.367Z"
   },
   {
    "duration": 217,
    "start_time": "2023-10-19T10:38:22.787Z"
   },
   {
    "duration": 305,
    "start_time": "2023-10-19T10:38:23.005Z"
   },
   {
    "duration": 29,
    "start_time": "2023-10-19T10:38:23.312Z"
   },
   {
    "duration": 321,
    "start_time": "2023-10-19T10:38:23.343Z"
   },
   {
    "duration": 6,
    "start_time": "2023-10-19T10:38:23.666Z"
   },
   {
    "duration": 205,
    "start_time": "2023-10-19T10:38:23.674Z"
   },
   {
    "duration": 5,
    "start_time": "2023-10-19T10:38:23.881Z"
   },
   {
    "duration": 213,
    "start_time": "2023-10-19T10:38:23.888Z"
   },
   {
    "duration": 930,
    "start_time": "2023-10-19T10:38:24.104Z"
   },
   {
    "duration": 4,
    "start_time": "2023-10-19T10:38:25.036Z"
   },
   {
    "duration": 18,
    "start_time": "2023-10-19T10:38:25.042Z"
   },
   {
    "duration": 2053,
    "start_time": "2023-10-19T10:38:25.062Z"
   },
   {
    "duration": 333,
    "start_time": "2023-10-19T10:38:27.118Z"
   },
   {
    "duration": 5,
    "start_time": "2023-10-19T10:38:27.455Z"
   },
   {
    "duration": 688,
    "start_time": "2023-10-19T10:38:27.462Z"
   },
   {
    "duration": 530,
    "start_time": "2023-10-19T10:38:28.152Z"
   },
   {
    "duration": 532,
    "start_time": "2023-10-19T10:38:28.684Z"
   },
   {
    "duration": 12,
    "start_time": "2023-10-19T10:38:29.217Z"
   },
   {
    "duration": 21,
    "start_time": "2023-10-19T10:38:29.231Z"
   },
   {
    "duration": 1360,
    "start_time": "2023-10-19T10:40:50.030Z"
   },
   {
    "duration": 2529,
    "start_time": "2023-10-19T10:41:03.432Z"
   },
   {
    "duration": 296,
    "start_time": "2023-10-19T10:41:27.912Z"
   },
   {
    "duration": 2099,
    "start_time": "2023-10-19T10:41:36.179Z"
   },
   {
    "duration": 287,
    "start_time": "2023-10-19T10:42:30.895Z"
   },
   {
    "duration": 1345,
    "start_time": "2023-10-19T10:42:40.698Z"
   },
   {
    "duration": 59,
    "start_time": "2023-10-19T10:42:42.046Z"
   },
   {
    "duration": 4,
    "start_time": "2023-10-19T10:42:42.107Z"
   },
   {
    "duration": 42,
    "start_time": "2023-10-19T10:42:42.114Z"
   },
   {
    "duration": 4,
    "start_time": "2023-10-19T10:42:42.159Z"
   },
   {
    "duration": 41,
    "start_time": "2023-10-19T10:42:42.164Z"
   },
   {
    "duration": 14,
    "start_time": "2023-10-19T10:42:42.207Z"
   },
   {
    "duration": 24,
    "start_time": "2023-10-19T10:42:42.223Z"
   },
   {
    "duration": 37,
    "start_time": "2023-10-19T10:42:42.249Z"
   },
   {
    "duration": 13,
    "start_time": "2023-10-19T10:42:42.288Z"
   },
   {
    "duration": 30,
    "start_time": "2023-10-19T10:42:42.303Z"
   },
   {
    "duration": 11,
    "start_time": "2023-10-19T10:42:42.335Z"
   },
   {
    "duration": 76,
    "start_time": "2023-10-19T10:42:42.347Z"
   },
   {
    "duration": 12,
    "start_time": "2023-10-19T10:42:42.427Z"
   },
   {
    "duration": 23,
    "start_time": "2023-10-19T10:42:42.440Z"
   },
   {
    "duration": 14,
    "start_time": "2023-10-19T10:42:42.464Z"
   },
   {
    "duration": 12,
    "start_time": "2023-10-19T10:42:42.481Z"
   },
   {
    "duration": 13,
    "start_time": "2023-10-19T10:42:42.501Z"
   },
   {
    "duration": 15,
    "start_time": "2023-10-19T10:42:42.515Z"
   },
   {
    "duration": 15,
    "start_time": "2023-10-19T10:42:42.533Z"
   },
   {
    "duration": 24,
    "start_time": "2023-10-19T10:42:42.550Z"
   },
   {
    "duration": 24,
    "start_time": "2023-10-19T10:42:42.577Z"
   },
   {
    "duration": 44,
    "start_time": "2023-10-19T10:42:42.603Z"
   },
   {
    "duration": 27,
    "start_time": "2023-10-19T10:42:42.650Z"
   },
   {
    "duration": 406,
    "start_time": "2023-10-19T10:42:42.679Z"
   },
   {
    "duration": 332,
    "start_time": "2023-10-19T10:42:43.087Z"
   },
   {
    "duration": 381,
    "start_time": "2023-10-19T10:42:43.421Z"
   },
   {
    "duration": 189,
    "start_time": "2023-10-19T10:42:43.804Z"
   },
   {
    "duration": 320,
    "start_time": "2023-10-19T10:42:44.002Z"
   },
   {
    "duration": 29,
    "start_time": "2023-10-19T10:42:44.324Z"
   },
   {
    "duration": 343,
    "start_time": "2023-10-19T10:42:44.354Z"
   },
   {
    "duration": 9,
    "start_time": "2023-10-19T10:42:44.701Z"
   },
   {
    "duration": 225,
    "start_time": "2023-10-19T10:42:44.713Z"
   },
   {
    "duration": 5,
    "start_time": "2023-10-19T10:42:44.940Z"
   },
   {
    "duration": 210,
    "start_time": "2023-10-19T10:42:44.947Z"
   },
   {
    "duration": 795,
    "start_time": "2023-10-19T10:42:45.159Z"
   },
   {
    "duration": 5,
    "start_time": "2023-10-19T10:42:45.956Z"
   },
   {
    "duration": 24,
    "start_time": "2023-10-19T10:42:45.962Z"
   },
   {
    "duration": 1918,
    "start_time": "2023-10-19T10:42:45.988Z"
   },
   {
    "duration": 0,
    "start_time": "2023-10-19T10:42:47.908Z"
   },
   {
    "duration": 0,
    "start_time": "2023-10-19T10:42:47.910Z"
   },
   {
    "duration": 0,
    "start_time": "2023-10-19T10:42:47.911Z"
   },
   {
    "duration": 0,
    "start_time": "2023-10-19T10:42:47.912Z"
   },
   {
    "duration": 0,
    "start_time": "2023-10-19T10:42:47.913Z"
   },
   {
    "duration": 0,
    "start_time": "2023-10-19T10:42:47.914Z"
   },
   {
    "duration": 0,
    "start_time": "2023-10-19T10:42:47.915Z"
   },
   {
    "duration": 1494,
    "start_time": "2023-10-19T10:53:53.899Z"
   },
   {
    "duration": 277,
    "start_time": "2023-10-19T10:53:59.336Z"
   },
   {
    "duration": 356,
    "start_time": "2023-10-19T10:54:14.496Z"
   },
   {
    "duration": 303,
    "start_time": "2023-10-19T10:54:25.866Z"
   },
   {
    "duration": 218,
    "start_time": "2023-10-19T11:11:50.549Z"
   },
   {
    "duration": 267,
    "start_time": "2023-10-19T11:12:01.215Z"
   },
   {
    "duration": 161,
    "start_time": "2023-10-19T11:17:21.486Z"
   },
   {
    "duration": 24098,
    "start_time": "2023-10-19T11:17:27.730Z"
   },
   {
    "duration": 348,
    "start_time": "2023-10-19T11:18:31.059Z"
   },
   {
    "duration": 270,
    "start_time": "2023-10-19T11:23:33.655Z"
   },
   {
    "duration": 283,
    "start_time": "2023-10-19T11:23:50.252Z"
   },
   {
    "duration": 39809,
    "start_time": "2023-10-19T12:10:23.134Z"
   },
   {
    "duration": 271,
    "start_time": "2023-10-19T12:11:26.787Z"
   },
   {
    "duration": 161,
    "start_time": "2023-10-19T12:12:00.935Z"
   },
   {
    "duration": 149,
    "start_time": "2023-10-19T12:12:15.535Z"
   },
   {
    "duration": 284,
    "start_time": "2023-10-19T12:12:47.331Z"
   },
   {
    "duration": 10,
    "start_time": "2023-10-19T12:16:39.900Z"
   },
   {
    "duration": 17,
    "start_time": "2023-10-19T12:16:51.902Z"
   },
   {
    "duration": 246,
    "start_time": "2023-10-19T12:17:18.900Z"
   },
   {
    "duration": 1853,
    "start_time": "2023-10-19T12:18:19.120Z"
   },
   {
    "duration": 152,
    "start_time": "2023-10-19T12:18:38.879Z"
   },
   {
    "duration": 17,
    "start_time": "2023-10-19T12:21:39.725Z"
   },
   {
    "duration": 249,
    "start_time": "2023-10-19T12:21:45.275Z"
   },
   {
    "duration": 10,
    "start_time": "2023-10-19T12:48:46.121Z"
   },
   {
    "duration": 14,
    "start_time": "2023-10-19T12:48:52.869Z"
   },
   {
    "duration": 166,
    "start_time": "2023-10-19T12:53:07.390Z"
   },
   {
    "duration": 160,
    "start_time": "2023-10-19T12:53:36.927Z"
   },
   {
    "duration": 163,
    "start_time": "2023-10-19T12:53:39.640Z"
   },
   {
    "duration": 152,
    "start_time": "2023-10-19T12:54:39.315Z"
   },
   {
    "duration": 48755,
    "start_time": "2023-10-19T12:54:55.295Z"
   },
   {
    "duration": 8,
    "start_time": "2023-10-19T13:02:16.783Z"
   },
   {
    "duration": 36,
    "start_time": "2023-10-19T15:08:25.629Z"
   },
   {
    "duration": 251,
    "start_time": "2023-10-19T15:08:44.943Z"
   },
   {
    "duration": 260,
    "start_time": "2023-10-19T15:11:42.754Z"
   },
   {
    "duration": 35,
    "start_time": "2023-10-19T15:12:17.881Z"
   },
   {
    "duration": 36,
    "start_time": "2023-10-19T15:20:46.569Z"
   },
   {
    "duration": 262,
    "start_time": "2023-10-19T15:20:50.844Z"
   },
   {
    "duration": 30,
    "start_time": "2023-10-20T02:04:27.999Z"
   },
   {
    "duration": 1170,
    "start_time": "2023-10-20T02:04:35.651Z"
   },
   {
    "duration": 57,
    "start_time": "2023-10-20T02:04:36.823Z"
   },
   {
    "duration": 3,
    "start_time": "2023-10-20T02:04:36.882Z"
   },
   {
    "duration": 41,
    "start_time": "2023-10-20T02:04:36.887Z"
   },
   {
    "duration": 3,
    "start_time": "2023-10-20T02:04:36.930Z"
   },
   {
    "duration": 36,
    "start_time": "2023-10-20T02:04:36.935Z"
   },
   {
    "duration": 13,
    "start_time": "2023-10-20T02:04:36.973Z"
   },
   {
    "duration": 16,
    "start_time": "2023-10-20T02:04:36.988Z"
   },
   {
    "duration": 27,
    "start_time": "2023-10-20T02:04:37.006Z"
   },
   {
    "duration": 27,
    "start_time": "2023-10-20T02:04:37.035Z"
   },
   {
    "duration": 41,
    "start_time": "2023-10-20T02:04:37.063Z"
   },
   {
    "duration": 21,
    "start_time": "2023-10-20T02:04:37.106Z"
   },
   {
    "duration": 55,
    "start_time": "2023-10-20T02:04:37.128Z"
   },
   {
    "duration": 117,
    "start_time": "2023-10-20T02:04:37.185Z"
   },
   {
    "duration": 0,
    "start_time": "2023-10-20T02:04:37.304Z"
   },
   {
    "duration": 0,
    "start_time": "2023-10-20T02:04:37.305Z"
   },
   {
    "duration": 0,
    "start_time": "2023-10-20T02:04:37.306Z"
   },
   {
    "duration": 0,
    "start_time": "2023-10-20T02:04:37.308Z"
   },
   {
    "duration": 0,
    "start_time": "2023-10-20T02:04:37.309Z"
   },
   {
    "duration": 0,
    "start_time": "2023-10-20T02:04:37.311Z"
   },
   {
    "duration": 0,
    "start_time": "2023-10-20T02:04:37.312Z"
   },
   {
    "duration": 0,
    "start_time": "2023-10-20T02:04:37.312Z"
   },
   {
    "duration": 0,
    "start_time": "2023-10-20T02:04:37.313Z"
   },
   {
    "duration": 0,
    "start_time": "2023-10-20T02:04:37.315Z"
   },
   {
    "duration": 0,
    "start_time": "2023-10-20T02:04:37.316Z"
   },
   {
    "duration": 0,
    "start_time": "2023-10-20T02:04:37.317Z"
   },
   {
    "duration": 0,
    "start_time": "2023-10-20T02:04:37.319Z"
   },
   {
    "duration": 0,
    "start_time": "2023-10-20T02:04:37.320Z"
   },
   {
    "duration": 0,
    "start_time": "2023-10-20T02:04:37.322Z"
   },
   {
    "duration": 0,
    "start_time": "2023-10-20T02:04:37.323Z"
   },
   {
    "duration": 0,
    "start_time": "2023-10-20T02:04:37.324Z"
   },
   {
    "duration": 0,
    "start_time": "2023-10-20T02:04:37.325Z"
   },
   {
    "duration": 0,
    "start_time": "2023-10-20T02:04:37.327Z"
   },
   {
    "duration": 0,
    "start_time": "2023-10-20T02:04:37.328Z"
   },
   {
    "duration": 0,
    "start_time": "2023-10-20T02:04:37.330Z"
   },
   {
    "duration": 0,
    "start_time": "2023-10-20T02:04:37.332Z"
   },
   {
    "duration": 0,
    "start_time": "2023-10-20T02:04:37.333Z"
   },
   {
    "duration": 0,
    "start_time": "2023-10-20T02:04:37.335Z"
   },
   {
    "duration": 0,
    "start_time": "2023-10-20T02:04:37.336Z"
   },
   {
    "duration": 0,
    "start_time": "2023-10-20T02:04:37.337Z"
   },
   {
    "duration": 0,
    "start_time": "2023-10-20T02:04:37.339Z"
   },
   {
    "duration": 0,
    "start_time": "2023-10-20T02:04:37.340Z"
   },
   {
    "duration": 0,
    "start_time": "2023-10-20T02:04:37.401Z"
   },
   {
    "duration": 0,
    "start_time": "2023-10-20T02:04:37.403Z"
   },
   {
    "duration": 0,
    "start_time": "2023-10-20T02:04:37.404Z"
   },
   {
    "duration": 0,
    "start_time": "2023-10-20T02:04:37.406Z"
   },
   {
    "duration": 0,
    "start_time": "2023-10-20T02:04:37.407Z"
   },
   {
    "duration": 0,
    "start_time": "2023-10-20T02:04:37.408Z"
   },
   {
    "duration": 0,
    "start_time": "2023-10-20T02:04:37.410Z"
   },
   {
    "duration": 1173,
    "start_time": "2023-10-20T02:06:51.760Z"
   },
   {
    "duration": 57,
    "start_time": "2023-10-20T02:06:52.935Z"
   },
   {
    "duration": 4,
    "start_time": "2023-10-20T02:06:52.994Z"
   },
   {
    "duration": 36,
    "start_time": "2023-10-20T02:06:53.000Z"
   },
   {
    "duration": 4,
    "start_time": "2023-10-20T02:06:53.038Z"
   },
   {
    "duration": 38,
    "start_time": "2023-10-20T02:06:53.043Z"
   },
   {
    "duration": 19,
    "start_time": "2023-10-20T02:06:53.083Z"
   },
   {
    "duration": 7,
    "start_time": "2023-10-20T02:06:53.103Z"
   },
   {
    "duration": 22,
    "start_time": "2023-10-20T02:06:53.112Z"
   },
   {
    "duration": 39,
    "start_time": "2023-10-20T02:06:53.136Z"
   },
   {
    "duration": 115,
    "start_time": "2023-10-20T02:06:53.177Z"
   },
   {
    "duration": 12,
    "start_time": "2023-10-20T02:06:53.294Z"
   },
   {
    "duration": 53,
    "start_time": "2023-10-20T02:06:53.308Z"
   },
   {
    "duration": 10,
    "start_time": "2023-10-20T02:06:53.364Z"
   },
   {
    "duration": 72,
    "start_time": "2023-10-20T02:06:53.375Z"
   },
   {
    "duration": 141,
    "start_time": "2023-10-20T02:06:53.448Z"
   },
   {
    "duration": 24,
    "start_time": "2023-10-20T02:06:53.591Z"
   },
   {
    "duration": 42,
    "start_time": "2023-10-20T02:06:53.617Z"
   },
   {
    "duration": 30,
    "start_time": "2023-10-20T02:06:53.661Z"
   },
   {
    "duration": 20,
    "start_time": "2023-10-20T02:06:53.693Z"
   },
   {
    "duration": 43,
    "start_time": "2023-10-20T02:06:53.715Z"
   },
   {
    "duration": 11,
    "start_time": "2023-10-20T02:06:53.760Z"
   },
   {
    "duration": 47,
    "start_time": "2023-10-20T02:06:53.773Z"
   },
   {
    "duration": 62,
    "start_time": "2023-10-20T02:06:53.822Z"
   },
   {
    "duration": 386,
    "start_time": "2023-10-20T02:06:53.886Z"
   },
   {
    "duration": 340,
    "start_time": "2023-10-20T02:06:54.275Z"
   },
   {
    "duration": 372,
    "start_time": "2023-10-20T02:06:54.617Z"
   },
   {
    "duration": 175,
    "start_time": "2023-10-20T02:06:54.991Z"
   },
   {
    "duration": 282,
    "start_time": "2023-10-20T02:06:55.168Z"
   },
   {
    "duration": 25,
    "start_time": "2023-10-20T02:06:55.452Z"
   },
   {
    "duration": 279,
    "start_time": "2023-10-20T02:06:55.479Z"
   },
   {
    "duration": 5,
    "start_time": "2023-10-20T02:06:55.760Z"
   },
   {
    "duration": 199,
    "start_time": "2023-10-20T02:06:55.767Z"
   },
   {
    "duration": 5,
    "start_time": "2023-10-20T02:06:55.967Z"
   },
   {
    "duration": 178,
    "start_time": "2023-10-20T02:06:55.974Z"
   },
   {
    "duration": 742,
    "start_time": "2023-10-20T02:06:56.154Z"
   },
   {
    "duration": 4,
    "start_time": "2023-10-20T02:06:56.901Z"
   },
   {
    "duration": 147,
    "start_time": "2023-10-20T02:06:56.907Z"
   },
   {
    "duration": 1097,
    "start_time": "2023-10-20T02:06:57.055Z"
   },
   {
    "duration": 260,
    "start_time": "2023-10-20T02:06:58.153Z"
   },
   {
    "duration": 33,
    "start_time": "2023-10-20T02:06:58.417Z"
   },
   {
    "duration": 296,
    "start_time": "2023-10-20T02:06:58.452Z"
   },
   {
    "duration": 4,
    "start_time": "2023-10-20T02:06:58.750Z"
   },
   {
    "duration": 557,
    "start_time": "2023-10-20T02:06:58.756Z"
   },
   {
    "duration": 463,
    "start_time": "2023-10-20T02:06:59.314Z"
   },
   {
    "duration": 464,
    "start_time": "2023-10-20T02:06:59.779Z"
   },
   {
    "duration": 11,
    "start_time": "2023-10-20T02:07:00.245Z"
   },
   {
    "duration": 88,
    "start_time": "2023-10-20T02:07:00.258Z"
   },
   {
    "duration": 1275,
    "start_time": "2023-10-20T02:15:37.578Z"
   },
   {
    "duration": 63,
    "start_time": "2023-10-20T02:15:38.855Z"
   },
   {
    "duration": 6,
    "start_time": "2023-10-20T02:15:38.921Z"
   },
   {
    "duration": 50,
    "start_time": "2023-10-20T02:15:38.929Z"
   },
   {
    "duration": 4,
    "start_time": "2023-10-20T02:15:38.981Z"
   },
   {
    "duration": 45,
    "start_time": "2023-10-20T02:15:38.986Z"
   },
   {
    "duration": 13,
    "start_time": "2023-10-20T02:15:39.032Z"
   },
   {
    "duration": 15,
    "start_time": "2023-10-20T02:15:39.047Z"
   },
   {
    "duration": 36,
    "start_time": "2023-10-20T02:15:39.064Z"
   },
   {
    "duration": 8,
    "start_time": "2023-10-20T02:15:39.102Z"
   },
   {
    "duration": 31,
    "start_time": "2023-10-20T02:15:39.113Z"
   },
   {
    "duration": 34,
    "start_time": "2023-10-20T02:15:39.146Z"
   },
   {
    "duration": 77,
    "start_time": "2023-10-20T02:15:39.182Z"
   },
   {
    "duration": 10,
    "start_time": "2023-10-20T02:15:39.262Z"
   },
   {
    "duration": 12,
    "start_time": "2023-10-20T02:15:39.274Z"
   },
   {
    "duration": 21,
    "start_time": "2023-10-20T02:15:39.287Z"
   },
   {
    "duration": 7,
    "start_time": "2023-10-20T02:15:39.311Z"
   },
   {
    "duration": 21,
    "start_time": "2023-10-20T02:15:39.322Z"
   },
   {
    "duration": 15,
    "start_time": "2023-10-20T02:15:39.345Z"
   },
   {
    "duration": 14,
    "start_time": "2023-10-20T02:15:39.361Z"
   },
   {
    "duration": 36,
    "start_time": "2023-10-20T02:15:39.377Z"
   },
   {
    "duration": 7,
    "start_time": "2023-10-20T02:15:39.416Z"
   },
   {
    "duration": 15,
    "start_time": "2023-10-20T02:15:39.426Z"
   },
   {
    "duration": 18,
    "start_time": "2023-10-20T02:15:39.442Z"
   },
   {
    "duration": 389,
    "start_time": "2023-10-20T02:15:39.461Z"
   },
   {
    "duration": 315,
    "start_time": "2023-10-20T02:15:39.851Z"
   },
   {
    "duration": 353,
    "start_time": "2023-10-20T02:15:40.168Z"
   },
   {
    "duration": 207,
    "start_time": "2023-10-20T02:15:40.524Z"
   },
   {
    "duration": 293,
    "start_time": "2023-10-20T02:15:40.733Z"
   },
   {
    "duration": 24,
    "start_time": "2023-10-20T02:15:41.028Z"
   },
   {
    "duration": 302,
    "start_time": "2023-10-20T02:15:41.054Z"
   },
   {
    "duration": 6,
    "start_time": "2023-10-20T02:15:41.357Z"
   },
   {
    "duration": 196,
    "start_time": "2023-10-20T02:15:41.364Z"
   },
   {
    "duration": 4,
    "start_time": "2023-10-20T02:15:41.562Z"
   },
   {
    "duration": 205,
    "start_time": "2023-10-20T02:15:41.568Z"
   },
   {
    "duration": 809,
    "start_time": "2023-10-20T02:15:41.774Z"
   },
   {
    "duration": 4,
    "start_time": "2023-10-20T02:15:42.585Z"
   },
   {
    "duration": 26,
    "start_time": "2023-10-20T02:15:42.590Z"
   },
   {
    "duration": 1301,
    "start_time": "2023-10-20T02:15:42.619Z"
   },
   {
    "duration": 318,
    "start_time": "2023-10-20T02:15:43.923Z"
   },
   {
    "duration": 39,
    "start_time": "2023-10-20T02:15:44.246Z"
   },
   {
    "duration": 280,
    "start_time": "2023-10-20T02:15:44.305Z"
   },
   {
    "duration": 6,
    "start_time": "2023-10-20T02:15:44.587Z"
   },
   {
    "duration": 626,
    "start_time": "2023-10-20T02:15:44.601Z"
   },
   {
    "duration": 523,
    "start_time": "2023-10-20T02:15:45.229Z"
   },
   {
    "duration": 466,
    "start_time": "2023-10-20T02:15:45.754Z"
   },
   {
    "duration": 13,
    "start_time": "2023-10-20T02:15:46.222Z"
   },
   {
    "duration": 17,
    "start_time": "2023-10-20T02:15:46.237Z"
   },
   {
    "duration": 2255,
    "start_time": "2023-10-20T02:16:21.468Z"
   },
   {
    "duration": 3466,
    "start_time": "2023-10-20T02:17:43.805Z"
   },
   {
    "duration": 2357,
    "start_time": "2023-10-20T02:17:50.452Z"
   },
   {
    "duration": 1395,
    "start_time": "2023-10-20T02:18:06.187Z"
   },
   {
    "duration": 233,
    "start_time": "2023-10-20T02:19:40.210Z"
   },
   {
    "duration": 413,
    "start_time": "2023-10-20T02:19:50.795Z"
   },
   {
    "duration": 462,
    "start_time": "2023-10-20T02:23:13.029Z"
   },
   {
    "duration": 1351,
    "start_time": "2023-10-20T02:23:22.922Z"
   },
   {
    "duration": 2640,
    "start_time": "2023-10-20T02:41:52.382Z"
   },
   {
    "duration": 1576,
    "start_time": "2023-10-20T02:42:06.001Z"
   },
   {
    "duration": 2206,
    "start_time": "2023-10-20T02:42:11.357Z"
   },
   {
    "duration": 1363,
    "start_time": "2023-10-20T02:42:30.798Z"
   },
   {
    "duration": 70,
    "start_time": "2023-10-20T02:42:32.163Z"
   },
   {
    "duration": 3,
    "start_time": "2023-10-20T02:42:32.234Z"
   },
   {
    "duration": 43,
    "start_time": "2023-10-20T02:42:32.239Z"
   },
   {
    "duration": 17,
    "start_time": "2023-10-20T02:42:32.285Z"
   },
   {
    "duration": 29,
    "start_time": "2023-10-20T02:42:32.304Z"
   },
   {
    "duration": 33,
    "start_time": "2023-10-20T02:42:32.335Z"
   },
   {
    "duration": 9,
    "start_time": "2023-10-20T02:42:32.371Z"
   },
   {
    "duration": 32,
    "start_time": "2023-10-20T02:42:32.402Z"
   },
   {
    "duration": 5,
    "start_time": "2023-10-20T02:42:32.436Z"
   },
   {
    "duration": 31,
    "start_time": "2023-10-20T02:42:32.442Z"
   },
   {
    "duration": 37,
    "start_time": "2023-10-20T02:42:32.474Z"
   },
   {
    "duration": 73,
    "start_time": "2023-10-20T02:42:32.513Z"
   },
   {
    "duration": 21,
    "start_time": "2023-10-20T02:42:32.589Z"
   },
   {
    "duration": 18,
    "start_time": "2023-10-20T02:42:32.613Z"
   },
   {
    "duration": 6,
    "start_time": "2023-10-20T02:42:32.633Z"
   },
   {
    "duration": 11,
    "start_time": "2023-10-20T02:42:32.640Z"
   },
   {
    "duration": 16,
    "start_time": "2023-10-20T02:42:32.653Z"
   },
   {
    "duration": 41,
    "start_time": "2023-10-20T02:42:32.671Z"
   },
   {
    "duration": 14,
    "start_time": "2023-10-20T02:42:32.716Z"
   },
   {
    "duration": 19,
    "start_time": "2023-10-20T02:42:32.731Z"
   },
   {
    "duration": 10,
    "start_time": "2023-10-20T02:42:32.752Z"
   },
   {
    "duration": 17,
    "start_time": "2023-10-20T02:42:32.764Z"
   },
   {
    "duration": 11,
    "start_time": "2023-10-20T02:42:32.809Z"
   },
   {
    "duration": 431,
    "start_time": "2023-10-20T02:42:32.824Z"
   },
   {
    "duration": 385,
    "start_time": "2023-10-20T02:42:33.257Z"
   },
   {
    "duration": 415,
    "start_time": "2023-10-20T02:42:33.644Z"
   },
   {
    "duration": 209,
    "start_time": "2023-10-20T02:42:34.060Z"
   },
   {
    "duration": 341,
    "start_time": "2023-10-20T02:42:34.270Z"
   },
   {
    "duration": 39,
    "start_time": "2023-10-20T02:42:34.612Z"
   },
   {
    "duration": 377,
    "start_time": "2023-10-20T02:42:34.653Z"
   },
   {
    "duration": 6,
    "start_time": "2023-10-20T02:42:35.032Z"
   },
   {
    "duration": 189,
    "start_time": "2023-10-20T02:42:35.040Z"
   },
   {
    "duration": 6,
    "start_time": "2023-10-20T02:42:35.231Z"
   },
   {
    "duration": 214,
    "start_time": "2023-10-20T02:42:35.239Z"
   },
   {
    "duration": 753,
    "start_time": "2023-10-20T02:42:35.455Z"
   },
   {
    "duration": 7,
    "start_time": "2023-10-20T02:42:36.211Z"
   },
   {
    "duration": 13,
    "start_time": "2023-10-20T02:42:36.221Z"
   },
   {
    "duration": 1859,
    "start_time": "2023-10-20T02:42:36.235Z"
   },
   {
    "duration": 0,
    "start_time": "2023-10-20T02:42:38.095Z"
   },
   {
    "duration": 0,
    "start_time": "2023-10-20T02:42:38.097Z"
   },
   {
    "duration": 0,
    "start_time": "2023-10-20T02:42:38.104Z"
   },
   {
    "duration": 0,
    "start_time": "2023-10-20T02:42:38.106Z"
   },
   {
    "duration": 0,
    "start_time": "2023-10-20T02:42:38.108Z"
   },
   {
    "duration": 0,
    "start_time": "2023-10-20T02:42:38.110Z"
   },
   {
    "duration": 0,
    "start_time": "2023-10-20T02:42:38.112Z"
   },
   {
    "duration": 0,
    "start_time": "2023-10-20T02:42:38.114Z"
   },
   {
    "duration": 0,
    "start_time": "2023-10-20T02:42:38.116Z"
   },
   {
    "duration": 416,
    "start_time": "2023-10-20T02:43:07.652Z"
   },
   {
    "duration": 32,
    "start_time": "2023-10-20T02:43:28.487Z"
   },
   {
    "duration": 3213,
    "start_time": "2023-10-20T02:43:44.340Z"
   },
   {
    "duration": 3213,
    "start_time": "2023-10-20T02:43:58.108Z"
   },
   {
    "duration": 1537,
    "start_time": "2023-10-20T02:44:08.602Z"
   },
   {
    "duration": 2410,
    "start_time": "2023-10-20T02:45:08.340Z"
   },
   {
    "duration": 299,
    "start_time": "2023-10-20T02:46:22.099Z"
   },
   {
    "duration": 1354,
    "start_time": "2023-10-20T02:46:31.432Z"
   },
   {
    "duration": 61,
    "start_time": "2023-10-20T02:46:32.788Z"
   },
   {
    "duration": 3,
    "start_time": "2023-10-20T02:46:32.851Z"
   },
   {
    "duration": 38,
    "start_time": "2023-10-20T02:46:32.855Z"
   },
   {
    "duration": 4,
    "start_time": "2023-10-20T02:46:32.895Z"
   },
   {
    "duration": 26,
    "start_time": "2023-10-20T02:46:32.902Z"
   },
   {
    "duration": 15,
    "start_time": "2023-10-20T02:46:32.929Z"
   },
   {
    "duration": 8,
    "start_time": "2023-10-20T02:46:32.946Z"
   },
   {
    "duration": 51,
    "start_time": "2023-10-20T02:46:32.956Z"
   },
   {
    "duration": 7,
    "start_time": "2023-10-20T02:46:33.008Z"
   },
   {
    "duration": 31,
    "start_time": "2023-10-20T02:46:33.017Z"
   },
   {
    "duration": 11,
    "start_time": "2023-10-20T02:46:33.050Z"
   },
   {
    "duration": 95,
    "start_time": "2023-10-20T02:46:33.062Z"
   },
   {
    "duration": 10,
    "start_time": "2023-10-20T02:46:33.160Z"
   },
   {
    "duration": 17,
    "start_time": "2023-10-20T02:46:33.172Z"
   },
   {
    "duration": 9,
    "start_time": "2023-10-20T02:46:33.202Z"
   },
   {
    "duration": 14,
    "start_time": "2023-10-20T02:46:33.214Z"
   },
   {
    "duration": 20,
    "start_time": "2023-10-20T02:46:33.230Z"
   },
   {
    "duration": 78,
    "start_time": "2023-10-20T02:46:33.253Z"
   },
   {
    "duration": 7,
    "start_time": "2023-10-20T02:46:33.333Z"
   },
   {
    "duration": 20,
    "start_time": "2023-10-20T02:46:33.342Z"
   },
   {
    "duration": 4,
    "start_time": "2023-10-20T02:46:33.364Z"
   },
   {
    "duration": 36,
    "start_time": "2023-10-20T02:46:33.370Z"
   },
   {
    "duration": 9,
    "start_time": "2023-10-20T02:46:33.409Z"
   },
   {
    "duration": 397,
    "start_time": "2023-10-20T02:46:33.419Z"
   },
   {
    "duration": 348,
    "start_time": "2023-10-20T02:46:33.818Z"
   },
   {
    "duration": 384,
    "start_time": "2023-10-20T02:46:34.168Z"
   },
   {
    "duration": 234,
    "start_time": "2023-10-20T02:46:34.554Z"
   },
   {
    "duration": 272,
    "start_time": "2023-10-20T02:46:34.790Z"
   },
   {
    "duration": 26,
    "start_time": "2023-10-20T02:46:35.064Z"
   },
   {
    "duration": 296,
    "start_time": "2023-10-20T02:46:35.092Z"
   },
   {
    "duration": 11,
    "start_time": "2023-10-20T02:46:35.390Z"
   },
   {
    "duration": 191,
    "start_time": "2023-10-20T02:46:35.403Z"
   },
   {
    "duration": 8,
    "start_time": "2023-10-20T02:46:35.596Z"
   },
   {
    "duration": 196,
    "start_time": "2023-10-20T02:46:35.606Z"
   },
   {
    "duration": 722,
    "start_time": "2023-10-20T02:46:35.804Z"
   },
   {
    "duration": 5,
    "start_time": "2023-10-20T02:46:36.528Z"
   },
   {
    "duration": 22,
    "start_time": "2023-10-20T02:46:36.534Z"
   },
   {
    "duration": 1924,
    "start_time": "2023-10-20T02:46:36.558Z"
   },
   {
    "duration": 358,
    "start_time": "2023-10-20T02:46:38.484Z"
   },
   {
    "duration": 35,
    "start_time": "2023-10-20T02:46:38.846Z"
   },
   {
    "duration": 292,
    "start_time": "2023-10-20T02:46:38.883Z"
   },
   {
    "duration": 5,
    "start_time": "2023-10-20T02:46:39.177Z"
   },
   {
    "duration": 611,
    "start_time": "2023-10-20T02:46:39.183Z"
   },
   {
    "duration": 508,
    "start_time": "2023-10-20T02:46:39.796Z"
   },
   {
    "duration": 546,
    "start_time": "2023-10-20T02:46:40.307Z"
   },
   {
    "duration": 11,
    "start_time": "2023-10-20T02:46:40.854Z"
   },
   {
    "duration": 11,
    "start_time": "2023-10-20T02:46:40.867Z"
   }
  ],
  "kernelspec": {
   "display_name": "Python 3 (ipykernel)",
   "language": "python",
   "name": "python3"
  },
  "language_info": {
   "codemirror_mode": {
    "name": "ipython",
    "version": 3
   },
   "file_extension": ".py",
   "mimetype": "text/x-python",
   "name": "python",
   "nbconvert_exporter": "python",
   "pygments_lexer": "ipython3",
   "version": "3.9.5"
  },
  "toc": {
   "base_numbering": 1,
   "nav_menu": {},
   "number_sections": true,
   "sideBar": true,
   "skip_h1_title": true,
   "title_cell": "Table of Contents",
   "title_sidebar": "Contents",
   "toc_cell": false,
   "toc_position": {},
   "toc_section_display": true,
   "toc_window_display": false
  }
 },
 "nbformat": 4,
 "nbformat_minor": 4
}
