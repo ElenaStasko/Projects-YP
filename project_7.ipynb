{
 "cells": [
  {
   "cell_type": "markdown",
   "metadata": {},
   "source": [
    "**Описание проекта**\n"
   ]
  },
  {
   "cell_type": "markdown",
   "metadata": {},
   "source": [
    "Вы — аналитик крупного интернет-магазина. Вместе с отделом маркетинга вы подготовили список гипотез для увеличения выручки.\n",
    "Приоритизируйте гипотезы, запустите A/B-тест и проанализируйте результаты. "
   ]
  },
  {
   "cell_type": "markdown",
   "metadata": {},
   "source": [
    "***Ход исследования:***\n",
    "\n",
    "Шаг 1. Изучение общей информации о датасетах\n",
    "\n",
    "\n",
    "- Путь к файлам: \n",
    "- /datasets/hypothesis.csv;\n",
    "- /datasets/orders.csv;\n",
    "- /datasets/visitors.csv. \n",
    "\n",
    "\n",
    "Шаг 2. Подготовка данных\n",
    "\n",
    "\n",
    "- Заменим названия столбцов (приведем к нижнему регистру);\n",
    "- Преобразуем данные в нужные типы.\n",
    "\n",
    "\n",
    "Шаг 3. Приоритизация гипотез\n",
    "\n",
    "\n",
    "- Применим фреймворк ICE для приоритизации гипотез;\n",
    "- Применим фреймворк RICE для приоритизации гипотез;\n",
    "- Укажем, как изменилась приоритизация гипотез при применении RICE вместо ICE.\n",
    "\n",
    "\n",
    "Шаг 4. Анализ A/B-теста\n",
    "\n",
    "\n",
    "- Построим график кумулятивной выручки по группам;\n",
    "- Построим график кумулятивного среднего чека по группам;\n",
    "- Построим график относительного изменения кумулятивного среднего чека группы B к группе A;\n",
    "- Построим график кумулятивного среднего количества заказов на посетителя по группам;\n",
    "- Построим график относительного изменения кумулятивного среднего количества заказов на посетителя группы B к группе A;\n",
    "- Построим точечный график количества заказов по пользователям;\n",
    "- Посчитаем 95-й и 99-й перцентили количества заказов на пользователя. Выберем границу для определения аномальных пользователей;\n",
    "- Построим точечный график стоимостей заказов;\n",
    "- Посчитаем 95-й и 99-й перцентили стоимости заказов. Выберем границу для определения аномальных заказов;\n",
    "- Посчитаем статистическую значимость различий в среднем количестве заказов на посетителя и в среднем чеке заказа между группами по «сырым» данным;\n",
    "- Посчитайте статистическую значимость различий в среднем количестве заказов на посетителя и в среднем чеке заказа между группами по «очищенным» данным;\n",
    "- Примем решение по результатам теста.\n",
    "\n",
    "\n",
    "Шаг 6. Написание общего вывода"
   ]
  },
  {
   "cell_type": "markdown",
   "metadata": {},
   "source": [
    "**Описание данных**"
   ]
  },
  {
   "cell_type": "markdown",
   "metadata": {},
   "source": [
    "Структура /datasets/hypothesis.csv:\n",
    "- Hypothesis — краткое описание гипотезы;\n",
    "- Reach — охват пользователей по 10-балльной шкале;\n",
    "- Impact — влияние на пользователей по 10-балльной шкале;\n",
    "- Confidence — уверенность в гипотезе по 10-балльной шкале;\n",
    "- Efforts — затраты ресурсов на проверку гипотезы по 10-балльной шкале. Чем больше значение Efforts, тем дороже проверка гипотезы.\n",
    "\n",
    "\n",
    "Структура /datasets/orders.csv:\n",
    "- transactionId — идентификатор заказа;\n",
    "- visitorId — идентификатор пользователя, совершившего заказ;\n",
    "- date — дата, когда был совершён заказ;\n",
    "- revenue — выручка заказа;\n",
    "- group — группа A/B-теста, в которую попал заказ.\n",
    "\n",
    "\n",
    "Структура /datasets/visitors.csv:\n",
    "- date — дата;\n",
    "- group — группа A/B-теста;\n",
    "- visitors — количество пользователей в указанную дату в указанной группе A/B-теста;"
   ]
  },
  {
   "cell_type": "markdown",
   "metadata": {},
   "source": [
    "### Загрузим данные и подготовим их к анализу"
   ]
  },
  {
   "cell_type": "code",
   "execution_count": 1,
   "metadata": {},
   "outputs": [],
   "source": [
    "#импорт библиотек\n",
    "import pandas as pd\n",
    "import numpy as np\n",
    "import seaborn as sns\n",
    "import scipy.stats as stats\n",
    "import datetime as dt\n",
    "import matplotlib.pyplot as plt"
   ]
  },
  {
   "cell_type": "code",
   "execution_count": 2,
   "metadata": {},
   "outputs": [
    {
     "ename": "FileNotFoundError",
     "evalue": "[Errno 2] No such file or directory: '/datasets/hypothesis.csv'",
     "output_type": "error",
     "traceback": [
      "\u001b[1;31m---------------------------------------------------------------------------\u001b[0m",
      "\u001b[1;31mFileNotFoundError\u001b[0m                         Traceback (most recent call last)",
      "\u001b[1;32mC:\\Users\\AD82~1\\AppData\\Local\\Temp/ipykernel_11948/645829985.py\u001b[0m in \u001b[0;36m<module>\u001b[1;34m\u001b[0m\n\u001b[1;32m----> 1\u001b[1;33m \u001b[0mhypothesis\u001b[0m \u001b[1;33m=\u001b[0m \u001b[0mpd\u001b[0m\u001b[1;33m.\u001b[0m\u001b[0mread_csv\u001b[0m\u001b[1;33m(\u001b[0m\u001b[1;34m'/datasets/hypothesis.csv'\u001b[0m\u001b[1;33m)\u001b[0m\u001b[1;33m\u001b[0m\u001b[1;33m\u001b[0m\u001b[0m\n\u001b[0m\u001b[0;32m      2\u001b[0m \u001b[0morders\u001b[0m \u001b[1;33m=\u001b[0m \u001b[0mpd\u001b[0m\u001b[1;33m.\u001b[0m\u001b[0mread_csv\u001b[0m\u001b[1;33m(\u001b[0m\u001b[1;34m'/datasets/orders.csv'\u001b[0m\u001b[1;33m)\u001b[0m\u001b[1;33m\u001b[0m\u001b[1;33m\u001b[0m\u001b[0m\n\u001b[0;32m      3\u001b[0m \u001b[0mvisitors\u001b[0m \u001b[1;33m=\u001b[0m \u001b[0mpd\u001b[0m\u001b[1;33m.\u001b[0m\u001b[0mread_csv\u001b[0m\u001b[1;33m(\u001b[0m\u001b[1;34m'/datasets/visitors.csv'\u001b[0m\u001b[1;33m)\u001b[0m\u001b[1;33m\u001b[0m\u001b[1;33m\u001b[0m\u001b[0m\n",
      "\u001b[1;32mc:\\users\\елена стасько\\appdata\\local\\programs\\python\\python39\\lib\\site-packages\\pandas\\io\\parsers.py\u001b[0m in \u001b[0;36mread_csv\u001b[1;34m(filepath_or_buffer, sep, delimiter, header, names, index_col, usecols, squeeze, prefix, mangle_dupe_cols, dtype, engine, converters, true_values, false_values, skipinitialspace, skiprows, skipfooter, nrows, na_values, keep_default_na, na_filter, verbose, skip_blank_lines, parse_dates, infer_datetime_format, keep_date_col, date_parser, dayfirst, cache_dates, iterator, chunksize, compression, thousands, decimal, lineterminator, quotechar, quoting, doublequote, escapechar, comment, encoding, dialect, error_bad_lines, warn_bad_lines, delim_whitespace, low_memory, memory_map, float_precision, storage_options)\u001b[0m\n\u001b[0;32m    608\u001b[0m     \u001b[0mkwds\u001b[0m\u001b[1;33m.\u001b[0m\u001b[0mupdate\u001b[0m\u001b[1;33m(\u001b[0m\u001b[0mkwds_defaults\u001b[0m\u001b[1;33m)\u001b[0m\u001b[1;33m\u001b[0m\u001b[1;33m\u001b[0m\u001b[0m\n\u001b[0;32m    609\u001b[0m \u001b[1;33m\u001b[0m\u001b[0m\n\u001b[1;32m--> 610\u001b[1;33m     \u001b[1;32mreturn\u001b[0m \u001b[0m_read\u001b[0m\u001b[1;33m(\u001b[0m\u001b[0mfilepath_or_buffer\u001b[0m\u001b[1;33m,\u001b[0m \u001b[0mkwds\u001b[0m\u001b[1;33m)\u001b[0m\u001b[1;33m\u001b[0m\u001b[1;33m\u001b[0m\u001b[0m\n\u001b[0m\u001b[0;32m    611\u001b[0m \u001b[1;33m\u001b[0m\u001b[0m\n\u001b[0;32m    612\u001b[0m \u001b[1;33m\u001b[0m\u001b[0m\n",
      "\u001b[1;32mc:\\users\\елена стасько\\appdata\\local\\programs\\python\\python39\\lib\\site-packages\\pandas\\io\\parsers.py\u001b[0m in \u001b[0;36m_read\u001b[1;34m(filepath_or_buffer, kwds)\u001b[0m\n\u001b[0;32m    460\u001b[0m \u001b[1;33m\u001b[0m\u001b[0m\n\u001b[0;32m    461\u001b[0m     \u001b[1;31m# Create the parser.\u001b[0m\u001b[1;33m\u001b[0m\u001b[1;33m\u001b[0m\u001b[1;33m\u001b[0m\u001b[0m\n\u001b[1;32m--> 462\u001b[1;33m     \u001b[0mparser\u001b[0m \u001b[1;33m=\u001b[0m \u001b[0mTextFileReader\u001b[0m\u001b[1;33m(\u001b[0m\u001b[0mfilepath_or_buffer\u001b[0m\u001b[1;33m,\u001b[0m \u001b[1;33m**\u001b[0m\u001b[0mkwds\u001b[0m\u001b[1;33m)\u001b[0m\u001b[1;33m\u001b[0m\u001b[1;33m\u001b[0m\u001b[0m\n\u001b[0m\u001b[0;32m    463\u001b[0m \u001b[1;33m\u001b[0m\u001b[0m\n\u001b[0;32m    464\u001b[0m     \u001b[1;32mif\u001b[0m \u001b[0mchunksize\u001b[0m \u001b[1;32mor\u001b[0m \u001b[0miterator\u001b[0m\u001b[1;33m:\u001b[0m\u001b[1;33m\u001b[0m\u001b[1;33m\u001b[0m\u001b[0m\n",
      "\u001b[1;32mc:\\users\\елена стасько\\appdata\\local\\programs\\python\\python39\\lib\\site-packages\\pandas\\io\\parsers.py\u001b[0m in \u001b[0;36m__init__\u001b[1;34m(self, f, engine, **kwds)\u001b[0m\n\u001b[0;32m    817\u001b[0m             \u001b[0mself\u001b[0m\u001b[1;33m.\u001b[0m\u001b[0moptions\u001b[0m\u001b[1;33m[\u001b[0m\u001b[1;34m\"has_index_names\"\u001b[0m\u001b[1;33m]\u001b[0m \u001b[1;33m=\u001b[0m \u001b[0mkwds\u001b[0m\u001b[1;33m[\u001b[0m\u001b[1;34m\"has_index_names\"\u001b[0m\u001b[1;33m]\u001b[0m\u001b[1;33m\u001b[0m\u001b[1;33m\u001b[0m\u001b[0m\n\u001b[0;32m    818\u001b[0m \u001b[1;33m\u001b[0m\u001b[0m\n\u001b[1;32m--> 819\u001b[1;33m         \u001b[0mself\u001b[0m\u001b[1;33m.\u001b[0m\u001b[0m_engine\u001b[0m \u001b[1;33m=\u001b[0m \u001b[0mself\u001b[0m\u001b[1;33m.\u001b[0m\u001b[0m_make_engine\u001b[0m\u001b[1;33m(\u001b[0m\u001b[0mself\u001b[0m\u001b[1;33m.\u001b[0m\u001b[0mengine\u001b[0m\u001b[1;33m)\u001b[0m\u001b[1;33m\u001b[0m\u001b[1;33m\u001b[0m\u001b[0m\n\u001b[0m\u001b[0;32m    820\u001b[0m \u001b[1;33m\u001b[0m\u001b[0m\n\u001b[0;32m    821\u001b[0m     \u001b[1;32mdef\u001b[0m \u001b[0mclose\u001b[0m\u001b[1;33m(\u001b[0m\u001b[0mself\u001b[0m\u001b[1;33m)\u001b[0m\u001b[1;33m:\u001b[0m\u001b[1;33m\u001b[0m\u001b[1;33m\u001b[0m\u001b[0m\n",
      "\u001b[1;32mc:\\users\\елена стасько\\appdata\\local\\programs\\python\\python39\\lib\\site-packages\\pandas\\io\\parsers.py\u001b[0m in \u001b[0;36m_make_engine\u001b[1;34m(self, engine)\u001b[0m\n\u001b[0;32m   1048\u001b[0m             )\n\u001b[0;32m   1049\u001b[0m         \u001b[1;31m# error: Too many arguments for \"ParserBase\"\u001b[0m\u001b[1;33m\u001b[0m\u001b[1;33m\u001b[0m\u001b[1;33m\u001b[0m\u001b[0m\n\u001b[1;32m-> 1050\u001b[1;33m         \u001b[1;32mreturn\u001b[0m \u001b[0mmapping\u001b[0m\u001b[1;33m[\u001b[0m\u001b[0mengine\u001b[0m\u001b[1;33m]\u001b[0m\u001b[1;33m(\u001b[0m\u001b[0mself\u001b[0m\u001b[1;33m.\u001b[0m\u001b[0mf\u001b[0m\u001b[1;33m,\u001b[0m \u001b[1;33m**\u001b[0m\u001b[0mself\u001b[0m\u001b[1;33m.\u001b[0m\u001b[0moptions\u001b[0m\u001b[1;33m)\u001b[0m  \u001b[1;31m# type: ignore[call-arg]\u001b[0m\u001b[1;33m\u001b[0m\u001b[1;33m\u001b[0m\u001b[0m\n\u001b[0m\u001b[0;32m   1051\u001b[0m \u001b[1;33m\u001b[0m\u001b[0m\n\u001b[0;32m   1052\u001b[0m     \u001b[1;32mdef\u001b[0m \u001b[0m_failover_to_python\u001b[0m\u001b[1;33m(\u001b[0m\u001b[0mself\u001b[0m\u001b[1;33m)\u001b[0m\u001b[1;33m:\u001b[0m\u001b[1;33m\u001b[0m\u001b[1;33m\u001b[0m\u001b[0m\n",
      "\u001b[1;32mc:\\users\\елена стасько\\appdata\\local\\programs\\python\\python39\\lib\\site-packages\\pandas\\io\\parsers.py\u001b[0m in \u001b[0;36m__init__\u001b[1;34m(self, src, **kwds)\u001b[0m\n\u001b[0;32m   1865\u001b[0m \u001b[1;33m\u001b[0m\u001b[0m\n\u001b[0;32m   1866\u001b[0m         \u001b[1;31m# open handles\u001b[0m\u001b[1;33m\u001b[0m\u001b[1;33m\u001b[0m\u001b[1;33m\u001b[0m\u001b[0m\n\u001b[1;32m-> 1867\u001b[1;33m         \u001b[0mself\u001b[0m\u001b[1;33m.\u001b[0m\u001b[0m_open_handles\u001b[0m\u001b[1;33m(\u001b[0m\u001b[0msrc\u001b[0m\u001b[1;33m,\u001b[0m \u001b[0mkwds\u001b[0m\u001b[1;33m)\u001b[0m\u001b[1;33m\u001b[0m\u001b[1;33m\u001b[0m\u001b[0m\n\u001b[0m\u001b[0;32m   1868\u001b[0m         \u001b[1;32massert\u001b[0m \u001b[0mself\u001b[0m\u001b[1;33m.\u001b[0m\u001b[0mhandles\u001b[0m \u001b[1;32mis\u001b[0m \u001b[1;32mnot\u001b[0m \u001b[1;32mNone\u001b[0m\u001b[1;33m\u001b[0m\u001b[1;33m\u001b[0m\u001b[0m\n\u001b[0;32m   1869\u001b[0m         \u001b[1;32mfor\u001b[0m \u001b[0mkey\u001b[0m \u001b[1;32min\u001b[0m \u001b[1;33m(\u001b[0m\u001b[1;34m\"storage_options\"\u001b[0m\u001b[1;33m,\u001b[0m \u001b[1;34m\"encoding\"\u001b[0m\u001b[1;33m,\u001b[0m \u001b[1;34m\"memory_map\"\u001b[0m\u001b[1;33m,\u001b[0m \u001b[1;34m\"compression\"\u001b[0m\u001b[1;33m)\u001b[0m\u001b[1;33m:\u001b[0m\u001b[1;33m\u001b[0m\u001b[1;33m\u001b[0m\u001b[0m\n",
      "\u001b[1;32mc:\\users\\елена стасько\\appdata\\local\\programs\\python\\python39\\lib\\site-packages\\pandas\\io\\parsers.py\u001b[0m in \u001b[0;36m_open_handles\u001b[1;34m(self, src, kwds)\u001b[0m\n\u001b[0;32m   1360\u001b[0m         \u001b[0mLet\u001b[0m \u001b[0mthe\u001b[0m \u001b[0mreaders\u001b[0m \u001b[0mopen\u001b[0m \u001b[0mIOHanldes\u001b[0m \u001b[0mafter\u001b[0m \u001b[0mthey\u001b[0m \u001b[0mare\u001b[0m \u001b[0mdone\u001b[0m \u001b[1;32mwith\u001b[0m \u001b[0mtheir\u001b[0m \u001b[0mpotential\u001b[0m \u001b[0mraises\u001b[0m\u001b[1;33m.\u001b[0m\u001b[1;33m\u001b[0m\u001b[1;33m\u001b[0m\u001b[0m\n\u001b[0;32m   1361\u001b[0m         \"\"\"\n\u001b[1;32m-> 1362\u001b[1;33m         self.handles = get_handle(\n\u001b[0m\u001b[0;32m   1363\u001b[0m             \u001b[0msrc\u001b[0m\u001b[1;33m,\u001b[0m\u001b[1;33m\u001b[0m\u001b[1;33m\u001b[0m\u001b[0m\n\u001b[0;32m   1364\u001b[0m             \u001b[1;34m\"r\"\u001b[0m\u001b[1;33m,\u001b[0m\u001b[1;33m\u001b[0m\u001b[1;33m\u001b[0m\u001b[0m\n",
      "\u001b[1;32mc:\\users\\елена стасько\\appdata\\local\\programs\\python\\python39\\lib\\site-packages\\pandas\\io\\common.py\u001b[0m in \u001b[0;36mget_handle\u001b[1;34m(path_or_buf, mode, encoding, compression, memory_map, is_text, errors, storage_options)\u001b[0m\n\u001b[0;32m    640\u001b[0m                 \u001b[0merrors\u001b[0m \u001b[1;33m=\u001b[0m \u001b[1;34m\"replace\"\u001b[0m\u001b[1;33m\u001b[0m\u001b[1;33m\u001b[0m\u001b[0m\n\u001b[0;32m    641\u001b[0m             \u001b[1;31m# Encoding\u001b[0m\u001b[1;33m\u001b[0m\u001b[1;33m\u001b[0m\u001b[1;33m\u001b[0m\u001b[0m\n\u001b[1;32m--> 642\u001b[1;33m             handle = open(\n\u001b[0m\u001b[0;32m    643\u001b[0m                 \u001b[0mhandle\u001b[0m\u001b[1;33m,\u001b[0m\u001b[1;33m\u001b[0m\u001b[1;33m\u001b[0m\u001b[0m\n\u001b[0;32m    644\u001b[0m                 \u001b[0mioargs\u001b[0m\u001b[1;33m.\u001b[0m\u001b[0mmode\u001b[0m\u001b[1;33m,\u001b[0m\u001b[1;33m\u001b[0m\u001b[1;33m\u001b[0m\u001b[0m\n",
      "\u001b[1;31mFileNotFoundError\u001b[0m: [Errno 2] No such file or directory: '/datasets/hypothesis.csv'"
     ]
    }
   ],
   "source": [
    "hypothesis = pd.read_csv('/datasets/hypothesis.csv')\n",
    "orders = pd.read_csv('/datasets/orders.csv')\n",
    "visitors = pd.read_csv('/datasets/visitors.csv')"
   ]
  },
  {
   "cell_type": "code",
   "execution_count": null,
   "metadata": {},
   "outputs": [],
   "source": [
    "def data_information(dataset):\n",
    "    print('Первые строки таблицы:')\n",
    "    print('*'*50)\n",
    "    display(dataset.head())\n",
    "    print('Информация о таблице:')\n",
    "    print('*'*50)\n",
    "    dataset.info()\n",
    "    print('Количество явных дубликатов:')\n",
    "    print('*'*50)\n",
    "    display(dataset.duplicated().sum())"
   ]
  },
  {
   "cell_type": "code",
   "execution_count": null,
   "metadata": {},
   "outputs": [],
   "source": [
    "data_information(hypothesis)"
   ]
  },
  {
   "cell_type": "code",
   "execution_count": null,
   "metadata": {},
   "outputs": [],
   "source": [
    "data_information(orders)"
   ]
  },
  {
   "cell_type": "code",
   "execution_count": null,
   "metadata": {},
   "outputs": [],
   "source": [
    "data_information(visitors)"
   ]
  },
  {
   "cell_type": "markdown",
   "metadata": {},
   "source": [
    "Первичные наблюдения:\n",
    "\n",
    "- Всего в датасете hypothesis 9 строк и 5 столбцов, пропуски в датасете отсутствуют;\n",
    "- Всего в датасете orders 1197 строк и 5 столбцов, пропуски в датасете отсутствуют;\n",
    "- Всего в датасете visitors 62 строки и 3 столбца, пропуски в датасете отсутствуют;\n",
    "- Названия столбцов в датасете hypothesis и orders необходимо привести к нижнему регистру;\n",
    "- В датасетах orders и visitors есть столбцы, содержащие дату и время, необходимо привести их к соответствующему к типу даты."
   ]
  },
  {
   "cell_type": "markdown",
   "metadata": {},
   "source": [
    "***Приведем к нижнему регистру названия столбцов в датасете:***"
   ]
  },
  {
   "cell_type": "code",
   "execution_count": null,
   "metadata": {},
   "outputs": [],
   "source": [
    "hypothesis.columns = hypothesis.columns.str.lower()\n",
    "orders.columns = orders.columns.str.lower()"
   ]
  },
  {
   "cell_type": "markdown",
   "metadata": {},
   "source": [
    "***Преобразуем дату и время***"
   ]
  },
  {
   "cell_type": "code",
   "execution_count": null,
   "metadata": {},
   "outputs": [],
   "source": [
    "orders['date'] = orders['date'].map(lambda x: dt.datetime.strptime(x, '%Y-%m-%d'))\n",
    "\n",
    "visitors['date'] = visitors['date'].map(lambda x: dt.datetime.strptime(x, '%Y-%m-%d'))"
   ]
  },
  {
   "cell_type": "markdown",
   "metadata": {},
   "source": [
    "### Приоритизация гипотез"
   ]
  },
  {
   "cell_type": "markdown",
   "metadata": {},
   "source": [
    "#### Применим фреймворк ICE для приоритизации гипотез. Отсортируем их по убыванию приоритета."
   ]
  },
  {
   "cell_type": "code",
   "execution_count": null,
   "metadata": {},
   "outputs": [],
   "source": [
    "hypothesis['ICE'] = hypothesis['impact']*hypothesis['confidence']/hypothesis['efforts']\n",
    "\n",
    "pd.options.display.max_colwidth = 1\n",
    "display(hypothesis[['hypothesis','ICE']].sort_values(by='ICE',ascending=False))"
   ]
  },
  {
   "cell_type": "code",
   "execution_count": null,
   "metadata": {},
   "outputs": [],
   "source": [
    "ax = hypothesis[['hypothesis', 'ICE']].set_index('hypothesis').sort_values('ICE', ascending=True).plot(kind='barh', ec='black')\n",
    "ax.set_xlabel('Приоритет')\n",
    "ax.set_ylabel('Гипотеза')\n",
    "ax.set_title('ICE')\n",
    "plt.show()"
   ]
  },
  {
   "cell_type": "markdown",
   "metadata": {},
   "source": [
    "Наиболее перспективными гипотезами являются гитпотезы под номерами: 9, 1, 8, 7"
   ]
  },
  {
   "cell_type": "markdown",
   "metadata": {},
   "source": [
    "#### Применим фреймворк RICE для приоритизации гипотез. Отсортируем их по убыванию приоритета."
   ]
  },
  {
   "cell_type": "code",
   "execution_count": null,
   "metadata": {},
   "outputs": [],
   "source": [
    "hypothesis['RICE'] = hypothesis['reach']*hypothesis['impact']*hypothesis['confidence'] / hypothesis['efforts']\n",
    "\n",
    "pd.options.display.max_colwidth = 1\n",
    "display(hypothesis[['hypothesis', 'RICE']].sort_values(by='RICE', ascending = False))"
   ]
  },
  {
   "cell_type": "code",
   "execution_count": null,
   "metadata": {},
   "outputs": [],
   "source": [
    "ax = hypothesis[['hypothesis', 'RICE']].set_index('hypothesis').sort_values('RICE', ascending=True).plot(kind='barh', ec='black')\n",
    "ax.set_xlabel('Приоритет')\n",
    "ax.set_ylabel('Гипотеза')\n",
    "ax.set_title('RICE')\n",
    "plt.show()"
   ]
  },
  {
   "cell_type": "markdown",
   "metadata": {},
   "source": [
    "При применении RICE приоритизация гипотез изменила порядок, теперь наиболее перспективными гипотезами стали номера: 8, 3, 1, 7."
   ]
  },
  {
   "cell_type": "markdown",
   "metadata": {},
   "source": [
    "#### Как изменилась приоритизация гипотез при применении RICE вместо ICE. "
   ]
  },
  {
   "cell_type": "markdown",
   "metadata": {},
   "source": [
    "При применении фреймворка RICE на первое место вышла гипотеза под номером 8 из-за того, что она имеет самый высокий параметр Reach равный 10, что означает действие данной гипотезы затронет большое количество пользователей.\n",
    "\n",
    "При приминении фреймворка ICE на первом месте была гипотеза под номером 9, которая не вошла в список RICE.\n",
    "\n",
    "Гипотезы под номерами 1,7 и 8 вошли в оба списка приоритетных гипотез.\n",
    "\n",
    "Причина изменения результата в том, что формула фреймворка ICE, в отличии от RICE не учитывает охват."
   ]
  },
  {
   "cell_type": "markdown",
   "metadata": {},
   "source": [
    "### Анализ A/B-теста"
   ]
  },
  {
   "cell_type": "code",
   "execution_count": null,
   "metadata": {},
   "outputs": [],
   "source": [
    "orders"
   ]
  },
  {
   "cell_type": "markdown",
   "metadata": {},
   "source": [
    "Проверим есть в таблице пользователи, которые видели обе версии сайта"
   ]
  },
  {
   "cell_type": "code",
   "execution_count": null,
   "metadata": {},
   "outputs": [],
   "source": [
    "visitorsab=np.intersect1d(orders[orders['group'] == 'A']['visitorid'].unique(),\\\n",
    "                          orders[orders['group'] == 'B']['visitorid'].unique())\n",
    "visitorsab"
   ]
  },
  {
   "cell_type": "code",
   "execution_count": null,
   "metadata": {},
   "outputs": [],
   "source": [
    "#уберем пользователей, оказавшихся одновременно в двух группах, из датафрейма\n",
    "orders=orders.query('visitorid not in @visitorsab')\n",
    "orders"
   ]
  },
  {
   "cell_type": "markdown",
   "metadata": {},
   "source": [
    "Из-за ошибки в распределении пользователей по группам, пришлось удалить из датафрейма около 15% данных, что немало, но основной принцип работы A/B-теста - один пользователь видит только одну версию сайта на протяжении всего теста."
   ]
  },
  {
   "cell_type": "code",
   "execution_count": null,
   "metadata": {},
   "outputs": [],
   "source": [
    "visitors"
   ]
  },
  {
   "cell_type": "markdown",
   "metadata": {},
   "source": [
    "Чтобы построить графики, нужно собрать кумулятивные данные. "
   ]
  },
  {
   "cell_type": "code",
   "execution_count": null,
   "metadata": {},
   "outputs": [],
   "source": [
    "# создаем массив уникальных пар значений дат и групп теста\n",
    "datesGroups = orders[['date','group']].drop_duplicates() "
   ]
  },
  {
   "cell_type": "markdown",
   "metadata": {},
   "source": [
    "Соберём агрегированные кумулятивные по дням данные о заказах"
   ]
  },
  {
   "cell_type": "code",
   "execution_count": null,
   "metadata": {},
   "outputs": [],
   "source": [
    "#cоберём агрегированные кумулятивные по дням данные о заказах:\n",
    "ordersAggregated = datesGroups.apply(\n",
    "    lambda x: orders[\n",
    "        np.logical_and(\n",
    "            orders['date'] <= x['date'], orders['group'] == x['group']\n",
    "        )\n",
    "    ].agg(\n",
    "        {'date': 'max',\n",
    "         'group': 'max',\n",
    "         'transactionid': 'nunique',\n",
    "         'visitorid': 'nunique',\n",
    "         'revenue': 'sum'}\n",
    "    ),\n",
    "    axis=1,\n",
    ").sort_values(by=['date', 'group'])"
   ]
  },
  {
   "cell_type": "code",
   "execution_count": null,
   "metadata": {},
   "outputs": [],
   "source": [
    "# получим агрегированные кумулятивные по дням данные о посетителях интернет-магазина:\n",
    "visitorsAggregated = datesGroups.apply(\n",
    "    lambda x: visitors[\n",
    "        np.logical_and(\n",
    "            visitors['date'] <= x['date'], visitors['group'] == x['group']\n",
    "        )\n",
    "    ].agg({'date': 'max', 'group': 'max', 'visitors': 'sum'}),\n",
    "    axis=1,\n",
    ").sort_values(by=['date', 'group'])"
   ]
  },
  {
   "cell_type": "markdown",
   "metadata": {},
   "source": [
    "Создадим датафрейм cumulativeData"
   ]
  },
  {
   "cell_type": "code",
   "execution_count": null,
   "metadata": {},
   "outputs": [],
   "source": [
    "#объединим кумулятивные данные в одной таблице и присваивоим столбцам названия\n",
    "cumulativeData = ordersAggregated.merge(visitorsAggregated, left_on=['date', 'group'], right_on=['date', 'group'])\n",
    "cumulativeData.columns = ['date', 'group', 'orders', 'buyers', 'revenue', 'visitors']\n",
    "cumulativeData"
   ]
  },
  {
   "cell_type": "markdown",
   "metadata": {},
   "source": [
    "#### Построим график кумулятивной выручки по группам"
   ]
  },
  {
   "cell_type": "code",
   "execution_count": null,
   "metadata": {},
   "outputs": [],
   "source": [
    "# датафрейм с кумулятивным количеством заказов и кумулятивной выручкой по дням в группе А\n",
    "cumulativeRevenueA = cumulativeData[cumulativeData['group']=='A'][['date','revenue', 'orders']]\n",
    "\n",
    "# датафрейм с кумулятивным количеством заказов и кумулятивной выручкой по дням в группе B\n",
    "cumulativeRevenueB = cumulativeData[cumulativeData['group']=='B'][['date','revenue', 'orders']]\n",
    "\n",
    "# Строим график выручки группы А\n",
    "plt.plot(cumulativeRevenueA['date'], cumulativeRevenueA['revenue'], label='A')\n",
    "# Строим график выручки группы B\n",
    "plt.plot(cumulativeRevenueB['date'], cumulativeRevenueB['revenue'], label='B')\n",
    "\n",
    "plt.rcParams['figure.figsize'] = [12, 12]\n",
    "plt.title('График кумулятивной выручки по группам')\n",
    "plt.ylabel(\"Выручка\")\n",
    "plt.xticks(rotation=45)\n",
    "plt.legend()\n",
    "plt.show()"
   ]
  },
  {
   "cell_type": "markdown",
   "metadata": {},
   "source": [
    "Выручка на протяжении всего теста увеличивается в обоих группах. Однако 19.08.2019 в группе В просходит резкий всплеск выручки. Это может сигнализировать о росте числа заказов, либо о появлении очень дорогих заказов в выборке. "
   ]
  },
  {
   "cell_type": "markdown",
   "metadata": {},
   "source": [
    "#### Построим график кумулятивного среднего чека по группам. "
   ]
  },
  {
   "cell_type": "code",
   "execution_count": null,
   "metadata": {},
   "outputs": [],
   "source": [
    "plt.plot(cumulativeRevenueA['date'], cumulativeRevenueA['revenue']/cumulativeRevenueA['orders'], label='A')\n",
    "plt.plot(cumulativeRevenueB['date'], cumulativeRevenueB['revenue']/cumulativeRevenueB['orders'], label='B')\n",
    "plt.rcParams['figure.figsize'] = [12, 12]\n",
    "plt.title('График кумулятивного среднего чека по группам')\n",
    "plt.ylabel(\"Выручка\")\n",
    "plt.xticks(rotation=45)\n",
    "plt.legend()\n",
    "plt.show()"
   ]
  },
  {
   "cell_type": "markdown",
   "metadata": {},
   "source": [
    "Ситуация похожа на график выше, аналогично с 19.08.2019 г. происходит резкий скачок группы В. "
   ]
  },
  {
   "cell_type": "markdown",
   "metadata": {},
   "source": [
    "#### Построим график относительного изменения кумулятивного среднего чека группы B к группе A."
   ]
  },
  {
   "cell_type": "code",
   "execution_count": null,
   "metadata": {},
   "outputs": [],
   "source": [
    "# собираем данные в одном датафрейме\n",
    "mergedCumulativeRevenue = cumulativeRevenueA.merge(cumulativeRevenueB, left_on='date', right_on='date', how='left', suffixes=['A', 'B'])\n",
    "\n",
    "# cтроим отношение средних чеков\n",
    "plt.plot(mergedCumulativeRevenue['date'], (mergedCumulativeRevenue['revenueB']/mergedCumulativeRevenue['ordersB'])/(mergedCumulativeRevenue['revenueA']/mergedCumulativeRevenue['ordersA'])-1)\n",
    "\n",
    "# добавляем ось X\n",
    "plt.axhline(y=0, color='red', linestyle='--') \n",
    "\n",
    "plt.title('График относительного изменения кумулятивного среднего чека')\n",
    "plt.ylabel(\"Выручка\")\n",
    "plt.xticks(rotation=45)\n",
    "plt.show()"
   ]
  },
  {
   "cell_type": "markdown",
   "metadata": {},
   "source": [
    "Видим резкие скачки на графике в нескольких точках. Можно предположить, что в выборке есть крупные заказы и выбросы."
   ]
  },
  {
   "cell_type": "markdown",
   "metadata": {},
   "source": [
    "#### Построим график кумулятивного среднего количества заказов на посетителя по группам."
   ]
  },
  {
   "cell_type": "code",
   "execution_count": null,
   "metadata": {},
   "outputs": [],
   "source": [
    "# считаем кумулятивную конверсию\n",
    "cumulativeData['conversion'] = cumulativeData['orders']/cumulativeData['visitors']\n",
    "\n",
    "# отделяем данные по группе A\n",
    "cumulativeDataA = cumulativeData[cumulativeData['group']=='A']\n",
    "\n",
    "# отделяем данные по группе B\n",
    "cumulativeDataB = cumulativeData[cumulativeData['group']=='B']\n",
    "\n",
    "# строим графики\n",
    "plt.plot(cumulativeDataA['date'], cumulativeDataA['conversion'], label='A')\n",
    "plt.plot(cumulativeDataB['date'], cumulativeDataB['conversion'], label='B')\n",
    "plt.title('График кумулятивного среднего количества заказов на посетителя ')\n",
    "plt.ylabel('Выручка')\n",
    "plt.xticks(rotation=45)\n",
    "plt.legend()\n",
    "plt.show()"
   ]
  },
  {
   "cell_type": "markdown",
   "metadata": {},
   "source": [
    "График показывает сильные колебания. Конверсия группы В выше конверсии группы А."
   ]
  },
  {
   "cell_type": "markdown",
   "metadata": {},
   "source": [
    "#### Построим график относительного изменения кумулятивного среднего количества заказов на посетителя группы B к группе A. "
   ]
  },
  {
   "cell_type": "code",
   "execution_count": null,
   "metadata": {},
   "outputs": [],
   "source": [
    "mergedCumulativeConversions = cumulativeDataA[['date','conversion']].merge(cumulativeDataB[['date','conversion']],\\\n",
    "                                                  left_on='date', right_on='date', how='left', suffixes=['A', 'B'])\n",
    "\n",
    "plt.plot(mergedCumulativeConversions['date'], mergedCumulativeConversions['conversionB']/mergedCumulativeConversions['conversionA']-1)\n",
    "plt.title('График относительного изменения кумулятивного среднего количества заказов')\n",
    "plt.ylabel('Выручка')\n",
    "plt.xticks(rotation=45)\n",
    "plt.axhline(y=0, color='black', linestyle='--')\n",
    "plt.axhline(y=-0.1, color='grey', linestyle='--')\n",
    "plt.show()"
   ]
  },
  {
   "cell_type": "markdown",
   "metadata": {},
   "source": [
    "В начале теста группа В вырвалась сильно вперед, затем незначительно просела, но тенденция роста остается."
   ]
  },
  {
   "cell_type": "markdown",
   "metadata": {},
   "source": [
    "#### Построим точечный график количества заказов по пользователям."
   ]
  },
  {
   "cell_type": "code",
   "execution_count": null,
   "metadata": {},
   "outputs": [],
   "source": [
    "ordersByUsers = (\n",
    "    orders.groupby('visitorid', as_index=False)\n",
    "    .agg({'transactionid': 'nunique'})\n",
    ")\n",
    "\n",
    "ordersByUsers.columns = ['userid', 'orders']\n",
    "\n",
    "display(ordersByUsers.sort_values(by='orders', ascending=False).head(10)) "
   ]
  },
  {
   "cell_type": "code",
   "execution_count": null,
   "metadata": {},
   "outputs": [],
   "source": [
    "x_values = pd.Series(range(0,len(ordersByUsers['orders'])))\n",
    "plt.scatter(x_values, ordersByUsers['orders'])\n",
    "plt.title('Точечная диаграмма числа заказов на одного пользователя')\n",
    "plt.ylabel('Количество заказов')\n",
    "plt.show()"
   ]
  },
  {
   "cell_type": "markdown",
   "metadata": {},
   "source": [
    "В основном пользователи совершают покупки 1-2 раза, но есть покупатели около 3-х покупок."
   ]
  },
  {
   "cell_type": "markdown",
   "metadata": {},
   "source": [
    "#### Посчитаем 95-й и 99-й перцентили количества заказов на пользователя. Выберем границу для определения аномальных пользователей.\n",
    "\n"
   ]
  },
  {
   "cell_type": "code",
   "execution_count": null,
   "metadata": {
    "scrolled": true
   },
   "outputs": [],
   "source": [
    "percentiles = np.percentile(ordersByUsers['orders'], [95, 99])\n",
    "print('Перцентили:\\n95: {}\\n99: {}'.format(percentiles[0],percentiles[1]))"
   ]
  },
  {
   "cell_type": "markdown",
   "metadata": {},
   "source": [
    "Не более 5% пользователей оформляли 1 заказ. И 1% пользователей оформляли заказы более двух раз. "
   ]
  },
  {
   "cell_type": "markdown",
   "metadata": {},
   "source": [
    "#### Построим точечный график стоимостей заказов. "
   ]
  },
  {
   "cell_type": "code",
   "execution_count": null,
   "metadata": {},
   "outputs": [],
   "source": [
    "x_values = pd.Series(range(0,len(orders['revenue'])))\n",
    "plt.scatter(x_values, orders['revenue']) \n",
    "plt.title('Точечная диаграмма стоимостей заказов на одного пользователя')\n",
    "plt.ylabel('Сумма заказа')\n",
    "plt.show()"
   ]
  },
  {
   "cell_type": "markdown",
   "metadata": {},
   "source": [
    "На графике видно два аномальных значения в виде стоимости заказа около 200 000 и заказа более чем на 1 200 000."
   ]
  },
  {
   "cell_type": "code",
   "execution_count": null,
   "metadata": {},
   "outputs": [],
   "source": [
    "#увеличим масштаб и посмотрим на него без аномально больших значений\n",
    "x_values = pd.Series(range(0,len(orders['revenue'])))\n",
    "plt.scatter(x_values, orders['revenue']) \n",
    "plt.title('Точечная диаграмма стоимостей заказов на одного пользователя')\n",
    "plt.ylabel('Сумма заказа')\n",
    "plt.ylim([0, 100000])\n",
    "plt.show()"
   ]
  },
  {
   "cell_type": "markdown",
   "metadata": {},
   "source": [
    "Основное количество заказов, совершаемых пользователями, имеют стоимость до 20 000."
   ]
  },
  {
   "cell_type": "markdown",
   "metadata": {},
   "source": [
    "#### Посчитаем 95-й и 99-й перцентили стоимости заказов."
   ]
  },
  {
   "cell_type": "code",
   "execution_count": null,
   "metadata": {},
   "outputs": [],
   "source": [
    "percentiles = np.percentile(orders['revenue'], [95, 99])\n",
    "print('Перцентили:\\n95: {}\\n99: {}'.format(percentiles[0],percentiles[1]))"
   ]
  },
  {
   "cell_type": "markdown",
   "metadata": {},
   "source": [
    "Не более 5% заказов дороже 26 785 рублей и не более 1% дороже 53 904 рублей."
   ]
  },
  {
   "cell_type": "markdown",
   "metadata": {},
   "source": [
    "#### Посчитаем статистическую значимость различий в среднем количестве заказов на посетителя между группами по «сырым» данным. "
   ]
  },
  {
   "cell_type": "markdown",
   "metadata": {},
   "source": [
    "Посчитаем статистическую значимость различия в среднем количестве заказов между группами."
   ]
  },
  {
   "cell_type": "code",
   "execution_count": null,
   "metadata": {},
   "outputs": [],
   "source": [
    "ordersByUsersA = (\n",
    "    orders[orders['group'] == 'A']\n",
    "    .groupby('visitorid', as_index=False)\n",
    "    .agg({'transactionid': pd.Series.nunique})\n",
    ")\n",
    "ordersByUsersA.columns = ['userId', 'orders']\n",
    "\n",
    "ordersByUsersB = (\n",
    "    orders[orders['group'] == 'B']\n",
    "    .groupby('visitorid', as_index=False)\n",
    "    .agg({'transactionid': pd.Series.nunique})\n",
    ")\n",
    "ordersByUsersB.columns = ['userId', 'orders'] "
   ]
  },
  {
   "cell_type": "code",
   "execution_count": null,
   "metadata": {},
   "outputs": [],
   "source": [
    "print('Количество покупателей в группе A: {}'.format(ordersByUsersA['orders'].count()))\n",
    "print('Количество покупок в группе А: {}'.format(ordersByUsersA['orders'].sum()))\n",
    "print('Количество посетителей в группе A: {}\\n'.format(visitors[visitors['group']=='A']['visitors'].sum()))\n",
    "print('Количество покупателей в группе B: {}'.format(ordersByUsersB['orders'].count()))\n",
    "print('Количество покупок в группе B: {}'.format(ordersByUsersB['orders'].sum()))\n",
    "print('Количество посетителей в группе B: {}'.format(visitors[visitors['group']=='B']['visitors'].sum()))"
   ]
  },
  {
   "cell_type": "code",
   "execution_count": null,
   "metadata": {},
   "outputs": [],
   "source": [
    "# датафрейм с посетителями по дням в группе А\n",
    "visitorsADaily = visitors[visitors['group']=='A'][['date', 'visitors']]\n",
    "#переименуем столбцы\n",
    "visitorsADaily.columns = ['date', 'visitorsPerDateA']"
   ]
  },
  {
   "cell_type": "code",
   "execution_count": null,
   "metadata": {},
   "outputs": [],
   "source": [
    "# датафрейм с посетителями по дням в группе B\n",
    "visitorsBDaily = visitors[visitors['group'] == 'B'][['date', 'visitors']]\n",
    "#переименуем столбцы\n",
    "visitorsBDaily.columns = ['date', 'visitorsPerDateB']"
   ]
  },
  {
   "cell_type": "markdown",
   "metadata": {},
   "source": [
    "Объявим переменные sampleA и sampleB, в которых пользователям из разных групп будет соответствовать количество заказов. Тем, кто ничего не заказал, будут соответствовать нули."
   ]
  },
  {
   "cell_type": "code",
   "execution_count": null,
   "metadata": {},
   "outputs": [],
   "source": [
    "sampleA = pd.concat([ordersByUsersA['orders'],pd.Series(0, index=np.arange(visitorsADaily['visitorsPerDateA']\\\n",
    "                    .sum() - len(ordersByUsersA['orders'])), name='orders')],axis=0)\n",
    "\n",
    "sampleB = pd.concat([ordersByUsersB['orders'],pd.Series(0, index=np.arange(visitorsBDaily['visitorsPerDateB']\\\n",
    "                    .sum() - len(ordersByUsersB['orders'])), name='orders')],axis=0)"
   ]
  },
  {
   "cell_type": "markdown",
   "metadata": {},
   "source": [
    "Сформулируем гипотезы:\n",
    "1. H0: По «сырым» данным различий в конверсии групп A и B нет\n",
    "2. H1: По «сырым» данным разница в конверсии групп A и B статистически значима"
   ]
  },
  {
   "cell_type": "code",
   "execution_count": null,
   "metadata": {},
   "outputs": [],
   "source": [
    "#применим критерий Манна-Уитни\n",
    "print('Относительный прирост конверсии группы B по отношению к группе A: {0:.3f}'.format(sampleB.mean()/sampleA.mean()-1)) \n",
    "print('alpha =',0.05)\n",
    "alpha = 0.05\n",
    "results = stats.mannwhitneyu(sampleA, sampleB)\n",
    "print('P-value = {0:.3f}'.format(stats.mannwhitneyu(sampleA, sampleB)[1]))\n",
    "if results.pvalue < alpha:\n",
    "    print('Отвергаем нулевую гипотезу')\n",
    "else:\n",
    "    print('Не получилось отвергнуть нулевую гипотезу')"
   ]
  },
  {
   "cell_type": "markdown",
   "metadata": {},
   "source": [
    "P-value  = 0.011. Оно меньше 0.05, значит статистически значимое различие в среднем числе заказов между группами есть. Oтносительный прирост конверсии группы B равен 16%."
   ]
  },
  {
   "cell_type": "markdown",
   "metadata": {},
   "source": [
    "#### Посчитаем статистическую значимость различий в среднем чеке заказа между группами по «сырым» данным. "
   ]
  },
  {
   "cell_type": "markdown",
   "metadata": {},
   "source": [
    "Сформулируем гипотезы:\n",
    "1. H0: По «сырым» данным различий в средних чеках в группах A и B нет\n",
    "2. H1: По «сырым» данным разница в средних чеках в группах A и B статистически значима"
   ]
  },
  {
   "cell_type": "code",
   "execution_count": null,
   "metadata": {},
   "outputs": [],
   "source": [
    "#применим критерий Манна-Уитни\n",
    "print('Относительное изменение среднего чека в группе B по отношению группы A: {0:.3f}'.format(orders[orders['group']=='B']['revenue'].mean()/orders[orders['group']=='A']['revenue'].mean()-1))\n",
    "print('alpha =',0.05)\n",
    "results = stats.mannwhitneyu(orders[orders['group']=='A']['revenue'], orders[orders['group']=='B']['revenue'])\n",
    "print('P-value: {0:.3f}'.format(results.pvalue))\n",
    "if results.pvalue < alpha:\n",
    "    print('Отвергаем нулевую гипотезу')\n",
    "else:\n",
    "    print('Не получилось отвергнуть нулевую гипотезу')"
   ]
  },
  {
   "cell_type": "markdown",
   "metadata": {},
   "source": [
    "P-value больше 0.05 - статистически значимых различий в среднем чеке между группами нет, но различие среднего чека между сегментами 28.7%"
   ]
  },
  {
   "cell_type": "markdown",
   "metadata": {},
   "source": [
    "#### Посчитаем статистическую значимость различий в среднем количестве заказов на посетителя между группами по «очищенным» данным. "
   ]
  },
  {
   "cell_type": "markdown",
   "metadata": {},
   "source": [
    "Ранее мы установили, что не более 5% заказов дороже 26 785 рублей и не более 1% дороже 53 904 рублей.\n",
    "А также установили, что более 5% пользователей оформляли больше чем 1 заказ и 1% пользователей оформляли заказы более двух."
   ]
  },
  {
   "cell_type": "markdown",
   "metadata": {},
   "source": [
    "Сделаем срезы пользователей с числом заказов больше 2-х и стоимостью заказа дороже 53 904. Объединим их в таблице abnormalUsers и узнаем, сколько всего аномальных пользователей."
   ]
  },
  {
   "cell_type": "code",
   "execution_count": null,
   "metadata": {},
   "outputs": [],
   "source": [
    "usersWithManyOrders = pd.concat([ordersByUsersA[ordersByUsersA['orders'] > int(np.percentile(ordersByUsers['orders'], [99]))]['userId'],\\\n",
    "                                 ordersByUsersB[ordersByUsersB['orders'] > int(np.percentile(ordersByUsers['orders'], [99]))]['userId']], axis = 0)\n",
    "usersWithExpensiveOrders = orders[orders['revenue'] > int(np.percentile(orders['revenue'], [99]))]['visitorid']\n",
    "abnormalUsers = pd.concat([usersWithManyOrders, usersWithExpensiveOrders], axis = 0).drop_duplicates().sort_values()\n",
    "print(abnormalUsers.head(5))\n",
    "print('Количество аномальных пользователей:' ,len(abnormalUsers)) "
   ]
  },
  {
   "cell_type": "code",
   "execution_count": null,
   "metadata": {},
   "outputs": [],
   "source": [
    "sampleAFiltered = pd.concat([ordersByUsersA[np.logical_not(ordersByUsersA['userId'].isin(abnormalUsers))]['orders'],\\\n",
    "                             pd.Series(0, index=np.arange(visitorsADaily['visitorsPerDateA'].sum() - len(ordersByUsersA['orders'])),\\\n",
    "                             name='orders')],axis=0)\n",
    "sampleBFiltered = pd.concat([ordersByUsersB[np.logical_not(ordersByUsersB['userId'].isin(abnormalUsers))]['orders'],\\\n",
    "                             pd.Series(0, index=np.arange(visitorsBDaily['visitorsPerDateB'].sum() - len(ordersByUsersB['orders'])),\\\n",
    "                             name='orders')],axis=0)"
   ]
  },
  {
   "cell_type": "markdown",
   "metadata": {},
   "source": [
    "Сформулируем гипотезы:\n",
    "1. H0: По очищенным данным разницы в конверсии групп A и B нет\n",
    "2. H1: По очищенным данным разница в конверсии групп A и B статистически значима"
   ]
  },
  {
   "cell_type": "code",
   "execution_count": null,
   "metadata": {},
   "outputs": [],
   "source": [
    "#применим критерий Манна-Уитни\n",
    "print('Относительный прирост конверсии группы B по отношению к группе A по \"очищенным данным\": {0:.3f}'.format(sampleBFiltered.mean()/sampleAFiltered.mean()-1)) \n",
    "print('alpha =',0.05)\n",
    "results = stats.mannwhitneyu(sampleAFiltered, sampleBFiltered)\n",
    "print('P-value = {0:.3f}'.format(results.pvalue))\n",
    "if results.pvalue < alpha:\n",
    "    print('Отвергаем нулевую гипотезу')\n",
    "else:\n",
    "    print('Не получилось отвергнуть нулевую гипотезу')"
   ]
  },
  {
   "cell_type": "markdown",
   "metadata": {},
   "source": [
    "P-value меньше 0.05 - статистически значимое различие есть, как и в случае с \"сырыми\" данными."
   ]
  },
  {
   "cell_type": "markdown",
   "metadata": {},
   "source": [
    "#### Посчитаем статистическую значимость различий в среднем чеке заказа между группами по «очищенным» данным."
   ]
  },
  {
   "cell_type": "markdown",
   "metadata": {},
   "source": [
    "Сформулируем гипотезы:\n",
    "1. H0: По очищенным данным различий в средних чеках в группах A и B нет\n",
    "2. H1: По очищенным данным разница в средних чеках в группах A и B статистически значима"
   ]
  },
  {
   "cell_type": "code",
   "execution_count": null,
   "metadata": {},
   "outputs": [],
   "source": [
    "print('Относительное изменение среднего чека в группе B по отношению группы A по \"очищенным данным\": {0:.3f}'.format(\n",
    "    orders[np.logical_and(orders['group']=='B',np.logical_not(orders['visitorid'].isin(abnormalUsers)))]['revenue'].mean()/\n",
    "    orders[np.logical_and(\n",
    "        orders['group']=='A',\n",
    "        np.logical_not(orders['visitorid'].isin(abnormalUsers)))]['revenue'].mean() - 1))\n",
    "\n",
    "print('alpha =',0.05)\n",
    "results = stats.mannwhitneyu(\n",
    "    orders[np.logical_and(\n",
    "        orders['group']=='A',\n",
    "        np.logical_not(orders['visitorid'].isin(abnormalUsers)))]['revenue'],\n",
    "    orders[np.logical_and(\n",
    "        orders['group']=='B',\n",
    "        np.logical_not(orders['visitorid'].isin(abnormalUsers)))]['revenue'])\n",
    "\n",
    "print('P-value: {0:.3f}'.format(results.pvalue))\n",
    "if results.pvalue < alpha:\n",
    "    print('Отвергаем нулевую гипотезу')\n",
    "else:\n",
    "    print('Не получилось отвергнуть нулевую гипотезу')"
   ]
  },
  {
   "cell_type": "markdown",
   "metadata": {},
   "source": [
    "P-value значительно больше 0.05, значит статистически значимых различий как и в случае с \"сырыми\" данными нет. При этом разница между сегментами после очищения данных от аномалий и выбросов кратно сократилась с 28.7% до 3.2%."
   ]
  },
  {
   "cell_type": "markdown",
   "metadata": {},
   "source": [
    "#### Примите решение по результатам теста и объясните его. Варианты решений:\n",
    "1. Остановить тест, зафиксировать победу одной из групп.\n",
    "2. Остановить тест, зафиксировать отсутствие различий между группами.\n",
    "3. Продолжить тест."
   ]
  },
  {
   "cell_type": "markdown",
   "metadata": {},
   "source": [
    "**При примерно равных показателях среднего чека в группах А и В, разница показателей конверсии между группами А и В до и после очистки данных является статистически значимой, что пользволяет принять решение остановить тестирование и зафиксировать победу группы B.**"
   ]
  },
  {
   "cell_type": "markdown",
   "metadata": {},
   "source": [
    "**Вывод по результатам теста:**\n",
    "- Различие в конверсиях в группе А и В было установленно и по \"сырым\" и по \"очищенным\" данным. Oтносительный прирост конверсии группы B равен 16.0% по \"сырым\" данным и 18.9 % по \"очищенным\" данным.\n",
    "\n",
    "\n",
    "- Тест показал отсутствие различий в средних чеках у групп А и В как по \"сырым\", так и по \"очищенным\" данным. При этом средний чек после очищения данных от аномалий и выбросов изменился с 28.7% до 3.2%.\n",
    "\n",
    "\n",
    "- Кумулятивные метрики за время проведения теста показывали лучший результат в группе B. До очистки данных от аномальных пользователей график кумулятивного среднего чека группы В показывал резкие колебания, но после очищения данных разница между средними чеками стала минимальной."
   ]
  },
  {
   "cell_type": "markdown",
   "metadata": {},
   "source": [
    "**Вывод по приоритезации гипотез:**\n",
    "- При применении фреймворка ICE наибольшую оценку имели гпиотезы под номерами 9,1 и 8. После применения фреймворка RICE приоритеты изменились и на превое место вышли гипотезы 8, 3 и 1. Это объясняется тем, что формула фреймворка ICE, в отличии от RICE не учитывает охват.\n",
    "\n",
    "- В нашем случае наиболее приоритетными гипотезами будут 8 и 1, которые звучат следующим образом:\n",
    "\n",
    "1. \"Добавить форму подписки на все основные страницы, чтобы собрать базу клиентов для email-рассылок\",\n",
    "2. \"Добавить два новых канала привлечения трафика, что позволит привлекать на 30% больше пользователей\"."
   ]
  }
 ],
 "metadata": {
  "ExecuteTimeLog": [
   {
    "duration": 1308,
    "start_time": "2023-12-12T13:33:32.830Z"
   },
   {
    "duration": 192,
    "start_time": "2023-12-12T13:35:45.188Z"
   },
   {
    "duration": 3,
    "start_time": "2023-12-12T13:40:01.115Z"
   },
   {
    "duration": 22,
    "start_time": "2023-12-12T13:40:32.555Z"
   },
   {
    "duration": 15,
    "start_time": "2023-12-12T13:42:16.381Z"
   },
   {
    "duration": 13,
    "start_time": "2023-12-12T13:42:54.902Z"
   },
   {
    "duration": 1135,
    "start_time": "2023-12-12T13:45:11.211Z"
   },
   {
    "duration": 73,
    "start_time": "2023-12-12T13:45:12.348Z"
   },
   {
    "duration": 4,
    "start_time": "2023-12-12T13:45:12.422Z"
   },
   {
    "duration": 23,
    "start_time": "2023-12-12T13:45:12.427Z"
   },
   {
    "duration": 18,
    "start_time": "2023-12-12T13:45:12.451Z"
   },
   {
    "duration": 37,
    "start_time": "2023-12-12T13:45:12.470Z"
   },
   {
    "duration": 3,
    "start_time": "2023-12-12T13:45:42.777Z"
   },
   {
    "duration": 1099,
    "start_time": "2023-12-12T13:45:47.612Z"
   },
   {
    "duration": 73,
    "start_time": "2023-12-12T13:45:48.713Z"
   },
   {
    "duration": 3,
    "start_time": "2023-12-12T13:45:48.787Z"
   },
   {
    "duration": 32,
    "start_time": "2023-12-12T13:45:48.792Z"
   },
   {
    "duration": 17,
    "start_time": "2023-12-12T13:45:48.827Z"
   },
   {
    "duration": 14,
    "start_time": "2023-12-12T13:45:48.846Z"
   },
   {
    "duration": 335,
    "start_time": "2023-12-12T13:53:15.662Z"
   },
   {
    "duration": 3,
    "start_time": "2023-12-12T13:53:58.081Z"
   },
   {
    "duration": 1109,
    "start_time": "2023-12-12T13:54:03.600Z"
   },
   {
    "duration": 78,
    "start_time": "2023-12-12T13:54:04.711Z"
   },
   {
    "duration": 4,
    "start_time": "2023-12-12T13:54:04.791Z"
   },
   {
    "duration": 21,
    "start_time": "2023-12-12T13:54:04.797Z"
   },
   {
    "duration": 20,
    "start_time": "2023-12-12T13:54:04.820Z"
   },
   {
    "duration": 15,
    "start_time": "2023-12-12T13:54:04.841Z"
   },
   {
    "duration": 344,
    "start_time": "2023-12-12T13:54:04.857Z"
   },
   {
    "duration": 13,
    "start_time": "2023-12-12T13:55:06.363Z"
   },
   {
    "duration": 14,
    "start_time": "2023-12-12T13:55:17.283Z"
   },
   {
    "duration": 10,
    "start_time": "2023-12-12T13:55:33.799Z"
   },
   {
    "duration": 1101,
    "start_time": "2023-12-12T14:00:16.034Z"
   },
   {
    "duration": 78,
    "start_time": "2023-12-12T14:00:17.137Z"
   },
   {
    "duration": 878,
    "start_time": "2023-12-12T14:00:17.216Z"
   },
   {
    "duration": 514,
    "start_time": "2023-12-12T14:00:18.096Z"
   },
   {
    "duration": 565,
    "start_time": "2023-12-12T14:00:18.611Z"
   },
   {
    "duration": 599,
    "start_time": "2023-12-12T14:00:19.178Z"
   },
   {
    "duration": 593,
    "start_time": "2023-12-12T14:00:19.778Z"
   },
   {
    "duration": 5,
    "start_time": "2023-12-13T03:23:23.462Z"
   },
   {
    "duration": 1080,
    "start_time": "2023-12-13T03:25:17.524Z"
   },
   {
    "duration": 78,
    "start_time": "2023-12-13T03:25:18.605Z"
   },
   {
    "duration": 3,
    "start_time": "2023-12-13T03:25:18.684Z"
   },
   {
    "duration": 21,
    "start_time": "2023-12-13T03:25:18.689Z"
   },
   {
    "duration": 16,
    "start_time": "2023-12-13T03:25:18.711Z"
   },
   {
    "duration": 15,
    "start_time": "2023-12-13T03:25:18.728Z"
   },
   {
    "duration": 2,
    "start_time": "2023-12-13T03:25:18.744Z"
   },
   {
    "duration": 14,
    "start_time": "2023-12-13T03:25:18.747Z"
   },
   {
    "duration": 123,
    "start_time": "2023-12-13T03:25:18.762Z"
   },
   {
    "duration": 7,
    "start_time": "2023-12-13T03:25:28.512Z"
   },
   {
    "duration": 8,
    "start_time": "2023-12-13T03:25:58.090Z"
   },
   {
    "duration": 9,
    "start_time": "2023-12-13T03:26:21.878Z"
   },
   {
    "duration": 1129,
    "start_time": "2023-12-13T03:28:24.675Z"
   },
   {
    "duration": 79,
    "start_time": "2023-12-13T03:28:25.806Z"
   },
   {
    "duration": 3,
    "start_time": "2023-12-13T03:28:25.886Z"
   },
   {
    "duration": 21,
    "start_time": "2023-12-13T03:28:25.891Z"
   },
   {
    "duration": 17,
    "start_time": "2023-12-13T03:28:25.914Z"
   },
   {
    "duration": 18,
    "start_time": "2023-12-13T03:28:25.933Z"
   },
   {
    "duration": 3,
    "start_time": "2023-12-13T03:28:25.952Z"
   },
   {
    "duration": 48,
    "start_time": "2023-12-13T03:28:25.957Z"
   },
   {
    "duration": 14,
    "start_time": "2023-12-13T03:28:26.007Z"
   },
   {
    "duration": 9,
    "start_time": "2023-12-13T03:28:26.023Z"
   },
   {
    "duration": 9,
    "start_time": "2023-12-13T03:28:40.352Z"
   },
   {
    "duration": 1090,
    "start_time": "2023-12-13T03:28:48.003Z"
   },
   {
    "duration": 76,
    "start_time": "2023-12-13T03:28:49.095Z"
   },
   {
    "duration": 3,
    "start_time": "2023-12-13T03:28:49.173Z"
   },
   {
    "duration": 56,
    "start_time": "2023-12-13T03:28:49.177Z"
   },
   {
    "duration": 23,
    "start_time": "2023-12-13T03:28:49.234Z"
   },
   {
    "duration": 19,
    "start_time": "2023-12-13T03:28:49.259Z"
   },
   {
    "duration": 12,
    "start_time": "2023-12-13T03:28:49.279Z"
   },
   {
    "duration": 36,
    "start_time": "2023-12-13T03:28:49.293Z"
   },
   {
    "duration": 23,
    "start_time": "2023-12-13T03:28:49.330Z"
   },
   {
    "duration": 20,
    "start_time": "2023-12-13T03:28:49.355Z"
   },
   {
    "duration": 10,
    "start_time": "2023-12-13T03:46:43.445Z"
   },
   {
    "duration": 9,
    "start_time": "2023-12-13T03:47:04.873Z"
   },
   {
    "duration": 105,
    "start_time": "2023-12-13T04:34:43.582Z"
   },
   {
    "duration": 140,
    "start_time": "2023-12-13T04:35:42.102Z"
   },
   {
    "duration": 183,
    "start_time": "2023-12-13T04:36:25.637Z"
   },
   {
    "duration": 167,
    "start_time": "2023-12-13T04:37:00.827Z"
   },
   {
    "duration": 133,
    "start_time": "2023-12-13T04:37:22.388Z"
   },
   {
    "duration": 240,
    "start_time": "2023-12-13T04:38:22.848Z"
   },
   {
    "duration": 1103,
    "start_time": "2023-12-13T04:39:10.841Z"
   },
   {
    "duration": 80,
    "start_time": "2023-12-13T04:39:11.946Z"
   },
   {
    "duration": 4,
    "start_time": "2023-12-13T04:39:12.027Z"
   },
   {
    "duration": 42,
    "start_time": "2023-12-13T04:39:12.032Z"
   },
   {
    "duration": 17,
    "start_time": "2023-12-13T04:39:12.077Z"
   },
   {
    "duration": 56,
    "start_time": "2023-12-13T04:39:12.096Z"
   },
   {
    "duration": 17,
    "start_time": "2023-12-13T04:39:12.154Z"
   },
   {
    "duration": 17,
    "start_time": "2023-12-13T04:39:12.173Z"
   },
   {
    "duration": 23,
    "start_time": "2023-12-13T04:39:12.192Z"
   },
   {
    "duration": 259,
    "start_time": "2023-12-13T04:39:12.217Z"
   },
   {
    "duration": 10,
    "start_time": "2023-12-13T04:39:12.478Z"
   },
   {
    "duration": 9,
    "start_time": "2023-12-13T04:39:12.498Z"
   },
   {
    "duration": 149,
    "start_time": "2023-12-13T04:39:12.509Z"
   },
   {
    "duration": 146,
    "start_time": "2023-12-13T04:40:09.788Z"
   },
   {
    "duration": 236,
    "start_time": "2023-12-13T04:40:22.939Z"
   },
   {
    "duration": 223,
    "start_time": "2023-12-13T04:42:54.647Z"
   },
   {
    "duration": 245,
    "start_time": "2023-12-13T04:43:34.724Z"
   },
   {
    "duration": 221,
    "start_time": "2023-12-13T04:43:51.451Z"
   },
   {
    "duration": 1093,
    "start_time": "2023-12-13T04:44:07.121Z"
   },
   {
    "duration": 79,
    "start_time": "2023-12-13T04:44:08.216Z"
   },
   {
    "duration": 3,
    "start_time": "2023-12-13T04:44:08.297Z"
   },
   {
    "duration": 21,
    "start_time": "2023-12-13T04:44:08.302Z"
   },
   {
    "duration": 32,
    "start_time": "2023-12-13T04:44:08.325Z"
   },
   {
    "duration": 24,
    "start_time": "2023-12-13T04:44:08.358Z"
   },
   {
    "duration": 18,
    "start_time": "2023-12-13T04:44:08.383Z"
   },
   {
    "duration": 19,
    "start_time": "2023-12-13T04:44:08.402Z"
   },
   {
    "duration": 20,
    "start_time": "2023-12-13T04:44:08.423Z"
   },
   {
    "duration": 254,
    "start_time": "2023-12-13T04:44:08.445Z"
   },
   {
    "duration": 11,
    "start_time": "2023-12-13T04:44:08.700Z"
   },
   {
    "duration": 247,
    "start_time": "2023-12-13T04:44:08.712Z"
   },
   {
    "duration": 3,
    "start_time": "2023-12-13T04:52:33.685Z"
   },
   {
    "duration": 11,
    "start_time": "2023-12-13T04:52:41.560Z"
   },
   {
    "duration": 11,
    "start_time": "2023-12-13T05:11:01.759Z"
   },
   {
    "duration": 5,
    "start_time": "2023-12-13T05:14:09.914Z"
   },
   {
    "duration": 10,
    "start_time": "2023-12-13T05:14:36.609Z"
   },
   {
    "duration": 108,
    "start_time": "2023-12-13T05:16:56.917Z"
   },
   {
    "duration": 21,
    "start_time": "2023-12-13T05:17:23.319Z"
   },
   {
    "duration": 20,
    "start_time": "2023-12-13T05:17:33.616Z"
   },
   {
    "duration": 153,
    "start_time": "2023-12-13T05:18:45.316Z"
   },
   {
    "duration": 11,
    "start_time": "2023-12-13T05:18:53.965Z"
   },
   {
    "duration": 143,
    "start_time": "2023-12-13T05:20:18.982Z"
   },
   {
    "duration": 163,
    "start_time": "2023-12-13T05:20:24.001Z"
   },
   {
    "duration": 9,
    "start_time": "2023-12-13T05:20:24.866Z"
   },
   {
    "duration": 124,
    "start_time": "2023-12-13T05:22:12.988Z"
   },
   {
    "duration": 11,
    "start_time": "2023-12-13T05:22:35.945Z"
   },
   {
    "duration": 7,
    "start_time": "2023-12-13T05:25:18.648Z"
   },
   {
    "duration": 15,
    "start_time": "2023-12-13T05:25:34.498Z"
   },
   {
    "duration": 14,
    "start_time": "2023-12-13T05:26:31.734Z"
   },
   {
    "duration": 226,
    "start_time": "2023-12-13T05:28:31.623Z"
   },
   {
    "duration": 14,
    "start_time": "2023-12-13T05:29:05.711Z"
   },
   {
    "duration": 16,
    "start_time": "2023-12-13T05:32:35.363Z"
   },
   {
    "duration": 170,
    "start_time": "2023-12-13T05:33:36.665Z"
   },
   {
    "duration": 173,
    "start_time": "2023-12-13T05:34:42.231Z"
   },
   {
    "duration": 262,
    "start_time": "2023-12-13T05:36:53.151Z"
   },
   {
    "duration": 256,
    "start_time": "2023-12-13T05:37:07.870Z"
   },
   {
    "duration": 264,
    "start_time": "2023-12-13T05:37:24.480Z"
   },
   {
    "duration": 179,
    "start_time": "2023-12-13T05:38:32.417Z"
   },
   {
    "duration": 168,
    "start_time": "2023-12-13T05:38:41.798Z"
   },
   {
    "duration": 217,
    "start_time": "2023-12-13T05:38:49.534Z"
   },
   {
    "duration": 241,
    "start_time": "2023-12-13T05:39:03.474Z"
   },
   {
    "duration": 232,
    "start_time": "2023-12-13T05:39:14.326Z"
   },
   {
    "duration": 240,
    "start_time": "2023-12-13T05:39:47.886Z"
   },
   {
    "duration": 191,
    "start_time": "2023-12-13T05:39:54.530Z"
   },
   {
    "duration": 216,
    "start_time": "2023-12-13T05:41:17.128Z"
   },
   {
    "duration": 228,
    "start_time": "2023-12-13T05:41:25.864Z"
   },
   {
    "duration": 226,
    "start_time": "2023-12-13T05:41:35.317Z"
   },
   {
    "duration": 284,
    "start_time": "2023-12-13T05:47:21.037Z"
   },
   {
    "duration": 204,
    "start_time": "2023-12-13T05:47:29.227Z"
   },
   {
    "duration": 185,
    "start_time": "2023-12-13T05:47:34.584Z"
   },
   {
    "duration": 170,
    "start_time": "2023-12-13T05:47:46.631Z"
   },
   {
    "duration": 194,
    "start_time": "2023-12-13T05:48:14.488Z"
   },
   {
    "duration": 193,
    "start_time": "2023-12-13T05:48:21.789Z"
   },
   {
    "duration": 222,
    "start_time": "2023-12-13T05:48:25.167Z"
   },
   {
    "duration": 212,
    "start_time": "2023-12-13T05:48:39.921Z"
   },
   {
    "duration": 181,
    "start_time": "2023-12-13T05:48:59.033Z"
   },
   {
    "duration": 210,
    "start_time": "2023-12-13T05:49:45.113Z"
   },
   {
    "duration": 206,
    "start_time": "2023-12-13T05:49:58.215Z"
   },
   {
    "duration": 274,
    "start_time": "2023-12-13T05:50:07.591Z"
   },
   {
    "duration": 235,
    "start_time": "2023-12-13T05:50:11.683Z"
   },
   {
    "duration": 216,
    "start_time": "2023-12-13T05:50:16.319Z"
   },
   {
    "duration": 231,
    "start_time": "2023-12-13T05:50:22.911Z"
   },
   {
    "duration": 197,
    "start_time": "2023-12-13T05:50:34.488Z"
   },
   {
    "duration": 1128,
    "start_time": "2023-12-13T05:50:49.981Z"
   },
   {
    "duration": 79,
    "start_time": "2023-12-13T05:50:51.111Z"
   },
   {
    "duration": 3,
    "start_time": "2023-12-13T05:50:51.191Z"
   },
   {
    "duration": 40,
    "start_time": "2023-12-13T05:50:51.196Z"
   },
   {
    "duration": 16,
    "start_time": "2023-12-13T05:50:51.237Z"
   },
   {
    "duration": 24,
    "start_time": "2023-12-13T05:50:51.254Z"
   },
   {
    "duration": 16,
    "start_time": "2023-12-13T05:50:51.279Z"
   },
   {
    "duration": 41,
    "start_time": "2023-12-13T05:50:51.297Z"
   },
   {
    "duration": 22,
    "start_time": "2023-12-13T05:50:51.340Z"
   },
   {
    "duration": 270,
    "start_time": "2023-12-13T05:50:51.365Z"
   },
   {
    "duration": 11,
    "start_time": "2023-12-13T05:50:51.636Z"
   },
   {
    "duration": 245,
    "start_time": "2023-12-13T05:50:51.648Z"
   },
   {
    "duration": 14,
    "start_time": "2023-12-13T05:50:51.895Z"
   },
   {
    "duration": 36,
    "start_time": "2023-12-13T05:50:51.911Z"
   },
   {
    "duration": 17,
    "start_time": "2023-12-13T05:50:51.949Z"
   },
   {
    "duration": 170,
    "start_time": "2023-12-13T05:50:51.968Z"
   },
   {
    "duration": 111,
    "start_time": "2023-12-13T05:50:52.140Z"
   },
   {
    "duration": 14,
    "start_time": "2023-12-13T05:50:52.253Z"
   },
   {
    "duration": 257,
    "start_time": "2023-12-13T05:50:52.268Z"
   },
   {
    "duration": 224,
    "start_time": "2023-12-13T05:50:52.527Z"
   },
   {
    "duration": 212,
    "start_time": "2023-12-13T05:51:10.152Z"
   },
   {
    "duration": 330,
    "start_time": "2023-12-13T06:14:26.581Z"
   },
   {
    "duration": 326,
    "start_time": "2023-12-13T06:15:29.282Z"
   },
   {
    "duration": 300,
    "start_time": "2023-12-13T06:15:44.865Z"
   },
   {
    "duration": 401,
    "start_time": "2023-12-13T06:16:24.186Z"
   },
   {
    "duration": 288,
    "start_time": "2023-12-13T06:16:36.534Z"
   },
   {
    "duration": 332,
    "start_time": "2023-12-13T07:13:26.267Z"
   },
   {
    "duration": 222,
    "start_time": "2023-12-13T07:14:04.419Z"
   },
   {
    "duration": 220,
    "start_time": "2023-12-13T07:14:32.477Z"
   },
   {
    "duration": 240,
    "start_time": "2023-12-13T07:18:01.675Z"
   },
   {
    "duration": 255,
    "start_time": "2023-12-13T07:18:32.914Z"
   },
   {
    "duration": 370,
    "start_time": "2023-12-13T07:19:23.206Z"
   },
   {
    "duration": 225,
    "start_time": "2023-12-13T07:19:38.170Z"
   },
   {
    "duration": 220,
    "start_time": "2023-12-13T07:20:05.433Z"
   },
   {
    "duration": 369,
    "start_time": "2023-12-13T13:43:25.083Z"
   },
   {
    "duration": 309,
    "start_time": "2023-12-13T13:45:33.236Z"
   },
   {
    "duration": 134,
    "start_time": "2023-12-13T13:46:27.192Z"
   },
   {
    "duration": 12,
    "start_time": "2023-12-13T13:47:42.190Z"
   },
   {
    "duration": 128,
    "start_time": "2023-12-13T13:47:56.312Z"
   },
   {
    "duration": 4,
    "start_time": "2023-12-13T13:51:06.065Z"
   },
   {
    "duration": 1135,
    "start_time": "2023-12-13T14:23:13.089Z"
   },
   {
    "duration": 78,
    "start_time": "2023-12-13T14:23:14.226Z"
   },
   {
    "duration": 4,
    "start_time": "2023-12-13T14:23:14.306Z"
   },
   {
    "duration": 43,
    "start_time": "2023-12-13T14:23:14.312Z"
   },
   {
    "duration": 20,
    "start_time": "2023-12-13T14:23:14.357Z"
   },
   {
    "duration": 36,
    "start_time": "2023-12-13T14:23:14.378Z"
   },
   {
    "duration": 19,
    "start_time": "2023-12-13T14:23:14.415Z"
   },
   {
    "duration": 33,
    "start_time": "2023-12-13T14:23:14.436Z"
   },
   {
    "duration": 39,
    "start_time": "2023-12-13T14:23:14.470Z"
   },
   {
    "duration": 267,
    "start_time": "2023-12-13T14:23:14.513Z"
   },
   {
    "duration": 18,
    "start_time": "2023-12-13T14:23:14.782Z"
   },
   {
    "duration": 237,
    "start_time": "2023-12-13T14:23:14.801Z"
   },
   {
    "duration": 12,
    "start_time": "2023-12-13T14:23:15.039Z"
   },
   {
    "duration": 44,
    "start_time": "2023-12-13T14:23:15.053Z"
   },
   {
    "duration": 40,
    "start_time": "2023-12-13T14:23:15.098Z"
   },
   {
    "duration": 167,
    "start_time": "2023-12-13T14:23:15.140Z"
   },
   {
    "duration": 117,
    "start_time": "2023-12-13T14:23:15.308Z"
   },
   {
    "duration": 15,
    "start_time": "2023-12-13T14:23:15.426Z"
   },
   {
    "duration": 291,
    "start_time": "2023-12-13T14:23:15.442Z"
   },
   {
    "duration": 219,
    "start_time": "2023-12-13T14:23:15.735Z"
   },
   {
    "duration": 313,
    "start_time": "2023-12-13T14:23:15.956Z"
   },
   {
    "duration": 255,
    "start_time": "2023-12-13T14:23:16.270Z"
   },
   {
    "duration": 309,
    "start_time": "2023-12-13T14:23:16.526Z"
   },
   {
    "duration": 10,
    "start_time": "2023-12-13T14:23:16.836Z"
   },
   {
    "duration": 144,
    "start_time": "2023-12-13T14:23:16.847Z"
   },
   {
    "duration": 8,
    "start_time": "2023-12-13T14:23:16.993Z"
   },
   {
    "duration": 1217,
    "start_time": "2023-12-14T07:39:04.111Z"
   },
   {
    "duration": 205,
    "start_time": "2023-12-14T07:39:05.330Z"
   },
   {
    "duration": 4,
    "start_time": "2023-12-14T07:39:05.537Z"
   },
   {
    "duration": 53,
    "start_time": "2023-12-14T07:39:05.542Z"
   },
   {
    "duration": 18,
    "start_time": "2023-12-14T07:39:05.597Z"
   },
   {
    "duration": 13,
    "start_time": "2023-12-14T07:39:05.617Z"
   },
   {
    "duration": 45,
    "start_time": "2023-12-14T07:39:05.631Z"
   },
   {
    "duration": 35,
    "start_time": "2023-12-14T07:39:05.677Z"
   },
   {
    "duration": 27,
    "start_time": "2023-12-14T07:39:05.713Z"
   },
   {
    "duration": 286,
    "start_time": "2023-12-14T07:39:05.742Z"
   },
   {
    "duration": 22,
    "start_time": "2023-12-14T07:39:06.030Z"
   },
   {
    "duration": 241,
    "start_time": "2023-12-14T07:39:06.058Z"
   },
   {
    "duration": 11,
    "start_time": "2023-12-14T07:39:06.300Z"
   },
   {
    "duration": 31,
    "start_time": "2023-12-14T07:39:06.313Z"
   },
   {
    "duration": 19,
    "start_time": "2023-12-14T07:39:06.346Z"
   },
   {
    "duration": 167,
    "start_time": "2023-12-14T07:39:06.366Z"
   },
   {
    "duration": 105,
    "start_time": "2023-12-14T07:39:06.534Z"
   },
   {
    "duration": 21,
    "start_time": "2023-12-14T07:39:06.640Z"
   },
   {
    "duration": 250,
    "start_time": "2023-12-14T07:39:06.663Z"
   },
   {
    "duration": 222,
    "start_time": "2023-12-14T07:39:06.915Z"
   },
   {
    "duration": 394,
    "start_time": "2023-12-14T07:39:07.139Z"
   },
   {
    "duration": 280,
    "start_time": "2023-12-14T07:39:07.534Z"
   },
   {
    "duration": 298,
    "start_time": "2023-12-14T07:39:07.816Z"
   },
   {
    "duration": 10,
    "start_time": "2023-12-14T07:39:08.116Z"
   },
   {
    "duration": 149,
    "start_time": "2023-12-14T07:39:08.128Z"
   },
   {
    "duration": 4,
    "start_time": "2023-12-14T07:39:08.279Z"
   },
   {
    "duration": 209,
    "start_time": "2023-12-14T07:39:08.284Z"
   },
   {
    "duration": 4,
    "start_time": "2023-12-14T07:56:02.070Z"
   },
   {
    "duration": 5,
    "start_time": "2023-12-14T09:00:07.939Z"
   },
   {
    "duration": 4,
    "start_time": "2023-12-14T09:00:25.421Z"
   },
   {
    "duration": 39,
    "start_time": "2023-12-14T09:01:21.705Z"
   },
   {
    "duration": 8,
    "start_time": "2023-12-14T09:01:22.394Z"
   },
   {
    "duration": 8,
    "start_time": "2023-12-14T09:02:12.371Z"
   },
   {
    "duration": 4,
    "start_time": "2023-12-14T10:14:17.684Z"
   },
   {
    "duration": 43,
    "start_time": "2023-12-14T10:15:17.077Z"
   },
   {
    "duration": 8,
    "start_time": "2023-12-14T10:15:29.002Z"
   },
   {
    "duration": 104,
    "start_time": "2023-12-14T10:16:09.356Z"
   },
   {
    "duration": 13,
    "start_time": "2023-12-14T10:16:25.612Z"
   },
   {
    "duration": 41,
    "start_time": "2023-12-14T10:18:47.401Z"
   },
   {
    "duration": 12,
    "start_time": "2023-12-14T10:19:10.579Z"
   },
   {
    "duration": 13,
    "start_time": "2023-12-14T10:19:20.848Z"
   },
   {
    "duration": 43,
    "start_time": "2023-12-14T10:20:46.872Z"
   },
   {
    "duration": 32,
    "start_time": "2023-12-14T10:21:16.349Z"
   },
   {
    "duration": 9,
    "start_time": "2023-12-14T10:22:10.498Z"
   },
   {
    "duration": 10,
    "start_time": "2023-12-14T10:23:04.133Z"
   },
   {
    "duration": 12,
    "start_time": "2023-12-14T10:23:11.154Z"
   },
   {
    "duration": 9,
    "start_time": "2023-12-14T10:23:12.828Z"
   },
   {
    "duration": 114,
    "start_time": "2023-12-14T10:23:37.067Z"
   },
   {
    "duration": 6,
    "start_time": "2023-12-14T10:23:39.215Z"
   },
   {
    "duration": 5,
    "start_time": "2023-12-14T10:23:54.526Z"
   },
   {
    "duration": 20,
    "start_time": "2023-12-14T10:24:16.709Z"
   },
   {
    "duration": 57,
    "start_time": "2023-12-14T10:27:07.485Z"
   },
   {
    "duration": 64,
    "start_time": "2023-12-14T10:27:08.121Z"
   },
   {
    "duration": 6,
    "start_time": "2023-12-14T10:27:08.724Z"
   },
   {
    "duration": 19,
    "start_time": "2023-12-14T10:27:20.327Z"
   },
   {
    "duration": 10,
    "start_time": "2023-12-14T10:32:11.802Z"
   },
   {
    "duration": 11,
    "start_time": "2023-12-14T10:38:05.663Z"
   },
   {
    "duration": 8,
    "start_time": "2023-12-14T10:38:22.612Z"
   },
   {
    "duration": 8,
    "start_time": "2023-12-14T10:41:25.372Z"
   },
   {
    "duration": 7,
    "start_time": "2023-12-14T10:42:38.199Z"
   },
   {
    "duration": 7,
    "start_time": "2023-12-14T10:43:07.059Z"
   },
   {
    "duration": 19,
    "start_time": "2023-12-14T10:43:44.536Z"
   },
   {
    "duration": 89,
    "start_time": "2023-12-14T10:46:08.491Z"
   },
   {
    "duration": 72,
    "start_time": "2023-12-14T10:46:21.191Z"
   },
   {
    "duration": 80,
    "start_time": "2023-12-14T10:46:24.182Z"
   },
   {
    "duration": 77,
    "start_time": "2023-12-14T10:46:29.351Z"
   },
   {
    "duration": 146,
    "start_time": "2023-12-14T10:46:31.674Z"
   },
   {
    "duration": 75,
    "start_time": "2023-12-14T10:46:44.367Z"
   },
   {
    "duration": 92,
    "start_time": "2023-12-14T10:46:48.794Z"
   },
   {
    "duration": 8,
    "start_time": "2023-12-14T10:46:59.929Z"
   },
   {
    "duration": 7,
    "start_time": "2023-12-14T10:47:15.962Z"
   },
   {
    "duration": 20,
    "start_time": "2023-12-14T10:47:16.894Z"
   },
   {
    "duration": 66,
    "start_time": "2023-12-14T10:52:23.391Z"
   },
   {
    "duration": 88,
    "start_time": "2023-12-14T10:52:29.996Z"
   },
   {
    "duration": 79,
    "start_time": "2023-12-14T10:52:37.671Z"
   },
   {
    "duration": 8,
    "start_time": "2023-12-14T10:52:44.652Z"
   },
   {
    "duration": 9,
    "start_time": "2023-12-14T10:53:42.747Z"
   },
   {
    "duration": 7,
    "start_time": "2023-12-14T10:54:24.214Z"
   },
   {
    "duration": 20,
    "start_time": "2023-12-14T10:54:25.602Z"
   },
   {
    "duration": 8,
    "start_time": "2023-12-14T10:54:45.716Z"
   },
   {
    "duration": 19,
    "start_time": "2023-12-14T10:54:47.092Z"
   },
   {
    "duration": 6,
    "start_time": "2023-12-14T10:54:56.169Z"
   },
   {
    "duration": 18,
    "start_time": "2023-12-14T10:54:59.191Z"
   },
   {
    "duration": 5,
    "start_time": "2023-12-14T10:55:38.359Z"
   },
   {
    "duration": 17,
    "start_time": "2023-12-14T10:55:38.894Z"
   },
   {
    "duration": 5,
    "start_time": "2023-12-14T10:55:49.965Z"
   },
   {
    "duration": 18,
    "start_time": "2023-12-14T10:55:59.761Z"
   },
   {
    "duration": 1210,
    "start_time": "2023-12-14T10:58:06.467Z"
   },
   {
    "duration": 12,
    "start_time": "2023-12-14T10:58:17.807Z"
   },
   {
    "duration": 5,
    "start_time": "2023-12-14T13:22:20.260Z"
   },
   {
    "duration": 5,
    "start_time": "2023-12-14T13:22:29.244Z"
   },
   {
    "duration": 4,
    "start_time": "2023-12-14T13:22:57.686Z"
   },
   {
    "duration": 17,
    "start_time": "2023-12-14T13:30:38.775Z"
   },
   {
    "duration": 17,
    "start_time": "2023-12-14T13:31:15.588Z"
   },
   {
    "duration": 40,
    "start_time": "2023-12-14T13:31:31.273Z"
   },
   {
    "duration": 36,
    "start_time": "2023-12-14T13:36:39.179Z"
   },
   {
    "duration": 9,
    "start_time": "2023-12-14T14:08:39.297Z"
   },
   {
    "duration": 9,
    "start_time": "2023-12-14T14:09:55.591Z"
   },
   {
    "duration": 9,
    "start_time": "2023-12-14T14:10:18.098Z"
   },
   {
    "duration": 45,
    "start_time": "2023-12-15T02:01:00.258Z"
   },
   {
    "duration": 1295,
    "start_time": "2023-12-15T02:01:07.366Z"
   },
   {
    "duration": 182,
    "start_time": "2023-12-15T02:01:08.663Z"
   },
   {
    "duration": 4,
    "start_time": "2023-12-15T02:01:08.846Z"
   },
   {
    "duration": 37,
    "start_time": "2023-12-15T02:01:08.851Z"
   },
   {
    "duration": 15,
    "start_time": "2023-12-15T02:01:08.890Z"
   },
   {
    "duration": 14,
    "start_time": "2023-12-15T02:01:08.907Z"
   },
   {
    "duration": 17,
    "start_time": "2023-12-15T02:01:08.922Z"
   },
   {
    "duration": 39,
    "start_time": "2023-12-15T02:01:08.940Z"
   },
   {
    "duration": 15,
    "start_time": "2023-12-15T02:01:08.981Z"
   },
   {
    "duration": 254,
    "start_time": "2023-12-15T02:01:08.998Z"
   },
   {
    "duration": 11,
    "start_time": "2023-12-15T02:01:09.253Z"
   },
   {
    "duration": 239,
    "start_time": "2023-12-15T02:01:09.265Z"
   },
   {
    "duration": 11,
    "start_time": "2023-12-15T02:01:09.506Z"
   },
   {
    "duration": 29,
    "start_time": "2023-12-15T02:01:09.518Z"
   },
   {
    "duration": 11,
    "start_time": "2023-12-15T02:01:09.548Z"
   },
   {
    "duration": 150,
    "start_time": "2023-12-15T02:01:09.561Z"
   },
   {
    "duration": 111,
    "start_time": "2023-12-15T02:01:09.713Z"
   },
   {
    "duration": 15,
    "start_time": "2023-12-15T02:01:09.826Z"
   },
   {
    "duration": 271,
    "start_time": "2023-12-15T02:01:09.843Z"
   },
   {
    "duration": 220,
    "start_time": "2023-12-15T02:01:10.115Z"
   },
   {
    "duration": 369,
    "start_time": "2023-12-15T02:01:10.336Z"
   },
   {
    "duration": 246,
    "start_time": "2023-12-15T02:01:10.706Z"
   },
   {
    "duration": 328,
    "start_time": "2023-12-15T02:01:10.954Z"
   },
   {
    "duration": 10,
    "start_time": "2023-12-15T02:01:11.283Z"
   },
   {
    "duration": 138,
    "start_time": "2023-12-15T02:01:11.294Z"
   },
   {
    "duration": 4,
    "start_time": "2023-12-15T02:01:11.434Z"
   },
   {
    "duration": 223,
    "start_time": "2023-12-15T02:01:11.439Z"
   },
   {
    "duration": 4,
    "start_time": "2023-12-15T02:01:11.666Z"
   },
   {
    "duration": 4,
    "start_time": "2023-12-15T02:01:11.681Z"
   },
   {
    "duration": 54,
    "start_time": "2023-12-15T02:01:11.687Z"
   },
   {
    "duration": 5,
    "start_time": "2023-12-15T02:01:11.742Z"
   },
   {
    "duration": 54,
    "start_time": "2023-12-15T02:01:11.749Z"
   },
   {
    "duration": 13,
    "start_time": "2023-12-15T02:01:11.805Z"
   },
   {
    "duration": 47,
    "start_time": "2023-12-15T02:01:11.819Z"
   },
   {
    "duration": 12,
    "start_time": "2023-12-15T02:01:11.881Z"
   },
   {
    "duration": 43,
    "start_time": "2023-12-15T02:01:11.894Z"
   },
   {
    "duration": 61,
    "start_time": "2023-12-15T02:01:11.938Z"
   },
   {
    "duration": 149,
    "start_time": "2023-12-15T02:01:12.001Z"
   },
   {
    "duration": 5,
    "start_time": "2023-12-15T02:01:12.152Z"
   },
   {
    "duration": 37,
    "start_time": "2023-12-15T02:01:12.158Z"
   },
   {
    "duration": 53,
    "start_time": "2023-12-15T02:01:12.196Z"
   },
   {
    "duration": 9,
    "start_time": "2023-12-15T02:01:12.251Z"
   },
   {
    "duration": 30,
    "start_time": "2023-12-15T02:01:12.261Z"
   },
   {
    "duration": 9,
    "start_time": "2023-12-15T02:01:12.293Z"
   },
   {
    "duration": 21,
    "start_time": "2023-12-15T02:01:12.304Z"
   },
   {
    "duration": 50,
    "start_time": "2023-12-15T02:01:12.326Z"
   },
   {
    "duration": 13,
    "start_time": "2023-12-15T02:01:12.377Z"
   },
   {
    "duration": 322,
    "start_time": "2023-12-15T02:04:39.625Z"
   },
   {
    "duration": 289,
    "start_time": "2023-12-15T02:05:10.633Z"
   },
   {
    "duration": 77,
    "start_time": "2023-12-15T02:10:11.325Z"
   },
   {
    "duration": 41,
    "start_time": "2023-12-15T02:10:39.948Z"
   },
   {
    "duration": 45,
    "start_time": "2023-12-15T02:10:45.693Z"
   },
   {
    "duration": 44,
    "start_time": "2023-12-15T02:11:50.842Z"
   },
   {
    "duration": 7,
    "start_time": "2023-12-15T02:15:24.687Z"
   },
   {
    "duration": 10,
    "start_time": "2023-12-15T02:17:51.256Z"
   },
   {
    "duration": 11,
    "start_time": "2023-12-15T02:18:16.174Z"
   },
   {
    "duration": 11,
    "start_time": "2023-12-15T02:22:17.836Z"
   },
   {
    "duration": 110,
    "start_time": "2023-12-15T02:24:06.966Z"
   },
   {
    "duration": 1034,
    "start_time": "2023-12-15T02:24:18.148Z"
   },
   {
    "duration": 71,
    "start_time": "2023-12-15T02:24:19.184Z"
   },
   {
    "duration": 3,
    "start_time": "2023-12-15T02:24:19.257Z"
   },
   {
    "duration": 21,
    "start_time": "2023-12-15T02:24:19.261Z"
   },
   {
    "duration": 16,
    "start_time": "2023-12-15T02:24:19.284Z"
   },
   {
    "duration": 14,
    "start_time": "2023-12-15T02:24:19.301Z"
   },
   {
    "duration": 8,
    "start_time": "2023-12-15T02:24:19.316Z"
   },
   {
    "duration": 14,
    "start_time": "2023-12-15T02:24:19.325Z"
   },
   {
    "duration": 44,
    "start_time": "2023-12-15T02:24:19.340Z"
   },
   {
    "duration": 248,
    "start_time": "2023-12-15T02:24:19.385Z"
   },
   {
    "duration": 10,
    "start_time": "2023-12-15T02:24:19.634Z"
   },
   {
    "duration": 249,
    "start_time": "2023-12-15T02:24:19.646Z"
   },
   {
    "duration": 13,
    "start_time": "2023-12-15T02:24:19.897Z"
   },
   {
    "duration": 9,
    "start_time": "2023-12-15T02:24:19.913Z"
   },
   {
    "duration": 4,
    "start_time": "2023-12-15T02:24:19.923Z"
   },
   {
    "duration": 166,
    "start_time": "2023-12-15T02:24:19.928Z"
   },
   {
    "duration": 124,
    "start_time": "2023-12-15T02:24:20.096Z"
   },
   {
    "duration": 15,
    "start_time": "2023-12-15T02:24:20.221Z"
   },
   {
    "duration": 249,
    "start_time": "2023-12-15T02:24:20.237Z"
   },
   {
    "duration": 218,
    "start_time": "2023-12-15T02:24:20.487Z"
   },
   {
    "duration": 328,
    "start_time": "2023-12-15T02:24:20.706Z"
   },
   {
    "duration": 253,
    "start_time": "2023-12-15T02:24:21.035Z"
   },
   {
    "duration": 310,
    "start_time": "2023-12-15T02:24:21.289Z"
   },
   {
    "duration": 9,
    "start_time": "2023-12-15T02:24:21.601Z"
   },
   {
    "duration": 143,
    "start_time": "2023-12-15T02:24:21.611Z"
   },
   {
    "duration": 4,
    "start_time": "2023-12-15T02:24:21.755Z"
   },
   {
    "duration": 226,
    "start_time": "2023-12-15T02:24:21.760Z"
   },
   {
    "duration": 4,
    "start_time": "2023-12-15T02:24:21.987Z"
   },
   {
    "duration": 5,
    "start_time": "2023-12-15T02:24:21.993Z"
   },
   {
    "duration": 42,
    "start_time": "2023-12-15T02:24:21.999Z"
   },
   {
    "duration": 6,
    "start_time": "2023-12-15T02:24:22.043Z"
   },
   {
    "duration": 62,
    "start_time": "2023-12-15T02:24:22.051Z"
   },
   {
    "duration": 12,
    "start_time": "2023-12-15T02:24:22.115Z"
   },
   {
    "duration": 54,
    "start_time": "2023-12-15T02:24:22.128Z"
   },
   {
    "duration": 13,
    "start_time": "2023-12-15T02:24:22.183Z"
   },
   {
    "duration": 43,
    "start_time": "2023-12-15T02:24:22.197Z"
   },
   {
    "duration": 43,
    "start_time": "2023-12-15T02:24:22.242Z"
   },
   {
    "duration": 119,
    "start_time": "2023-12-15T02:24:22.286Z"
   },
   {
    "duration": 7,
    "start_time": "2023-12-15T02:24:22.407Z"
   },
   {
    "duration": 8,
    "start_time": "2023-12-15T02:24:22.415Z"
   },
   {
    "duration": 11,
    "start_time": "2023-12-15T02:24:22.426Z"
   },
   {
    "duration": 9,
    "start_time": "2023-12-15T02:24:22.438Z"
   },
   {
    "duration": 8,
    "start_time": "2023-12-15T02:24:22.448Z"
   },
   {
    "duration": 6,
    "start_time": "2023-12-15T02:24:22.482Z"
   },
   {
    "duration": 27,
    "start_time": "2023-12-15T02:24:22.490Z"
   },
   {
    "duration": 13,
    "start_time": "2023-12-15T02:24:22.518Z"
   },
   {
    "duration": 24,
    "start_time": "2023-12-15T02:48:28.698Z"
   },
   {
    "duration": 26,
    "start_time": "2023-12-15T02:49:53.802Z"
   },
   {
    "duration": 10,
    "start_time": "2023-12-15T02:50:14.538Z"
   },
   {
    "duration": 9,
    "start_time": "2023-12-15T02:54:13.274Z"
   },
   {
    "duration": 8,
    "start_time": "2023-12-15T02:55:24.134Z"
   },
   {
    "duration": 8,
    "start_time": "2023-12-15T02:55:38.361Z"
   },
   {
    "duration": 35,
    "start_time": "2023-12-15T02:59:22.222Z"
   },
   {
    "duration": 26,
    "start_time": "2023-12-15T03:00:25.975Z"
   },
   {
    "duration": 26,
    "start_time": "2023-12-15T03:02:48.036Z"
   },
   {
    "duration": 14,
    "start_time": "2023-12-15T03:05:46.844Z"
   },
   {
    "duration": 1076,
    "start_time": "2023-12-15T03:05:59.445Z"
   },
   {
    "duration": 73,
    "start_time": "2023-12-15T03:06:00.522Z"
   },
   {
    "duration": 44,
    "start_time": "2023-12-15T03:06:00.596Z"
   },
   {
    "duration": 99,
    "start_time": "2023-12-15T03:06:00.642Z"
   },
   {
    "duration": 34,
    "start_time": "2023-12-15T03:06:00.743Z"
   },
   {
    "duration": 45,
    "start_time": "2023-12-15T03:06:00.778Z"
   },
   {
    "duration": 32,
    "start_time": "2023-12-15T03:06:00.825Z"
   },
   {
    "duration": 55,
    "start_time": "2023-12-15T03:06:00.859Z"
   },
   {
    "duration": 43,
    "start_time": "2023-12-15T03:06:00.916Z"
   },
   {
    "duration": 306,
    "start_time": "2023-12-15T03:06:00.961Z"
   },
   {
    "duration": 17,
    "start_time": "2023-12-15T03:06:01.269Z"
   },
   {
    "duration": 308,
    "start_time": "2023-12-15T03:06:01.288Z"
   },
   {
    "duration": 11,
    "start_time": "2023-12-15T03:06:01.598Z"
   },
   {
    "duration": 49,
    "start_time": "2023-12-15T03:06:01.612Z"
   },
   {
    "duration": 52,
    "start_time": "2023-12-15T03:06:01.663Z"
   },
   {
    "duration": 196,
    "start_time": "2023-12-15T03:06:01.716Z"
   },
   {
    "duration": 126,
    "start_time": "2023-12-15T03:06:01.913Z"
   },
   {
    "duration": 14,
    "start_time": "2023-12-15T03:06:02.041Z"
   },
   {
    "duration": 349,
    "start_time": "2023-12-15T03:06:02.056Z"
   },
   {
    "duration": 256,
    "start_time": "2023-12-15T03:06:02.407Z"
   },
   {
    "duration": 370,
    "start_time": "2023-12-15T03:06:02.664Z"
   },
   {
    "duration": 316,
    "start_time": "2023-12-15T03:06:03.036Z"
   },
   {
    "duration": 330,
    "start_time": "2023-12-15T03:06:03.354Z"
   },
   {
    "duration": 11,
    "start_time": "2023-12-15T03:06:03.686Z"
   },
   {
    "duration": 149,
    "start_time": "2023-12-15T03:06:03.698Z"
   },
   {
    "duration": 6,
    "start_time": "2023-12-15T03:06:03.849Z"
   },
   {
    "duration": 229,
    "start_time": "2023-12-15T03:06:03.856Z"
   },
   {
    "duration": 4,
    "start_time": "2023-12-15T03:06:04.087Z"
   },
   {
    "duration": 5,
    "start_time": "2023-12-15T03:06:04.092Z"
   },
   {
    "duration": 44,
    "start_time": "2023-12-15T03:06:04.099Z"
   },
   {
    "duration": 7,
    "start_time": "2023-12-15T03:06:04.144Z"
   },
   {
    "duration": 58,
    "start_time": "2023-12-15T03:06:04.153Z"
   },
   {
    "duration": 30,
    "start_time": "2023-12-15T03:06:04.212Z"
   },
   {
    "duration": 45,
    "start_time": "2023-12-15T03:06:04.244Z"
   },
   {
    "duration": 15,
    "start_time": "2023-12-15T03:06:04.291Z"
   },
   {
    "duration": 52,
    "start_time": "2023-12-15T03:06:04.308Z"
   },
   {
    "duration": 45,
    "start_time": "2023-12-15T03:06:04.361Z"
   },
   {
    "duration": 137,
    "start_time": "2023-12-15T03:06:04.408Z"
   },
   {
    "duration": 8,
    "start_time": "2023-12-15T03:06:04.546Z"
   },
   {
    "duration": 8,
    "start_time": "2023-12-15T03:06:04.555Z"
   },
   {
    "duration": 23,
    "start_time": "2023-12-15T03:06:04.581Z"
   },
   {
    "duration": 9,
    "start_time": "2023-12-15T03:06:04.606Z"
   },
   {
    "duration": 8,
    "start_time": "2023-12-15T03:06:04.616Z"
   },
   {
    "duration": 7,
    "start_time": "2023-12-15T03:06:04.625Z"
   },
   {
    "duration": 57,
    "start_time": "2023-12-15T03:06:04.633Z"
   },
   {
    "duration": 12,
    "start_time": "2023-12-15T03:06:04.692Z"
   },
   {
    "duration": 12,
    "start_time": "2023-12-15T09:46:49.339Z"
   },
   {
    "duration": 7,
    "start_time": "2023-12-15T09:47:31.916Z"
   },
   {
    "duration": 7,
    "start_time": "2023-12-15T09:47:38.029Z"
   },
   {
    "duration": 7,
    "start_time": "2023-12-15T09:54:26.217Z"
   },
   {
    "duration": 5,
    "start_time": "2023-12-15T09:54:59.003Z"
   },
   {
    "duration": 5,
    "start_time": "2023-12-15T09:55:22.840Z"
   },
   {
    "duration": 182,
    "start_time": "2023-12-15T10:01:54.777Z"
   },
   {
    "duration": 204,
    "start_time": "2023-12-15T10:02:07.780Z"
   },
   {
    "duration": 187,
    "start_time": "2023-12-15T10:02:23.053Z"
   },
   {
    "duration": 171,
    "start_time": "2023-12-15T10:03:21.386Z"
   },
   {
    "duration": 4,
    "start_time": "2023-12-15T12:45:45.060Z"
   },
   {
    "duration": 1147,
    "start_time": "2023-12-15T12:46:02.774Z"
   },
   {
    "duration": 71,
    "start_time": "2023-12-15T12:46:03.923Z"
   },
   {
    "duration": 3,
    "start_time": "2023-12-15T12:46:03.996Z"
   },
   {
    "duration": 24,
    "start_time": "2023-12-15T12:46:04.000Z"
   },
   {
    "duration": 18,
    "start_time": "2023-12-15T12:46:04.025Z"
   },
   {
    "duration": 38,
    "start_time": "2023-12-15T12:46:04.044Z"
   },
   {
    "duration": 3,
    "start_time": "2023-12-15T12:46:04.084Z"
   },
   {
    "duration": 27,
    "start_time": "2023-12-15T12:46:04.088Z"
   },
   {
    "duration": 12,
    "start_time": "2023-12-15T12:46:04.116Z"
   },
   {
    "duration": 252,
    "start_time": "2023-12-15T12:46:04.130Z"
   },
   {
    "duration": 10,
    "start_time": "2023-12-15T12:46:04.383Z"
   },
   {
    "duration": 250,
    "start_time": "2023-12-15T12:46:04.394Z"
   },
   {
    "duration": 11,
    "start_time": "2023-12-15T12:46:04.646Z"
   },
   {
    "duration": 10,
    "start_time": "2023-12-15T12:46:04.658Z"
   },
   {
    "duration": 23,
    "start_time": "2023-12-15T12:46:04.669Z"
   },
   {
    "duration": 145,
    "start_time": "2023-12-15T12:46:04.693Z"
   },
   {
    "duration": 116,
    "start_time": "2023-12-15T12:46:04.840Z"
   },
   {
    "duration": 26,
    "start_time": "2023-12-15T12:46:04.957Z"
   },
   {
    "duration": 249,
    "start_time": "2023-12-15T12:46:04.984Z"
   },
   {
    "duration": 229,
    "start_time": "2023-12-15T12:46:05.234Z"
   },
   {
    "duration": 349,
    "start_time": "2023-12-15T12:46:05.464Z"
   },
   {
    "duration": 282,
    "start_time": "2023-12-15T12:46:05.814Z"
   },
   {
    "duration": 328,
    "start_time": "2023-12-15T12:46:06.098Z"
   },
   {
    "duration": 10,
    "start_time": "2023-12-15T12:46:06.428Z"
   },
   {
    "duration": 145,
    "start_time": "2023-12-15T12:46:06.439Z"
   },
   {
    "duration": 4,
    "start_time": "2023-12-15T12:46:06.585Z"
   },
   {
    "duration": 252,
    "start_time": "2023-12-15T12:46:06.590Z"
   },
   {
    "duration": 4,
    "start_time": "2023-12-15T12:46:06.846Z"
   },
   {
    "duration": 11,
    "start_time": "2023-12-15T12:46:06.852Z"
   },
   {
    "duration": 64,
    "start_time": "2023-12-15T12:46:06.864Z"
   },
   {
    "duration": 13,
    "start_time": "2023-12-15T12:46:06.929Z"
   },
   {
    "duration": 68,
    "start_time": "2023-12-15T12:46:06.944Z"
   },
   {
    "duration": 21,
    "start_time": "2023-12-15T12:46:07.014Z"
   },
   {
    "duration": 62,
    "start_time": "2023-12-15T12:46:07.037Z"
   },
   {
    "duration": 19,
    "start_time": "2023-12-15T12:46:07.101Z"
   },
   {
    "duration": 50,
    "start_time": "2023-12-15T12:46:07.121Z"
   },
   {
    "duration": 31,
    "start_time": "2023-12-15T12:46:07.173Z"
   },
   {
    "duration": 143,
    "start_time": "2023-12-15T12:46:07.205Z"
   },
   {
    "duration": 8,
    "start_time": "2023-12-15T12:46:07.350Z"
   },
   {
    "duration": 87,
    "start_time": "2023-12-15T12:46:07.359Z"
   },
   {
    "duration": 93,
    "start_time": "2023-12-15T12:46:07.447Z"
   },
   {
    "duration": 38,
    "start_time": "2023-12-15T12:46:07.542Z"
   },
   {
    "duration": 51,
    "start_time": "2023-12-15T12:46:07.582Z"
   },
   {
    "duration": 178,
    "start_time": "2023-12-15T12:46:07.635Z"
   },
   {
    "duration": 60,
    "start_time": "2023-12-15T12:46:07.814Z"
   },
   {
    "duration": 23,
    "start_time": "2023-12-15T12:46:07.875Z"
   },
   {
    "duration": 95,
    "start_time": "2023-12-15T12:46:21.432Z"
   },
   {
    "duration": 4,
    "start_time": "2023-12-15T12:46:28.448Z"
   },
   {
    "duration": 7,
    "start_time": "2023-12-16T02:24:11.417Z"
   },
   {
    "duration": 7,
    "start_time": "2023-12-16T02:24:39.138Z"
   },
   {
    "duration": 23,
    "start_time": "2023-12-16T02:29:55.948Z"
   },
   {
    "duration": 9,
    "start_time": "2023-12-16T02:31:44.317Z"
   },
   {
    "duration": 24,
    "start_time": "2023-12-16T02:32:56.244Z"
   },
   {
    "duration": 22,
    "start_time": "2023-12-16T02:35:55.378Z"
   },
   {
    "duration": 25,
    "start_time": "2023-12-16T02:36:48.237Z"
   },
   {
    "duration": 1101,
    "start_time": "2023-12-16T02:37:21.599Z"
   },
   {
    "duration": 72,
    "start_time": "2023-12-16T02:37:22.702Z"
   },
   {
    "duration": 4,
    "start_time": "2023-12-16T02:37:22.775Z"
   },
   {
    "duration": 36,
    "start_time": "2023-12-16T02:37:22.780Z"
   },
   {
    "duration": 16,
    "start_time": "2023-12-16T02:37:22.818Z"
   },
   {
    "duration": 16,
    "start_time": "2023-12-16T02:37:22.835Z"
   },
   {
    "duration": 15,
    "start_time": "2023-12-16T02:37:22.852Z"
   },
   {
    "duration": 19,
    "start_time": "2023-12-16T02:37:22.868Z"
   },
   {
    "duration": 10,
    "start_time": "2023-12-16T02:37:22.889Z"
   },
   {
    "duration": 268,
    "start_time": "2023-12-16T02:37:22.901Z"
   },
   {
    "duration": 16,
    "start_time": "2023-12-16T02:37:23.171Z"
   },
   {
    "duration": 236,
    "start_time": "2023-12-16T02:37:23.188Z"
   },
   {
    "duration": 11,
    "start_time": "2023-12-16T02:37:23.426Z"
   },
   {
    "duration": 16,
    "start_time": "2023-12-16T02:37:23.439Z"
   },
   {
    "duration": 14,
    "start_time": "2023-12-16T02:37:23.456Z"
   },
   {
    "duration": 155,
    "start_time": "2023-12-16T02:37:23.472Z"
   },
   {
    "duration": 109,
    "start_time": "2023-12-16T02:37:23.629Z"
   },
   {
    "duration": 13,
    "start_time": "2023-12-16T02:37:23.740Z"
   },
   {
    "duration": 249,
    "start_time": "2023-12-16T02:37:23.755Z"
   },
   {
    "duration": 221,
    "start_time": "2023-12-16T02:37:24.006Z"
   },
   {
    "duration": 293,
    "start_time": "2023-12-16T02:37:24.229Z"
   },
   {
    "duration": 269,
    "start_time": "2023-12-16T02:37:24.523Z"
   },
   {
    "duration": 314,
    "start_time": "2023-12-16T02:37:24.794Z"
   },
   {
    "duration": 9,
    "start_time": "2023-12-16T02:37:25.110Z"
   },
   {
    "duration": 141,
    "start_time": "2023-12-16T02:37:25.120Z"
   },
   {
    "duration": 4,
    "start_time": "2023-12-16T02:37:25.262Z"
   },
   {
    "duration": 228,
    "start_time": "2023-12-16T02:37:25.267Z"
   },
   {
    "duration": 4,
    "start_time": "2023-12-16T02:37:25.497Z"
   },
   {
    "duration": 22,
    "start_time": "2023-12-16T02:37:25.502Z"
   },
   {
    "duration": 50,
    "start_time": "2023-12-16T02:37:25.525Z"
   },
   {
    "duration": 4,
    "start_time": "2023-12-16T02:37:25.576Z"
   },
   {
    "duration": 45,
    "start_time": "2023-12-16T02:37:25.581Z"
   },
   {
    "duration": 11,
    "start_time": "2023-12-16T02:37:25.628Z"
   },
   {
    "duration": 51,
    "start_time": "2023-12-16T02:37:25.641Z"
   },
   {
    "duration": 12,
    "start_time": "2023-12-16T02:37:25.694Z"
   },
   {
    "duration": 43,
    "start_time": "2023-12-16T02:37:25.707Z"
   },
   {
    "duration": 50,
    "start_time": "2023-12-16T02:37:25.751Z"
   },
   {
    "duration": 143,
    "start_time": "2023-12-16T02:37:25.803Z"
   },
   {
    "duration": 8,
    "start_time": "2023-12-16T02:37:25.948Z"
   },
   {
    "duration": 16,
    "start_time": "2023-12-16T02:37:25.957Z"
   },
   {
    "duration": 28,
    "start_time": "2023-12-16T02:37:25.975Z"
   },
   {
    "duration": 10,
    "start_time": "2023-12-16T02:37:26.005Z"
   },
   {
    "duration": 9,
    "start_time": "2023-12-16T02:37:26.016Z"
   },
   {
    "duration": 28,
    "start_time": "2023-12-16T02:37:26.027Z"
   },
   {
    "duration": 29,
    "start_time": "2023-12-16T02:37:26.057Z"
   },
   {
    "duration": 3,
    "start_time": "2023-12-16T02:38:13.565Z"
   },
   {
    "duration": 4,
    "start_time": "2023-12-16T02:38:22.103Z"
   },
   {
    "duration": 4,
    "start_time": "2023-12-16T02:38:32.222Z"
   },
   {
    "duration": 1374,
    "start_time": "2023-12-16T02:47:43.971Z"
   },
   {
    "duration": 13,
    "start_time": "2023-12-16T02:47:54.157Z"
   },
   {
    "duration": 12,
    "start_time": "2023-12-16T02:48:31.113Z"
   },
   {
    "duration": 12,
    "start_time": "2023-12-16T02:49:21.054Z"
   },
   {
    "duration": 1127,
    "start_time": "2023-12-16T13:56:10.200Z"
   },
   {
    "duration": 181,
    "start_time": "2023-12-16T13:56:11.329Z"
   },
   {
    "duration": 4,
    "start_time": "2023-12-16T13:56:11.511Z"
   },
   {
    "duration": 25,
    "start_time": "2023-12-16T13:56:11.517Z"
   },
   {
    "duration": 18,
    "start_time": "2023-12-16T13:56:11.544Z"
   },
   {
    "duration": 48,
    "start_time": "2023-12-16T13:56:11.564Z"
   },
   {
    "duration": 3,
    "start_time": "2023-12-16T13:56:11.614Z"
   },
   {
    "duration": 23,
    "start_time": "2023-12-16T13:56:11.618Z"
   },
   {
    "duration": 24,
    "start_time": "2023-12-16T13:56:11.643Z"
   },
   {
    "duration": 249,
    "start_time": "2023-12-16T13:56:11.669Z"
   },
   {
    "duration": 10,
    "start_time": "2023-12-16T13:56:11.919Z"
   },
   {
    "duration": 266,
    "start_time": "2023-12-16T13:56:11.931Z"
   },
   {
    "duration": 17,
    "start_time": "2023-12-16T13:56:12.198Z"
   },
   {
    "duration": 11,
    "start_time": "2023-12-16T13:56:12.217Z"
   },
   {
    "duration": 6,
    "start_time": "2023-12-16T13:56:12.229Z"
   },
   {
    "duration": 166,
    "start_time": "2023-12-16T13:56:12.236Z"
   },
   {
    "duration": 132,
    "start_time": "2023-12-16T13:56:12.404Z"
   },
   {
    "duration": 16,
    "start_time": "2023-12-16T13:56:12.538Z"
   },
   {
    "duration": 261,
    "start_time": "2023-12-16T13:56:12.555Z"
   },
   {
    "duration": 228,
    "start_time": "2023-12-16T13:56:12.817Z"
   },
   {
    "duration": 314,
    "start_time": "2023-12-16T13:56:13.047Z"
   },
   {
    "duration": 281,
    "start_time": "2023-12-16T13:56:13.363Z"
   },
   {
    "duration": 304,
    "start_time": "2023-12-16T13:56:13.646Z"
   },
   {
    "duration": 11,
    "start_time": "2023-12-16T13:56:13.951Z"
   },
   {
    "duration": 144,
    "start_time": "2023-12-16T13:56:13.964Z"
   },
   {
    "duration": 4,
    "start_time": "2023-12-16T13:56:14.110Z"
   },
   {
    "duration": 219,
    "start_time": "2023-12-16T13:56:14.115Z"
   },
   {
    "duration": 4,
    "start_time": "2023-12-16T13:56:14.337Z"
   },
   {
    "duration": 5,
    "start_time": "2023-12-16T13:56:14.343Z"
   },
   {
    "duration": 40,
    "start_time": "2023-12-16T13:56:14.349Z"
   },
   {
    "duration": 4,
    "start_time": "2023-12-16T13:56:14.410Z"
   },
   {
    "duration": 40,
    "start_time": "2023-12-16T13:56:14.416Z"
   },
   {
    "duration": 13,
    "start_time": "2023-12-16T13:56:14.457Z"
   },
   {
    "duration": 57,
    "start_time": "2023-12-16T13:56:14.472Z"
   },
   {
    "duration": 14,
    "start_time": "2023-12-16T13:56:14.530Z"
   },
   {
    "duration": 46,
    "start_time": "2023-12-16T13:56:14.546Z"
   },
   {
    "duration": 38,
    "start_time": "2023-12-16T13:56:14.594Z"
   },
   {
    "duration": 126,
    "start_time": "2023-12-16T13:56:14.634Z"
   },
   {
    "duration": 7,
    "start_time": "2023-12-16T13:56:14.762Z"
   },
   {
    "duration": 63,
    "start_time": "2023-12-16T13:56:14.771Z"
   },
   {
    "duration": 33,
    "start_time": "2023-12-16T13:56:14.835Z"
   },
   {
    "duration": 10,
    "start_time": "2023-12-16T13:56:14.869Z"
   },
   {
    "duration": 31,
    "start_time": "2023-12-16T13:56:14.881Z"
   },
   {
    "duration": 27,
    "start_time": "2023-12-16T13:56:14.914Z"
   },
   {
    "duration": 50,
    "start_time": "2023-12-16T13:56:14.943Z"
   },
   {
    "duration": 18,
    "start_time": "2023-12-16T13:56:14.995Z"
   },
   {
    "duration": 1078,
    "start_time": "2023-12-16T14:24:14.365Z"
   },
   {
    "duration": 72,
    "start_time": "2023-12-16T14:24:15.445Z"
   },
   {
    "duration": 4,
    "start_time": "2023-12-16T14:24:15.518Z"
   },
   {
    "duration": 25,
    "start_time": "2023-12-16T14:24:15.523Z"
   },
   {
    "duration": 16,
    "start_time": "2023-12-16T14:24:15.550Z"
   },
   {
    "duration": 17,
    "start_time": "2023-12-16T14:24:15.567Z"
   },
   {
    "duration": 27,
    "start_time": "2023-12-16T14:24:15.586Z"
   },
   {
    "duration": 25,
    "start_time": "2023-12-16T14:24:15.614Z"
   },
   {
    "duration": 16,
    "start_time": "2023-12-16T14:24:15.641Z"
   },
   {
    "duration": 274,
    "start_time": "2023-12-16T14:24:15.659Z"
   },
   {
    "duration": 9,
    "start_time": "2023-12-16T14:24:15.935Z"
   },
   {
    "duration": 253,
    "start_time": "2023-12-16T14:24:15.946Z"
   },
   {
    "duration": 35,
    "start_time": "2023-12-16T14:24:16.200Z"
   },
   {
    "duration": 12,
    "start_time": "2023-12-16T14:24:16.236Z"
   },
   {
    "duration": 20,
    "start_time": "2023-12-16T14:24:16.249Z"
   },
   {
    "duration": 158,
    "start_time": "2023-12-16T14:24:16.271Z"
   },
   {
    "duration": 125,
    "start_time": "2023-12-16T14:24:16.430Z"
   },
   {
    "duration": 15,
    "start_time": "2023-12-16T14:24:16.557Z"
   },
   {
    "duration": 266,
    "start_time": "2023-12-16T14:24:16.573Z"
   },
   {
    "duration": 227,
    "start_time": "2023-12-16T14:24:16.840Z"
   },
   {
    "duration": 322,
    "start_time": "2023-12-16T14:24:17.068Z"
   },
   {
    "duration": 263,
    "start_time": "2023-12-16T14:24:17.391Z"
   },
   {
    "duration": 318,
    "start_time": "2023-12-16T14:24:17.656Z"
   },
   {
    "duration": 10,
    "start_time": "2023-12-16T14:24:17.976Z"
   },
   {
    "duration": 148,
    "start_time": "2023-12-16T14:24:17.987Z"
   },
   {
    "duration": 4,
    "start_time": "2023-12-16T14:24:18.136Z"
   },
   {
    "duration": 228,
    "start_time": "2023-12-16T14:24:18.141Z"
   },
   {
    "duration": 4,
    "start_time": "2023-12-16T14:24:18.372Z"
   },
   {
    "duration": 7,
    "start_time": "2023-12-16T14:24:18.377Z"
   },
   {
    "duration": 62,
    "start_time": "2023-12-16T14:24:18.385Z"
   },
   {
    "duration": 17,
    "start_time": "2023-12-16T14:24:18.448Z"
   },
   {
    "duration": 45,
    "start_time": "2023-12-16T14:24:18.467Z"
   },
   {
    "duration": 13,
    "start_time": "2023-12-16T14:24:18.513Z"
   },
   {
    "duration": 50,
    "start_time": "2023-12-16T14:24:18.527Z"
   },
   {
    "duration": 13,
    "start_time": "2023-12-16T14:24:18.579Z"
   },
   {
    "duration": 44,
    "start_time": "2023-12-16T14:24:18.611Z"
   },
   {
    "duration": 31,
    "start_time": "2023-12-16T14:24:18.657Z"
   },
   {
    "duration": 154,
    "start_time": "2023-12-16T14:24:18.690Z"
   },
   {
    "duration": 9,
    "start_time": "2023-12-16T14:24:18.846Z"
   },
   {
    "duration": 10,
    "start_time": "2023-12-16T14:24:18.856Z"
   },
   {
    "duration": 43,
    "start_time": "2023-12-16T14:24:18.868Z"
   },
   {
    "duration": 11,
    "start_time": "2023-12-16T14:24:18.913Z"
   },
   {
    "duration": 8,
    "start_time": "2023-12-16T14:24:18.926Z"
   },
   {
    "duration": 13,
    "start_time": "2023-12-16T14:24:18.935Z"
   },
   {
    "duration": 62,
    "start_time": "2023-12-16T14:24:18.949Z"
   },
   {
    "duration": 14,
    "start_time": "2023-12-16T14:24:19.013Z"
   },
   {
    "duration": 47,
    "start_time": "2023-12-17T07:26:05.062Z"
   },
   {
    "duration": 1363,
    "start_time": "2023-12-17T07:26:12.813Z"
   },
   {
    "duration": 185,
    "start_time": "2023-12-17T07:26:14.178Z"
   },
   {
    "duration": 3,
    "start_time": "2023-12-17T07:26:14.365Z"
   },
   {
    "duration": 23,
    "start_time": "2023-12-17T07:26:14.369Z"
   },
   {
    "duration": 17,
    "start_time": "2023-12-17T07:26:14.394Z"
   },
   {
    "duration": 17,
    "start_time": "2023-12-17T07:26:14.413Z"
   },
   {
    "duration": 3,
    "start_time": "2023-12-17T07:26:14.465Z"
   },
   {
    "duration": 17,
    "start_time": "2023-12-17T07:26:14.470Z"
   },
   {
    "duration": 17,
    "start_time": "2023-12-17T07:26:14.489Z"
   },
   {
    "duration": 283,
    "start_time": "2023-12-17T07:26:14.508Z"
   },
   {
    "duration": 11,
    "start_time": "2023-12-17T07:26:14.793Z"
   },
   {
    "duration": 288,
    "start_time": "2023-12-17T07:26:14.805Z"
   },
   {
    "duration": 12,
    "start_time": "2023-12-17T07:26:15.095Z"
   },
   {
    "duration": 10,
    "start_time": "2023-12-17T07:26:15.110Z"
   },
   {
    "duration": 7,
    "start_time": "2023-12-17T07:26:15.122Z"
   },
   {
    "duration": 189,
    "start_time": "2023-12-17T07:26:15.130Z"
   },
   {
    "duration": 119,
    "start_time": "2023-12-17T07:26:15.321Z"
   },
   {
    "duration": 28,
    "start_time": "2023-12-17T07:26:15.441Z"
   },
   {
    "duration": 263,
    "start_time": "2023-12-17T07:26:15.471Z"
   },
   {
    "duration": 248,
    "start_time": "2023-12-17T07:26:15.736Z"
   },
   {
    "duration": 367,
    "start_time": "2023-12-17T07:26:15.985Z"
   },
   {
    "duration": 270,
    "start_time": "2023-12-17T07:26:16.354Z"
   },
   {
    "duration": 363,
    "start_time": "2023-12-17T07:26:16.626Z"
   },
   {
    "duration": 11,
    "start_time": "2023-12-17T07:26:16.990Z"
   },
   {
    "duration": 149,
    "start_time": "2023-12-17T07:26:17.002Z"
   },
   {
    "duration": 14,
    "start_time": "2023-12-17T07:26:17.153Z"
   },
   {
    "duration": 240,
    "start_time": "2023-12-17T07:26:17.169Z"
   },
   {
    "duration": 4,
    "start_time": "2023-12-17T07:26:17.411Z"
   },
   {
    "duration": 14,
    "start_time": "2023-12-17T07:26:17.417Z"
   },
   {
    "duration": 48,
    "start_time": "2023-12-17T07:26:17.433Z"
   },
   {
    "duration": 23,
    "start_time": "2023-12-17T07:26:17.483Z"
   },
   {
    "duration": 55,
    "start_time": "2023-12-17T07:26:17.508Z"
   },
   {
    "duration": 20,
    "start_time": "2023-12-17T07:26:17.565Z"
   },
   {
    "duration": 55,
    "start_time": "2023-12-17T07:26:17.587Z"
   },
   {
    "duration": 12,
    "start_time": "2023-12-17T07:26:17.643Z"
   },
   {
    "duration": 61,
    "start_time": "2023-12-17T07:26:17.657Z"
   },
   {
    "duration": 41,
    "start_time": "2023-12-17T07:26:17.720Z"
   },
   {
    "duration": 142,
    "start_time": "2023-12-17T07:26:17.763Z"
   },
   {
    "duration": 8,
    "start_time": "2023-12-17T07:26:17.907Z"
   },
   {
    "duration": 8,
    "start_time": "2023-12-17T07:26:17.916Z"
   },
   {
    "duration": 47,
    "start_time": "2023-12-17T07:26:17.927Z"
   },
   {
    "duration": 11,
    "start_time": "2023-12-17T07:26:17.975Z"
   },
   {
    "duration": 23,
    "start_time": "2023-12-17T07:26:17.987Z"
   },
   {
    "duration": 30,
    "start_time": "2023-12-17T07:26:18.011Z"
   },
   {
    "duration": 38,
    "start_time": "2023-12-17T07:26:18.043Z"
   },
   {
    "duration": 14,
    "start_time": "2023-12-17T07:26:18.082Z"
   },
   {
    "duration": 95,
    "start_time": "2023-12-17T07:40:33.384Z"
   },
   {
    "duration": 1094,
    "start_time": "2023-12-17T07:40:44.090Z"
   },
   {
    "duration": 74,
    "start_time": "2023-12-17T07:40:45.186Z"
   },
   {
    "duration": 3,
    "start_time": "2023-12-17T07:40:45.262Z"
   },
   {
    "duration": 29,
    "start_time": "2023-12-17T07:40:45.267Z"
   },
   {
    "duration": 21,
    "start_time": "2023-12-17T07:40:45.298Z"
   },
   {
    "duration": 16,
    "start_time": "2023-12-17T07:40:45.321Z"
   },
   {
    "duration": 30,
    "start_time": "2023-12-17T07:40:45.338Z"
   },
   {
    "duration": 15,
    "start_time": "2023-12-17T07:40:45.369Z"
   },
   {
    "duration": 12,
    "start_time": "2023-12-17T07:40:45.385Z"
   },
   {
    "duration": 291,
    "start_time": "2023-12-17T07:40:45.398Z"
   },
   {
    "duration": 12,
    "start_time": "2023-12-17T07:40:45.690Z"
   },
   {
    "duration": 272,
    "start_time": "2023-12-17T07:40:45.704Z"
   },
   {
    "duration": 12,
    "start_time": "2023-12-17T07:40:45.978Z"
   },
   {
    "duration": 99,
    "start_time": "2023-12-17T07:40:45.992Z"
   },
   {
    "duration": 0,
    "start_time": "2023-12-17T07:40:46.093Z"
   },
   {
    "duration": 0,
    "start_time": "2023-12-17T07:40:46.094Z"
   },
   {
    "duration": 0,
    "start_time": "2023-12-17T07:40:46.095Z"
   },
   {
    "duration": 0,
    "start_time": "2023-12-17T07:40:46.096Z"
   },
   {
    "duration": 0,
    "start_time": "2023-12-17T07:40:46.098Z"
   },
   {
    "duration": 0,
    "start_time": "2023-12-17T07:40:46.099Z"
   },
   {
    "duration": 0,
    "start_time": "2023-12-17T07:40:46.100Z"
   },
   {
    "duration": 0,
    "start_time": "2023-12-17T07:40:46.101Z"
   },
   {
    "duration": 0,
    "start_time": "2023-12-17T07:40:46.102Z"
   },
   {
    "duration": 0,
    "start_time": "2023-12-17T07:40:46.103Z"
   },
   {
    "duration": 0,
    "start_time": "2023-12-17T07:40:46.104Z"
   },
   {
    "duration": 0,
    "start_time": "2023-12-17T07:40:46.105Z"
   },
   {
    "duration": 0,
    "start_time": "2023-12-17T07:40:46.106Z"
   },
   {
    "duration": 0,
    "start_time": "2023-12-17T07:40:46.107Z"
   },
   {
    "duration": 0,
    "start_time": "2023-12-17T07:40:46.108Z"
   },
   {
    "duration": 0,
    "start_time": "2023-12-17T07:40:46.109Z"
   },
   {
    "duration": 0,
    "start_time": "2023-12-17T07:40:46.110Z"
   },
   {
    "duration": 0,
    "start_time": "2023-12-17T07:40:46.111Z"
   },
   {
    "duration": 0,
    "start_time": "2023-12-17T07:40:46.112Z"
   },
   {
    "duration": 0,
    "start_time": "2023-12-17T07:40:46.113Z"
   },
   {
    "duration": 0,
    "start_time": "2023-12-17T07:40:46.114Z"
   },
   {
    "duration": 0,
    "start_time": "2023-12-17T07:40:46.116Z"
   },
   {
    "duration": 0,
    "start_time": "2023-12-17T07:40:46.117Z"
   },
   {
    "duration": 0,
    "start_time": "2023-12-17T07:40:46.118Z"
   },
   {
    "duration": 0,
    "start_time": "2023-12-17T07:40:46.119Z"
   },
   {
    "duration": 0,
    "start_time": "2023-12-17T07:40:46.165Z"
   },
   {
    "duration": 0,
    "start_time": "2023-12-17T07:40:46.167Z"
   },
   {
    "duration": 0,
    "start_time": "2023-12-17T07:40:46.168Z"
   },
   {
    "duration": 0,
    "start_time": "2023-12-17T07:40:46.169Z"
   },
   {
    "duration": 0,
    "start_time": "2023-12-17T07:40:46.170Z"
   },
   {
    "duration": 0,
    "start_time": "2023-12-17T07:40:46.171Z"
   },
   {
    "duration": 0,
    "start_time": "2023-12-17T07:40:46.172Z"
   },
   {
    "duration": 0,
    "start_time": "2023-12-17T07:40:46.173Z"
   },
   {
    "duration": 1084,
    "start_time": "2023-12-17T07:48:06.909Z"
   },
   {
    "duration": 74,
    "start_time": "2023-12-17T07:48:07.995Z"
   },
   {
    "duration": 4,
    "start_time": "2023-12-17T07:48:08.071Z"
   },
   {
    "duration": 28,
    "start_time": "2023-12-17T07:48:08.077Z"
   },
   {
    "duration": 16,
    "start_time": "2023-12-17T07:48:08.107Z"
   },
   {
    "duration": 15,
    "start_time": "2023-12-17T07:48:08.124Z"
   },
   {
    "duration": 4,
    "start_time": "2023-12-17T07:48:08.165Z"
   },
   {
    "duration": 32,
    "start_time": "2023-12-17T07:48:08.170Z"
   },
   {
    "duration": 21,
    "start_time": "2023-12-17T07:48:08.203Z"
   },
   {
    "duration": 259,
    "start_time": "2023-12-17T07:48:08.226Z"
   },
   {
    "duration": 12,
    "start_time": "2023-12-17T07:48:08.486Z"
   },
   {
    "duration": 269,
    "start_time": "2023-12-17T07:48:08.499Z"
   },
   {
    "duration": 11,
    "start_time": "2023-12-17T07:48:08.770Z"
   },
   {
    "duration": 28,
    "start_time": "2023-12-17T07:48:08.782Z"
   },
   {
    "duration": 6,
    "start_time": "2023-12-17T07:48:08.811Z"
   },
   {
    "duration": 193,
    "start_time": "2023-12-17T07:48:08.818Z"
   },
   {
    "duration": 110,
    "start_time": "2023-12-17T07:48:09.012Z"
   },
   {
    "duration": 15,
    "start_time": "2023-12-17T07:48:09.124Z"
   },
   {
    "duration": 270,
    "start_time": "2023-12-17T07:48:09.141Z"
   },
   {
    "duration": 235,
    "start_time": "2023-12-17T07:48:09.413Z"
   },
   {
    "duration": 357,
    "start_time": "2023-12-17T07:48:09.649Z"
   },
   {
    "duration": 261,
    "start_time": "2023-12-17T07:48:10.007Z"
   },
   {
    "duration": 325,
    "start_time": "2023-12-17T07:48:10.270Z"
   },
   {
    "duration": 11,
    "start_time": "2023-12-17T07:48:10.596Z"
   },
   {
    "duration": 179,
    "start_time": "2023-12-17T07:48:10.608Z"
   },
   {
    "duration": 4,
    "start_time": "2023-12-17T07:48:10.788Z"
   },
   {
    "duration": 264,
    "start_time": "2023-12-17T07:48:10.794Z"
   },
   {
    "duration": 4,
    "start_time": "2023-12-17T07:48:11.064Z"
   },
   {
    "duration": 25,
    "start_time": "2023-12-17T07:48:11.069Z"
   },
   {
    "duration": 55,
    "start_time": "2023-12-17T07:48:11.096Z"
   },
   {
    "duration": 20,
    "start_time": "2023-12-17T07:48:11.153Z"
   },
   {
    "duration": 59,
    "start_time": "2023-12-17T07:48:11.175Z"
   },
   {
    "duration": 25,
    "start_time": "2023-12-17T07:48:11.235Z"
   },
   {
    "duration": 51,
    "start_time": "2023-12-17T07:48:11.261Z"
   },
   {
    "duration": 18,
    "start_time": "2023-12-17T07:48:11.313Z"
   },
   {
    "duration": 52,
    "start_time": "2023-12-17T07:48:11.332Z"
   },
   {
    "duration": 27,
    "start_time": "2023-12-17T07:48:11.385Z"
   },
   {
    "duration": 144,
    "start_time": "2023-12-17T07:48:11.413Z"
   },
   {
    "duration": 7,
    "start_time": "2023-12-17T07:48:11.565Z"
   },
   {
    "duration": 6,
    "start_time": "2023-12-17T07:48:11.574Z"
   },
   {
    "duration": 32,
    "start_time": "2023-12-17T07:48:11.582Z"
   },
   {
    "duration": 10,
    "start_time": "2023-12-17T07:48:11.616Z"
   },
   {
    "duration": 30,
    "start_time": "2023-12-17T07:48:11.628Z"
   },
   {
    "duration": 9,
    "start_time": "2023-12-17T07:48:11.660Z"
   },
   {
    "duration": 48,
    "start_time": "2023-12-17T07:48:11.670Z"
   },
   {
    "duration": 15,
    "start_time": "2023-12-17T07:48:11.719Z"
   },
   {
    "duration": 308,
    "start_time": "2023-12-17T07:49:28.399Z"
   },
   {
    "duration": 315,
    "start_time": "2023-12-17T07:51:33.789Z"
   },
   {
    "duration": 234,
    "start_time": "2023-12-17T07:51:46.729Z"
   },
   {
    "duration": 149,
    "start_time": "2023-12-17T07:53:56.256Z"
   },
   {
    "duration": 166,
    "start_time": "2023-12-17T07:56:02.612Z"
   },
   {
    "duration": 256,
    "start_time": "2023-12-17T07:57:12.711Z"
   },
   {
    "duration": 154,
    "start_time": "2023-12-17T07:57:18.660Z"
   },
   {
    "duration": 183,
    "start_time": "2023-12-17T07:57:26.130Z"
   },
   {
    "duration": 183,
    "start_time": "2023-12-17T07:58:00.709Z"
   },
   {
    "duration": 173,
    "start_time": "2023-12-17T08:00:06.999Z"
   },
   {
    "duration": 169,
    "start_time": "2023-12-17T08:00:31.129Z"
   },
   {
    "duration": 14,
    "start_time": "2023-12-17T08:04:12.709Z"
   },
   {
    "duration": 1240,
    "start_time": "2023-12-17T08:12:28.161Z"
   },
   {
    "duration": 74,
    "start_time": "2023-12-17T08:12:29.403Z"
   },
   {
    "duration": 4,
    "start_time": "2023-12-17T08:12:29.478Z"
   },
   {
    "duration": 29,
    "start_time": "2023-12-17T08:12:29.483Z"
   },
   {
    "duration": 38,
    "start_time": "2023-12-17T08:12:29.515Z"
   },
   {
    "duration": 24,
    "start_time": "2023-12-17T08:12:29.555Z"
   },
   {
    "duration": 4,
    "start_time": "2023-12-17T08:12:29.581Z"
   },
   {
    "duration": 26,
    "start_time": "2023-12-17T08:12:29.587Z"
   },
   {
    "duration": 16,
    "start_time": "2023-12-17T08:12:29.615Z"
   },
   {
    "duration": 314,
    "start_time": "2023-12-17T08:12:29.632Z"
   },
   {
    "duration": 18,
    "start_time": "2023-12-17T08:12:29.947Z"
   },
   {
    "duration": 274,
    "start_time": "2023-12-17T08:12:29.966Z"
   },
   {
    "duration": 12,
    "start_time": "2023-12-17T08:12:30.242Z"
   },
   {
    "duration": 31,
    "start_time": "2023-12-17T08:12:30.256Z"
   },
   {
    "duration": 34,
    "start_time": "2023-12-17T08:12:30.289Z"
   },
   {
    "duration": 174,
    "start_time": "2023-12-17T08:12:30.325Z"
   },
   {
    "duration": 122,
    "start_time": "2023-12-17T08:12:30.501Z"
   },
   {
    "duration": 54,
    "start_time": "2023-12-17T08:12:30.625Z"
   },
   {
    "duration": 329,
    "start_time": "2023-12-17T08:12:30.681Z"
   },
   {
    "duration": 263,
    "start_time": "2023-12-17T08:12:31.012Z"
   },
   {
    "duration": 342,
    "start_time": "2023-12-17T08:12:31.276Z"
   },
   {
    "duration": 292,
    "start_time": "2023-12-17T08:12:31.620Z"
   },
   {
    "duration": 387,
    "start_time": "2023-12-17T08:12:31.914Z"
   },
   {
    "duration": 15,
    "start_time": "2023-12-17T08:12:32.303Z"
   },
   {
    "duration": 289,
    "start_time": "2023-12-17T08:12:32.320Z"
   },
   {
    "duration": 5,
    "start_time": "2023-12-17T08:12:32.610Z"
   },
   {
    "duration": 275,
    "start_time": "2023-12-17T08:12:32.617Z"
   },
   {
    "duration": 177,
    "start_time": "2023-12-17T08:12:32.894Z"
   },
   {
    "duration": 4,
    "start_time": "2023-12-17T08:12:33.073Z"
   },
   {
    "duration": 14,
    "start_time": "2023-12-17T08:12:33.079Z"
   },
   {
    "duration": 144,
    "start_time": "2023-12-17T08:12:33.095Z"
   },
   {
    "duration": 9,
    "start_time": "2023-12-17T08:12:33.241Z"
   },
   {
    "duration": 116,
    "start_time": "2023-12-17T08:12:33.251Z"
   },
   {
    "duration": 0,
    "start_time": "2023-12-17T08:12:33.369Z"
   },
   {
    "duration": 0,
    "start_time": "2023-12-17T08:12:33.370Z"
   },
   {
    "duration": 0,
    "start_time": "2023-12-17T08:12:33.372Z"
   },
   {
    "duration": 0,
    "start_time": "2023-12-17T08:12:33.373Z"
   },
   {
    "duration": 0,
    "start_time": "2023-12-17T08:12:33.375Z"
   },
   {
    "duration": 0,
    "start_time": "2023-12-17T08:12:33.376Z"
   },
   {
    "duration": 222,
    "start_time": "2023-12-17T08:19:49.088Z"
   },
   {
    "duration": 20,
    "start_time": "2023-12-17T08:23:53.462Z"
   },
   {
    "duration": 1271,
    "start_time": "2023-12-17T08:26:26.465Z"
   },
   {
    "duration": 76,
    "start_time": "2023-12-17T08:26:27.738Z"
   },
   {
    "duration": 4,
    "start_time": "2023-12-17T08:26:27.816Z"
   },
   {
    "duration": 38,
    "start_time": "2023-12-17T08:26:27.821Z"
   },
   {
    "duration": 30,
    "start_time": "2023-12-17T08:26:27.861Z"
   },
   {
    "duration": 24,
    "start_time": "2023-12-17T08:26:27.893Z"
   },
   {
    "duration": 5,
    "start_time": "2023-12-17T08:26:27.918Z"
   },
   {
    "duration": 20,
    "start_time": "2023-12-17T08:26:27.966Z"
   },
   {
    "duration": 13,
    "start_time": "2023-12-17T08:26:27.988Z"
   },
   {
    "duration": 307,
    "start_time": "2023-12-17T08:26:28.003Z"
   },
   {
    "duration": 11,
    "start_time": "2023-12-17T08:26:28.313Z"
   },
   {
    "duration": 280,
    "start_time": "2023-12-17T08:26:28.326Z"
   },
   {
    "duration": 14,
    "start_time": "2023-12-17T08:26:28.608Z"
   },
   {
    "duration": 18,
    "start_time": "2023-12-17T08:26:28.624Z"
   },
   {
    "duration": 24,
    "start_time": "2023-12-17T08:26:28.645Z"
   },
   {
    "duration": 191,
    "start_time": "2023-12-17T08:26:28.674Z"
   },
   {
    "duration": 172,
    "start_time": "2023-12-17T08:26:28.867Z"
   },
   {
    "duration": 38,
    "start_time": "2023-12-17T08:26:29.041Z"
   },
   {
    "duration": 265,
    "start_time": "2023-12-17T08:26:29.085Z"
   },
   {
    "duration": 268,
    "start_time": "2023-12-17T08:26:29.352Z"
   },
   {
    "duration": 361,
    "start_time": "2023-12-17T08:26:29.622Z"
   },
   {
    "duration": 311,
    "start_time": "2023-12-17T08:26:29.985Z"
   },
   {
    "duration": 335,
    "start_time": "2023-12-17T08:26:30.298Z"
   },
   {
    "duration": 11,
    "start_time": "2023-12-17T08:26:30.635Z"
   },
   {
    "duration": 203,
    "start_time": "2023-12-17T08:26:30.648Z"
   },
   {
    "duration": 4,
    "start_time": "2023-12-17T08:26:30.853Z"
   },
   {
    "duration": 298,
    "start_time": "2023-12-17T08:26:30.859Z"
   },
   {
    "duration": 194,
    "start_time": "2023-12-17T08:26:31.160Z"
   },
   {
    "duration": 19,
    "start_time": "2023-12-17T08:26:31.355Z"
   },
   {
    "duration": 18,
    "start_time": "2023-12-17T08:26:31.380Z"
   },
   {
    "duration": 82,
    "start_time": "2023-12-17T08:26:31.400Z"
   },
   {
    "duration": 102,
    "start_time": "2023-12-17T08:26:31.484Z"
   },
   {
    "duration": 82,
    "start_time": "2023-12-17T08:26:31.588Z"
   },
   {
    "duration": 61,
    "start_time": "2023-12-17T08:26:31.673Z"
   },
   {
    "duration": 53,
    "start_time": "2023-12-17T08:26:31.736Z"
   },
   {
    "duration": 12,
    "start_time": "2023-12-17T08:26:31.791Z"
   },
   {
    "duration": 156,
    "start_time": "2023-12-17T08:26:31.805Z"
   },
   {
    "duration": 15,
    "start_time": "2023-12-17T08:26:31.963Z"
   },
   {
    "duration": 20,
    "start_time": "2023-12-17T08:26:31.980Z"
   },
   {
    "duration": 36,
    "start_time": "2023-12-17T08:26:32.002Z"
   },
   {
    "duration": 11,
    "start_time": "2023-12-17T08:26:32.040Z"
   },
   {
    "duration": 29,
    "start_time": "2023-12-17T08:26:32.053Z"
   },
   {
    "duration": 17,
    "start_time": "2023-12-17T08:26:32.084Z"
   },
   {
    "duration": 46,
    "start_time": "2023-12-17T08:26:32.103Z"
   },
   {
    "duration": 19,
    "start_time": "2023-12-17T08:26:32.151Z"
   },
   {
    "duration": 9,
    "start_time": "2023-12-17T08:27:22.814Z"
   },
   {
    "duration": 12,
    "start_time": "2023-12-17T08:27:55.175Z"
   },
   {
    "duration": 31,
    "start_time": "2023-12-17T08:50:53.626Z"
   },
   {
    "duration": 43,
    "start_time": "2023-12-17T08:53:55.572Z"
   },
   {
    "duration": 44,
    "start_time": "2023-12-17T09:01:05.066Z"
   },
   {
    "duration": 44,
    "start_time": "2023-12-17T09:03:26.487Z"
   },
   {
    "duration": 48,
    "start_time": "2023-12-17T09:04:42.516Z"
   },
   {
    "duration": 13,
    "start_time": "2023-12-17T09:09:15.324Z"
   },
   {
    "duration": 13,
    "start_time": "2023-12-17T09:09:28.922Z"
   },
   {
    "duration": 31,
    "start_time": "2023-12-17T09:09:31.977Z"
   },
   {
    "duration": 10,
    "start_time": "2023-12-17T09:09:47.914Z"
   },
   {
    "duration": 31,
    "start_time": "2023-12-18T03:10:19.896Z"
   },
   {
    "duration": 13,
    "start_time": "2023-12-18T03:12:17.745Z"
   },
   {
    "duration": 98,
    "start_time": "2023-12-18T03:25:54.332Z"
   },
   {
    "duration": 24,
    "start_time": "2023-12-18T03:33:09.044Z"
   },
   {
    "duration": 6,
    "start_time": "2023-12-18T04:22:12.292Z"
   },
   {
    "duration": 21,
    "start_time": "2023-12-18T04:22:18.810Z"
   },
   {
    "duration": 14,
    "start_time": "2023-12-18T04:22:28.332Z"
   },
   {
    "duration": 13,
    "start_time": "2023-12-18T04:23:42.248Z"
   },
   {
    "duration": 11,
    "start_time": "2023-12-18T05:07:28.053Z"
   },
   {
    "duration": 11,
    "start_time": "2023-12-18T05:09:39.614Z"
   },
   {
    "duration": 13,
    "start_time": "2023-12-18T05:12:55.676Z"
   },
   {
    "duration": 5,
    "start_time": "2023-12-18T05:13:23.728Z"
   },
   {
    "duration": 7,
    "start_time": "2023-12-18T05:13:35.124Z"
   },
   {
    "duration": 7,
    "start_time": "2023-12-18T05:13:53.190Z"
   },
   {
    "duration": 6,
    "start_time": "2023-12-18T05:14:17.830Z"
   },
   {
    "duration": 13,
    "start_time": "2023-12-18T05:16:11.955Z"
   },
   {
    "duration": 11,
    "start_time": "2023-12-18T05:16:24.894Z"
   },
   {
    "duration": 7,
    "start_time": "2023-12-18T05:16:31.114Z"
   },
   {
    "duration": 10,
    "start_time": "2023-12-18T05:16:45.032Z"
   },
   {
    "duration": 6,
    "start_time": "2023-12-18T05:16:58.380Z"
   },
   {
    "duration": 7,
    "start_time": "2023-12-18T05:17:02.904Z"
   },
   {
    "duration": 8,
    "start_time": "2023-12-18T05:17:19.770Z"
   },
   {
    "duration": 6,
    "start_time": "2023-12-18T05:17:25.864Z"
   },
   {
    "duration": 12,
    "start_time": "2023-12-18T05:23:31.764Z"
   },
   {
    "duration": 1149,
    "start_time": "2023-12-18T05:32:18.344Z"
   },
   {
    "duration": 75,
    "start_time": "2023-12-18T05:32:19.494Z"
   },
   {
    "duration": 3,
    "start_time": "2023-12-18T05:32:19.570Z"
   },
   {
    "duration": 23,
    "start_time": "2023-12-18T05:32:19.575Z"
   },
   {
    "duration": 18,
    "start_time": "2023-12-18T05:32:19.599Z"
   },
   {
    "duration": 16,
    "start_time": "2023-12-18T05:32:19.618Z"
   },
   {
    "duration": 31,
    "start_time": "2023-12-18T05:32:19.635Z"
   },
   {
    "duration": 18,
    "start_time": "2023-12-18T05:32:19.668Z"
   },
   {
    "duration": 12,
    "start_time": "2023-12-18T05:32:19.687Z"
   },
   {
    "duration": 285,
    "start_time": "2023-12-18T05:32:19.700Z"
   },
   {
    "duration": 11,
    "start_time": "2023-12-18T05:32:19.986Z"
   },
   {
    "duration": 252,
    "start_time": "2023-12-18T05:32:19.999Z"
   },
   {
    "duration": 17,
    "start_time": "2023-12-18T05:32:20.253Z"
   },
   {
    "duration": 13,
    "start_time": "2023-12-18T05:32:20.273Z"
   },
   {
    "duration": 11,
    "start_time": "2023-12-18T05:32:20.288Z"
   },
   {
    "duration": 156,
    "start_time": "2023-12-18T05:32:20.301Z"
   },
   {
    "duration": 111,
    "start_time": "2023-12-18T05:32:20.459Z"
   },
   {
    "duration": 14,
    "start_time": "2023-12-18T05:32:20.571Z"
   },
   {
    "duration": 250,
    "start_time": "2023-12-18T05:32:20.587Z"
   },
   {
    "duration": 231,
    "start_time": "2023-12-18T05:32:20.839Z"
   },
   {
    "duration": 355,
    "start_time": "2023-12-18T05:32:21.072Z"
   },
   {
    "duration": 271,
    "start_time": "2023-12-18T05:32:21.429Z"
   },
   {
    "duration": 321,
    "start_time": "2023-12-18T05:32:21.701Z"
   },
   {
    "duration": 11,
    "start_time": "2023-12-18T05:32:22.023Z"
   },
   {
    "duration": 164,
    "start_time": "2023-12-18T05:32:22.035Z"
   },
   {
    "duration": 4,
    "start_time": "2023-12-18T05:32:22.201Z"
   },
   {
    "duration": 263,
    "start_time": "2023-12-18T05:32:22.207Z"
   },
   {
    "duration": 176,
    "start_time": "2023-12-18T05:32:22.471Z"
   },
   {
    "duration": 3,
    "start_time": "2023-12-18T05:32:22.649Z"
   },
   {
    "duration": 134,
    "start_time": "2023-12-18T05:32:22.654Z"
   },
   {
    "duration": 7,
    "start_time": "2023-12-18T05:32:22.790Z"
   },
   {
    "duration": 24,
    "start_time": "2023-12-18T05:32:22.798Z"
   },
   {
    "duration": 32,
    "start_time": "2023-12-18T05:32:22.824Z"
   },
   {
    "duration": 18,
    "start_time": "2023-12-18T05:32:22.858Z"
   },
   {
    "duration": 154,
    "start_time": "2023-12-18T05:32:22.878Z"
   },
   {
    "duration": 0,
    "start_time": "2023-12-18T05:32:23.033Z"
   },
   {
    "duration": 0,
    "start_time": "2023-12-18T05:32:23.035Z"
   },
   {
    "duration": 0,
    "start_time": "2023-12-18T05:32:23.035Z"
   },
   {
    "duration": 0,
    "start_time": "2023-12-18T05:32:23.037Z"
   },
   {
    "duration": 0,
    "start_time": "2023-12-18T05:32:23.038Z"
   },
   {
    "duration": 42,
    "start_time": "2023-12-18T05:36:10.409Z"
   },
   {
    "duration": 11,
    "start_time": "2023-12-18T05:36:23.269Z"
   },
   {
    "duration": 1092,
    "start_time": "2023-12-18T05:36:50.887Z"
   },
   {
    "duration": 74,
    "start_time": "2023-12-18T05:36:51.980Z"
   },
   {
    "duration": 4,
    "start_time": "2023-12-18T05:36:52.055Z"
   },
   {
    "duration": 21,
    "start_time": "2023-12-18T05:36:52.061Z"
   },
   {
    "duration": 17,
    "start_time": "2023-12-18T05:36:52.083Z"
   },
   {
    "duration": 15,
    "start_time": "2023-12-18T05:36:52.101Z"
   },
   {
    "duration": 4,
    "start_time": "2023-12-18T05:36:52.117Z"
   },
   {
    "duration": 47,
    "start_time": "2023-12-18T05:36:52.122Z"
   },
   {
    "duration": 22,
    "start_time": "2023-12-18T05:36:52.170Z"
   },
   {
    "duration": 260,
    "start_time": "2023-12-18T05:36:52.194Z"
   },
   {
    "duration": 13,
    "start_time": "2023-12-18T05:36:52.455Z"
   },
   {
    "duration": 239,
    "start_time": "2023-12-18T05:36:52.470Z"
   },
   {
    "duration": 12,
    "start_time": "2023-12-18T05:36:52.711Z"
   },
   {
    "duration": 21,
    "start_time": "2023-12-18T05:36:52.724Z"
   },
   {
    "duration": 8,
    "start_time": "2023-12-18T05:36:52.747Z"
   },
   {
    "duration": 158,
    "start_time": "2023-12-18T05:36:52.757Z"
   },
   {
    "duration": 115,
    "start_time": "2023-12-18T05:36:52.917Z"
   },
   {
    "duration": 14,
    "start_time": "2023-12-18T05:36:53.034Z"
   },
   {
    "duration": 244,
    "start_time": "2023-12-18T05:36:53.050Z"
   },
   {
    "duration": 221,
    "start_time": "2023-12-18T05:36:53.296Z"
   },
   {
    "duration": 315,
    "start_time": "2023-12-18T05:36:53.519Z"
   },
   {
    "duration": 280,
    "start_time": "2023-12-18T05:36:53.836Z"
   },
   {
    "duration": 331,
    "start_time": "2023-12-18T05:36:54.117Z"
   },
   {
    "duration": 17,
    "start_time": "2023-12-18T05:36:54.449Z"
   },
   {
    "duration": 153,
    "start_time": "2023-12-18T05:36:54.467Z"
   },
   {
    "duration": 4,
    "start_time": "2023-12-18T05:36:54.621Z"
   },
   {
    "duration": 246,
    "start_time": "2023-12-18T05:36:54.626Z"
   },
   {
    "duration": 169,
    "start_time": "2023-12-18T05:36:54.876Z"
   },
   {
    "duration": 4,
    "start_time": "2023-12-18T05:36:55.047Z"
   },
   {
    "duration": 142,
    "start_time": "2023-12-18T05:36:55.053Z"
   },
   {
    "duration": 8,
    "start_time": "2023-12-18T05:36:55.197Z"
   },
   {
    "duration": 20,
    "start_time": "2023-12-18T05:36:55.207Z"
   },
   {
    "duration": 13,
    "start_time": "2023-12-18T05:36:55.229Z"
   },
   {
    "duration": 22,
    "start_time": "2023-12-18T05:36:55.244Z"
   },
   {
    "duration": 51,
    "start_time": "2023-12-18T05:36:55.267Z"
   },
   {
    "duration": 10,
    "start_time": "2023-12-18T05:36:55.320Z"
   },
   {
    "duration": 14,
    "start_time": "2023-12-18T05:36:55.331Z"
   },
   {
    "duration": 99,
    "start_time": "2023-12-18T05:36:55.346Z"
   },
   {
    "duration": 0,
    "start_time": "2023-12-18T05:36:55.446Z"
   },
   {
    "duration": 0,
    "start_time": "2023-12-18T05:36:55.448Z"
   },
   {
    "duration": 10,
    "start_time": "2023-12-18T05:39:00.581Z"
   },
   {
    "duration": 10,
    "start_time": "2023-12-18T05:41:39.953Z"
   },
   {
    "duration": 10,
    "start_time": "2023-12-18T05:41:53.809Z"
   },
   {
    "duration": 7,
    "start_time": "2023-12-18T05:44:27.007Z"
   },
   {
    "duration": 1134,
    "start_time": "2023-12-18T05:44:40.653Z"
   },
   {
    "duration": 73,
    "start_time": "2023-12-18T05:44:41.789Z"
   },
   {
    "duration": 3,
    "start_time": "2023-12-18T05:44:41.864Z"
   },
   {
    "duration": 24,
    "start_time": "2023-12-18T05:44:41.869Z"
   },
   {
    "duration": 15,
    "start_time": "2023-12-18T05:44:41.894Z"
   },
   {
    "duration": 14,
    "start_time": "2023-12-18T05:44:41.911Z"
   },
   {
    "duration": 3,
    "start_time": "2023-12-18T05:44:41.926Z"
   },
   {
    "duration": 41,
    "start_time": "2023-12-18T05:44:41.931Z"
   },
   {
    "duration": 12,
    "start_time": "2023-12-18T05:44:41.973Z"
   },
   {
    "duration": 265,
    "start_time": "2023-12-18T05:44:41.988Z"
   },
   {
    "duration": 16,
    "start_time": "2023-12-18T05:44:42.255Z"
   },
   {
    "duration": 255,
    "start_time": "2023-12-18T05:44:42.272Z"
   },
   {
    "duration": 12,
    "start_time": "2023-12-18T05:44:42.528Z"
   },
   {
    "duration": 25,
    "start_time": "2023-12-18T05:44:42.541Z"
   },
   {
    "duration": 5,
    "start_time": "2023-12-18T05:44:42.567Z"
   },
   {
    "duration": 152,
    "start_time": "2023-12-18T05:44:42.573Z"
   },
   {
    "duration": 116,
    "start_time": "2023-12-18T05:44:42.726Z"
   },
   {
    "duration": 23,
    "start_time": "2023-12-18T05:44:42.843Z"
   },
   {
    "duration": 233,
    "start_time": "2023-12-18T05:44:42.867Z"
   },
   {
    "duration": 209,
    "start_time": "2023-12-18T05:44:43.102Z"
   },
   {
    "duration": 314,
    "start_time": "2023-12-18T05:44:43.312Z"
   },
   {
    "duration": 257,
    "start_time": "2023-12-18T05:44:43.627Z"
   },
   {
    "duration": 315,
    "start_time": "2023-12-18T05:44:43.885Z"
   },
   {
    "duration": 9,
    "start_time": "2023-12-18T05:44:44.202Z"
   },
   {
    "duration": 156,
    "start_time": "2023-12-18T05:44:44.213Z"
   },
   {
    "duration": 4,
    "start_time": "2023-12-18T05:44:44.370Z"
   },
   {
    "duration": 234,
    "start_time": "2023-12-18T05:44:44.376Z"
   },
   {
    "duration": 178,
    "start_time": "2023-12-18T05:44:44.613Z"
   },
   {
    "duration": 4,
    "start_time": "2023-12-18T05:44:44.793Z"
   },
   {
    "duration": 133,
    "start_time": "2023-12-18T05:44:44.799Z"
   },
   {
    "duration": 8,
    "start_time": "2023-12-18T05:44:44.934Z"
   },
   {
    "duration": 7,
    "start_time": "2023-12-18T05:44:44.944Z"
   },
   {
    "duration": 15,
    "start_time": "2023-12-18T05:44:44.953Z"
   },
   {
    "duration": 8,
    "start_time": "2023-12-18T05:44:44.969Z"
   },
   {
    "duration": 44,
    "start_time": "2023-12-18T05:44:44.979Z"
   },
   {
    "duration": 10,
    "start_time": "2023-12-18T05:44:45.024Z"
   },
   {
    "duration": 35,
    "start_time": "2023-12-18T05:44:45.036Z"
   },
   {
    "duration": 24,
    "start_time": "2023-12-18T05:44:45.072Z"
   },
   {
    "duration": 42,
    "start_time": "2023-12-18T05:44:45.098Z"
   },
   {
    "duration": 12,
    "start_time": "2023-12-18T05:44:45.142Z"
   },
   {
    "duration": 11,
    "start_time": "2023-12-18T06:12:48.779Z"
   },
   {
    "duration": 9,
    "start_time": "2023-12-18T06:13:26.069Z"
   },
   {
    "duration": 11,
    "start_time": "2023-12-18T06:15:03.611Z"
   },
   {
    "duration": 10,
    "start_time": "2023-12-18T06:15:33.205Z"
   },
   {
    "duration": 1170,
    "start_time": "2023-12-18T06:21:44.431Z"
   },
   {
    "duration": 74,
    "start_time": "2023-12-18T06:21:45.603Z"
   },
   {
    "duration": 3,
    "start_time": "2023-12-18T06:21:45.679Z"
   },
   {
    "duration": 26,
    "start_time": "2023-12-18T06:21:45.684Z"
   },
   {
    "duration": 17,
    "start_time": "2023-12-18T06:21:45.712Z"
   },
   {
    "duration": 16,
    "start_time": "2023-12-18T06:21:45.730Z"
   },
   {
    "duration": 4,
    "start_time": "2023-12-18T06:21:45.764Z"
   },
   {
    "duration": 14,
    "start_time": "2023-12-18T06:21:45.770Z"
   },
   {
    "duration": 12,
    "start_time": "2023-12-18T06:21:45.785Z"
   },
   {
    "duration": 267,
    "start_time": "2023-12-18T06:21:45.798Z"
   },
   {
    "duration": 11,
    "start_time": "2023-12-18T06:21:46.066Z"
   },
   {
    "duration": 245,
    "start_time": "2023-12-18T06:21:46.078Z"
   },
   {
    "duration": 12,
    "start_time": "2023-12-18T06:21:46.325Z"
   },
   {
    "duration": 16,
    "start_time": "2023-12-18T06:21:46.340Z"
   },
   {
    "duration": 12,
    "start_time": "2023-12-18T06:21:46.357Z"
   },
   {
    "duration": 156,
    "start_time": "2023-12-18T06:21:46.370Z"
   },
   {
    "duration": 123,
    "start_time": "2023-12-18T06:21:46.527Z"
   },
   {
    "duration": 26,
    "start_time": "2023-12-18T06:21:46.651Z"
   },
   {
    "duration": 251,
    "start_time": "2023-12-18T06:21:46.678Z"
   },
   {
    "duration": 227,
    "start_time": "2023-12-18T06:21:46.931Z"
   },
   {
    "duration": 344,
    "start_time": "2023-12-18T06:21:47.164Z"
   },
   {
    "duration": 2,
    "start_time": "2023-12-18T06:21:47.509Z"
   },
   {
    "duration": 4,
    "start_time": "2023-12-18T06:21:47.513Z"
   },
   {
    "duration": 289,
    "start_time": "2023-12-18T06:21:47.519Z"
   },
   {
    "duration": 345,
    "start_time": "2023-12-18T06:21:47.809Z"
   },
   {
    "duration": 12,
    "start_time": "2023-12-18T06:21:48.156Z"
   },
   {
    "duration": 167,
    "start_time": "2023-12-18T06:21:48.169Z"
   },
   {
    "duration": 3,
    "start_time": "2023-12-18T06:21:48.338Z"
   },
   {
    "duration": 261,
    "start_time": "2023-12-18T06:21:48.343Z"
   },
   {
    "duration": 187,
    "start_time": "2023-12-18T06:21:48.606Z"
   },
   {
    "duration": 5,
    "start_time": "2023-12-18T06:21:48.795Z"
   },
   {
    "duration": 161,
    "start_time": "2023-12-18T06:21:48.801Z"
   },
   {
    "duration": 9,
    "start_time": "2023-12-18T06:21:48.965Z"
   },
   {
    "duration": 6,
    "start_time": "2023-12-18T06:21:48.976Z"
   },
   {
    "duration": 10,
    "start_time": "2023-12-18T06:21:48.983Z"
   },
   {
    "duration": 8,
    "start_time": "2023-12-18T06:21:48.994Z"
   },
   {
    "duration": 63,
    "start_time": "2023-12-18T06:21:49.003Z"
   },
   {
    "duration": 10,
    "start_time": "2023-12-18T06:21:49.068Z"
   },
   {
    "duration": 9,
    "start_time": "2023-12-18T06:21:49.080Z"
   },
   {
    "duration": 6,
    "start_time": "2023-12-18T06:21:49.090Z"
   },
   {
    "duration": 22,
    "start_time": "2023-12-18T06:21:49.100Z"
   },
   {
    "duration": 12,
    "start_time": "2023-12-18T06:21:49.124Z"
   },
   {
    "duration": 11,
    "start_time": "2023-12-18T07:52:39.110Z"
   },
   {
    "duration": 100,
    "start_time": "2023-12-18T07:54:12.974Z"
   },
   {
    "duration": 9,
    "start_time": "2023-12-18T07:54:20.570Z"
   },
   {
    "duration": 4,
    "start_time": "2023-12-18T08:00:03.639Z"
   },
   {
    "duration": 8,
    "start_time": "2023-12-18T08:09:37.095Z"
   },
   {
    "duration": 9,
    "start_time": "2023-12-18T08:09:41.424Z"
   },
   {
    "duration": 4,
    "start_time": "2023-12-18T08:09:43.137Z"
   },
   {
    "duration": 8,
    "start_time": "2023-12-18T08:09:52.560Z"
   },
   {
    "duration": 8,
    "start_time": "2023-12-18T08:11:07.372Z"
   },
   {
    "duration": 84,
    "start_time": "2023-12-18T08:11:39.176Z"
   },
   {
    "duration": 1306,
    "start_time": "2023-12-18T08:11:43.754Z"
   },
   {
    "duration": 1227,
    "start_time": "2023-12-18T08:11:52.717Z"
   },
   {
    "duration": 77,
    "start_time": "2023-12-18T08:13:13.939Z"
   },
   {
    "duration": 7,
    "start_time": "2023-12-18T08:13:46.775Z"
   },
   {
    "duration": 7,
    "start_time": "2023-12-18T08:14:31.595Z"
   },
   {
    "duration": 9,
    "start_time": "2023-12-18T08:15:19.409Z"
   },
   {
    "duration": 33,
    "start_time": "2023-12-18T09:20:31.051Z"
   },
   {
    "duration": 5,
    "start_time": "2023-12-18T09:24:49.658Z"
   },
   {
    "duration": 13,
    "start_time": "2023-12-18T09:24:54.848Z"
   },
   {
    "duration": 18,
    "start_time": "2023-12-18T09:25:15.665Z"
   },
   {
    "duration": 15,
    "start_time": "2023-12-18T09:54:55.115Z"
   },
   {
    "duration": 6,
    "start_time": "2023-12-18T09:55:12.055Z"
   },
   {
    "duration": 13,
    "start_time": "2023-12-18T09:55:16.220Z"
   },
   {
    "duration": 4,
    "start_time": "2023-12-18T09:55:23.699Z"
   },
   {
    "duration": 1144,
    "start_time": "2023-12-18T09:55:35.054Z"
   },
   {
    "duration": 72,
    "start_time": "2023-12-18T09:55:36.200Z"
   },
   {
    "duration": 4,
    "start_time": "2023-12-18T09:55:36.274Z"
   },
   {
    "duration": 31,
    "start_time": "2023-12-18T09:55:36.279Z"
   },
   {
    "duration": 17,
    "start_time": "2023-12-18T09:55:36.312Z"
   },
   {
    "duration": 36,
    "start_time": "2023-12-18T09:55:36.330Z"
   },
   {
    "duration": 9,
    "start_time": "2023-12-18T09:55:36.367Z"
   },
   {
    "duration": 28,
    "start_time": "2023-12-18T09:55:36.377Z"
   },
   {
    "duration": 51,
    "start_time": "2023-12-18T09:55:36.406Z"
   },
   {
    "duration": 279,
    "start_time": "2023-12-18T09:55:36.459Z"
   },
   {
    "duration": 11,
    "start_time": "2023-12-18T09:55:36.739Z"
   },
   {
    "duration": 246,
    "start_time": "2023-12-18T09:55:36.764Z"
   },
   {
    "duration": 12,
    "start_time": "2023-12-18T09:55:37.012Z"
   },
   {
    "duration": 6,
    "start_time": "2023-12-18T09:55:37.028Z"
   },
   {
    "duration": 33,
    "start_time": "2023-12-18T09:55:37.035Z"
   },
   {
    "duration": 3,
    "start_time": "2023-12-18T09:55:37.070Z"
   },
   {
    "duration": 19,
    "start_time": "2023-12-18T09:55:37.074Z"
   },
   {
    "duration": 12,
    "start_time": "2023-12-18T09:55:37.094Z"
   },
   {
    "duration": 161,
    "start_time": "2023-12-18T09:55:37.107Z"
   },
   {
    "duration": 110,
    "start_time": "2023-12-18T09:55:37.269Z"
   },
   {
    "duration": 14,
    "start_time": "2023-12-18T09:55:37.381Z"
   },
   {
    "duration": 263,
    "start_time": "2023-12-18T09:55:37.396Z"
   },
   {
    "duration": 257,
    "start_time": "2023-12-18T09:55:37.661Z"
   },
   {
    "duration": 323,
    "start_time": "2023-12-18T09:55:37.920Z"
   },
   {
    "duration": 2,
    "start_time": "2023-12-18T09:55:38.244Z"
   },
   {
    "duration": 10,
    "start_time": "2023-12-18T09:55:38.248Z"
   },
   {
    "duration": 237,
    "start_time": "2023-12-18T09:55:38.264Z"
   },
   {
    "duration": 319,
    "start_time": "2023-12-18T09:55:38.503Z"
   },
   {
    "duration": 10,
    "start_time": "2023-12-18T09:55:38.823Z"
   },
   {
    "duration": 210,
    "start_time": "2023-12-18T09:55:38.835Z"
   },
   {
    "duration": 4,
    "start_time": "2023-12-18T09:55:39.046Z"
   },
   {
    "duration": 265,
    "start_time": "2023-12-18T09:55:39.052Z"
   },
   {
    "duration": 182,
    "start_time": "2023-12-18T09:55:39.319Z"
   },
   {
    "duration": 5,
    "start_time": "2023-12-18T09:55:39.502Z"
   },
   {
    "duration": 131,
    "start_time": "2023-12-18T09:55:39.508Z"
   },
   {
    "duration": 7,
    "start_time": "2023-12-18T09:55:39.641Z"
   },
   {
    "duration": 17,
    "start_time": "2023-12-18T09:55:39.650Z"
   },
   {
    "duration": 8,
    "start_time": "2023-12-18T09:55:39.668Z"
   },
   {
    "duration": 6,
    "start_time": "2023-12-18T09:55:39.678Z"
   },
   {
    "duration": 55,
    "start_time": "2023-12-18T09:55:39.685Z"
   },
   {
    "duration": 22,
    "start_time": "2023-12-18T09:55:39.744Z"
   },
   {
    "duration": 9,
    "start_time": "2023-12-18T09:55:39.767Z"
   },
   {
    "duration": 17,
    "start_time": "2023-12-18T09:55:39.777Z"
   },
   {
    "duration": 48,
    "start_time": "2023-12-18T09:55:39.796Z"
   },
   {
    "duration": 14,
    "start_time": "2023-12-18T09:55:39.846Z"
   },
   {
    "duration": 7,
    "start_time": "2023-12-18T10:24:52.447Z"
   },
   {
    "duration": 6,
    "start_time": "2023-12-18T10:30:59.994Z"
   },
   {
    "duration": 14,
    "start_time": "2023-12-18T10:31:23.259Z"
   },
   {
    "duration": 1132,
    "start_time": "2023-12-18T10:31:40.881Z"
   },
   {
    "duration": 74,
    "start_time": "2023-12-18T10:31:42.015Z"
   },
   {
    "duration": 3,
    "start_time": "2023-12-18T10:31:42.091Z"
   },
   {
    "duration": 54,
    "start_time": "2023-12-18T10:31:42.096Z"
   },
   {
    "duration": 18,
    "start_time": "2023-12-18T10:31:42.152Z"
   },
   {
    "duration": 27,
    "start_time": "2023-12-18T10:31:42.171Z"
   },
   {
    "duration": 9,
    "start_time": "2023-12-18T10:31:42.199Z"
   },
   {
    "duration": 17,
    "start_time": "2023-12-18T10:31:42.209Z"
   },
   {
    "duration": 34,
    "start_time": "2023-12-18T10:31:42.227Z"
   },
   {
    "duration": 296,
    "start_time": "2023-12-18T10:31:42.263Z"
   },
   {
    "duration": 11,
    "start_time": "2023-12-18T10:31:42.561Z"
   },
   {
    "duration": 249,
    "start_time": "2023-12-18T10:31:42.574Z"
   },
   {
    "duration": 12,
    "start_time": "2023-12-18T10:31:42.824Z"
   },
   {
    "duration": 8,
    "start_time": "2023-12-18T10:31:42.837Z"
   },
   {
    "duration": 29,
    "start_time": "2023-12-18T10:31:42.846Z"
   },
   {
    "duration": 4,
    "start_time": "2023-12-18T10:31:42.876Z"
   },
   {
    "duration": 11,
    "start_time": "2023-12-18T10:31:42.881Z"
   },
   {
    "duration": 6,
    "start_time": "2023-12-18T10:31:42.894Z"
   },
   {
    "duration": 168,
    "start_time": "2023-12-18T10:31:42.901Z"
   },
   {
    "duration": 121,
    "start_time": "2023-12-18T10:31:43.070Z"
   },
   {
    "duration": 14,
    "start_time": "2023-12-18T10:31:43.193Z"
   },
   {
    "duration": 265,
    "start_time": "2023-12-18T10:31:43.209Z"
   },
   {
    "duration": 240,
    "start_time": "2023-12-18T10:31:43.476Z"
   },
   {
    "duration": 320,
    "start_time": "2023-12-18T10:31:43.718Z"
   },
   {
    "duration": 2,
    "start_time": "2023-12-18T10:31:44.040Z"
   },
   {
    "duration": 6,
    "start_time": "2023-12-18T10:31:44.043Z"
   },
   {
    "duration": 242,
    "start_time": "2023-12-18T10:31:44.050Z"
   },
   {
    "duration": 338,
    "start_time": "2023-12-18T10:31:44.295Z"
   },
   {
    "duration": 11,
    "start_time": "2023-12-18T10:31:44.635Z"
   },
   {
    "duration": 191,
    "start_time": "2023-12-18T10:31:44.647Z"
   },
   {
    "duration": 5,
    "start_time": "2023-12-18T10:31:44.840Z"
   },
   {
    "duration": 252,
    "start_time": "2023-12-18T10:31:44.846Z"
   },
   {
    "duration": 174,
    "start_time": "2023-12-18T10:31:45.099Z"
   },
   {
    "duration": 4,
    "start_time": "2023-12-18T10:31:45.275Z"
   },
   {
    "duration": 127,
    "start_time": "2023-12-18T10:31:45.280Z"
   },
   {
    "duration": 7,
    "start_time": "2023-12-18T10:31:45.409Z"
   },
   {
    "duration": 10,
    "start_time": "2023-12-18T10:31:45.418Z"
   },
   {
    "duration": 14,
    "start_time": "2023-12-18T10:31:45.429Z"
   },
   {
    "duration": 19,
    "start_time": "2023-12-18T10:31:45.444Z"
   },
   {
    "duration": 48,
    "start_time": "2023-12-18T10:31:45.465Z"
   },
   {
    "duration": 10,
    "start_time": "2023-12-18T10:31:45.515Z"
   },
   {
    "duration": 11,
    "start_time": "2023-12-18T10:31:45.527Z"
   },
   {
    "duration": 47,
    "start_time": "2023-12-18T10:31:45.539Z"
   },
   {
    "duration": 42,
    "start_time": "2023-12-18T10:31:45.588Z"
   },
   {
    "duration": 15,
    "start_time": "2023-12-18T10:31:45.632Z"
   },
   {
    "duration": 13,
    "start_time": "2023-12-18T10:46:21.811Z"
   },
   {
    "duration": 7,
    "start_time": "2023-12-18T10:47:52.188Z"
   },
   {
    "duration": 13,
    "start_time": "2023-12-18T10:47:53.098Z"
   },
   {
    "duration": 1162,
    "start_time": "2023-12-18T10:47:58.252Z"
   },
   {
    "duration": 74,
    "start_time": "2023-12-18T10:47:59.415Z"
   },
   {
    "duration": 3,
    "start_time": "2023-12-18T10:47:59.491Z"
   },
   {
    "duration": 30,
    "start_time": "2023-12-18T10:47:59.495Z"
   },
   {
    "duration": 16,
    "start_time": "2023-12-18T10:47:59.526Z"
   },
   {
    "duration": 16,
    "start_time": "2023-12-18T10:47:59.544Z"
   },
   {
    "duration": 5,
    "start_time": "2023-12-18T10:47:59.561Z"
   },
   {
    "duration": 16,
    "start_time": "2023-12-18T10:47:59.568Z"
   },
   {
    "duration": 16,
    "start_time": "2023-12-18T10:47:59.585Z"
   },
   {
    "duration": 302,
    "start_time": "2023-12-18T10:47:59.604Z"
   },
   {
    "duration": 12,
    "start_time": "2023-12-18T10:47:59.907Z"
   },
   {
    "duration": 269,
    "start_time": "2023-12-18T10:47:59.920Z"
   },
   {
    "duration": 11,
    "start_time": "2023-12-18T10:48:00.191Z"
   },
   {
    "duration": 14,
    "start_time": "2023-12-18T10:48:00.203Z"
   },
   {
    "duration": 29,
    "start_time": "2023-12-18T10:48:00.218Z"
   },
   {
    "duration": 10,
    "start_time": "2023-12-18T10:48:00.249Z"
   },
   {
    "duration": 33,
    "start_time": "2023-12-18T10:48:00.261Z"
   },
   {
    "duration": 166,
    "start_time": "2023-12-18T10:48:00.296Z"
   },
   {
    "duration": 126,
    "start_time": "2023-12-18T10:48:00.464Z"
   },
   {
    "duration": 16,
    "start_time": "2023-12-18T10:48:00.591Z"
   },
   {
    "duration": 303,
    "start_time": "2023-12-18T10:48:00.608Z"
   },
   {
    "duration": 240,
    "start_time": "2023-12-18T10:48:00.913Z"
   },
   {
    "duration": 341,
    "start_time": "2023-12-18T10:48:01.154Z"
   },
   {
    "duration": 2,
    "start_time": "2023-12-18T10:48:01.497Z"
   },
   {
    "duration": 38,
    "start_time": "2023-12-18T10:48:01.501Z"
   },
   {
    "duration": 296,
    "start_time": "2023-12-18T10:48:01.540Z"
   },
   {
    "duration": 370,
    "start_time": "2023-12-18T10:48:01.838Z"
   },
   {
    "duration": 11,
    "start_time": "2023-12-18T10:48:02.212Z"
   },
   {
    "duration": 197,
    "start_time": "2023-12-18T10:48:02.224Z"
   },
   {
    "duration": 4,
    "start_time": "2023-12-18T10:48:02.423Z"
   },
   {
    "duration": 246,
    "start_time": "2023-12-18T10:48:02.428Z"
   },
   {
    "duration": 172,
    "start_time": "2023-12-18T10:48:02.676Z"
   },
   {
    "duration": 4,
    "start_time": "2023-12-18T10:48:02.850Z"
   },
   {
    "duration": 142,
    "start_time": "2023-12-18T10:48:02.855Z"
   },
   {
    "duration": 9,
    "start_time": "2023-12-18T10:48:02.999Z"
   },
   {
    "duration": 17,
    "start_time": "2023-12-18T10:48:03.009Z"
   },
   {
    "duration": 18,
    "start_time": "2023-12-18T10:48:03.028Z"
   },
   {
    "duration": 13,
    "start_time": "2023-12-18T10:48:03.047Z"
   },
   {
    "duration": 58,
    "start_time": "2023-12-18T10:48:03.061Z"
   },
   {
    "duration": 11,
    "start_time": "2023-12-18T10:48:03.121Z"
   },
   {
    "duration": 18,
    "start_time": "2023-12-18T10:48:03.134Z"
   },
   {
    "duration": 24,
    "start_time": "2023-12-18T10:48:03.153Z"
   },
   {
    "duration": 27,
    "start_time": "2023-12-18T10:48:03.179Z"
   },
   {
    "duration": 15,
    "start_time": "2023-12-18T10:48:03.208Z"
   },
   {
    "duration": 11,
    "start_time": "2023-12-18T10:49:39.466Z"
   },
   {
    "duration": 2,
    "start_time": "2023-12-18T10:52:34.376Z"
   },
   {
    "duration": 359,
    "start_time": "2023-12-18T10:53:13.239Z"
   },
   {
    "duration": 348,
    "start_time": "2023-12-18T10:53:36.363Z"
   },
   {
    "duration": 11,
    "start_time": "2023-12-18T11:02:00.525Z"
   },
   {
    "duration": 1147,
    "start_time": "2023-12-18T11:02:08.082Z"
   },
   {
    "duration": 74,
    "start_time": "2023-12-18T11:02:09.231Z"
   },
   {
    "duration": 4,
    "start_time": "2023-12-18T11:02:09.306Z"
   },
   {
    "duration": 33,
    "start_time": "2023-12-18T11:02:09.312Z"
   },
   {
    "duration": 18,
    "start_time": "2023-12-18T11:02:09.347Z"
   },
   {
    "duration": 28,
    "start_time": "2023-12-18T11:02:09.367Z"
   },
   {
    "duration": 3,
    "start_time": "2023-12-18T11:02:09.396Z"
   },
   {
    "duration": 17,
    "start_time": "2023-12-18T11:02:09.401Z"
   },
   {
    "duration": 16,
    "start_time": "2023-12-18T11:02:09.419Z"
   },
   {
    "duration": 289,
    "start_time": "2023-12-18T11:02:09.437Z"
   },
   {
    "duration": 12,
    "start_time": "2023-12-18T11:02:09.727Z"
   },
   {
    "duration": 265,
    "start_time": "2023-12-18T11:02:09.741Z"
   },
   {
    "duration": 11,
    "start_time": "2023-12-18T11:02:10.008Z"
   },
   {
    "duration": 29,
    "start_time": "2023-12-18T11:02:10.020Z"
   },
   {
    "duration": 28,
    "start_time": "2023-12-18T11:02:10.050Z"
   },
   {
    "duration": 33,
    "start_time": "2023-12-18T11:02:10.079Z"
   },
   {
    "duration": 12,
    "start_time": "2023-12-18T11:02:10.113Z"
   },
   {
    "duration": 187,
    "start_time": "2023-12-18T11:02:10.127Z"
   },
   {
    "duration": 113,
    "start_time": "2023-12-18T11:02:10.316Z"
   },
   {
    "duration": 18,
    "start_time": "2023-12-18T11:02:10.431Z"
   },
   {
    "duration": 276,
    "start_time": "2023-12-18T11:02:10.450Z"
   },
   {
    "duration": 230,
    "start_time": "2023-12-18T11:02:10.728Z"
   },
   {
    "duration": 329,
    "start_time": "2023-12-18T11:02:10.966Z"
   },
   {
    "duration": 3,
    "start_time": "2023-12-18T11:02:11.296Z"
   },
   {
    "duration": 31,
    "start_time": "2023-12-18T11:02:11.300Z"
   },
   {
    "duration": 243,
    "start_time": "2023-12-18T11:02:11.332Z"
   },
   {
    "duration": 317,
    "start_time": "2023-12-18T11:02:11.578Z"
   },
   {
    "duration": 10,
    "start_time": "2023-12-18T11:02:11.898Z"
   },
   {
    "duration": 195,
    "start_time": "2023-12-18T11:02:11.910Z"
   },
   {
    "duration": 3,
    "start_time": "2023-12-18T11:02:12.107Z"
   },
   {
    "duration": 243,
    "start_time": "2023-12-18T11:02:12.112Z"
   },
   {
    "duration": 180,
    "start_time": "2023-12-18T11:02:12.357Z"
   },
   {
    "duration": 5,
    "start_time": "2023-12-18T11:02:12.539Z"
   },
   {
    "duration": 136,
    "start_time": "2023-12-18T11:02:12.545Z"
   },
   {
    "duration": 8,
    "start_time": "2023-12-18T11:02:12.682Z"
   },
   {
    "duration": 32,
    "start_time": "2023-12-18T11:02:12.692Z"
   },
   {
    "duration": 16,
    "start_time": "2023-12-18T11:02:12.726Z"
   },
   {
    "duration": 18,
    "start_time": "2023-12-18T11:02:12.743Z"
   },
   {
    "duration": 48,
    "start_time": "2023-12-18T11:02:12.763Z"
   },
   {
    "duration": 11,
    "start_time": "2023-12-18T11:02:12.813Z"
   },
   {
    "duration": 11,
    "start_time": "2023-12-18T11:02:12.826Z"
   },
   {
    "duration": 16,
    "start_time": "2023-12-18T11:02:12.838Z"
   },
   {
    "duration": 28,
    "start_time": "2023-12-18T11:02:12.866Z"
   },
   {
    "duration": 49,
    "start_time": "2023-12-18T11:02:12.896Z"
   },
   {
    "duration": 5,
    "start_time": "2023-12-19T04:10:26.158Z"
   },
   {
    "duration": 8,
    "start_time": "2023-12-19T04:11:25.001Z"
   },
   {
    "duration": 1094,
    "start_time": "2023-12-19T04:21:55.697Z"
   },
   {
    "duration": 74,
    "start_time": "2023-12-19T04:21:56.793Z"
   },
   {
    "duration": 3,
    "start_time": "2023-12-19T04:21:56.868Z"
   },
   {
    "duration": 28,
    "start_time": "2023-12-19T04:21:56.872Z"
   },
   {
    "duration": 17,
    "start_time": "2023-12-19T04:21:56.902Z"
   },
   {
    "duration": 15,
    "start_time": "2023-12-19T04:21:56.921Z"
   },
   {
    "duration": 30,
    "start_time": "2023-12-19T04:21:56.937Z"
   },
   {
    "duration": 18,
    "start_time": "2023-12-19T04:21:56.969Z"
   },
   {
    "duration": 12,
    "start_time": "2023-12-19T04:21:56.988Z"
   },
   {
    "duration": 275,
    "start_time": "2023-12-19T04:21:57.001Z"
   },
   {
    "duration": 11,
    "start_time": "2023-12-19T04:21:57.277Z"
   },
   {
    "duration": 242,
    "start_time": "2023-12-19T04:21:57.289Z"
   },
   {
    "duration": 11,
    "start_time": "2023-12-19T04:21:57.532Z"
   },
   {
    "duration": 7,
    "start_time": "2023-12-19T04:21:57.545Z"
   },
   {
    "duration": 12,
    "start_time": "2023-12-19T04:21:57.564Z"
   },
   {
    "duration": 8,
    "start_time": "2023-12-19T04:21:57.578Z"
   },
   {
    "duration": 5,
    "start_time": "2023-12-19T04:21:57.587Z"
   },
   {
    "duration": 182,
    "start_time": "2023-12-19T04:21:57.593Z"
   },
   {
    "duration": 113,
    "start_time": "2023-12-19T04:21:57.776Z"
   },
   {
    "duration": 14,
    "start_time": "2023-12-19T04:21:57.891Z"
   },
   {
    "duration": 260,
    "start_time": "2023-12-19T04:21:57.907Z"
   },
   {
    "duration": 247,
    "start_time": "2023-12-19T04:21:58.169Z"
   },
   {
    "duration": 306,
    "start_time": "2023-12-19T04:21:58.417Z"
   },
   {
    "duration": 3,
    "start_time": "2023-12-19T04:21:58.724Z"
   },
   {
    "duration": 8,
    "start_time": "2023-12-19T04:21:58.728Z"
   },
   {
    "duration": 260,
    "start_time": "2023-12-19T04:21:58.738Z"
   },
   {
    "duration": 297,
    "start_time": "2023-12-19T04:21:59.000Z"
   },
   {
    "duration": 10,
    "start_time": "2023-12-19T04:21:59.299Z"
   },
   {
    "duration": 183,
    "start_time": "2023-12-19T04:21:59.310Z"
   },
   {
    "duration": 5,
    "start_time": "2023-12-19T04:21:59.494Z"
   },
   {
    "duration": 261,
    "start_time": "2023-12-19T04:21:59.500Z"
   },
   {
    "duration": 179,
    "start_time": "2023-12-19T04:21:59.765Z"
   },
   {
    "duration": 4,
    "start_time": "2023-12-19T04:21:59.947Z"
   },
   {
    "duration": 132,
    "start_time": "2023-12-19T04:21:59.952Z"
   },
   {
    "duration": 7,
    "start_time": "2023-12-19T04:22:00.085Z"
   },
   {
    "duration": 28,
    "start_time": "2023-12-19T04:22:00.093Z"
   },
   {
    "duration": 15,
    "start_time": "2023-12-19T04:22:00.122Z"
   },
   {
    "duration": 22,
    "start_time": "2023-12-19T04:22:00.139Z"
   },
   {
    "duration": 56,
    "start_time": "2023-12-19T04:22:00.162Z"
   },
   {
    "duration": 9,
    "start_time": "2023-12-19T04:22:00.220Z"
   },
   {
    "duration": 17,
    "start_time": "2023-12-19T04:22:00.232Z"
   },
   {
    "duration": 34,
    "start_time": "2023-12-19T04:22:00.251Z"
   },
   {
    "duration": 33,
    "start_time": "2023-12-19T04:22:00.287Z"
   },
   {
    "duration": 14,
    "start_time": "2023-12-19T04:22:00.322Z"
   },
   {
    "duration": 1183,
    "start_time": "2023-12-19T04:48:49.674Z"
   },
   {
    "duration": 75,
    "start_time": "2023-12-19T04:48:50.859Z"
   },
   {
    "duration": 3,
    "start_time": "2023-12-19T04:48:50.936Z"
   },
   {
    "duration": 26,
    "start_time": "2023-12-19T04:48:50.942Z"
   },
   {
    "duration": 18,
    "start_time": "2023-12-19T04:48:50.969Z"
   },
   {
    "duration": 32,
    "start_time": "2023-12-19T04:48:50.989Z"
   },
   {
    "duration": 44,
    "start_time": "2023-12-19T04:48:51.023Z"
   },
   {
    "duration": 14,
    "start_time": "2023-12-19T04:48:51.068Z"
   },
   {
    "duration": 25,
    "start_time": "2023-12-19T04:48:51.083Z"
   },
   {
    "duration": 250,
    "start_time": "2023-12-19T04:48:51.111Z"
   },
   {
    "duration": 10,
    "start_time": "2023-12-19T04:48:51.363Z"
   },
   {
    "duration": 260,
    "start_time": "2023-12-19T04:48:51.375Z"
   },
   {
    "duration": 12,
    "start_time": "2023-12-19T04:48:51.636Z"
   },
   {
    "duration": 18,
    "start_time": "2023-12-19T04:48:51.650Z"
   },
   {
    "duration": 11,
    "start_time": "2023-12-19T04:48:51.670Z"
   },
   {
    "duration": 40,
    "start_time": "2023-12-19T04:48:51.682Z"
   },
   {
    "duration": 15,
    "start_time": "2023-12-19T04:48:51.724Z"
   },
   {
    "duration": 155,
    "start_time": "2023-12-19T04:48:51.741Z"
   },
   {
    "duration": 119,
    "start_time": "2023-12-19T04:48:51.898Z"
   },
   {
    "duration": 16,
    "start_time": "2023-12-19T04:48:52.019Z"
   },
   {
    "duration": 258,
    "start_time": "2023-12-19T04:48:52.036Z"
   },
   {
    "duration": 229,
    "start_time": "2023-12-19T04:48:52.295Z"
   },
   {
    "duration": 325,
    "start_time": "2023-12-19T04:48:52.525Z"
   },
   {
    "duration": 2,
    "start_time": "2023-12-19T04:48:52.852Z"
   },
   {
    "duration": 10,
    "start_time": "2023-12-19T04:48:52.855Z"
   },
   {
    "duration": 261,
    "start_time": "2023-12-19T04:48:52.867Z"
   },
   {
    "duration": 331,
    "start_time": "2023-12-19T04:48:53.129Z"
   },
   {
    "duration": 10,
    "start_time": "2023-12-19T04:48:53.465Z"
   },
   {
    "duration": 157,
    "start_time": "2023-12-19T04:48:53.476Z"
   },
   {
    "duration": 5,
    "start_time": "2023-12-19T04:48:53.634Z"
   },
   {
    "duration": 244,
    "start_time": "2023-12-19T04:48:53.640Z"
   },
   {
    "duration": 173,
    "start_time": "2023-12-19T04:48:53.885Z"
   },
   {
    "duration": 7,
    "start_time": "2023-12-19T04:48:54.060Z"
   },
   {
    "duration": 138,
    "start_time": "2023-12-19T04:48:54.068Z"
   },
   {
    "duration": 7,
    "start_time": "2023-12-19T04:48:54.207Z"
   },
   {
    "duration": 5,
    "start_time": "2023-12-19T04:48:54.215Z"
   },
   {
    "duration": 8,
    "start_time": "2023-12-19T04:48:54.221Z"
   },
   {
    "duration": 13,
    "start_time": "2023-12-19T04:48:54.230Z"
   },
   {
    "duration": 54,
    "start_time": "2023-12-19T04:48:54.244Z"
   },
   {
    "duration": 10,
    "start_time": "2023-12-19T04:48:54.300Z"
   },
   {
    "duration": 22,
    "start_time": "2023-12-19T04:48:54.311Z"
   },
   {
    "duration": 18,
    "start_time": "2023-12-19T04:48:54.335Z"
   },
   {
    "duration": 29,
    "start_time": "2023-12-19T04:48:54.354Z"
   },
   {
    "duration": 13,
    "start_time": "2023-12-19T04:48:54.384Z"
   },
   {
    "duration": 1114,
    "start_time": "2023-12-19T04:57:41.166Z"
   },
   {
    "duration": 73,
    "start_time": "2023-12-19T04:57:42.282Z"
   },
   {
    "duration": 3,
    "start_time": "2023-12-19T04:57:42.356Z"
   },
   {
    "duration": 20,
    "start_time": "2023-12-19T04:57:42.361Z"
   },
   {
    "duration": 19,
    "start_time": "2023-12-19T04:57:42.382Z"
   },
   {
    "duration": 14,
    "start_time": "2023-12-19T04:57:42.403Z"
   },
   {
    "duration": 3,
    "start_time": "2023-12-19T04:57:42.419Z"
   },
   {
    "duration": 42,
    "start_time": "2023-12-19T04:57:42.423Z"
   },
   {
    "duration": 21,
    "start_time": "2023-12-19T04:57:42.467Z"
   },
   {
    "duration": 259,
    "start_time": "2023-12-19T04:57:42.490Z"
   },
   {
    "duration": 20,
    "start_time": "2023-12-19T04:57:42.751Z"
   },
   {
    "duration": 249,
    "start_time": "2023-12-19T04:57:42.772Z"
   },
   {
    "duration": 12,
    "start_time": "2023-12-19T04:57:43.022Z"
   },
   {
    "duration": 6,
    "start_time": "2023-12-19T04:57:43.035Z"
   },
   {
    "duration": 27,
    "start_time": "2023-12-19T04:57:43.043Z"
   },
   {
    "duration": 9,
    "start_time": "2023-12-19T04:57:43.072Z"
   },
   {
    "duration": 8,
    "start_time": "2023-12-19T04:57:43.082Z"
   },
   {
    "duration": 166,
    "start_time": "2023-12-19T04:57:43.091Z"
   },
   {
    "duration": 122,
    "start_time": "2023-12-19T04:57:43.259Z"
   },
   {
    "duration": 15,
    "start_time": "2023-12-19T04:57:43.383Z"
   },
   {
    "duration": 253,
    "start_time": "2023-12-19T04:57:43.400Z"
   },
   {
    "duration": 238,
    "start_time": "2023-12-19T04:57:43.655Z"
   },
   {
    "duration": 305,
    "start_time": "2023-12-19T04:57:43.894Z"
   },
   {
    "duration": 2,
    "start_time": "2023-12-19T04:57:44.201Z"
   },
   {
    "duration": 5,
    "start_time": "2023-12-19T04:57:44.205Z"
   },
   {
    "duration": 245,
    "start_time": "2023-12-19T04:57:44.211Z"
   },
   {
    "duration": 320,
    "start_time": "2023-12-19T04:57:44.457Z"
   },
   {
    "duration": 10,
    "start_time": "2023-12-19T04:57:44.780Z"
   },
   {
    "duration": 186,
    "start_time": "2023-12-19T04:57:44.791Z"
   },
   {
    "duration": 4,
    "start_time": "2023-12-19T04:57:44.978Z"
   },
   {
    "duration": 233,
    "start_time": "2023-12-19T04:57:44.984Z"
   },
   {
    "duration": 167,
    "start_time": "2023-12-19T04:57:45.218Z"
   },
   {
    "duration": 5,
    "start_time": "2023-12-19T04:57:45.387Z"
   },
   {
    "duration": 134,
    "start_time": "2023-12-19T04:57:45.394Z"
   },
   {
    "duration": 8,
    "start_time": "2023-12-19T04:57:45.530Z"
   },
   {
    "duration": 5,
    "start_time": "2023-12-19T04:57:45.540Z"
   },
   {
    "duration": 19,
    "start_time": "2023-12-19T04:57:45.546Z"
   },
   {
    "duration": 6,
    "start_time": "2023-12-19T04:57:45.567Z"
   },
   {
    "duration": 46,
    "start_time": "2023-12-19T04:57:45.574Z"
   },
   {
    "duration": 11,
    "start_time": "2023-12-19T04:57:45.622Z"
   },
   {
    "duration": 35,
    "start_time": "2023-12-19T04:57:45.634Z"
   },
   {
    "duration": 6,
    "start_time": "2023-12-19T04:57:45.671Z"
   },
   {
    "duration": 22,
    "start_time": "2023-12-19T04:57:45.679Z"
   },
   {
    "duration": 12,
    "start_time": "2023-12-19T04:57:45.702Z"
   },
   {
    "duration": 58,
    "start_time": "2023-12-19T23:44:51.103Z"
   },
   {
    "duration": 1529,
    "start_time": "2023-12-19T23:44:58.623Z"
   },
   {
    "duration": 200,
    "start_time": "2023-12-19T23:45:00.154Z"
   },
   {
    "duration": 4,
    "start_time": "2023-12-19T23:45:00.356Z"
   },
   {
    "duration": 42,
    "start_time": "2023-12-19T23:45:00.361Z"
   },
   {
    "duration": 23,
    "start_time": "2023-12-19T23:45:00.406Z"
   },
   {
    "duration": 33,
    "start_time": "2023-12-19T23:45:00.431Z"
   },
   {
    "duration": 9,
    "start_time": "2023-12-19T23:45:00.466Z"
   },
   {
    "duration": 21,
    "start_time": "2023-12-19T23:45:00.477Z"
   },
   {
    "duration": 43,
    "start_time": "2023-12-19T23:45:00.500Z"
   },
   {
    "duration": 317,
    "start_time": "2023-12-19T23:45:00.544Z"
   },
   {
    "duration": 13,
    "start_time": "2023-12-19T23:45:00.862Z"
   },
   {
    "duration": 312,
    "start_time": "2023-12-19T23:45:00.877Z"
   },
   {
    "duration": 21,
    "start_time": "2023-12-19T23:45:01.190Z"
   },
   {
    "duration": 36,
    "start_time": "2023-12-19T23:45:01.216Z"
   },
   {
    "duration": 43,
    "start_time": "2023-12-19T23:45:01.253Z"
   },
   {
    "duration": 55,
    "start_time": "2023-12-19T23:45:01.297Z"
   },
   {
    "duration": 23,
    "start_time": "2023-12-19T23:45:01.353Z"
   },
   {
    "duration": 213,
    "start_time": "2023-12-19T23:45:01.378Z"
   },
   {
    "duration": 154,
    "start_time": "2023-12-19T23:45:01.593Z"
   },
   {
    "duration": 18,
    "start_time": "2023-12-19T23:45:01.749Z"
   },
   {
    "duration": 322,
    "start_time": "2023-12-19T23:45:01.769Z"
   },
   {
    "duration": 277,
    "start_time": "2023-12-19T23:45:02.092Z"
   },
   {
    "duration": 402,
    "start_time": "2023-12-19T23:45:02.371Z"
   },
   {
    "duration": 10,
    "start_time": "2023-12-19T23:45:02.775Z"
   },
   {
    "duration": 41,
    "start_time": "2023-12-19T23:45:02.787Z"
   },
   {
    "duration": 283,
    "start_time": "2023-12-19T23:45:02.831Z"
   },
   {
    "duration": 370,
    "start_time": "2023-12-19T23:45:03.116Z"
   },
   {
    "duration": 12,
    "start_time": "2023-12-19T23:45:03.488Z"
   },
   {
    "duration": 247,
    "start_time": "2023-12-19T23:45:03.502Z"
   },
   {
    "duration": 6,
    "start_time": "2023-12-19T23:45:03.752Z"
   },
   {
    "duration": 296,
    "start_time": "2023-12-19T23:45:03.760Z"
   },
   {
    "duration": 192,
    "start_time": "2023-12-19T23:45:04.058Z"
   },
   {
    "duration": 4,
    "start_time": "2023-12-19T23:45:04.252Z"
   },
   {
    "duration": 132,
    "start_time": "2023-12-19T23:45:04.257Z"
   },
   {
    "duration": 9,
    "start_time": "2023-12-19T23:45:04.391Z"
   },
   {
    "duration": 9,
    "start_time": "2023-12-19T23:45:04.402Z"
   },
   {
    "duration": 6,
    "start_time": "2023-12-19T23:45:04.413Z"
   },
   {
    "duration": 13,
    "start_time": "2023-12-19T23:45:04.433Z"
   },
   {
    "duration": 47,
    "start_time": "2023-12-19T23:45:04.449Z"
   },
   {
    "duration": 12,
    "start_time": "2023-12-19T23:45:04.497Z"
   },
   {
    "duration": 18,
    "start_time": "2023-12-19T23:45:04.535Z"
   },
   {
    "duration": 20,
    "start_time": "2023-12-19T23:45:04.555Z"
   },
   {
    "duration": 27,
    "start_time": "2023-12-19T23:45:04.577Z"
   },
   {
    "duration": 32,
    "start_time": "2023-12-19T23:45:04.606Z"
   },
   {
    "duration": 1320,
    "start_time": "2023-12-19T23:50:30.800Z"
   },
   {
    "duration": 87,
    "start_time": "2023-12-19T23:50:32.122Z"
   },
   {
    "duration": 4,
    "start_time": "2023-12-19T23:50:32.211Z"
   },
   {
    "duration": 46,
    "start_time": "2023-12-19T23:50:32.217Z"
   },
   {
    "duration": 56,
    "start_time": "2023-12-19T23:50:32.266Z"
   },
   {
    "duration": 67,
    "start_time": "2023-12-19T23:50:32.324Z"
   },
   {
    "duration": 8,
    "start_time": "2023-12-19T23:50:32.393Z"
   },
   {
    "duration": 43,
    "start_time": "2023-12-19T23:50:32.403Z"
   },
   {
    "duration": 27,
    "start_time": "2023-12-19T23:50:32.448Z"
   },
   {
    "duration": 337,
    "start_time": "2023-12-19T23:50:32.476Z"
   },
   {
    "duration": 23,
    "start_time": "2023-12-19T23:50:32.815Z"
   },
   {
    "duration": 336,
    "start_time": "2023-12-19T23:50:32.840Z"
   },
   {
    "duration": 14,
    "start_time": "2023-12-19T23:50:33.178Z"
   },
   {
    "duration": 10,
    "start_time": "2023-12-19T23:50:33.195Z"
   },
   {
    "duration": 38,
    "start_time": "2023-12-19T23:50:33.207Z"
   },
   {
    "duration": 12,
    "start_time": "2023-12-19T23:50:33.247Z"
   },
   {
    "duration": 13,
    "start_time": "2023-12-19T23:50:33.261Z"
   },
   {
    "duration": 212,
    "start_time": "2023-12-19T23:50:33.276Z"
   },
   {
    "duration": 160,
    "start_time": "2023-12-19T23:50:33.490Z"
   },
   {
    "duration": 17,
    "start_time": "2023-12-19T23:50:33.652Z"
   },
   {
    "duration": 319,
    "start_time": "2023-12-19T23:50:33.670Z"
   },
   {
    "duration": 287,
    "start_time": "2023-12-19T23:50:33.991Z"
   },
   {
    "duration": 410,
    "start_time": "2023-12-19T23:50:34.280Z"
   },
   {
    "duration": 3,
    "start_time": "2023-12-19T23:50:34.691Z"
   },
   {
    "duration": 11,
    "start_time": "2023-12-19T23:50:34.696Z"
   },
   {
    "duration": 279,
    "start_time": "2023-12-19T23:50:34.708Z"
   },
   {
    "duration": 382,
    "start_time": "2023-12-19T23:50:34.989Z"
   },
   {
    "duration": 11,
    "start_time": "2023-12-19T23:50:35.373Z"
   },
   {
    "duration": 206,
    "start_time": "2023-12-19T23:50:35.385Z"
   },
   {
    "duration": 6,
    "start_time": "2023-12-19T23:50:35.593Z"
   },
   {
    "duration": 285,
    "start_time": "2023-12-19T23:50:35.601Z"
   },
   {
    "duration": 210,
    "start_time": "2023-12-19T23:50:35.888Z"
   },
   {
    "duration": 5,
    "start_time": "2023-12-19T23:50:36.100Z"
   },
   {
    "duration": 142,
    "start_time": "2023-12-19T23:50:36.107Z"
   },
   {
    "duration": 8,
    "start_time": "2023-12-19T23:50:36.251Z"
   },
   {
    "duration": 5,
    "start_time": "2023-12-19T23:50:36.261Z"
   },
   {
    "duration": 12,
    "start_time": "2023-12-19T23:50:36.267Z"
   },
   {
    "duration": 16,
    "start_time": "2023-12-19T23:50:36.280Z"
   },
   {
    "duration": 64,
    "start_time": "2023-12-19T23:50:36.298Z"
   },
   {
    "duration": 11,
    "start_time": "2023-12-19T23:50:36.365Z"
   },
   {
    "duration": 14,
    "start_time": "2023-12-19T23:50:36.380Z"
   },
   {
    "duration": 43,
    "start_time": "2023-12-19T23:50:36.396Z"
   },
   {
    "duration": 34,
    "start_time": "2023-12-19T23:50:36.443Z"
   },
   {
    "duration": 15,
    "start_time": "2023-12-19T23:50:36.478Z"
   }
  ],
  "kernelspec": {
   "display_name": "Python 3 (ipykernel)",
   "language": "python",
   "name": "python3"
  },
  "language_info": {
   "codemirror_mode": {
    "name": "ipython",
    "version": 3
   },
   "file_extension": ".py",
   "mimetype": "text/x-python",
   "name": "python",
   "nbconvert_exporter": "python",
   "pygments_lexer": "ipython3",
   "version": "3.9.5"
  },
  "toc": {
   "base_numbering": 1,
   "nav_menu": {},
   "number_sections": true,
   "sideBar": true,
   "skip_h1_title": true,
   "title_cell": "Table of Contents",
   "title_sidebar": "Contents",
   "toc_cell": false,
   "toc_position": {},
   "toc_section_display": true,
   "toc_window_display": false
  }
 },
 "nbformat": 4,
 "nbformat_minor": 4
}
