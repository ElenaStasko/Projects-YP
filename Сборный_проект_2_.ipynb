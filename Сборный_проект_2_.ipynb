{
 "cells": [
  {
   "cell_type": "markdown",
   "metadata": {},
   "source": [
    "**Описание проекта**"
   ]
  },
  {
   "cell_type": "markdown",
   "metadata": {},
   "source": [
    "Вы работаете в стартапе, который продаёт продукты питания. Нужно разобраться, как ведут себя пользователи вашего мобильного приложения. \n",
    "Изучите воронку продаж. Узнайте, как пользователи доходят до покупки. Сколько пользователей доходит до покупки, а сколько — «застревает» на предыдущих шагах? На каких именно?\n",
    "\n",
    "\n",
    "После этого исследуйте результаты A/A/B-эксперимента. Дизайнеры захотели поменять шрифты во всём приложении, а менеджеры испугались, что пользователям будет непривычно. Договорились принять решение по результатам A/A/B-теста. Пользователей разбили на 3 группы: 2 контрольные со старыми шрифтами и одну экспериментальную — с новыми. Выясните, какой шрифт лучше.\n",
    "\n",
    "\n",
    "Создание двух групп A вместо одной имеет определённые преимущества. Если две контрольные группы окажутся равны, вы можете быть уверены в точности проведенного тестирования. Если же между значениями A и A будут существенные различия, это поможет обнаружить факторы, которые привели к искажению результатов. Сравнение контрольных групп также помогает понять, сколько времени и данных потребуется для дальнейших тестов.\n"
   ]
  },
  {
   "cell_type": "markdown",
   "metadata": {},
   "source": [
    "***Ход исследования:***\n",
    "\n",
    "- Шаг 1. Изучение общей информации о датасете\n",
    "- Шаг 2. Подготовка данных\n",
    "- Шаг 3. Изучение и проверка данных\n",
    "- Шаг 4. Изучение воронки событий\n",
    "- Шаг 5. Изучение результатов эксперимента\n",
    "- Шаг 6. Написание общего вывода"
   ]
  },
  {
   "cell_type": "markdown",
   "metadata": {},
   "source": [
    "**Описание данных**"
   ]
  },
  {
   "cell_type": "markdown",
   "metadata": {},
   "source": [
    "Каждая запись в логе — это действие пользователя, или событие. \n",
    "\n",
    "- EventName — название события;\n",
    "- DeviceIDHash — уникальный идентификатор пользователя;\n",
    "- EventTimestamp — время события;\n",
    "- ExpId — номер эксперимента: 246 и 247 — контрольные группы, а 248 — экспериментальная."
   ]
  },
  {
   "cell_type": "markdown",
   "metadata": {},
   "source": [
    "### Загрузим данные и подготовим их к анализу"
   ]
  },
  {
   "cell_type": "code",
   "execution_count": 1,
   "metadata": {},
   "outputs": [],
   "source": [
    "import pandas as pd\n",
    "import matplotlib.pyplot as plt \n",
    "import seaborn as sns\n",
    "import numpy as np\n",
    "from scipy import stats as st\n",
    "import datetime as dt\n",
    "import math as mth\n"
   ]
  },
  {
   "cell_type": "code",
   "execution_count": 2,
   "metadata": {},
   "outputs": [],
   "source": [
    "try:\n",
    "    df = pd.read_csv('/datasets/logs_exp.csv', sep='\\t')\n",
    "except:\n",
    "    df = pd.read_csv('https://code.s3.yandex.net/datasets/logs_exp.csv', sep='\\t')"
   ]
  },
  {
   "cell_type": "code",
   "execution_count": 3,
   "metadata": {},
   "outputs": [
    {
     "data": {
      "text/html": [
       "<div>\n",
       "<style scoped>\n",
       "    .dataframe tbody tr th:only-of-type {\n",
       "        vertical-align: middle;\n",
       "    }\n",
       "\n",
       "    .dataframe tbody tr th {\n",
       "        vertical-align: top;\n",
       "    }\n",
       "\n",
       "    .dataframe thead th {\n",
       "        text-align: right;\n",
       "    }\n",
       "</style>\n",
       "<table border=\"1\" class=\"dataframe\">\n",
       "  <thead>\n",
       "    <tr style=\"text-align: right;\">\n",
       "      <th></th>\n",
       "      <th>EventName</th>\n",
       "      <th>DeviceIDHash</th>\n",
       "      <th>EventTimestamp</th>\n",
       "      <th>ExpId</th>\n",
       "    </tr>\n",
       "  </thead>\n",
       "  <tbody>\n",
       "    <tr>\n",
       "      <th>0</th>\n",
       "      <td>MainScreenAppear</td>\n",
       "      <td>4575588528974610257</td>\n",
       "      <td>1564029816</td>\n",
       "      <td>246</td>\n",
       "    </tr>\n",
       "    <tr>\n",
       "      <th>1</th>\n",
       "      <td>MainScreenAppear</td>\n",
       "      <td>7416695313311560658</td>\n",
       "      <td>1564053102</td>\n",
       "      <td>246</td>\n",
       "    </tr>\n",
       "    <tr>\n",
       "      <th>2</th>\n",
       "      <td>PaymentScreenSuccessful</td>\n",
       "      <td>3518123091307005509</td>\n",
       "      <td>1564054127</td>\n",
       "      <td>248</td>\n",
       "    </tr>\n",
       "    <tr>\n",
       "      <th>3</th>\n",
       "      <td>CartScreenAppear</td>\n",
       "      <td>3518123091307005509</td>\n",
       "      <td>1564054127</td>\n",
       "      <td>248</td>\n",
       "    </tr>\n",
       "    <tr>\n",
       "      <th>4</th>\n",
       "      <td>PaymentScreenSuccessful</td>\n",
       "      <td>6217807653094995999</td>\n",
       "      <td>1564055322</td>\n",
       "      <td>248</td>\n",
       "    </tr>\n",
       "    <tr>\n",
       "      <th>...</th>\n",
       "      <td>...</td>\n",
       "      <td>...</td>\n",
       "      <td>...</td>\n",
       "      <td>...</td>\n",
       "    </tr>\n",
       "    <tr>\n",
       "      <th>244121</th>\n",
       "      <td>MainScreenAppear</td>\n",
       "      <td>4599628364049201812</td>\n",
       "      <td>1565212345</td>\n",
       "      <td>247</td>\n",
       "    </tr>\n",
       "    <tr>\n",
       "      <th>244122</th>\n",
       "      <td>MainScreenAppear</td>\n",
       "      <td>5849806612437486590</td>\n",
       "      <td>1565212439</td>\n",
       "      <td>246</td>\n",
       "    </tr>\n",
       "    <tr>\n",
       "      <th>244123</th>\n",
       "      <td>MainScreenAppear</td>\n",
       "      <td>5746969938801999050</td>\n",
       "      <td>1565212483</td>\n",
       "      <td>246</td>\n",
       "    </tr>\n",
       "    <tr>\n",
       "      <th>244124</th>\n",
       "      <td>MainScreenAppear</td>\n",
       "      <td>5746969938801999050</td>\n",
       "      <td>1565212498</td>\n",
       "      <td>246</td>\n",
       "    </tr>\n",
       "    <tr>\n",
       "      <th>244125</th>\n",
       "      <td>OffersScreenAppear</td>\n",
       "      <td>5746969938801999050</td>\n",
       "      <td>1565212517</td>\n",
       "      <td>246</td>\n",
       "    </tr>\n",
       "  </tbody>\n",
       "</table>\n",
       "<p>244126 rows × 4 columns</p>\n",
       "</div>"
      ],
      "text/plain": [
       "                      EventName         DeviceIDHash  EventTimestamp  ExpId\n",
       "0              MainScreenAppear  4575588528974610257      1564029816    246\n",
       "1              MainScreenAppear  7416695313311560658      1564053102    246\n",
       "2       PaymentScreenSuccessful  3518123091307005509      1564054127    248\n",
       "3              CartScreenAppear  3518123091307005509      1564054127    248\n",
       "4       PaymentScreenSuccessful  6217807653094995999      1564055322    248\n",
       "...                         ...                  ...             ...    ...\n",
       "244121         MainScreenAppear  4599628364049201812      1565212345    247\n",
       "244122         MainScreenAppear  5849806612437486590      1565212439    246\n",
       "244123         MainScreenAppear  5746969938801999050      1565212483    246\n",
       "244124         MainScreenAppear  5746969938801999050      1565212498    246\n",
       "244125       OffersScreenAppear  5746969938801999050      1565212517    246\n",
       "\n",
       "[244126 rows x 4 columns]"
      ]
     },
     "execution_count": 3,
     "metadata": {},
     "output_type": "execute_result"
    }
   ],
   "source": [
    "df"
   ]
  },
  {
   "cell_type": "code",
   "execution_count": 4,
   "metadata": {},
   "outputs": [],
   "source": [
    "def data_information(dataset):\n",
    "    print('Первые строки таблицы:')\n",
    "    print('*'*50)\n",
    "    display(dataset.head())\n",
    "    print('Информация о таблице:')\n",
    "    print('*'*50)\n",
    "    dataset.info()\n",
    "    print('Количество явных дубликатов:')\n",
    "    print('*'*50)\n",
    "    display(dataset.duplicated().sum())"
   ]
  },
  {
   "cell_type": "code",
   "execution_count": 5,
   "metadata": {},
   "outputs": [
    {
     "name": "stdout",
     "output_type": "stream",
     "text": [
      "Первые строки таблицы:\n",
      "**************************************************\n"
     ]
    },
    {
     "data": {
      "text/html": [
       "<div>\n",
       "<style scoped>\n",
       "    .dataframe tbody tr th:only-of-type {\n",
       "        vertical-align: middle;\n",
       "    }\n",
       "\n",
       "    .dataframe tbody tr th {\n",
       "        vertical-align: top;\n",
       "    }\n",
       "\n",
       "    .dataframe thead th {\n",
       "        text-align: right;\n",
       "    }\n",
       "</style>\n",
       "<table border=\"1\" class=\"dataframe\">\n",
       "  <thead>\n",
       "    <tr style=\"text-align: right;\">\n",
       "      <th></th>\n",
       "      <th>EventName</th>\n",
       "      <th>DeviceIDHash</th>\n",
       "      <th>EventTimestamp</th>\n",
       "      <th>ExpId</th>\n",
       "    </tr>\n",
       "  </thead>\n",
       "  <tbody>\n",
       "    <tr>\n",
       "      <th>0</th>\n",
       "      <td>MainScreenAppear</td>\n",
       "      <td>4575588528974610257</td>\n",
       "      <td>1564029816</td>\n",
       "      <td>246</td>\n",
       "    </tr>\n",
       "    <tr>\n",
       "      <th>1</th>\n",
       "      <td>MainScreenAppear</td>\n",
       "      <td>7416695313311560658</td>\n",
       "      <td>1564053102</td>\n",
       "      <td>246</td>\n",
       "    </tr>\n",
       "    <tr>\n",
       "      <th>2</th>\n",
       "      <td>PaymentScreenSuccessful</td>\n",
       "      <td>3518123091307005509</td>\n",
       "      <td>1564054127</td>\n",
       "      <td>248</td>\n",
       "    </tr>\n",
       "    <tr>\n",
       "      <th>3</th>\n",
       "      <td>CartScreenAppear</td>\n",
       "      <td>3518123091307005509</td>\n",
       "      <td>1564054127</td>\n",
       "      <td>248</td>\n",
       "    </tr>\n",
       "    <tr>\n",
       "      <th>4</th>\n",
       "      <td>PaymentScreenSuccessful</td>\n",
       "      <td>6217807653094995999</td>\n",
       "      <td>1564055322</td>\n",
       "      <td>248</td>\n",
       "    </tr>\n",
       "  </tbody>\n",
       "</table>\n",
       "</div>"
      ],
      "text/plain": [
       "                 EventName         DeviceIDHash  EventTimestamp  ExpId\n",
       "0         MainScreenAppear  4575588528974610257      1564029816    246\n",
       "1         MainScreenAppear  7416695313311560658      1564053102    246\n",
       "2  PaymentScreenSuccessful  3518123091307005509      1564054127    248\n",
       "3         CartScreenAppear  3518123091307005509      1564054127    248\n",
       "4  PaymentScreenSuccessful  6217807653094995999      1564055322    248"
      ]
     },
     "metadata": {},
     "output_type": "display_data"
    },
    {
     "name": "stdout",
     "output_type": "stream",
     "text": [
      "Информация о таблице:\n",
      "**************************************************\n",
      "<class 'pandas.core.frame.DataFrame'>\n",
      "RangeIndex: 244126 entries, 0 to 244125\n",
      "Data columns (total 4 columns):\n",
      " #   Column          Non-Null Count   Dtype \n",
      "---  ------          --------------   ----- \n",
      " 0   EventName       244126 non-null  object\n",
      " 1   DeviceIDHash    244126 non-null  int64 \n",
      " 2   EventTimestamp  244126 non-null  int64 \n",
      " 3   ExpId           244126 non-null  int64 \n",
      "dtypes: int64(3), object(1)\n",
      "memory usage: 7.5+ MB\n",
      "Количество явных дубликатов:\n",
      "**************************************************\n"
     ]
    },
    {
     "data": {
      "text/plain": [
       "413"
      ]
     },
     "metadata": {},
     "output_type": "display_data"
    }
   ],
   "source": [
    "data_information(df)"
   ]
  },
  {
   "cell_type": "markdown",
   "metadata": {},
   "source": [
    "***Заменим названия столбцов***"
   ]
  },
  {
   "cell_type": "code",
   "execution_count": 6,
   "metadata": {},
   "outputs": [],
   "source": [
    "df=df.rename(columns={'EventName' : 'event_name', 'DeviceIDHash' : 'device_id_hash',\\\n",
    "                          'EventTimestamp' : 'event_timestamp', 'ExpId' : 'exp_id'})"
   ]
  },
  {
   "cell_type": "code",
   "execution_count": 7,
   "metadata": {},
   "outputs": [
    {
     "data": {
      "text/html": [
       "<div>\n",
       "<style scoped>\n",
       "    .dataframe tbody tr th:only-of-type {\n",
       "        vertical-align: middle;\n",
       "    }\n",
       "\n",
       "    .dataframe tbody tr th {\n",
       "        vertical-align: top;\n",
       "    }\n",
       "\n",
       "    .dataframe thead th {\n",
       "        text-align: right;\n",
       "    }\n",
       "</style>\n",
       "<table border=\"1\" class=\"dataframe\">\n",
       "  <thead>\n",
       "    <tr style=\"text-align: right;\">\n",
       "      <th></th>\n",
       "      <th>event_name</th>\n",
       "      <th>device_id_hash</th>\n",
       "      <th>event_timestamp</th>\n",
       "      <th>exp_id</th>\n",
       "    </tr>\n",
       "  </thead>\n",
       "  <tbody>\n",
       "    <tr>\n",
       "      <th>0</th>\n",
       "      <td>MainScreenAppear</td>\n",
       "      <td>4575588528974610257</td>\n",
       "      <td>1564029816</td>\n",
       "      <td>246</td>\n",
       "    </tr>\n",
       "    <tr>\n",
       "      <th>1</th>\n",
       "      <td>MainScreenAppear</td>\n",
       "      <td>7416695313311560658</td>\n",
       "      <td>1564053102</td>\n",
       "      <td>246</td>\n",
       "    </tr>\n",
       "    <tr>\n",
       "      <th>2</th>\n",
       "      <td>PaymentScreenSuccessful</td>\n",
       "      <td>3518123091307005509</td>\n",
       "      <td>1564054127</td>\n",
       "      <td>248</td>\n",
       "    </tr>\n",
       "    <tr>\n",
       "      <th>3</th>\n",
       "      <td>CartScreenAppear</td>\n",
       "      <td>3518123091307005509</td>\n",
       "      <td>1564054127</td>\n",
       "      <td>248</td>\n",
       "    </tr>\n",
       "    <tr>\n",
       "      <th>4</th>\n",
       "      <td>PaymentScreenSuccessful</td>\n",
       "      <td>6217807653094995999</td>\n",
       "      <td>1564055322</td>\n",
       "      <td>248</td>\n",
       "    </tr>\n",
       "    <tr>\n",
       "      <th>...</th>\n",
       "      <td>...</td>\n",
       "      <td>...</td>\n",
       "      <td>...</td>\n",
       "      <td>...</td>\n",
       "    </tr>\n",
       "    <tr>\n",
       "      <th>244121</th>\n",
       "      <td>MainScreenAppear</td>\n",
       "      <td>4599628364049201812</td>\n",
       "      <td>1565212345</td>\n",
       "      <td>247</td>\n",
       "    </tr>\n",
       "    <tr>\n",
       "      <th>244122</th>\n",
       "      <td>MainScreenAppear</td>\n",
       "      <td>5849806612437486590</td>\n",
       "      <td>1565212439</td>\n",
       "      <td>246</td>\n",
       "    </tr>\n",
       "    <tr>\n",
       "      <th>244123</th>\n",
       "      <td>MainScreenAppear</td>\n",
       "      <td>5746969938801999050</td>\n",
       "      <td>1565212483</td>\n",
       "      <td>246</td>\n",
       "    </tr>\n",
       "    <tr>\n",
       "      <th>244124</th>\n",
       "      <td>MainScreenAppear</td>\n",
       "      <td>5746969938801999050</td>\n",
       "      <td>1565212498</td>\n",
       "      <td>246</td>\n",
       "    </tr>\n",
       "    <tr>\n",
       "      <th>244125</th>\n",
       "      <td>OffersScreenAppear</td>\n",
       "      <td>5746969938801999050</td>\n",
       "      <td>1565212517</td>\n",
       "      <td>246</td>\n",
       "    </tr>\n",
       "  </tbody>\n",
       "</table>\n",
       "<p>244126 rows × 4 columns</p>\n",
       "</div>"
      ],
      "text/plain": [
       "                     event_name       device_id_hash  event_timestamp  exp_id\n",
       "0              MainScreenAppear  4575588528974610257       1564029816     246\n",
       "1              MainScreenAppear  7416695313311560658       1564053102     246\n",
       "2       PaymentScreenSuccessful  3518123091307005509       1564054127     248\n",
       "3              CartScreenAppear  3518123091307005509       1564054127     248\n",
       "4       PaymentScreenSuccessful  6217807653094995999       1564055322     248\n",
       "...                         ...                  ...              ...     ...\n",
       "244121         MainScreenAppear  4599628364049201812       1565212345     247\n",
       "244122         MainScreenAppear  5849806612437486590       1565212439     246\n",
       "244123         MainScreenAppear  5746969938801999050       1565212483     246\n",
       "244124         MainScreenAppear  5746969938801999050       1565212498     246\n",
       "244125       OffersScreenAppear  5746969938801999050       1565212517     246\n",
       "\n",
       "[244126 rows x 4 columns]"
      ]
     },
     "execution_count": 7,
     "metadata": {},
     "output_type": "execute_result"
    }
   ],
   "source": [
    "df"
   ]
  },
  {
   "cell_type": "markdown",
   "metadata": {},
   "source": [
    "***Удалим дубликаты***"
   ]
  },
  {
   "cell_type": "code",
   "execution_count": 8,
   "metadata": {},
   "outputs": [],
   "source": [
    "df = df.drop_duplicates()"
   ]
  },
  {
   "cell_type": "markdown",
   "metadata": {},
   "source": [
    "***Добавим столбец даты и времени, а также отдельный столбец дат***"
   ]
  },
  {
   "cell_type": "code",
   "execution_count": 9,
   "metadata": {},
   "outputs": [
    {
     "name": "stderr",
     "output_type": "stream",
     "text": [
      "C:\\Users\\AD82~1\\AppData\\Local\\Temp/ipykernel_8896/4004302329.py:1: SettingWithCopyWarning: \n",
      "A value is trying to be set on a copy of a slice from a DataFrame.\n",
      "Try using .loc[row_indexer,col_indexer] = value instead\n",
      "\n",
      "See the caveats in the documentation: https://pandas.pydata.org/pandas-docs/stable/user_guide/indexing.html#returning-a-view-versus-a-copy\n",
      "  df['event_timestamp'] = pd.to_datetime(df['event_timestamp'],  unit='s')\n",
      "C:\\Users\\AD82~1\\AppData\\Local\\Temp/ipykernel_8896/4004302329.py:3: SettingWithCopyWarning: \n",
      "A value is trying to be set on a copy of a slice from a DataFrame.\n",
      "Try using .loc[row_indexer,col_indexer] = value instead\n",
      "\n",
      "See the caveats in the documentation: https://pandas.pydata.org/pandas-docs/stable/user_guide/indexing.html#returning-a-view-versus-a-copy\n",
      "  df['date'] = df['event_timestamp'].dt.date\n"
     ]
    }
   ],
   "source": [
    "df['event_timestamp'] = pd.to_datetime(df['event_timestamp'],  unit='s')\n",
    "\n",
    "df['date'] = df['event_timestamp'].dt.date"
   ]
  },
  {
   "cell_type": "code",
   "execution_count": 10,
   "metadata": {},
   "outputs": [
    {
     "data": {
      "text/html": [
       "<div>\n",
       "<style scoped>\n",
       "    .dataframe tbody tr th:only-of-type {\n",
       "        vertical-align: middle;\n",
       "    }\n",
       "\n",
       "    .dataframe tbody tr th {\n",
       "        vertical-align: top;\n",
       "    }\n",
       "\n",
       "    .dataframe thead th {\n",
       "        text-align: right;\n",
       "    }\n",
       "</style>\n",
       "<table border=\"1\" class=\"dataframe\">\n",
       "  <thead>\n",
       "    <tr style=\"text-align: right;\">\n",
       "      <th></th>\n",
       "      <th>event_name</th>\n",
       "      <th>device_id_hash</th>\n",
       "      <th>event_timestamp</th>\n",
       "      <th>exp_id</th>\n",
       "      <th>date</th>\n",
       "    </tr>\n",
       "  </thead>\n",
       "  <tbody>\n",
       "    <tr>\n",
       "      <th>0</th>\n",
       "      <td>MainScreenAppear</td>\n",
       "      <td>4575588528974610257</td>\n",
       "      <td>2019-07-25 04:43:36</td>\n",
       "      <td>246</td>\n",
       "      <td>2019-07-25</td>\n",
       "    </tr>\n",
       "    <tr>\n",
       "      <th>1</th>\n",
       "      <td>MainScreenAppear</td>\n",
       "      <td>7416695313311560658</td>\n",
       "      <td>2019-07-25 11:11:42</td>\n",
       "      <td>246</td>\n",
       "      <td>2019-07-25</td>\n",
       "    </tr>\n",
       "    <tr>\n",
       "      <th>2</th>\n",
       "      <td>PaymentScreenSuccessful</td>\n",
       "      <td>3518123091307005509</td>\n",
       "      <td>2019-07-25 11:28:47</td>\n",
       "      <td>248</td>\n",
       "      <td>2019-07-25</td>\n",
       "    </tr>\n",
       "    <tr>\n",
       "      <th>3</th>\n",
       "      <td>CartScreenAppear</td>\n",
       "      <td>3518123091307005509</td>\n",
       "      <td>2019-07-25 11:28:47</td>\n",
       "      <td>248</td>\n",
       "      <td>2019-07-25</td>\n",
       "    </tr>\n",
       "    <tr>\n",
       "      <th>4</th>\n",
       "      <td>PaymentScreenSuccessful</td>\n",
       "      <td>6217807653094995999</td>\n",
       "      <td>2019-07-25 11:48:42</td>\n",
       "      <td>248</td>\n",
       "      <td>2019-07-25</td>\n",
       "    </tr>\n",
       "    <tr>\n",
       "      <th>...</th>\n",
       "      <td>...</td>\n",
       "      <td>...</td>\n",
       "      <td>...</td>\n",
       "      <td>...</td>\n",
       "      <td>...</td>\n",
       "    </tr>\n",
       "    <tr>\n",
       "      <th>244121</th>\n",
       "      <td>MainScreenAppear</td>\n",
       "      <td>4599628364049201812</td>\n",
       "      <td>2019-08-07 21:12:25</td>\n",
       "      <td>247</td>\n",
       "      <td>2019-08-07</td>\n",
       "    </tr>\n",
       "    <tr>\n",
       "      <th>244122</th>\n",
       "      <td>MainScreenAppear</td>\n",
       "      <td>5849806612437486590</td>\n",
       "      <td>2019-08-07 21:13:59</td>\n",
       "      <td>246</td>\n",
       "      <td>2019-08-07</td>\n",
       "    </tr>\n",
       "    <tr>\n",
       "      <th>244123</th>\n",
       "      <td>MainScreenAppear</td>\n",
       "      <td>5746969938801999050</td>\n",
       "      <td>2019-08-07 21:14:43</td>\n",
       "      <td>246</td>\n",
       "      <td>2019-08-07</td>\n",
       "    </tr>\n",
       "    <tr>\n",
       "      <th>244124</th>\n",
       "      <td>MainScreenAppear</td>\n",
       "      <td>5746969938801999050</td>\n",
       "      <td>2019-08-07 21:14:58</td>\n",
       "      <td>246</td>\n",
       "      <td>2019-08-07</td>\n",
       "    </tr>\n",
       "    <tr>\n",
       "      <th>244125</th>\n",
       "      <td>OffersScreenAppear</td>\n",
       "      <td>5746969938801999050</td>\n",
       "      <td>2019-08-07 21:15:17</td>\n",
       "      <td>246</td>\n",
       "      <td>2019-08-07</td>\n",
       "    </tr>\n",
       "  </tbody>\n",
       "</table>\n",
       "<p>243713 rows × 5 columns</p>\n",
       "</div>"
      ],
      "text/plain": [
       "                     event_name       device_id_hash     event_timestamp  \\\n",
       "0              MainScreenAppear  4575588528974610257 2019-07-25 04:43:36   \n",
       "1              MainScreenAppear  7416695313311560658 2019-07-25 11:11:42   \n",
       "2       PaymentScreenSuccessful  3518123091307005509 2019-07-25 11:28:47   \n",
       "3              CartScreenAppear  3518123091307005509 2019-07-25 11:28:47   \n",
       "4       PaymentScreenSuccessful  6217807653094995999 2019-07-25 11:48:42   \n",
       "...                         ...                  ...                 ...   \n",
       "244121         MainScreenAppear  4599628364049201812 2019-08-07 21:12:25   \n",
       "244122         MainScreenAppear  5849806612437486590 2019-08-07 21:13:59   \n",
       "244123         MainScreenAppear  5746969938801999050 2019-08-07 21:14:43   \n",
       "244124         MainScreenAppear  5746969938801999050 2019-08-07 21:14:58   \n",
       "244125       OffersScreenAppear  5746969938801999050 2019-08-07 21:15:17   \n",
       "\n",
       "        exp_id        date  \n",
       "0          246  2019-07-25  \n",
       "1          246  2019-07-25  \n",
       "2          248  2019-07-25  \n",
       "3          248  2019-07-25  \n",
       "4          248  2019-07-25  \n",
       "...        ...         ...  \n",
       "244121     247  2019-08-07  \n",
       "244122     246  2019-08-07  \n",
       "244123     246  2019-08-07  \n",
       "244124     246  2019-08-07  \n",
       "244125     246  2019-08-07  \n",
       "\n",
       "[243713 rows x 5 columns]"
      ]
     },
     "execution_count": 10,
     "metadata": {},
     "output_type": "execute_result"
    }
   ],
   "source": [
    "df"
   ]
  },
  {
   "cell_type": "markdown",
   "metadata": {},
   "source": [
    "### Изучение и проверка данных"
   ]
  },
  {
   "cell_type": "markdown",
   "metadata": {},
   "source": [
    "#### Проверим есть в таблице пользователи, которые могли одновременно оказаться в другой группе"
   ]
  },
  {
   "cell_type": "code",
   "execution_count": 11,
   "metadata": {},
   "outputs": [
    {
     "data": {
      "text/plain": [
       "array([], dtype=int64)"
      ]
     },
     "execution_count": 11,
     "metadata": {},
     "output_type": "execute_result"
    }
   ],
   "source": [
    "users_abc=np.intersect1d(df[df['exp_id'] == '246']['device_id_hash'].unique(),\\\n",
    "                         df[df['exp_id'] == '247']['device_id_hash'].unique(),\\\n",
    "                         df[df['exp_id'] == '248']['device_id_hash'].unique())\n",
    "users_abc"
   ]
  },
  {
   "cell_type": "markdown",
   "metadata": {},
   "source": [
    "Пользователи в группах не пересекаются"
   ]
  },
  {
   "cell_type": "markdown",
   "metadata": {},
   "source": [
    "#### Посчитаем количество событий в логе"
   ]
  },
  {
   "cell_type": "code",
   "execution_count": 12,
   "metadata": {},
   "outputs": [
    {
     "name": "stdout",
     "output_type": "stream",
     "text": [
      "Всего в логе 243713 событий\n"
     ]
    }
   ],
   "source": [
    "print('Всего в логе', df['event_name'].count(), 'событий')"
   ]
  },
  {
   "cell_type": "code",
   "execution_count": 13,
   "metadata": {},
   "outputs": [
    {
     "data": {
      "text/plain": [
       "MainScreenAppear           119101\n",
       "OffersScreenAppear          46808\n",
       "CartScreenAppear            42668\n",
       "PaymentScreenSuccessful     34118\n",
       "Tutorial                     1018\n",
       "Name: event_name, dtype: int64"
      ]
     },
     "execution_count": 13,
     "metadata": {},
     "output_type": "execute_result"
    }
   ],
   "source": [
    "#посмотрим на виды событий\n",
    "df['event_name'].value_counts()"
   ]
  },
  {
   "cell_type": "markdown",
   "metadata": {},
   "source": [
    "#### Посчитаем количество пользователей в логе"
   ]
  },
  {
   "cell_type": "code",
   "execution_count": 14,
   "metadata": {},
   "outputs": [
    {
     "name": "stdout",
     "output_type": "stream",
     "text": [
      "Всего в логе 7551 пользователь\n"
     ]
    }
   ],
   "source": [
    "print('Всего в логе', df['device_id_hash'].nunique(), 'пользователь')"
   ]
  },
  {
   "cell_type": "markdown",
   "metadata": {},
   "source": [
    "#### Среднее количество событий на пользователя"
   ]
  },
  {
   "cell_type": "code",
   "execution_count": 15,
   "metadata": {},
   "outputs": [
    {
     "data": {
      "text/html": [
       "<div>\n",
       "<style scoped>\n",
       "    .dataframe tbody tr th:only-of-type {\n",
       "        vertical-align: middle;\n",
       "    }\n",
       "\n",
       "    .dataframe tbody tr th {\n",
       "        vertical-align: top;\n",
       "    }\n",
       "\n",
       "    .dataframe thead th {\n",
       "        text-align: right;\n",
       "    }\n",
       "</style>\n",
       "<table border=\"1\" class=\"dataframe\">\n",
       "  <thead>\n",
       "    <tr style=\"text-align: right;\">\n",
       "      <th></th>\n",
       "      <th>event_name</th>\n",
       "    </tr>\n",
       "  </thead>\n",
       "  <tbody>\n",
       "    <tr>\n",
       "      <th>count</th>\n",
       "      <td>7551.000000</td>\n",
       "    </tr>\n",
       "    <tr>\n",
       "      <th>mean</th>\n",
       "      <td>32.275593</td>\n",
       "    </tr>\n",
       "    <tr>\n",
       "      <th>std</th>\n",
       "      <td>65.154219</td>\n",
       "    </tr>\n",
       "    <tr>\n",
       "      <th>min</th>\n",
       "      <td>1.000000</td>\n",
       "    </tr>\n",
       "    <tr>\n",
       "      <th>25%</th>\n",
       "      <td>9.000000</td>\n",
       "    </tr>\n",
       "    <tr>\n",
       "      <th>50%</th>\n",
       "      <td>20.000000</td>\n",
       "    </tr>\n",
       "    <tr>\n",
       "      <th>75%</th>\n",
       "      <td>37.000000</td>\n",
       "    </tr>\n",
       "    <tr>\n",
       "      <th>max</th>\n",
       "      <td>2307.000000</td>\n",
       "    </tr>\n",
       "  </tbody>\n",
       "</table>\n",
       "</div>"
      ],
      "text/plain": [
       "        event_name\n",
       "count  7551.000000\n",
       "mean     32.275593\n",
       "std      65.154219\n",
       "min       1.000000\n",
       "25%       9.000000\n",
       "50%      20.000000\n",
       "75%      37.000000\n",
       "max    2307.000000"
      ]
     },
     "execution_count": 15,
     "metadata": {},
     "output_type": "execute_result"
    }
   ],
   "source": [
    "df.groupby('device_id_hash').agg({'event_name' : 'count'}).describe()"
   ]
  },
  {
   "cell_type": "code",
   "execution_count": 16,
   "metadata": {},
   "outputs": [
    {
     "data": {
      "image/png": "[encoded data removed]",
      "text/plain": [
       "<Figure size 432x288 with 1 Axes>"
      ]
     },
     "metadata": {
      "needs_background": "light"
     },
     "output_type": "display_data"
    }
   ],
   "source": [
    "df.groupby('device_id_hash').agg({'event_name' : 'count'}).hist(range=(0,100), bins=50)\n",
    "\n",
    "plt.title('Количество событий на 1 пользователя')\n",
    "plt.xlabel('Количество событий')\n",
    "plt.ylabel('Количество пользователей');"
   ]
  },
  {
   "cell_type": "markdown",
   "metadata": {},
   "source": [
    "В среднем на пользователя приходится около 32 событий."
   ]
  },
  {
   "cell_type": "markdown",
   "metadata": {},
   "source": [
    "#### Найдитем максимальную и минимальную дату. Изучим, как меняется количество данных. Определим с какого момента данные полные."
   ]
  },
  {
   "cell_type": "code",
   "execution_count": 17,
   "metadata": {},
   "outputs": [
    {
     "name": "stdout",
     "output_type": "stream",
     "text": [
      "Минимальная дата 2019-07-25\n",
      "Максимальная дата 2019-08-07\n"
     ]
    }
   ],
   "source": [
    "print('Минимальная дата', df['date'].min())\n",
    "print('Максимальная дата', df['date'].max())"
   ]
  },
  {
   "cell_type": "code",
   "execution_count": 18,
   "metadata": {},
   "outputs": [
    {
     "data": {
      "text/plain": [
       "2019-08-01    36141\n",
       "2019-08-05    36058\n",
       "2019-08-06    35788\n",
       "2019-08-02    35554\n",
       "2019-08-03    33282\n",
       "2019-08-04    32968\n",
       "2019-08-07    31096\n",
       "2019-07-31     2030\n",
       "2019-07-30      412\n",
       "2019-07-29      184\n",
       "2019-07-28      105\n",
       "2019-07-27       55\n",
       "2019-07-26       31\n",
       "2019-07-25        9\n",
       "Name: date, dtype: int64"
      ]
     },
     "execution_count": 18,
     "metadata": {},
     "output_type": "execute_result"
    }
   ],
   "source": [
    "df['date'].value_counts()"
   ]
  },
  {
   "cell_type": "code",
   "execution_count": 19,
   "metadata": {},
   "outputs": [
    {
     "data": {
      "image/png": "[encoded data removed]",
      "text/plain": [
       "<Figure size 432x288 with 1 Axes>"
      ]
     },
     "metadata": {
      "needs_background": "light"
     },
     "output_type": "display_data"
    }
   ],
   "source": [
    "sns.histplot(x='date', data=df)\n",
    "\n",
    "plt.ylabel('Количество событий')\n",
    "plt.xlabel('Дата')\n",
    "plt.xticks(rotation=30)\n",
    "plt.title('Количество событий в зависимости от даты и времени');"
   ]
  },
  {
   "cell_type": "code",
   "execution_count": 20,
   "metadata": {},
   "outputs": [],
   "source": [
    "# удалим данные с 25 июля 2019 г. по 31 июля 2019 г. из-за их неполноты\n",
    "date_threshold = pd.to_datetime('2019-08-01', format = '%Y-%m-%d')\n",
    "logs = df.query('date >= @date_threshold')"
   ]
  },
  {
   "cell_type": "code",
   "execution_count": 21,
   "metadata": {},
   "outputs": [
    {
     "data": {
      "text/html": [
       "<div>\n",
       "<style scoped>\n",
       "    .dataframe tbody tr th:only-of-type {\n",
       "        vertical-align: middle;\n",
       "    }\n",
       "\n",
       "    .dataframe tbody tr th {\n",
       "        vertical-align: top;\n",
       "    }\n",
       "\n",
       "    .dataframe thead th {\n",
       "        text-align: right;\n",
       "    }\n",
       "</style>\n",
       "<table border=\"1\" class=\"dataframe\">\n",
       "  <thead>\n",
       "    <tr style=\"text-align: right;\">\n",
       "      <th></th>\n",
       "      <th>event_name</th>\n",
       "      <th>device_id_hash</th>\n",
       "      <th>event_timestamp</th>\n",
       "      <th>exp_id</th>\n",
       "      <th>date</th>\n",
       "    </tr>\n",
       "  </thead>\n",
       "  <tbody>\n",
       "    <tr>\n",
       "      <th>2828</th>\n",
       "      <td>Tutorial</td>\n",
       "      <td>3737462046622621720</td>\n",
       "      <td>2019-08-01 00:07:28</td>\n",
       "      <td>246</td>\n",
       "      <td>2019-08-01</td>\n",
       "    </tr>\n",
       "    <tr>\n",
       "      <th>2829</th>\n",
       "      <td>MainScreenAppear</td>\n",
       "      <td>3737462046622621720</td>\n",
       "      <td>2019-08-01 00:08:00</td>\n",
       "      <td>246</td>\n",
       "      <td>2019-08-01</td>\n",
       "    </tr>\n",
       "    <tr>\n",
       "      <th>2830</th>\n",
       "      <td>MainScreenAppear</td>\n",
       "      <td>3737462046622621720</td>\n",
       "      <td>2019-08-01 00:08:55</td>\n",
       "      <td>246</td>\n",
       "      <td>2019-08-01</td>\n",
       "    </tr>\n",
       "    <tr>\n",
       "      <th>2831</th>\n",
       "      <td>OffersScreenAppear</td>\n",
       "      <td>3737462046622621720</td>\n",
       "      <td>2019-08-01 00:08:58</td>\n",
       "      <td>246</td>\n",
       "      <td>2019-08-01</td>\n",
       "    </tr>\n",
       "    <tr>\n",
       "      <th>2832</th>\n",
       "      <td>MainScreenAppear</td>\n",
       "      <td>1433840883824088890</td>\n",
       "      <td>2019-08-01 00:08:59</td>\n",
       "      <td>247</td>\n",
       "      <td>2019-08-01</td>\n",
       "    </tr>\n",
       "    <tr>\n",
       "      <th>...</th>\n",
       "      <td>...</td>\n",
       "      <td>...</td>\n",
       "      <td>...</td>\n",
       "      <td>...</td>\n",
       "      <td>...</td>\n",
       "    </tr>\n",
       "    <tr>\n",
       "      <th>244121</th>\n",
       "      <td>MainScreenAppear</td>\n",
       "      <td>4599628364049201812</td>\n",
       "      <td>2019-08-07 21:12:25</td>\n",
       "      <td>247</td>\n",
       "      <td>2019-08-07</td>\n",
       "    </tr>\n",
       "    <tr>\n",
       "      <th>244122</th>\n",
       "      <td>MainScreenAppear</td>\n",
       "      <td>5849806612437486590</td>\n",
       "      <td>2019-08-07 21:13:59</td>\n",
       "      <td>246</td>\n",
       "      <td>2019-08-07</td>\n",
       "    </tr>\n",
       "    <tr>\n",
       "      <th>244123</th>\n",
       "      <td>MainScreenAppear</td>\n",
       "      <td>5746969938801999050</td>\n",
       "      <td>2019-08-07 21:14:43</td>\n",
       "      <td>246</td>\n",
       "      <td>2019-08-07</td>\n",
       "    </tr>\n",
       "    <tr>\n",
       "      <th>244124</th>\n",
       "      <td>MainScreenAppear</td>\n",
       "      <td>5746969938801999050</td>\n",
       "      <td>2019-08-07 21:14:58</td>\n",
       "      <td>246</td>\n",
       "      <td>2019-08-07</td>\n",
       "    </tr>\n",
       "    <tr>\n",
       "      <th>244125</th>\n",
       "      <td>OffersScreenAppear</td>\n",
       "      <td>5746969938801999050</td>\n",
       "      <td>2019-08-07 21:15:17</td>\n",
       "      <td>246</td>\n",
       "      <td>2019-08-07</td>\n",
       "    </tr>\n",
       "  </tbody>\n",
       "</table>\n",
       "<p>240887 rows × 5 columns</p>\n",
       "</div>"
      ],
      "text/plain": [
       "                event_name       device_id_hash     event_timestamp  exp_id  \\\n",
       "2828              Tutorial  3737462046622621720 2019-08-01 00:07:28     246   \n",
       "2829      MainScreenAppear  3737462046622621720 2019-08-01 00:08:00     246   \n",
       "2830      MainScreenAppear  3737462046622621720 2019-08-01 00:08:55     246   \n",
       "2831    OffersScreenAppear  3737462046622621720 2019-08-01 00:08:58     246   \n",
       "2832      MainScreenAppear  1433840883824088890 2019-08-01 00:08:59     247   \n",
       "...                    ...                  ...                 ...     ...   \n",
       "244121    MainScreenAppear  4599628364049201812 2019-08-07 21:12:25     247   \n",
       "244122    MainScreenAppear  5849806612437486590 2019-08-07 21:13:59     246   \n",
       "244123    MainScreenAppear  5746969938801999050 2019-08-07 21:14:43     246   \n",
       "244124    MainScreenAppear  5746969938801999050 2019-08-07 21:14:58     246   \n",
       "244125  OffersScreenAppear  5746969938801999050 2019-08-07 21:15:17     246   \n",
       "\n",
       "              date  \n",
       "2828    2019-08-01  \n",
       "2829    2019-08-01  \n",
       "2830    2019-08-01  \n",
       "2831    2019-08-01  \n",
       "2832    2019-08-01  \n",
       "...            ...  \n",
       "244121  2019-08-07  \n",
       "244122  2019-08-07  \n",
       "244123  2019-08-07  \n",
       "244124  2019-08-07  \n",
       "244125  2019-08-07  \n",
       "\n",
       "[240887 rows x 5 columns]"
      ]
     },
     "execution_count": 21,
     "metadata": {},
     "output_type": "execute_result"
    }
   ],
   "source": [
    "logs"
   ]
  },
  {
   "cell_type": "markdown",
   "metadata": {},
   "source": [
    "Таблица содержит данные за период с 25 июля 2019 г. по 7 августа 2019 г. На графике можно увидеть, что с 1 августа данные наиболее полные и ежедневное количество событий не менее 31 тыс. \n",
    "\n",
    "Таким образом, мы приняли решение отбросить данные с 25 июля 2019 г. по 31 июля 2019 г. включительно. "
   ]
  },
  {
   "cell_type": "code",
   "execution_count": 22,
   "metadata": {},
   "outputs": [
    {
     "data": {
      "text/plain": [
       "2826"
      ]
     },
     "execution_count": 22,
     "metadata": {},
     "output_type": "execute_result"
    }
   ],
   "source": [
    "#посмотрим насколько уменьшилось количество записей в новой таблице\n",
    "df.shape[0] - logs.shape[0]"
   ]
  },
  {
   "cell_type": "code",
   "execution_count": 23,
   "metadata": {},
   "outputs": [
    {
     "data": {
      "text/plain": [
       "1.16"
      ]
     },
     "execution_count": 23,
     "metadata": {},
     "output_type": "execute_result"
    }
   ],
   "source": [
    "#доля, на которую уменьшилось количество записей в новой таблице\n",
    "round((df.shape[0] - logs.shape[0]) / df.shape[0] * 100, 3)"
   ]
  },
  {
   "cell_type": "code",
   "execution_count": 24,
   "metadata": {},
   "outputs": [
    {
     "data": {
      "text/plain": [
       "17"
      ]
     },
     "execution_count": 24,
     "metadata": {},
     "output_type": "execute_result"
    }
   ],
   "source": [
    "#посмотрим насколько уменьшилось количество пользователей в новой таблице\n",
    "df['device_id_hash'].nunique() - logs['device_id_hash'].nunique()"
   ]
  },
  {
   "cell_type": "code",
   "execution_count": 25,
   "metadata": {},
   "outputs": [
    {
     "data": {
      "text/plain": [
       "0.225"
      ]
     },
     "execution_count": 25,
     "metadata": {},
     "output_type": "execute_result"
    }
   ],
   "source": [
    "#доля, на которую уменьшилось количество пользователей в новой таблице\n",
    "round((df['device_id_hash'].nunique() - logs['device_id_hash'].nunique()) / df['device_id_hash'].nunique() * 100, 3)"
   ]
  },
  {
   "cell_type": "markdown",
   "metadata": {},
   "source": [
    "Отбросив неполные данные, мы потеряли 2 826 событий или 1.16% датасета. Это же количество событий приходится на 17 уникальных пользователей мобильного приложения, доля которых составляет 0.23%."
   ]
  },
  {
   "cell_type": "markdown",
   "metadata": {},
   "source": [
    "#### Проверим наличие пользователей во всех трёх экспериментальных группах."
   ]
  },
  {
   "cell_type": "code",
   "execution_count": 26,
   "metadata": {},
   "outputs": [
    {
     "data": {
      "text/plain": [
       "248    84563\n",
       "246    79302\n",
       "247    77022\n",
       "Name: exp_id, dtype: int64"
      ]
     },
     "execution_count": 26,
     "metadata": {},
     "output_type": "execute_result"
    }
   ],
   "source": [
    "logs['exp_id'].value_counts()"
   ]
  },
  {
   "cell_type": "code",
   "execution_count": 27,
   "metadata": {},
   "outputs": [
    {
     "data": {
      "text/html": [
       "<div>\n",
       "<style scoped>\n",
       "    .dataframe tbody tr th:only-of-type {\n",
       "        vertical-align: middle;\n",
       "    }\n",
       "\n",
       "    .dataframe tbody tr th {\n",
       "        vertical-align: top;\n",
       "    }\n",
       "\n",
       "    .dataframe thead th {\n",
       "        text-align: right;\n",
       "    }\n",
       "</style>\n",
       "<table border=\"1\" class=\"dataframe\">\n",
       "  <thead>\n",
       "    <tr style=\"text-align: right;\">\n",
       "      <th></th>\n",
       "      <th>device_id_hash</th>\n",
       "    </tr>\n",
       "    <tr>\n",
       "      <th>exp_id</th>\n",
       "      <th></th>\n",
       "    </tr>\n",
       "  </thead>\n",
       "  <tbody>\n",
       "    <tr>\n",
       "      <th>246</th>\n",
       "      <td>2484</td>\n",
       "    </tr>\n",
       "    <tr>\n",
       "      <th>247</th>\n",
       "      <td>2513</td>\n",
       "    </tr>\n",
       "    <tr>\n",
       "      <th>248</th>\n",
       "      <td>2537</td>\n",
       "    </tr>\n",
       "  </tbody>\n",
       "</table>\n",
       "</div>"
      ],
      "text/plain": [
       "        device_id_hash\n",
       "exp_id                \n",
       "246               2484\n",
       "247               2513\n",
       "248               2537"
      ]
     },
     "execution_count": 27,
     "metadata": {},
     "output_type": "execute_result"
    }
   ],
   "source": [
    "exp_count = logs.groupby('exp_id').agg({'device_id_hash': 'nunique'})\n",
    "exp_count"
   ]
  },
  {
   "cell_type": "markdown",
   "metadata": {},
   "source": [
    "Таким образом на 3 группы приходится примерно 77-84 тыс. событий и по 2,5 тыс. уникальных пользователей."
   ]
  },
  {
   "cell_type": "markdown",
   "metadata": {},
   "source": [
    "### Изучение воронки событий"
   ]
  },
  {
   "cell_type": "markdown",
   "metadata": {},
   "source": [
    "#### Посмотрим какие события есть в логах, как часто они встречаются."
   ]
  },
  {
   "cell_type": "code",
   "execution_count": 28,
   "metadata": {},
   "outputs": [
    {
     "data": {
      "text/html": [
       "<div>\n",
       "<style scoped>\n",
       "    .dataframe tbody tr th:only-of-type {\n",
       "        vertical-align: middle;\n",
       "    }\n",
       "\n",
       "    .dataframe tbody tr th {\n",
       "        vertical-align: top;\n",
       "    }\n",
       "\n",
       "    .dataframe thead th {\n",
       "        text-align: right;\n",
       "    }\n",
       "</style>\n",
       "<table border=\"1\" class=\"dataframe\">\n",
       "  <thead>\n",
       "    <tr style=\"text-align: right;\">\n",
       "      <th></th>\n",
       "      <th>event_name</th>\n",
       "    </tr>\n",
       "  </thead>\n",
       "  <tbody>\n",
       "    <tr>\n",
       "      <th>MainScreenAppear</th>\n",
       "      <td>117328</td>\n",
       "    </tr>\n",
       "    <tr>\n",
       "      <th>OffersScreenAppear</th>\n",
       "      <td>46333</td>\n",
       "    </tr>\n",
       "    <tr>\n",
       "      <th>CartScreenAppear</th>\n",
       "      <td>42303</td>\n",
       "    </tr>\n",
       "    <tr>\n",
       "      <th>PaymentScreenSuccessful</th>\n",
       "      <td>33918</td>\n",
       "    </tr>\n",
       "    <tr>\n",
       "      <th>Tutorial</th>\n",
       "      <td>1005</td>\n",
       "    </tr>\n",
       "  </tbody>\n",
       "</table>\n",
       "</div>"
      ],
      "text/plain": [
       "                         event_name\n",
       "MainScreenAppear             117328\n",
       "OffersScreenAppear            46333\n",
       "CartScreenAppear              42303\n",
       "PaymentScreenSuccessful       33918\n",
       "Tutorial                       1005"
      ]
     },
     "execution_count": 28,
     "metadata": {},
     "output_type": "execute_result"
    }
   ],
   "source": [
    "event_count=logs['event_name'].value_counts().sort_values(ascending=False).to_frame()\n",
    "event_count"
   ]
  },
  {
   "cell_type": "markdown",
   "metadata": {},
   "source": [
    "Итак, в логах содержится 5 событий. \n",
    "\n",
    "На первом месте по количеству посещений вход на главную страницу (MainScreenAppear) - 117 328 событий.\n",
    "На втором месте просмотр экрана с предложениями (OffersScreenAppear) - 46 333.\n",
    "На третьем месте наполнение корзины товаром (CartScreenAppear) - 42 303, затем идет успешная оплата товаров (PaymentScreenSuccessful) - 33 918 событий. Меньше всего пользователи смотрят руководство (Tutorial) - 1 005."
   ]
  },
  {
   "cell_type": "markdown",
   "metadata": {},
   "source": [
    "#### Посчитаем сколько пользователей совершали каждое из этих событий."
   ]
  },
  {
   "cell_type": "code",
   "execution_count": 29,
   "metadata": {},
   "outputs": [
    {
     "data": {
      "text/html": [
       "<div>\n",
       "<style scoped>\n",
       "    .dataframe tbody tr th:only-of-type {\n",
       "        vertical-align: middle;\n",
       "    }\n",
       "\n",
       "    .dataframe tbody tr th {\n",
       "        vertical-align: top;\n",
       "    }\n",
       "\n",
       "    .dataframe thead th {\n",
       "        text-align: right;\n",
       "    }\n",
       "</style>\n",
       "<table border=\"1\" class=\"dataframe\">\n",
       "  <thead>\n",
       "    <tr style=\"text-align: right;\">\n",
       "      <th></th>\n",
       "      <th>device_id_hash</th>\n",
       "      <th>share</th>\n",
       "    </tr>\n",
       "    <tr>\n",
       "      <th>event_name</th>\n",
       "      <th></th>\n",
       "      <th></th>\n",
       "    </tr>\n",
       "  </thead>\n",
       "  <tbody>\n",
       "    <tr>\n",
       "      <th>MainScreenAppear</th>\n",
       "      <td>7419</td>\n",
       "      <td>98.47</td>\n",
       "    </tr>\n",
       "    <tr>\n",
       "      <th>OffersScreenAppear</th>\n",
       "      <td>4593</td>\n",
       "      <td>60.96</td>\n",
       "    </tr>\n",
       "    <tr>\n",
       "      <th>CartScreenAppear</th>\n",
       "      <td>3734</td>\n",
       "      <td>49.56</td>\n",
       "    </tr>\n",
       "    <tr>\n",
       "      <th>PaymentScreenSuccessful</th>\n",
       "      <td>3539</td>\n",
       "      <td>46.97</td>\n",
       "    </tr>\n",
       "    <tr>\n",
       "      <th>Tutorial</th>\n",
       "      <td>840</td>\n",
       "      <td>11.15</td>\n",
       "    </tr>\n",
       "  </tbody>\n",
       "</table>\n",
       "</div>"
      ],
      "text/plain": [
       "                         device_id_hash  share\n",
       "event_name                                    \n",
       "MainScreenAppear                   7419  98.47\n",
       "OffersScreenAppear                 4593  60.96\n",
       "CartScreenAppear                   3734  49.56\n",
       "PaymentScreenSuccessful            3539  46.97\n",
       "Tutorial                            840  11.15"
      ]
     },
     "execution_count": 29,
     "metadata": {},
     "output_type": "execute_result"
    }
   ],
   "source": [
    "users_count = logs.groupby('event_name').agg({'device_id_hash': 'nunique'}).sort_values(by = 'device_id_hash', ascending=False)\n",
    "users_count['share'] = round(users_count / logs['device_id_hash'].nunique() *100, 2)\n",
    "users_count"
   ]
  },
  {
   "cell_type": "code",
   "execution_count": 30,
   "metadata": {},
   "outputs": [
    {
     "data": {
      "image/png": "[encoded data removed]",
      "text/plain": [
       "<Figure size 432x288 with 1 Axes>"
      ]
     },
     "metadata": {
      "needs_background": "light"
     },
     "output_type": "display_data"
    }
   ],
   "source": [
    "sns.barplot(x=users_count.index, y=users_count['device_id_hash'], data=users_count) \n",
    "\n",
    "plt.ylabel('Количество пользователей')\n",
    "plt.xlabel('Название события')\n",
    "plt.title('Число пользователей, совершивших событие')\n",
    "plt.xticks(rotation=30);"
   ]
  },
  {
   "cell_type": "markdown",
   "metadata": {},
   "source": [
    "Предполагаем, что воронка продаж складывается следующим образом:\n",
    "- пользователь заходит на главную страницу сайта;\n",
    "- пользователь переходит на понравившийся товар;\n",
    "- пользоватеь добавляет товар в корзину;\n",
    "- пользователь успешно оплачивает заказ.\n",
    "\n",
    "\n",
    "Обучение (Tutorial) является необязательным событием и оно итересно лишь 11 % пользователей, в то время как большинство пользователей игнорируют эту страницу, в связи с чем можно не учитывать данное событие при дальнейшем исследовании."
   ]
  },
  {
   "cell_type": "markdown",
   "metadata": {},
   "source": [
    "#### Доля пользователей, которая проходит на следующий шаг воронки (от числа пользователей на предыдущем)"
   ]
  },
  {
   "cell_type": "markdown",
   "metadata": {},
   "source": [
    "<div class=\"alert alert-success\">\n",
    "<b>👍 Успех:</b> Все верно! Tutorial не является частью воронки!\n",
    "</div>"
   ]
  },
  {
   "cell_type": "code",
   "execution_count": 31,
   "metadata": {},
   "outputs": [
    {
     "data": {
      "text/html": [
       "<div>\n",
       "<style scoped>\n",
       "    .dataframe tbody tr th:only-of-type {\n",
       "        vertical-align: middle;\n",
       "    }\n",
       "\n",
       "    .dataframe tbody tr th {\n",
       "        vertical-align: top;\n",
       "    }\n",
       "\n",
       "    .dataframe thead th {\n",
       "        text-align: right;\n",
       "    }\n",
       "</style>\n",
       "<table border=\"1\" class=\"dataframe\">\n",
       "  <thead>\n",
       "    <tr style=\"text-align: right;\">\n",
       "      <th></th>\n",
       "      <th>event_name</th>\n",
       "      <th>device_id_hash</th>\n",
       "      <th>share</th>\n",
       "    </tr>\n",
       "  </thead>\n",
       "  <tbody>\n",
       "    <tr>\n",
       "      <th>0</th>\n",
       "      <td>MainScreenAppear</td>\n",
       "      <td>7419</td>\n",
       "      <td>NaN</td>\n",
       "    </tr>\n",
       "    <tr>\n",
       "      <th>1</th>\n",
       "      <td>OffersScreenAppear</td>\n",
       "      <td>4593</td>\n",
       "      <td>61.908613</td>\n",
       "    </tr>\n",
       "    <tr>\n",
       "      <th>2</th>\n",
       "      <td>CartScreenAppear</td>\n",
       "      <td>3734</td>\n",
       "      <td>81.297627</td>\n",
       "    </tr>\n",
       "    <tr>\n",
       "      <th>3</th>\n",
       "      <td>PaymentScreenSuccessful</td>\n",
       "      <td>3539</td>\n",
       "      <td>94.777718</td>\n",
       "    </tr>\n",
       "  </tbody>\n",
       "</table>\n",
       "</div>"
      ],
      "text/plain": [
       "                event_name  device_id_hash      share\n",
       "0         MainScreenAppear            7419        NaN\n",
       "1       OffersScreenAppear            4593  61.908613\n",
       "2         CartScreenAppear            3734  81.297627\n",
       "3  PaymentScreenSuccessful            3539  94.777718"
      ]
     },
     "execution_count": 31,
     "metadata": {},
     "output_type": "execute_result"
    }
   ],
   "source": [
    "share_of_users = logs.query('event_name != \"Tutorial\"').groupby('event_name').agg({'device_id_hash': 'nunique'}) \\\n",
    "                    .sort_values(by='device_id_hash', ascending=False).reset_index()\n",
    "share_of_users['share'] = 100 + share_of_users['device_id_hash'].pct_change() * 100\n",
    "share_of_users"
   ]
  },
  {
   "cell_type": "markdown",
   "metadata": {},
   "source": [
    "На страницу с предложением проходит 62 % пользователей, посмотревших главную страницу. После этого, на страницу корзины переходит 81% пользователей. На страницу оплаты переходит 95% пользователей."
   ]
  },
  {
   "cell_type": "markdown",
   "metadata": {},
   "source": [
    "#### На каком шаге теряется больше всего пользователей?"
   ]
  },
  {
   "cell_type": "markdown",
   "metadata": {},
   "source": [
    "Самая большая потеря пользователей происходит при переходе с главной страницы на экран с предложением - переход осуществляют только 62% пользователей. Возможно, главный экран сайта содержит неудобную навигацию или непонятен для пользователей, или имеют место быть другие причины."
   ]
  },
  {
   "cell_type": "markdown",
   "metadata": {},
   "source": [
    "#### Какая доля пользователей доходит от первого события до оплаты?"
   ]
  },
  {
   "cell_type": "code",
   "execution_count": 32,
   "metadata": {},
   "outputs": [
    {
     "data": {
      "text/html": [
       "<div>\n",
       "<style scoped>\n",
       "    .dataframe tbody tr th:only-of-type {\n",
       "        vertical-align: middle;\n",
       "    }\n",
       "\n",
       "    .dataframe tbody tr th {\n",
       "        vertical-align: top;\n",
       "    }\n",
       "\n",
       "    .dataframe thead th {\n",
       "        text-align: right;\n",
       "    }\n",
       "</style>\n",
       "<table border=\"1\" class=\"dataframe\">\n",
       "  <thead>\n",
       "    <tr style=\"text-align: right;\">\n",
       "      <th></th>\n",
       "      <th>event_name</th>\n",
       "      <th>device_id_hash</th>\n",
       "      <th>share</th>\n",
       "      <th>share_of_all</th>\n",
       "    </tr>\n",
       "  </thead>\n",
       "  <tbody>\n",
       "    <tr>\n",
       "      <th>0</th>\n",
       "      <td>MainScreenAppear</td>\n",
       "      <td>7419</td>\n",
       "      <td>NaN</td>\n",
       "      <td>100.000000</td>\n",
       "    </tr>\n",
       "    <tr>\n",
       "      <th>1</th>\n",
       "      <td>OffersScreenAppear</td>\n",
       "      <td>4593</td>\n",
       "      <td>61.908613</td>\n",
       "      <td>61.908613</td>\n",
       "    </tr>\n",
       "    <tr>\n",
       "      <th>2</th>\n",
       "      <td>CartScreenAppear</td>\n",
       "      <td>3734</td>\n",
       "      <td>81.297627</td>\n",
       "      <td>50.330233</td>\n",
       "    </tr>\n",
       "    <tr>\n",
       "      <th>3</th>\n",
       "      <td>PaymentScreenSuccessful</td>\n",
       "      <td>3539</td>\n",
       "      <td>94.777718</td>\n",
       "      <td>47.701847</td>\n",
       "    </tr>\n",
       "  </tbody>\n",
       "</table>\n",
       "</div>"
      ],
      "text/plain": [
       "                event_name  device_id_hash      share  share_of_all\n",
       "0         MainScreenAppear            7419        NaN    100.000000\n",
       "1       OffersScreenAppear            4593  61.908613     61.908613\n",
       "2         CartScreenAppear            3734  81.297627     50.330233\n",
       "3  PaymentScreenSuccessful            3539  94.777718     47.701847"
      ]
     },
     "execution_count": 32,
     "metadata": {},
     "output_type": "execute_result"
    }
   ],
   "source": [
    "share_of_users['share_of_all'] = share_of_users['device_id_hash'] / share_of_users['device_id_hash'].iloc[0] * 100\n",
    "share_of_users"
   ]
  },
  {
   "cell_type": "markdown",
   "metadata": {},
   "source": [
    "Таким образом, от первого события до оплаты проходит 47.7% пользователей."
   ]
  },
  {
   "cell_type": "code",
   "execution_count": null,
   "metadata": {},
   "outputs": [],
   "source": [
    "import plotly.express as px\n",
    "data = dict(labels=share_of_users['event_name'],\n",
    "            values=share_of_users['share_of_all'])\n",
    "fig = px.funnel(data, y='labels', x='values')\n",
    "fig.show()"
   ]
  },
  {
   "cell_type": "markdown",
   "metadata": {},
   "source": [
    "### Изучение результатов эксперимента"
   ]
  },
  {
   "cell_type": "markdown",
   "metadata": {},
   "source": [
    "#### Количество пользователей в каждой экспериментальной группе"
   ]
  },
  {
   "cell_type": "code",
   "execution_count": null,
   "metadata": {},
   "outputs": [],
   "source": [
    "exp_count"
   ]
  },
  {
   "cell_type": "markdown",
   "metadata": {},
   "source": [
    "Есть 2 контрольные группы для А/А-эксперимента. Чтобы проверить корректность всех механизмов и расчётов, прверим, находят ли статистические критерии разницу между выборками 246 и 247."
   ]
  },
  {
   "cell_type": "code",
   "execution_count": null,
   "metadata": {},
   "outputs": [],
   "source": [
    "#посмотрим на сводную таблицу по группам 246 и 247\n",
    "test_group = logs[logs['exp_id'] != 248].pivot_table(index=logs['event_name'], columns=logs['exp_id'], aggfunc={'count', 'nunique'})['device_id_hash']\n",
    "test_group.columns = ['events_246', 'events_247', 'users_246', 'users_247']\n",
    "test_group['events_total'] = test_group['events_246'] + test_group['events_247']\n",
    "test_group['users_total'] = test_group['users_246'] + test_group['users_247']\n",
    "test_group.sort_values(by='events_246', ascending=False)\n"
   ]
  },
  {
   "cell_type": "markdown",
   "metadata": {},
   "source": [
    "Проверка гипотезы о равенстве долей будет осуществляться при помощи Z-критерия."
   ]
  },
  {
   "cell_type": "code",
   "execution_count": null,
   "metadata": {},
   "outputs": [],
   "source": [
    "def z_test(group_a, group_b, event, alpha):\n",
    "    group_users = np.array([logs.query('event_name == @event and exp_id == @group_a').device_id_hash.nunique(),\n",
    "                           logs.query('event_name == @event and exp_id == @group_b').device_id_hash.nunique()])\n",
    "    total_users = np.array([logs.query('exp_id == @group_a').device_id_hash.nunique(),\n",
    "                           logs.query('exp_id == @group_b').device_id_hash.nunique()])\n",
    "    \n",
    "    # пропорция в первой группе:\n",
    "    p1 = group_users[0]/total_users[0]\n",
    "\n",
    "    # пропорция во второй группе:\n",
    "    p2 = group_users[1]/total_users[1]\n",
    "\n",
    "    # пропорция в комбинированном датасете:\n",
    "    p_combined = (group_users[0] + group_users[1]) / (total_users[0] + total_users[1])\n",
    "\n",
    "    # разница пропорций в датасетах\n",
    "    difference = p1 - p2 \n",
    "\n",
    "    # считаем статистику в ст.отклонениях стандартного нормального распределения\n",
    "    z_value = difference / mth.sqrt(\n",
    "        p_combined * (1 - p_combined) * (1 / total_users[0] + 1 / total_users[1])\n",
    "    )\n",
    "\n",
    "    # задаем стандартное нормальное распределение (среднее 0, ст.отклонение 1)    \n",
    "    distr = st.norm(0, 1)\n",
    "\n",
    "    p_value = (1 - distr.cdf(abs(z_value))) * 2\n",
    "\n",
    "    print('p_value: ', p_value)\n",
    "\n",
    "    if p_value < alpha:\n",
    "        print('Отвергаем нулевую гипотезу: между долями есть значимая разница')\n",
    "    else:\n",
    "        print(\n",
    "            'Не получилось отвергнуть нулевую гипотезу, нет оснований считать доли разными')"
   ]
  },
  {
   "cell_type": "code",
   "execution_count": null,
   "metadata": {},
   "outputs": [],
   "source": [
    "# критический уровень статистической значимости\n",
    "alpha = 0.05  "
   ]
  },
  {
   "cell_type": "markdown",
   "metadata": {},
   "source": [
    "Сформулируем гипотезы:\n",
    "\n",
    "1. Н0: Доли между группами одинаковы;\n",
    "2. Н1: Доли между группами различаются."
   ]
  },
  {
   "cell_type": "markdown",
   "metadata": {},
   "source": [
    "***Сравнение группы 246 с группой 247 (без измененного шрифта)***"
   ]
  },
  {
   "cell_type": "code",
   "execution_count": null,
   "metadata": {},
   "outputs": [],
   "source": [
    "group_a = 246\n",
    "group_b = 247"
   ]
  },
  {
   "cell_type": "code",
   "execution_count": null,
   "metadata": {},
   "outputs": [],
   "source": [
    "print('Посещение пользователем главного экрана')\n",
    "event = 'MainScreenAppear'\n",
    "z_test(group_a, group_b, event, alpha)\n",
    "print('')\n",
    "\n",
    "print('Посещение пользователем страницы с предложениями')\n",
    "event = 'OffersScreenAppear'\n",
    "z_test(group_a, group_b, event, alpha)\n",
    "print('')\n",
    "\n",
    "print('Добавление пользователем товара в корзину')\n",
    "event = 'CartScreenAppear'\n",
    "z_test(group_a, group_b, event, alpha)\n",
    "print('')\n",
    "\n",
    "print('Успешная оплата товара пользователем')\n",
    "event = 'PaymentScreenSuccessful'\n",
    "z_test(group_a, group_b, event, alpha)\n"
   ]
  },
  {
   "cell_type": "markdown",
   "metadata": {},
   "source": [
    "Таким образом, тест показал, что нет оснований считать контрольные выборки групп 246 и 247 разными. Равные доли говорят о том, что контрольные группы выбраны корректно.\n",
    "\n",
    "Самым популярным событием является посещение главной страницы. В контрольных группах это число составило 2 450 и 2 476 пользователей."
   ]
  },
  {
   "cell_type": "markdown",
   "metadata": {},
   "source": [
    "#### Сравним результаты с каждой из контрольных групп в отдельности по каждому событию. "
   ]
  },
  {
   "cell_type": "markdown",
   "metadata": {},
   "source": [
    "***Сравнение группы 246 (без измененного шрифта) с группой 248 (с измененным шрифтом)***"
   ]
  },
  {
   "cell_type": "code",
   "execution_count": null,
   "metadata": {},
   "outputs": [],
   "source": [
    "group_a = 246\n",
    "group_b = 248"
   ]
  },
  {
   "cell_type": "markdown",
   "metadata": {},
   "source": [
    "Сформулируем гипотезы:\n",
    "\n",
    "1. Н0: Доли между группами одинаковы;\n",
    "2. Н1: Доли между группами различаются."
   ]
  },
  {
   "cell_type": "code",
   "execution_count": null,
   "metadata": {},
   "outputs": [],
   "source": [
    "print('Посещение пользователем главного экрана')\n",
    "event = 'MainScreenAppear'\n",
    "z_test(group_a, group_b, event, alpha)\n",
    "print('')\n",
    "\n",
    "print('Посещение пользователем страницы с предложениями')\n",
    "event = 'OffersScreenAppear'\n",
    "z_test(group_a, group_b, event, alpha)\n",
    "print('')\n",
    "\n",
    "print('Добавление пользователем товара в корзину')\n",
    "event = 'CartScreenAppear'\n",
    "z_test(group_a, group_b, event, alpha)\n",
    "print('')\n",
    "\n",
    "print('Успешная оплата товара пользователем')\n",
    "event = 'PaymentScreenSuccessful'\n",
    "z_test(group_a, group_b, event, alpha)"
   ]
  },
  {
   "cell_type": "markdown",
   "metadata": {},
   "source": [
    "***Сравнение группы 247 (без измененного шрифта) с группой 248 (с измененным шрифтом)***"
   ]
  },
  {
   "cell_type": "code",
   "execution_count": null,
   "metadata": {},
   "outputs": [],
   "source": [
    "group_a = 247\n",
    "group_b = 248"
   ]
  },
  {
   "cell_type": "code",
   "execution_count": null,
   "metadata": {},
   "outputs": [],
   "source": [
    "print('Посещение пользователем главного экрана')\n",
    "event = 'MainScreenAppear'\n",
    "z_test(group_a, group_b, event, alpha)\n",
    "print('')\n",
    "\n",
    "print('Посещение пользователем страницы с предложениями')\n",
    "event = 'OffersScreenAppear'\n",
    "z_test(group_a, group_b, event, alpha)\n",
    "print('')\n",
    "\n",
    "print('Добавление пользователем товара в корзину')\n",
    "event = 'CartScreenAppear'\n",
    "z_test(group_a, group_b, event, alpha)\n",
    "print('')\n",
    "\n",
    "print('Успешная оплата товара пользователем')\n",
    "event = 'PaymentScreenSuccessful'\n",
    "z_test(group_a, group_b, event, alpha)"
   ]
  },
  {
   "cell_type": "markdown",
   "metadata": {},
   "source": [
    "#### Сравним результаты с объединённой контрольной группой."
   ]
  },
  {
   "cell_type": "code",
   "execution_count": null,
   "metadata": {},
   "outputs": [],
   "source": [
    "group_a = [246, 247]\n",
    "group_b = 248"
   ]
  },
  {
   "cell_type": "code",
   "execution_count": null,
   "metadata": {},
   "outputs": [],
   "source": [
    "print('Посещение пользователем главного экрана')\n",
    "event = 'MainScreenAppear'\n",
    "z_test(group_a, group_b, event, alpha)\n",
    "print('')\n",
    "\n",
    "print('Посещение пользователем страницы с предложениями')\n",
    "event = 'OffersScreenAppear'\n",
    "z_test(group_a, group_b, event, alpha)\n",
    "print('')\n",
    "\n",
    "print('Добавление пользователем товара в корзину')\n",
    "event = 'CartScreenAppear'\n",
    "z_test(group_a, group_b, event, alpha)\n",
    "print('')\n",
    "\n",
    "print('Успешная оплата товара пользователем')\n",
    "event = 'PaymentScreenSuccessful'\n",
    "z_test(group_a, group_b, event, alpha)"
   ]
  },
  {
   "cell_type": "markdown",
   "metadata": {},
   "source": [
    "В общей сложности мы провели 16 проверок статистических гипотез.\n",
    "\n",
    "Изначально при проверке статистических гипотез был использован уровень статистической знчимости 0.05.\n",
    "В результате чего мы установили, что между контрольными группами (246 и 247) и группой с измененными шрифтами (248) значимых различий нет. Нулевая гипотеза не отвергается и доли во всех выборках равны.\n",
    "\n",
    "Таким образом гипотеза о том, что изменение шрифта на главной странице как-то повлияет на метрики конверсии не подтвердилась.\n",
    "\n",
    "При использовании уровня значимости 0.1 было обнаружено различие между группами 246 и 248 в доле пользователей, перешедших к корзине. "
   ]
  },
  {
   "cell_type": "markdown",
   "metadata": {},
   "source": [
    "### Вывод"
   ]
  },
  {
   "cell_type": "markdown",
   "metadata": {},
   "source": [
    "- Общее количество событий в логах - 244 126;\n",
    "\n",
    "\n",
    "- Всего в логе 5 событий: На первом месте по количеству посещений вход на главную страницу (MainScreenAppear) - 117 328 событий. На втором месте просмотр экрана с предложениями (OffersScreenAppear) - 46 333. На третьем месте наполнение корзины товаром (CartScreenAppear) - 42 303, затем идет успешная оплата товаров (PaymentScreenSuccessful) - 33 918 событий. Меньше всего пользователи смотрят руководство (Tutorial) - 1 005;\n",
    "\n",
    "\n",
    "- В логе всего 7 551 пользователь. В среднем на пользователя приходится около 30 событий;\n",
    "\n",
    "\n",
    "- В таблице представленны данные с 25.07.2019  по 07.08.2019 гг. Данные с 25.07.2019 по 31.07.2019 г. нами были отброшены ввиду их неполноты. Исследуемый период фактически стал с 01.08.2019 - 07.08.2019;\n",
    "\n",
    "\n",
    "- Самое популярное событие - MainScreenAppear. Событие, которое реже всего используется пользователями - Tutorial;\n",
    "\n",
    "\n",
    "- Воронка продаж выглядит следующим образом: MainScreenAppear (главный экран) > OffersScreenAppear (страница с предложением) > CartScreenAppear (корзина) > PaymentScreenSuccessful (страница успешной оплаты);\n",
    "\n",
    "\n",
    "- Подсчет процента пользователей, котрые проходят на следующий этап воронки, показал, что на страницу с предложением проходит 62 % пользователей, посмотревших главную страницу. После этого, на страницу корзины переходит 81% пользователей. На страницу оплаты переходит 95% пользователей;\n",
    "\n",
    "\n",
    "- Самым популярным событием является посещение главной страницы. В контрольных группах это число составило 2 450 и 2 476 пользователей;\n",
    "\n",
    "\n",
    "- От самого первого события до оплаты проходит 47.7% пользователей;\n",
    "\n",
    "\n",
    "- Самая большая потеря пользователей происходит при переходе с главной страницы на экран с предложением - переход осуществляют только 62% пользователей. Возможно, главный экран сайта содержит неудобную навигацию или непонятен для пользователей;\n",
    "\n",
    "\n",
    "- При использовании уровня значимости 0.05, значимой разницы между тестовой группой и контрольными группами при всех событиях нет. При использовании уровня значимости 0.1 было обнаружено различие между группами 246 и 248 в доле пользователей, перешедших к корзине."
   ]
  }
 ],
 "metadata": {
  "ExecuteTimeLog": [
   {
    "duration": 1292,
    "start_time": "2023-12-25T10:54:45.019Z"
   },
   {
    "duration": 622,
    "start_time": "2023-12-25T10:56:37.205Z"
   },
   {
    "duration": 13,
    "start_time": "2023-12-25T10:56:44.339Z"
   },
   {
    "duration": 3,
    "start_time": "2023-12-25T10:57:11.504Z"
   },
   {
    "duration": 214,
    "start_time": "2023-12-25T11:05:36.971Z"
   },
   {
    "duration": 10,
    "start_time": "2023-12-25T11:05:38.645Z"
   },
   {
    "duration": 1256,
    "start_time": "2023-12-25T11:05:44.730Z"
   },
   {
    "duration": 298,
    "start_time": "2023-12-25T11:07:02.432Z"
   },
   {
    "duration": 7,
    "start_time": "2023-12-25T11:07:04.905Z"
   },
   {
    "duration": 161,
    "start_time": "2023-12-25T11:07:20.310Z"
   },
   {
    "duration": 10,
    "start_time": "2023-12-25T11:07:22.673Z"
   },
   {
    "duration": 4,
    "start_time": "2023-12-25T11:09:55.288Z"
   },
   {
    "duration": 73,
    "start_time": "2023-12-25T11:10:14.283Z"
   },
   {
    "duration": 5,
    "start_time": "2023-12-25T11:19:35.164Z"
   },
   {
    "duration": 9,
    "start_time": "2023-12-25T11:19:42.720Z"
   },
   {
    "duration": 90,
    "start_time": "2023-12-25T13:05:25.154Z"
   },
   {
    "duration": 11,
    "start_time": "2023-12-25T13:05:26.739Z"
   },
   {
    "duration": 7,
    "start_time": "2023-12-25T13:05:33.531Z"
   },
   {
    "duration": 10,
    "start_time": "2023-12-25T13:05:35.575Z"
   },
   {
    "duration": 60,
    "start_time": "2023-12-25T13:09:37.076Z"
   },
   {
    "duration": 10,
    "start_time": "2023-12-25T13:09:43.996Z"
   },
   {
    "duration": 43,
    "start_time": "2023-12-26T04:52:59.033Z"
   },
   {
    "duration": 12,
    "start_time": "2023-12-26T04:55:24.849Z"
   },
   {
    "duration": 96,
    "start_time": "2023-12-26T04:55:47.365Z"
   },
   {
    "duration": 12,
    "start_time": "2023-12-26T04:56:07.894Z"
   },
   {
    "duration": 11,
    "start_time": "2023-12-26T04:56:11.261Z"
   },
   {
    "duration": 77,
    "start_time": "2023-12-26T04:59:10.859Z"
   },
   {
    "duration": 20,
    "start_time": "2023-12-26T04:59:21.314Z"
   },
   {
    "duration": 13,
    "start_time": "2023-12-26T04:59:25.043Z"
   },
   {
    "duration": 82,
    "start_time": "2023-12-26T05:00:15.784Z"
   },
   {
    "duration": 13,
    "start_time": "2023-12-26T05:00:17.602Z"
   },
   {
    "duration": 1067,
    "start_time": "2023-12-26T05:02:33.332Z"
   },
   {
    "duration": 3,
    "start_time": "2023-12-26T05:03:02.816Z"
   },
   {
    "duration": 1034,
    "start_time": "2023-12-26T05:03:06.748Z"
   },
   {
    "duration": 3,
    "start_time": "2023-12-26T05:03:28.772Z"
   },
   {
    "duration": 8,
    "start_time": "2023-12-26T05:03:30.209Z"
   },
   {
    "duration": 1005,
    "start_time": "2023-12-26T05:03:31.058Z"
   },
   {
    "duration": 8,
    "start_time": "2023-12-26T05:04:03.212Z"
   },
   {
    "duration": 19,
    "start_time": "2023-12-26T05:04:14.006Z"
   },
   {
    "duration": 1169,
    "start_time": "2023-12-26T05:05:47.330Z"
   },
   {
    "duration": 202,
    "start_time": "2023-12-26T05:05:48.501Z"
   },
   {
    "duration": 12,
    "start_time": "2023-12-26T05:05:48.705Z"
   },
   {
    "duration": 3,
    "start_time": "2023-12-26T05:05:48.719Z"
   },
   {
    "duration": 114,
    "start_time": "2023-12-26T05:05:48.724Z"
   },
   {
    "duration": 9,
    "start_time": "2023-12-26T05:05:48.839Z"
   },
   {
    "duration": 30,
    "start_time": "2023-12-26T05:05:48.849Z"
   },
   {
    "duration": 88,
    "start_time": "2023-12-26T05:05:48.881Z"
   },
   {
    "duration": 117,
    "start_time": "2023-12-26T05:05:48.971Z"
   },
   {
    "duration": 113,
    "start_time": "2023-12-26T05:05:49.090Z"
   },
   {
    "duration": 15,
    "start_time": "2023-12-26T05:06:10.426Z"
   },
   {
    "duration": 20,
    "start_time": "2023-12-26T05:09:14.538Z"
   },
   {
    "duration": 85,
    "start_time": "2023-12-26T05:09:23.734Z"
   },
   {
    "duration": 15,
    "start_time": "2023-12-26T05:09:26.385Z"
   },
   {
    "duration": 92,
    "start_time": "2023-12-26T05:26:49.717Z"
   },
   {
    "duration": 14,
    "start_time": "2023-12-26T05:26:58.603Z"
   },
   {
    "duration": 86,
    "start_time": "2023-12-26T05:27:10.787Z"
   },
   {
    "duration": 87,
    "start_time": "2023-12-26T05:27:34.837Z"
   },
   {
    "duration": 1222,
    "start_time": "2023-12-26T08:27:31.160Z"
   },
   {
    "duration": 183,
    "start_time": "2023-12-26T08:27:32.384Z"
   },
   {
    "duration": 14,
    "start_time": "2023-12-26T08:27:32.568Z"
   },
   {
    "duration": 6,
    "start_time": "2023-12-26T08:27:32.583Z"
   },
   {
    "duration": 109,
    "start_time": "2023-12-26T08:27:32.591Z"
   },
   {
    "duration": 11,
    "start_time": "2023-12-26T08:27:32.702Z"
   },
   {
    "duration": 11,
    "start_time": "2023-12-26T08:27:32.715Z"
   },
   {
    "duration": 101,
    "start_time": "2023-12-26T08:27:32.728Z"
   },
   {
    "duration": 97,
    "start_time": "2023-12-26T08:27:32.831Z"
   },
   {
    "duration": 15,
    "start_time": "2023-12-26T08:27:32.930Z"
   },
   {
    "duration": 1156,
    "start_time": "2023-12-26T08:41:47.943Z"
   },
   {
    "duration": 177,
    "start_time": "2023-12-26T08:41:49.101Z"
   },
   {
    "duration": 14,
    "start_time": "2023-12-26T08:41:49.280Z"
   },
   {
    "duration": 4,
    "start_time": "2023-12-26T08:41:49.296Z"
   },
   {
    "duration": 125,
    "start_time": "2023-12-26T08:41:49.302Z"
   },
   {
    "duration": 9,
    "start_time": "2023-12-26T08:41:49.430Z"
   },
   {
    "duration": 11,
    "start_time": "2023-12-26T08:41:49.441Z"
   },
   {
    "duration": 92,
    "start_time": "2023-12-26T08:41:49.453Z"
   },
   {
    "duration": 91,
    "start_time": "2023-12-26T08:41:49.547Z"
   },
   {
    "duration": 18,
    "start_time": "2023-12-26T08:41:49.640Z"
   },
   {
    "duration": 15,
    "start_time": "2023-12-26T08:46:28.412Z"
   },
   {
    "duration": 98,
    "start_time": "2023-12-26T08:46:43.321Z"
   },
   {
    "duration": 27,
    "start_time": "2023-12-26T08:46:50.376Z"
   },
   {
    "duration": 14,
    "start_time": "2023-12-26T08:51:46.270Z"
   },
   {
    "duration": 13,
    "start_time": "2023-12-26T08:53:07.169Z"
   },
   {
    "duration": 27,
    "start_time": "2023-12-26T08:57:55.292Z"
   },
   {
    "duration": 4,
    "start_time": "2023-12-26T08:58:58.932Z"
   },
   {
    "duration": 9,
    "start_time": "2023-12-26T08:59:35.862Z"
   },
   {
    "duration": 9,
    "start_time": "2023-12-26T08:59:57.878Z"
   },
   {
    "duration": 10,
    "start_time": "2023-12-26T09:00:26.025Z"
   },
   {
    "duration": 6,
    "start_time": "2023-12-26T09:00:48.105Z"
   },
   {
    "duration": 18,
    "start_time": "2023-12-26T09:01:16.292Z"
   },
   {
    "duration": 18,
    "start_time": "2023-12-26T09:01:49.821Z"
   },
   {
    "duration": 1897,
    "start_time": "2023-12-26T09:30:21.582Z"
   },
   {
    "duration": 27,
    "start_time": "2023-12-26T09:30:40.933Z"
   },
   {
    "duration": 27,
    "start_time": "2023-12-26T09:31:01.814Z"
   },
   {
    "duration": 213,
    "start_time": "2023-12-26T09:31:48.589Z"
   },
   {
    "duration": 163,
    "start_time": "2023-12-26T09:32:14.304Z"
   },
   {
    "duration": 223,
    "start_time": "2023-12-26T09:32:31.979Z"
   },
   {
    "duration": 237,
    "start_time": "2023-12-26T09:32:57.906Z"
   },
   {
    "duration": 218,
    "start_time": "2023-12-26T09:33:06.735Z"
   },
   {
    "duration": 1304,
    "start_time": "2023-12-26T09:33:35.880Z"
   },
   {
    "duration": 198,
    "start_time": "2023-12-26T09:33:37.186Z"
   },
   {
    "duration": 24,
    "start_time": "2023-12-26T09:33:37.385Z"
   },
   {
    "duration": 25,
    "start_time": "2023-12-26T09:33:37.410Z"
   },
   {
    "duration": 111,
    "start_time": "2023-12-26T09:33:37.437Z"
   },
   {
    "duration": 9,
    "start_time": "2023-12-26T09:33:37.549Z"
   },
   {
    "duration": 13,
    "start_time": "2023-12-26T09:33:37.559Z"
   },
   {
    "duration": 97,
    "start_time": "2023-12-26T09:33:37.573Z"
   },
   {
    "duration": 144,
    "start_time": "2023-12-26T09:33:37.671Z"
   },
   {
    "duration": 15,
    "start_time": "2023-12-26T09:33:37.818Z"
   },
   {
    "duration": 28,
    "start_time": "2023-12-26T09:33:37.834Z"
   },
   {
    "duration": 63,
    "start_time": "2023-12-26T09:33:37.863Z"
   },
   {
    "duration": 19,
    "start_time": "2023-12-26T09:33:37.928Z"
   },
   {
    "duration": 35,
    "start_time": "2023-12-26T09:33:37.949Z"
   },
   {
    "duration": 240,
    "start_time": "2023-12-26T09:33:37.985Z"
   },
   {
    "duration": 238,
    "start_time": "2023-12-26T09:33:47.326Z"
   },
   {
    "duration": 215,
    "start_time": "2023-12-26T09:33:52.829Z"
   },
   {
    "duration": 247,
    "start_time": "2023-12-26T09:34:01.604Z"
   },
   {
    "duration": 238,
    "start_time": "2023-12-26T09:34:07.684Z"
   },
   {
    "duration": 248,
    "start_time": "2023-12-26T09:34:34.769Z"
   },
   {
    "duration": 305,
    "start_time": "2023-12-26T09:34:43.733Z"
   },
   {
    "duration": 241,
    "start_time": "2023-12-26T09:35:55.862Z"
   },
   {
    "duration": 21,
    "start_time": "2023-12-26T10:19:34.503Z"
   },
   {
    "duration": 100,
    "start_time": "2023-12-26T10:19:51.891Z"
   },
   {
    "duration": 33,
    "start_time": "2023-12-26T10:20:05.913Z"
   },
   {
    "duration": 17,
    "start_time": "2023-12-26T10:21:16.626Z"
   },
   {
    "duration": 40,
    "start_time": "2023-12-26T10:22:03.086Z"
   },
   {
    "duration": 162,
    "start_time": "2023-12-26T10:22:15.518Z"
   },
   {
    "duration": 207,
    "start_time": "2023-12-26T10:22:27.618Z"
   },
   {
    "duration": 167,
    "start_time": "2023-12-26T10:22:45.696Z"
   },
   {
    "duration": 36,
    "start_time": "2023-12-26T10:22:51.720Z"
   },
   {
    "duration": 648,
    "start_time": "2023-12-26T10:46:47.231Z"
   },
   {
    "duration": 551,
    "start_time": "2023-12-26T10:49:24.208Z"
   },
   {
    "duration": 541,
    "start_time": "2023-12-26T10:49:29.897Z"
   },
   {
    "duration": 538,
    "start_time": "2023-12-26T10:49:41.711Z"
   },
   {
    "duration": 513,
    "start_time": "2023-12-26T10:50:58.036Z"
   },
   {
    "duration": 601,
    "start_time": "2023-12-26T10:51:06.143Z"
   },
   {
    "duration": 535,
    "start_time": "2023-12-26T10:51:15.616Z"
   },
   {
    "duration": 42,
    "start_time": "2023-12-26T10:52:47.512Z"
   },
   {
    "duration": 49,
    "start_time": "2023-12-26T10:53:05.313Z"
   },
   {
    "duration": 48,
    "start_time": "2023-12-26T10:53:28.991Z"
   },
   {
    "duration": 323,
    "start_time": "2023-12-26T10:54:22.430Z"
   },
   {
    "duration": 1294,
    "start_time": "2023-12-26T11:27:47.655Z"
   },
   {
    "duration": 191,
    "start_time": "2023-12-26T11:27:48.952Z"
   },
   {
    "duration": 14,
    "start_time": "2023-12-26T11:27:49.145Z"
   },
   {
    "duration": 9,
    "start_time": "2023-12-26T11:27:49.161Z"
   },
   {
    "duration": 112,
    "start_time": "2023-12-26T11:27:49.173Z"
   },
   {
    "duration": 9,
    "start_time": "2023-12-26T11:27:49.288Z"
   },
   {
    "duration": 21,
    "start_time": "2023-12-26T11:27:49.298Z"
   },
   {
    "duration": 103,
    "start_time": "2023-12-26T11:27:49.321Z"
   },
   {
    "duration": 89,
    "start_time": "2023-12-26T11:27:49.426Z"
   },
   {
    "duration": 14,
    "start_time": "2023-12-26T11:27:49.516Z"
   },
   {
    "duration": 35,
    "start_time": "2023-12-26T11:27:49.532Z"
   },
   {
    "duration": 51,
    "start_time": "2023-12-26T11:27:49.569Z"
   },
   {
    "duration": 27,
    "start_time": "2023-12-26T11:27:49.622Z"
   },
   {
    "duration": 36,
    "start_time": "2023-12-26T11:27:49.651Z"
   },
   {
    "duration": 239,
    "start_time": "2023-12-26T11:27:49.689Z"
   },
   {
    "duration": 44,
    "start_time": "2023-12-26T11:27:49.930Z"
   },
   {
    "duration": 44,
    "start_time": "2023-12-26T11:27:49.975Z"
   },
   {
    "duration": 626,
    "start_time": "2023-12-26T11:27:50.020Z"
   },
   {
    "duration": 513,
    "start_time": "2023-12-26T11:41:22.215Z"
   },
   {
    "duration": 43,
    "start_time": "2023-12-26T11:44:11.149Z"
   },
   {
    "duration": 13,
    "start_time": "2023-12-26T11:44:17.624Z"
   },
   {
    "duration": 34,
    "start_time": "2023-12-26T11:44:45.040Z"
   },
   {
    "duration": 1208,
    "start_time": "2023-12-26T11:45:09.884Z"
   },
   {
    "duration": 186,
    "start_time": "2023-12-26T11:45:11.093Z"
   },
   {
    "duration": 13,
    "start_time": "2023-12-26T11:45:11.280Z"
   },
   {
    "duration": 8,
    "start_time": "2023-12-26T11:45:11.294Z"
   },
   {
    "duration": 105,
    "start_time": "2023-12-26T11:45:11.304Z"
   },
   {
    "duration": 9,
    "start_time": "2023-12-26T11:45:11.411Z"
   },
   {
    "duration": 23,
    "start_time": "2023-12-26T11:45:11.422Z"
   },
   {
    "duration": 95,
    "start_time": "2023-12-26T11:45:11.447Z"
   },
   {
    "duration": 86,
    "start_time": "2023-12-26T11:45:11.544Z"
   },
   {
    "duration": 14,
    "start_time": "2023-12-26T11:45:11.631Z"
   },
   {
    "duration": 43,
    "start_time": "2023-12-26T11:45:11.647Z"
   },
   {
    "duration": 49,
    "start_time": "2023-12-26T11:45:11.692Z"
   },
   {
    "duration": 14,
    "start_time": "2023-12-26T11:45:11.742Z"
   },
   {
    "duration": 27,
    "start_time": "2023-12-26T11:45:11.759Z"
   },
   {
    "duration": 227,
    "start_time": "2023-12-26T11:45:11.787Z"
   },
   {
    "duration": 33,
    "start_time": "2023-12-26T11:45:12.016Z"
   },
   {
    "duration": 42,
    "start_time": "2023-12-26T11:45:12.050Z"
   },
   {
    "duration": 602,
    "start_time": "2023-12-26T11:45:12.094Z"
   },
   {
    "duration": 41,
    "start_time": "2023-12-26T11:45:12.698Z"
   },
   {
    "duration": 14,
    "start_time": "2023-12-26T11:45:12.740Z"
   },
   {
    "duration": 1232,
    "start_time": "2023-12-26T11:45:49.167Z"
   },
   {
    "duration": 180,
    "start_time": "2023-12-26T11:45:50.400Z"
   },
   {
    "duration": 15,
    "start_time": "2023-12-26T11:45:50.582Z"
   },
   {
    "duration": 3,
    "start_time": "2023-12-26T11:45:50.600Z"
   },
   {
    "duration": 131,
    "start_time": "2023-12-26T11:45:50.605Z"
   },
   {
    "duration": 10,
    "start_time": "2023-12-26T11:45:50.738Z"
   },
   {
    "duration": 10,
    "start_time": "2023-12-26T11:45:50.749Z"
   },
   {
    "duration": 96,
    "start_time": "2023-12-26T11:45:50.761Z"
   },
   {
    "duration": 89,
    "start_time": "2023-12-26T11:45:50.858Z"
   },
   {
    "duration": 14,
    "start_time": "2023-12-26T11:45:50.948Z"
   },
   {
    "duration": 26,
    "start_time": "2023-12-26T11:45:50.964Z"
   },
   {
    "duration": 28,
    "start_time": "2023-12-26T11:45:50.992Z"
   },
   {
    "duration": 10,
    "start_time": "2023-12-26T11:45:51.022Z"
   },
   {
    "duration": 27,
    "start_time": "2023-12-26T11:45:51.035Z"
   },
   {
    "duration": 243,
    "start_time": "2023-12-26T11:45:51.063Z"
   },
   {
    "duration": 34,
    "start_time": "2023-12-26T11:45:51.308Z"
   },
   {
    "duration": 46,
    "start_time": "2023-12-26T11:45:51.343Z"
   },
   {
    "duration": 626,
    "start_time": "2023-12-26T11:45:51.391Z"
   },
   {
    "duration": 40,
    "start_time": "2023-12-26T11:45:52.019Z"
   },
   {
    "duration": 29,
    "start_time": "2023-12-26T11:45:52.061Z"
   },
   {
    "duration": 192,
    "start_time": "2023-12-26T12:10:59.885Z"
   },
   {
    "duration": 11,
    "start_time": "2023-12-26T12:12:44.315Z"
   },
   {
    "duration": 1276,
    "start_time": "2023-12-26T12:12:51.745Z"
   },
   {
    "duration": 183,
    "start_time": "2023-12-26T12:12:53.023Z"
   },
   {
    "duration": 14,
    "start_time": "2023-12-26T12:12:53.208Z"
   },
   {
    "duration": 4,
    "start_time": "2023-12-26T12:12:53.224Z"
   },
   {
    "duration": 111,
    "start_time": "2023-12-26T12:12:53.230Z"
   },
   {
    "duration": 10,
    "start_time": "2023-12-26T12:12:53.343Z"
   },
   {
    "duration": 11,
    "start_time": "2023-12-26T12:12:53.355Z"
   },
   {
    "duration": 98,
    "start_time": "2023-12-26T12:12:53.367Z"
   },
   {
    "duration": 131,
    "start_time": "2023-12-26T12:12:53.467Z"
   },
   {
    "duration": 15,
    "start_time": "2023-12-26T12:12:53.601Z"
   },
   {
    "duration": 22,
    "start_time": "2023-12-26T12:12:53.617Z"
   },
   {
    "duration": 40,
    "start_time": "2023-12-26T12:12:53.640Z"
   },
   {
    "duration": 16,
    "start_time": "2023-12-26T12:12:53.681Z"
   },
   {
    "duration": 34,
    "start_time": "2023-12-26T12:12:53.698Z"
   },
   {
    "duration": 253,
    "start_time": "2023-12-26T12:12:53.734Z"
   },
   {
    "duration": 34,
    "start_time": "2023-12-26T12:12:53.988Z"
   },
   {
    "duration": 31,
    "start_time": "2023-12-26T12:12:54.024Z"
   },
   {
    "duration": 617,
    "start_time": "2023-12-26T12:12:54.057Z"
   },
   {
    "duration": 45,
    "start_time": "2023-12-26T12:12:54.676Z"
   },
   {
    "duration": 13,
    "start_time": "2023-12-26T12:12:54.723Z"
   },
   {
    "duration": 14,
    "start_time": "2023-12-26T12:13:08.623Z"
   },
   {
    "duration": 5,
    "start_time": "2023-12-26T12:14:08.857Z"
   },
   {
    "duration": 4,
    "start_time": "2023-12-26T12:18:49.961Z"
   },
   {
    "duration": 42,
    "start_time": "2023-12-26T12:27:06.693Z"
   },
   {
    "duration": 11,
    "start_time": "2023-12-26T12:27:28.570Z"
   },
   {
    "duration": 16,
    "start_time": "2023-12-27T02:34:35.046Z"
   },
   {
    "duration": 5,
    "start_time": "2023-12-27T02:37:58.196Z"
   },
   {
    "duration": 1231,
    "start_time": "2023-12-27T02:38:12.859Z"
   },
   {
    "duration": 176,
    "start_time": "2023-12-27T02:38:14.092Z"
   },
   {
    "duration": 12,
    "start_time": "2023-12-27T02:38:14.269Z"
   },
   {
    "duration": 5,
    "start_time": "2023-12-27T02:38:14.283Z"
   },
   {
    "duration": 89,
    "start_time": "2023-12-27T02:38:14.289Z"
   },
   {
    "duration": 10,
    "start_time": "2023-12-27T02:38:14.387Z"
   },
   {
    "duration": 21,
    "start_time": "2023-12-27T02:38:14.398Z"
   },
   {
    "duration": 78,
    "start_time": "2023-12-27T02:38:14.420Z"
   },
   {
    "duration": 80,
    "start_time": "2023-12-27T02:38:14.499Z"
   },
   {
    "duration": 14,
    "start_time": "2023-12-27T02:38:14.588Z"
   },
   {
    "duration": 21,
    "start_time": "2023-12-27T02:38:14.604Z"
   },
   {
    "duration": 25,
    "start_time": "2023-12-27T02:38:14.627Z"
   },
   {
    "duration": 11,
    "start_time": "2023-12-27T02:38:14.654Z"
   },
   {
    "duration": 28,
    "start_time": "2023-12-27T02:38:14.688Z"
   },
   {
    "duration": 228,
    "start_time": "2023-12-27T02:38:14.718Z"
   },
   {
    "duration": 44,
    "start_time": "2023-12-27T02:38:14.947Z"
   },
   {
    "duration": 33,
    "start_time": "2023-12-27T02:38:14.992Z"
   },
   {
    "duration": 593,
    "start_time": "2023-12-27T02:38:15.026Z"
   },
   {
    "duration": 40,
    "start_time": "2023-12-27T02:38:15.620Z"
   },
   {
    "duration": 28,
    "start_time": "2023-12-27T02:38:15.661Z"
   },
   {
    "duration": 4,
    "start_time": "2023-12-27T02:38:15.691Z"
   },
   {
    "duration": 10,
    "start_time": "2023-12-27T02:38:15.696Z"
   },
   {
    "duration": 14,
    "start_time": "2023-12-27T02:38:15.708Z"
   },
   {
    "duration": 13,
    "start_time": "2023-12-27T02:38:15.724Z"
   },
   {
    "duration": 7,
    "start_time": "2023-12-27T03:10:34.706Z"
   },
   {
    "duration": 34,
    "start_time": "2023-12-27T03:12:53.903Z"
   },
   {
    "duration": 27,
    "start_time": "2023-12-27T03:41:10.615Z"
   },
   {
    "duration": 27,
    "start_time": "2023-12-27T03:44:23.236Z"
   },
   {
    "duration": 28,
    "start_time": "2023-12-27T03:57:46.832Z"
   },
   {
    "duration": 26,
    "start_time": "2023-12-27T03:58:07.018Z"
   },
   {
    "duration": 29,
    "start_time": "2023-12-27T03:58:19.055Z"
   },
   {
    "duration": 160,
    "start_time": "2023-12-27T04:18:41.578Z"
   },
   {
    "duration": 57,
    "start_time": "2023-12-27T04:19:07.208Z"
   },
   {
    "duration": 55,
    "start_time": "2023-12-27T04:19:25.267Z"
   },
   {
    "duration": 59,
    "start_time": "2023-12-27T04:21:26.031Z"
   },
   {
    "duration": 57,
    "start_time": "2023-12-27T04:21:33.876Z"
   },
   {
    "duration": 60,
    "start_time": "2023-12-27T04:21:55.526Z"
   },
   {
    "duration": 149,
    "start_time": "2023-12-27T04:24:10.684Z"
   },
   {
    "duration": 150,
    "start_time": "2023-12-27T04:24:25.238Z"
   },
   {
    "duration": 9,
    "start_time": "2023-12-27T04:27:28.698Z"
   },
   {
    "duration": 149,
    "start_time": "2023-12-27T04:28:18.805Z"
   },
   {
    "duration": 281,
    "start_time": "2023-12-27T04:29:03.284Z"
   },
   {
    "duration": 645,
    "start_time": "2023-12-27T04:29:17.986Z"
   },
   {
    "duration": 142,
    "start_time": "2023-12-27T04:29:34.541Z"
   },
   {
    "duration": 150,
    "start_time": "2023-12-27T04:29:45.623Z"
   },
   {
    "duration": 138,
    "start_time": "2023-12-27T04:29:54.820Z"
   },
   {
    "duration": 153,
    "start_time": "2023-12-27T04:29:58.141Z"
   },
   {
    "duration": 141,
    "start_time": "2023-12-27T04:30:06.301Z"
   },
   {
    "duration": 141,
    "start_time": "2023-12-27T04:32:57.957Z"
   },
   {
    "duration": 1364,
    "start_time": "2023-12-27T04:34:39.857Z"
   },
   {
    "duration": 210,
    "start_time": "2023-12-27T04:35:05.282Z"
   },
   {
    "duration": 235,
    "start_time": "2023-12-27T04:35:19.291Z"
   },
   {
    "duration": 229,
    "start_time": "2023-12-27T04:35:31.928Z"
   },
   {
    "duration": 211,
    "start_time": "2023-12-27T04:36:24.601Z"
   },
   {
    "duration": 28,
    "start_time": "2023-12-27T04:43:28.179Z"
   },
   {
    "duration": 32,
    "start_time": "2023-12-27T04:43:48.900Z"
   },
   {
    "duration": 75,
    "start_time": "2023-12-27T04:49:46.662Z"
   },
   {
    "duration": 70,
    "start_time": "2023-12-27T04:51:38.587Z"
   },
   {
    "duration": 69,
    "start_time": "2023-12-27T04:51:48.345Z"
   },
   {
    "duration": 10,
    "start_time": "2023-12-27T05:08:40.565Z"
   },
   {
    "duration": 9,
    "start_time": "2023-12-27T05:09:51.167Z"
   },
   {
    "duration": 9,
    "start_time": "2023-12-27T05:10:55.032Z"
   },
   {
    "duration": 1200,
    "start_time": "2023-12-27T05:11:03.667Z"
   },
   {
    "duration": 9,
    "start_time": "2023-12-27T05:11:30.176Z"
   },
   {
    "duration": 1197,
    "start_time": "2023-12-27T05:11:43.757Z"
   },
   {
    "duration": 9,
    "start_time": "2023-12-27T05:12:47.728Z"
   },
   {
    "duration": 8,
    "start_time": "2023-12-27T05:13:10.142Z"
   },
   {
    "duration": 9,
    "start_time": "2023-12-27T05:13:15.874Z"
   },
   {
    "duration": 9,
    "start_time": "2023-12-27T05:13:30.775Z"
   },
   {
    "duration": 1182,
    "start_time": "2023-12-27T05:22:40.024Z"
   },
   {
    "duration": 185,
    "start_time": "2023-12-27T05:22:41.208Z"
   },
   {
    "duration": 13,
    "start_time": "2023-12-27T05:22:41.394Z"
   },
   {
    "duration": 3,
    "start_time": "2023-12-27T05:22:41.409Z"
   },
   {
    "duration": 98,
    "start_time": "2023-12-27T05:22:41.413Z"
   },
   {
    "duration": 9,
    "start_time": "2023-12-27T05:22:41.512Z"
   },
   {
    "duration": 9,
    "start_time": "2023-12-27T05:22:41.522Z"
   },
   {
    "duration": 101,
    "start_time": "2023-12-27T05:22:41.533Z"
   },
   {
    "duration": 84,
    "start_time": "2023-12-27T05:22:41.636Z"
   },
   {
    "duration": 15,
    "start_time": "2023-12-27T05:22:41.724Z"
   },
   {
    "duration": 56,
    "start_time": "2023-12-27T05:22:41.741Z"
   },
   {
    "duration": 49,
    "start_time": "2023-12-27T05:22:41.799Z"
   },
   {
    "duration": 29,
    "start_time": "2023-12-27T05:22:41.850Z"
   },
   {
    "duration": 47,
    "start_time": "2023-12-27T05:22:41.881Z"
   },
   {
    "duration": 220,
    "start_time": "2023-12-27T05:22:41.929Z"
   },
   {
    "duration": 39,
    "start_time": "2023-12-27T05:22:42.151Z"
   },
   {
    "duration": 34,
    "start_time": "2023-12-27T05:22:42.191Z"
   },
   {
    "duration": 607,
    "start_time": "2023-12-27T05:22:42.227Z"
   },
   {
    "duration": 39,
    "start_time": "2023-12-27T05:22:42.835Z"
   },
   {
    "duration": 23,
    "start_time": "2023-12-27T05:22:42.876Z"
   },
   {
    "duration": 6,
    "start_time": "2023-12-27T05:22:42.901Z"
   },
   {
    "duration": 9,
    "start_time": "2023-12-27T05:22:42.908Z"
   },
   {
    "duration": 19,
    "start_time": "2023-12-27T05:22:42.918Z"
   },
   {
    "duration": 13,
    "start_time": "2023-12-27T05:22:42.938Z"
   },
   {
    "duration": 6,
    "start_time": "2023-12-27T05:22:42.952Z"
   },
   {
    "duration": 56,
    "start_time": "2023-12-27T05:22:42.960Z"
   },
   {
    "duration": 28,
    "start_time": "2023-12-27T05:22:43.017Z"
   },
   {
    "duration": 73,
    "start_time": "2023-12-27T05:22:43.048Z"
   },
   {
    "duration": 150,
    "start_time": "2023-12-27T05:22:43.122Z"
   },
   {
    "duration": 37,
    "start_time": "2023-12-27T05:22:43.273Z"
   },
   {
    "duration": 85,
    "start_time": "2023-12-27T05:22:43.312Z"
   },
   {
    "duration": 8,
    "start_time": "2023-12-27T05:22:43.398Z"
   },
   {
    "duration": 6,
    "start_time": "2023-12-27T05:22:51.739Z"
   },
   {
    "duration": 282,
    "start_time": "2023-12-27T05:32:37.409Z"
   },
   {
    "duration": 107,
    "start_time": "2023-12-27T05:33:57.649Z"
   },
   {
    "duration": 75,
    "start_time": "2023-12-27T05:35:09.096Z"
   },
   {
    "duration": 39,
    "start_time": "2023-12-27T05:36:16.901Z"
   },
   {
    "duration": 71,
    "start_time": "2023-12-27T05:36:21.678Z"
   },
   {
    "duration": 249,
    "start_time": "2023-12-27T09:44:53.972Z"
   },
   {
    "duration": 5,
    "start_time": "2023-12-27T09:45:22.094Z"
   },
   {
    "duration": 647,
    "start_time": "2023-12-27T09:47:10.656Z"
   },
   {
    "duration": 270,
    "start_time": "2023-12-27T09:47:37.024Z"
   },
   {
    "duration": 262,
    "start_time": "2023-12-27T09:47:53.245Z"
   },
   {
    "duration": 254,
    "start_time": "2023-12-27T09:48:35.780Z"
   },
   {
    "duration": 263,
    "start_time": "2023-12-27T09:49:25.618Z"
   },
   {
    "duration": 5,
    "start_time": "2023-12-27T09:54:23.825Z"
   },
   {
    "duration": 11,
    "start_time": "2023-12-27T09:56:28.535Z"
   },
   {
    "duration": 1235,
    "start_time": "2023-12-27T09:57:18.577Z"
   },
   {
    "duration": 185,
    "start_time": "2023-12-27T09:57:19.814Z"
   },
   {
    "duration": 14,
    "start_time": "2023-12-27T09:57:20.001Z"
   },
   {
    "duration": 23,
    "start_time": "2023-12-27T09:57:20.017Z"
   },
   {
    "duration": 93,
    "start_time": "2023-12-27T09:57:20.042Z"
   },
   {
    "duration": 9,
    "start_time": "2023-12-27T09:57:20.137Z"
   },
   {
    "duration": 10,
    "start_time": "2023-12-27T09:57:20.147Z"
   },
   {
    "duration": 94,
    "start_time": "2023-12-27T09:57:20.159Z"
   },
   {
    "duration": 93,
    "start_time": "2023-12-27T09:57:20.254Z"
   },
   {
    "duration": 14,
    "start_time": "2023-12-27T09:57:20.350Z"
   },
   {
    "duration": 31,
    "start_time": "2023-12-27T09:57:20.366Z"
   },
   {
    "duration": 28,
    "start_time": "2023-12-27T09:57:20.399Z"
   },
   {
    "duration": 17,
    "start_time": "2023-12-27T09:57:20.428Z"
   },
   {
    "duration": 41,
    "start_time": "2023-12-27T09:57:20.448Z"
   },
   {
    "duration": 226,
    "start_time": "2023-12-27T09:57:20.491Z"
   },
   {
    "duration": 33,
    "start_time": "2023-12-27T09:57:20.719Z"
   },
   {
    "duration": 42,
    "start_time": "2023-12-27T09:57:20.754Z"
   },
   {
    "duration": 614,
    "start_time": "2023-12-27T09:57:20.797Z"
   },
   {
    "duration": 44,
    "start_time": "2023-12-27T09:57:21.413Z"
   },
   {
    "duration": 13,
    "start_time": "2023-12-27T09:57:21.459Z"
   },
   {
    "duration": 22,
    "start_time": "2023-12-27T09:57:21.496Z"
   },
   {
    "duration": 39,
    "start_time": "2023-12-27T09:57:21.520Z"
   },
   {
    "duration": 37,
    "start_time": "2023-12-27T09:57:21.561Z"
   },
   {
    "duration": 24,
    "start_time": "2023-12-27T09:57:21.600Z"
   },
   {
    "duration": 41,
    "start_time": "2023-12-27T09:57:21.626Z"
   },
   {
    "duration": 65,
    "start_time": "2023-12-27T09:57:21.669Z"
   },
   {
    "duration": 32,
    "start_time": "2023-12-27T09:57:21.735Z"
   },
   {
    "duration": 95,
    "start_time": "2023-12-27T09:57:21.769Z"
   },
   {
    "duration": 157,
    "start_time": "2023-12-27T09:57:21.865Z"
   },
   {
    "duration": 28,
    "start_time": "2023-12-27T09:57:22.024Z"
   },
   {
    "duration": 203,
    "start_time": "2023-12-27T09:57:22.054Z"
   },
   {
    "duration": 99,
    "start_time": "2023-12-27T09:57:22.258Z"
   },
   {
    "duration": 20,
    "start_time": "2023-12-27T09:57:22.359Z"
   },
   {
    "duration": 292,
    "start_time": "2023-12-27T09:57:22.381Z"
   },
   {
    "duration": 5,
    "start_time": "2023-12-27T09:57:22.675Z"
   },
   {
    "duration": 24,
    "start_time": "2023-12-27T09:57:22.681Z"
   },
   {
    "duration": 1418,
    "start_time": "2023-12-27T09:57:22.707Z"
   },
   {
    "duration": 0,
    "start_time": "2023-12-27T09:57:24.126Z"
   },
   {
    "duration": 6,
    "start_time": "2023-12-27T09:57:57.956Z"
   },
   {
    "duration": 1292,
    "start_time": "2023-12-27T09:58:03.273Z"
   },
   {
    "duration": 3,
    "start_time": "2023-12-27T10:01:26.416Z"
   },
   {
    "duration": 6,
    "start_time": "2023-12-27T10:01:32.194Z"
   },
   {
    "duration": 57,
    "start_time": "2023-12-27T10:01:49.401Z"
   },
   {
    "duration": 1229,
    "start_time": "2023-12-27T10:02:44.697Z"
   },
   {
    "duration": 181,
    "start_time": "2023-12-27T10:02:45.928Z"
   },
   {
    "duration": 14,
    "start_time": "2023-12-27T10:02:46.110Z"
   },
   {
    "duration": 12,
    "start_time": "2023-12-27T10:02:46.125Z"
   },
   {
    "duration": 101,
    "start_time": "2023-12-27T10:02:46.139Z"
   },
   {
    "duration": 9,
    "start_time": "2023-12-27T10:02:46.241Z"
   },
   {
    "duration": 13,
    "start_time": "2023-12-27T10:02:46.251Z"
   },
   {
    "duration": 100,
    "start_time": "2023-12-27T10:02:46.266Z"
   },
   {
    "duration": 88,
    "start_time": "2023-12-27T10:02:46.368Z"
   },
   {
    "duration": 15,
    "start_time": "2023-12-27T10:02:46.457Z"
   },
   {
    "duration": 35,
    "start_time": "2023-12-27T10:02:46.473Z"
   },
   {
    "duration": 48,
    "start_time": "2023-12-27T10:02:46.509Z"
   },
   {
    "duration": 13,
    "start_time": "2023-12-27T10:02:46.558Z"
   },
   {
    "duration": 36,
    "start_time": "2023-12-27T10:02:46.574Z"
   },
   {
    "duration": 219,
    "start_time": "2023-12-27T10:02:46.612Z"
   },
   {
    "duration": 34,
    "start_time": "2023-12-27T10:02:46.832Z"
   },
   {
    "duration": 46,
    "start_time": "2023-12-27T10:02:46.868Z"
   },
   {
    "duration": 637,
    "start_time": "2023-12-27T10:02:46.915Z"
   },
   {
    "duration": 47,
    "start_time": "2023-12-27T10:02:47.554Z"
   },
   {
    "duration": 14,
    "start_time": "2023-12-27T10:02:47.603Z"
   },
   {
    "duration": 29,
    "start_time": "2023-12-27T10:02:47.619Z"
   },
   {
    "duration": 28,
    "start_time": "2023-12-27T10:02:47.649Z"
   },
   {
    "duration": 42,
    "start_time": "2023-12-27T10:02:47.678Z"
   },
   {
    "duration": 14,
    "start_time": "2023-12-27T10:02:47.722Z"
   },
   {
    "duration": 7,
    "start_time": "2023-12-27T10:02:47.737Z"
   },
   {
    "duration": 33,
    "start_time": "2023-12-27T10:02:47.745Z"
   },
   {
    "duration": 33,
    "start_time": "2023-12-27T10:02:47.780Z"
   },
   {
    "duration": 68,
    "start_time": "2023-12-27T10:02:47.815Z"
   },
   {
    "duration": 163,
    "start_time": "2023-12-27T10:02:47.889Z"
   },
   {
    "duration": 35,
    "start_time": "2023-12-27T10:02:48.054Z"
   },
   {
    "duration": 100,
    "start_time": "2023-12-27T10:02:48.091Z"
   },
   {
    "duration": 9,
    "start_time": "2023-12-27T10:02:48.192Z"
   },
   {
    "duration": 13,
    "start_time": "2023-12-27T10:02:48.203Z"
   },
   {
    "duration": 302,
    "start_time": "2023-12-27T10:02:48.218Z"
   },
   {
    "duration": 3,
    "start_time": "2023-12-27T10:02:48.521Z"
   },
   {
    "duration": 47,
    "start_time": "2023-12-27T10:02:48.526Z"
   },
   {
    "duration": 206,
    "start_time": "2023-12-27T10:02:48.574Z"
   },
   {
    "duration": 7,
    "start_time": "2023-12-27T10:02:48.782Z"
   },
   {
    "duration": 8,
    "start_time": "2023-12-27T10:02:48.790Z"
   },
   {
    "duration": 1454,
    "start_time": "2023-12-27T10:02:48.799Z"
   },
   {
    "duration": 0,
    "start_time": "2023-12-27T10:02:50.255Z"
   },
   {
    "duration": 165,
    "start_time": "2023-12-27T10:03:22.557Z"
   },
   {
    "duration": 6,
    "start_time": "2023-12-27T10:05:37.932Z"
   },
   {
    "duration": 155,
    "start_time": "2023-12-27T10:05:39.409Z"
   },
   {
    "duration": 164,
    "start_time": "2023-12-27T10:09:58.350Z"
   },
   {
    "duration": 160,
    "start_time": "2023-12-27T10:13:01.126Z"
   },
   {
    "duration": 158,
    "start_time": "2023-12-27T10:13:05.842Z"
   },
   {
    "duration": 263,
    "start_time": "2023-12-27T10:20:06.179Z"
   },
   {
    "duration": 3,
    "start_time": "2023-12-27T10:28:28.754Z"
   },
   {
    "duration": 162,
    "start_time": "2023-12-27T10:29:17.991Z"
   },
   {
    "duration": 167,
    "start_time": "2023-12-27T10:29:33.985Z"
   },
   {
    "duration": 3,
    "start_time": "2023-12-27T10:40:32.032Z"
   },
   {
    "duration": 3,
    "start_time": "2023-12-27T10:43:20.323Z"
   },
   {
    "duration": 162,
    "start_time": "2023-12-27T10:43:21.284Z"
   },
   {
    "duration": 1229,
    "start_time": "2023-12-27T10:45:57.178Z"
   },
   {
    "duration": 187,
    "start_time": "2023-12-27T10:45:58.408Z"
   },
   {
    "duration": 12,
    "start_time": "2023-12-27T10:45:58.597Z"
   },
   {
    "duration": 70,
    "start_time": "2023-12-27T10:45:58.611Z"
   },
   {
    "duration": 139,
    "start_time": "2023-12-27T10:45:58.683Z"
   },
   {
    "duration": 9,
    "start_time": "2023-12-27T10:45:58.823Z"
   },
   {
    "duration": 50,
    "start_time": "2023-12-27T10:45:58.833Z"
   },
   {
    "duration": 186,
    "start_time": "2023-12-27T10:45:58.885Z"
   },
   {
    "duration": 91,
    "start_time": "2023-12-27T10:45:59.072Z"
   },
   {
    "duration": 14,
    "start_time": "2023-12-27T10:45:59.166Z"
   },
   {
    "duration": 33,
    "start_time": "2023-12-27T10:45:59.189Z"
   },
   {
    "duration": 39,
    "start_time": "2023-12-27T10:45:59.223Z"
   },
   {
    "duration": 78,
    "start_time": "2023-12-27T10:45:59.263Z"
   },
   {
    "duration": 76,
    "start_time": "2023-12-27T10:45:59.343Z"
   },
   {
    "duration": 232,
    "start_time": "2023-12-27T10:45:59.421Z"
   },
   {
    "duration": 35,
    "start_time": "2023-12-27T10:45:59.654Z"
   },
   {
    "duration": 37,
    "start_time": "2023-12-27T10:45:59.691Z"
   },
   {
    "duration": 618,
    "start_time": "2023-12-27T10:45:59.730Z"
   },
   {
    "duration": 46,
    "start_time": "2023-12-27T10:46:00.350Z"
   },
   {
    "duration": 141,
    "start_time": "2023-12-27T10:46:00.397Z"
   },
   {
    "duration": 127,
    "start_time": "2023-12-27T10:46:00.540Z"
   },
   {
    "duration": 147,
    "start_time": "2023-12-27T10:46:00.669Z"
   },
   {
    "duration": 106,
    "start_time": "2023-12-27T10:46:00.818Z"
   },
   {
    "duration": 45,
    "start_time": "2023-12-27T10:46:00.925Z"
   },
   {
    "duration": 135,
    "start_time": "2023-12-27T10:46:00.972Z"
   },
   {
    "duration": 178,
    "start_time": "2023-12-27T10:46:01.109Z"
   },
   {
    "duration": 43,
    "start_time": "2023-12-27T10:46:01.289Z"
   },
   {
    "duration": 133,
    "start_time": "2023-12-27T10:46:01.335Z"
   },
   {
    "duration": 173,
    "start_time": "2023-12-27T10:46:01.469Z"
   },
   {
    "duration": 27,
    "start_time": "2023-12-27T10:46:01.643Z"
   },
   {
    "duration": 236,
    "start_time": "2023-12-27T10:46:01.672Z"
   },
   {
    "duration": 61,
    "start_time": "2023-12-27T10:46:01.910Z"
   },
   {
    "duration": 56,
    "start_time": "2023-12-27T10:46:01.972Z"
   },
   {
    "duration": 325,
    "start_time": "2023-12-27T10:46:02.030Z"
   },
   {
    "duration": 3,
    "start_time": "2023-12-27T10:46:02.356Z"
   },
   {
    "duration": 25,
    "start_time": "2023-12-27T10:46:02.360Z"
   },
   {
    "duration": 124,
    "start_time": "2023-12-27T10:46:02.388Z"
   },
   {
    "duration": 0,
    "start_time": "2023-12-27T10:46:02.513Z"
   },
   {
    "duration": 0,
    "start_time": "2023-12-27T10:46:02.514Z"
   },
   {
    "duration": 0,
    "start_time": "2023-12-27T10:46:02.515Z"
   },
   {
    "duration": 1174,
    "start_time": "2023-12-27T10:46:45.544Z"
   },
   {
    "duration": 192,
    "start_time": "2023-12-27T10:46:46.719Z"
   },
   {
    "duration": 13,
    "start_time": "2023-12-27T10:46:46.913Z"
   },
   {
    "duration": 43,
    "start_time": "2023-12-27T10:46:46.928Z"
   },
   {
    "duration": 91,
    "start_time": "2023-12-27T10:46:46.973Z"
   },
   {
    "duration": 10,
    "start_time": "2023-12-27T10:46:47.066Z"
   },
   {
    "duration": 17,
    "start_time": "2023-12-27T10:46:47.077Z"
   },
   {
    "duration": 82,
    "start_time": "2023-12-27T10:46:47.096Z"
   },
   {
    "duration": 92,
    "start_time": "2023-12-27T10:46:47.179Z"
   },
   {
    "duration": 14,
    "start_time": "2023-12-27T10:46:47.288Z"
   },
   {
    "duration": 15,
    "start_time": "2023-12-27T10:46:47.303Z"
   },
   {
    "duration": 35,
    "start_time": "2023-12-27T10:46:47.319Z"
   },
   {
    "duration": 21,
    "start_time": "2023-12-27T10:46:47.356Z"
   },
   {
    "duration": 35,
    "start_time": "2023-12-27T10:46:47.379Z"
   },
   {
    "duration": 231,
    "start_time": "2023-12-27T10:46:47.415Z"
   },
   {
    "duration": 46,
    "start_time": "2023-12-27T10:46:47.648Z"
   },
   {
    "duration": 41,
    "start_time": "2023-12-27T10:46:47.696Z"
   },
   {
    "duration": 738,
    "start_time": "2023-12-27T10:46:47.740Z"
   },
   {
    "duration": 46,
    "start_time": "2023-12-27T10:46:48.480Z"
   },
   {
    "duration": 14,
    "start_time": "2023-12-27T10:46:48.528Z"
   },
   {
    "duration": 25,
    "start_time": "2023-12-27T10:46:48.544Z"
   },
   {
    "duration": 41,
    "start_time": "2023-12-27T10:46:48.571Z"
   },
   {
    "duration": 29,
    "start_time": "2023-12-27T10:46:48.614Z"
   },
   {
    "duration": 36,
    "start_time": "2023-12-27T10:46:48.645Z"
   },
   {
    "duration": 57,
    "start_time": "2023-12-27T10:46:48.683Z"
   },
   {
    "duration": 68,
    "start_time": "2023-12-27T10:46:48.742Z"
   },
   {
    "duration": 30,
    "start_time": "2023-12-27T10:46:48.812Z"
   },
   {
    "duration": 72,
    "start_time": "2023-12-27T10:46:48.845Z"
   },
   {
    "duration": 180,
    "start_time": "2023-12-27T10:46:48.919Z"
   },
   {
    "duration": 27,
    "start_time": "2023-12-27T10:46:49.100Z"
   },
   {
    "duration": 124,
    "start_time": "2023-12-27T10:46:49.129Z"
   },
   {
    "duration": 9,
    "start_time": "2023-12-27T10:46:49.255Z"
   },
   {
    "duration": 13,
    "start_time": "2023-12-27T10:46:49.265Z"
   },
   {
    "duration": 309,
    "start_time": "2023-12-27T10:46:49.280Z"
   },
   {
    "duration": 3,
    "start_time": "2023-12-27T10:46:49.590Z"
   },
   {
    "duration": 24,
    "start_time": "2023-12-27T10:46:49.594Z"
   },
   {
    "duration": 23,
    "start_time": "2023-12-27T10:46:49.620Z"
   },
   {
    "duration": 190,
    "start_time": "2023-12-27T10:46:49.644Z"
   },
   {
    "duration": 2,
    "start_time": "2023-12-27T10:46:49.836Z"
   },
   {
    "duration": 181,
    "start_time": "2023-12-27T10:46:49.839Z"
   },
   {
    "duration": 3,
    "start_time": "2023-12-27T10:46:50.022Z"
   },
   {
    "duration": 161,
    "start_time": "2023-12-27T10:47:05.203Z"
   },
   {
    "duration": 3,
    "start_time": "2023-12-27T10:48:56.923Z"
   },
   {
    "duration": 196,
    "start_time": "2023-12-27T10:49:06.437Z"
   },
   {
    "duration": 1234,
    "start_time": "2023-12-27T10:50:27.246Z"
   },
   {
    "duration": 184,
    "start_time": "2023-12-27T10:50:28.482Z"
   },
   {
    "duration": 14,
    "start_time": "2023-12-27T10:50:28.668Z"
   },
   {
    "duration": 10,
    "start_time": "2023-12-27T10:50:28.690Z"
   },
   {
    "duration": 136,
    "start_time": "2023-12-27T10:50:28.702Z"
   },
   {
    "duration": 10,
    "start_time": "2023-12-27T10:50:28.840Z"
   },
   {
    "duration": 22,
    "start_time": "2023-12-27T10:50:28.851Z"
   },
   {
    "duration": 110,
    "start_time": "2023-12-27T10:50:28.875Z"
   },
   {
    "duration": 102,
    "start_time": "2023-12-27T10:50:28.987Z"
   },
   {
    "duration": 15,
    "start_time": "2023-12-27T10:50:29.092Z"
   },
   {
    "duration": 42,
    "start_time": "2023-12-27T10:50:29.108Z"
   },
   {
    "duration": 29,
    "start_time": "2023-12-27T10:50:29.152Z"
   },
   {
    "duration": 17,
    "start_time": "2023-12-27T10:50:29.182Z"
   },
   {
    "duration": 36,
    "start_time": "2023-12-27T10:50:29.201Z"
   },
   {
    "duration": 252,
    "start_time": "2023-12-27T10:50:29.239Z"
   },
   {
    "duration": 35,
    "start_time": "2023-12-27T10:50:29.493Z"
   },
   {
    "duration": 47,
    "start_time": "2023-12-27T10:50:29.529Z"
   },
   {
    "duration": 664,
    "start_time": "2023-12-27T10:50:29.578Z"
   },
   {
    "duration": 45,
    "start_time": "2023-12-27T10:50:30.243Z"
   },
   {
    "duration": 81,
    "start_time": "2023-12-27T10:50:30.290Z"
   },
   {
    "duration": 111,
    "start_time": "2023-12-27T10:50:30.373Z"
   },
   {
    "duration": 173,
    "start_time": "2023-12-27T10:50:30.486Z"
   },
   {
    "duration": 223,
    "start_time": "2023-12-27T10:50:30.662Z"
   },
   {
    "duration": 181,
    "start_time": "2023-12-27T10:50:30.887Z"
   },
   {
    "duration": 137,
    "start_time": "2023-12-27T10:50:31.070Z"
   },
   {
    "duration": 150,
    "start_time": "2023-12-27T10:50:31.209Z"
   },
   {
    "duration": 78,
    "start_time": "2023-12-27T10:50:31.360Z"
   },
   {
    "duration": 253,
    "start_time": "2023-12-27T10:50:31.442Z"
   },
   {
    "duration": 581,
    "start_time": "2023-12-27T10:50:31.696Z"
   },
   {
    "duration": 30,
    "start_time": "2023-12-27T10:50:32.279Z"
   },
   {
    "duration": 102,
    "start_time": "2023-12-27T10:50:32.311Z"
   },
   {
    "duration": 9,
    "start_time": "2023-12-27T10:50:32.414Z"
   },
   {
    "duration": 66,
    "start_time": "2023-12-27T10:50:32.424Z"
   },
   {
    "duration": 314,
    "start_time": "2023-12-27T10:50:32.492Z"
   },
   {
    "duration": 3,
    "start_time": "2023-12-27T10:50:32.807Z"
   },
   {
    "duration": 76,
    "start_time": "2023-12-27T10:50:32.811Z"
   },
   {
    "duration": 51,
    "start_time": "2023-12-27T10:50:32.889Z"
   },
   {
    "duration": 216,
    "start_time": "2023-12-27T10:50:32.941Z"
   },
   {
    "duration": 2,
    "start_time": "2023-12-27T10:50:33.159Z"
   },
   {
    "duration": 207,
    "start_time": "2023-12-27T10:50:33.163Z"
   },
   {
    "duration": 3,
    "start_time": "2023-12-27T10:50:33.371Z"
   },
   {
    "duration": 204,
    "start_time": "2023-12-27T10:50:33.375Z"
   },
   {
    "duration": 7,
    "start_time": "2023-12-27T10:50:33.581Z"
   },
   {
    "duration": 386,
    "start_time": "2023-12-27T10:50:33.590Z"
   },
   {
    "duration": 288,
    "start_time": "2023-12-27T12:49:21.981Z"
   },
   {
    "duration": 281,
    "start_time": "2023-12-27T12:51:43.473Z"
   },
   {
    "duration": 266,
    "start_time": "2023-12-27T12:51:54.472Z"
   },
   {
    "duration": 259,
    "start_time": "2023-12-27T12:53:11.074Z"
   },
   {
    "duration": 270,
    "start_time": "2023-12-27T12:53:22.720Z"
   },
   {
    "duration": 270,
    "start_time": "2023-12-27T12:53:39.265Z"
   },
   {
    "duration": 1859,
    "start_time": "2023-12-27T13:01:28.325Z"
   },
   {
    "duration": 261,
    "start_time": "2023-12-27T13:01:45.741Z"
   },
   {
    "duration": 1459,
    "start_time": "2023-12-27T13:01:57.774Z"
   },
   {
    "duration": 256,
    "start_time": "2023-12-27T13:02:14.328Z"
   },
   {
    "duration": 275,
    "start_time": "2023-12-27T13:02:20.171Z"
   },
   {
    "duration": 274,
    "start_time": "2023-12-27T13:02:48.027Z"
   },
   {
    "duration": 283,
    "start_time": "2023-12-27T13:03:19.556Z"
   },
   {
    "duration": 267,
    "start_time": "2023-12-27T13:05:11.538Z"
   },
   {
    "duration": 259,
    "start_time": "2023-12-27T13:05:20.272Z"
   },
   {
    "duration": 263,
    "start_time": "2023-12-27T13:05:29.110Z"
   },
   {
    "duration": 261,
    "start_time": "2023-12-27T13:05:49.423Z"
   },
   {
    "duration": 266,
    "start_time": "2023-12-27T13:06:20.988Z"
   },
   {
    "duration": 75,
    "start_time": "2023-12-27T13:06:26.688Z"
   },
   {
    "duration": 270,
    "start_time": "2023-12-27T13:06:30.714Z"
   },
   {
    "duration": 10,
    "start_time": "2023-12-28T02:36:06.072Z"
   },
   {
    "duration": 7,
    "start_time": "2023-12-28T02:36:44.077Z"
   },
   {
    "duration": 7,
    "start_time": "2023-12-28T02:36:52.445Z"
   },
   {
    "duration": 1215,
    "start_time": "2023-12-28T02:37:35.873Z"
   },
   {
    "duration": 212,
    "start_time": "2023-12-28T02:37:37.090Z"
   },
   {
    "duration": 12,
    "start_time": "2023-12-28T02:37:37.304Z"
   },
   {
    "duration": 15,
    "start_time": "2023-12-28T02:37:37.317Z"
   },
   {
    "duration": 95,
    "start_time": "2023-12-28T02:37:37.334Z"
   },
   {
    "duration": 8,
    "start_time": "2023-12-28T02:37:37.431Z"
   },
   {
    "duration": 11,
    "start_time": "2023-12-28T02:37:37.440Z"
   },
   {
    "duration": 89,
    "start_time": "2023-12-28T02:37:37.453Z"
   },
   {
    "duration": 91,
    "start_time": "2023-12-28T02:37:37.544Z"
   },
   {
    "duration": 13,
    "start_time": "2023-12-28T02:37:37.637Z"
   },
   {
    "duration": 40,
    "start_time": "2023-12-28T02:37:37.652Z"
   },
   {
    "duration": 14,
    "start_time": "2023-12-28T02:37:37.693Z"
   },
   {
    "duration": 31,
    "start_time": "2023-12-28T02:37:37.708Z"
   },
   {
    "duration": 8,
    "start_time": "2023-12-28T02:37:37.742Z"
   },
   {
    "duration": 53,
    "start_time": "2023-12-28T02:37:37.752Z"
   },
   {
    "duration": 228,
    "start_time": "2023-12-28T02:37:37.807Z"
   },
   {
    "duration": 33,
    "start_time": "2023-12-28T02:37:38.036Z"
   },
   {
    "duration": 40,
    "start_time": "2023-12-28T02:37:38.071Z"
   },
   {
    "duration": 576,
    "start_time": "2023-12-28T02:37:38.112Z"
   },
   {
    "duration": 32,
    "start_time": "2023-12-28T02:37:38.690Z"
   },
   {
    "duration": 13,
    "start_time": "2023-12-28T02:37:38.723Z"
   },
   {
    "duration": 13,
    "start_time": "2023-12-28T02:37:38.738Z"
   },
   {
    "duration": 6,
    "start_time": "2023-12-28T02:37:38.753Z"
   },
   {
    "duration": 38,
    "start_time": "2023-12-28T02:37:38.761Z"
   },
   {
    "duration": 13,
    "start_time": "2023-12-28T02:37:38.800Z"
   },
   {
    "duration": 25,
    "start_time": "2023-12-28T02:37:38.814Z"
   },
   {
    "duration": 37,
    "start_time": "2023-12-28T02:37:38.840Z"
   },
   {
    "duration": 28,
    "start_time": "2023-12-28T02:37:38.878Z"
   },
   {
    "duration": 74,
    "start_time": "2023-12-28T02:37:38.908Z"
   },
   {
    "duration": 156,
    "start_time": "2023-12-28T02:37:38.988Z"
   },
   {
    "duration": 25,
    "start_time": "2023-12-28T02:37:39.145Z"
   },
   {
    "duration": 93,
    "start_time": "2023-12-28T02:37:39.171Z"
   },
   {
    "duration": 8,
    "start_time": "2023-12-28T02:37:39.266Z"
   },
   {
    "duration": 17,
    "start_time": "2023-12-28T02:37:39.275Z"
   },
   {
    "duration": 285,
    "start_time": "2023-12-28T02:37:39.293Z"
   },
   {
    "duration": 9,
    "start_time": "2023-12-28T02:37:39.579Z"
   },
   {
    "duration": 6,
    "start_time": "2023-12-28T02:37:39.589Z"
   },
   {
    "duration": 5,
    "start_time": "2023-12-28T02:37:39.597Z"
   },
   {
    "duration": 169,
    "start_time": "2023-12-28T02:37:39.603Z"
   },
   {
    "duration": 2,
    "start_time": "2023-12-28T02:37:39.774Z"
   },
   {
    "duration": 173,
    "start_time": "2023-12-28T02:37:39.787Z"
   },
   {
    "duration": 3,
    "start_time": "2023-12-28T02:37:39.962Z"
   },
   {
    "duration": 184,
    "start_time": "2023-12-28T02:37:39.966Z"
   },
   {
    "duration": 3,
    "start_time": "2023-12-28T02:37:40.152Z"
   },
   {
    "duration": 208,
    "start_time": "2023-12-28T02:37:40.156Z"
   },
   {
    "duration": 132,
    "start_time": "2023-12-28T03:08:06.295Z"
   },
   {
    "duration": 538,
    "start_time": "2023-12-28T03:08:43.221Z"
   },
   {
    "duration": 1222,
    "start_time": "2023-12-28T03:08:48.976Z"
   },
   {
    "duration": 177,
    "start_time": "2023-12-28T03:08:50.200Z"
   },
   {
    "duration": 14,
    "start_time": "2023-12-28T03:08:50.378Z"
   },
   {
    "duration": 19,
    "start_time": "2023-12-28T03:08:50.394Z"
   },
   {
    "duration": 102,
    "start_time": "2023-12-28T03:08:50.415Z"
   },
   {
    "duration": 8,
    "start_time": "2023-12-28T03:08:50.518Z"
   },
   {
    "duration": 25,
    "start_time": "2023-12-28T03:08:50.527Z"
   },
   {
    "duration": 87,
    "start_time": "2023-12-28T03:08:50.554Z"
   },
   {
    "duration": 89,
    "start_time": "2023-12-28T03:08:50.643Z"
   },
   {
    "duration": 13,
    "start_time": "2023-12-28T03:08:50.734Z"
   },
   {
    "duration": 43,
    "start_time": "2023-12-28T03:08:50.748Z"
   },
   {
    "duration": 13,
    "start_time": "2023-12-28T03:08:50.793Z"
   },
   {
    "duration": 27,
    "start_time": "2023-12-28T03:08:50.807Z"
   },
   {
    "duration": 8,
    "start_time": "2023-12-28T03:08:50.835Z"
   },
   {
    "duration": 49,
    "start_time": "2023-12-28T03:08:50.844Z"
   },
   {
    "duration": 215,
    "start_time": "2023-12-28T03:08:50.894Z"
   },
   {
    "duration": 33,
    "start_time": "2023-12-28T03:08:51.110Z"
   },
   {
    "duration": 32,
    "start_time": "2023-12-28T03:08:51.144Z"
   },
   {
    "duration": 622,
    "start_time": "2023-12-28T03:08:51.189Z"
   },
   {
    "duration": 32,
    "start_time": "2023-12-28T03:08:51.813Z"
   },
   {
    "duration": 13,
    "start_time": "2023-12-28T03:08:51.847Z"
   },
   {
    "duration": 27,
    "start_time": "2023-12-28T03:08:51.862Z"
   },
   {
    "duration": 5,
    "start_time": "2023-12-28T03:08:51.891Z"
   },
   {
    "duration": 13,
    "start_time": "2023-12-28T03:08:51.898Z"
   },
   {
    "duration": 13,
    "start_time": "2023-12-28T03:08:51.913Z"
   },
   {
    "duration": 7,
    "start_time": "2023-12-28T03:08:51.927Z"
   },
   {
    "duration": 72,
    "start_time": "2023-12-28T03:08:51.935Z"
   },
   {
    "duration": 28,
    "start_time": "2023-12-28T03:08:52.011Z"
   },
   {
    "duration": 71,
    "start_time": "2023-12-28T03:08:52.040Z"
   },
   {
    "duration": 155,
    "start_time": "2023-12-28T03:08:52.113Z"
   },
   {
    "duration": 41,
    "start_time": "2023-12-28T03:08:52.270Z"
   },
   {
    "duration": 88,
    "start_time": "2023-12-28T03:08:52.313Z"
   },
   {
    "duration": 9,
    "start_time": "2023-12-28T03:08:52.403Z"
   },
   {
    "duration": 9,
    "start_time": "2023-12-28T03:08:52.413Z"
   },
   {
    "duration": 291,
    "start_time": "2023-12-28T03:08:52.424Z"
   },
   {
    "duration": 2,
    "start_time": "2023-12-28T03:08:52.717Z"
   },
   {
    "duration": 12,
    "start_time": "2023-12-28T03:08:52.720Z"
   },
   {
    "duration": 5,
    "start_time": "2023-12-28T03:08:52.733Z"
   },
   {
    "duration": 170,
    "start_time": "2023-12-28T03:08:52.740Z"
   },
   {
    "duration": 2,
    "start_time": "2023-12-28T03:08:52.911Z"
   },
   {
    "duration": 178,
    "start_time": "2023-12-28T03:08:52.915Z"
   },
   {
    "duration": 2,
    "start_time": "2023-12-28T03:08:53.095Z"
   },
   {
    "duration": 171,
    "start_time": "2023-12-28T03:08:53.098Z"
   },
   {
    "duration": 3,
    "start_time": "2023-12-28T03:08:53.270Z"
   },
   {
    "duration": 207,
    "start_time": "2023-12-28T03:08:53.274Z"
   },
   {
    "duration": 516,
    "start_time": "2023-12-28T03:11:11.957Z"
   },
   {
    "duration": 29,
    "start_time": "2023-12-28T03:12:39.911Z"
   },
   {
    "duration": 1161,
    "start_time": "2023-12-28T03:14:28.553Z"
   },
   {
    "duration": 188,
    "start_time": "2023-12-28T03:14:29.717Z"
   },
   {
    "duration": 14,
    "start_time": "2023-12-28T03:14:29.907Z"
   },
   {
    "duration": 4,
    "start_time": "2023-12-28T03:14:29.923Z"
   },
   {
    "duration": 110,
    "start_time": "2023-12-28T03:14:29.929Z"
   },
   {
    "duration": 9,
    "start_time": "2023-12-28T03:14:30.041Z"
   },
   {
    "duration": 46,
    "start_time": "2023-12-28T03:14:30.051Z"
   },
   {
    "duration": 98,
    "start_time": "2023-12-28T03:14:30.098Z"
   },
   {
    "duration": 83,
    "start_time": "2023-12-28T03:14:30.198Z"
   },
   {
    "duration": 14,
    "start_time": "2023-12-28T03:14:30.287Z"
   },
   {
    "duration": 58,
    "start_time": "2023-12-28T03:14:30.302Z"
   },
   {
    "duration": 34,
    "start_time": "2023-12-28T03:14:30.361Z"
   },
   {
    "duration": 97,
    "start_time": "2023-12-28T03:14:30.397Z"
   },
   {
    "duration": 51,
    "start_time": "2023-12-28T03:14:30.497Z"
   },
   {
    "duration": 80,
    "start_time": "2023-12-28T03:14:30.549Z"
   },
   {
    "duration": 247,
    "start_time": "2023-12-28T03:14:30.631Z"
   },
   {
    "duration": 35,
    "start_time": "2023-12-28T03:14:30.880Z"
   },
   {
    "duration": 147,
    "start_time": "2023-12-28T03:14:30.917Z"
   },
   {
    "duration": 686,
    "start_time": "2023-12-28T03:14:31.066Z"
   },
   {
    "duration": 41,
    "start_time": "2023-12-28T03:14:31.754Z"
   },
   {
    "duration": 60,
    "start_time": "2023-12-28T03:14:31.796Z"
   },
   {
    "duration": 119,
    "start_time": "2023-12-28T03:14:31.857Z"
   },
   {
    "duration": 62,
    "start_time": "2023-12-28T03:14:31.977Z"
   },
   {
    "duration": 64,
    "start_time": "2023-12-28T03:14:32.041Z"
   },
   {
    "duration": 61,
    "start_time": "2023-12-28T03:14:32.107Z"
   },
   {
    "duration": 75,
    "start_time": "2023-12-28T03:14:32.170Z"
   },
   {
    "duration": 53,
    "start_time": "2023-12-28T03:14:32.246Z"
   },
   {
    "duration": 29,
    "start_time": "2023-12-28T03:14:32.301Z"
   },
   {
    "duration": 100,
    "start_time": "2023-12-28T03:14:32.331Z"
   },
   {
    "duration": 162,
    "start_time": "2023-12-28T03:14:32.433Z"
   },
   {
    "duration": 29,
    "start_time": "2023-12-28T03:14:32.597Z"
   },
   {
    "duration": 181,
    "start_time": "2023-12-28T03:14:32.628Z"
   },
   {
    "duration": 85,
    "start_time": "2023-12-28T03:14:32.812Z"
   },
   {
    "duration": 73,
    "start_time": "2023-12-28T03:14:32.899Z"
   },
   {
    "duration": 313,
    "start_time": "2023-12-28T03:14:32.974Z"
   },
   {
    "duration": 3,
    "start_time": "2023-12-28T03:14:33.288Z"
   },
   {
    "duration": 13,
    "start_time": "2023-12-28T03:14:33.293Z"
   },
   {
    "duration": 42,
    "start_time": "2023-12-28T03:14:33.308Z"
   },
   {
    "duration": 188,
    "start_time": "2023-12-28T03:14:33.352Z"
   },
   {
    "duration": 3,
    "start_time": "2023-12-28T03:14:33.541Z"
   },
   {
    "duration": 203,
    "start_time": "2023-12-28T03:14:33.547Z"
   },
   {
    "duration": 2,
    "start_time": "2023-12-28T03:14:33.752Z"
   },
   {
    "duration": 178,
    "start_time": "2023-12-28T03:14:33.755Z"
   },
   {
    "duration": 3,
    "start_time": "2023-12-28T03:14:33.934Z"
   },
   {
    "duration": 215,
    "start_time": "2023-12-28T03:14:33.938Z"
   },
   {
    "duration": 6,
    "start_time": "2023-12-28T03:20:57.795Z"
   },
   {
    "duration": 258,
    "start_time": "2023-12-28T03:21:46.549Z"
   },
   {
    "duration": 252,
    "start_time": "2023-12-28T03:22:05.161Z"
   },
   {
    "duration": 264,
    "start_time": "2023-12-28T03:22:16.035Z"
   },
   {
    "duration": 265,
    "start_time": "2023-12-28T03:22:20.161Z"
   },
   {
    "duration": 257,
    "start_time": "2023-12-28T03:22:29.216Z"
   },
   {
    "duration": 6,
    "start_time": "2023-12-28T03:23:38.739Z"
   },
   {
    "duration": 6,
    "start_time": "2023-12-28T03:23:55.560Z"
   },
   {
    "duration": 6,
    "start_time": "2023-12-28T03:24:11.130Z"
   },
   {
    "duration": 5,
    "start_time": "2023-12-28T03:24:32.929Z"
   },
   {
    "duration": 5,
    "start_time": "2023-12-28T03:24:39.424Z"
   },
   {
    "duration": 277,
    "start_time": "2023-12-28T03:24:48.537Z"
   },
   {
    "duration": 3,
    "start_time": "2023-12-28T03:42:52.213Z"
   },
   {
    "duration": 162,
    "start_time": "2023-12-28T03:42:52.977Z"
   },
   {
    "duration": 2,
    "start_time": "2023-12-28T03:43:24.469Z"
   },
   {
    "duration": 3,
    "start_time": "2023-12-28T03:43:26.260Z"
   },
   {
    "duration": 162,
    "start_time": "2023-12-28T03:43:39.489Z"
   },
   {
    "duration": 2,
    "start_time": "2023-12-28T03:44:05.213Z"
   },
   {
    "duration": 194,
    "start_time": "2023-12-28T03:44:05.729Z"
   },
   {
    "duration": 1206,
    "start_time": "2023-12-28T03:48:10.061Z"
   },
   {
    "duration": 183,
    "start_time": "2023-12-28T03:48:11.268Z"
   },
   {
    "duration": 13,
    "start_time": "2023-12-28T03:48:11.452Z"
   },
   {
    "duration": 4,
    "start_time": "2023-12-28T03:48:11.466Z"
   },
   {
    "duration": 101,
    "start_time": "2023-12-28T03:48:11.471Z"
   },
   {
    "duration": 15,
    "start_time": "2023-12-28T03:48:11.573Z"
   },
   {
    "duration": 10,
    "start_time": "2023-12-28T03:48:11.590Z"
   },
   {
    "duration": 88,
    "start_time": "2023-12-28T03:48:11.601Z"
   },
   {
    "duration": 87,
    "start_time": "2023-12-28T03:48:11.690Z"
   },
   {
    "duration": 18,
    "start_time": "2023-12-28T03:48:11.788Z"
   },
   {
    "duration": 24,
    "start_time": "2023-12-28T03:48:11.808Z"
   },
   {
    "duration": 13,
    "start_time": "2023-12-28T03:48:11.834Z"
   },
   {
    "duration": 55,
    "start_time": "2023-12-28T03:48:11.849Z"
   },
   {
    "duration": 7,
    "start_time": "2023-12-28T03:48:11.907Z"
   },
   {
    "duration": 28,
    "start_time": "2023-12-28T03:48:11.916Z"
   },
   {
    "duration": 233,
    "start_time": "2023-12-28T03:48:11.945Z"
   },
   {
    "duration": 39,
    "start_time": "2023-12-28T03:48:12.179Z"
   },
   {
    "duration": 31,
    "start_time": "2023-12-28T03:48:12.219Z"
   },
   {
    "duration": 621,
    "start_time": "2023-12-28T03:48:12.252Z"
   },
   {
    "duration": 42,
    "start_time": "2023-12-28T03:48:12.874Z"
   },
   {
    "duration": 13,
    "start_time": "2023-12-28T03:48:12.918Z"
   },
   {
    "duration": 14,
    "start_time": "2023-12-28T03:48:12.933Z"
   },
   {
    "duration": 9,
    "start_time": "2023-12-28T03:48:12.948Z"
   },
   {
    "duration": 14,
    "start_time": "2023-12-28T03:48:12.959Z"
   },
   {
    "duration": 22,
    "start_time": "2023-12-28T03:48:12.975Z"
   },
   {
    "duration": 6,
    "start_time": "2023-12-28T03:48:12.999Z"
   },
   {
    "duration": 34,
    "start_time": "2023-12-28T03:48:13.006Z"
   },
   {
    "duration": 47,
    "start_time": "2023-12-28T03:48:13.042Z"
   },
   {
    "duration": 58,
    "start_time": "2023-12-28T03:48:13.091Z"
   },
   {
    "duration": 164,
    "start_time": "2023-12-28T03:48:13.150Z"
   },
   {
    "duration": 87,
    "start_time": "2023-12-28T03:48:13.315Z"
   },
   {
    "duration": 9,
    "start_time": "2023-12-28T03:48:13.403Z"
   },
   {
    "duration": 15,
    "start_time": "2023-12-28T03:48:13.414Z"
   },
   {
    "duration": 329,
    "start_time": "2023-12-28T03:48:13.430Z"
   },
   {
    "duration": 2,
    "start_time": "2023-12-28T03:48:13.760Z"
   },
   {
    "duration": 36,
    "start_time": "2023-12-28T03:48:13.764Z"
   },
   {
    "duration": 26,
    "start_time": "2023-12-28T03:48:13.801Z"
   },
   {
    "duration": 193,
    "start_time": "2023-12-28T03:48:13.828Z"
   },
   {
    "duration": 2,
    "start_time": "2023-12-28T03:48:14.023Z"
   },
   {
    "duration": 168,
    "start_time": "2023-12-28T03:48:14.027Z"
   },
   {
    "duration": 2,
    "start_time": "2023-12-28T03:48:14.198Z"
   },
   {
    "duration": 173,
    "start_time": "2023-12-28T03:48:14.201Z"
   },
   {
    "duration": 2,
    "start_time": "2023-12-28T03:48:14.377Z"
   },
   {
    "duration": 210,
    "start_time": "2023-12-28T03:48:14.381Z"
   },
   {
    "duration": 3,
    "start_time": "2023-12-28T03:48:14.592Z"
   },
   {
    "duration": 16,
    "start_time": "2023-12-28T03:48:14.596Z"
   },
   {
    "duration": 184,
    "start_time": "2023-12-28T03:48:14.614Z"
   },
   {
    "duration": 3,
    "start_time": "2023-12-28T03:48:14.799Z"
   },
   {
    "duration": 171,
    "start_time": "2023-12-28T03:48:14.803Z"
   },
   {
    "duration": 3,
    "start_time": "2023-12-28T03:48:14.975Z"
   },
   {
    "duration": 222,
    "start_time": "2023-12-28T03:48:14.979Z"
   },
   {
    "duration": 1255,
    "start_time": "2023-12-28T04:14:30.156Z"
   },
   {
    "duration": 185,
    "start_time": "2023-12-28T04:14:31.413Z"
   },
   {
    "duration": 13,
    "start_time": "2023-12-28T04:14:31.600Z"
   },
   {
    "duration": 84,
    "start_time": "2023-12-28T04:14:31.615Z"
   },
   {
    "duration": 169,
    "start_time": "2023-12-28T04:14:31.701Z"
   },
   {
    "duration": 63,
    "start_time": "2023-12-28T04:14:31.872Z"
   },
   {
    "duration": 136,
    "start_time": "2023-12-28T04:14:31.937Z"
   },
   {
    "duration": 234,
    "start_time": "2023-12-28T04:14:32.075Z"
   },
   {
    "duration": 97,
    "start_time": "2023-12-28T04:14:32.311Z"
   },
   {
    "duration": 14,
    "start_time": "2023-12-28T04:14:32.410Z"
   },
   {
    "duration": 41,
    "start_time": "2023-12-28T04:14:32.426Z"
   },
   {
    "duration": 19,
    "start_time": "2023-12-28T04:14:32.469Z"
   },
   {
    "duration": 59,
    "start_time": "2023-12-28T04:14:32.489Z"
   },
   {
    "duration": 67,
    "start_time": "2023-12-28T04:14:32.551Z"
   },
   {
    "duration": 63,
    "start_time": "2023-12-28T04:14:32.620Z"
   },
   {
    "duration": 269,
    "start_time": "2023-12-28T04:14:32.685Z"
   },
   {
    "duration": 40,
    "start_time": "2023-12-28T04:14:32.956Z"
   },
   {
    "duration": 34,
    "start_time": "2023-12-28T04:14:32.997Z"
   },
   {
    "duration": 655,
    "start_time": "2023-12-28T04:14:33.033Z"
   },
   {
    "duration": 35,
    "start_time": "2023-12-28T04:14:33.690Z"
   },
   {
    "duration": 14,
    "start_time": "2023-12-28T04:14:33.733Z"
   },
   {
    "duration": 8,
    "start_time": "2023-12-28T04:14:33.748Z"
   },
   {
    "duration": 13,
    "start_time": "2023-12-28T04:14:33.757Z"
   },
   {
    "duration": 25,
    "start_time": "2023-12-28T04:14:33.772Z"
   },
   {
    "duration": 13,
    "start_time": "2023-12-28T04:14:33.799Z"
   },
   {
    "duration": 44,
    "start_time": "2023-12-28T04:14:33.814Z"
   },
   {
    "duration": 60,
    "start_time": "2023-12-28T04:14:33.860Z"
   },
   {
    "duration": 29,
    "start_time": "2023-12-28T04:14:33.922Z"
   },
   {
    "duration": 75,
    "start_time": "2023-12-28T04:14:33.953Z"
   },
   {
    "duration": 162,
    "start_time": "2023-12-28T04:14:34.030Z"
   },
   {
    "duration": 80,
    "start_time": "2023-12-28T04:14:34.194Z"
   },
   {
    "duration": 10,
    "start_time": "2023-12-28T04:14:34.289Z"
   },
   {
    "duration": 7,
    "start_time": "2023-12-28T04:14:34.300Z"
   },
   {
    "duration": 312,
    "start_time": "2023-12-28T04:14:34.308Z"
   },
   {
    "duration": 2,
    "start_time": "2023-12-28T04:14:34.622Z"
   },
   {
    "duration": 7,
    "start_time": "2023-12-28T04:14:34.625Z"
   },
   {
    "duration": 15,
    "start_time": "2023-12-28T04:14:34.634Z"
   },
   {
    "duration": 163,
    "start_time": "2023-12-28T04:14:34.651Z"
   },
   {
    "duration": 2,
    "start_time": "2023-12-28T04:14:34.816Z"
   },
   {
    "duration": 180,
    "start_time": "2023-12-28T04:14:34.820Z"
   },
   {
    "duration": 3,
    "start_time": "2023-12-28T04:14:35.004Z"
   },
   {
    "duration": 190,
    "start_time": "2023-12-28T04:14:35.008Z"
   },
   {
    "duration": 3,
    "start_time": "2023-12-28T04:14:35.200Z"
   },
   {
    "duration": 208,
    "start_time": "2023-12-28T04:14:35.204Z"
   },
   {
    "duration": 2,
    "start_time": "2023-12-28T04:14:35.414Z"
   },
   {
    "duration": 11,
    "start_time": "2023-12-28T04:14:35.417Z"
   },
   {
    "duration": 176,
    "start_time": "2023-12-28T04:14:35.430Z"
   },
   {
    "duration": 2,
    "start_time": "2023-12-28T04:14:35.608Z"
   },
   {
    "duration": 256,
    "start_time": "2023-12-28T04:14:35.612Z"
   },
   {
    "duration": 2,
    "start_time": "2023-12-28T04:14:35.870Z"
   },
   {
    "duration": 207,
    "start_time": "2023-12-28T04:14:35.874Z"
   },
   {
    "duration": 31,
    "start_time": "2023-12-28T04:15:39.355Z"
   },
   {
    "duration": 2,
    "start_time": "2023-12-28T04:23:34.089Z"
   },
   {
    "duration": 1196,
    "start_time": "2023-12-28T04:23:47.638Z"
   },
   {
    "duration": 179,
    "start_time": "2023-12-28T04:23:48.836Z"
   },
   {
    "duration": 13,
    "start_time": "2023-12-28T04:23:49.017Z"
   },
   {
    "duration": 11,
    "start_time": "2023-12-28T04:23:49.031Z"
   },
   {
    "duration": 103,
    "start_time": "2023-12-28T04:23:49.044Z"
   },
   {
    "duration": 9,
    "start_time": "2023-12-28T04:23:49.148Z"
   },
   {
    "duration": 10,
    "start_time": "2023-12-28T04:23:49.159Z"
   },
   {
    "duration": 91,
    "start_time": "2023-12-28T04:23:49.170Z"
   },
   {
    "duration": 94,
    "start_time": "2023-12-28T04:23:49.263Z"
   },
   {
    "duration": 14,
    "start_time": "2023-12-28T04:23:49.359Z"
   },
   {
    "duration": 35,
    "start_time": "2023-12-28T04:23:49.375Z"
   },
   {
    "duration": 18,
    "start_time": "2023-12-28T04:23:49.412Z"
   },
   {
    "duration": 32,
    "start_time": "2023-12-28T04:23:49.431Z"
   },
   {
    "duration": 7,
    "start_time": "2023-12-28T04:23:49.489Z"
   },
   {
    "duration": 30,
    "start_time": "2023-12-28T04:23:49.498Z"
   },
   {
    "duration": 239,
    "start_time": "2023-12-28T04:23:49.530Z"
   },
   {
    "duration": 38,
    "start_time": "2023-12-28T04:23:49.771Z"
   },
   {
    "duration": 32,
    "start_time": "2023-12-28T04:23:49.811Z"
   },
   {
    "duration": 599,
    "start_time": "2023-12-28T04:23:49.845Z"
   },
   {
    "duration": 30,
    "start_time": "2023-12-28T04:23:50.446Z"
   },
   {
    "duration": 20,
    "start_time": "2023-12-28T04:23:50.478Z"
   },
   {
    "duration": 14,
    "start_time": "2023-12-28T04:23:50.499Z"
   },
   {
    "duration": 5,
    "start_time": "2023-12-28T04:23:50.515Z"
   },
   {
    "duration": 14,
    "start_time": "2023-12-28T04:23:50.522Z"
   },
   {
    "duration": 12,
    "start_time": "2023-12-28T04:23:50.538Z"
   },
   {
    "duration": 11,
    "start_time": "2023-12-28T04:23:50.552Z"
   },
   {
    "duration": 54,
    "start_time": "2023-12-28T04:23:50.564Z"
   },
   {
    "duration": 27,
    "start_time": "2023-12-28T04:23:50.620Z"
   },
   {
    "duration": 74,
    "start_time": "2023-12-28T04:23:50.649Z"
   },
   {
    "duration": 153,
    "start_time": "2023-12-28T04:23:50.725Z"
   },
   {
    "duration": 82,
    "start_time": "2023-12-28T04:23:50.880Z"
   },
   {
    "duration": 8,
    "start_time": "2023-12-28T04:23:50.964Z"
   },
   {
    "duration": 12,
    "start_time": "2023-12-28T04:23:50.987Z"
   },
   {
    "duration": 283,
    "start_time": "2023-12-28T04:23:51.001Z"
   },
   {
    "duration": 6,
    "start_time": "2023-12-28T04:23:51.287Z"
   },
   {
    "duration": 30,
    "start_time": "2023-12-28T04:23:51.294Z"
   },
   {
    "duration": 11,
    "start_time": "2023-12-28T04:23:51.326Z"
   },
   {
    "duration": 152,
    "start_time": "2023-12-28T04:23:51.338Z"
   },
   {
    "duration": 2,
    "start_time": "2023-12-28T04:23:51.492Z"
   },
   {
    "duration": 167,
    "start_time": "2023-12-28T04:23:51.495Z"
   },
   {
    "duration": 2,
    "start_time": "2023-12-28T04:23:51.665Z"
   },
   {
    "duration": 165,
    "start_time": "2023-12-28T04:23:51.669Z"
   },
   {
    "duration": 2,
    "start_time": "2023-12-28T04:23:51.836Z"
   },
   {
    "duration": 205,
    "start_time": "2023-12-28T04:23:51.840Z"
   },
   {
    "duration": 3,
    "start_time": "2023-12-28T04:23:52.046Z"
   },
   {
    "duration": 5,
    "start_time": "2023-12-28T04:23:52.050Z"
   },
   {
    "duration": 159,
    "start_time": "2023-12-28T04:23:52.056Z"
   },
   {
    "duration": 2,
    "start_time": "2023-12-28T04:23:52.217Z"
   },
   {
    "duration": 157,
    "start_time": "2023-12-28T04:23:52.220Z"
   },
   {
    "duration": 9,
    "start_time": "2023-12-28T04:23:52.379Z"
   },
   {
    "duration": 184,
    "start_time": "2023-12-28T04:23:52.390Z"
   },
   {
    "duration": 6003,
    "start_time": "2023-12-28T05:49:38.721Z"
   },
   {
    "duration": 1797,
    "start_time": "2023-12-28T05:49:44.732Z"
   },
   {
    "duration": 99,
    "start_time": "2023-12-28T05:49:46.531Z"
   },
   {
    "duration": 4,
    "start_time": "2023-12-28T05:49:46.714Z"
   },
   {
    "duration": 608,
    "start_time": "2023-12-28T05:49:46.720Z"
   },
   {
    "duration": 9,
    "start_time": "2023-12-28T05:49:47.415Z"
   },
   {
    "duration": 94,
    "start_time": "2023-12-28T05:49:47.428Z"
   },
   {
    "duration": 408,
    "start_time": "2023-12-28T05:49:47.523Z"
   },
   {
    "duration": 503,
    "start_time": "2023-12-28T05:49:48.014Z"
   },
   {
    "duration": 99,
    "start_time": "2023-12-28T05:49:48.519Z"
   },
   {
    "duration": 107,
    "start_time": "2023-12-28T05:49:48.620Z"
   },
   {
    "duration": 103,
    "start_time": "2023-12-28T05:49:48.729Z"
   },
   {
    "duration": 113,
    "start_time": "2023-12-28T05:49:48.915Z"
   },
   {
    "duration": 86,
    "start_time": "2023-12-28T05:49:49.030Z"
   },
   {
    "duration": 197,
    "start_time": "2023-12-28T05:49:49.119Z"
   },
   {
    "duration": 1399,
    "start_time": "2023-12-28T05:49:49.318Z"
   },
   {
    "duration": 296,
    "start_time": "2023-12-28T05:49:50.720Z"
   },
   {
    "duration": 214,
    "start_time": "2023-12-28T05:49:51.018Z"
   },
   {
    "duration": 4405,
    "start_time": "2023-12-28T05:49:51.315Z"
   },
   {
    "duration": 203,
    "start_time": "2023-12-28T05:49:55.722Z"
   },
   {
    "duration": 103,
    "start_time": "2023-12-28T05:49:55.927Z"
   },
   {
    "duration": 5,
    "start_time": "2023-12-28T05:49:56.116Z"
   },
   {
    "duration": 96,
    "start_time": "2023-12-28T05:49:56.123Z"
   },
   {
    "duration": 107,
    "start_time": "2023-12-28T05:49:56.220Z"
   },
   {
    "duration": 103,
    "start_time": "2023-12-28T05:49:56.329Z"
   },
   {
    "duration": 9,
    "start_time": "2023-12-28T05:49:56.514Z"
   },
   {
    "duration": 203,
    "start_time": "2023-12-28T05:49:56.525Z"
   },
   {
    "duration": 298,
    "start_time": "2023-12-28T05:49:56.731Z"
   },
   {
    "duration": 508,
    "start_time": "2023-12-28T05:49:57.122Z"
   },
   {
    "duration": 1005,
    "start_time": "2023-12-28T05:49:57.632Z"
   },
   {
    "duration": 596,
    "start_time": "2023-12-28T05:49:58.638Z"
   },
   {
    "duration": 15,
    "start_time": "2023-12-28T05:49:59.316Z"
   },
   {
    "duration": 90,
    "start_time": "2023-12-28T05:49:59.334Z"
   },
   {
    "duration": 1989,
    "start_time": "2023-12-28T05:49:59.426Z"
   },
   {
    "duration": 10,
    "start_time": "2023-12-28T05:50:01.418Z"
   },
   {
    "duration": 185,
    "start_time": "2023-12-28T05:50:01.430Z"
   },
   {
    "duration": 98,
    "start_time": "2023-12-28T05:50:01.617Z"
   },
   {
    "duration": 1198,
    "start_time": "2023-12-28T05:50:01.717Z"
   },
   {
    "duration": 5,
    "start_time": "2023-12-28T05:50:02.917Z"
   },
   {
    "duration": 1100,
    "start_time": "2023-12-28T05:50:02.924Z"
   },
   {
    "duration": 87,
    "start_time": "2023-12-28T05:50:04.028Z"
   },
   {
    "duration": 1201,
    "start_time": "2023-12-28T05:50:04.118Z"
   },
   {
    "duration": 3,
    "start_time": "2023-12-28T05:50:05.322Z"
   },
   {
    "duration": 1393,
    "start_time": "2023-12-28T05:50:05.327Z"
   },
   {
    "duration": 3,
    "start_time": "2023-12-28T05:50:06.723Z"
   },
   {
    "duration": 95,
    "start_time": "2023-12-28T05:50:06.728Z"
   },
   {
    "duration": 994,
    "start_time": "2023-12-28T05:50:06.827Z"
   },
   {
    "duration": 3,
    "start_time": "2023-12-28T05:50:07.823Z"
   },
   {
    "duration": 1287,
    "start_time": "2023-12-28T05:50:07.828Z"
   },
   {
    "duration": 6,
    "start_time": "2023-12-28T05:50:09.118Z"
   },
   {
    "duration": 1198,
    "start_time": "2023-12-28T05:50:09.126Z"
   },
   {
    "duration": 25,
    "start_time": "2023-12-28T13:36:19.094Z"
   },
   {
    "duration": 10,
    "start_time": "2023-12-28T13:36:42.916Z"
   },
   {
    "duration": 9,
    "start_time": "2023-12-28T13:36:59.915Z"
   },
   {
    "duration": 7,
    "start_time": "2023-12-28T13:37:11.715Z"
   },
   {
    "duration": 512,
    "start_time": "2023-12-28T13:38:22.615Z"
   },
   {
    "duration": 28,
    "start_time": "2023-12-28T13:38:59.595Z"
   },
   {
    "duration": 4817,
    "start_time": "2023-12-28T13:40:58.615Z"
   },
   {
    "duration": 1324,
    "start_time": "2023-12-28T13:41:03.514Z"
   },
   {
    "duration": 81,
    "start_time": "2023-12-28T13:41:04.840Z"
   },
   {
    "duration": 91,
    "start_time": "2023-12-28T13:41:04.924Z"
   },
   {
    "duration": 606,
    "start_time": "2023-12-28T13:41:05.018Z"
   },
   {
    "duration": 88,
    "start_time": "2023-12-28T13:41:05.627Z"
   },
   {
    "duration": 102,
    "start_time": "2023-12-28T13:41:05.717Z"
   },
   {
    "duration": 503,
    "start_time": "2023-12-28T13:41:05.821Z"
   },
   {
    "duration": 607,
    "start_time": "2023-12-28T13:41:06.327Z"
   },
   {
    "duration": 98,
    "start_time": "2023-12-28T13:41:06.936Z"
   },
   {
    "duration": 202,
    "start_time": "2023-12-28T13:41:07.035Z"
   },
   {
    "duration": 612,
    "start_time": "2023-12-28T13:41:07.314Z"
   },
   {
    "duration": 0,
    "start_time": "2023-12-28T13:41:07.930Z"
   },
   {
    "duration": 0,
    "start_time": "2023-12-28T13:41:08.017Z"
   },
   {
    "duration": 0,
    "start_time": "2023-12-28T13:41:08.019Z"
   },
   {
    "duration": 0,
    "start_time": "2023-12-28T13:41:08.020Z"
   },
   {
    "duration": 0,
    "start_time": "2023-12-28T13:41:08.022Z"
   },
   {
    "duration": 0,
    "start_time": "2023-12-28T13:41:08.023Z"
   },
   {
    "duration": 0,
    "start_time": "2023-12-28T13:41:08.024Z"
   },
   {
    "duration": 0,
    "start_time": "2023-12-28T13:41:08.025Z"
   },
   {
    "duration": 0,
    "start_time": "2023-12-28T13:41:08.027Z"
   },
   {
    "duration": 0,
    "start_time": "2023-12-28T13:41:08.028Z"
   },
   {
    "duration": 0,
    "start_time": "2023-12-28T13:41:08.029Z"
   },
   {
    "duration": 0,
    "start_time": "2023-12-28T13:41:08.116Z"
   },
   {
    "duration": 0,
    "start_time": "2023-12-28T13:41:08.117Z"
   },
   {
    "duration": 0,
    "start_time": "2023-12-28T13:41:08.118Z"
   },
   {
    "duration": 0,
    "start_time": "2023-12-28T13:41:08.120Z"
   },
   {
    "duration": 0,
    "start_time": "2023-12-28T13:41:08.122Z"
   },
   {
    "duration": 0,
    "start_time": "2023-12-28T13:41:08.123Z"
   },
   {
    "duration": 0,
    "start_time": "2023-12-28T13:41:08.125Z"
   },
   {
    "duration": 0,
    "start_time": "2023-12-28T13:41:08.127Z"
   },
   {
    "duration": 0,
    "start_time": "2023-12-28T13:41:08.128Z"
   },
   {
    "duration": 0,
    "start_time": "2023-12-28T13:41:08.130Z"
   },
   {
    "duration": 0,
    "start_time": "2023-12-28T13:41:08.215Z"
   },
   {
    "duration": 0,
    "start_time": "2023-12-28T13:41:08.217Z"
   },
   {
    "duration": 0,
    "start_time": "2023-12-28T13:41:08.218Z"
   },
   {
    "duration": 0,
    "start_time": "2023-12-28T13:41:08.219Z"
   },
   {
    "duration": 0,
    "start_time": "2023-12-28T13:41:08.220Z"
   },
   {
    "duration": 1,
    "start_time": "2023-12-28T13:41:08.221Z"
   },
   {
    "duration": 0,
    "start_time": "2023-12-28T13:41:08.222Z"
   },
   {
    "duration": 0,
    "start_time": "2023-12-28T13:41:08.223Z"
   },
   {
    "duration": 0,
    "start_time": "2023-12-28T13:41:08.224Z"
   },
   {
    "duration": 0,
    "start_time": "2023-12-28T13:41:08.226Z"
   },
   {
    "duration": 0,
    "start_time": "2023-12-28T13:41:08.227Z"
   },
   {
    "duration": 0,
    "start_time": "2023-12-28T13:41:08.229Z"
   },
   {
    "duration": 0,
    "start_time": "2023-12-28T13:41:08.230Z"
   },
   {
    "duration": 1,
    "start_time": "2023-12-28T13:41:08.231Z"
   },
   {
    "duration": 0,
    "start_time": "2023-12-28T13:41:08.232Z"
   },
   {
    "duration": 0,
    "start_time": "2023-12-28T13:41:08.233Z"
   },
   {
    "duration": 0,
    "start_time": "2023-12-28T13:41:08.314Z"
   },
   {
    "duration": 0,
    "start_time": "2023-12-28T13:41:08.316Z"
   },
   {
    "duration": 0,
    "start_time": "2023-12-28T13:41:08.319Z"
   },
   {
    "duration": 100,
    "start_time": "2023-12-28T13:53:18.741Z"
   },
   {
    "duration": 10,
    "start_time": "2023-12-28T13:53:52.915Z"
   },
   {
    "duration": 5405,
    "start_time": "2023-12-28T14:13:06.216Z"
   },
   {
    "duration": 1091,
    "start_time": "2023-12-28T14:13:11.624Z"
   },
   {
    "duration": 98,
    "start_time": "2023-12-28T14:13:12.717Z"
   },
   {
    "duration": 5,
    "start_time": "2023-12-28T14:13:12.817Z"
   },
   {
    "duration": 402,
    "start_time": "2023-12-28T14:13:12.832Z"
   },
   {
    "duration": 85,
    "start_time": "2023-12-28T14:13:13.235Z"
   },
   {
    "duration": 92,
    "start_time": "2023-12-28T14:13:13.324Z"
   },
   {
    "duration": 314,
    "start_time": "2023-12-28T14:13:13.418Z"
   },
   {
    "duration": 620,
    "start_time": "2023-12-28T14:13:13.814Z"
   },
   {
    "duration": 106,
    "start_time": "2023-12-28T14:13:14.516Z"
   },
   {
    "duration": 192,
    "start_time": "2023-12-28T14:13:14.625Z"
   },
   {
    "duration": 97,
    "start_time": "2023-12-28T14:13:14.820Z"
   },
   {
    "duration": 207,
    "start_time": "2023-12-28T14:13:14.919Z"
   },
   {
    "duration": 98,
    "start_time": "2023-12-28T14:13:15.128Z"
   },
   {
    "duration": 188,
    "start_time": "2023-12-28T14:13:15.228Z"
   },
   {
    "duration": 1415,
    "start_time": "2023-12-28T14:13:15.418Z"
   },
   {
    "duration": 309,
    "start_time": "2023-12-28T14:13:16.916Z"
   },
   {
    "duration": 288,
    "start_time": "2023-12-28T14:13:17.227Z"
   },
   {
    "duration": 4505,
    "start_time": "2023-12-28T14:13:17.518Z"
   },
   {
    "duration": 294,
    "start_time": "2023-12-28T14:13:22.026Z"
   },
   {
    "duration": 94,
    "start_time": "2023-12-28T14:13:22.322Z"
   },
   {
    "duration": 4,
    "start_time": "2023-12-28T14:13:22.419Z"
   },
   {
    "duration": 92,
    "start_time": "2023-12-28T14:13:22.426Z"
   },
   {
    "duration": 95,
    "start_time": "2023-12-28T14:13:22.521Z"
   },
   {
    "duration": 103,
    "start_time": "2023-12-28T14:13:22.619Z"
   },
   {
    "duration": 93,
    "start_time": "2023-12-28T14:13:22.724Z"
   },
   {
    "duration": 210,
    "start_time": "2023-12-28T14:13:22.819Z"
   },
   {
    "duration": 287,
    "start_time": "2023-12-28T14:13:23.031Z"
   },
   {
    "duration": 492,
    "start_time": "2023-12-28T14:13:23.324Z"
   },
   {
    "duration": 799,
    "start_time": "2023-12-28T14:13:23.818Z"
   },
   {
    "duration": 416,
    "start_time": "2023-12-28T14:13:24.619Z"
   },
   {
    "duration": 88,
    "start_time": "2023-12-28T14:13:25.036Z"
   },
   {
    "duration": 90,
    "start_time": "2023-12-28T14:13:25.126Z"
   },
   {
    "duration": 2103,
    "start_time": "2023-12-28T14:13:25.218Z"
   },
   {
    "duration": 8,
    "start_time": "2023-12-28T14:13:27.323Z"
   },
   {
    "duration": 3,
    "start_time": "2023-12-28T14:13:27.414Z"
   },
   {
    "duration": 4,
    "start_time": "2023-12-28T14:13:27.419Z"
   },
   {
    "duration": 895,
    "start_time": "2023-12-28T14:13:27.425Z"
   },
   {
    "duration": 3,
    "start_time": "2023-12-28T14:13:28.322Z"
   },
   {
    "duration": 1298,
    "start_time": "2023-12-28T14:13:28.327Z"
   },
   {
    "duration": 3,
    "start_time": "2023-12-28T14:13:29.627Z"
   },
   {
    "duration": 890,
    "start_time": "2023-12-28T14:13:29.632Z"
   },
   {
    "duration": 6,
    "start_time": "2023-12-28T14:13:30.524Z"
   },
   {
    "duration": 1416,
    "start_time": "2023-12-28T14:13:30.616Z"
   },
   {
    "duration": 2,
    "start_time": "2023-12-28T14:13:32.116Z"
   },
   {
    "duration": 11,
    "start_time": "2023-12-28T14:13:32.120Z"
   },
   {
    "duration": 1287,
    "start_time": "2023-12-28T14:13:32.132Z"
   },
   {
    "duration": 4,
    "start_time": "2023-12-28T14:13:33.422Z"
   },
   {
    "duration": 1298,
    "start_time": "2023-12-28T14:13:33.428Z"
   },
   {
    "duration": 6,
    "start_time": "2023-12-28T14:13:34.728Z"
   },
   {
    "duration": 1300,
    "start_time": "2023-12-28T14:13:34.736Z"
   },
   {
    "duration": 564,
    "start_time": "2023-12-29T05:17:54.335Z"
   },
   {
    "duration": 1277,
    "start_time": "2023-12-29T05:18:13.073Z"
   },
   {
    "duration": 524,
    "start_time": "2023-12-29T05:18:14.352Z"
   },
   {
    "duration": 14,
    "start_time": "2023-12-29T05:18:14.878Z"
   },
   {
    "duration": 9,
    "start_time": "2023-12-29T05:18:14.893Z"
   },
   {
    "duration": 91,
    "start_time": "2023-12-29T05:18:14.904Z"
   },
   {
    "duration": 9,
    "start_time": "2023-12-29T05:18:14.996Z"
   },
   {
    "duration": 25,
    "start_time": "2023-12-29T05:18:15.014Z"
   },
   {
    "duration": 94,
    "start_time": "2023-12-29T05:18:15.040Z"
   },
   {
    "duration": 93,
    "start_time": "2023-12-29T05:18:15.136Z"
   },
   {
    "duration": 19,
    "start_time": "2023-12-29T05:18:15.231Z"
   },
   {
    "duration": 22,
    "start_time": "2023-12-29T05:18:15.251Z"
   },
   {
    "duration": 13,
    "start_time": "2023-12-29T05:18:15.275Z"
   },
   {
    "duration": 45,
    "start_time": "2023-12-29T05:18:15.290Z"
   },
   {
    "duration": 8,
    "start_time": "2023-12-29T05:18:15.338Z"
   },
   {
    "duration": 28,
    "start_time": "2023-12-29T05:18:15.347Z"
   },
   {
    "duration": 240,
    "start_time": "2023-12-29T05:18:15.377Z"
   },
   {
    "duration": 32,
    "start_time": "2023-12-29T05:18:15.619Z"
   },
   {
    "duration": 30,
    "start_time": "2023-12-29T05:18:15.653Z"
   },
   {
    "duration": 715,
    "start_time": "2023-12-29T05:18:15.685Z"
   },
   {
    "duration": 46,
    "start_time": "2023-12-29T05:18:16.401Z"
   },
   {
    "duration": 12,
    "start_time": "2023-12-29T05:18:16.449Z"
   },
   {
    "duration": 7,
    "start_time": "2023-12-29T05:18:16.463Z"
   },
   {
    "duration": 10,
    "start_time": "2023-12-29T05:18:16.471Z"
   },
   {
    "duration": 32,
    "start_time": "2023-12-29T05:18:16.482Z"
   },
   {
    "duration": 15,
    "start_time": "2023-12-29T05:18:16.516Z"
   },
   {
    "duration": 7,
    "start_time": "2023-12-29T05:18:16.532Z"
   },
   {
    "duration": 33,
    "start_time": "2023-12-29T05:18:16.541Z"
   },
   {
    "duration": 52,
    "start_time": "2023-12-29T05:18:16.575Z"
   },
   {
    "duration": 62,
    "start_time": "2023-12-29T05:18:16.629Z"
   },
   {
    "duration": 182,
    "start_time": "2023-12-29T05:18:16.692Z"
   },
   {
    "duration": 89,
    "start_time": "2023-12-29T05:18:16.876Z"
   },
   {
    "duration": 8,
    "start_time": "2023-12-29T05:18:16.967Z"
   },
   {
    "duration": 524,
    "start_time": "2023-12-29T05:18:16.977Z"
   },
   {
    "duration": 6,
    "start_time": "2023-12-29T05:18:17.502Z"
   },
   {
    "duration": 402,
    "start_time": "2023-12-29T05:18:17.510Z"
   },
   {
    "duration": 6,
    "start_time": "2023-12-29T05:18:17.915Z"
   },
   {
    "duration": 8,
    "start_time": "2023-12-29T05:18:17.923Z"
   },
   {
    "duration": 4,
    "start_time": "2023-12-29T05:18:17.933Z"
   },
   {
    "duration": 195,
    "start_time": "2023-12-29T05:18:17.939Z"
   },
   {
    "duration": 6,
    "start_time": "2023-12-29T05:18:18.139Z"
   },
   {
    "duration": 185,
    "start_time": "2023-12-29T05:18:18.149Z"
   },
   {
    "duration": 4,
    "start_time": "2023-12-29T05:18:18.336Z"
   },
   {
    "duration": 174,
    "start_time": "2023-12-29T05:18:18.342Z"
   },
   {
    "duration": 3,
    "start_time": "2023-12-29T05:18:18.518Z"
   },
   {
    "duration": 211,
    "start_time": "2023-12-29T05:18:18.523Z"
   },
   {
    "duration": 3,
    "start_time": "2023-12-29T05:18:18.736Z"
   },
   {
    "duration": 12,
    "start_time": "2023-12-29T05:18:18.741Z"
   },
   {
    "duration": 177,
    "start_time": "2023-12-29T05:18:18.755Z"
   },
   {
    "duration": 3,
    "start_time": "2023-12-29T05:18:18.933Z"
   },
   {
    "duration": 184,
    "start_time": "2023-12-29T05:18:18.937Z"
   },
   {
    "duration": 3,
    "start_time": "2023-12-29T05:18:19.123Z"
   },
   {
    "duration": 217,
    "start_time": "2023-12-29T05:18:19.128Z"
   },
   {
    "duration": 44,
    "start_time": "2023-12-29T05:19:37.031Z"
   },
   {
    "duration": 4,
    "start_time": "2023-12-29T05:22:07.022Z"
   },
   {
    "duration": 1137,
    "start_time": "2023-12-29T05:22:11.679Z"
   },
   {
    "duration": 175,
    "start_time": "2023-12-29T05:22:12.818Z"
   },
   {
    "duration": 12,
    "start_time": "2023-12-29T05:22:12.995Z"
   },
   {
    "duration": 15,
    "start_time": "2023-12-29T05:22:13.009Z"
   },
   {
    "duration": 92,
    "start_time": "2023-12-29T05:22:13.025Z"
   },
   {
    "duration": 9,
    "start_time": "2023-12-29T05:22:13.118Z"
   },
   {
    "duration": 15,
    "start_time": "2023-12-29T05:22:13.128Z"
   },
   {
    "duration": 99,
    "start_time": "2023-12-29T05:22:13.145Z"
   },
   {
    "duration": 99,
    "start_time": "2023-12-29T05:22:13.245Z"
   },
   {
    "duration": 13,
    "start_time": "2023-12-29T05:22:13.347Z"
   },
   {
    "duration": 21,
    "start_time": "2023-12-29T05:22:13.362Z"
   },
   {
    "duration": 31,
    "start_time": "2023-12-29T05:22:13.384Z"
   },
   {
    "duration": 25,
    "start_time": "2023-12-29T05:22:13.416Z"
   },
   {
    "duration": 6,
    "start_time": "2023-12-29T05:22:13.443Z"
   },
   {
    "duration": 25,
    "start_time": "2023-12-29T05:22:13.451Z"
   },
   {
    "duration": 240,
    "start_time": "2023-12-29T05:22:13.478Z"
   },
   {
    "duration": 33,
    "start_time": "2023-12-29T05:22:13.720Z"
   },
   {
    "duration": 33,
    "start_time": "2023-12-29T05:22:13.755Z"
   },
   {
    "duration": 584,
    "start_time": "2023-12-29T05:22:13.790Z"
   },
   {
    "duration": 41,
    "start_time": "2023-12-29T05:22:14.376Z"
   },
   {
    "duration": 14,
    "start_time": "2023-12-29T05:22:14.419Z"
   },
   {
    "duration": 17,
    "start_time": "2023-12-29T05:22:14.434Z"
   },
   {
    "duration": 30,
    "start_time": "2023-12-29T05:22:14.452Z"
   },
   {
    "duration": 20,
    "start_time": "2023-12-29T05:22:14.484Z"
   },
   {
    "duration": 21,
    "start_time": "2023-12-29T05:22:14.506Z"
   },
   {
    "duration": 18,
    "start_time": "2023-12-29T05:22:14.529Z"
   },
   {
    "duration": 36,
    "start_time": "2023-12-29T05:22:14.549Z"
   },
   {
    "duration": 29,
    "start_time": "2023-12-29T05:22:14.589Z"
   },
   {
    "duration": 73,
    "start_time": "2023-12-29T05:22:14.620Z"
   },
   {
    "duration": 160,
    "start_time": "2023-12-29T05:22:14.695Z"
   },
   {
    "duration": 85,
    "start_time": "2023-12-29T05:22:14.856Z"
   },
   {
    "duration": 9,
    "start_time": "2023-12-29T05:22:14.942Z"
   },
   {
    "duration": 520,
    "start_time": "2023-12-29T05:22:14.952Z"
   },
   {
    "duration": 6,
    "start_time": "2023-12-29T05:22:15.474Z"
   },
   {
    "duration": 407,
    "start_time": "2023-12-29T05:22:15.481Z"
   },
   {
    "duration": 6,
    "start_time": "2023-12-29T05:22:15.890Z"
   },
   {
    "duration": 16,
    "start_time": "2023-12-29T05:22:15.898Z"
   },
   {
    "duration": 17,
    "start_time": "2023-12-29T05:22:15.916Z"
   },
   {
    "duration": 163,
    "start_time": "2023-12-29T05:22:15.935Z"
   },
   {
    "duration": 3,
    "start_time": "2023-12-29T05:22:16.101Z"
   },
   {
    "duration": 169,
    "start_time": "2023-12-29T05:22:16.105Z"
   },
   {
    "duration": 2,
    "start_time": "2023-12-29T05:22:16.276Z"
   },
   {
    "duration": 177,
    "start_time": "2023-12-29T05:22:16.280Z"
   },
   {
    "duration": 2,
    "start_time": "2023-12-29T05:22:16.459Z"
   },
   {
    "duration": 203,
    "start_time": "2023-12-29T05:22:16.463Z"
   },
   {
    "duration": 3,
    "start_time": "2023-12-29T05:22:16.667Z"
   },
   {
    "duration": 6,
    "start_time": "2023-12-29T05:22:16.671Z"
   },
   {
    "duration": 172,
    "start_time": "2023-12-29T05:22:16.679Z"
   },
   {
    "duration": 3,
    "start_time": "2023-12-29T05:22:16.853Z"
   },
   {
    "duration": 170,
    "start_time": "2023-12-29T05:22:16.857Z"
   },
   {
    "duration": 3,
    "start_time": "2023-12-29T05:22:17.029Z"
   },
   {
    "duration": 208,
    "start_time": "2023-12-29T05:22:17.033Z"
   },
   {
    "duration": 595,
    "start_time": "2023-12-29T11:06:21.380Z"
   },
   {
    "duration": 1380,
    "start_time": "2023-12-29T11:06:28.547Z"
   },
   {
    "duration": 535,
    "start_time": "2023-12-29T11:06:29.929Z"
   },
   {
    "duration": 14,
    "start_time": "2023-12-29T11:06:30.466Z"
   },
   {
    "duration": 12,
    "start_time": "2023-12-29T11:06:30.482Z"
   },
   {
    "duration": 129,
    "start_time": "2023-12-29T11:06:30.496Z"
   },
   {
    "duration": 9,
    "start_time": "2023-12-29T11:06:30.626Z"
   },
   {
    "duration": 39,
    "start_time": "2023-12-29T11:06:30.637Z"
   },
   {
    "duration": 103,
    "start_time": "2023-12-29T11:06:30.678Z"
   },
   {
    "duration": 91,
    "start_time": "2023-12-29T11:06:30.783Z"
   },
   {
    "duration": 16,
    "start_time": "2023-12-29T11:06:30.881Z"
   },
   {
    "duration": 41,
    "start_time": "2023-12-29T11:06:30.898Z"
   },
   {
    "duration": 34,
    "start_time": "2023-12-29T11:06:30.940Z"
   },
   {
    "duration": 60,
    "start_time": "2023-12-29T11:06:30.975Z"
   },
   {
    "duration": 40,
    "start_time": "2023-12-29T11:06:31.037Z"
   },
   {
    "duration": 52,
    "start_time": "2023-12-29T11:06:31.079Z"
   },
   {
    "duration": 231,
    "start_time": "2023-12-29T11:06:31.133Z"
   },
   {
    "duration": 44,
    "start_time": "2023-12-29T11:06:31.365Z"
   },
   {
    "duration": 36,
    "start_time": "2023-12-29T11:06:31.411Z"
   },
   {
    "duration": 659,
    "start_time": "2023-12-29T11:06:31.449Z"
   },
   {
    "duration": 34,
    "start_time": "2023-12-29T11:06:32.111Z"
   },
   {
    "duration": 15,
    "start_time": "2023-12-29T11:06:32.146Z"
   },
   {
    "duration": 25,
    "start_time": "2023-12-29T11:06:32.182Z"
   },
   {
    "duration": 16,
    "start_time": "2023-12-29T11:06:32.209Z"
   },
   {
    "duration": 27,
    "start_time": "2023-12-29T11:06:32.227Z"
   },
   {
    "duration": 29,
    "start_time": "2023-12-29T11:06:32.256Z"
   },
   {
    "duration": 8,
    "start_time": "2023-12-29T11:06:32.287Z"
   },
   {
    "duration": 38,
    "start_time": "2023-12-29T11:06:32.297Z"
   },
   {
    "duration": 47,
    "start_time": "2023-12-29T11:06:32.340Z"
   },
   {
    "duration": 64,
    "start_time": "2023-12-29T11:06:32.389Z"
   },
   {
    "duration": 186,
    "start_time": "2023-12-29T11:06:32.455Z"
   },
   {
    "duration": 86,
    "start_time": "2023-12-29T11:06:32.642Z"
   },
   {
    "duration": 8,
    "start_time": "2023-12-29T11:06:32.729Z"
   },
   {
    "duration": 544,
    "start_time": "2023-12-29T11:06:32.739Z"
   },
   {
    "duration": 6,
    "start_time": "2023-12-29T11:06:33.285Z"
   },
   {
    "duration": 394,
    "start_time": "2023-12-29T11:06:33.292Z"
   },
   {
    "duration": 6,
    "start_time": "2023-12-29T11:06:33.688Z"
   },
   {
    "duration": 20,
    "start_time": "2023-12-29T11:06:33.696Z"
   },
   {
    "duration": 10,
    "start_time": "2023-12-29T11:06:33.718Z"
   },
   {
    "duration": 174,
    "start_time": "2023-12-29T11:06:33.730Z"
   },
   {
    "duration": 3,
    "start_time": "2023-12-29T11:06:33.906Z"
   },
   {
    "duration": 241,
    "start_time": "2023-12-29T11:06:33.910Z"
   },
   {
    "duration": 3,
    "start_time": "2023-12-29T11:06:34.153Z"
   },
   {
    "duration": 194,
    "start_time": "2023-12-29T11:06:34.157Z"
   },
   {
    "duration": 3,
    "start_time": "2023-12-29T11:06:34.353Z"
   },
   {
    "duration": 230,
    "start_time": "2023-12-29T11:06:34.357Z"
   },
   {
    "duration": 3,
    "start_time": "2023-12-29T11:06:34.588Z"
   },
   {
    "duration": 8,
    "start_time": "2023-12-29T11:06:34.592Z"
   },
   {
    "duration": 176,
    "start_time": "2023-12-29T11:06:34.601Z"
   },
   {
    "duration": 3,
    "start_time": "2023-12-29T11:06:34.781Z"
   },
   {
    "duration": 190,
    "start_time": "2023-12-29T11:06:34.785Z"
   },
   {
    "duration": 3,
    "start_time": "2023-12-29T11:06:34.982Z"
   },
   {
    "duration": 216,
    "start_time": "2023-12-29T11:06:34.986Z"
   },
   {
    "duration": 344,
    "start_time": "2023-12-29T11:39:32.158Z"
   }
  ],
  "kernelspec": {
   "display_name": "Python 3 (ipykernel)",
   "language": "python",
   "name": "python3"
  },
  "language_info": {
   "codemirror_mode": {
    "name": "ipython",
    "version": 3
   },
   "file_extension": ".py",
   "mimetype": "text/x-python",
   "name": "python",
   "nbconvert_exporter": "python",
   "pygments_lexer": "ipython3",
   "version": "3.9.5"
  },
  "toc": {
   "base_numbering": 1,
   "nav_menu": {},
   "number_sections": true,
   "sideBar": true,
   "skip_h1_title": true,
   "title_cell": "Table of Contents",
   "title_sidebar": "Contents",
   "toc_cell": false,
   "toc_position": {},
   "toc_section_display": true,
   "toc_window_display": false
  }
 },
 "nbformat": 4,
 "nbformat_minor": 4
}
