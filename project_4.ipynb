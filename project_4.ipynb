{
 "cells": [
  {
   "cell_type": "markdown",
   "id": "0c65767a",
   "metadata": {},
   "source": [
    "### Описание проекта"
   ]
  },
  {
   "cell_type": "markdown",
   "id": "736e694f",
   "metadata": {},
   "source": [
    "Вы аналитик популярного сервиса аренды самокатов GoFast. Вам передали данные о некоторых пользователях из нескольких городов, а также об их поездках. Проанализируйте данные и проверьте некоторые гипотезы, которые могут помочь бизнесу вырасти.\n",
    "Чтобы совершать поездки по городу, пользователи сервиса GoFast пользуются мобильным приложением. Сервисом можно пользоваться:\n",
    "\n",
    "**без подписки**\n",
    "- абонентская плата отсутствует;\n",
    "- стоимость одной минуты поездки — 8 рублей;\n",
    "- стоимость старта (начала поездки) — 50 рублей;\n",
    "\n",
    "**с подпиской Ultra**\n",
    "- абонентская плата — 199 рублей в месяц;\n",
    "- стоимость одной минуты поездки — 6 рублей;\n",
    "- стоимость старта — бесплатно."
   ]
  },
  {
   "cell_type": "markdown",
   "id": "840b6e02",
   "metadata": {},
   "source": [
    "***Цель исследования:***\n",
    "1. Проанализировать общую информацию сервиса аренды самокатов GoFast о пользователях и поездках;\n",
    "2. Осуществить подсчет помесячной выручки, которую принёс каждый пользователь сервиса аренды самокатов;\n",
    "3. Определить какой вид использованиея сервиса аренды самокатов GoFast выгоднее (с подпиской \"Ультра\" или без);\n",
    "4. Проверить гипотезы связанные с увеличением количества пользователей с подпиской \"Ультра\";\n",
    "5. На основе полученных данных сформулировать выводы и рекомендации для бизнеса."
   ]
  },
  {
   "cell_type": "markdown",
   "id": "ddfff352",
   "metadata": {},
   "source": [
    "***Ход исследования:***\n",
    "1. Получение данных из файлов:\n",
    "- /datasets/users_go.csv\n",
    "- /datasets/rides_go.csv\n",
    "- /datasets/subscriptions_go.csv\n",
    "2. Обзор данных, предварительная обработка данных (проверка на ошибки, пропуски, дубликаты, аномальные значения и др.). Создание, добавление, изменение необходимых столбцов;\n",
    "4. Проведение исследовательского анализа данных. Объединение данных;\n",
    "5. Произведение необходимых рассчетов. Проверка гипотез;\n",
    "6. Написание общего вывода."
   ]
  },
  {
   "cell_type": "markdown",
   "id": "838add25",
   "metadata": {},
   "source": [
    "### Описание данных"
   ]
  },
  {
   "cell_type": "markdown",
   "id": "438964f9",
   "metadata": {},
   "source": [
    "***Таблица users (информация о пользователях):***\n",
    "\n",
    "- user_id — уникальный идентификатор пользователя\n",
    "- name — имя пользователя\n",
    "- age — возраст пользователя \n",
    "- city — город \n",
    "- subscription_type — тип подписки (free, ultra)\n",
    "\n",
    "***Таблица rides (информация о поездках):***\n",
    "\n",
    "- user_id — уникальный идентификатор пользователя\n",
    "- distance — расстояние, которое пользователь проехал в текущей сессии (в метрах)\n",
    "- duration — продолжительность сессии (в минутах) — время с того момента, как пользователь нажал кнопку «Начать поездку» до момента, как он нажал кнопку «Завершить поездку»\n",
    "- date — дата совершения поездки\n",
    "\n",
    "***Таблица subscriptions (информация о подписке):***\n",
    "\n",
    "- subscription_type — тип подписки\n",
    "- minute_price — стоимость одной минуты поездки по данной подписке\n",
    "- start_ride_price — стоимость начала поездки\n",
    "- subscription_fee — стоимость ежемесячного платежа"
   ]
  },
  {
   "cell_type": "markdown",
   "id": "bc53ebc7",
   "metadata": {},
   "source": [
    "## Шаг 1. Загрузка данных и ознакомление с ними"
   ]
  },
  {
   "cell_type": "code",
   "execution_count": 1,
   "id": "60ef0d98",
   "metadata": {},
   "outputs": [],
   "source": [
    "#импорт библиотек\n",
    "import pandas as pd\n",
    "import copy\n",
    "import matplotlib.pyplot as plt \n",
    "import seaborn as sns\n",
    "import numpy as np\n",
    "import scipy.stats as stats\n",
    "from scipy import stats as st\n",
    "from math import sqrt"
   ]
  },
  {
   "cell_type": "code",
   "execution_count": 2,
   "id": "eff9f206",
   "metadata": {},
   "outputs": [],
   "source": [
    "users = pd.read_csv('/datasets/users_go.csv')\n",
    "rides = pd.read_csv('/datasets/rides_go.csv')\n",
    "subscriptions = pd.read_csv('/datasets/subscriptions_go.csv')"
   ]
  },
  {
   "cell_type": "markdown",
   "id": "3003ea4b",
   "metadata": {},
   "source": [
    "### Общая информация о содержании данных."
   ]
  },
  {
   "cell_type": "markdown",
   "id": "cbc1db21",
   "metadata": {},
   "source": [
    "***Изучим общую информацию о датафрейме users***"
   ]
  },
  {
   "cell_type": "code",
   "execution_count": 3,
   "id": "a133495b",
   "metadata": {},
   "outputs": [
    {
     "data": {
      "text/html": [
       "<div>\n",
       "<style scoped>\n",
       "    .dataframe tbody tr th:only-of-type {\n",
       "        vertical-align: middle;\n",
       "    }\n",
       "\n",
       "    .dataframe tbody tr th {\n",
       "        vertical-align: top;\n",
       "    }\n",
       "\n",
       "    .dataframe thead th {\n",
       "        text-align: right;\n",
       "    }\n",
       "</style>\n",
       "<table border=\"1\" class=\"dataframe\">\n",
       "  <thead>\n",
       "    <tr style=\"text-align: right;\">\n",
       "      <th></th>\n",
       "      <th>user_id</th>\n",
       "      <th>name</th>\n",
       "      <th>age</th>\n",
       "      <th>city</th>\n",
       "      <th>subscription_type</th>\n",
       "    </tr>\n",
       "  </thead>\n",
       "  <tbody>\n",
       "    <tr>\n",
       "      <th>0</th>\n",
       "      <td>1</td>\n",
       "      <td>Кира</td>\n",
       "      <td>22</td>\n",
       "      <td>Тюмень</td>\n",
       "      <td>ultra</td>\n",
       "    </tr>\n",
       "    <tr>\n",
       "      <th>1</th>\n",
       "      <td>2</td>\n",
       "      <td>Станислав</td>\n",
       "      <td>31</td>\n",
       "      <td>Омск</td>\n",
       "      <td>ultra</td>\n",
       "    </tr>\n",
       "    <tr>\n",
       "      <th>2</th>\n",
       "      <td>3</td>\n",
       "      <td>Алексей</td>\n",
       "      <td>20</td>\n",
       "      <td>Москва</td>\n",
       "      <td>ultra</td>\n",
       "    </tr>\n",
       "    <tr>\n",
       "      <th>3</th>\n",
       "      <td>4</td>\n",
       "      <td>Константин</td>\n",
       "      <td>26</td>\n",
       "      <td>Ростов-на-Дону</td>\n",
       "      <td>ultra</td>\n",
       "    </tr>\n",
       "    <tr>\n",
       "      <th>4</th>\n",
       "      <td>5</td>\n",
       "      <td>Адель</td>\n",
       "      <td>28</td>\n",
       "      <td>Омск</td>\n",
       "      <td>ultra</td>\n",
       "    </tr>\n",
       "  </tbody>\n",
       "</table>\n",
       "</div>"
      ],
      "text/plain": [
       "   user_id        name  age            city subscription_type\n",
       "0        1        Кира   22          Тюмень             ultra\n",
       "1        2   Станислав   31            Омск             ultra\n",
       "2        3     Алексей   20          Москва             ultra\n",
       "3        4  Константин   26  Ростов-на-Дону             ultra\n",
       "4        5       Адель   28            Омск             ultra"
      ]
     },
     "execution_count": 3,
     "metadata": {},
     "output_type": "execute_result"
    }
   ],
   "source": [
    "users.head()"
   ]
  },
  {
   "cell_type": "code",
   "execution_count": 4,
   "id": "eba19425",
   "metadata": {},
   "outputs": [
    {
     "name": "stdout",
     "output_type": "stream",
     "text": [
      "<class 'pandas.core.frame.DataFrame'>\n",
      "RangeIndex: 1565 entries, 0 to 1564\n",
      "Data columns (total 5 columns):\n",
      " #   Column             Non-Null Count  Dtype \n",
      "---  ------             --------------  ----- \n",
      " 0   user_id            1565 non-null   int64 \n",
      " 1   name               1565 non-null   object\n",
      " 2   age                1565 non-null   int64 \n",
      " 3   city               1565 non-null   object\n",
      " 4   subscription_type  1565 non-null   object\n",
      "dtypes: int64(2), object(3)\n",
      "memory usage: 61.3+ KB\n"
     ]
    }
   ],
   "source": [
    "users.info()"
   ]
  },
  {
   "cell_type": "markdown",
   "id": "a86962e8",
   "metadata": {},
   "source": [
    "Видим, что пропуски в столбцах отсутствуют. Строки имеют корректный вид."
   ]
  },
  {
   "cell_type": "markdown",
   "id": "14683f81",
   "metadata": {},
   "source": [
    "***Изучим общую информацию о датафрейме rides***"
   ]
  },
  {
   "cell_type": "code",
   "execution_count": 5,
   "id": "31f7356a",
   "metadata": {},
   "outputs": [
    {
     "data": {
      "text/html": [
       "<div>\n",
       "<style scoped>\n",
       "    .dataframe tbody tr th:only-of-type {\n",
       "        vertical-align: middle;\n",
       "    }\n",
       "\n",
       "    .dataframe tbody tr th {\n",
       "        vertical-align: top;\n",
       "    }\n",
       "\n",
       "    .dataframe thead th {\n",
       "        text-align: right;\n",
       "    }\n",
       "</style>\n",
       "<table border=\"1\" class=\"dataframe\">\n",
       "  <thead>\n",
       "    <tr style=\"text-align: right;\">\n",
       "      <th></th>\n",
       "      <th>user_id</th>\n",
       "      <th>distance</th>\n",
       "      <th>duration</th>\n",
       "      <th>date</th>\n",
       "    </tr>\n",
       "  </thead>\n",
       "  <tbody>\n",
       "    <tr>\n",
       "      <th>0</th>\n",
       "      <td>1</td>\n",
       "      <td>4409.919140</td>\n",
       "      <td>25.599769</td>\n",
       "      <td>2021-01-01</td>\n",
       "    </tr>\n",
       "    <tr>\n",
       "      <th>1</th>\n",
       "      <td>1</td>\n",
       "      <td>2617.592153</td>\n",
       "      <td>15.816871</td>\n",
       "      <td>2021-01-18</td>\n",
       "    </tr>\n",
       "    <tr>\n",
       "      <th>2</th>\n",
       "      <td>1</td>\n",
       "      <td>754.159807</td>\n",
       "      <td>6.232113</td>\n",
       "      <td>2021-04-20</td>\n",
       "    </tr>\n",
       "    <tr>\n",
       "      <th>3</th>\n",
       "      <td>1</td>\n",
       "      <td>2694.783254</td>\n",
       "      <td>18.511000</td>\n",
       "      <td>2021-08-11</td>\n",
       "    </tr>\n",
       "    <tr>\n",
       "      <th>4</th>\n",
       "      <td>1</td>\n",
       "      <td>4028.687306</td>\n",
       "      <td>26.265803</td>\n",
       "      <td>2021-08-28</td>\n",
       "    </tr>\n",
       "  </tbody>\n",
       "</table>\n",
       "</div>"
      ],
      "text/plain": [
       "   user_id     distance   duration        date\n",
       "0        1  4409.919140  25.599769  2021-01-01\n",
       "1        1  2617.592153  15.816871  2021-01-18\n",
       "2        1   754.159807   6.232113  2021-04-20\n",
       "3        1  2694.783254  18.511000  2021-08-11\n",
       "4        1  4028.687306  26.265803  2021-08-28"
      ]
     },
     "execution_count": 5,
     "metadata": {},
     "output_type": "execute_result"
    }
   ],
   "source": [
    "rides.head()"
   ]
  },
  {
   "cell_type": "code",
   "execution_count": 6,
   "id": "7fec2f9a",
   "metadata": {},
   "outputs": [
    {
     "name": "stdout",
     "output_type": "stream",
     "text": [
      "<class 'pandas.core.frame.DataFrame'>\n",
      "RangeIndex: 18068 entries, 0 to 18067\n",
      "Data columns (total 4 columns):\n",
      " #   Column    Non-Null Count  Dtype  \n",
      "---  ------    --------------  -----  \n",
      " 0   user_id   18068 non-null  int64  \n",
      " 1   distance  18068 non-null  float64\n",
      " 2   duration  18068 non-null  float64\n",
      " 3   date      18068 non-null  object \n",
      "dtypes: float64(2), int64(1), object(1)\n",
      "memory usage: 564.8+ KB\n"
     ]
    }
   ],
   "source": [
    "rides.info()"
   ]
  },
  {
   "cell_type": "markdown",
   "id": "c393dada",
   "metadata": {},
   "source": [
    "Пропуски в столбцах отсутствуют. Но здесь мы видим, что столбец \"date\" имеет тип \"object\", изменим его в следующем шаге."
   ]
  },
  {
   "cell_type": "markdown",
   "id": "72b1acc7",
   "metadata": {},
   "source": [
    "***Изучим общую информацию о датафрейме subscriptions***"
   ]
  },
  {
   "cell_type": "code",
   "execution_count": 7,
   "id": "f1bc67f3",
   "metadata": {},
   "outputs": [
    {
     "data": {
      "text/html": [
       "<div>\n",
       "<style scoped>\n",
       "    .dataframe tbody tr th:only-of-type {\n",
       "        vertical-align: middle;\n",
       "    }\n",
       "\n",
       "    .dataframe tbody tr th {\n",
       "        vertical-align: top;\n",
       "    }\n",
       "\n",
       "    .dataframe thead th {\n",
       "        text-align: right;\n",
       "    }\n",
       "</style>\n",
       "<table border=\"1\" class=\"dataframe\">\n",
       "  <thead>\n",
       "    <tr style=\"text-align: right;\">\n",
       "      <th></th>\n",
       "      <th>subscription_type</th>\n",
       "      <th>minute_price</th>\n",
       "      <th>start_ride_price</th>\n",
       "      <th>subscription_fee</th>\n",
       "    </tr>\n",
       "  </thead>\n",
       "  <tbody>\n",
       "    <tr>\n",
       "      <th>0</th>\n",
       "      <td>free</td>\n",
       "      <td>8</td>\n",
       "      <td>50</td>\n",
       "      <td>0</td>\n",
       "    </tr>\n",
       "    <tr>\n",
       "      <th>1</th>\n",
       "      <td>ultra</td>\n",
       "      <td>6</td>\n",
       "      <td>0</td>\n",
       "      <td>199</td>\n",
       "    </tr>\n",
       "  </tbody>\n",
       "</table>\n",
       "</div>"
      ],
      "text/plain": [
       "  subscription_type  minute_price  start_ride_price  subscription_fee\n",
       "0              free             8                50                 0\n",
       "1             ultra             6                 0               199"
      ]
     },
     "execution_count": 7,
     "metadata": {},
     "output_type": "execute_result"
    }
   ],
   "source": [
    "subscriptions.head()"
   ]
  },
  {
   "cell_type": "code",
   "execution_count": 8,
   "id": "2d1f0c4f",
   "metadata": {},
   "outputs": [
    {
     "name": "stdout",
     "output_type": "stream",
     "text": [
      "<class 'pandas.core.frame.DataFrame'>\n",
      "RangeIndex: 2 entries, 0 to 1\n",
      "Data columns (total 4 columns):\n",
      " #   Column             Non-Null Count  Dtype \n",
      "---  ------             --------------  ----- \n",
      " 0   subscription_type  2 non-null      object\n",
      " 1   minute_price       2 non-null      int64 \n",
      " 2   start_ride_price   2 non-null      int64 \n",
      " 3   subscription_fee   2 non-null      int64 \n",
      "dtypes: int64(3), object(1)\n",
      "memory usage: 192.0+ bytes\n"
     ]
    }
   ],
   "source": [
    "subscriptions.info()"
   ]
  },
  {
   "cell_type": "markdown",
   "id": "8f93d81c",
   "metadata": {},
   "source": [
    "Всего 2 строки. Строки имеют корректный вид."
   ]
  },
  {
   "cell_type": "markdown",
   "id": "e95ebca7",
   "metadata": {},
   "source": [
    "## Шаг 2. Предобработка данных"
   ]
  },
  {
   "cell_type": "markdown",
   "id": "d1e1739c",
   "metadata": {},
   "source": [
    "***Датафрейм users***"
   ]
  },
  {
   "cell_type": "markdown",
   "id": "a963b0fa",
   "metadata": {},
   "source": [
    "Проверим, сколько в датафрейме уникальных пользователей и есть ли в данных явные дубликаты:"
   ]
  },
  {
   "cell_type": "code",
   "execution_count": 9,
   "id": "ea0c7b5a",
   "metadata": {},
   "outputs": [
    {
     "name": "stdout",
     "output_type": "stream",
     "text": [
      "Количество строк в датафрейме users: 1565\n",
      "Количество уникальных пользователей: 1534\n",
      "Количество дубликатов: 31\n"
     ]
    }
   ],
   "source": [
    "print('Количество строк в датафрейме users:', users.shape[0])\n",
    "print('Количество уникальных пользователей:', users['user_id'].nunique())\n",
    "print('Количество дубликатов:', users.duplicated().sum())"
   ]
  },
  {
   "cell_type": "markdown",
   "id": "a07fd6fd",
   "metadata": {},
   "source": [
    "Избавимся от явных дубликатов:"
   ]
  },
  {
   "cell_type": "code",
   "execution_count": 10,
   "id": "045a1fdd",
   "metadata": {},
   "outputs": [],
   "source": [
    "users=users.drop_duplicates()"
   ]
  },
  {
   "cell_type": "code",
   "execution_count": 11,
   "id": "68d36b3d",
   "metadata": {},
   "outputs": [
    {
     "name": "stdout",
     "output_type": "stream",
     "text": [
      "Количество дубликатов: 0\n"
     ]
    }
   ],
   "source": [
    "#перепроверим\n",
    "print('Количество дубликатов:', users.duplicated().sum())"
   ]
  },
  {
   "cell_type": "markdown",
   "id": "6c2790ed",
   "metadata": {},
   "source": [
    "***Датафрейм rides***"
   ]
  },
  {
   "cell_type": "code",
   "execution_count": 12,
   "id": "af6d202c",
   "metadata": {},
   "outputs": [
    {
     "name": "stdout",
     "output_type": "stream",
     "text": [
      "Количество строк в датафрейме users: 18068\n",
      "Количество уникальных пользователей: 1534\n",
      "Количество дубликатов: 0\n"
     ]
    }
   ],
   "source": [
    "print('Количество строк в датафрейме users:', rides.shape[0])\n",
    "print('Количество уникальных пользователей:', rides['user_id'].nunique())\n",
    "print('Количество дубликатов:', rides.duplicated().sum())"
   ]
  },
  {
   "cell_type": "markdown",
   "id": "39ac0ef8",
   "metadata": {},
   "source": [
    "Количество уникальных пользователей 1534, ровно столько же как и в датафреме users. Явные дыбликаты в датафрейме отсутствуют."
   ]
  },
  {
   "cell_type": "markdown",
   "id": "754a3b7c",
   "metadata": {},
   "source": [
    "Приведем столбец 'date' к типу даты pandas:"
   ]
  },
  {
   "cell_type": "code",
   "execution_count": 13,
   "id": "5cc85fc7",
   "metadata": {},
   "outputs": [],
   "source": [
    "rides['date']=pd.to_datetime(rides['date'], format = '%Y-%m-%d')"
   ]
  },
  {
   "cell_type": "markdown",
   "id": "a74c619d",
   "metadata": {},
   "source": [
    "Создадим новый столбец с номером месяца на основе столбца 'date':"
   ]
  },
  {
   "cell_type": "code",
   "execution_count": 14,
   "id": "4b09ec09",
   "metadata": {},
   "outputs": [],
   "source": [
    "rides['month']=rides['date'].dt.month"
   ]
  },
  {
   "cell_type": "markdown",
   "id": "3bbb1c4b",
   "metadata": {},
   "source": [
    "Округлим значения в столбце 'duration' до следующего целого числа:"
   ]
  },
  {
   "cell_type": "code",
   "execution_count": 15,
   "id": "20d58087",
   "metadata": {},
   "outputs": [],
   "source": [
    "rides['duration']=np.ceil(rides['duration'])"
   ]
  },
  {
   "cell_type": "code",
   "execution_count": 16,
   "id": "408e1a22",
   "metadata": {},
   "outputs": [
    {
     "data": {
      "text/html": [
       "<div>\n",
       "<style scoped>\n",
       "    .dataframe tbody tr th:only-of-type {\n",
       "        vertical-align: middle;\n",
       "    }\n",
       "\n",
       "    .dataframe tbody tr th {\n",
       "        vertical-align: top;\n",
       "    }\n",
       "\n",
       "    .dataframe thead th {\n",
       "        text-align: right;\n",
       "    }\n",
       "</style>\n",
       "<table border=\"1\" class=\"dataframe\">\n",
       "  <thead>\n",
       "    <tr style=\"text-align: right;\">\n",
       "      <th></th>\n",
       "      <th>user_id</th>\n",
       "      <th>distance</th>\n",
       "      <th>duration</th>\n",
       "      <th>date</th>\n",
       "      <th>month</th>\n",
       "    </tr>\n",
       "  </thead>\n",
       "  <tbody>\n",
       "    <tr>\n",
       "      <th>0</th>\n",
       "      <td>1</td>\n",
       "      <td>4409.919140</td>\n",
       "      <td>26.0</td>\n",
       "      <td>2021-01-01</td>\n",
       "      <td>1</td>\n",
       "    </tr>\n",
       "    <tr>\n",
       "      <th>1</th>\n",
       "      <td>1</td>\n",
       "      <td>2617.592153</td>\n",
       "      <td>16.0</td>\n",
       "      <td>2021-01-18</td>\n",
       "      <td>1</td>\n",
       "    </tr>\n",
       "    <tr>\n",
       "      <th>2</th>\n",
       "      <td>1</td>\n",
       "      <td>754.159807</td>\n",
       "      <td>7.0</td>\n",
       "      <td>2021-04-20</td>\n",
       "      <td>4</td>\n",
       "    </tr>\n",
       "    <tr>\n",
       "      <th>3</th>\n",
       "      <td>1</td>\n",
       "      <td>2694.783254</td>\n",
       "      <td>19.0</td>\n",
       "      <td>2021-08-11</td>\n",
       "      <td>8</td>\n",
       "    </tr>\n",
       "    <tr>\n",
       "      <th>4</th>\n",
       "      <td>1</td>\n",
       "      <td>4028.687306</td>\n",
       "      <td>27.0</td>\n",
       "      <td>2021-08-28</td>\n",
       "      <td>8</td>\n",
       "    </tr>\n",
       "  </tbody>\n",
       "</table>\n",
       "</div>"
      ],
      "text/plain": [
       "   user_id     distance  duration       date  month\n",
       "0        1  4409.919140      26.0 2021-01-01      1\n",
       "1        1  2617.592153      16.0 2021-01-18      1\n",
       "2        1   754.159807       7.0 2021-04-20      4\n",
       "3        1  2694.783254      19.0 2021-08-11      8\n",
       "4        1  4028.687306      27.0 2021-08-28      8"
      ]
     },
     "execution_count": 16,
     "metadata": {},
     "output_type": "execute_result"
    }
   ],
   "source": [
    "#посмотрим на изменения\n",
    "rides.head()"
   ]
  },
  {
   "cell_type": "markdown",
   "id": "212593c7",
   "metadata": {},
   "source": [
    "## Шаг 3. Исследовательский анализ данных"
   ]
  },
  {
   "cell_type": "markdown",
   "id": "17a75b5a",
   "metadata": {},
   "source": [
    "### Общая информация о пользователях и поездках"
   ]
  },
  {
   "cell_type": "markdown",
   "id": "08771dba",
   "metadata": {},
   "source": [
    "####  Частота встречаемости городов"
   ]
  },
  {
   "cell_type": "code",
   "execution_count": 17,
   "id": "92173f0a",
   "metadata": {},
   "outputs": [
    {
     "data": {
      "text/plain": [
       "Пятигорск         219\n",
       "Екатеринбург      204\n",
       "Ростов-на-Дону    198\n",
       "Краснодар         193\n",
       "Сочи              189\n",
       "Омск              183\n",
       "Тюмень            180\n",
       "Москва            168\n",
       "Name: city, dtype: int64"
      ]
     },
     "execution_count": 17,
     "metadata": {},
     "output_type": "execute_result"
    }
   ],
   "source": [
    "#посчитаем в каких городах больше всего пользователей\n",
    "users['city'].value_counts()"
   ]
  },
  {
   "cell_type": "code",
   "execution_count": 18,
   "id": "c0b831b2",
   "metadata": {},
   "outputs": [
    {
     "data": {
      "image/png": "[encoded data removed]",
      "text/plain": [
       "<Figure size 864x360 with 1 Axes>"
      ]
     },
     "metadata": {
      "needs_background": "light"
     },
     "output_type": "display_data"
    }
   ],
   "source": [
    "#посмотрим визуально\n",
    "users['city'].value_counts()\\\n",
    ".plot(xlabel='города', \n",
    "      ylabel='пользователи', \n",
    "      kind='bar', \n",
    "      rot=0, \n",
    "      figsize=(12, 5), \n",
    "      grid=True, \n",
    "      title = 'Количество пользователей самокатами по городам')\n",
    "plt.show()"
   ]
  },
  {
   "cell_type": "markdown",
   "id": "8b52596d",
   "metadata": {},
   "source": [
    "Больше всего пользователей сервиса аренды самокатов сконцентрировано в г. Пятигорске, меньше всего в г. Москве. Можно предположить, что в Москве очень хорошо развит общественный транспорт и поэтому пользователей самокатами меньше,  в то время как в г. Пятигорске, например, отсутсвует метро. Мы также видим много пользователей самокатами и в других \"южных городах\" (Ростов-на-Дону, Краснодар, Сочи), возможно, там где больше отдыхающих - больше пользователей самокатами."
   ]
  },
  {
   "cell_type": "markdown",
   "id": "d7954074",
   "metadata": {},
   "source": [
    "#### Cоотношение пользователей с подпиской и без подписки"
   ]
  },
  {
   "cell_type": "code",
   "execution_count": 19,
   "id": "a88e09a2",
   "metadata": {},
   "outputs": [
    {
     "data": {
      "image/png": "[encoded data removed]",
      "text/plain": [
       "<Figure size 432x288 with 1 Axes>"
      ]
     },
     "metadata": {
      "needs_background": "light"
     },
     "output_type": "display_data"
    }
   ],
   "source": [
    "users['subscription_type'].hist()\n",
    "plt.show()"
   ]
  },
  {
   "cell_type": "code",
   "execution_count": 20,
   "id": "3ea72622",
   "metadata": {},
   "outputs": [
    {
     "data": {
      "image/png": "[encoded data removed]",
      "text/plain": [
       "<Figure size 432x288 with 1 Axes>"
      ]
     },
     "metadata": {},
     "output_type": "display_data"
    }
   ],
   "source": [
    "quantity = [699, 835]\n",
    "labels = ['ultra', 'free']\n",
    "\n",
    "colors = sns.color_palette('bright')[ 0:5 ]\n",
    "\n",
    "plt.pie(quantity, labels = labels, colors = colors, autopct='%.0f%%')\n",
    "plt.show() "
   ]
  },
  {
   "cell_type": "code",
   "execution_count": 21,
   "id": "3255fcc4",
   "metadata": {},
   "outputs": [
    {
     "name": "stdout",
     "output_type": "stream",
     "text": [
      "Количество пользователей без подписки: 835\n"
     ]
    }
   ],
   "source": [
    "users_free=users.loc[users['subscription_type'] == 'free']\n",
    "print('Количество пользователей без подписки:', len(users_free))"
   ]
  },
  {
   "cell_type": "code",
   "execution_count": 22,
   "id": "cfe97d8d",
   "metadata": {},
   "outputs": [
    {
     "name": "stdout",
     "output_type": "stream",
     "text": [
      "Количество пользователей c подпиской: 699\n"
     ]
    }
   ],
   "source": [
    "users_ultra=users.loc[users['subscription_type'] == 'ultra']\n",
    "print('Количество пользователей c подпиской:', len(users_ultra))"
   ]
  },
  {
   "cell_type": "markdown",
   "id": "2bcca0c3",
   "metadata": {},
   "source": [
    "Из общего количества, тех кто воспользовался сервисом аренды самокатов, чуть меньше половины оформляют подписку."
   ]
  },
  {
   "cell_type": "markdown",
   "id": "4b62a336",
   "metadata": {},
   "source": [
    "#### Возраст пользователей"
   ]
  },
  {
   "cell_type": "code",
   "execution_count": 23,
   "id": "356f103e",
   "metadata": {},
   "outputs": [
    {
     "data": {
      "text/plain": [
       "25    145\n",
       "24    132\n",
       "26    131\n",
       "23    129\n",
       "27    119\n",
       "22    119\n",
       "28    112\n",
       "21     93\n",
       "20     71\n",
       "30     68\n",
       "29     68\n",
       "31     48\n",
       "19     47\n",
       "18     46\n",
       "32     41\n",
       "33     39\n",
       "17     26\n",
       "34     19\n",
       "16     19\n",
       "35     15\n",
       "15     13\n",
       "14      9\n",
       "13      8\n",
       "36      6\n",
       "12      4\n",
       "38      3\n",
       "37      2\n",
       "39      1\n",
       "43      1\n",
       "Name: age, dtype: int64"
      ]
     },
     "execution_count": 23,
     "metadata": {},
     "output_type": "execute_result"
    }
   ],
   "source": [
    "users['age'].value_counts()"
   ]
  },
  {
   "cell_type": "code",
   "execution_count": 24,
   "id": "b1df5b4d",
   "metadata": {},
   "outputs": [
    {
     "data": {
      "text/plain": [
       "count    1534.000000\n",
       "mean       24.903520\n",
       "std         4.572367\n",
       "min        12.000000\n",
       "25%        22.000000\n",
       "50%        25.000000\n",
       "75%        28.000000\n",
       "max        43.000000\n",
       "Name: age, dtype: float64"
      ]
     },
     "execution_count": 24,
     "metadata": {},
     "output_type": "execute_result"
    }
   ],
   "source": [
    "#посмотрим на минимальный/максимальный/средний возраст пользователей\n",
    "users['age'].describe()"
   ]
  },
  {
   "cell_type": "code",
   "execution_count": 25,
   "id": "7beca0a0",
   "metadata": {},
   "outputs": [
    {
     "data": {
      "image/png": "[encoded data removed]",
      "text/plain": [
       "<Figure size 432x288 with 1 Axes>"
      ]
     },
     "metadata": {
      "needs_background": "light"
     },
     "output_type": "display_data"
    }
   ],
   "source": [
    "users['age'].hist()\n",
    "plt.show()"
   ]
  },
  {
   "cell_type": "markdown",
   "id": "c071a90c",
   "metadata": {},
   "source": [
    "Средний возраст пользователя сервиса аренды самокатов 25 лет. Странно видеть значения возраста от 12 до 17 лет, это не похоже на ошибку ввода, возможно сервис это допускает."
   ]
  },
  {
   "cell_type": "markdown",
   "id": "301acb7a",
   "metadata": {},
   "source": [
    "#### Расстояние, которое пользователь преодолел за одну поездку"
   ]
  },
  {
   "cell_type": "code",
   "execution_count": 26,
   "id": "68d0b54a",
   "metadata": {},
   "outputs": [
    {
     "data": {
      "text/plain": [
       "count    18068.000000\n",
       "mean      3070.659976\n",
       "std       1116.831209\n",
       "min          0.855683\n",
       "25%       2543.226360\n",
       "50%       3133.609994\n",
       "75%       3776.222735\n",
       "max       7211.007745\n",
       "Name: distance, dtype: float64"
      ]
     },
     "execution_count": 26,
     "metadata": {},
     "output_type": "execute_result"
    }
   ],
   "source": [
    "rides['distance'].describe()"
   ]
  },
  {
   "cell_type": "code",
   "execution_count": 27,
   "id": "c0324068",
   "metadata": {},
   "outputs": [
    {
     "data": {
      "image/png": "[encoded data removed]",
      "text/plain": [
       "<Figure size 432x288 with 1 Axes>"
      ]
     },
     "metadata": {
      "needs_background": "light"
     },
     "output_type": "display_data"
    }
   ],
   "source": [
    "rides['distance'].hist()\n",
    "plt.show()"
   ]
  },
  {
   "cell_type": "markdown",
   "id": "ba140677",
   "metadata": {},
   "source": [
    "Мы видим минимальное значение в 80 см и максимальное в 7,2 км. Медианное значение составляет 3,1 км. \n",
    "\n",
    "По типовым характеристикам самоката в среднем его заряда хватает на 20-40 км (с учетом стиля вождения, ровности дороги, температурного режима). 50-60 км самокат проезжает при полном заряде в идельных условиях для езды. Так много не проехал ни один пользователь :)"
   ]
  },
  {
   "cell_type": "markdown",
   "id": "10cd55ef",
   "metadata": {},
   "source": [
    "Посмотрим какие значения можно считать аномальными, постоим диграмму размаха:"
   ]
  },
  {
   "cell_type": "code",
   "execution_count": 28,
   "id": "be534194",
   "metadata": {},
   "outputs": [
    {
     "data": {
      "text/plain": [
       "<AxesSubplot:>"
      ]
     },
     "execution_count": 28,
     "metadata": {},
     "output_type": "execute_result"
    },
    {
     "data": {
      "image/png": "[encoded data removed]",
      "text/plain": [
       "<Figure size 432x288 with 1 Axes>"
      ]
     },
     "metadata": {
      "needs_background": "light"
     },
     "output_type": "display_data"
    }
   ],
   "source": [
    "rides.loc[:,['distance']].boxplot() "
   ]
  },
  {
   "cell_type": "markdown",
   "id": "3f5eedbc",
   "metadata": {},
   "source": [
    "За пределы нормальных значений выходят поездки, расстояние у которых выше 5,6 км и ниже 800 м."
   ]
  },
  {
   "cell_type": "code",
   "execution_count": 29,
   "id": "c99d19ac",
   "metadata": {},
   "outputs": [
    {
     "name": "stdout",
     "output_type": "stream",
     "text": [
      "Количество строк для удаления: 134\n"
     ]
    }
   ],
   "source": [
    "#посчитаем количество строк, где расстояние, которое проехал пользователь, больше 5,6 км\n",
    "str_count = len(rides['distance'][rides['distance']>5600])\n",
    "print('Количество строк для удаления:', str_count)"
   ]
  },
  {
   "cell_type": "code",
   "execution_count": 30,
   "id": "74b2ee9a",
   "metadata": {},
   "outputs": [
    {
     "name": "stdout",
     "output_type": "stream",
     "text": [
      "Количество строк для удаления: 1078\n"
     ]
    }
   ],
   "source": [
    "#посчитаем количество строк, где расстояние,которое проехал пользователь, меньше 800 м\n",
    "str_count = len(rides['distance'][rides['distance']<800])\n",
    "print('Количество строк для удаления:', str_count)"
   ]
  },
  {
   "cell_type": "markdown",
   "id": "66da2106",
   "metadata": {},
   "source": [
    "Общее количество строк для удаления 1212, что составляет около 6% датасета. Можем их удалить."
   ]
  },
  {
   "cell_type": "code",
   "execution_count": 31,
   "id": "22e56797",
   "metadata": {},
   "outputs": [],
   "source": [
    "rides = rides[rides['distance'] < 5600]\n",
    "rides = rides[rides['distance'] > 800]"
   ]
  },
  {
   "cell_type": "markdown",
   "id": "74707020",
   "metadata": {},
   "source": [
    "#### Продолжительность поездок"
   ]
  },
  {
   "cell_type": "code",
   "execution_count": 32,
   "id": "a41baff8",
   "metadata": {},
   "outputs": [
    {
     "data": {
      "text/plain": [
       "count    16856.000000\n",
       "mean        18.826353\n",
       "std          5.752580\n",
       "min          1.000000\n",
       "25%         15.000000\n",
       "50%         19.000000\n",
       "75%         22.000000\n",
       "max         41.000000\n",
       "Name: duration, dtype: float64"
      ]
     },
     "execution_count": 32,
     "metadata": {},
     "output_type": "execute_result"
    }
   ],
   "source": [
    "rides['duration'].describe()"
   ]
  },
  {
   "cell_type": "code",
   "execution_count": 33,
   "id": "5774d1c9",
   "metadata": {},
   "outputs": [
    {
     "data": {
      "image/png": "[encoded data removed]",
      "text/plain": [
       "<Figure size 432x288 with 1 Axes>"
      ]
     },
     "metadata": {
      "needs_background": "light"
     },
     "output_type": "display_data"
    }
   ],
   "source": [
    "rides['duration'].hist()\n",
    "plt.show()"
   ]
  },
  {
   "cell_type": "code",
   "execution_count": 34,
   "id": "9f360837",
   "metadata": {},
   "outputs": [
    {
     "data": {
      "image/png": "[encoded data removed]",
      "text/plain": [
       "<Figure size 432x288 with 1 Axes>"
      ]
     },
     "metadata": {
      "needs_background": "light"
     },
     "output_type": "display_data"
    }
   ],
   "source": [
    "rides.loc[:,['duration']].boxplot() \n",
    "plt.show()"
   ]
  },
  {
   "cell_type": "markdown",
   "id": "ab5c572a",
   "metadata": {},
   "source": [
    "Можно сделать вывод, что самокатом редко пользуются меньше 3-х минут и больше 35 минут."
   ]
  },
  {
   "cell_type": "code",
   "execution_count": 35,
   "id": "948db2aa",
   "metadata": {},
   "outputs": [
    {
     "name": "stdout",
     "output_type": "stream",
     "text": [
      "Количество строк для удаления: 76\n"
     ]
    }
   ],
   "source": [
    "str_count = len(rides['duration'][rides['duration']<3])\n",
    "print('Количество строк для удаления:', str_count)"
   ]
  },
  {
   "cell_type": "code",
   "execution_count": 36,
   "id": "a16e64cf",
   "metadata": {},
   "outputs": [
    {
     "name": "stdout",
     "output_type": "stream",
     "text": [
      "Количество строк для удаления: 28\n"
     ]
    }
   ],
   "source": [
    "str_count = len(rides['duration'][rides['duration']>35])\n",
    "print('Количество строк для удаления:', str_count)"
   ]
  },
  {
   "cell_type": "markdown",
   "id": "d2df8640",
   "metadata": {},
   "source": [
    "Общее количество строк для удаления 100, это допустимо, удалив их не выйдем за пределы 10 % датасета."
   ]
  },
  {
   "cell_type": "code",
   "execution_count": 37,
   "id": "8d9a3986",
   "metadata": {},
   "outputs": [],
   "source": [
    "rides = rides[rides['duration'] > 3]\n",
    "rides = rides[rides['duration'] < 35]"
   ]
  },
  {
   "cell_type": "markdown",
   "id": "4ef51331",
   "metadata": {},
   "source": [
    "## Шаг 4. Объединение данных"
   ]
  },
  {
   "cell_type": "code",
   "execution_count": 38,
   "id": "df26375d",
   "metadata": {},
   "outputs": [],
   "source": [
    "#объединим датафреймы users и rides по общему столбцу 'user_id'\n",
    "df_go_1 = users.merge(rides, on='user_id', how='outer')"
   ]
  },
  {
   "cell_type": "code",
   "execution_count": 39,
   "id": "227c2399",
   "metadata": {},
   "outputs": [
    {
     "data": {
      "text/html": [
       "<div>\n",
       "<style scoped>\n",
       "    .dataframe tbody tr th:only-of-type {\n",
       "        vertical-align: middle;\n",
       "    }\n",
       "\n",
       "    .dataframe tbody tr th {\n",
       "        vertical-align: top;\n",
       "    }\n",
       "\n",
       "    .dataframe thead th {\n",
       "        text-align: right;\n",
       "    }\n",
       "</style>\n",
       "<table border=\"1\" class=\"dataframe\">\n",
       "  <thead>\n",
       "    <tr style=\"text-align: right;\">\n",
       "      <th></th>\n",
       "      <th>user_id</th>\n",
       "      <th>name</th>\n",
       "      <th>age</th>\n",
       "      <th>city</th>\n",
       "      <th>subscription_type</th>\n",
       "      <th>distance</th>\n",
       "      <th>duration</th>\n",
       "      <th>date</th>\n",
       "      <th>month</th>\n",
       "    </tr>\n",
       "  </thead>\n",
       "  <tbody>\n",
       "    <tr>\n",
       "      <th>0</th>\n",
       "      <td>1</td>\n",
       "      <td>Кира</td>\n",
       "      <td>22</td>\n",
       "      <td>Тюмень</td>\n",
       "      <td>ultra</td>\n",
       "      <td>4409.919140</td>\n",
       "      <td>26.0</td>\n",
       "      <td>2021-01-01</td>\n",
       "      <td>1</td>\n",
       "    </tr>\n",
       "    <tr>\n",
       "      <th>1</th>\n",
       "      <td>1</td>\n",
       "      <td>Кира</td>\n",
       "      <td>22</td>\n",
       "      <td>Тюмень</td>\n",
       "      <td>ultra</td>\n",
       "      <td>2617.592153</td>\n",
       "      <td>16.0</td>\n",
       "      <td>2021-01-18</td>\n",
       "      <td>1</td>\n",
       "    </tr>\n",
       "    <tr>\n",
       "      <th>2</th>\n",
       "      <td>1</td>\n",
       "      <td>Кира</td>\n",
       "      <td>22</td>\n",
       "      <td>Тюмень</td>\n",
       "      <td>ultra</td>\n",
       "      <td>2694.783254</td>\n",
       "      <td>19.0</td>\n",
       "      <td>2021-08-11</td>\n",
       "      <td>8</td>\n",
       "    </tr>\n",
       "    <tr>\n",
       "      <th>3</th>\n",
       "      <td>1</td>\n",
       "      <td>Кира</td>\n",
       "      <td>22</td>\n",
       "      <td>Тюмень</td>\n",
       "      <td>ultra</td>\n",
       "      <td>4028.687306</td>\n",
       "      <td>27.0</td>\n",
       "      <td>2021-08-28</td>\n",
       "      <td>8</td>\n",
       "    </tr>\n",
       "    <tr>\n",
       "      <th>4</th>\n",
       "      <td>1</td>\n",
       "      <td>Кира</td>\n",
       "      <td>22</td>\n",
       "      <td>Тюмень</td>\n",
       "      <td>ultra</td>\n",
       "      <td>2770.890808</td>\n",
       "      <td>17.0</td>\n",
       "      <td>2021-10-09</td>\n",
       "      <td>10</td>\n",
       "    </tr>\n",
       "    <tr>\n",
       "      <th>...</th>\n",
       "      <td>...</td>\n",
       "      <td>...</td>\n",
       "      <td>...</td>\n",
       "      <td>...</td>\n",
       "      <td>...</td>\n",
       "      <td>...</td>\n",
       "      <td>...</td>\n",
       "      <td>...</td>\n",
       "      <td>...</td>\n",
       "    </tr>\n",
       "    <tr>\n",
       "      <th>16702</th>\n",
       "      <td>1534</td>\n",
       "      <td>Альберт</td>\n",
       "      <td>25</td>\n",
       "      <td>Краснодар</td>\n",
       "      <td>free</td>\n",
       "      <td>3781.098080</td>\n",
       "      <td>20.0</td>\n",
       "      <td>2021-11-04</td>\n",
       "      <td>11</td>\n",
       "    </tr>\n",
       "    <tr>\n",
       "      <th>16703</th>\n",
       "      <td>1534</td>\n",
       "      <td>Альберт</td>\n",
       "      <td>25</td>\n",
       "      <td>Краснодар</td>\n",
       "      <td>free</td>\n",
       "      <td>2840.423057</td>\n",
       "      <td>22.0</td>\n",
       "      <td>2021-11-16</td>\n",
       "      <td>11</td>\n",
       "    </tr>\n",
       "    <tr>\n",
       "      <th>16704</th>\n",
       "      <td>1534</td>\n",
       "      <td>Альберт</td>\n",
       "      <td>25</td>\n",
       "      <td>Краснодар</td>\n",
       "      <td>free</td>\n",
       "      <td>3826.185507</td>\n",
       "      <td>19.0</td>\n",
       "      <td>2021-11-18</td>\n",
       "      <td>11</td>\n",
       "    </tr>\n",
       "    <tr>\n",
       "      <th>16705</th>\n",
       "      <td>1534</td>\n",
       "      <td>Альберт</td>\n",
       "      <td>25</td>\n",
       "      <td>Краснодар</td>\n",
       "      <td>free</td>\n",
       "      <td>2902.308661</td>\n",
       "      <td>17.0</td>\n",
       "      <td>2021-11-27</td>\n",
       "      <td>11</td>\n",
       "    </tr>\n",
       "    <tr>\n",
       "      <th>16706</th>\n",
       "      <td>1534</td>\n",
       "      <td>Альберт</td>\n",
       "      <td>25</td>\n",
       "      <td>Краснодар</td>\n",
       "      <td>free</td>\n",
       "      <td>2371.711192</td>\n",
       "      <td>16.0</td>\n",
       "      <td>2021-12-29</td>\n",
       "      <td>12</td>\n",
       "    </tr>\n",
       "  </tbody>\n",
       "</table>\n",
       "<p>16707 rows × 9 columns</p>\n",
       "</div>"
      ],
      "text/plain": [
       "       user_id     name  age       city subscription_type     distance  \\\n",
       "0            1     Кира   22     Тюмень             ultra  4409.919140   \n",
       "1            1     Кира   22     Тюмень             ultra  2617.592153   \n",
       "2            1     Кира   22     Тюмень             ultra  2694.783254   \n",
       "3            1     Кира   22     Тюмень             ultra  4028.687306   \n",
       "4            1     Кира   22     Тюмень             ultra  2770.890808   \n",
       "...        ...      ...  ...        ...               ...          ...   \n",
       "16702     1534  Альберт   25  Краснодар              free  3781.098080   \n",
       "16703     1534  Альберт   25  Краснодар              free  2840.423057   \n",
       "16704     1534  Альберт   25  Краснодар              free  3826.185507   \n",
       "16705     1534  Альберт   25  Краснодар              free  2902.308661   \n",
       "16706     1534  Альберт   25  Краснодар              free  2371.711192   \n",
       "\n",
       "       duration       date  month  \n",
       "0          26.0 2021-01-01      1  \n",
       "1          16.0 2021-01-18      1  \n",
       "2          19.0 2021-08-11      8  \n",
       "3          27.0 2021-08-28      8  \n",
       "4          17.0 2021-10-09     10  \n",
       "...         ...        ...    ...  \n",
       "16702      20.0 2021-11-04     11  \n",
       "16703      22.0 2021-11-16     11  \n",
       "16704      19.0 2021-11-18     11  \n",
       "16705      17.0 2021-11-27     11  \n",
       "16706      16.0 2021-12-29     12  \n",
       "\n",
       "[16707 rows x 9 columns]"
      ]
     },
     "execution_count": 39,
     "metadata": {},
     "output_type": "execute_result"
    }
   ],
   "source": [
    "df_go_1"
   ]
  },
  {
   "cell_type": "code",
   "execution_count": 40,
   "id": "6bf288b5",
   "metadata": {},
   "outputs": [],
   "source": [
    "#объединим новый датафрейм df_go_1 с датафреймом subscriptions по общему столбцу 'subscription_type'\n",
    "df_go = df_go_1.merge(subscriptions, on='subscription_type', how='outer')"
   ]
  },
  {
   "cell_type": "code",
   "execution_count": 41,
   "id": "135fd919",
   "metadata": {},
   "outputs": [
    {
     "data": {
      "text/html": [
       "<div>\n",
       "<style scoped>\n",
       "    .dataframe tbody tr th:only-of-type {\n",
       "        vertical-align: middle;\n",
       "    }\n",
       "\n",
       "    .dataframe tbody tr th {\n",
       "        vertical-align: top;\n",
       "    }\n",
       "\n",
       "    .dataframe thead th {\n",
       "        text-align: right;\n",
       "    }\n",
       "</style>\n",
       "<table border=\"1\" class=\"dataframe\">\n",
       "  <thead>\n",
       "    <tr style=\"text-align: right;\">\n",
       "      <th></th>\n",
       "      <th>user_id</th>\n",
       "      <th>name</th>\n",
       "      <th>age</th>\n",
       "      <th>city</th>\n",
       "      <th>subscription_type</th>\n",
       "      <th>distance</th>\n",
       "      <th>duration</th>\n",
       "      <th>date</th>\n",
       "      <th>month</th>\n",
       "      <th>minute_price</th>\n",
       "      <th>start_ride_price</th>\n",
       "      <th>subscription_fee</th>\n",
       "    </tr>\n",
       "  </thead>\n",
       "  <tbody>\n",
       "    <tr>\n",
       "      <th>0</th>\n",
       "      <td>1</td>\n",
       "      <td>Кира</td>\n",
       "      <td>22</td>\n",
       "      <td>Тюмень</td>\n",
       "      <td>ultra</td>\n",
       "      <td>4409.919140</td>\n",
       "      <td>26.0</td>\n",
       "      <td>2021-01-01</td>\n",
       "      <td>1</td>\n",
       "      <td>6</td>\n",
       "      <td>0</td>\n",
       "      <td>199</td>\n",
       "    </tr>\n",
       "    <tr>\n",
       "      <th>1</th>\n",
       "      <td>1</td>\n",
       "      <td>Кира</td>\n",
       "      <td>22</td>\n",
       "      <td>Тюмень</td>\n",
       "      <td>ultra</td>\n",
       "      <td>2617.592153</td>\n",
       "      <td>16.0</td>\n",
       "      <td>2021-01-18</td>\n",
       "      <td>1</td>\n",
       "      <td>6</td>\n",
       "      <td>0</td>\n",
       "      <td>199</td>\n",
       "    </tr>\n",
       "    <tr>\n",
       "      <th>2</th>\n",
       "      <td>1</td>\n",
       "      <td>Кира</td>\n",
       "      <td>22</td>\n",
       "      <td>Тюмень</td>\n",
       "      <td>ultra</td>\n",
       "      <td>2694.783254</td>\n",
       "      <td>19.0</td>\n",
       "      <td>2021-08-11</td>\n",
       "      <td>8</td>\n",
       "      <td>6</td>\n",
       "      <td>0</td>\n",
       "      <td>199</td>\n",
       "    </tr>\n",
       "    <tr>\n",
       "      <th>3</th>\n",
       "      <td>1</td>\n",
       "      <td>Кира</td>\n",
       "      <td>22</td>\n",
       "      <td>Тюмень</td>\n",
       "      <td>ultra</td>\n",
       "      <td>4028.687306</td>\n",
       "      <td>27.0</td>\n",
       "      <td>2021-08-28</td>\n",
       "      <td>8</td>\n",
       "      <td>6</td>\n",
       "      <td>0</td>\n",
       "      <td>199</td>\n",
       "    </tr>\n",
       "    <tr>\n",
       "      <th>4</th>\n",
       "      <td>1</td>\n",
       "      <td>Кира</td>\n",
       "      <td>22</td>\n",
       "      <td>Тюмень</td>\n",
       "      <td>ultra</td>\n",
       "      <td>2770.890808</td>\n",
       "      <td>17.0</td>\n",
       "      <td>2021-10-09</td>\n",
       "      <td>10</td>\n",
       "      <td>6</td>\n",
       "      <td>0</td>\n",
       "      <td>199</td>\n",
       "    </tr>\n",
       "    <tr>\n",
       "      <th>...</th>\n",
       "      <td>...</td>\n",
       "      <td>...</td>\n",
       "      <td>...</td>\n",
       "      <td>...</td>\n",
       "      <td>...</td>\n",
       "      <td>...</td>\n",
       "      <td>...</td>\n",
       "      <td>...</td>\n",
       "      <td>...</td>\n",
       "      <td>...</td>\n",
       "      <td>...</td>\n",
       "      <td>...</td>\n",
       "    </tr>\n",
       "    <tr>\n",
       "      <th>16702</th>\n",
       "      <td>1534</td>\n",
       "      <td>Альберт</td>\n",
       "      <td>25</td>\n",
       "      <td>Краснодар</td>\n",
       "      <td>free</td>\n",
       "      <td>3781.098080</td>\n",
       "      <td>20.0</td>\n",
       "      <td>2021-11-04</td>\n",
       "      <td>11</td>\n",
       "      <td>8</td>\n",
       "      <td>50</td>\n",
       "      <td>0</td>\n",
       "    </tr>\n",
       "    <tr>\n",
       "      <th>16703</th>\n",
       "      <td>1534</td>\n",
       "      <td>Альберт</td>\n",
       "      <td>25</td>\n",
       "      <td>Краснодар</td>\n",
       "      <td>free</td>\n",
       "      <td>2840.423057</td>\n",
       "      <td>22.0</td>\n",
       "      <td>2021-11-16</td>\n",
       "      <td>11</td>\n",
       "      <td>8</td>\n",
       "      <td>50</td>\n",
       "      <td>0</td>\n",
       "    </tr>\n",
       "    <tr>\n",
       "      <th>16704</th>\n",
       "      <td>1534</td>\n",
       "      <td>Альберт</td>\n",
       "      <td>25</td>\n",
       "      <td>Краснодар</td>\n",
       "      <td>free</td>\n",
       "      <td>3826.185507</td>\n",
       "      <td>19.0</td>\n",
       "      <td>2021-11-18</td>\n",
       "      <td>11</td>\n",
       "      <td>8</td>\n",
       "      <td>50</td>\n",
       "      <td>0</td>\n",
       "    </tr>\n",
       "    <tr>\n",
       "      <th>16705</th>\n",
       "      <td>1534</td>\n",
       "      <td>Альберт</td>\n",
       "      <td>25</td>\n",
       "      <td>Краснодар</td>\n",
       "      <td>free</td>\n",
       "      <td>2902.308661</td>\n",
       "      <td>17.0</td>\n",
       "      <td>2021-11-27</td>\n",
       "      <td>11</td>\n",
       "      <td>8</td>\n",
       "      <td>50</td>\n",
       "      <td>0</td>\n",
       "    </tr>\n",
       "    <tr>\n",
       "      <th>16706</th>\n",
       "      <td>1534</td>\n",
       "      <td>Альберт</td>\n",
       "      <td>25</td>\n",
       "      <td>Краснодар</td>\n",
       "      <td>free</td>\n",
       "      <td>2371.711192</td>\n",
       "      <td>16.0</td>\n",
       "      <td>2021-12-29</td>\n",
       "      <td>12</td>\n",
       "      <td>8</td>\n",
       "      <td>50</td>\n",
       "      <td>0</td>\n",
       "    </tr>\n",
       "  </tbody>\n",
       "</table>\n",
       "<p>16707 rows × 12 columns</p>\n",
       "</div>"
      ],
      "text/plain": [
       "       user_id     name  age       city subscription_type     distance  \\\n",
       "0            1     Кира   22     Тюмень             ultra  4409.919140   \n",
       "1            1     Кира   22     Тюмень             ultra  2617.592153   \n",
       "2            1     Кира   22     Тюмень             ultra  2694.783254   \n",
       "3            1     Кира   22     Тюмень             ultra  4028.687306   \n",
       "4            1     Кира   22     Тюмень             ultra  2770.890808   \n",
       "...        ...      ...  ...        ...               ...          ...   \n",
       "16702     1534  Альберт   25  Краснодар              free  3781.098080   \n",
       "16703     1534  Альберт   25  Краснодар              free  2840.423057   \n",
       "16704     1534  Альберт   25  Краснодар              free  3826.185507   \n",
       "16705     1534  Альберт   25  Краснодар              free  2902.308661   \n",
       "16706     1534  Альберт   25  Краснодар              free  2371.711192   \n",
       "\n",
       "       duration       date  month  minute_price  start_ride_price  \\\n",
       "0          26.0 2021-01-01      1             6                 0   \n",
       "1          16.0 2021-01-18      1             6                 0   \n",
       "2          19.0 2021-08-11      8             6                 0   \n",
       "3          27.0 2021-08-28      8             6                 0   \n",
       "4          17.0 2021-10-09     10             6                 0   \n",
       "...         ...        ...    ...           ...               ...   \n",
       "16702      20.0 2021-11-04     11             8                50   \n",
       "16703      22.0 2021-11-16     11             8                50   \n",
       "16704      19.0 2021-11-18     11             8                50   \n",
       "16705      17.0 2021-11-27     11             8                50   \n",
       "16706      16.0 2021-12-29     12             8                50   \n",
       "\n",
       "       subscription_fee  \n",
       "0                   199  \n",
       "1                   199  \n",
       "2                   199  \n",
       "3                   199  \n",
       "4                   199  \n",
       "...                 ...  \n",
       "16702                 0  \n",
       "16703                 0  \n",
       "16704                 0  \n",
       "16705                 0  \n",
       "16706                 0  \n",
       "\n",
       "[16707 rows x 12 columns]"
      ]
     },
     "execution_count": 41,
     "metadata": {},
     "output_type": "execute_result"
    }
   ],
   "source": [
    "df_go"
   ]
  },
  {
   "cell_type": "code",
   "execution_count": 42,
   "id": "ff3f8a90",
   "metadata": {},
   "outputs": [
    {
     "data": {
      "text/plain": [
       "user_id              0\n",
       "name                 0\n",
       "age                  0\n",
       "city                 0\n",
       "subscription_type    0\n",
       "distance             0\n",
       "duration             0\n",
       "date                 0\n",
       "month                0\n",
       "minute_price         0\n",
       "start_ride_price     0\n",
       "subscription_fee     0\n",
       "dtype: int64"
      ]
     },
     "execution_count": 42,
     "metadata": {},
     "output_type": "execute_result"
    }
   ],
   "source": [
    "#посмотрим есть ли пропуски\n",
    "df_go.isna().sum()"
   ]
  },
  {
   "cell_type": "markdown",
   "id": "8a98347d",
   "metadata": {},
   "source": [
    "**Пользователи без подписки**"
   ]
  },
  {
   "cell_type": "code",
   "execution_count": 43,
   "id": "d2ba72c3",
   "metadata": {},
   "outputs": [
    {
     "data": {
      "text/html": [
       "<div>\n",
       "<style scoped>\n",
       "    .dataframe tbody tr th:only-of-type {\n",
       "        vertical-align: middle;\n",
       "    }\n",
       "\n",
       "    .dataframe tbody tr th {\n",
       "        vertical-align: top;\n",
       "    }\n",
       "\n",
       "    .dataframe thead th {\n",
       "        text-align: right;\n",
       "    }\n",
       "</style>\n",
       "<table border=\"1\" class=\"dataframe\">\n",
       "  <thead>\n",
       "    <tr style=\"text-align: right;\">\n",
       "      <th></th>\n",
       "      <th>user_id</th>\n",
       "      <th>name</th>\n",
       "      <th>age</th>\n",
       "      <th>city</th>\n",
       "      <th>subscription_type</th>\n",
       "      <th>distance</th>\n",
       "      <th>duration</th>\n",
       "      <th>date</th>\n",
       "      <th>month</th>\n",
       "      <th>minute_price</th>\n",
       "      <th>start_ride_price</th>\n",
       "      <th>subscription_fee</th>\n",
       "    </tr>\n",
       "  </thead>\n",
       "  <tbody>\n",
       "    <tr>\n",
       "      <th>6312</th>\n",
       "      <td>700</td>\n",
       "      <td>Айдар</td>\n",
       "      <td>22</td>\n",
       "      <td>Омск</td>\n",
       "      <td>free</td>\n",
       "      <td>2515.690719</td>\n",
       "      <td>15.0</td>\n",
       "      <td>2021-01-02</td>\n",
       "      <td>1</td>\n",
       "      <td>8</td>\n",
       "      <td>50</td>\n",
       "      <td>0</td>\n",
       "    </tr>\n",
       "    <tr>\n",
       "      <th>6313</th>\n",
       "      <td>700</td>\n",
       "      <td>Айдар</td>\n",
       "      <td>22</td>\n",
       "      <td>Омск</td>\n",
       "      <td>free</td>\n",
       "      <td>846.932642</td>\n",
       "      <td>17.0</td>\n",
       "      <td>2021-02-01</td>\n",
       "      <td>2</td>\n",
       "      <td>8</td>\n",
       "      <td>50</td>\n",
       "      <td>0</td>\n",
       "    </tr>\n",
       "    <tr>\n",
       "      <th>6314</th>\n",
       "      <td>700</td>\n",
       "      <td>Айдар</td>\n",
       "      <td>22</td>\n",
       "      <td>Омск</td>\n",
       "      <td>free</td>\n",
       "      <td>4004.434142</td>\n",
       "      <td>21.0</td>\n",
       "      <td>2021-02-04</td>\n",
       "      <td>2</td>\n",
       "      <td>8</td>\n",
       "      <td>50</td>\n",
       "      <td>0</td>\n",
       "    </tr>\n",
       "    <tr>\n",
       "      <th>6315</th>\n",
       "      <td>700</td>\n",
       "      <td>Айдар</td>\n",
       "      <td>22</td>\n",
       "      <td>Омск</td>\n",
       "      <td>free</td>\n",
       "      <td>1205.911290</td>\n",
       "      <td>10.0</td>\n",
       "      <td>2021-02-10</td>\n",
       "      <td>2</td>\n",
       "      <td>8</td>\n",
       "      <td>50</td>\n",
       "      <td>0</td>\n",
       "    </tr>\n",
       "    <tr>\n",
       "      <th>6316</th>\n",
       "      <td>700</td>\n",
       "      <td>Айдар</td>\n",
       "      <td>22</td>\n",
       "      <td>Омск</td>\n",
       "      <td>free</td>\n",
       "      <td>3047.379435</td>\n",
       "      <td>18.0</td>\n",
       "      <td>2021-02-14</td>\n",
       "      <td>2</td>\n",
       "      <td>8</td>\n",
       "      <td>50</td>\n",
       "      <td>0</td>\n",
       "    </tr>\n",
       "    <tr>\n",
       "      <th>...</th>\n",
       "      <td>...</td>\n",
       "      <td>...</td>\n",
       "      <td>...</td>\n",
       "      <td>...</td>\n",
       "      <td>...</td>\n",
       "      <td>...</td>\n",
       "      <td>...</td>\n",
       "      <td>...</td>\n",
       "      <td>...</td>\n",
       "      <td>...</td>\n",
       "      <td>...</td>\n",
       "      <td>...</td>\n",
       "    </tr>\n",
       "    <tr>\n",
       "      <th>16702</th>\n",
       "      <td>1534</td>\n",
       "      <td>Альберт</td>\n",
       "      <td>25</td>\n",
       "      <td>Краснодар</td>\n",
       "      <td>free</td>\n",
       "      <td>3781.098080</td>\n",
       "      <td>20.0</td>\n",
       "      <td>2021-11-04</td>\n",
       "      <td>11</td>\n",
       "      <td>8</td>\n",
       "      <td>50</td>\n",
       "      <td>0</td>\n",
       "    </tr>\n",
       "    <tr>\n",
       "      <th>16703</th>\n",
       "      <td>1534</td>\n",
       "      <td>Альберт</td>\n",
       "      <td>25</td>\n",
       "      <td>Краснодар</td>\n",
       "      <td>free</td>\n",
       "      <td>2840.423057</td>\n",
       "      <td>22.0</td>\n",
       "      <td>2021-11-16</td>\n",
       "      <td>11</td>\n",
       "      <td>8</td>\n",
       "      <td>50</td>\n",
       "      <td>0</td>\n",
       "    </tr>\n",
       "    <tr>\n",
       "      <th>16704</th>\n",
       "      <td>1534</td>\n",
       "      <td>Альберт</td>\n",
       "      <td>25</td>\n",
       "      <td>Краснодар</td>\n",
       "      <td>free</td>\n",
       "      <td>3826.185507</td>\n",
       "      <td>19.0</td>\n",
       "      <td>2021-11-18</td>\n",
       "      <td>11</td>\n",
       "      <td>8</td>\n",
       "      <td>50</td>\n",
       "      <td>0</td>\n",
       "    </tr>\n",
       "    <tr>\n",
       "      <th>16705</th>\n",
       "      <td>1534</td>\n",
       "      <td>Альберт</td>\n",
       "      <td>25</td>\n",
       "      <td>Краснодар</td>\n",
       "      <td>free</td>\n",
       "      <td>2902.308661</td>\n",
       "      <td>17.0</td>\n",
       "      <td>2021-11-27</td>\n",
       "      <td>11</td>\n",
       "      <td>8</td>\n",
       "      <td>50</td>\n",
       "      <td>0</td>\n",
       "    </tr>\n",
       "    <tr>\n",
       "      <th>16706</th>\n",
       "      <td>1534</td>\n",
       "      <td>Альберт</td>\n",
       "      <td>25</td>\n",
       "      <td>Краснодар</td>\n",
       "      <td>free</td>\n",
       "      <td>2371.711192</td>\n",
       "      <td>16.0</td>\n",
       "      <td>2021-12-29</td>\n",
       "      <td>12</td>\n",
       "      <td>8</td>\n",
       "      <td>50</td>\n",
       "      <td>0</td>\n",
       "    </tr>\n",
       "  </tbody>\n",
       "</table>\n",
       "<p>10395 rows × 12 columns</p>\n",
       "</div>"
      ],
      "text/plain": [
       "       user_id     name  age       city subscription_type     distance  \\\n",
       "6312       700    Айдар   22       Омск              free  2515.690719   \n",
       "6313       700    Айдар   22       Омск              free   846.932642   \n",
       "6314       700    Айдар   22       Омск              free  4004.434142   \n",
       "6315       700    Айдар   22       Омск              free  1205.911290   \n",
       "6316       700    Айдар   22       Омск              free  3047.379435   \n",
       "...        ...      ...  ...        ...               ...          ...   \n",
       "16702     1534  Альберт   25  Краснодар              free  3781.098080   \n",
       "16703     1534  Альберт   25  Краснодар              free  2840.423057   \n",
       "16704     1534  Альберт   25  Краснодар              free  3826.185507   \n",
       "16705     1534  Альберт   25  Краснодар              free  2902.308661   \n",
       "16706     1534  Альберт   25  Краснодар              free  2371.711192   \n",
       "\n",
       "       duration       date  month  minute_price  start_ride_price  \\\n",
       "6312       15.0 2021-01-02      1             8                50   \n",
       "6313       17.0 2021-02-01      2             8                50   \n",
       "6314       21.0 2021-02-04      2             8                50   \n",
       "6315       10.0 2021-02-10      2             8                50   \n",
       "6316       18.0 2021-02-14      2             8                50   \n",
       "...         ...        ...    ...           ...               ...   \n",
       "16702      20.0 2021-11-04     11             8                50   \n",
       "16703      22.0 2021-11-16     11             8                50   \n",
       "16704      19.0 2021-11-18     11             8                50   \n",
       "16705      17.0 2021-11-27     11             8                50   \n",
       "16706      16.0 2021-12-29     12             8                50   \n",
       "\n",
       "       subscription_fee  \n",
       "6312                  0  \n",
       "6313                  0  \n",
       "6314                  0  \n",
       "6315                  0  \n",
       "6316                  0  \n",
       "...                 ...  \n",
       "16702                 0  \n",
       "16703                 0  \n",
       "16704                 0  \n",
       "16705                 0  \n",
       "16706                 0  \n",
       "\n",
       "[10395 rows x 12 columns]"
      ]
     },
     "execution_count": 43,
     "metadata": {},
     "output_type": "execute_result"
    }
   ],
   "source": [
    "df_go_free=df_go.loc[df_go['subscription_type']=='free']\n",
    "df_go_free"
   ]
  },
  {
   "cell_type": "code",
   "execution_count": 44,
   "id": "fbd36043",
   "metadata": {},
   "outputs": [
    {
     "name": "stdout",
     "output_type": "stream",
     "text": [
      "Количество уникальных пользователей без подписки: 835\n"
     ]
    }
   ],
   "source": [
    "print('Количество уникальных пользователей без подписки:', df_go_free['user_id'].nunique())"
   ]
  },
  {
   "cell_type": "markdown",
   "id": "f7136712",
   "metadata": {},
   "source": [
    "***Среднее расстояние, которое пользователь без подписки преодолел за одну поездку***"
   ]
  },
  {
   "cell_type": "code",
   "execution_count": 45,
   "id": "b6082bd4",
   "metadata": {},
   "outputs": [
    {
     "data": {
      "text/plain": [
       "count    10395.000000\n",
       "mean      3225.734455\n",
       "std        966.585839\n",
       "min        801.005726\n",
       "25%       2532.382024\n",
       "50%       3209.304063\n",
       "75%       3926.360557\n",
       "max       5594.753114\n",
       "Name: distance, dtype: float64"
      ]
     },
     "execution_count": 45,
     "metadata": {},
     "output_type": "execute_result"
    }
   ],
   "source": [
    "df_go_free['distance'].describe()"
   ]
  },
  {
   "cell_type": "code",
   "execution_count": 46,
   "id": "ab32e0a7",
   "metadata": {},
   "outputs": [
    {
     "data": {
      "image/png": "[encoded data removed]",
      "text/plain": [
       "<Figure size 432x288 with 1 Axes>"
      ]
     },
     "metadata": {
      "needs_background": "light"
     },
     "output_type": "display_data"
    }
   ],
   "source": [
    "df_go_free['distance'].hist()\n",
    "plt.show()"
   ]
  },
  {
   "cell_type": "markdown",
   "id": "882fe2a8",
   "metadata": {},
   "source": [
    "Большинство пользователей без подписки проезжают на самокате расстояние в среднем от 2,1 до 3,5 км. Очень похоже на расстояние для прогулочного маршрута."
   ]
  },
  {
   "cell_type": "markdown",
   "id": "288dc815",
   "metadata": {},
   "source": [
    "***Время, за которое пользователь без подписки совершил поездку***"
   ]
  },
  {
   "cell_type": "code",
   "execution_count": 47,
   "id": "c1540914",
   "metadata": {},
   "outputs": [
    {
     "data": {
      "text/plain": [
       "count    10395.000000\n",
       "mean        18.661183\n",
       "std          5.671773\n",
       "min          5.000000\n",
       "25%         14.000000\n",
       "50%         18.000000\n",
       "75%         22.000000\n",
       "max         34.000000\n",
       "Name: duration, dtype: float64"
      ]
     },
     "execution_count": 47,
     "metadata": {},
     "output_type": "execute_result"
    }
   ],
   "source": [
    "df_go_free['duration'].describe()"
   ]
  },
  {
   "cell_type": "code",
   "execution_count": 48,
   "id": "02222755",
   "metadata": {},
   "outputs": [
    {
     "data": {
      "image/png": "[encoded data removed]",
      "text/plain": [
       "<Figure size 432x288 with 1 Axes>"
      ]
     },
     "metadata": {
      "needs_background": "light"
     },
     "output_type": "display_data"
    }
   ],
   "source": [
    "df_go_free['duration'].hist()\n",
    "plt.show()"
   ]
  },
  {
   "cell_type": "markdown",
   "id": "0c943fd7",
   "metadata": {},
   "source": [
    "Время пользования самокатом пользователя без подписки в среднем составляет от 16 до 20 мин."
   ]
  },
  {
   "cell_type": "markdown",
   "id": "b6f26b49",
   "metadata": {},
   "source": [
    "**Пользователи c подпиской \"Ультра\"**"
   ]
  },
  {
   "cell_type": "code",
   "execution_count": 49,
   "id": "5ca9f57c",
   "metadata": {},
   "outputs": [
    {
     "data": {
      "text/html": [
       "<div>\n",
       "<style scoped>\n",
       "    .dataframe tbody tr th:only-of-type {\n",
       "        vertical-align: middle;\n",
       "    }\n",
       "\n",
       "    .dataframe tbody tr th {\n",
       "        vertical-align: top;\n",
       "    }\n",
       "\n",
       "    .dataframe thead th {\n",
       "        text-align: right;\n",
       "    }\n",
       "</style>\n",
       "<table border=\"1\" class=\"dataframe\">\n",
       "  <thead>\n",
       "    <tr style=\"text-align: right;\">\n",
       "      <th></th>\n",
       "      <th>user_id</th>\n",
       "      <th>name</th>\n",
       "      <th>age</th>\n",
       "      <th>city</th>\n",
       "      <th>subscription_type</th>\n",
       "      <th>distance</th>\n",
       "      <th>duration</th>\n",
       "      <th>date</th>\n",
       "      <th>month</th>\n",
       "      <th>minute_price</th>\n",
       "      <th>start_ride_price</th>\n",
       "      <th>subscription_fee</th>\n",
       "    </tr>\n",
       "  </thead>\n",
       "  <tbody>\n",
       "    <tr>\n",
       "      <th>0</th>\n",
       "      <td>1</td>\n",
       "      <td>Кира</td>\n",
       "      <td>22</td>\n",
       "      <td>Тюмень</td>\n",
       "      <td>ultra</td>\n",
       "      <td>4409.919140</td>\n",
       "      <td>26.0</td>\n",
       "      <td>2021-01-01</td>\n",
       "      <td>1</td>\n",
       "      <td>6</td>\n",
       "      <td>0</td>\n",
       "      <td>199</td>\n",
       "    </tr>\n",
       "    <tr>\n",
       "      <th>1</th>\n",
       "      <td>1</td>\n",
       "      <td>Кира</td>\n",
       "      <td>22</td>\n",
       "      <td>Тюмень</td>\n",
       "      <td>ultra</td>\n",
       "      <td>2617.592153</td>\n",
       "      <td>16.0</td>\n",
       "      <td>2021-01-18</td>\n",
       "      <td>1</td>\n",
       "      <td>6</td>\n",
       "      <td>0</td>\n",
       "      <td>199</td>\n",
       "    </tr>\n",
       "    <tr>\n",
       "      <th>2</th>\n",
       "      <td>1</td>\n",
       "      <td>Кира</td>\n",
       "      <td>22</td>\n",
       "      <td>Тюмень</td>\n",
       "      <td>ultra</td>\n",
       "      <td>2694.783254</td>\n",
       "      <td>19.0</td>\n",
       "      <td>2021-08-11</td>\n",
       "      <td>8</td>\n",
       "      <td>6</td>\n",
       "      <td>0</td>\n",
       "      <td>199</td>\n",
       "    </tr>\n",
       "    <tr>\n",
       "      <th>3</th>\n",
       "      <td>1</td>\n",
       "      <td>Кира</td>\n",
       "      <td>22</td>\n",
       "      <td>Тюмень</td>\n",
       "      <td>ultra</td>\n",
       "      <td>4028.687306</td>\n",
       "      <td>27.0</td>\n",
       "      <td>2021-08-28</td>\n",
       "      <td>8</td>\n",
       "      <td>6</td>\n",
       "      <td>0</td>\n",
       "      <td>199</td>\n",
       "    </tr>\n",
       "    <tr>\n",
       "      <th>4</th>\n",
       "      <td>1</td>\n",
       "      <td>Кира</td>\n",
       "      <td>22</td>\n",
       "      <td>Тюмень</td>\n",
       "      <td>ultra</td>\n",
       "      <td>2770.890808</td>\n",
       "      <td>17.0</td>\n",
       "      <td>2021-10-09</td>\n",
       "      <td>10</td>\n",
       "      <td>6</td>\n",
       "      <td>0</td>\n",
       "      <td>199</td>\n",
       "    </tr>\n",
       "    <tr>\n",
       "      <th>...</th>\n",
       "      <td>...</td>\n",
       "      <td>...</td>\n",
       "      <td>...</td>\n",
       "      <td>...</td>\n",
       "      <td>...</td>\n",
       "      <td>...</td>\n",
       "      <td>...</td>\n",
       "      <td>...</td>\n",
       "      <td>...</td>\n",
       "      <td>...</td>\n",
       "      <td>...</td>\n",
       "      <td>...</td>\n",
       "    </tr>\n",
       "    <tr>\n",
       "      <th>6307</th>\n",
       "      <td>699</td>\n",
       "      <td>Оксана</td>\n",
       "      <td>22</td>\n",
       "      <td>Москва</td>\n",
       "      <td>ultra</td>\n",
       "      <td>3973.046497</td>\n",
       "      <td>25.0</td>\n",
       "      <td>2021-08-29</td>\n",
       "      <td>8</td>\n",
       "      <td>6</td>\n",
       "      <td>0</td>\n",
       "      <td>199</td>\n",
       "    </tr>\n",
       "    <tr>\n",
       "      <th>6308</th>\n",
       "      <td>699</td>\n",
       "      <td>Оксана</td>\n",
       "      <td>22</td>\n",
       "      <td>Москва</td>\n",
       "      <td>ultra</td>\n",
       "      <td>3288.702563</td>\n",
       "      <td>16.0</td>\n",
       "      <td>2021-09-12</td>\n",
       "      <td>9</td>\n",
       "      <td>6</td>\n",
       "      <td>0</td>\n",
       "      <td>199</td>\n",
       "    </tr>\n",
       "    <tr>\n",
       "      <th>6309</th>\n",
       "      <td>699</td>\n",
       "      <td>Оксана</td>\n",
       "      <td>22</td>\n",
       "      <td>Москва</td>\n",
       "      <td>ultra</td>\n",
       "      <td>3076.159348</td>\n",
       "      <td>15.0</td>\n",
       "      <td>2021-09-26</td>\n",
       "      <td>9</td>\n",
       "      <td>6</td>\n",
       "      <td>0</td>\n",
       "      <td>199</td>\n",
       "    </tr>\n",
       "    <tr>\n",
       "      <th>6310</th>\n",
       "      <td>699</td>\n",
       "      <td>Оксана</td>\n",
       "      <td>22</td>\n",
       "      <td>Москва</td>\n",
       "      <td>ultra</td>\n",
       "      <td>4707.845501</td>\n",
       "      <td>16.0</td>\n",
       "      <td>2021-10-17</td>\n",
       "      <td>10</td>\n",
       "      <td>6</td>\n",
       "      <td>0</td>\n",
       "      <td>199</td>\n",
       "    </tr>\n",
       "    <tr>\n",
       "      <th>6311</th>\n",
       "      <td>699</td>\n",
       "      <td>Оксана</td>\n",
       "      <td>22</td>\n",
       "      <td>Москва</td>\n",
       "      <td>ultra</td>\n",
       "      <td>3202.890770</td>\n",
       "      <td>26.0</td>\n",
       "      <td>2021-12-03</td>\n",
       "      <td>12</td>\n",
       "      <td>6</td>\n",
       "      <td>0</td>\n",
       "      <td>199</td>\n",
       "    </tr>\n",
       "  </tbody>\n",
       "</table>\n",
       "<p>6312 rows × 12 columns</p>\n",
       "</div>"
      ],
      "text/plain": [
       "      user_id    name  age    city subscription_type     distance  duration  \\\n",
       "0           1    Кира   22  Тюмень             ultra  4409.919140      26.0   \n",
       "1           1    Кира   22  Тюмень             ultra  2617.592153      16.0   \n",
       "2           1    Кира   22  Тюмень             ultra  2694.783254      19.0   \n",
       "3           1    Кира   22  Тюмень             ultra  4028.687306      27.0   \n",
       "4           1    Кира   22  Тюмень             ultra  2770.890808      17.0   \n",
       "...       ...     ...  ...     ...               ...          ...       ...   \n",
       "6307      699  Оксана   22  Москва             ultra  3973.046497      25.0   \n",
       "6308      699  Оксана   22  Москва             ultra  3288.702563      16.0   \n",
       "6309      699  Оксана   22  Москва             ultra  3076.159348      15.0   \n",
       "6310      699  Оксана   22  Москва             ultra  4707.845501      16.0   \n",
       "6311      699  Оксана   22  Москва             ultra  3202.890770      26.0   \n",
       "\n",
       "           date  month  minute_price  start_ride_price  subscription_fee  \n",
       "0    2021-01-01      1             6                 0               199  \n",
       "1    2021-01-18      1             6                 0               199  \n",
       "2    2021-08-11      8             6                 0               199  \n",
       "3    2021-08-28      8             6                 0               199  \n",
       "4    2021-10-09     10             6                 0               199  \n",
       "...         ...    ...           ...               ...               ...  \n",
       "6307 2021-08-29      8             6                 0               199  \n",
       "6308 2021-09-12      9             6                 0               199  \n",
       "6309 2021-09-26      9             6                 0               199  \n",
       "6310 2021-10-17     10             6                 0               199  \n",
       "6311 2021-12-03     12             6                 0               199  \n",
       "\n",
       "[6312 rows x 12 columns]"
      ]
     },
     "execution_count": 49,
     "metadata": {},
     "output_type": "execute_result"
    }
   ],
   "source": [
    "df_go_ultra=df_go.loc[df_go['subscription_type']=='ultra']\n",
    "df_go_ultra"
   ]
  },
  {
   "cell_type": "code",
   "execution_count": 50,
   "id": "82e28a8b",
   "metadata": {},
   "outputs": [
    {
     "name": "stdout",
     "output_type": "stream",
     "text": [
      "Количество уникальных пользователей без подписки: 699\n"
     ]
    }
   ],
   "source": [
    "print('Количество уникальных пользователей без подписки:', df_go_ultra['user_id'].nunique())"
   ]
  },
  {
   "cell_type": "markdown",
   "id": "fd1fe7c6",
   "metadata": {},
   "source": [
    "***Расстояние, которое пользователь с подпиской ultra преодолел за одну поездку***"
   ]
  },
  {
   "cell_type": "code",
   "execution_count": 51,
   "id": "f732ae69",
   "metadata": {},
   "outputs": [
    {
     "data": {
      "text/plain": [
       "count    6312.000000\n",
       "mean     3163.674223\n",
       "std       751.345644\n",
       "min       800.257537\n",
       "25%      2811.906432\n",
       "50%      3156.466537\n",
       "75%      3562.224852\n",
       "max      5419.684636\n",
       "Name: distance, dtype: float64"
      ]
     },
     "execution_count": 51,
     "metadata": {},
     "output_type": "execute_result"
    }
   ],
   "source": [
    "df_go_ultra['distance'].describe()"
   ]
  },
  {
   "cell_type": "code",
   "execution_count": 52,
   "id": "b0e94560",
   "metadata": {},
   "outputs": [
    {
     "data": {
      "image/png": "[encoded data removed]",
      "text/plain": [
       "<Figure size 432x288 with 1 Axes>"
      ]
     },
     "metadata": {
      "needs_background": "light"
     },
     "output_type": "display_data"
    }
   ],
   "source": [
    "df_go_ultra['distance'].hist()\n",
    "plt.show()"
   ]
  },
  {
   "cell_type": "markdown",
   "id": "333354d9",
   "metadata": {},
   "source": [
    "Большинство пользователей с подпиской проезжают на самокате расстояние в среднем от 2,7 до 3,5 км. Чуть больше,чем пользователи без подписки. "
   ]
  },
  {
   "cell_type": "markdown",
   "id": "b36a271d",
   "metadata": {},
   "source": [
    "***Время, за которое пользователь с подпиской \"Ультра\" совершил поездку***"
   ]
  },
  {
   "cell_type": "code",
   "execution_count": 53,
   "id": "4bcc717f",
   "metadata": {},
   "outputs": [
    {
     "data": {
      "text/plain": [
       "count    6312.000000\n",
       "mean       19.116603\n",
       "std         5.299584\n",
       "min         5.000000\n",
       "25%        15.000000\n",
       "50%        19.000000\n",
       "75%        22.000000\n",
       "max        34.000000\n",
       "Name: duration, dtype: float64"
      ]
     },
     "execution_count": 53,
     "metadata": {},
     "output_type": "execute_result"
    }
   ],
   "source": [
    "df_go_ultra['duration'].describe()"
   ]
  },
  {
   "cell_type": "code",
   "execution_count": 54,
   "id": "2ed29fa2",
   "metadata": {},
   "outputs": [
    {
     "data": {
      "image/png": "[encoded data removed]",
      "text/plain": [
       "<Figure size 432x288 with 1 Axes>"
      ]
     },
     "metadata": {
      "needs_background": "light"
     },
     "output_type": "display_data"
    }
   ],
   "source": [
    "df_go_ultra['duration'].hist()\n",
    "plt.show()"
   ]
  },
  {
   "cell_type": "markdown",
   "id": "e1feecfa",
   "metadata": {},
   "source": [
    "Время пользования самокатом пользователя с подпиской \"Ультра\" в среднем составляет от 16 до 22 мин."
   ]
  },
  {
   "cell_type": "markdown",
   "id": "ab8fc7f2",
   "metadata": {},
   "source": [
    "## Шаг 5. Подсчёт выручки"
   ]
  },
  {
   "cell_type": "markdown",
   "id": "0ec5c268",
   "metadata": {},
   "source": [
    "### Подсчет выручки для пользователей без подписки"
   ]
  },
  {
   "cell_type": "code",
   "execution_count": 55,
   "id": "2f69f0b0",
   "metadata": {},
   "outputs": [],
   "source": [
    "df_go_free_group_by_month = df_go_free.groupby(['user_id','month'])\\\n",
    ".agg({'distance':'sum', 'duration':'sum','user_id':'count'})\\\n",
    ".rename(columns={'duration':'month_rides_duration','distance':'month_rides_distance', 'user_id':'number_of_rides'})"
   ]
  },
  {
   "cell_type": "code",
   "execution_count": 56,
   "id": "2b737aea",
   "metadata": {},
   "outputs": [
    {
     "data": {
      "text/html": [
       "<div>\n",
       "<style scoped>\n",
       "    .dataframe tbody tr th:only-of-type {\n",
       "        vertical-align: middle;\n",
       "    }\n",
       "\n",
       "    .dataframe tbody tr th {\n",
       "        vertical-align: top;\n",
       "    }\n",
       "\n",
       "    .dataframe thead th {\n",
       "        text-align: right;\n",
       "    }\n",
       "</style>\n",
       "<table border=\"1\" class=\"dataframe\">\n",
       "  <thead>\n",
       "    <tr style=\"text-align: right;\">\n",
       "      <th></th>\n",
       "      <th></th>\n",
       "      <th>month_rides_distance</th>\n",
       "      <th>month_rides_duration</th>\n",
       "      <th>number_of_rides</th>\n",
       "    </tr>\n",
       "    <tr>\n",
       "      <th>user_id</th>\n",
       "      <th>month</th>\n",
       "      <th></th>\n",
       "      <th></th>\n",
       "      <th></th>\n",
       "    </tr>\n",
       "  </thead>\n",
       "  <tbody>\n",
       "    <tr>\n",
       "      <th rowspan=\"9\" valign=\"top\">700</th>\n",
       "      <th>1</th>\n",
       "      <td>2515.690719</td>\n",
       "      <td>15.0</td>\n",
       "      <td>1</td>\n",
       "    </tr>\n",
       "    <tr>\n",
       "      <th>2</th>\n",
       "      <td>13446.659764</td>\n",
       "      <td>89.0</td>\n",
       "      <td>5</td>\n",
       "    </tr>\n",
       "    <tr>\n",
       "      <th>3</th>\n",
       "      <td>3798.334905</td>\n",
       "      <td>19.0</td>\n",
       "      <td>1</td>\n",
       "    </tr>\n",
       "    <tr>\n",
       "      <th>4</th>\n",
       "      <td>2984.551206</td>\n",
       "      <td>16.0</td>\n",
       "      <td>1</td>\n",
       "    </tr>\n",
       "    <tr>\n",
       "      <th>6</th>\n",
       "      <td>5927.650988</td>\n",
       "      <td>29.0</td>\n",
       "      <td>2</td>\n",
       "    </tr>\n",
       "    <tr>\n",
       "      <th>7</th>\n",
       "      <td>4110.232038</td>\n",
       "      <td>16.0</td>\n",
       "      <td>1</td>\n",
       "    </tr>\n",
       "    <tr>\n",
       "      <th>8</th>\n",
       "      <td>4071.654669</td>\n",
       "      <td>17.0</td>\n",
       "      <td>1</td>\n",
       "    </tr>\n",
       "    <tr>\n",
       "      <th>10</th>\n",
       "      <td>6322.578618</td>\n",
       "      <td>44.0</td>\n",
       "      <td>2</td>\n",
       "    </tr>\n",
       "    <tr>\n",
       "      <th>11</th>\n",
       "      <td>8735.782625</td>\n",
       "      <td>32.0</td>\n",
       "      <td>3</td>\n",
       "    </tr>\n",
       "    <tr>\n",
       "      <th rowspan=\"4\" valign=\"top\">701</th>\n",
       "      <th>1</th>\n",
       "      <td>2676.472894</td>\n",
       "      <td>18.0</td>\n",
       "      <td>1</td>\n",
       "    </tr>\n",
       "    <tr>\n",
       "      <th>2</th>\n",
       "      <td>5637.334007</td>\n",
       "      <td>27.0</td>\n",
       "      <td>2</td>\n",
       "    </tr>\n",
       "    <tr>\n",
       "      <th>3</th>\n",
       "      <td>2802.021357</td>\n",
       "      <td>17.0</td>\n",
       "      <td>1</td>\n",
       "    </tr>\n",
       "    <tr>\n",
       "      <th>4</th>\n",
       "      <td>3509.012965</td>\n",
       "      <td>14.0</td>\n",
       "      <td>1</td>\n",
       "    </tr>\n",
       "  </tbody>\n",
       "</table>\n",
       "</div>"
      ],
      "text/plain": [
       "               month_rides_distance  month_rides_duration  number_of_rides\n",
       "user_id month                                                             \n",
       "700     1               2515.690719                  15.0                1\n",
       "        2              13446.659764                  89.0                5\n",
       "        3               3798.334905                  19.0                1\n",
       "        4               2984.551206                  16.0                1\n",
       "        6               5927.650988                  29.0                2\n",
       "        7               4110.232038                  16.0                1\n",
       "        8               4071.654669                  17.0                1\n",
       "        10              6322.578618                  44.0                2\n",
       "        11              8735.782625                  32.0                3\n",
       "701     1               2676.472894                  18.0                1\n",
       "        2               5637.334007                  27.0                2\n",
       "        3               2802.021357                  17.0                1\n",
       "        4               3509.012965                  14.0                1"
      ]
     },
     "execution_count": 56,
     "metadata": {},
     "output_type": "execute_result"
    }
   ],
   "source": [
    "df_go_free_group_by_month.head(13)"
   ]
  },
  {
   "cell_type": "code",
   "execution_count": 57,
   "id": "ee130734",
   "metadata": {},
   "outputs": [],
   "source": [
    "#(стоимость старта поездки × количество поездок) + (стоимость одной минуты поездки × общую продолжительность всех поездок в минутах) \n",
    "df_go_free_group_by_month['revenue'] = (df_go_free_group_by_month['number_of_rides']*50)\\\n",
    "+(df_go_free_group_by_month['month_rides_duration']*8)"
   ]
  },
  {
   "cell_type": "code",
   "execution_count": 58,
   "id": "80e2dec1",
   "metadata": {},
   "outputs": [
    {
     "data": {
      "text/html": [
       "<div>\n",
       "<style scoped>\n",
       "    .dataframe tbody tr th:only-of-type {\n",
       "        vertical-align: middle;\n",
       "    }\n",
       "\n",
       "    .dataframe tbody tr th {\n",
       "        vertical-align: top;\n",
       "    }\n",
       "\n",
       "    .dataframe thead th {\n",
       "        text-align: right;\n",
       "    }\n",
       "</style>\n",
       "<table border=\"1\" class=\"dataframe\">\n",
       "  <thead>\n",
       "    <tr style=\"text-align: right;\">\n",
       "      <th></th>\n",
       "      <th></th>\n",
       "      <th>month_rides_distance</th>\n",
       "      <th>month_rides_duration</th>\n",
       "      <th>number_of_rides</th>\n",
       "      <th>revenue</th>\n",
       "    </tr>\n",
       "    <tr>\n",
       "      <th>user_id</th>\n",
       "      <th>month</th>\n",
       "      <th></th>\n",
       "      <th></th>\n",
       "      <th></th>\n",
       "      <th></th>\n",
       "    </tr>\n",
       "  </thead>\n",
       "  <tbody>\n",
       "    <tr>\n",
       "      <th rowspan=\"5\" valign=\"top\">700</th>\n",
       "      <th>1</th>\n",
       "      <td>2515.690719</td>\n",
       "      <td>15.0</td>\n",
       "      <td>1</td>\n",
       "      <td>170.0</td>\n",
       "    </tr>\n",
       "    <tr>\n",
       "      <th>2</th>\n",
       "      <td>13446.659764</td>\n",
       "      <td>89.0</td>\n",
       "      <td>5</td>\n",
       "      <td>962.0</td>\n",
       "    </tr>\n",
       "    <tr>\n",
       "      <th>3</th>\n",
       "      <td>3798.334905</td>\n",
       "      <td>19.0</td>\n",
       "      <td>1</td>\n",
       "      <td>202.0</td>\n",
       "    </tr>\n",
       "    <tr>\n",
       "      <th>4</th>\n",
       "      <td>2984.551206</td>\n",
       "      <td>16.0</td>\n",
       "      <td>1</td>\n",
       "      <td>178.0</td>\n",
       "    </tr>\n",
       "    <tr>\n",
       "      <th>6</th>\n",
       "      <td>5927.650988</td>\n",
       "      <td>29.0</td>\n",
       "      <td>2</td>\n",
       "      <td>332.0</td>\n",
       "    </tr>\n",
       "    <tr>\n",
       "      <th>...</th>\n",
       "      <th>...</th>\n",
       "      <td>...</td>\n",
       "      <td>...</td>\n",
       "      <td>...</td>\n",
       "      <td>...</td>\n",
       "    </tr>\n",
       "    <tr>\n",
       "      <th rowspan=\"5\" valign=\"top\">1534</th>\n",
       "      <th>6</th>\n",
       "      <td>3214.021065</td>\n",
       "      <td>19.0</td>\n",
       "      <td>1</td>\n",
       "      <td>202.0</td>\n",
       "    </tr>\n",
       "    <tr>\n",
       "      <th>8</th>\n",
       "      <td>7622.453034</td>\n",
       "      <td>48.0</td>\n",
       "      <td>2</td>\n",
       "      <td>484.0</td>\n",
       "    </tr>\n",
       "    <tr>\n",
       "      <th>9</th>\n",
       "      <td>4928.173852</td>\n",
       "      <td>23.0</td>\n",
       "      <td>1</td>\n",
       "      <td>234.0</td>\n",
       "    </tr>\n",
       "    <tr>\n",
       "      <th>11</th>\n",
       "      <td>13350.015305</td>\n",
       "      <td>78.0</td>\n",
       "      <td>4</td>\n",
       "      <td>824.0</td>\n",
       "    </tr>\n",
       "    <tr>\n",
       "      <th>12</th>\n",
       "      <td>2371.711192</td>\n",
       "      <td>16.0</td>\n",
       "      <td>1</td>\n",
       "      <td>178.0</td>\n",
       "    </tr>\n",
       "  </tbody>\n",
       "</table>\n",
       "<p>6407 rows × 4 columns</p>\n",
       "</div>"
      ],
      "text/plain": [
       "               month_rides_distance  month_rides_duration  number_of_rides  \\\n",
       "user_id month                                                                \n",
       "700     1               2515.690719                  15.0                1   \n",
       "        2              13446.659764                  89.0                5   \n",
       "        3               3798.334905                  19.0                1   \n",
       "        4               2984.551206                  16.0                1   \n",
       "        6               5927.650988                  29.0                2   \n",
       "...                             ...                   ...              ...   \n",
       "1534    6               3214.021065                  19.0                1   \n",
       "        8               7622.453034                  48.0                2   \n",
       "        9               4928.173852                  23.0                1   \n",
       "        11             13350.015305                  78.0                4   \n",
       "        12              2371.711192                  16.0                1   \n",
       "\n",
       "               revenue  \n",
       "user_id month           \n",
       "700     1        170.0  \n",
       "        2        962.0  \n",
       "        3        202.0  \n",
       "        4        178.0  \n",
       "        6        332.0  \n",
       "...                ...  \n",
       "1534    6        202.0  \n",
       "        8        484.0  \n",
       "        9        234.0  \n",
       "        11       824.0  \n",
       "        12       178.0  \n",
       "\n",
       "[6407 rows x 4 columns]"
      ]
     },
     "execution_count": 58,
     "metadata": {},
     "output_type": "execute_result"
    }
   ],
   "source": [
    "df_go_free_group_by_month"
   ]
  },
  {
   "cell_type": "code",
   "execution_count": 59,
   "id": "0033d4be",
   "metadata": {},
   "outputs": [
    {
     "data": {
      "text/plain": [
       "count    6407.000000\n",
       "mean      323.336039\n",
       "std       176.077220\n",
       "min        90.000000\n",
       "25%       194.000000\n",
       "50%       258.000000\n",
       "75%       420.000000\n",
       "max      1382.000000\n",
       "Name: revenue, dtype: float64"
      ]
     },
     "execution_count": 59,
     "metadata": {},
     "output_type": "execute_result"
    }
   ],
   "source": [
    "df_go_free_group_by_month['revenue'].describe()"
   ]
  },
  {
   "cell_type": "code",
   "execution_count": 60,
   "id": "606f33dd",
   "metadata": {},
   "outputs": [
    {
     "data": {
      "image/png": "[encoded data removed]",
      "text/plain": [
       "<Figure size 720x360 with 1 Axes>"
      ]
     },
     "metadata": {
      "needs_background": "light"
     },
     "output_type": "display_data"
    }
   ],
   "source": [
    "(\n",
    "    df_go_free_group_by_month.groupby('month')\n",
    ".median()['revenue']\n",
    ".reset_index()\n",
    ".sort_values(by='month')\n",
    ".plot(x='month', \n",
    "      y='revenue', \n",
    "      kind='bar', \n",
    "      figsize=(10,5), \n",
    "      legend=False,\n",
    "      title='Средняя выручка с одного пользователя в месяц (без подписки)', \n",
    "      fontsize=15)\n",
    ")\n",
    "plt.show()"
   ]
  },
  {
   "cell_type": "markdown",
   "id": "696951ca",
   "metadata": {},
   "source": [
    "Таким образом, средняя выручка с одного без подписки пользователя в месяц составляет около 255 руб. В марте, сентябре и октябре выручка с пользователей без подписки чуть выше. В зимние месяцы выручка ниже."
   ]
  },
  {
   "cell_type": "markdown",
   "id": "3d9fa789",
   "metadata": {},
   "source": [
    "### Подсчет выручки для пользователей с тарифом \"Ультра\""
   ]
  },
  {
   "cell_type": "code",
   "execution_count": 61,
   "id": "83a3464d",
   "metadata": {},
   "outputs": [],
   "source": [
    "df_go_ultra_group_by_month = df_go_ultra.groupby(['user_id','month'])\\\n",
    ".agg({'distance':'sum', 'duration':'sum','user_id':'count'})\\\n",
    ".rename(columns={'duration':'month_rides_duration','distance':'month_rides_distance', 'user_id':'number_of_rides'})"
   ]
  },
  {
   "cell_type": "code",
   "execution_count": 62,
   "id": "2b0b7ef3",
   "metadata": {},
   "outputs": [
    {
     "data": {
      "text/html": [
       "<div>\n",
       "<style scoped>\n",
       "    .dataframe tbody tr th:only-of-type {\n",
       "        vertical-align: middle;\n",
       "    }\n",
       "\n",
       "    .dataframe tbody tr th {\n",
       "        vertical-align: top;\n",
       "    }\n",
       "\n",
       "    .dataframe thead th {\n",
       "        text-align: right;\n",
       "    }\n",
       "</style>\n",
       "<table border=\"1\" class=\"dataframe\">\n",
       "  <thead>\n",
       "    <tr style=\"text-align: right;\">\n",
       "      <th></th>\n",
       "      <th></th>\n",
       "      <th>month_rides_distance</th>\n",
       "      <th>month_rides_duration</th>\n",
       "      <th>number_of_rides</th>\n",
       "    </tr>\n",
       "    <tr>\n",
       "      <th>user_id</th>\n",
       "      <th>month</th>\n",
       "      <th></th>\n",
       "      <th></th>\n",
       "      <th></th>\n",
       "    </tr>\n",
       "  </thead>\n",
       "  <tbody>\n",
       "    <tr>\n",
       "      <th rowspan=\"5\" valign=\"top\">1</th>\n",
       "      <th>1</th>\n",
       "      <td>7027.511294</td>\n",
       "      <td>42.0</td>\n",
       "      <td>2</td>\n",
       "    </tr>\n",
       "    <tr>\n",
       "      <th>8</th>\n",
       "      <td>6723.470560</td>\n",
       "      <td>46.0</td>\n",
       "      <td>2</td>\n",
       "    </tr>\n",
       "    <tr>\n",
       "      <th>10</th>\n",
       "      <td>5809.911100</td>\n",
       "      <td>32.0</td>\n",
       "      <td>2</td>\n",
       "    </tr>\n",
       "    <tr>\n",
       "      <th>11</th>\n",
       "      <td>6254.808719</td>\n",
       "      <td>40.0</td>\n",
       "      <td>2</td>\n",
       "    </tr>\n",
       "    <tr>\n",
       "      <th>12</th>\n",
       "      <td>6751.629942</td>\n",
       "      <td>28.0</td>\n",
       "      <td>2</td>\n",
       "    </tr>\n",
       "    <tr>\n",
       "      <th>...</th>\n",
       "      <th>...</th>\n",
       "      <td>...</td>\n",
       "      <td>...</td>\n",
       "      <td>...</td>\n",
       "    </tr>\n",
       "    <tr>\n",
       "      <th rowspan=\"5\" valign=\"top\">699</th>\n",
       "      <th>6</th>\n",
       "      <td>4072.797406</td>\n",
       "      <td>17.0</td>\n",
       "      <td>1</td>\n",
       "    </tr>\n",
       "    <tr>\n",
       "      <th>8</th>\n",
       "      <td>7018.324143</td>\n",
       "      <td>45.0</td>\n",
       "      <td>2</td>\n",
       "    </tr>\n",
       "    <tr>\n",
       "      <th>9</th>\n",
       "      <td>6364.861911</td>\n",
       "      <td>31.0</td>\n",
       "      <td>2</td>\n",
       "    </tr>\n",
       "    <tr>\n",
       "      <th>10</th>\n",
       "      <td>4707.845501</td>\n",
       "      <td>16.0</td>\n",
       "      <td>1</td>\n",
       "    </tr>\n",
       "    <tr>\n",
       "      <th>12</th>\n",
       "      <td>3202.890770</td>\n",
       "      <td>26.0</td>\n",
       "      <td>1</td>\n",
       "    </tr>\n",
       "  </tbody>\n",
       "</table>\n",
       "<p>4442 rows × 3 columns</p>\n",
       "</div>"
      ],
      "text/plain": [
       "               month_rides_distance  month_rides_duration  number_of_rides\n",
       "user_id month                                                             \n",
       "1       1               7027.511294                  42.0                2\n",
       "        8               6723.470560                  46.0                2\n",
       "        10              5809.911100                  32.0                2\n",
       "        11              6254.808719                  40.0                2\n",
       "        12              6751.629942                  28.0                2\n",
       "...                             ...                   ...              ...\n",
       "699     6               4072.797406                  17.0                1\n",
       "        8               7018.324143                  45.0                2\n",
       "        9               6364.861911                  31.0                2\n",
       "        10              4707.845501                  16.0                1\n",
       "        12              3202.890770                  26.0                1\n",
       "\n",
       "[4442 rows x 3 columns]"
      ]
     },
     "execution_count": 62,
     "metadata": {},
     "output_type": "execute_result"
    }
   ],
   "source": [
    "df_go_ultra_group_by_month"
   ]
  },
  {
   "cell_type": "code",
   "execution_count": 63,
   "id": "fe1230f8",
   "metadata": {},
   "outputs": [],
   "source": [
    "#количество поездок + (стоимость одной минуты поездки × общую продолжительность всех поездок в минутах) + стоимость абонентской платы 199 руб\n",
    "df_go_ultra_group_by_month['revenue'] = df_go_ultra_group_by_month['number_of_rides']+\\\n",
    "(df_go_ultra_group_by_month['month_rides_duration']*6)+199"
   ]
  },
  {
   "cell_type": "code",
   "execution_count": 64,
   "id": "6949eb8b",
   "metadata": {},
   "outputs": [
    {
     "data": {
      "text/html": [
       "<div>\n",
       "<style scoped>\n",
       "    .dataframe tbody tr th:only-of-type {\n",
       "        vertical-align: middle;\n",
       "    }\n",
       "\n",
       "    .dataframe tbody tr th {\n",
       "        vertical-align: top;\n",
       "    }\n",
       "\n",
       "    .dataframe thead th {\n",
       "        text-align: right;\n",
       "    }\n",
       "</style>\n",
       "<table border=\"1\" class=\"dataframe\">\n",
       "  <thead>\n",
       "    <tr style=\"text-align: right;\">\n",
       "      <th></th>\n",
       "      <th></th>\n",
       "      <th>month_rides_distance</th>\n",
       "      <th>month_rides_duration</th>\n",
       "      <th>number_of_rides</th>\n",
       "      <th>revenue</th>\n",
       "    </tr>\n",
       "    <tr>\n",
       "      <th>user_id</th>\n",
       "      <th>month</th>\n",
       "      <th></th>\n",
       "      <th></th>\n",
       "      <th></th>\n",
       "      <th></th>\n",
       "    </tr>\n",
       "  </thead>\n",
       "  <tbody>\n",
       "    <tr>\n",
       "      <th rowspan=\"5\" valign=\"top\">1</th>\n",
       "      <th>1</th>\n",
       "      <td>7027.511294</td>\n",
       "      <td>42.0</td>\n",
       "      <td>2</td>\n",
       "      <td>453.0</td>\n",
       "    </tr>\n",
       "    <tr>\n",
       "      <th>8</th>\n",
       "      <td>6723.470560</td>\n",
       "      <td>46.0</td>\n",
       "      <td>2</td>\n",
       "      <td>477.0</td>\n",
       "    </tr>\n",
       "    <tr>\n",
       "      <th>10</th>\n",
       "      <td>5809.911100</td>\n",
       "      <td>32.0</td>\n",
       "      <td>2</td>\n",
       "      <td>393.0</td>\n",
       "    </tr>\n",
       "    <tr>\n",
       "      <th>11</th>\n",
       "      <td>6254.808719</td>\n",
       "      <td>40.0</td>\n",
       "      <td>2</td>\n",
       "      <td>441.0</td>\n",
       "    </tr>\n",
       "    <tr>\n",
       "      <th>12</th>\n",
       "      <td>6751.629942</td>\n",
       "      <td>28.0</td>\n",
       "      <td>2</td>\n",
       "      <td>369.0</td>\n",
       "    </tr>\n",
       "    <tr>\n",
       "      <th>...</th>\n",
       "      <th>...</th>\n",
       "      <td>...</td>\n",
       "      <td>...</td>\n",
       "      <td>...</td>\n",
       "      <td>...</td>\n",
       "    </tr>\n",
       "    <tr>\n",
       "      <th rowspan=\"5\" valign=\"top\">699</th>\n",
       "      <th>6</th>\n",
       "      <td>4072.797406</td>\n",
       "      <td>17.0</td>\n",
       "      <td>1</td>\n",
       "      <td>302.0</td>\n",
       "    </tr>\n",
       "    <tr>\n",
       "      <th>8</th>\n",
       "      <td>7018.324143</td>\n",
       "      <td>45.0</td>\n",
       "      <td>2</td>\n",
       "      <td>471.0</td>\n",
       "    </tr>\n",
       "    <tr>\n",
       "      <th>9</th>\n",
       "      <td>6364.861911</td>\n",
       "      <td>31.0</td>\n",
       "      <td>2</td>\n",
       "      <td>387.0</td>\n",
       "    </tr>\n",
       "    <tr>\n",
       "      <th>10</th>\n",
       "      <td>4707.845501</td>\n",
       "      <td>16.0</td>\n",
       "      <td>1</td>\n",
       "      <td>296.0</td>\n",
       "    </tr>\n",
       "    <tr>\n",
       "      <th>12</th>\n",
       "      <td>3202.890770</td>\n",
       "      <td>26.0</td>\n",
       "      <td>1</td>\n",
       "      <td>356.0</td>\n",
       "    </tr>\n",
       "  </tbody>\n",
       "</table>\n",
       "<p>4442 rows × 4 columns</p>\n",
       "</div>"
      ],
      "text/plain": [
       "               month_rides_distance  month_rides_duration  number_of_rides  \\\n",
       "user_id month                                                                \n",
       "1       1               7027.511294                  42.0                2   \n",
       "        8               6723.470560                  46.0                2   \n",
       "        10              5809.911100                  32.0                2   \n",
       "        11              6254.808719                  40.0                2   \n",
       "        12              6751.629942                  28.0                2   \n",
       "...                             ...                   ...              ...   \n",
       "699     6               4072.797406                  17.0                1   \n",
       "        8               7018.324143                  45.0                2   \n",
       "        9               6364.861911                  31.0                2   \n",
       "        10              4707.845501                  16.0                1   \n",
       "        12              3202.890770                  26.0                1   \n",
       "\n",
       "               revenue  \n",
       "user_id month           \n",
       "1       1        453.0  \n",
       "        8        477.0  \n",
       "        10       393.0  \n",
       "        11       441.0  \n",
       "        12       369.0  \n",
       "...                ...  \n",
       "699     6        302.0  \n",
       "        8        471.0  \n",
       "        9        387.0  \n",
       "        10       296.0  \n",
       "        12       356.0  \n",
       "\n",
       "[4442 rows x 4 columns]"
      ]
     },
     "execution_count": 64,
     "metadata": {},
     "output_type": "execute_result"
    }
   ],
   "source": [
    "df_go_ultra_group_by_month"
   ]
  },
  {
   "cell_type": "code",
   "execution_count": 65,
   "id": "0e0c256b",
   "metadata": {},
   "outputs": [
    {
     "data": {
      "text/plain": [
       "count    4442.000000\n",
       "mean      363.407024\n",
       "std        86.733177\n",
       "min       230.000000\n",
       "25%       302.000000\n",
       "50%       332.000000\n",
       "75%       405.000000\n",
       "max       961.000000\n",
       "Name: revenue, dtype: float64"
      ]
     },
     "execution_count": 65,
     "metadata": {},
     "output_type": "execute_result"
    }
   ],
   "source": [
    "df_go_ultra_group_by_month['revenue'].describe()"
   ]
  },
  {
   "cell_type": "code",
   "execution_count": 66,
   "id": "b767e46a",
   "metadata": {},
   "outputs": [
    {
     "data": {
      "image/png": "[encoded data removed]",
      "text/plain": [
       "<Figure size 720x360 with 1 Axes>"
      ]
     },
     "metadata": {
      "needs_background": "light"
     },
     "output_type": "display_data"
    }
   ],
   "source": [
    "(\n",
    "    df_go_ultra_group_by_month.groupby('month')\n",
    ".median()['revenue']\n",
    ".reset_index()\n",
    ".sort_values(by='month')\n",
    ".plot(x='month', \n",
    "      y='revenue', \n",
    "      kind='bar', \n",
    "      figsize=(10,5), \n",
    "      legend=False,\n",
    "      title='Средняя выручка с одного пользователя в месяц (с подпиской ультра)', \n",
    "      fontsize=15)\n",
    ")\n",
    "plt.show()"
   ]
  },
  {
   "cell_type": "markdown",
   "id": "afc2e3e4",
   "metadata": {},
   "source": [
    "Средняя выручка с одного пользователя, имеющего подписку в месяц составляет около 330 руб. При этом столбцы на графике практически не отличаются друг от друга, видимо, при наличии подписки, выручка имеет более стабильный характер."
   ]
  },
  {
   "cell_type": "markdown",
   "id": "ba32f413",
   "metadata": {},
   "source": [
    "***Общая выручка за все время***"
   ]
  },
  {
   "cell_type": "code",
   "execution_count": 67,
   "id": "ea9edc33",
   "metadata": {},
   "outputs": [
    {
     "name": "stdout",
     "output_type": "stream",
     "text": [
      "Общая выручка от пользователей без подписки: 2071614.0\n",
      "Общая выручка от пользователей с подпиской \"Ультра\": 1614254.0\n"
     ]
    }
   ],
   "source": [
    "print('Общая выручка от пользователей без подписки:', df_go_free_group_by_month['revenue'].sum())\n",
    "print('Общая выручка от пользователей с подпиской \"Ультра\":', df_go_ultra_group_by_month['revenue'].sum())"
   ]
  },
  {
   "cell_type": "markdown",
   "id": "69317da0",
   "metadata": {},
   "source": [
    "Не смотря на то, что пользователи с подпиской приносят больше в месяц, большую часть выручки за все время составляют пользователи без подписки."
   ]
  },
  {
   "cell_type": "markdown",
   "id": "41545ac0",
   "metadata": {},
   "source": [
    "## Шаг 6. Проверка гипотез"
   ]
  },
  {
   "cell_type": "markdown",
   "id": "c0219650",
   "metadata": {},
   "source": [
    "### Выясним, тратят ли пользователи с подпиской больше времени на поездки и проверим, могут ли пользователи с подпиской быть «выгоднее» для компании."
   ]
  },
  {
   "cell_type": "markdown",
   "id": "164b3b44",
   "metadata": {},
   "source": [
    "Сформулируем гипотезы:\n",
    "\n",
    "- H0: Длительность поездок пользователей без подписки и с подпиской «Ультра» равны.\n",
    "- H1: Длительность поездок пользователей с подпиской «Ультра» больше."
   ]
  },
  {
   "cell_type": "code",
   "execution_count": 68,
   "id": "170a88a3",
   "metadata": {},
   "outputs": [
    {
     "name": "stdout",
     "output_type": "stream",
     "text": [
      "p-value: 0.9999998732104943\n",
      "Нет оснований отвергнуть нулевую гипотезу\n"
     ]
    }
   ],
   "source": [
    "#Иипользуем исходные данные о продолжительности поездок — отдельно для подписчиков и тех, у кого нет подписки.\n",
    "free_duration = df_go_free['duration']\n",
    "ultra_duration = df_go_ultra['duration']\n",
    "\n",
    "alpha = 0.05\n",
    "\n",
    "results = st.ttest_ind(free_duration, ultra_duration, alternative='greater')\n",
    "\n",
    "print(f'p-value: {results.pvalue}')\n",
    "\n",
    "if (results.pvalue < alpha):\n",
    "    print('Отвергаем нулевую гипотезу')\n",
    "else:\n",
    "    print('Нет оснований отвергнуть нулевую гипотезу')"
   ]
  },
  {
   "cell_type": "markdown",
   "id": "e9fbe272",
   "metadata": {},
   "source": [
    "**Вывод:** Длительность поездок пользователей с подпиской «Ультра» не выше длительности поездок пользователей без подписки. С этой точки зрения нельзя считать, что пользователи с подпиской «выгоднее» для компании."
   ]
  },
  {
   "cell_type": "markdown",
   "id": "ac8b59f5",
   "metadata": {},
   "source": [
    "### Расстояние одной поездки в 3130 метров — оптимальное с точки зрения износа самоката. Можно ли сказать, что среднее расстояние, которое проезжают пользователи с подпиской за одну поездку, не превышает 3130 метров? Проверьте гипотезу и сделайте выводы."
   ]
  },
  {
   "cell_type": "markdown",
   "id": "c46f3325",
   "metadata": {},
   "source": [
    "В данном случае для проверки гипотезы о равенстве среднего генеральной совокупности значению 3130 м используем t-тест, который осуществит сравнение посчитанной на одной выборке статистики с заданным значением. Итак, сформулируем гипотезы:\n",
    "​\n",
    "- H0: Расстояние одной поездки пользователя с подпиской \"Ультра\" в среднем составляет 3130 м. (оптимальное расстояние с точки зрения износа самоката);\n",
    "- H1: Пользователь с подпиской \"Ультра\" в среднем проезжает расстояние больше оптимального. "
   ]
  },
  {
   "cell_type": "code",
   "execution_count": 69,
   "id": "48dff071",
   "metadata": {},
   "outputs": [
    {
     "name": "stdout",
     "output_type": "stream",
     "text": [
      "p-value: 0.00018626154249184768\n",
      "Отвергаем нулевую гипотезу\n"
     ]
    }
   ],
   "source": [
    "ultra_distance = df_go_ultra['distance']\n",
    "\n",
    "interested_value = 3130 \n",
    "\n",
    "alpha = 0.05 \n",
    "\n",
    "results = st.ttest_1samp(\n",
    "    ultra_distance, \n",
    "    interested_value,\n",
    "    alternative='greater')\n",
    "\n",
    "print(f'p-value: {results.pvalue}')\n",
    "\n",
    "if results.pvalue < alpha:\n",
    "    print('Отвергаем нулевую гипотезу')\n",
    "else:\n",
    "    print('Нет оснований отвергнуть нулевую гипотезу')"
   ]
  },
  {
   "cell_type": "markdown",
   "id": "dc7faf56",
   "metadata": {},
   "source": [
    "**Вывод:** Среднее расстояние, которое проезжают пользователи с подпиской \"Ультра\" за одну поездку, превышает 3130 метров. Это говорит о том, что самокаты подвергаются повышенному износу во время эксплуатации, в связи с чем требуют более внимательной регулярной проверки и технического обслуживания. Возможно осуществлять такую проверку неоходимо чаще обычного."
   ]
  },
  {
   "cell_type": "markdown",
   "id": "64b144ea",
   "metadata": {},
   "source": [
    "### Проверим гипотезу о том, будет ли помесячная выручка от пользователей с подпиской выше, чем выручка от пользователей без подписки. "
   ]
  },
  {
   "cell_type": "markdown",
   "id": "0a518f07",
   "metadata": {},
   "source": [
    "Из проведенного выше анализа мы видим, что пользователи с подпиской «Ультра» приносят большую помесячную выручку сервису аренды самокатов.\n",
    "Исследуемые нами данные являются выборками из общего числа всех пользователей (генеральных совокупностей). Чтобы с уверенностью сказать какой вариант использования сервиса выгоднее (с подпиской или без), необходимо проверить есть ли статистически значимое различие между средними значениями генеральных совокупностей пользователей двух типов подписок.\n",
    "\n",
    "Сформулируем гипотезы:\n",
    "\n",
    "- H0: Помесячная выручка пользователей без подписки и с подпиской «Ультра» не различается.\n",
    "- H1: Помесячная выручка пользователей с подпиской «Ультра» выше, чем выручка от пользователей без подписки."
   ]
  },
  {
   "cell_type": "code",
   "execution_count": 70,
   "id": "45f63442",
   "metadata": {},
   "outputs": [
    {
     "name": "stdout",
     "output_type": "stream",
     "text": [
      "p-value: 1.1955031782439213e-44\n",
      "Отвергаем нулевую гипотезу\n"
     ]
    }
   ],
   "source": [
    "free = df_go_free_group_by_month['revenue']\n",
    "ultra = df_go_ultra_group_by_month['revenue']\n",
    "\n",
    "alpha = 0.05\n",
    "\n",
    "results = st.ttest_ind(free, ultra, alternative='greater')\n",
    "\n",
    "print(f'p-value: {results.pvalue}')\n",
    "\n",
    "if (results.pvalue < alpha):\n",
    "    print('Отвергаем нулевую гипотезу')\n",
    "else:\n",
    "    print('Нет оснований отвергнуть нулевую гипотезу')"
   ]
  },
  {
   "cell_type": "code",
   "execution_count": 71,
   "id": "53f50d1a",
   "metadata": {},
   "outputs": [
    {
     "data": {
      "text/plain": [
       "count    4442.000000\n",
       "mean      363.407024\n",
       "std        86.733177\n",
       "min       230.000000\n",
       "25%       302.000000\n",
       "50%       332.000000\n",
       "75%       405.000000\n",
       "max       961.000000\n",
       "Name: revenue, dtype: float64"
      ]
     },
     "execution_count": 71,
     "metadata": {},
     "output_type": "execute_result"
    }
   ],
   "source": [
    "# Код ревьюера\n",
    "df_go_ultra_group_by_month['revenue'].describe()"
   ]
  },
  {
   "cell_type": "code",
   "execution_count": 72,
   "id": "f14f1b62",
   "metadata": {},
   "outputs": [
    {
     "data": {
      "text/plain": [
       "count    6407.000000\n",
       "mean      323.336039\n",
       "std       176.077220\n",
       "min        90.000000\n",
       "25%       194.000000\n",
       "50%       258.000000\n",
       "75%       420.000000\n",
       "max      1382.000000\n",
       "Name: revenue, dtype: float64"
      ]
     },
     "execution_count": 72,
     "metadata": {},
     "output_type": "execute_result"
    }
   ],
   "source": [
    "# Код ревьюера\n",
    "df_go_free_group_by_month['revenue'].describe()"
   ]
  },
  {
   "cell_type": "markdown",
   "id": "040acae2",
   "metadata": {},
   "source": [
    "**Вывод:** улевую гипотезу мы не отвергаем. Пользователи, которые имеют подписку выгодны для сервиса, но не более выгодны чем, пользователи без подписки. Выше мы осуществляли сравнение общей выручки за все время, большую часть которой составляют пользователи без подписки."
   ]
  },
  {
   "cell_type": "markdown",
   "id": "b61d4905",
   "metadata": {},
   "source": [
    "### Представьте такую ситуацию: техническая команда сервиса обновила сервера, с которыми взаимодействует мобильное приложение. Она надеется, что из-за этого количество обращений в техподдержку значимо снизилось. Некоторый файл содержит для каждого пользователя данные о количестве обращений до обновления и после него. Какой тест вам понадобился бы для проверки этой гипотезы?"
   ]
  },
  {
   "cell_type": "markdown",
   "id": "e740d0e1",
   "metadata": {},
   "source": [
    "В данном случае мы анализируем одну генеральную совокупность, с которой произошли некоторые изменения, мы проверяем равны ли средние совокупности до и после этого изменения. Выборки в этом случае будут зависимыми.\n",
    "\n",
    "Гипотезы можно сформулировать следующим образом:\n",
    "- H0: Среднее генеральной совокупности равно среднему количеству обращений до обновления сервиса;\n",
    "- H1: Среднее генеральной совокупности после обновления сервиса меньше среднего количества обращений до обновления сервиса.\n",
    "\n",
    "Для проверки гипотезы будем использовать метод scipy.stats.ttest_rel(). В качестве аргументов передадим следующие параметры: \n",
    "- данные о количестве обращений до обновления;\n",
    "- данные о количестве обращений после обновления;\n",
    "- параметр alternative='less', для того чтобы проверить, что среднее генеральной совокупности до изменения меньше, чем после изменения."
   ]
  },
  {
   "cell_type": "markdown",
   "id": "2ff1dde7",
   "metadata": {},
   "source": [
    "<div class=\"alert alert-warning\">\n",
    "<b>Комментарий ревьюера:</b>⛅️ \n",
    "\n",
    "Ещё важно сказать о зависимости переменных и двусторонний ли тест? \n",
    "</div>"
   ]
  },
  {
   "cell_type": "markdown",
   "id": "eff7a60d",
   "metadata": {},
   "source": [
    "<div class=\"alert alert-info\"> <b>Комментарий студента:</b> Подредактировала ответ на вопрос </div>"
   ]
  },
  {
   "cell_type": "markdown",
   "id": "e649fc46",
   "metadata": {},
   "source": [
    "<div class=\"alert alert-success\">\n",
    "<b>Комментарий ревьюера v2:</b>☀️\n",
    "   \n",
    "\n",
    "Молодец! Спасибо за то, что отлично поработали, желаю успехов далее!\n",
    "</div>"
   ]
  },
  {
   "cell_type": "markdown",
   "id": "61213c5e",
   "metadata": {},
   "source": [
    "## Шаг 7. Распределения"
   ]
  },
  {
   "cell_type": "markdown",
   "id": "f2aa0622",
   "metadata": {},
   "source": [
    "### Отдел маркетинга рассылает клиентам push-уведомления в мобильном приложении. Клиенты могут открыть его или не открывать. Известно, что уведомления открывают около 40 % получивших клиентов. Отдел планирует разослать 1 млн уведомлений. С помощью аппроксимации постройте примерный график распределения и оцените вероятность того, что уведомление откроют не более 399,5 тыс. пользователей."
   ]
  },
  {
   "cell_type": "code",
   "execution_count": 73,
   "id": "53aad55b",
   "metadata": {},
   "outputs": [
    {
     "name": "stdout",
     "output_type": "stream",
     "text": [
      "0.15371708296369768\n"
     ]
    }
   ],
   "source": [
    "n = 1000000 # количество уведомлений \n",
    "p = 0.4 # вероятность, что уведомление будет открыто клиентом\n",
    "\n",
    "# рассчитаем параметры нормального распределения\n",
    "mu = n * p \n",
    "sigma = sqrt(n * p * (1 - p)) \n",
    "\n",
    "distr = st.norm(mu, sigma) \n",
    "\n",
    "result = distr.cdf(399500) # найдем вероятность\n",
    "print(result)"
   ]
  },
  {
   "cell_type": "code",
   "execution_count": 74,
   "id": "441401e1",
   "metadata": {},
   "outputs": [
    {
     "data": {
      "image/png": "[encoded data removed]",
      "text/plain": [
       "<Figure size 432x288 with 1 Axes>"
      ]
     },
     "metadata": {
      "needs_background": "light"
     },
     "output_type": "display_data"
    }
   ],
   "source": [
    "binom_sim = stats.binom.rvs(n = 1000000, p =0.4, size = 399500)\n",
    "plt.hist(binom_sim, bins = 100, density = False)\n",
    "plt.show()"
   ]
  },
  {
   "cell_type": "markdown",
   "id": "99d8f383",
   "metadata": {},
   "source": [
    "<div class=\"alert alert-success\">\n",
    "<b>Комментарий ревьюера:</b>☀️\n",
    "    \n",
    "Абсолютно верно, молодец!"
   ]
  },
  {
   "cell_type": "markdown",
   "id": "8c91cc98",
   "metadata": {},
   "source": [
    "Вероятность, что того, что из 1 млн уведомлений пользователи откроют не более 399,5 тыс. около 15%."
   ]
  },
  {
   "cell_type": "markdown",
   "id": "7398dc66",
   "metadata": {},
   "source": [
    "## Общий вывод"
   ]
  },
  {
   "cell_type": "markdown",
   "id": "606bf5da",
   "metadata": {},
   "source": [
    "**Мы проанализировали данные сервиса аренды самокатов GoFast о некоторых пользователях и их поездках, провели предобработку данных, исследовательский анализ, проверили некоторые гипотезы, в результате чего:**\n",
    "\n",
    "- В данных были найдены и удалены неявные дубликаты, аномальные значения. Данные в некоторых столбцах были приведены к нужным типам;\n",
    "- Для более удобного анализа были созданы датафреймы c данными о пользователях без подписки и с данными о пользователях с подпиской;\n",
    "- Была изучена основная информация о пользователях и поездках (частота встречаемости городов, соотношение пользователей с подпиской и без подписки, возраст пользователей, расстояние, которое пользователь преодолел за одну поездку, средняя продолжительность поездок), после чего сделаны выводы, построены графики;\n",
    "- Осуществили подсчет помесячной выручки, которую принёс каждый пользователь. Визуализировали данные;\n",
    "- Проверить гипотезы о том тратят ли пользователи с подпиской больше времени на поездки, о средней продолжительности одной поездки и о том, будет ли помесячная выручка от пользователей с подпиской выше чем от пользователей без подписки;\n",
    "- Оценили вероятность успеха рассылки клиентам push-уведомления в мобильном приложении."
   ]
  },
  {
   "cell_type": "markdown",
   "id": "5915a79f",
   "metadata": {},
   "source": [
    "**Из полученных данных были выявлены следующие наблюдения:**\n",
    "\n",
    "- Из представленых сведениях о городах, мы сделали вывод, что больше всего пользователей сервиса аренды самокатов сконцентрировано в г. Пятигорске, а меньше всего в г. Москве. Можно предположить, что в Москве очень хорошо развит общественный транспорт и поэтому пользователей самокатами меньше,  в то время как в г. Пятигорске, например, отсутсвует метро. Мы также видим много пользователей самокатами и в других \"южных городах\" (Ростов-на-Дону, Краснодар, Сочи), возможно, там где больше отдыхающих - больше пользователей самокатами;\n",
    "\n",
    "- Из общего количества, тех кто воспользовался сервисом аренды самокатов, только меньше половины оформляют подписку;\n",
    "\n",
    "- Средний возраст пользователя сервиса аренды самокатов - 25 лет. Также среди пользователей мы встретили и детей в возрасте от 12 до 17 лет, возможно сервис это допускает и не ограничивает возраст пользования самокатом. С точки зрения безопасности сервису лучше ввести ограничение на пользование электросамокатом до достижения 18 лет;\n",
    "\n",
    "- Среднее расстояние, которое пользователь преодолел за одну поездку составляет 3,1 км. Большинство пользователей без подписки проезжают на самокате расстояние в среднем от 2,1 до 3,5 км, а пользователи с подпиской \"Ультра\" от 2,7 до 3,5 км. Такое расстояние характерно для езды по прогулочному маршруту, поездки до метро/остановки или, например, объезда пробки. Самокаты в настоящее время используются больше как средство для преодоления коротких дистанций и не заменяют привычные средства передвижения на дальние расстояния;\n",
    "\n",
    "- Относительно времени пользования самокатом, сделан вывод, что им редко пользуются меньше 3-х и больше 35 минут. Время пользования самокатом пользователя без подписки в среднем составляет от 16 до 20 мин, а пользователя с подпиской \"Ультра\" от 16 до 22 мин;\n",
    "\n",
    "- Средняя выручка в месяц с одного пользователя без подписки составляет около 255 руб. В марте, сентябре и октябре выручка с пользователей без подписки чуть выше, а в зимние месяцы выручка ниже. \n",
    "\n",
    "- Средняя выручка  в месяц с одного пользователя, имеющего подписку, составляет около 330 руб. При этом в разные месяцы выручка практически не отличается, то есть она имеет относительно стабильный характер. Не смотря на то, что пользователи с подпиской приносят больше в месяц, большую часть выручки за все время составляют пользователи без подписки. \n",
    "\n",
    "- Общая выручка с пользователей без подписки для сервиса составила чуть выше 2 млн., а общая выручка с пользователей, у которых есть подписка 1,6 млн. \n",
    "\n",
    "\n",
    "***Проверка гипотез:***\n",
    "- Длительность поездок пользователей с подпиской «Ультра» не выше длительности поездок пользователей без подписки. С этой точки зрения нельзя считать, что пользователи с подпиской «выгоднее» для компании;\n",
    "\n",
    "- Среднее расстояние, которое проезжают пользователи с подпиской \"Ультра\" за одну поездку, не превышает 3130 метров. Таким образом, самокаты в настоящее время используются больше как средство для преодоления коротких дистанций и не заменяют привычные средства передвижения на дальние расстояния;\n",
    "\n",
    "- Пользователи, которые имеют подписку не более выгодны для сервиса, чем пользователи без подписки."
   ]
  },
  {
   "cell_type": "markdown",
   "id": "b715df56",
   "metadata": {},
   "source": [
    "<div class=\"alert alert-success\">\n",
    "<b>Комментарий ревьюера:</b>☀️\n",
    "    \n",
    "Спасибо за хорошо структурированный вывод, есть ряд аспектов, на которые прошу обратить внимание, а в основном всё супер!)"
   ]
  }
 ],
 "metadata": {
  "ExecuteTimeLog": [
   {
    "duration": 46,
    "start_time": "2023-10-08T13:02:23.399Z"
   },
   {
    "duration": 1308,
    "start_time": "2023-10-08T13:03:14.280Z"
   },
   {
    "duration": 532,
    "start_time": "2023-10-08T13:03:15.590Z"
   },
   {
    "duration": 11,
    "start_time": "2023-10-08T13:03:16.124Z"
   },
   {
    "duration": 21,
    "start_time": "2023-10-08T13:03:16.136Z"
   },
   {
    "duration": 12,
    "start_time": "2023-10-08T13:03:16.159Z"
   },
   {
    "duration": 52,
    "start_time": "2023-10-08T13:03:16.172Z"
   },
   {
    "duration": 14,
    "start_time": "2023-10-08T13:03:16.226Z"
   },
   {
    "duration": 24,
    "start_time": "2023-10-08T13:03:16.242Z"
   },
   {
    "duration": 17,
    "start_time": "2023-10-08T13:03:16.268Z"
   },
   {
    "duration": 12,
    "start_time": "2023-10-08T13:03:16.287Z"
   },
   {
    "duration": 15,
    "start_time": "2023-10-08T13:03:16.301Z"
   },
   {
    "duration": 15,
    "start_time": "2023-10-08T13:03:16.318Z"
   },
   {
    "duration": 9,
    "start_time": "2023-10-08T13:03:16.334Z"
   },
   {
    "duration": 19,
    "start_time": "2023-10-08T13:03:16.346Z"
   },
   {
    "duration": 9,
    "start_time": "2023-10-08T13:03:16.367Z"
   },
   {
    "duration": 16,
    "start_time": "2023-10-08T13:03:16.377Z"
   },
   {
    "duration": 11,
    "start_time": "2023-10-08T13:03:16.394Z"
   },
   {
    "duration": 163,
    "start_time": "2023-10-08T13:03:16.407Z"
   },
   {
    "duration": 128,
    "start_time": "2023-10-08T13:03:16.572Z"
   },
   {
    "duration": 5,
    "start_time": "2023-10-08T13:03:16.701Z"
   },
   {
    "duration": 11,
    "start_time": "2023-10-08T13:03:16.708Z"
   },
   {
    "duration": 7,
    "start_time": "2023-10-08T13:03:16.721Z"
   },
   {
    "duration": 22,
    "start_time": "2023-10-08T13:03:16.729Z"
   },
   {
    "duration": 147,
    "start_time": "2023-10-08T13:03:16.752Z"
   },
   {
    "duration": 8,
    "start_time": "2023-10-08T13:03:16.900Z"
   },
   {
    "duration": 165,
    "start_time": "2023-10-08T13:03:16.910Z"
   },
   {
    "duration": 125,
    "start_time": "2023-10-08T13:03:17.077Z"
   },
   {
    "duration": 5,
    "start_time": "2023-10-08T13:03:17.204Z"
   },
   {
    "duration": 12,
    "start_time": "2023-10-08T13:03:17.211Z"
   },
   {
    "duration": 25,
    "start_time": "2023-10-08T13:03:17.224Z"
   },
   {
    "duration": 21,
    "start_time": "2023-10-08T13:03:17.251Z"
   },
   {
    "duration": 139,
    "start_time": "2023-10-08T13:03:17.273Z"
   },
   {
    "duration": 115,
    "start_time": "2023-10-08T13:03:17.413Z"
   },
   {
    "duration": 15,
    "start_time": "2023-10-08T13:03:17.530Z"
   },
   {
    "duration": 16,
    "start_time": "2023-10-08T13:03:17.546Z"
   },
   {
    "duration": 14,
    "start_time": "2023-10-08T13:03:17.563Z"
   },
   {
    "duration": 29,
    "start_time": "2023-10-08T13:03:17.578Z"
   },
   {
    "duration": 27,
    "start_time": "2023-10-08T13:03:17.609Z"
   },
   {
    "duration": 36,
    "start_time": "2023-10-08T13:03:17.638Z"
   },
   {
    "duration": 22,
    "start_time": "2023-10-08T13:03:17.675Z"
   },
   {
    "duration": 8,
    "start_time": "2023-10-08T13:03:17.703Z"
   },
   {
    "duration": 22,
    "start_time": "2023-10-08T13:03:17.713Z"
   },
   {
    "duration": 4,
    "start_time": "2023-10-08T13:03:17.737Z"
   },
   {
    "duration": 11,
    "start_time": "2023-10-08T13:03:17.743Z"
   },
   {
    "duration": 134,
    "start_time": "2023-10-08T13:03:17.756Z"
   },
   {
    "duration": 9,
    "start_time": "2023-10-08T13:03:17.892Z"
   },
   {
    "duration": 220,
    "start_time": "2023-10-08T13:03:17.903Z"
   },
   {
    "duration": 27,
    "start_time": "2023-10-08T13:03:18.125Z"
   },
   {
    "duration": 3,
    "start_time": "2023-10-08T13:03:18.154Z"
   },
   {
    "duration": 24,
    "start_time": "2023-10-08T13:03:18.158Z"
   },
   {
    "duration": 130,
    "start_time": "2023-10-08T13:03:18.184Z"
   },
   {
    "duration": 8,
    "start_time": "2023-10-08T13:03:18.315Z"
   },
   {
    "duration": 150,
    "start_time": "2023-10-08T13:03:18.325Z"
   },
   {
    "duration": 10,
    "start_time": "2023-10-08T13:03:18.476Z"
   },
   {
    "duration": 17,
    "start_time": "2023-10-08T13:03:18.487Z"
   },
   {
    "duration": 21,
    "start_time": "2023-10-08T13:03:18.505Z"
   },
   {
    "duration": 35,
    "start_time": "2023-10-08T13:03:18.527Z"
   },
   {
    "duration": 8,
    "start_time": "2023-10-08T13:03:18.563Z"
   },
   {
    "duration": 171,
    "start_time": "2023-10-08T13:03:18.573Z"
   },
   {
    "duration": 4,
    "start_time": "2023-10-08T13:03:18.746Z"
   },
   {
    "duration": 34,
    "start_time": "2023-10-08T13:03:18.751Z"
   },
   {
    "duration": 36,
    "start_time": "2023-10-08T13:03:18.786Z"
   },
   {
    "duration": 28,
    "start_time": "2023-10-08T13:03:18.823Z"
   },
   {
    "duration": 27,
    "start_time": "2023-10-08T13:03:18.853Z"
   },
   {
    "duration": 42,
    "start_time": "2023-10-08T13:03:18.882Z"
   },
   {
    "duration": 193,
    "start_time": "2023-10-08T13:03:18.925Z"
   },
   {
    "duration": 5,
    "start_time": "2023-10-08T13:03:19.119Z"
   },
   {
    "duration": 18,
    "start_time": "2023-10-08T13:03:19.125Z"
   },
   {
    "duration": 49,
    "start_time": "2023-10-08T13:03:19.145Z"
   },
   {
    "duration": 34,
    "start_time": "2023-10-08T13:03:19.195Z"
   },
   {
    "duration": 7,
    "start_time": "2023-10-08T13:30:09.440Z"
   },
   {
    "duration": 5,
    "start_time": "2023-10-08T13:45:08.629Z"
   },
   {
    "duration": 5,
    "start_time": "2023-10-08T13:46:11.586Z"
   },
   {
    "duration": 6,
    "start_time": "2023-10-08T13:46:18.920Z"
   },
   {
    "duration": 6,
    "start_time": "2023-10-08T13:46:23.574Z"
   },
   {
    "duration": 10,
    "start_time": "2023-10-09T04:14:59.809Z"
   },
   {
    "duration": 1175,
    "start_time": "2023-10-09T04:31:54.854Z"
   },
   {
    "duration": 68,
    "start_time": "2023-10-09T04:31:56.031Z"
   },
   {
    "duration": 12,
    "start_time": "2023-10-09T04:31:56.100Z"
   },
   {
    "duration": 10,
    "start_time": "2023-10-09T04:31:56.114Z"
   },
   {
    "duration": 25,
    "start_time": "2023-10-09T04:31:56.127Z"
   },
   {
    "duration": 13,
    "start_time": "2023-10-09T04:31:56.153Z"
   },
   {
    "duration": 12,
    "start_time": "2023-10-09T04:31:56.167Z"
   },
   {
    "duration": 14,
    "start_time": "2023-10-09T04:31:56.181Z"
   },
   {
    "duration": 13,
    "start_time": "2023-10-09T04:31:56.196Z"
   },
   {
    "duration": 5,
    "start_time": "2023-10-09T04:31:56.210Z"
   },
   {
    "duration": 5,
    "start_time": "2023-10-09T04:31:56.216Z"
   },
   {
    "duration": 25,
    "start_time": "2023-10-09T04:31:56.222Z"
   },
   {
    "duration": 6,
    "start_time": "2023-10-09T04:31:56.249Z"
   },
   {
    "duration": 6,
    "start_time": "2023-10-09T04:31:56.258Z"
   },
   {
    "duration": 7,
    "start_time": "2023-10-09T04:31:56.265Z"
   },
   {
    "duration": 11,
    "start_time": "2023-10-09T04:31:56.274Z"
   },
   {
    "duration": 8,
    "start_time": "2023-10-09T04:31:56.286Z"
   },
   {
    "duration": 168,
    "start_time": "2023-10-09T04:31:56.295Z"
   },
   {
    "duration": 111,
    "start_time": "2023-10-09T04:31:56.465Z"
   },
   {
    "duration": 4,
    "start_time": "2023-10-09T04:31:56.578Z"
   },
   {
    "duration": 7,
    "start_time": "2023-10-09T04:31:56.584Z"
   },
   {
    "duration": 8,
    "start_time": "2023-10-09T04:31:56.592Z"
   },
   {
    "duration": 13,
    "start_time": "2023-10-09T04:31:56.601Z"
   },
   {
    "duration": 138,
    "start_time": "2023-10-09T04:31:56.615Z"
   },
   {
    "duration": 9,
    "start_time": "2023-10-09T04:31:56.755Z"
   },
   {
    "duration": 136,
    "start_time": "2023-10-09T04:31:56.765Z"
   },
   {
    "duration": 116,
    "start_time": "2023-10-09T04:31:56.903Z"
   },
   {
    "duration": 6,
    "start_time": "2023-10-09T04:31:57.021Z"
   },
   {
    "duration": 18,
    "start_time": "2023-10-09T04:31:57.028Z"
   },
   {
    "duration": 6,
    "start_time": "2023-10-09T04:31:57.047Z"
   },
   {
    "duration": 11,
    "start_time": "2023-10-09T04:31:57.054Z"
   },
   {
    "duration": 135,
    "start_time": "2023-10-09T04:31:57.066Z"
   },
   {
    "duration": 111,
    "start_time": "2023-10-09T04:31:57.202Z"
   },
   {
    "duration": 5,
    "start_time": "2023-10-09T04:31:57.314Z"
   },
   {
    "duration": 32,
    "start_time": "2023-10-09T04:31:57.320Z"
   },
   {
    "duration": 35,
    "start_time": "2023-10-09T04:31:57.353Z"
   },
   {
    "duration": 15,
    "start_time": "2023-10-09T04:31:57.389Z"
   },
   {
    "duration": 20,
    "start_time": "2023-10-09T04:31:57.405Z"
   },
   {
    "duration": 9,
    "start_time": "2023-10-09T04:31:57.426Z"
   },
   {
    "duration": 16,
    "start_time": "2023-10-09T04:31:57.437Z"
   },
   {
    "duration": 10,
    "start_time": "2023-10-09T04:31:57.457Z"
   },
   {
    "duration": 27,
    "start_time": "2023-10-09T04:31:57.468Z"
   },
   {
    "duration": 4,
    "start_time": "2023-10-09T04:31:57.497Z"
   },
   {
    "duration": 10,
    "start_time": "2023-10-09T04:31:57.502Z"
   },
   {
    "duration": 133,
    "start_time": "2023-10-09T04:31:57.514Z"
   },
   {
    "duration": 8,
    "start_time": "2023-10-09T04:31:57.648Z"
   },
   {
    "duration": 209,
    "start_time": "2023-10-09T04:31:57.657Z"
   },
   {
    "duration": 19,
    "start_time": "2023-10-09T04:31:57.867Z"
   },
   {
    "duration": 4,
    "start_time": "2023-10-09T04:31:57.888Z"
   },
   {
    "duration": 8,
    "start_time": "2023-10-09T04:31:57.893Z"
   },
   {
    "duration": 151,
    "start_time": "2023-10-09T04:31:57.902Z"
   },
   {
    "duration": 8,
    "start_time": "2023-10-09T04:31:58.054Z"
   },
   {
    "duration": 136,
    "start_time": "2023-10-09T04:31:58.064Z"
   },
   {
    "duration": 9,
    "start_time": "2023-10-09T04:31:58.201Z"
   },
   {
    "duration": 12,
    "start_time": "2023-10-09T04:31:58.211Z"
   },
   {
    "duration": 18,
    "start_time": "2023-10-09T04:31:58.224Z"
   },
   {
    "duration": 19,
    "start_time": "2023-10-09T04:31:58.244Z"
   },
   {
    "duration": 21,
    "start_time": "2023-10-09T04:31:58.265Z"
   },
   {
    "duration": 166,
    "start_time": "2023-10-09T04:31:58.287Z"
   },
   {
    "duration": 4,
    "start_time": "2023-10-09T04:31:58.455Z"
   },
   {
    "duration": 13,
    "start_time": "2023-10-09T04:31:58.460Z"
   },
   {
    "duration": 21,
    "start_time": "2023-10-09T04:31:58.475Z"
   },
   {
    "duration": 10,
    "start_time": "2023-10-09T04:31:58.498Z"
   },
   {
    "duration": 26,
    "start_time": "2023-10-09T04:31:58.510Z"
   },
   {
    "duration": 13,
    "start_time": "2023-10-09T04:31:58.538Z"
   },
   {
    "duration": 167,
    "start_time": "2023-10-09T04:31:58.552Z"
   },
   {
    "duration": 4,
    "start_time": "2023-10-09T04:31:58.721Z"
   },
   {
    "duration": 21,
    "start_time": "2023-10-09T04:31:58.726Z"
   },
   {
    "duration": 10,
    "start_time": "2023-10-09T04:31:58.748Z"
   },
   {
    "duration": 12,
    "start_time": "2023-10-09T04:31:58.760Z"
   },
   {
    "duration": 5,
    "start_time": "2023-10-09T04:32:59.021Z"
   },
   {
    "duration": 1141,
    "start_time": "2023-10-09T04:33:25.506Z"
   },
   {
    "duration": 67,
    "start_time": "2023-10-09T04:33:26.649Z"
   },
   {
    "duration": 11,
    "start_time": "2023-10-09T04:33:26.717Z"
   },
   {
    "duration": 10,
    "start_time": "2023-10-09T04:33:26.729Z"
   },
   {
    "duration": 12,
    "start_time": "2023-10-09T04:33:26.740Z"
   },
   {
    "duration": 15,
    "start_time": "2023-10-09T04:33:26.753Z"
   },
   {
    "duration": 7,
    "start_time": "2023-10-09T04:33:26.770Z"
   },
   {
    "duration": 10,
    "start_time": "2023-10-09T04:33:26.778Z"
   },
   {
    "duration": 7,
    "start_time": "2023-10-09T04:33:26.789Z"
   },
   {
    "duration": 4,
    "start_time": "2023-10-09T04:33:26.798Z"
   },
   {
    "duration": 9,
    "start_time": "2023-10-09T04:33:26.804Z"
   },
   {
    "duration": 31,
    "start_time": "2023-10-09T04:33:26.814Z"
   },
   {
    "duration": 14,
    "start_time": "2023-10-09T04:33:26.846Z"
   },
   {
    "duration": 5,
    "start_time": "2023-10-09T04:33:26.861Z"
   },
   {
    "duration": 13,
    "start_time": "2023-10-09T04:33:26.867Z"
   },
   {
    "duration": 14,
    "start_time": "2023-10-09T04:33:26.881Z"
   },
   {
    "duration": 5,
    "start_time": "2023-10-09T04:33:26.896Z"
   },
   {
    "duration": 145,
    "start_time": "2023-10-09T04:33:26.902Z"
   },
   {
    "duration": 111,
    "start_time": "2023-10-09T04:33:27.048Z"
   },
   {
    "duration": 4,
    "start_time": "2023-10-09T04:33:27.160Z"
   },
   {
    "duration": 8,
    "start_time": "2023-10-09T04:33:27.166Z"
   },
   {
    "duration": 12,
    "start_time": "2023-10-09T04:33:27.176Z"
   },
   {
    "duration": 9,
    "start_time": "2023-10-09T04:33:27.189Z"
   },
   {
    "duration": 130,
    "start_time": "2023-10-09T04:33:27.200Z"
   },
   {
    "duration": 16,
    "start_time": "2023-10-09T04:33:27.331Z"
   },
   {
    "duration": 128,
    "start_time": "2023-10-09T04:33:27.348Z"
   },
   {
    "duration": 119,
    "start_time": "2023-10-09T04:33:27.477Z"
   },
   {
    "duration": 5,
    "start_time": "2023-10-09T04:33:27.599Z"
   },
   {
    "duration": 15,
    "start_time": "2023-10-09T04:33:27.606Z"
   },
   {
    "duration": 8,
    "start_time": "2023-10-09T04:33:27.623Z"
   },
   {
    "duration": 15,
    "start_time": "2023-10-09T04:33:27.633Z"
   },
   {
    "duration": 129,
    "start_time": "2023-10-09T04:33:27.650Z"
   },
   {
    "duration": 120,
    "start_time": "2023-10-09T04:33:27.780Z"
   },
   {
    "duration": 4,
    "start_time": "2023-10-09T04:33:27.901Z"
   },
   {
    "duration": 12,
    "start_time": "2023-10-09T04:33:27.906Z"
   },
   {
    "duration": 26,
    "start_time": "2023-10-09T04:33:27.919Z"
   },
   {
    "duration": 9,
    "start_time": "2023-10-09T04:33:27.946Z"
   },
   {
    "duration": 24,
    "start_time": "2023-10-09T04:33:27.956Z"
   },
   {
    "duration": 7,
    "start_time": "2023-10-09T04:33:27.982Z"
   },
   {
    "duration": 17,
    "start_time": "2023-10-09T04:33:27.991Z"
   },
   {
    "duration": 8,
    "start_time": "2023-10-09T04:33:28.009Z"
   },
   {
    "duration": 41,
    "start_time": "2023-10-09T04:33:28.018Z"
   },
   {
    "duration": 4,
    "start_time": "2023-10-09T04:33:28.060Z"
   },
   {
    "duration": 13,
    "start_time": "2023-10-09T04:33:28.065Z"
   },
   {
    "duration": 131,
    "start_time": "2023-10-09T04:33:28.079Z"
   },
   {
    "duration": 7,
    "start_time": "2023-10-09T04:33:28.211Z"
   },
   {
    "duration": 205,
    "start_time": "2023-10-09T04:33:28.220Z"
   },
   {
    "duration": 22,
    "start_time": "2023-10-09T04:33:28.427Z"
   },
   {
    "duration": 4,
    "start_time": "2023-10-09T04:33:28.450Z"
   },
   {
    "duration": 21,
    "start_time": "2023-10-09T04:33:28.455Z"
   },
   {
    "duration": 135,
    "start_time": "2023-10-09T04:33:28.478Z"
   },
   {
    "duration": 82,
    "start_time": "2023-10-09T04:33:28.615Z"
   },
   {
    "duration": 121,
    "start_time": "2023-10-09T04:33:28.699Z"
   },
   {
    "duration": 9,
    "start_time": "2023-10-09T04:33:28.821Z"
   },
   {
    "duration": 39,
    "start_time": "2023-10-09T04:33:28.831Z"
   },
   {
    "duration": 22,
    "start_time": "2023-10-09T04:33:28.872Z"
   },
   {
    "duration": 21,
    "start_time": "2023-10-09T04:33:28.895Z"
   },
   {
    "duration": 22,
    "start_time": "2023-10-09T04:33:28.917Z"
   },
   {
    "duration": 173,
    "start_time": "2023-10-09T04:33:28.940Z"
   },
   {
    "duration": 5,
    "start_time": "2023-10-09T04:33:29.114Z"
   },
   {
    "duration": 9,
    "start_time": "2023-10-09T04:33:29.120Z"
   },
   {
    "duration": 18,
    "start_time": "2023-10-09T04:33:29.130Z"
   },
   {
    "duration": 3,
    "start_time": "2023-10-09T04:33:29.150Z"
   },
   {
    "duration": 20,
    "start_time": "2023-10-09T04:33:29.155Z"
   },
   {
    "duration": 22,
    "start_time": "2023-10-09T04:33:29.177Z"
   },
   {
    "duration": 167,
    "start_time": "2023-10-09T04:33:29.201Z"
   },
   {
    "duration": 4,
    "start_time": "2023-10-09T04:33:29.370Z"
   },
   {
    "duration": 10,
    "start_time": "2023-10-09T04:33:29.375Z"
   },
   {
    "duration": 13,
    "start_time": "2023-10-09T04:33:29.386Z"
   },
   {
    "duration": 18,
    "start_time": "2023-10-09T04:33:29.400Z"
   },
   {
    "duration": 4,
    "start_time": "2023-10-09T04:47:58.026Z"
   },
   {
    "duration": 4,
    "start_time": "2023-10-09T04:48:26.954Z"
   },
   {
    "duration": 5,
    "start_time": "2023-10-09T04:48:44.071Z"
   },
   {
    "duration": 5,
    "start_time": "2023-10-09T04:49:25.126Z"
   },
   {
    "duration": 5,
    "start_time": "2023-10-09T05:10:41.606Z"
   },
   {
    "duration": 5,
    "start_time": "2023-10-09T05:41:15.996Z"
   },
   {
    "duration": 203,
    "start_time": "2023-10-09T05:41:39.347Z"
   },
   {
    "duration": 93,
    "start_time": "2023-10-09T08:11:51.352Z"
   },
   {
    "duration": 1219,
    "start_time": "2023-10-09T08:12:57.574Z"
   },
   {
    "duration": 71,
    "start_time": "2023-10-09T08:12:58.795Z"
   },
   {
    "duration": 13,
    "start_time": "2023-10-09T08:12:58.867Z"
   },
   {
    "duration": 11,
    "start_time": "2023-10-09T08:12:58.881Z"
   },
   {
    "duration": 14,
    "start_time": "2023-10-09T08:12:58.895Z"
   },
   {
    "duration": 13,
    "start_time": "2023-10-09T08:12:58.911Z"
   },
   {
    "duration": 7,
    "start_time": "2023-10-09T08:12:58.926Z"
   },
   {
    "duration": 10,
    "start_time": "2023-10-09T08:12:58.944Z"
   },
   {
    "duration": 30,
    "start_time": "2023-10-09T08:12:58.956Z"
   },
   {
    "duration": 12,
    "start_time": "2023-10-09T08:12:58.988Z"
   },
   {
    "duration": 11,
    "start_time": "2023-10-09T08:12:59.002Z"
   },
   {
    "duration": 23,
    "start_time": "2023-10-09T08:12:59.015Z"
   },
   {
    "duration": 9,
    "start_time": "2023-10-09T08:12:59.039Z"
   },
   {
    "duration": 30,
    "start_time": "2023-10-09T08:12:59.050Z"
   },
   {
    "duration": 13,
    "start_time": "2023-10-09T08:12:59.082Z"
   },
   {
    "duration": 33,
    "start_time": "2023-10-09T08:12:59.097Z"
   },
   {
    "duration": 14,
    "start_time": "2023-10-09T08:12:59.132Z"
   },
   {
    "duration": 166,
    "start_time": "2023-10-09T08:12:59.147Z"
   },
   {
    "duration": 130,
    "start_time": "2023-10-09T08:12:59.314Z"
   },
   {
    "duration": 4,
    "start_time": "2023-10-09T08:12:59.446Z"
   },
   {
    "duration": 11,
    "start_time": "2023-10-09T08:12:59.452Z"
   },
   {
    "duration": 6,
    "start_time": "2023-10-09T08:12:59.465Z"
   },
   {
    "duration": 13,
    "start_time": "2023-10-09T08:12:59.472Z"
   },
   {
    "duration": 160,
    "start_time": "2023-10-09T08:12:59.487Z"
   },
   {
    "duration": 9,
    "start_time": "2023-10-09T08:12:59.648Z"
   },
   {
    "duration": 148,
    "start_time": "2023-10-09T08:12:59.659Z"
   },
   {
    "duration": 128,
    "start_time": "2023-10-09T08:12:59.808Z"
   },
   {
    "duration": 11,
    "start_time": "2023-10-09T08:12:59.937Z"
   },
   {
    "duration": 211,
    "start_time": "2023-10-09T08:12:59.950Z"
   },
   {
    "duration": 47,
    "start_time": "2023-10-09T08:13:00.163Z"
   },
   {
    "duration": 135,
    "start_time": "2023-10-09T08:13:00.212Z"
   },
   {
    "duration": 219,
    "start_time": "2023-10-09T08:13:00.348Z"
   },
   {
    "duration": 130,
    "start_time": "2023-10-09T08:13:00.568Z"
   },
   {
    "duration": 4,
    "start_time": "2023-10-09T08:13:00.700Z"
   },
   {
    "duration": 48,
    "start_time": "2023-10-09T08:13:00.706Z"
   },
   {
    "duration": 49,
    "start_time": "2023-10-09T08:13:00.756Z"
   },
   {
    "duration": 51,
    "start_time": "2023-10-09T08:13:00.807Z"
   },
   {
    "duration": 68,
    "start_time": "2023-10-09T08:13:00.860Z"
   },
   {
    "duration": 55,
    "start_time": "2023-10-09T08:13:00.929Z"
   },
   {
    "duration": 62,
    "start_time": "2023-10-09T08:13:00.986Z"
   },
   {
    "duration": 53,
    "start_time": "2023-10-09T08:13:01.059Z"
   },
   {
    "duration": 93,
    "start_time": "2023-10-09T08:13:01.114Z"
   },
   {
    "duration": 35,
    "start_time": "2023-10-09T08:13:01.209Z"
   },
   {
    "duration": 65,
    "start_time": "2023-10-09T08:13:01.246Z"
   },
   {
    "duration": 360,
    "start_time": "2023-10-09T08:13:01.312Z"
   },
   {
    "duration": 239,
    "start_time": "2023-10-09T08:13:01.673Z"
   },
   {
    "duration": 262,
    "start_time": "2023-10-09T08:13:01.914Z"
   },
   {
    "duration": 27,
    "start_time": "2023-10-09T08:13:02.178Z"
   },
   {
    "duration": 77,
    "start_time": "2023-10-09T08:13:02.207Z"
   },
   {
    "duration": 445,
    "start_time": "2023-10-09T08:13:02.286Z"
   },
   {
    "duration": 343,
    "start_time": "2023-10-09T08:13:02.733Z"
   },
   {
    "duration": 9,
    "start_time": "2023-10-09T08:13:03.077Z"
   },
   {
    "duration": 178,
    "start_time": "2023-10-09T08:13:03.087Z"
   },
   {
    "duration": 10,
    "start_time": "2023-10-09T08:13:03.266Z"
   },
   {
    "duration": 16,
    "start_time": "2023-10-09T08:13:03.277Z"
   },
   {
    "duration": 35,
    "start_time": "2023-10-09T08:13:03.295Z"
   },
   {
    "duration": 33,
    "start_time": "2023-10-09T08:13:03.332Z"
   },
   {
    "duration": 13,
    "start_time": "2023-10-09T08:13:03.367Z"
   },
   {
    "duration": 175,
    "start_time": "2023-10-09T08:13:03.381Z"
   },
   {
    "duration": 9,
    "start_time": "2023-10-09T08:13:03.557Z"
   },
   {
    "duration": 21,
    "start_time": "2023-10-09T08:13:03.568Z"
   },
   {
    "duration": 8,
    "start_time": "2023-10-09T08:13:03.591Z"
   },
   {
    "duration": 24,
    "start_time": "2023-10-09T08:13:03.600Z"
   },
   {
    "duration": 15,
    "start_time": "2023-10-09T08:13:03.625Z"
   },
   {
    "duration": 179,
    "start_time": "2023-10-09T08:13:03.645Z"
   },
   {
    "duration": 5,
    "start_time": "2023-10-09T08:13:03.826Z"
   },
   {
    "duration": 109,
    "start_time": "2023-10-09T08:13:03.844Z"
   },
   {
    "duration": 0,
    "start_time": "2023-10-09T08:13:03.954Z"
   },
   {
    "duration": 0,
    "start_time": "2023-10-09T08:13:03.956Z"
   },
   {
    "duration": 0,
    "start_time": "2023-10-09T08:13:03.957Z"
   },
   {
    "duration": 0,
    "start_time": "2023-10-09T08:13:03.958Z"
   },
   {
    "duration": 0,
    "start_time": "2023-10-09T08:13:03.959Z"
   },
   {
    "duration": 1242,
    "start_time": "2023-10-09T08:13:38.421Z"
   },
   {
    "duration": 67,
    "start_time": "2023-10-09T08:13:39.665Z"
   },
   {
    "duration": 11,
    "start_time": "2023-10-09T08:13:39.734Z"
   },
   {
    "duration": 18,
    "start_time": "2023-10-09T08:13:39.746Z"
   },
   {
    "duration": 24,
    "start_time": "2023-10-09T08:13:39.766Z"
   },
   {
    "duration": 22,
    "start_time": "2023-10-09T08:13:39.791Z"
   },
   {
    "duration": 19,
    "start_time": "2023-10-09T08:13:39.815Z"
   },
   {
    "duration": 21,
    "start_time": "2023-10-09T08:13:39.836Z"
   },
   {
    "duration": 18,
    "start_time": "2023-10-09T08:13:39.859Z"
   },
   {
    "duration": 23,
    "start_time": "2023-10-09T08:13:39.878Z"
   },
   {
    "duration": 7,
    "start_time": "2023-10-09T08:13:39.903Z"
   },
   {
    "duration": 28,
    "start_time": "2023-10-09T08:13:39.911Z"
   },
   {
    "duration": 26,
    "start_time": "2023-10-09T08:13:39.941Z"
   },
   {
    "duration": 6,
    "start_time": "2023-10-09T08:13:39.970Z"
   },
   {
    "duration": 7,
    "start_time": "2023-10-09T08:13:39.978Z"
   },
   {
    "duration": 21,
    "start_time": "2023-10-09T08:13:39.987Z"
   },
   {
    "duration": 41,
    "start_time": "2023-10-09T08:13:40.009Z"
   },
   {
    "duration": 183,
    "start_time": "2023-10-09T08:13:40.052Z"
   },
   {
    "duration": 108,
    "start_time": "2023-10-09T08:13:40.237Z"
   },
   {
    "duration": 4,
    "start_time": "2023-10-09T08:13:40.347Z"
   },
   {
    "duration": 15,
    "start_time": "2023-10-09T08:13:40.352Z"
   },
   {
    "duration": 8,
    "start_time": "2023-10-09T08:13:40.368Z"
   },
   {
    "duration": 11,
    "start_time": "2023-10-09T08:13:40.378Z"
   },
   {
    "duration": 183,
    "start_time": "2023-10-09T08:13:40.390Z"
   },
   {
    "duration": 8,
    "start_time": "2023-10-09T08:13:40.575Z"
   },
   {
    "duration": 237,
    "start_time": "2023-10-09T08:13:40.586Z"
   },
   {
    "duration": 120,
    "start_time": "2023-10-09T08:13:40.844Z"
   },
   {
    "duration": 7,
    "start_time": "2023-10-09T08:13:40.965Z"
   },
   {
    "duration": 25,
    "start_time": "2023-10-09T08:13:40.973Z"
   },
   {
    "duration": 24,
    "start_time": "2023-10-09T08:13:41.000Z"
   },
   {
    "duration": 20,
    "start_time": "2023-10-09T08:13:41.026Z"
   },
   {
    "duration": 165,
    "start_time": "2023-10-09T08:13:41.048Z"
   },
   {
    "duration": 118,
    "start_time": "2023-10-09T08:13:41.215Z"
   },
   {
    "duration": 5,
    "start_time": "2023-10-09T08:13:41.343Z"
   },
   {
    "duration": 9,
    "start_time": "2023-10-09T08:13:41.350Z"
   },
   {
    "duration": 14,
    "start_time": "2023-10-09T08:13:41.361Z"
   },
   {
    "duration": 10,
    "start_time": "2023-10-09T08:13:41.377Z"
   },
   {
    "duration": 17,
    "start_time": "2023-10-09T08:13:41.389Z"
   },
   {
    "duration": 10,
    "start_time": "2023-10-09T08:13:41.408Z"
   },
   {
    "duration": 43,
    "start_time": "2023-10-09T08:13:41.420Z"
   },
   {
    "duration": 11,
    "start_time": "2023-10-09T08:13:41.468Z"
   },
   {
    "duration": 25,
    "start_time": "2023-10-09T08:13:41.481Z"
   },
   {
    "duration": 3,
    "start_time": "2023-10-09T08:13:41.508Z"
   },
   {
    "duration": 9,
    "start_time": "2023-10-09T08:13:41.513Z"
   },
   {
    "duration": 145,
    "start_time": "2023-10-09T08:13:41.523Z"
   },
   {
    "duration": 11,
    "start_time": "2023-10-09T08:13:41.670Z"
   },
   {
    "duration": 243,
    "start_time": "2023-10-09T08:13:41.683Z"
   },
   {
    "duration": 26,
    "start_time": "2023-10-09T08:13:41.927Z"
   },
   {
    "duration": 4,
    "start_time": "2023-10-09T08:13:41.955Z"
   },
   {
    "duration": 26,
    "start_time": "2023-10-09T08:13:41.961Z"
   },
   {
    "duration": 135,
    "start_time": "2023-10-09T08:13:41.989Z"
   },
   {
    "duration": 8,
    "start_time": "2023-10-09T08:13:42.126Z"
   },
   {
    "duration": 151,
    "start_time": "2023-10-09T08:13:42.143Z"
   },
   {
    "duration": 9,
    "start_time": "2023-10-09T08:13:42.296Z"
   },
   {
    "duration": 9,
    "start_time": "2023-10-09T08:13:42.307Z"
   },
   {
    "duration": 5,
    "start_time": "2023-10-09T08:13:42.319Z"
   },
   {
    "duration": 21,
    "start_time": "2023-10-09T08:13:42.345Z"
   },
   {
    "duration": 9,
    "start_time": "2023-10-09T08:13:42.368Z"
   },
   {
    "duration": 173,
    "start_time": "2023-10-09T08:13:42.379Z"
   },
   {
    "duration": 9,
    "start_time": "2023-10-09T08:13:42.555Z"
   },
   {
    "duration": 41,
    "start_time": "2023-10-09T08:13:42.565Z"
   },
   {
    "duration": 8,
    "start_time": "2023-10-09T08:13:42.607Z"
   },
   {
    "duration": 414,
    "start_time": "2023-10-09T08:13:42.616Z"
   },
   {
    "duration": 158,
    "start_time": "2023-10-09T08:13:43.032Z"
   },
   {
    "duration": 178,
    "start_time": "2023-10-09T08:13:43.192Z"
   },
   {
    "duration": 5,
    "start_time": "2023-10-09T08:13:43.372Z"
   },
   {
    "duration": 11,
    "start_time": "2023-10-09T08:13:43.379Z"
   },
   {
    "duration": 10,
    "start_time": "2023-10-09T08:13:43.393Z"
   },
   {
    "duration": 24,
    "start_time": "2023-10-09T08:13:43.405Z"
   },
   {
    "duration": 14,
    "start_time": "2023-10-09T08:13:43.432Z"
   },
   {
    "duration": 283,
    "start_time": "2023-10-09T08:13:43.449Z"
   },
   {
    "duration": 204,
    "start_time": "2023-10-09T08:13:43.734Z"
   },
   {
    "duration": 5,
    "start_time": "2023-10-09T08:56:03.525Z"
   },
   {
    "duration": 8,
    "start_time": "2023-10-09T11:33:51.652Z"
   },
   {
    "duration": 7,
    "start_time": "2023-10-09T11:33:54.329Z"
   },
   {
    "duration": 6,
    "start_time": "2023-10-09T11:34:06.754Z"
   },
   {
    "duration": 248,
    "start_time": "2023-10-09T11:36:44.934Z"
   },
   {
    "duration": 423,
    "start_time": "2023-10-09T11:37:02.331Z"
   },
   {
    "duration": 4,
    "start_time": "2023-10-09T11:38:29.869Z"
   },
   {
    "duration": 80,
    "start_time": "2023-10-09T17:03:35.083Z"
   },
   {
    "duration": 2165,
    "start_time": "2023-10-09T17:03:42.884Z"
   },
   {
    "duration": 284,
    "start_time": "2023-10-09T17:03:45.053Z"
   },
   {
    "duration": 21,
    "start_time": "2023-10-09T17:03:45.341Z"
   },
   {
    "duration": 69,
    "start_time": "2023-10-09T17:03:45.364Z"
   },
   {
    "duration": 16,
    "start_time": "2023-10-09T17:03:45.437Z"
   },
   {
    "duration": 77,
    "start_time": "2023-10-09T17:03:45.455Z"
   },
   {
    "duration": 31,
    "start_time": "2023-10-09T17:03:45.535Z"
   },
   {
    "duration": 64,
    "start_time": "2023-10-09T17:03:45.568Z"
   },
   {
    "duration": 10,
    "start_time": "2023-10-09T17:03:45.635Z"
   },
   {
    "duration": 13,
    "start_time": "2023-10-09T17:03:45.647Z"
   },
   {
    "duration": 65,
    "start_time": "2023-10-09T17:03:45.663Z"
   },
   {
    "duration": 19,
    "start_time": "2023-10-09T17:03:45.731Z"
   },
   {
    "duration": 12,
    "start_time": "2023-10-09T17:03:45.753Z"
   },
   {
    "duration": 11,
    "start_time": "2023-10-09T17:03:45.825Z"
   },
   {
    "duration": 23,
    "start_time": "2023-10-09T17:03:45.839Z"
   },
   {
    "duration": 35,
    "start_time": "2023-10-09T17:03:45.865Z"
   },
   {
    "duration": 17,
    "start_time": "2023-10-09T17:03:45.927Z"
   },
   {
    "duration": 511,
    "start_time": "2023-10-09T17:03:45.947Z"
   },
   {
    "duration": 257,
    "start_time": "2023-10-09T17:03:46.461Z"
   },
   {
    "duration": 11,
    "start_time": "2023-10-09T17:03:46.723Z"
   },
   {
    "duration": 28,
    "start_time": "2023-10-09T17:03:46.737Z"
   },
   {
    "duration": 18,
    "start_time": "2023-10-09T17:03:46.767Z"
   },
   {
    "duration": 23,
    "start_time": "2023-10-09T17:03:46.788Z"
   },
   {
    "duration": 240,
    "start_time": "2023-10-09T17:03:46.813Z"
   },
   {
    "duration": 14,
    "start_time": "2023-10-09T17:03:47.055Z"
   },
   {
    "duration": 293,
    "start_time": "2023-10-09T17:03:47.071Z"
   },
   {
    "duration": 211,
    "start_time": "2023-10-09T17:03:47.367Z"
   },
   {
    "duration": 12,
    "start_time": "2023-10-09T17:03:47.581Z"
   },
   {
    "duration": 15,
    "start_time": "2023-10-09T17:03:47.595Z"
   },
   {
    "duration": 35,
    "start_time": "2023-10-09T17:03:47.626Z"
   },
   {
    "duration": 16,
    "start_time": "2023-10-09T17:03:47.663Z"
   },
   {
    "duration": 214,
    "start_time": "2023-10-09T17:03:47.681Z"
   },
   {
    "duration": 219,
    "start_time": "2023-10-09T17:03:47.898Z"
   },
   {
    "duration": 7,
    "start_time": "2023-10-09T17:03:48.123Z"
   },
   {
    "duration": 27,
    "start_time": "2023-10-09T17:03:48.132Z"
   },
   {
    "duration": 38,
    "start_time": "2023-10-09T17:03:48.161Z"
   },
   {
    "duration": 61,
    "start_time": "2023-10-09T17:03:48.203Z"
   },
   {
    "duration": 55,
    "start_time": "2023-10-09T17:03:48.267Z"
   },
   {
    "duration": 41,
    "start_time": "2023-10-09T17:03:48.324Z"
   },
   {
    "duration": 88,
    "start_time": "2023-10-09T17:03:48.368Z"
   },
   {
    "duration": 27,
    "start_time": "2023-10-09T17:03:48.462Z"
   },
   {
    "duration": 48,
    "start_time": "2023-10-09T17:03:48.491Z"
   },
   {
    "duration": 12,
    "start_time": "2023-10-09T17:03:48.541Z"
   },
   {
    "duration": 15,
    "start_time": "2023-10-09T17:03:48.556Z"
   },
   {
    "duration": 211,
    "start_time": "2023-10-09T17:03:48.574Z"
   },
   {
    "duration": 12,
    "start_time": "2023-10-09T17:03:48.787Z"
   },
   {
    "duration": 328,
    "start_time": "2023-10-09T17:03:48.801Z"
   },
   {
    "duration": 33,
    "start_time": "2023-10-09T17:03:49.132Z"
   },
   {
    "duration": 70,
    "start_time": "2023-10-09T17:03:49.167Z"
   },
   {
    "duration": 113,
    "start_time": "2023-10-09T17:03:49.240Z"
   },
   {
    "duration": 252,
    "start_time": "2023-10-09T17:03:49.355Z"
   },
   {
    "duration": 21,
    "start_time": "2023-10-09T17:03:49.609Z"
   },
   {
    "duration": 235,
    "start_time": "2023-10-09T17:03:49.632Z"
   },
   {
    "duration": 17,
    "start_time": "2023-10-09T17:03:49.870Z"
   },
   {
    "duration": 34,
    "start_time": "2023-10-09T17:03:49.892Z"
   },
   {
    "duration": 39,
    "start_time": "2023-10-09T17:03:49.928Z"
   },
   {
    "duration": 71,
    "start_time": "2023-10-09T17:03:49.969Z"
   },
   {
    "duration": 153,
    "start_time": "2023-10-09T17:03:50.042Z"
   },
   {
    "duration": 411,
    "start_time": "2023-10-09T17:03:50.197Z"
   },
   {
    "duration": 19,
    "start_time": "2023-10-09T17:03:50.611Z"
   },
   {
    "duration": 55,
    "start_time": "2023-10-09T17:03:50.633Z"
   },
   {
    "duration": 39,
    "start_time": "2023-10-09T17:03:50.690Z"
   },
   {
    "duration": 71,
    "start_time": "2023-10-09T17:03:50.731Z"
   },
   {
    "duration": 120,
    "start_time": "2023-10-09T17:03:50.804Z"
   },
   {
    "duration": 285,
    "start_time": "2023-10-09T17:03:50.929Z"
   },
   {
    "duration": 14,
    "start_time": "2023-10-09T17:03:51.217Z"
   },
   {
    "duration": 34,
    "start_time": "2023-10-09T17:03:51.234Z"
   },
   {
    "duration": 49,
    "start_time": "2023-10-09T17:03:51.272Z"
   },
   {
    "duration": 90,
    "start_time": "2023-10-09T17:03:51.324Z"
   },
   {
    "duration": 34,
    "start_time": "2023-10-09T17:03:51.416Z"
   },
   {
    "duration": 17,
    "start_time": "2023-10-09T17:03:51.452Z"
   },
   {
    "duration": 31,
    "start_time": "2023-10-09T17:03:51.470Z"
   },
   {
    "duration": 448,
    "start_time": "2023-10-09T17:03:51.502Z"
   },
   {
    "duration": 11,
    "start_time": "2023-10-09T17:10:24.512Z"
   },
   {
    "duration": 15,
    "start_time": "2023-10-09T17:10:50.706Z"
   },
   {
    "duration": 13,
    "start_time": "2023-10-09T17:10:52.349Z"
   },
   {
    "duration": 50,
    "start_time": "2023-10-10T02:44:32.025Z"
   },
   {
    "duration": 1507,
    "start_time": "2023-10-10T02:44:40.119Z"
   },
   {
    "duration": 213,
    "start_time": "2023-10-10T02:44:41.628Z"
   },
   {
    "duration": 12,
    "start_time": "2023-10-10T02:44:41.843Z"
   },
   {
    "duration": 30,
    "start_time": "2023-10-10T02:44:41.857Z"
   },
   {
    "duration": 22,
    "start_time": "2023-10-10T02:44:41.890Z"
   },
   {
    "duration": 20,
    "start_time": "2023-10-10T02:44:41.919Z"
   },
   {
    "duration": 8,
    "start_time": "2023-10-10T02:44:41.941Z"
   },
   {
    "duration": 25,
    "start_time": "2023-10-10T02:44:41.951Z"
   },
   {
    "duration": 20,
    "start_time": "2023-10-10T02:44:41.978Z"
   },
   {
    "duration": 34,
    "start_time": "2023-10-10T02:44:41.999Z"
   },
   {
    "duration": 25,
    "start_time": "2023-10-10T02:44:42.035Z"
   },
   {
    "duration": 30,
    "start_time": "2023-10-10T02:44:42.062Z"
   },
   {
    "duration": 27,
    "start_time": "2023-10-10T02:44:42.094Z"
   },
   {
    "duration": 53,
    "start_time": "2023-10-10T02:44:42.125Z"
   },
   {
    "duration": 15,
    "start_time": "2023-10-10T02:44:42.180Z"
   },
   {
    "duration": 47,
    "start_time": "2023-10-10T02:44:42.197Z"
   },
   {
    "duration": 16,
    "start_time": "2023-10-10T02:44:42.245Z"
   },
   {
    "duration": 214,
    "start_time": "2023-10-10T02:44:42.263Z"
   },
   {
    "duration": 144,
    "start_time": "2023-10-10T02:44:42.478Z"
   },
   {
    "duration": 6,
    "start_time": "2023-10-10T02:44:42.624Z"
   },
   {
    "duration": 65,
    "start_time": "2023-10-10T02:44:42.632Z"
   },
   {
    "duration": 33,
    "start_time": "2023-10-10T02:44:42.699Z"
   },
   {
    "duration": 34,
    "start_time": "2023-10-10T02:44:42.734Z"
   },
   {
    "duration": 170,
    "start_time": "2023-10-10T02:44:42.770Z"
   },
   {
    "duration": 9,
    "start_time": "2023-10-10T02:44:42.941Z"
   },
   {
    "duration": 163,
    "start_time": "2023-10-10T02:44:42.951Z"
   },
   {
    "duration": 148,
    "start_time": "2023-10-10T02:44:43.116Z"
   },
   {
    "duration": 5,
    "start_time": "2023-10-10T02:44:43.266Z"
   },
   {
    "duration": 21,
    "start_time": "2023-10-10T02:44:43.273Z"
   },
   {
    "duration": 41,
    "start_time": "2023-10-10T02:44:43.296Z"
   },
   {
    "duration": 29,
    "start_time": "2023-10-10T02:44:43.339Z"
   },
   {
    "duration": 173,
    "start_time": "2023-10-10T02:44:43.370Z"
   },
   {
    "duration": 134,
    "start_time": "2023-10-10T02:44:43.545Z"
   },
   {
    "duration": 5,
    "start_time": "2023-10-10T02:44:43.681Z"
   },
   {
    "duration": 29,
    "start_time": "2023-10-10T02:44:43.688Z"
   },
   {
    "duration": 39,
    "start_time": "2023-10-10T02:44:43.719Z"
   },
   {
    "duration": 82,
    "start_time": "2023-10-10T02:44:43.759Z"
   },
   {
    "duration": 55,
    "start_time": "2023-10-10T02:44:43.843Z"
   },
   {
    "duration": 99,
    "start_time": "2023-10-10T02:44:43.899Z"
   },
   {
    "duration": 56,
    "start_time": "2023-10-10T02:44:44.000Z"
   },
   {
    "duration": 51,
    "start_time": "2023-10-10T02:44:44.061Z"
   },
   {
    "duration": 82,
    "start_time": "2023-10-10T02:44:44.114Z"
   },
   {
    "duration": 4,
    "start_time": "2023-10-10T02:44:44.200Z"
   },
   {
    "duration": 33,
    "start_time": "2023-10-10T02:44:44.206Z"
   },
   {
    "duration": 178,
    "start_time": "2023-10-10T02:44:44.241Z"
   },
   {
    "duration": 9,
    "start_time": "2023-10-10T02:44:44.421Z"
   },
   {
    "duration": 320,
    "start_time": "2023-10-10T02:44:44.432Z"
   },
   {
    "duration": 31,
    "start_time": "2023-10-10T02:44:44.754Z"
   },
   {
    "duration": 34,
    "start_time": "2023-10-10T02:44:44.787Z"
   },
   {
    "duration": 29,
    "start_time": "2023-10-10T02:44:44.823Z"
   },
   {
    "duration": 206,
    "start_time": "2023-10-10T02:44:44.854Z"
   },
   {
    "duration": 9,
    "start_time": "2023-10-10T02:44:45.061Z"
   },
   {
    "duration": 312,
    "start_time": "2023-10-10T02:44:45.071Z"
   },
   {
    "duration": 26,
    "start_time": "2023-10-10T02:44:45.386Z"
   },
   {
    "duration": 15,
    "start_time": "2023-10-10T02:44:45.414Z"
   },
   {
    "duration": 10,
    "start_time": "2023-10-10T02:44:45.432Z"
   },
   {
    "duration": 45,
    "start_time": "2023-10-10T02:44:45.444Z"
   },
   {
    "duration": 8,
    "start_time": "2023-10-10T02:44:45.491Z"
   },
   {
    "duration": 189,
    "start_time": "2023-10-10T02:44:45.501Z"
   },
   {
    "duration": 25,
    "start_time": "2023-10-10T02:44:45.692Z"
   },
   {
    "duration": 14,
    "start_time": "2023-10-10T02:44:45.719Z"
   },
   {
    "duration": 11,
    "start_time": "2023-10-10T02:44:45.735Z"
   },
   {
    "duration": 32,
    "start_time": "2023-10-10T02:44:45.747Z"
   },
   {
    "duration": 25,
    "start_time": "2023-10-10T02:44:45.781Z"
   },
   {
    "duration": 187,
    "start_time": "2023-10-10T02:44:45.809Z"
   },
   {
    "duration": 19,
    "start_time": "2023-10-10T02:44:45.998Z"
   },
   {
    "duration": 13,
    "start_time": "2023-10-10T02:44:46.019Z"
   },
   {
    "duration": 18,
    "start_time": "2023-10-10T02:44:46.034Z"
   },
   {
    "duration": 17,
    "start_time": "2023-10-10T02:44:46.054Z"
   },
   {
    "duration": 48,
    "start_time": "2023-10-10T02:44:46.072Z"
   },
   {
    "duration": 27,
    "start_time": "2023-10-10T02:44:46.122Z"
   },
   {
    "duration": 11,
    "start_time": "2023-10-10T02:44:46.151Z"
   },
   {
    "duration": 282,
    "start_time": "2023-10-10T02:44:46.164Z"
   },
   {
    "duration": 212,
    "start_time": "2023-10-10T02:47:34.115Z"
   },
   {
    "duration": 6,
    "start_time": "2023-10-10T03:10:29.230Z"
   },
   {
    "duration": 79,
    "start_time": "2023-10-10T04:27:32.915Z"
   },
   {
    "duration": 539,
    "start_time": "2023-10-10T04:27:37.387Z"
   },
   {
    "duration": 657,
    "start_time": "2023-10-10T04:28:06.190Z"
   },
   {
    "duration": 132,
    "start_time": "2023-10-10T04:28:31.352Z"
   },
   {
    "duration": 146,
    "start_time": "2023-10-10T04:30:11.087Z"
   },
   {
    "duration": 118,
    "start_time": "2023-10-10T04:30:32.575Z"
   },
   {
    "duration": 11,
    "start_time": "2023-10-10T04:39:53.933Z"
   },
   {
    "duration": 173,
    "start_time": "2023-10-10T04:40:08.972Z"
   },
   {
    "duration": 1512,
    "start_time": "2023-10-10T04:44:21.837Z"
   },
   {
    "duration": 80,
    "start_time": "2023-10-10T04:44:23.351Z"
   },
   {
    "duration": 13,
    "start_time": "2023-10-10T04:44:23.433Z"
   },
   {
    "duration": 11,
    "start_time": "2023-10-10T04:44:23.448Z"
   },
   {
    "duration": 15,
    "start_time": "2023-10-10T04:44:23.462Z"
   },
   {
    "duration": 19,
    "start_time": "2023-10-10T04:44:23.478Z"
   },
   {
    "duration": 28,
    "start_time": "2023-10-10T04:44:23.501Z"
   },
   {
    "duration": 24,
    "start_time": "2023-10-10T04:44:23.531Z"
   },
   {
    "duration": 12,
    "start_time": "2023-10-10T04:44:23.557Z"
   },
   {
    "duration": 36,
    "start_time": "2023-10-10T04:44:23.571Z"
   },
   {
    "duration": 15,
    "start_time": "2023-10-10T04:44:23.609Z"
   },
   {
    "duration": 21,
    "start_time": "2023-10-10T04:44:23.626Z"
   },
   {
    "duration": 14,
    "start_time": "2023-10-10T04:44:23.649Z"
   },
   {
    "duration": 23,
    "start_time": "2023-10-10T04:44:23.666Z"
   },
   {
    "duration": 26,
    "start_time": "2023-10-10T04:44:23.691Z"
   },
   {
    "duration": 34,
    "start_time": "2023-10-10T04:44:23.719Z"
   },
   {
    "duration": 24,
    "start_time": "2023-10-10T04:44:23.755Z"
   },
   {
    "duration": 187,
    "start_time": "2023-10-10T04:44:23.781Z"
   },
   {
    "duration": 145,
    "start_time": "2023-10-10T04:44:23.970Z"
   },
   {
    "duration": 67,
    "start_time": "2023-10-10T04:44:24.118Z"
   },
   {
    "duration": 21,
    "start_time": "2023-10-10T04:44:24.187Z"
   },
   {
    "duration": 7,
    "start_time": "2023-10-10T04:44:24.215Z"
   },
   {
    "duration": 29,
    "start_time": "2023-10-10T04:44:24.224Z"
   },
   {
    "duration": 21,
    "start_time": "2023-10-10T04:44:24.254Z"
   },
   {
    "duration": 168,
    "start_time": "2023-10-10T04:44:24.277Z"
   },
   {
    "duration": 9,
    "start_time": "2023-10-10T04:44:24.447Z"
   },
   {
    "duration": 195,
    "start_time": "2023-10-10T04:44:24.458Z"
   },
   {
    "duration": 175,
    "start_time": "2023-10-10T04:44:24.656Z"
   },
   {
    "duration": 7,
    "start_time": "2023-10-10T04:44:24.833Z"
   },
   {
    "duration": 14,
    "start_time": "2023-10-10T04:44:24.842Z"
   },
   {
    "duration": 9,
    "start_time": "2023-10-10T04:44:24.858Z"
   },
   {
    "duration": 15,
    "start_time": "2023-10-10T04:44:24.869Z"
   },
   {
    "duration": 164,
    "start_time": "2023-10-10T04:44:24.886Z"
   },
   {
    "duration": 134,
    "start_time": "2023-10-10T04:44:25.052Z"
   },
   {
    "duration": 5,
    "start_time": "2023-10-10T04:44:25.188Z"
   },
   {
    "duration": 14,
    "start_time": "2023-10-10T04:44:25.205Z"
   },
   {
    "duration": 13,
    "start_time": "2023-10-10T04:44:25.221Z"
   },
   {
    "duration": 27,
    "start_time": "2023-10-10T04:44:25.236Z"
   },
   {
    "duration": 23,
    "start_time": "2023-10-10T04:44:25.265Z"
   },
   {
    "duration": 27,
    "start_time": "2023-10-10T04:44:25.289Z"
   },
   {
    "duration": 21,
    "start_time": "2023-10-10T04:44:25.323Z"
   },
   {
    "duration": 15,
    "start_time": "2023-10-10T04:44:25.346Z"
   },
   {
    "duration": 25,
    "start_time": "2023-10-10T04:44:25.363Z"
   },
   {
    "duration": 16,
    "start_time": "2023-10-10T04:44:25.402Z"
   },
   {
    "duration": 22,
    "start_time": "2023-10-10T04:44:25.419Z"
   },
   {
    "duration": 216,
    "start_time": "2023-10-10T04:44:25.443Z"
   },
   {
    "duration": 10,
    "start_time": "2023-10-10T04:44:25.661Z"
   },
   {
    "duration": 177,
    "start_time": "2023-10-10T04:44:25.674Z"
   },
   {
    "duration": 23,
    "start_time": "2023-10-10T04:44:25.853Z"
   },
   {
    "duration": 31,
    "start_time": "2023-10-10T04:44:25.878Z"
   },
   {
    "duration": 20,
    "start_time": "2023-10-10T04:44:25.911Z"
   },
   {
    "duration": 157,
    "start_time": "2023-10-10T04:44:25.933Z"
   },
   {
    "duration": 25,
    "start_time": "2023-10-10T04:44:26.092Z"
   },
   {
    "duration": 173,
    "start_time": "2023-10-10T04:44:26.119Z"
   },
   {
    "duration": 20,
    "start_time": "2023-10-10T04:44:26.294Z"
   },
   {
    "duration": 15,
    "start_time": "2023-10-10T04:44:26.316Z"
   },
   {
    "duration": 18,
    "start_time": "2023-10-10T04:44:26.333Z"
   },
   {
    "duration": 28,
    "start_time": "2023-10-10T04:44:26.354Z"
   },
   {
    "duration": 44,
    "start_time": "2023-10-10T04:44:26.384Z"
   },
   {
    "duration": 214,
    "start_time": "2023-10-10T04:44:26.429Z"
   },
   {
    "duration": 10,
    "start_time": "2023-10-10T04:44:26.644Z"
   },
   {
    "duration": 40,
    "start_time": "2023-10-10T04:44:26.656Z"
   },
   {
    "duration": 24,
    "start_time": "2023-10-10T04:44:26.698Z"
   },
   {
    "duration": 45,
    "start_time": "2023-10-10T04:44:26.724Z"
   },
   {
    "duration": 45,
    "start_time": "2023-10-10T04:44:26.771Z"
   },
   {
    "duration": 213,
    "start_time": "2023-10-10T04:44:26.819Z"
   },
   {
    "duration": 6,
    "start_time": "2023-10-10T04:44:27.034Z"
   },
   {
    "duration": 47,
    "start_time": "2023-10-10T04:44:27.042Z"
   },
   {
    "duration": 27,
    "start_time": "2023-10-10T04:44:27.091Z"
   },
   {
    "duration": 24,
    "start_time": "2023-10-10T04:44:27.120Z"
   },
   {
    "duration": 23,
    "start_time": "2023-10-10T04:44:27.146Z"
   },
   {
    "duration": 25,
    "start_time": "2023-10-10T04:44:27.171Z"
   },
   {
    "duration": 22,
    "start_time": "2023-10-10T04:44:27.199Z"
   },
   {
    "duration": 312,
    "start_time": "2023-10-10T04:44:27.223Z"
   },
   {
    "duration": 1316,
    "start_time": "2023-10-10T04:45:33.354Z"
   },
   {
    "duration": 87,
    "start_time": "2023-10-10T04:45:34.672Z"
   },
   {
    "duration": 13,
    "start_time": "2023-10-10T04:45:34.760Z"
   },
   {
    "duration": 47,
    "start_time": "2023-10-10T04:45:34.775Z"
   },
   {
    "duration": 32,
    "start_time": "2023-10-10T04:45:34.825Z"
   },
   {
    "duration": 39,
    "start_time": "2023-10-10T04:45:34.859Z"
   },
   {
    "duration": 14,
    "start_time": "2023-10-10T04:45:34.900Z"
   },
   {
    "duration": 38,
    "start_time": "2023-10-10T04:45:34.916Z"
   },
   {
    "duration": 25,
    "start_time": "2023-10-10T04:45:34.956Z"
   },
   {
    "duration": 8,
    "start_time": "2023-10-10T04:45:34.983Z"
   },
   {
    "duration": 32,
    "start_time": "2023-10-10T04:45:34.993Z"
   },
   {
    "duration": 40,
    "start_time": "2023-10-10T04:45:35.026Z"
   },
   {
    "duration": 48,
    "start_time": "2023-10-10T04:45:35.068Z"
   },
   {
    "duration": 52,
    "start_time": "2023-10-10T04:45:35.120Z"
   },
   {
    "duration": 85,
    "start_time": "2023-10-10T04:45:35.174Z"
   },
   {
    "duration": 56,
    "start_time": "2023-10-10T04:45:35.262Z"
   },
   {
    "duration": 50,
    "start_time": "2023-10-10T04:45:35.321Z"
   },
   {
    "duration": 244,
    "start_time": "2023-10-10T04:45:35.373Z"
   },
   {
    "duration": 124,
    "start_time": "2023-10-10T04:45:35.619Z"
   },
   {
    "duration": 78,
    "start_time": "2023-10-10T04:45:35.745Z"
   },
   {
    "duration": 178,
    "start_time": "2023-10-10T04:45:35.825Z"
   },
   {
    "duration": 64,
    "start_time": "2023-10-10T04:45:36.005Z"
   },
   {
    "duration": 20,
    "start_time": "2023-10-10T04:45:36.071Z"
   },
   {
    "duration": 37,
    "start_time": "2023-10-10T04:45:36.093Z"
   },
   {
    "duration": 188,
    "start_time": "2023-10-10T04:45:36.132Z"
   },
   {
    "duration": 10,
    "start_time": "2023-10-10T04:45:36.322Z"
   },
   {
    "duration": 190,
    "start_time": "2023-10-10T04:45:36.334Z"
   },
   {
    "duration": 143,
    "start_time": "2023-10-10T04:45:36.527Z"
   },
   {
    "duration": 7,
    "start_time": "2023-10-10T04:45:36.672Z"
   },
   {
    "duration": 11,
    "start_time": "2023-10-10T04:45:36.680Z"
   },
   {
    "duration": 12,
    "start_time": "2023-10-10T04:45:36.701Z"
   },
   {
    "duration": 42,
    "start_time": "2023-10-10T04:45:36.714Z"
   },
   {
    "duration": 167,
    "start_time": "2023-10-10T04:45:36.759Z"
   },
   {
    "duration": 150,
    "start_time": "2023-10-10T04:45:36.929Z"
   },
   {
    "duration": 5,
    "start_time": "2023-10-10T04:45:37.082Z"
   },
   {
    "duration": 82,
    "start_time": "2023-10-10T04:45:37.089Z"
   },
   {
    "duration": 34,
    "start_time": "2023-10-10T04:45:37.173Z"
   },
   {
    "duration": 41,
    "start_time": "2023-10-10T04:45:37.208Z"
   },
   {
    "duration": 42,
    "start_time": "2023-10-10T04:45:37.251Z"
   },
   {
    "duration": 31,
    "start_time": "2023-10-10T04:45:37.295Z"
   },
   {
    "duration": 45,
    "start_time": "2023-10-10T04:45:37.330Z"
   },
   {
    "duration": 13,
    "start_time": "2023-10-10T04:45:37.377Z"
   },
   {
    "duration": 36,
    "start_time": "2023-10-10T04:45:37.392Z"
   },
   {
    "duration": 27,
    "start_time": "2023-10-10T04:45:37.430Z"
   },
   {
    "duration": 48,
    "start_time": "2023-10-10T04:45:37.459Z"
   },
   {
    "duration": 221,
    "start_time": "2023-10-10T04:45:37.508Z"
   },
   {
    "duration": 10,
    "start_time": "2023-10-10T04:45:37.731Z"
   },
   {
    "duration": 170,
    "start_time": "2023-10-10T04:45:37.742Z"
   },
   {
    "duration": 22,
    "start_time": "2023-10-10T04:45:37.915Z"
   },
   {
    "duration": 16,
    "start_time": "2023-10-10T04:45:37.938Z"
   },
   {
    "duration": 30,
    "start_time": "2023-10-10T04:45:37.956Z"
   },
   {
    "duration": 132,
    "start_time": "2023-10-10T04:45:37.988Z"
   },
   {
    "duration": 10,
    "start_time": "2023-10-10T04:45:38.122Z"
   },
   {
    "duration": 183,
    "start_time": "2023-10-10T04:45:38.133Z"
   },
   {
    "duration": 11,
    "start_time": "2023-10-10T04:45:38.321Z"
   },
   {
    "duration": 27,
    "start_time": "2023-10-10T04:45:38.334Z"
   },
   {
    "duration": 36,
    "start_time": "2023-10-10T04:45:38.363Z"
   },
   {
    "duration": 44,
    "start_time": "2023-10-10T04:45:38.401Z"
   },
   {
    "duration": 13,
    "start_time": "2023-10-10T04:45:38.447Z"
   },
   {
    "duration": 209,
    "start_time": "2023-10-10T04:45:38.462Z"
   },
   {
    "duration": 12,
    "start_time": "2023-10-10T04:45:38.673Z"
   },
   {
    "duration": 43,
    "start_time": "2023-10-10T04:45:38.688Z"
   },
   {
    "duration": 18,
    "start_time": "2023-10-10T04:45:38.733Z"
   },
   {
    "duration": 20,
    "start_time": "2023-10-10T04:45:38.752Z"
   },
   {
    "duration": 40,
    "start_time": "2023-10-10T04:45:38.774Z"
   },
   {
    "duration": 209,
    "start_time": "2023-10-10T04:45:38.820Z"
   },
   {
    "duration": 4,
    "start_time": "2023-10-10T04:45:39.031Z"
   },
   {
    "duration": 30,
    "start_time": "2023-10-10T04:45:39.037Z"
   },
   {
    "duration": 13,
    "start_time": "2023-10-10T04:45:39.069Z"
   },
   {
    "duration": 35,
    "start_time": "2023-10-10T04:45:39.083Z"
   },
   {
    "duration": 24,
    "start_time": "2023-10-10T04:45:39.120Z"
   },
   {
    "duration": 31,
    "start_time": "2023-10-10T04:45:39.145Z"
   },
   {
    "duration": 18,
    "start_time": "2023-10-10T04:45:39.177Z"
   },
   {
    "duration": 310,
    "start_time": "2023-10-10T04:45:39.197Z"
   },
   {
    "duration": 9,
    "start_time": "2023-10-10T04:50:17.709Z"
   },
   {
    "duration": 7,
    "start_time": "2023-10-10T04:51:31.667Z"
   },
   {
    "duration": 138,
    "start_time": "2023-10-10T06:09:21.670Z"
   },
   {
    "duration": 96,
    "start_time": "2023-10-10T06:09:36.999Z"
   },
   {
    "duration": 13,
    "start_time": "2023-10-10T06:12:34.592Z"
   },
   {
    "duration": 204,
    "start_time": "2023-10-10T06:20:40.155Z"
   },
   {
    "duration": 9,
    "start_time": "2023-10-10T06:23:03.919Z"
   },
   {
    "duration": 1371,
    "start_time": "2023-10-10T06:23:14.279Z"
   },
   {
    "duration": 80,
    "start_time": "2023-10-10T06:23:15.652Z"
   },
   {
    "duration": 13,
    "start_time": "2023-10-10T06:23:15.733Z"
   },
   {
    "duration": 305,
    "start_time": "2023-10-10T06:23:15.748Z"
   },
   {
    "duration": 41,
    "start_time": "2023-10-10T06:23:16.056Z"
   },
   {
    "duration": 45,
    "start_time": "2023-10-10T06:23:16.099Z"
   },
   {
    "duration": 50,
    "start_time": "2023-10-10T06:23:16.147Z"
   },
   {
    "duration": 55,
    "start_time": "2023-10-10T06:23:16.198Z"
   },
   {
    "duration": 41,
    "start_time": "2023-10-10T06:23:16.255Z"
   },
   {
    "duration": 55,
    "start_time": "2023-10-10T06:23:16.298Z"
   },
   {
    "duration": 49,
    "start_time": "2023-10-10T06:23:16.355Z"
   },
   {
    "duration": 40,
    "start_time": "2023-10-10T06:23:16.408Z"
   },
   {
    "duration": 97,
    "start_time": "2023-10-10T06:23:16.450Z"
   },
   {
    "duration": 56,
    "start_time": "2023-10-10T06:23:16.551Z"
   },
   {
    "duration": 38,
    "start_time": "2023-10-10T06:23:16.610Z"
   },
   {
    "duration": 69,
    "start_time": "2023-10-10T06:23:16.650Z"
   },
   {
    "duration": 27,
    "start_time": "2023-10-10T06:23:16.721Z"
   },
   {
    "duration": 216,
    "start_time": "2023-10-10T06:23:16.750Z"
   },
   {
    "duration": 135,
    "start_time": "2023-10-10T06:23:16.967Z"
   },
   {
    "duration": 85,
    "start_time": "2023-10-10T06:23:17.114Z"
   },
   {
    "duration": 39,
    "start_time": "2023-10-10T06:23:17.200Z"
   },
   {
    "duration": 25,
    "start_time": "2023-10-10T06:23:17.242Z"
   },
   {
    "duration": 23,
    "start_time": "2023-10-10T06:23:17.270Z"
   },
   {
    "duration": 48,
    "start_time": "2023-10-10T06:23:17.295Z"
   },
   {
    "duration": 189,
    "start_time": "2023-10-10T06:23:17.345Z"
   },
   {
    "duration": 9,
    "start_time": "2023-10-10T06:23:17.536Z"
   },
   {
    "duration": 197,
    "start_time": "2023-10-10T06:23:17.547Z"
   },
   {
    "duration": 149,
    "start_time": "2023-10-10T06:23:17.746Z"
   },
   {
    "duration": 13,
    "start_time": "2023-10-10T06:23:17.903Z"
   },
   {
    "duration": 34,
    "start_time": "2023-10-10T06:23:17.922Z"
   },
   {
    "duration": 32,
    "start_time": "2023-10-10T06:23:17.958Z"
   },
   {
    "duration": 31,
    "start_time": "2023-10-10T06:23:17.992Z"
   },
   {
    "duration": 153,
    "start_time": "2023-10-10T06:23:18.025Z"
   },
   {
    "duration": 151,
    "start_time": "2023-10-10T06:23:18.181Z"
   },
   {
    "duration": 5,
    "start_time": "2023-10-10T06:23:18.334Z"
   },
   {
    "duration": 37,
    "start_time": "2023-10-10T06:23:18.340Z"
   },
   {
    "duration": 42,
    "start_time": "2023-10-10T06:23:18.379Z"
   },
   {
    "duration": 40,
    "start_time": "2023-10-10T06:23:18.423Z"
   },
   {
    "duration": 27,
    "start_time": "2023-10-10T06:23:18.464Z"
   },
   {
    "duration": 24,
    "start_time": "2023-10-10T06:23:18.493Z"
   },
   {
    "duration": 47,
    "start_time": "2023-10-10T06:23:18.524Z"
   },
   {
    "duration": 17,
    "start_time": "2023-10-10T06:23:18.574Z"
   },
   {
    "duration": 31,
    "start_time": "2023-10-10T06:23:18.593Z"
   },
   {
    "duration": 34,
    "start_time": "2023-10-10T06:23:18.626Z"
   },
   {
    "duration": 12,
    "start_time": "2023-10-10T06:23:18.662Z"
   },
   {
    "duration": 252,
    "start_time": "2023-10-10T06:23:18.676Z"
   },
   {
    "duration": 11,
    "start_time": "2023-10-10T06:23:18.930Z"
   },
   {
    "duration": 202,
    "start_time": "2023-10-10T06:23:18.943Z"
   },
   {
    "duration": 21,
    "start_time": "2023-10-10T06:23:19.146Z"
   },
   {
    "duration": 4,
    "start_time": "2023-10-10T06:23:19.168Z"
   },
   {
    "duration": 35,
    "start_time": "2023-10-10T06:23:19.173Z"
   },
   {
    "duration": 150,
    "start_time": "2023-10-10T06:23:19.210Z"
   },
   {
    "duration": 8,
    "start_time": "2023-10-10T06:23:19.362Z"
   },
   {
    "duration": 160,
    "start_time": "2023-10-10T06:23:19.372Z"
   },
   {
    "duration": 10,
    "start_time": "2023-10-10T06:23:19.533Z"
   },
   {
    "duration": 18,
    "start_time": "2023-10-10T06:23:19.545Z"
   },
   {
    "duration": 27,
    "start_time": "2023-10-10T06:23:19.565Z"
   },
   {
    "duration": 30,
    "start_time": "2023-10-10T06:23:19.594Z"
   },
   {
    "duration": 16,
    "start_time": "2023-10-10T06:23:19.626Z"
   },
   {
    "duration": 192,
    "start_time": "2023-10-10T06:23:19.645Z"
   },
   {
    "duration": 10,
    "start_time": "2023-10-10T06:23:19.839Z"
   },
   {
    "duration": 30,
    "start_time": "2023-10-10T06:23:19.850Z"
   },
   {
    "duration": 5,
    "start_time": "2023-10-10T06:23:19.882Z"
   },
   {
    "duration": 42,
    "start_time": "2023-10-10T06:23:19.889Z"
   },
   {
    "duration": 25,
    "start_time": "2023-10-10T06:23:19.933Z"
   },
   {
    "duration": 264,
    "start_time": "2023-10-10T06:23:19.959Z"
   },
   {
    "duration": 81,
    "start_time": "2023-10-10T06:23:20.226Z"
   },
   {
    "duration": 61,
    "start_time": "2023-10-10T06:23:20.309Z"
   },
   {
    "duration": 27,
    "start_time": "2023-10-10T06:23:20.372Z"
   },
   {
    "duration": 236,
    "start_time": "2023-10-10T06:23:20.401Z"
   },
   {
    "duration": 252,
    "start_time": "2023-10-10T06:23:20.640Z"
   },
   {
    "duration": 38,
    "start_time": "2023-10-10T06:23:20.894Z"
   },
   {
    "duration": 40,
    "start_time": "2023-10-10T06:23:20.935Z"
   },
   {
    "duration": 343,
    "start_time": "2023-10-10T06:23:20.977Z"
   },
   {
    "duration": 5,
    "start_time": "2023-10-10T06:23:50.092Z"
   },
   {
    "duration": 72,
    "start_time": "2023-10-10T14:18:01.542Z"
   },
   {
    "duration": 1906,
    "start_time": "2023-10-10T14:18:07.262Z"
   },
   {
    "duration": 113,
    "start_time": "2023-10-10T14:18:09.171Z"
   },
   {
    "duration": 66,
    "start_time": "2023-10-10T14:18:09.286Z"
   },
   {
    "duration": 17,
    "start_time": "2023-10-10T14:18:09.355Z"
   },
   {
    "duration": 75,
    "start_time": "2023-10-10T14:18:09.375Z"
   },
   {
    "duration": 21,
    "start_time": "2023-10-10T14:18:09.453Z"
   },
   {
    "duration": 11,
    "start_time": "2023-10-10T14:18:09.477Z"
   },
   {
    "duration": 75,
    "start_time": "2023-10-10T14:18:09.490Z"
   },
   {
    "duration": 10,
    "start_time": "2023-10-10T14:18:09.567Z"
   },
   {
    "duration": 71,
    "start_time": "2023-10-10T14:18:09.581Z"
   },
   {
    "duration": 43,
    "start_time": "2023-10-10T14:18:09.655Z"
   },
   {
    "duration": 60,
    "start_time": "2023-10-10T14:18:09.701Z"
   },
   {
    "duration": 20,
    "start_time": "2023-10-10T14:18:09.763Z"
   },
   {
    "duration": 64,
    "start_time": "2023-10-10T14:18:09.786Z"
   },
   {
    "duration": 12,
    "start_time": "2023-10-10T14:18:09.852Z"
   },
   {
    "duration": 28,
    "start_time": "2023-10-10T14:18:09.867Z"
   },
   {
    "duration": 56,
    "start_time": "2023-10-10T14:18:09.898Z"
   },
   {
    "duration": 627,
    "start_time": "2023-10-10T14:18:09.957Z"
   },
   {
    "duration": 366,
    "start_time": "2023-10-10T14:18:10.589Z"
   },
   {
    "duration": 206,
    "start_time": "2023-10-10T14:18:10.958Z"
   },
   {
    "duration": 9,
    "start_time": "2023-10-10T14:18:11.170Z"
   },
   {
    "duration": 14,
    "start_time": "2023-10-10T14:18:11.181Z"
   },
   {
    "duration": 20,
    "start_time": "2023-10-10T14:18:11.198Z"
   },
   {
    "duration": 12,
    "start_time": "2023-10-10T14:18:11.221Z"
   },
   {
    "duration": 272,
    "start_time": "2023-10-10T14:18:11.235Z"
   },
   {
    "duration": 13,
    "start_time": "2023-10-10T14:18:11.510Z"
   },
   {
    "duration": 212,
    "start_time": "2023-10-10T14:18:11.526Z"
   },
   {
    "duration": 233,
    "start_time": "2023-10-10T14:18:11.742Z"
   },
   {
    "duration": 7,
    "start_time": "2023-10-10T14:18:11.977Z"
   },
   {
    "duration": 12,
    "start_time": "2023-10-10T14:18:11.987Z"
   },
   {
    "duration": 11,
    "start_time": "2023-10-10T14:18:12.001Z"
   },
   {
    "duration": 38,
    "start_time": "2023-10-10T14:18:12.015Z"
   },
   {
    "duration": 197,
    "start_time": "2023-10-10T14:18:12.055Z"
   },
   {
    "duration": 155,
    "start_time": "2023-10-10T14:18:12.255Z"
   },
   {
    "duration": 5,
    "start_time": "2023-10-10T14:18:12.411Z"
   },
   {
    "duration": 6,
    "start_time": "2023-10-10T14:18:12.418Z"
   },
   {
    "duration": 26,
    "start_time": "2023-10-10T14:18:12.426Z"
   },
   {
    "duration": 19,
    "start_time": "2023-10-10T14:18:12.455Z"
   },
   {
    "duration": 22,
    "start_time": "2023-10-10T14:18:12.476Z"
   },
   {
    "duration": 21,
    "start_time": "2023-10-10T14:18:12.500Z"
   },
   {
    "duration": 56,
    "start_time": "2023-10-10T14:18:12.523Z"
   },
   {
    "duration": 10,
    "start_time": "2023-10-10T14:18:12.581Z"
   },
   {
    "duration": 139,
    "start_time": "2023-10-10T14:18:12.593Z"
   },
   {
    "duration": 5,
    "start_time": "2023-10-10T14:18:12.734Z"
   },
   {
    "duration": 15,
    "start_time": "2023-10-10T14:18:12.748Z"
   },
   {
    "duration": 185,
    "start_time": "2023-10-10T14:18:12.767Z"
   },
   {
    "duration": 14,
    "start_time": "2023-10-10T14:18:12.958Z"
   },
   {
    "duration": 237,
    "start_time": "2023-10-10T14:18:12.975Z"
   },
   {
    "duration": 36,
    "start_time": "2023-10-10T14:18:13.214Z"
   },
   {
    "duration": 7,
    "start_time": "2023-10-10T14:18:13.252Z"
   },
   {
    "duration": 16,
    "start_time": "2023-10-10T14:18:13.261Z"
   },
   {
    "duration": 217,
    "start_time": "2023-10-10T14:18:13.279Z"
   },
   {
    "duration": 9,
    "start_time": "2023-10-10T14:18:13.498Z"
   },
   {
    "duration": 187,
    "start_time": "2023-10-10T14:18:13.509Z"
   },
   {
    "duration": 10,
    "start_time": "2023-10-10T14:18:13.698Z"
   },
   {
    "duration": 19,
    "start_time": "2023-10-10T14:18:13.710Z"
   },
   {
    "duration": 24,
    "start_time": "2023-10-10T14:18:13.730Z"
   },
   {
    "duration": 32,
    "start_time": "2023-10-10T14:18:13.757Z"
   },
   {
    "duration": 19,
    "start_time": "2023-10-10T14:18:13.791Z"
   },
   {
    "duration": 217,
    "start_time": "2023-10-10T14:18:13.812Z"
   },
   {
    "duration": 19,
    "start_time": "2023-10-10T14:18:14.031Z"
   },
   {
    "duration": 22,
    "start_time": "2023-10-10T14:18:14.056Z"
   },
   {
    "duration": 32,
    "start_time": "2023-10-10T14:18:14.080Z"
   },
   {
    "duration": 40,
    "start_time": "2023-10-10T14:18:14.114Z"
   },
   {
    "duration": 19,
    "start_time": "2023-10-10T14:18:14.156Z"
   },
   {
    "duration": 213,
    "start_time": "2023-10-10T14:18:14.177Z"
   },
   {
    "duration": 6,
    "start_time": "2023-10-10T14:18:14.392Z"
   },
   {
    "duration": 23,
    "start_time": "2023-10-10T14:18:14.400Z"
   },
   {
    "duration": 26,
    "start_time": "2023-10-10T14:18:14.425Z"
   },
   {
    "duration": 16,
    "start_time": "2023-10-10T14:18:14.453Z"
   },
   {
    "duration": 9,
    "start_time": "2023-10-10T14:18:14.473Z"
   },
   {
    "duration": 79,
    "start_time": "2023-10-10T14:18:14.484Z"
   },
   {
    "duration": 12,
    "start_time": "2023-10-10T14:18:14.566Z"
   },
   {
    "duration": 366,
    "start_time": "2023-10-10T14:18:14.581Z"
   },
   {
    "duration": 6,
    "start_time": "2023-10-10T14:19:31.853Z"
   }
  ],
  "kernelspec": {
   "display_name": "Python 3 (ipykernel)",
   "language": "python",
   "name": "python3"
  },
  "language_info": {
   "codemirror_mode": {
    "name": "ipython",
    "version": 3
   },
   "file_extension": ".py",
   "mimetype": "text/x-python",
   "name": "python",
   "nbconvert_exporter": "python",
   "pygments_lexer": "ipython3",
   "version": "3.9.5"
  },
  "toc": {
   "base_numbering": 1,
   "nav_menu": {},
   "number_sections": true,
   "sideBar": true,
   "skip_h1_title": true,
   "title_cell": "Table of Contents",
   "title_sidebar": "Contents",
   "toc_cell": false,
   "toc_position": {
    "height": "calc(100% - 180px)",
    "left": "10px",
    "top": "150px",
    "width": "384px"
   },
   "toc_section_display": true,
   "toc_window_display": true
  }
 },
 "nbformat": 4,
 "nbformat_minor": 5
}
