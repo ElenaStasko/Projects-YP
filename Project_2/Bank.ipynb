{
 "cells": [
  {
   "cell_type": "markdown",
   "id": "f6080004",
   "metadata": {},
   "source": [
    "# Исследование надежности заемщиков"
   ]
  },
  {
   "cell_type": "markdown",
   "id": "f8f93da2",
   "metadata": {},
   "source": [
    "**Описание проекта**\n",
    "\n",
    "\n",
    "Заказчик — кредитный отдел банка. Нужно разобраться, влияет ли семейное положение и количество детей клиента на факт погашения кредита в срок. Входные данные от банка — статистика о платёжеспособности клиентов.\n",
    "Результаты исследования будут учтены при построении модели кредитного скоринга — специальной системы, которая оценивает способность потенциального заёмщика вернуть кредит банку."
   ]
  },
  {
   "cell_type": "markdown",
   "id": "3f22ffab",
   "metadata": {},
   "source": [
    "**Описание данных**\n",
    "\n",
    "- children — количество детей в семье\n",
    "- days_employed — общий трудовой стаж в днях\n",
    "- dob_years — возраст клиента в годах\n",
    "- education — уровень образования клиента\n",
    "- education_id — идентификатор уровня образования\n",
    "- family_status — семейное положение\n",
    "- family_status_id — идентификатор семейного положения\n",
    "- gender — пол клиента\n",
    "- income_type — тип занятости\n",
    "- debt — имел ли задолженность по возврату кредитов\n",
    "- total_income — ежемесячный доход\n",
    "- purpose — цель получения кредита"
   ]
  },
  {
   "cell_type": "code",
   "execution_count": 1,
   "id": "7a42bf34",
   "metadata": {},
   "outputs": [],
   "source": [
    "# импортируем библиотеку\n",
    "import pandas as pd"
   ]
  },
  {
   "cell_type": "code",
   "execution_count": 2,
   "id": "b286262f",
   "metadata": {},
   "outputs": [],
   "source": [
    "data = pd.read_csv('/datasets/data.csv')"
   ]
  },
  {
   "cell_type": "code",
   "execution_count": 3,
   "id": "cf38bcfa",
   "metadata": {},
   "outputs": [
    {
     "data": {
      "text/html": [
       "<div>\n",
       "<style scoped>\n",
       "    .dataframe tbody tr th:only-of-type {\n",
       "        vertical-align: middle;\n",
       "    }\n",
       "\n",
       "    .dataframe tbody tr th {\n",
       "        vertical-align: top;\n",
       "    }\n",
       "\n",
       "    .dataframe thead th {\n",
       "        text-align: right;\n",
       "    }\n",
       "</style>\n",
       "<table border=\"1\" class=\"dataframe\">\n",
       "  <thead>\n",
       "    <tr style=\"text-align: right;\">\n",
       "      <th></th>\n",
       "      <th>children</th>\n",
       "      <th>days_employed</th>\n",
       "      <th>dob_years</th>\n",
       "      <th>education</th>\n",
       "      <th>education_id</th>\n",
       "      <th>family_status</th>\n",
       "      <th>family_status_id</th>\n",
       "      <th>gender</th>\n",
       "      <th>income_type</th>\n",
       "      <th>debt</th>\n",
       "      <th>total_income</th>\n",
       "      <th>purpose</th>\n",
       "    </tr>\n",
       "  </thead>\n",
       "  <tbody>\n",
       "    <tr>\n",
       "      <th>0</th>\n",
       "      <td>1</td>\n",
       "      <td>-8437.673028</td>\n",
       "      <td>42</td>\n",
       "      <td>высшее</td>\n",
       "      <td>0</td>\n",
       "      <td>женат / замужем</td>\n",
       "      <td>0</td>\n",
       "      <td>F</td>\n",
       "      <td>сотрудник</td>\n",
       "      <td>0</td>\n",
       "      <td>253875.639453</td>\n",
       "      <td>покупка жилья</td>\n",
       "    </tr>\n",
       "    <tr>\n",
       "      <th>1</th>\n",
       "      <td>1</td>\n",
       "      <td>-4024.803754</td>\n",
       "      <td>36</td>\n",
       "      <td>среднее</td>\n",
       "      <td>1</td>\n",
       "      <td>женат / замужем</td>\n",
       "      <td>0</td>\n",
       "      <td>F</td>\n",
       "      <td>сотрудник</td>\n",
       "      <td>0</td>\n",
       "      <td>112080.014102</td>\n",
       "      <td>приобретение автомобиля</td>\n",
       "    </tr>\n",
       "    <tr>\n",
       "      <th>2</th>\n",
       "      <td>0</td>\n",
       "      <td>-5623.422610</td>\n",
       "      <td>33</td>\n",
       "      <td>Среднее</td>\n",
       "      <td>1</td>\n",
       "      <td>женат / замужем</td>\n",
       "      <td>0</td>\n",
       "      <td>M</td>\n",
       "      <td>сотрудник</td>\n",
       "      <td>0</td>\n",
       "      <td>145885.952297</td>\n",
       "      <td>покупка жилья</td>\n",
       "    </tr>\n",
       "    <tr>\n",
       "      <th>3</th>\n",
       "      <td>3</td>\n",
       "      <td>-4124.747207</td>\n",
       "      <td>32</td>\n",
       "      <td>среднее</td>\n",
       "      <td>1</td>\n",
       "      <td>женат / замужем</td>\n",
       "      <td>0</td>\n",
       "      <td>M</td>\n",
       "      <td>сотрудник</td>\n",
       "      <td>0</td>\n",
       "      <td>267628.550329</td>\n",
       "      <td>дополнительное образование</td>\n",
       "    </tr>\n",
       "    <tr>\n",
       "      <th>4</th>\n",
       "      <td>0</td>\n",
       "      <td>340266.072047</td>\n",
       "      <td>53</td>\n",
       "      <td>среднее</td>\n",
       "      <td>1</td>\n",
       "      <td>гражданский брак</td>\n",
       "      <td>1</td>\n",
       "      <td>F</td>\n",
       "      <td>пенсионер</td>\n",
       "      <td>0</td>\n",
       "      <td>158616.077870</td>\n",
       "      <td>сыграть свадьбу</td>\n",
       "    </tr>\n",
       "    <tr>\n",
       "      <th>5</th>\n",
       "      <td>0</td>\n",
       "      <td>-926.185831</td>\n",
       "      <td>27</td>\n",
       "      <td>высшее</td>\n",
       "      <td>0</td>\n",
       "      <td>гражданский брак</td>\n",
       "      <td>1</td>\n",
       "      <td>M</td>\n",
       "      <td>компаньон</td>\n",
       "      <td>0</td>\n",
       "      <td>255763.565419</td>\n",
       "      <td>покупка жилья</td>\n",
       "    </tr>\n",
       "    <tr>\n",
       "      <th>6</th>\n",
       "      <td>0</td>\n",
       "      <td>-2879.202052</td>\n",
       "      <td>43</td>\n",
       "      <td>высшее</td>\n",
       "      <td>0</td>\n",
       "      <td>женат / замужем</td>\n",
       "      <td>0</td>\n",
       "      <td>F</td>\n",
       "      <td>компаньон</td>\n",
       "      <td>0</td>\n",
       "      <td>240525.971920</td>\n",
       "      <td>операции с жильем</td>\n",
       "    </tr>\n",
       "    <tr>\n",
       "      <th>7</th>\n",
       "      <td>0</td>\n",
       "      <td>-152.779569</td>\n",
       "      <td>50</td>\n",
       "      <td>СРЕДНЕЕ</td>\n",
       "      <td>1</td>\n",
       "      <td>женат / замужем</td>\n",
       "      <td>0</td>\n",
       "      <td>M</td>\n",
       "      <td>сотрудник</td>\n",
       "      <td>0</td>\n",
       "      <td>135823.934197</td>\n",
       "      <td>образование</td>\n",
       "    </tr>\n",
       "    <tr>\n",
       "      <th>8</th>\n",
       "      <td>2</td>\n",
       "      <td>-6929.865299</td>\n",
       "      <td>35</td>\n",
       "      <td>ВЫСШЕЕ</td>\n",
       "      <td>0</td>\n",
       "      <td>гражданский брак</td>\n",
       "      <td>1</td>\n",
       "      <td>F</td>\n",
       "      <td>сотрудник</td>\n",
       "      <td>0</td>\n",
       "      <td>95856.832424</td>\n",
       "      <td>на проведение свадьбы</td>\n",
       "    </tr>\n",
       "    <tr>\n",
       "      <th>9</th>\n",
       "      <td>0</td>\n",
       "      <td>-2188.756445</td>\n",
       "      <td>41</td>\n",
       "      <td>среднее</td>\n",
       "      <td>1</td>\n",
       "      <td>женат / замужем</td>\n",
       "      <td>0</td>\n",
       "      <td>M</td>\n",
       "      <td>сотрудник</td>\n",
       "      <td>0</td>\n",
       "      <td>144425.938277</td>\n",
       "      <td>покупка жилья для семьи</td>\n",
       "    </tr>\n",
       "    <tr>\n",
       "      <th>10</th>\n",
       "      <td>2</td>\n",
       "      <td>-4171.483647</td>\n",
       "      <td>36</td>\n",
       "      <td>высшее</td>\n",
       "      <td>0</td>\n",
       "      <td>женат / замужем</td>\n",
       "      <td>0</td>\n",
       "      <td>M</td>\n",
       "      <td>компаньон</td>\n",
       "      <td>0</td>\n",
       "      <td>113943.491460</td>\n",
       "      <td>покупка недвижимости</td>\n",
       "    </tr>\n",
       "    <tr>\n",
       "      <th>11</th>\n",
       "      <td>0</td>\n",
       "      <td>-792.701887</td>\n",
       "      <td>40</td>\n",
       "      <td>среднее</td>\n",
       "      <td>1</td>\n",
       "      <td>женат / замужем</td>\n",
       "      <td>0</td>\n",
       "      <td>F</td>\n",
       "      <td>сотрудник</td>\n",
       "      <td>0</td>\n",
       "      <td>77069.234271</td>\n",
       "      <td>покупка коммерческой недвижимости</td>\n",
       "    </tr>\n",
       "    <tr>\n",
       "      <th>12</th>\n",
       "      <td>0</td>\n",
       "      <td>NaN</td>\n",
       "      <td>65</td>\n",
       "      <td>среднее</td>\n",
       "      <td>1</td>\n",
       "      <td>гражданский брак</td>\n",
       "      <td>1</td>\n",
       "      <td>M</td>\n",
       "      <td>пенсионер</td>\n",
       "      <td>0</td>\n",
       "      <td>NaN</td>\n",
       "      <td>сыграть свадьбу</td>\n",
       "    </tr>\n",
       "    <tr>\n",
       "      <th>13</th>\n",
       "      <td>0</td>\n",
       "      <td>-1846.641941</td>\n",
       "      <td>54</td>\n",
       "      <td>неоконченное высшее</td>\n",
       "      <td>2</td>\n",
       "      <td>женат / замужем</td>\n",
       "      <td>0</td>\n",
       "      <td>F</td>\n",
       "      <td>сотрудник</td>\n",
       "      <td>0</td>\n",
       "      <td>130458.228857</td>\n",
       "      <td>приобретение автомобиля</td>\n",
       "    </tr>\n",
       "    <tr>\n",
       "      <th>14</th>\n",
       "      <td>0</td>\n",
       "      <td>-1844.956182</td>\n",
       "      <td>56</td>\n",
       "      <td>высшее</td>\n",
       "      <td>0</td>\n",
       "      <td>гражданский брак</td>\n",
       "      <td>1</td>\n",
       "      <td>F</td>\n",
       "      <td>компаньон</td>\n",
       "      <td>1</td>\n",
       "      <td>165127.911772</td>\n",
       "      <td>покупка жилой недвижимости</td>\n",
       "    </tr>\n",
       "    <tr>\n",
       "      <th>15</th>\n",
       "      <td>1</td>\n",
       "      <td>-972.364419</td>\n",
       "      <td>26</td>\n",
       "      <td>среднее</td>\n",
       "      <td>1</td>\n",
       "      <td>женат / замужем</td>\n",
       "      <td>0</td>\n",
       "      <td>F</td>\n",
       "      <td>сотрудник</td>\n",
       "      <td>0</td>\n",
       "      <td>116820.904450</td>\n",
       "      <td>строительство собственной недвижимости</td>\n",
       "    </tr>\n",
       "    <tr>\n",
       "      <th>16</th>\n",
       "      <td>0</td>\n",
       "      <td>-1719.934226</td>\n",
       "      <td>35</td>\n",
       "      <td>среднее</td>\n",
       "      <td>1</td>\n",
       "      <td>женат / замужем</td>\n",
       "      <td>0</td>\n",
       "      <td>F</td>\n",
       "      <td>сотрудник</td>\n",
       "      <td>0</td>\n",
       "      <td>289202.704229</td>\n",
       "      <td>недвижимость</td>\n",
       "    </tr>\n",
       "    <tr>\n",
       "      <th>17</th>\n",
       "      <td>0</td>\n",
       "      <td>-2369.999720</td>\n",
       "      <td>33</td>\n",
       "      <td>высшее</td>\n",
       "      <td>0</td>\n",
       "      <td>гражданский брак</td>\n",
       "      <td>1</td>\n",
       "      <td>M</td>\n",
       "      <td>сотрудник</td>\n",
       "      <td>0</td>\n",
       "      <td>90410.586745</td>\n",
       "      <td>строительство недвижимости</td>\n",
       "    </tr>\n",
       "    <tr>\n",
       "      <th>18</th>\n",
       "      <td>0</td>\n",
       "      <td>400281.136913</td>\n",
       "      <td>53</td>\n",
       "      <td>среднее</td>\n",
       "      <td>1</td>\n",
       "      <td>вдовец / вдова</td>\n",
       "      <td>2</td>\n",
       "      <td>F</td>\n",
       "      <td>пенсионер</td>\n",
       "      <td>0</td>\n",
       "      <td>56823.777243</td>\n",
       "      <td>на покупку подержанного автомобиля</td>\n",
       "    </tr>\n",
       "    <tr>\n",
       "      <th>19</th>\n",
       "      <td>0</td>\n",
       "      <td>-10038.818549</td>\n",
       "      <td>48</td>\n",
       "      <td>СРЕДНЕЕ</td>\n",
       "      <td>1</td>\n",
       "      <td>в разводе</td>\n",
       "      <td>3</td>\n",
       "      <td>F</td>\n",
       "      <td>сотрудник</td>\n",
       "      <td>0</td>\n",
       "      <td>242831.107982</td>\n",
       "      <td>на покупку своего автомобиля</td>\n",
       "    </tr>\n",
       "  </tbody>\n",
       "</table>\n",
       "</div>"
      ],
      "text/plain": [
       "    children  days_employed  dob_years            education  education_id  \\\n",
       "0          1   -8437.673028         42               высшее             0   \n",
       "1          1   -4024.803754         36              среднее             1   \n",
       "2          0   -5623.422610         33              Среднее             1   \n",
       "3          3   -4124.747207         32              среднее             1   \n",
       "4          0  340266.072047         53              среднее             1   \n",
       "5          0    -926.185831         27               высшее             0   \n",
       "6          0   -2879.202052         43               высшее             0   \n",
       "7          0    -152.779569         50              СРЕДНЕЕ             1   \n",
       "8          2   -6929.865299         35               ВЫСШЕЕ             0   \n",
       "9          0   -2188.756445         41              среднее             1   \n",
       "10         2   -4171.483647         36               высшее             0   \n",
       "11         0    -792.701887         40              среднее             1   \n",
       "12         0            NaN         65              среднее             1   \n",
       "13         0   -1846.641941         54  неоконченное высшее             2   \n",
       "14         0   -1844.956182         56               высшее             0   \n",
       "15         1    -972.364419         26              среднее             1   \n",
       "16         0   -1719.934226         35              среднее             1   \n",
       "17         0   -2369.999720         33               высшее             0   \n",
       "18         0  400281.136913         53              среднее             1   \n",
       "19         0  -10038.818549         48              СРЕДНЕЕ             1   \n",
       "\n",
       "       family_status  family_status_id gender income_type  debt  \\\n",
       "0    женат / замужем                 0      F   сотрудник     0   \n",
       "1    женат / замужем                 0      F   сотрудник     0   \n",
       "2    женат / замужем                 0      M   сотрудник     0   \n",
       "3    женат / замужем                 0      M   сотрудник     0   \n",
       "4   гражданский брак                 1      F   пенсионер     0   \n",
       "5   гражданский брак                 1      M   компаньон     0   \n",
       "6    женат / замужем                 0      F   компаньон     0   \n",
       "7    женат / замужем                 0      M   сотрудник     0   \n",
       "8   гражданский брак                 1      F   сотрудник     0   \n",
       "9    женат / замужем                 0      M   сотрудник     0   \n",
       "10   женат / замужем                 0      M   компаньон     0   \n",
       "11   женат / замужем                 0      F   сотрудник     0   \n",
       "12  гражданский брак                 1      M   пенсионер     0   \n",
       "13   женат / замужем                 0      F   сотрудник     0   \n",
       "14  гражданский брак                 1      F   компаньон     1   \n",
       "15   женат / замужем                 0      F   сотрудник     0   \n",
       "16   женат / замужем                 0      F   сотрудник     0   \n",
       "17  гражданский брак                 1      M   сотрудник     0   \n",
       "18    вдовец / вдова                 2      F   пенсионер     0   \n",
       "19         в разводе                 3      F   сотрудник     0   \n",
       "\n",
       "     total_income                                 purpose  \n",
       "0   253875.639453                           покупка жилья  \n",
       "1   112080.014102                 приобретение автомобиля  \n",
       "2   145885.952297                           покупка жилья  \n",
       "3   267628.550329              дополнительное образование  \n",
       "4   158616.077870                         сыграть свадьбу  \n",
       "5   255763.565419                           покупка жилья  \n",
       "6   240525.971920                       операции с жильем  \n",
       "7   135823.934197                             образование  \n",
       "8    95856.832424                   на проведение свадьбы  \n",
       "9   144425.938277                 покупка жилья для семьи  \n",
       "10  113943.491460                    покупка недвижимости  \n",
       "11   77069.234271       покупка коммерческой недвижимости  \n",
       "12            NaN                         сыграть свадьбу  \n",
       "13  130458.228857                 приобретение автомобиля  \n",
       "14  165127.911772              покупка жилой недвижимости  \n",
       "15  116820.904450  строительство собственной недвижимости  \n",
       "16  289202.704229                            недвижимость  \n",
       "17   90410.586745              строительство недвижимости  \n",
       "18   56823.777243      на покупку подержанного автомобиля  \n",
       "19  242831.107982            на покупку своего автомобиля  "
      ]
     },
     "execution_count": 3,
     "metadata": {},
     "output_type": "execute_result"
    }
   ],
   "source": [
    "data.head(20)"
   ]
  },
  {
   "cell_type": "code",
   "execution_count": 4,
   "id": "811c333b",
   "metadata": {},
   "outputs": [
    {
     "name": "stdout",
     "output_type": "stream",
     "text": [
      "<class 'pandas.core.frame.DataFrame'>\n",
      "RangeIndex: 21525 entries, 0 to 21524\n",
      "Data columns (total 12 columns):\n",
      " #   Column            Non-Null Count  Dtype  \n",
      "---  ------            --------------  -----  \n",
      " 0   children          21525 non-null  int64  \n",
      " 1   days_employed     19351 non-null  float64\n",
      " 2   dob_years         21525 non-null  int64  \n",
      " 3   education         21525 non-null  object \n",
      " 4   education_id      21525 non-null  int64  \n",
      " 5   family_status     21525 non-null  object \n",
      " 6   family_status_id  21525 non-null  int64  \n",
      " 7   gender            21525 non-null  object \n",
      " 8   income_type       21525 non-null  object \n",
      " 9   debt              21525 non-null  int64  \n",
      " 10  total_income      19351 non-null  float64\n",
      " 11  purpose           21525 non-null  object \n",
      "dtypes: float64(2), int64(5), object(5)\n",
      "memory usage: 2.0+ MB\n"
     ]
    }
   ],
   "source": [
    "# выведем основную информацию о датафрейме\n",
    "data.info()"
   ]
  },
  {
   "cell_type": "markdown",
   "id": "0ee06d6f",
   "metadata": {},
   "source": [
    "## Предобработка данных"
   ]
  },
  {
   "cell_type": "markdown",
   "id": "7141e690",
   "metadata": {},
   "source": [
    "### Удаление пропусков"
   ]
  },
  {
   "cell_type": "code",
   "execution_count": 5,
   "id": "63ef6417",
   "metadata": {},
   "outputs": [
    {
     "data": {
      "text/plain": [
       "children               0\n",
       "days_employed       2174\n",
       "dob_years              0\n",
       "education              0\n",
       "education_id           0\n",
       "family_status          0\n",
       "family_status_id       0\n",
       "gender                 0\n",
       "income_type            0\n",
       "debt                   0\n",
       "total_income        2174\n",
       "purpose                0\n",
       "dtype: int64"
      ]
     },
     "execution_count": 5,
     "metadata": {},
     "output_type": "execute_result"
    }
   ],
   "source": [
    "# выведем количество пропущенных значений для каждого столбца\n",
    "data.isna().sum()"
   ]
  },
  {
   "cell_type": "markdown",
   "id": "0c14abfe",
   "metadata": {},
   "source": [
    "Столбец с пропущенными значениями — `total_income` — хранит данные о доходах. На сумму дохода сильнее всего влияет тип занятости, поэтому заполнить пропуски в этом столбце нужно медианным значением по каждому типу из столбца `income_type`."
   ]
  },
  {
   "cell_type": "code",
   "execution_count": 6,
   "id": "063490b6",
   "metadata": {},
   "outputs": [],
   "source": [
    "for t in data['income_type'].unique():\n",
    "    data.loc[(data['income_type'] == t) & (data['total_income'].isna()), 'total_income'] = \\\n",
    "    data.loc[(data['income_type'] == t), 'total_income'].median()"
   ]
  },
  {
   "cell_type": "markdown",
   "id": "3aec4960",
   "metadata": {},
   "source": [
    "Заполним пропуски в столбце days_employed медианными значениями по каждому типа занятости income_type."
   ]
  },
  {
   "cell_type": "code",
   "execution_count": 7,
   "id": "d70e7e7a",
   "metadata": {},
   "outputs": [],
   "source": [
    "for t in data['income_type'].unique():\n",
    "    data.loc[(data['income_type'] == t) & (data['days_employed'].isna()), 'days_employed'] = \\\n",
    "    data.loc[(data['income_type'] == t), 'days_employed'].median()"
   ]
  },
  {
   "cell_type": "code",
   "execution_count": 8,
   "id": "9c3a20a7",
   "metadata": {},
   "outputs": [
    {
     "data": {
      "text/plain": [
       "children            0\n",
       "days_employed       0\n",
       "dob_years           0\n",
       "education           0\n",
       "education_id        0\n",
       "family_status       0\n",
       "family_status_id    0\n",
       "gender              0\n",
       "income_type         0\n",
       "debt                0\n",
       "total_income        0\n",
       "purpose             0\n",
       "dtype: int64"
      ]
     },
     "execution_count": 8,
     "metadata": {},
     "output_type": "execute_result"
    }
   ],
   "source": [
    "# убедимся, что пропуски заполнены\n",
    "data.isna().sum()"
   ]
  },
  {
   "cell_type": "markdown",
   "id": "07faae30",
   "metadata": {},
   "source": [
    "### Обработка аномальных значений"
   ]
  },
  {
   "cell_type": "markdown",
   "id": "ddc6fb23",
   "metadata": {},
   "source": [
    "В столбце `days_employed` можно увидеть отрицательное количество дней трудового стажа. Заменим все отрицательные значения в столбце положительными:"
   ]
  },
  {
   "cell_type": "code",
   "execution_count": 9,
   "id": "0a0e61cd",
   "metadata": {},
   "outputs": [],
   "source": [
    "data['days_employed'] = data['days_employed'].abs()"
   ]
  },
  {
   "cell_type": "markdown",
   "id": "1d064b3c",
   "metadata": {},
   "source": [
    "Для каждого типа занятости выведем медианное значение трудового стажа `days_employed` в днях:"
   ]
  },
  {
   "cell_type": "code",
   "execution_count": 10,
   "id": "d3f80a82",
   "metadata": {},
   "outputs": [
    {
     "data": {
      "text/plain": [
       "income_type\n",
       "безработный        366413.652744\n",
       "в декрете            3296.759962\n",
       "госслужащий          2689.368353\n",
       "компаньон            1547.382223\n",
       "пенсионер          365213.306266\n",
       "предприниматель       520.848083\n",
       "сотрудник            1574.202821\n",
       "студент               578.751554\n",
       "Name: days_employed, dtype: float64"
      ]
     },
     "execution_count": 10,
     "metadata": {},
     "output_type": "execute_result"
    }
   ],
   "source": [
    "data.groupby('income_type')['days_employed'].agg('median')"
   ]
  },
  {
   "cell_type": "markdown",
   "id": "cbc04d6a",
   "metadata": {},
   "source": [
    "У двух типов (безработные и пенсионеры) получатся аномально большие значения. Исправить такие значения сложно, поэтому оставим их как есть."
   ]
  },
  {
   "cell_type": "markdown",
   "id": "e4dfc688",
   "metadata": {},
   "source": [
    "Выведем перечень уникальных значений столбца `children`:"
   ]
  },
  {
   "cell_type": "code",
   "execution_count": 11,
   "id": "e031086c",
   "metadata": {},
   "outputs": [
    {
     "data": {
      "text/plain": [
       "array([ 1,  0,  3,  2, -1,  4, 20,  5])"
      ]
     },
     "execution_count": 11,
     "metadata": {},
     "output_type": "execute_result"
    }
   ],
   "source": [
    "data['children'].unique()"
   ]
  },
  {
   "cell_type": "code",
   "execution_count": 12,
   "id": "c50f2a64",
   "metadata": {},
   "outputs": [],
   "source": [
    "# удалим аномальные значения\n",
    "data = data[(data['children'] != -1) & (data['children'] != 20)]"
   ]
  },
  {
   "cell_type": "code",
   "execution_count": 13,
   "id": "83738456",
   "metadata": {},
   "outputs": [
    {
     "data": {
      "text/plain": [
       "array([1, 0, 3, 2, 4, 5])"
      ]
     },
     "execution_count": 13,
     "metadata": {},
     "output_type": "execute_result"
    }
   ],
   "source": [
    "# перепроверим\n",
    "data['children'].unique()"
   ]
  },
  {
   "cell_type": "markdown",
   "id": "545adde4",
   "metadata": {},
   "source": [
    "### Изменение типов данных"
   ]
  },
  {
   "cell_type": "markdown",
   "id": "9ea4adc5",
   "metadata": {},
   "source": [
    "Заменим вещественный тип данных в столбце `total_income` на целочисленный:"
   ]
  },
  {
   "cell_type": "code",
   "execution_count": 14,
   "id": "0fb99698",
   "metadata": {},
   "outputs": [],
   "source": [
    "data['total_income'] = data['total_income'].astype(int)"
   ]
  },
  {
   "cell_type": "markdown",
   "id": "5df3cd07",
   "metadata": {},
   "source": [
    "### Обработка дубликатов"
   ]
  },
  {
   "cell_type": "markdown",
   "id": "db84d058",
   "metadata": {},
   "source": [
    "Обработаем неявные дубликаты в столбце `education`:"
   ]
  },
  {
   "cell_type": "code",
   "execution_count": 15,
   "id": "fef62ecd",
   "metadata": {},
   "outputs": [],
   "source": [
    "data['education'] = data['education'].str.lower()"
   ]
  },
  {
   "cell_type": "code",
   "execution_count": 16,
   "id": "d1cc4f8e",
   "metadata": {},
   "outputs": [
    {
     "data": {
      "text/plain": [
       "71"
      ]
     },
     "execution_count": 16,
     "metadata": {},
     "output_type": "execute_result"
    }
   ],
   "source": [
    "# посмотрим количество дубликатов\n",
    "data.duplicated().sum()"
   ]
  },
  {
   "cell_type": "code",
   "execution_count": 17,
   "id": "fe2107cf",
   "metadata": {},
   "outputs": [],
   "source": [
    "data = data.drop_duplicates()"
   ]
  },
  {
   "cell_type": "markdown",
   "id": "6a3bd244",
   "metadata": {},
   "source": [
    "### Категоризация данных"
   ]
  },
  {
   "cell_type": "markdown",
   "id": "92ad3c33",
   "metadata": {},
   "source": [
    "На основании диапазонов, указанных ниже, создадим в датафрейме столбец `total_income_category` с категориями:**\n",
    "\n",
    "- 0–30000 — `'E'`;\n",
    "- 30001–50000 — `'D'`;\n",
    "- 50001–200000 — `'C'`;\n",
    "- 200001–1000000 — `'B'`;\n",
    "- 1000001 и выше — `'A'`."
   ]
  },
  {
   "cell_type": "code",
   "execution_count": 18,
   "id": "55c4426a",
   "metadata": {},
   "outputs": [],
   "source": [
    "def categorize_income(income):\n",
    "    try:\n",
    "        if 0 <= income <= 30000:\n",
    "            return 'E'\n",
    "        elif 30001 <= income <= 50000:\n",
    "            return 'D'\n",
    "        elif 50001 <= income <= 200000:\n",
    "            return 'C'\n",
    "        elif 200001 <= income <= 1000000:\n",
    "            return 'B'\n",
    "        elif income >= 1000001:\n",
    "            return 'A'\n",
    "    except:\n",
    "        pass"
   ]
  },
  {
   "cell_type": "code",
   "execution_count": 19,
   "id": "f8c08abb",
   "metadata": {},
   "outputs": [],
   "source": [
    "data['total_income_category'] = data['total_income'].apply(categorize_income)"
   ]
  },
  {
   "cell_type": "code",
   "execution_count": 20,
   "id": "1d4fe3b6",
   "metadata": {},
   "outputs": [
    {
     "data": {
      "text/plain": [
       "array(['покупка жилья', 'приобретение автомобиля',\n",
       "       'дополнительное образование', 'сыграть свадьбу',\n",
       "       'операции с жильем', 'образование', 'на проведение свадьбы',\n",
       "       'покупка жилья для семьи', 'покупка недвижимости',\n",
       "       'покупка коммерческой недвижимости', 'покупка жилой недвижимости',\n",
       "       'строительство собственной недвижимости', 'недвижимость',\n",
       "       'строительство недвижимости', 'на покупку подержанного автомобиля',\n",
       "       'на покупку своего автомобиля',\n",
       "       'операции с коммерческой недвижимостью',\n",
       "       'строительство жилой недвижимости', 'жилье',\n",
       "       'операции со своей недвижимостью', 'автомобили',\n",
       "       'заняться образованием', 'сделка с подержанным автомобилем',\n",
       "       'получение образования', 'автомобиль', 'свадьба',\n",
       "       'получение дополнительного образования', 'покупка своего жилья',\n",
       "       'операции с недвижимостью', 'получение высшего образования',\n",
       "       'свой автомобиль', 'сделка с автомобилем',\n",
       "       'профильное образование', 'высшее образование',\n",
       "       'покупка жилья для сдачи', 'на покупку автомобиля', 'ремонт жилью',\n",
       "       'заняться высшим образованием'], dtype=object)"
      ]
     },
     "execution_count": 20,
     "metadata": {},
     "output_type": "execute_result"
    }
   ],
   "source": [
    "# посмотрим перечень уникальных целей взятия кредита\n",
    "data['purpose'].unique()"
   ]
  },
  {
   "cell_type": "markdown",
   "id": "5d380d85",
   "metadata": {},
   "source": [
    "Создадим функцию, которая на основании данных из столбца `purpose` сформирует новый столбец `purpose_category`, в который войдут следующие категории:**\n",
    "\n",
    "- `'операции с автомобилем'`,\n",
    "- `'операции с недвижимостью'`,\n",
    "- `'проведение свадьбы'`,\n",
    "- `'получение образования'`."
   ]
  },
  {
   "cell_type": "code",
   "execution_count": 21,
   "id": "0e663e17",
   "metadata": {},
   "outputs": [],
   "source": [
    "def categorize_purpose(row):\n",
    "    try:\n",
    "        if 'автом' in row:\n",
    "            return 'операции с автомобилем'\n",
    "        elif 'жил' in row or 'недвиж' in row:\n",
    "            return 'операции с недвижимостью'\n",
    "        elif 'свад' in row:\n",
    "            return 'проведение свадьбы'\n",
    "        elif 'образов' in row:\n",
    "            return 'получение образования'\n",
    "    except:\n",
    "        return 'нет категории'"
   ]
  },
  {
   "cell_type": "code",
   "execution_count": 22,
   "id": "8a384d9e",
   "metadata": {},
   "outputs": [],
   "source": [
    "data['purpose_category'] = data['purpose'].apply(categorize_purpose)"
   ]
  },
  {
   "cell_type": "markdown",
   "id": "bedcf7ee",
   "metadata": {},
   "source": [
    "##  Исследуем данные и ответим на вопросы"
   ]
  },
  {
   "cell_type": "markdown",
   "id": "22e12a55",
   "metadata": {},
   "source": [
    "### Есть ли зависимость между количеством детей и возвратом кредита в срок?"
   ]
  },
  {
   "cell_type": "markdown",
   "id": "1f48b8f8",
   "metadata": {},
   "source": [
    "Сделаем категоризацию семей по количеству детей:"
   ]
  },
  {
   "cell_type": "code",
   "execution_count": 23,
   "id": "76b05f9f",
   "metadata": {},
   "outputs": [
    {
     "name": "stdout",
     "output_type": "stream",
     "text": [
      "0    14091\n",
      "1     4808\n",
      "2     2052\n",
      "3      330\n",
      "4       41\n",
      "5        9\n",
      "Name: children, dtype: int64\n"
     ]
    }
   ],
   "source": [
    "print(data['children'].value_counts())"
   ]
  },
  {
   "cell_type": "code",
   "execution_count": 24,
   "id": "da71d044",
   "metadata": {},
   "outputs": [
    {
     "data": {
      "text/html": [
       "<div>\n",
       "<style scoped>\n",
       "    .dataframe tbody tr th:only-of-type {\n",
       "        vertical-align: middle;\n",
       "    }\n",
       "\n",
       "    .dataframe tbody tr th {\n",
       "        vertical-align: top;\n",
       "    }\n",
       "\n",
       "    .dataframe thead th {\n",
       "        text-align: right;\n",
       "    }\n",
       "</style>\n",
       "<table border=\"1\" class=\"dataframe\">\n",
       "  <thead>\n",
       "    <tr style=\"text-align: right;\">\n",
       "      <th></th>\n",
       "      <th>debt</th>\n",
       "      <th>not_returned_debt</th>\n",
       "      <th>returned_debt</th>\n",
       "      <th>return_ratio</th>\n",
       "    </tr>\n",
       "    <tr>\n",
       "      <th>children</th>\n",
       "      <th></th>\n",
       "      <th></th>\n",
       "      <th></th>\n",
       "      <th></th>\n",
       "    </tr>\n",
       "  </thead>\n",
       "  <tbody>\n",
       "    <tr>\n",
       "      <th>0</th>\n",
       "      <td>14091</td>\n",
       "      <td>1063</td>\n",
       "      <td>13028</td>\n",
       "      <td>0.924562</td>\n",
       "    </tr>\n",
       "    <tr>\n",
       "      <th>1</th>\n",
       "      <td>4808</td>\n",
       "      <td>444</td>\n",
       "      <td>4364</td>\n",
       "      <td>0.907654</td>\n",
       "    </tr>\n",
       "    <tr>\n",
       "      <th>2</th>\n",
       "      <td>2052</td>\n",
       "      <td>194</td>\n",
       "      <td>1858</td>\n",
       "      <td>0.905458</td>\n",
       "    </tr>\n",
       "    <tr>\n",
       "      <th>3</th>\n",
       "      <td>330</td>\n",
       "      <td>27</td>\n",
       "      <td>303</td>\n",
       "      <td>0.918182</td>\n",
       "    </tr>\n",
       "    <tr>\n",
       "      <th>4</th>\n",
       "      <td>41</td>\n",
       "      <td>4</td>\n",
       "      <td>37</td>\n",
       "      <td>0.902439</td>\n",
       "    </tr>\n",
       "    <tr>\n",
       "      <th>5</th>\n",
       "      <td>9</td>\n",
       "      <td>0</td>\n",
       "      <td>9</td>\n",
       "      <td>1.000000</td>\n",
       "    </tr>\n",
       "  </tbody>\n",
       "</table>\n",
       "</div>"
      ],
      "text/plain": [
       "           debt  not_returned_debt  returned_debt  return_ratio\n",
       "children                                                       \n",
       "0         14091               1063          13028      0.924562\n",
       "1          4808                444           4364      0.907654\n",
       "2          2052                194           1858      0.905458\n",
       "3           330                 27            303      0.918182\n",
       "4            41                  4             37      0.902439\n",
       "5             9                  0              9      1.000000"
      ]
     },
     "execution_count": 24,
     "metadata": {},
     "output_type": "execute_result"
    }
   ],
   "source": [
    "data_pivot_1 = pd.pivot_table(data, index='children', values='debt', aggfunc='count')\n",
    "data_pivot_2 = pd.pivot_table(data, index='children', values='debt', aggfunc='sum')\n",
    "debt_wiht_children = data_pivot_1\n",
    "debt_wiht_children['not_returned_debt'] = data_pivot_2\n",
    "debt_wiht_children['returned_debt'] = debt_wiht_children['debt'] - debt_wiht_children['not_returned_debt']\n",
    "debt_wiht_children['return_ratio'] = debt_wiht_children['returned_debt'] / debt_wiht_children['debt'] \n",
    "debt_wiht_children"
   ]
  },
  {
   "cell_type": "markdown",
   "id": "952093e6",
   "metadata": {},
   "source": [
    "1. Самый высокий процент возварата имеют клиенты, у которых нет детей - 92,45%;\n",
    "2. У клиентов, имеющих 1-2 детей, количество возвратов кредитов в срок ниже:\n",
    " - 90,7% (если у клиента 1 ребенок)\n",
    " - 90,5% (если у клиента 2 ребенка)\n",
    "3. Многодетные клиенты имеют следующий процент возврата:\n",
    " - 91,8% (3 ребенка)\n",
    " - 90,2% (4 ребенка)\n",
    "​\n",
    "Выборка по клиентам, имеющим 5 детей является не репрезентативной, так как по представленному в данных количеству таких семей сложно оценить действительную картину."
   ]
  },
  {
   "cell_type": "markdown",
   "id": "f43910e7",
   "metadata": {},
   "source": [
    "**Вывод:** \n",
    "Таким образом заемщик, у которого нет детей более надежен с точки зрения возврата кредита в установленный срок. \n",
    "Объяснить более низкий процент возврата у клиентов, имеющих детей, можно тем, что с появлением ребенка у семьи появляются дополнтельные статьи расходов (например, траты на медицинское обслуживание, оплату образования, летнего отдыха, возникают также вопросы по обеспечению/увеличению жилой площадью)."
   ]
  },
  {
   "cell_type": "markdown",
   "id": "77796ea5",
   "metadata": {},
   "source": [
    "### Есть ли зависимость между семейным положением и возвратом кредита в срок?"
   ]
  },
  {
   "cell_type": "code",
   "execution_count": 25,
   "id": "cfe708b2",
   "metadata": {},
   "outputs": [
    {
     "name": "stdout",
     "output_type": "stream",
     "text": [
      "женат / замужем          12261\n",
      "гражданский брак          4134\n",
      "Не женат / не замужем     2796\n",
      "в разводе                 1189\n",
      "вдовец / вдова             951\n",
      "Name: family_status, dtype: int64\n"
     ]
    }
   ],
   "source": [
    "print(data['family_status'].value_counts())"
   ]
  },
  {
   "cell_type": "markdown",
   "id": "d4064ee5",
   "metadata": {},
   "source": [
    "Основную категорию кредиторов составляют женатые/замужние."
   ]
  },
  {
   "cell_type": "code",
   "execution_count": 26,
   "id": "d4bc1bb1",
   "metadata": {},
   "outputs": [
    {
     "data": {
      "text/html": [
       "<div>\n",
       "<style scoped>\n",
       "    .dataframe tbody tr th:only-of-type {\n",
       "        vertical-align: middle;\n",
       "    }\n",
       "\n",
       "    .dataframe tbody tr th {\n",
       "        vertical-align: top;\n",
       "    }\n",
       "\n",
       "    .dataframe thead th {\n",
       "        text-align: right;\n",
       "    }\n",
       "</style>\n",
       "<table border=\"1\" class=\"dataframe\">\n",
       "  <thead>\n",
       "    <tr style=\"text-align: right;\">\n",
       "      <th></th>\n",
       "      <th>debt</th>\n",
       "      <th>not_returned_debt</th>\n",
       "      <th>returned_debt</th>\n",
       "      <th>return_ratio</th>\n",
       "    </tr>\n",
       "    <tr>\n",
       "      <th>family_status</th>\n",
       "      <th></th>\n",
       "      <th></th>\n",
       "      <th></th>\n",
       "      <th></th>\n",
       "    </tr>\n",
       "  </thead>\n",
       "  <tbody>\n",
       "    <tr>\n",
       "      <th>Не женат / не замужем</th>\n",
       "      <td>2796</td>\n",
       "      <td>273</td>\n",
       "      <td>2523</td>\n",
       "      <td>0.902361</td>\n",
       "    </tr>\n",
       "    <tr>\n",
       "      <th>в разводе</th>\n",
       "      <td>1189</td>\n",
       "      <td>84</td>\n",
       "      <td>1105</td>\n",
       "      <td>0.929352</td>\n",
       "    </tr>\n",
       "    <tr>\n",
       "      <th>вдовец / вдова</th>\n",
       "      <td>951</td>\n",
       "      <td>63</td>\n",
       "      <td>888</td>\n",
       "      <td>0.933754</td>\n",
       "    </tr>\n",
       "    <tr>\n",
       "      <th>гражданский брак</th>\n",
       "      <td>4134</td>\n",
       "      <td>385</td>\n",
       "      <td>3749</td>\n",
       "      <td>0.906870</td>\n",
       "    </tr>\n",
       "    <tr>\n",
       "      <th>женат / замужем</th>\n",
       "      <td>12261</td>\n",
       "      <td>927</td>\n",
       "      <td>11334</td>\n",
       "      <td>0.924394</td>\n",
       "    </tr>\n",
       "  </tbody>\n",
       "</table>\n",
       "</div>"
      ],
      "text/plain": [
       "                        debt  not_returned_debt  returned_debt  return_ratio\n",
       "family_status                                                               \n",
       "Не женат / не замужем   2796                273           2523      0.902361\n",
       "в разводе               1189                 84           1105      0.929352\n",
       "вдовец / вдова           951                 63            888      0.933754\n",
       "гражданский брак        4134                385           3749      0.906870\n",
       "женат / замужем        12261                927          11334      0.924394"
      ]
     },
     "execution_count": 26,
     "metadata": {},
     "output_type": "execute_result"
    }
   ],
   "source": [
    "data_pivot_1 = pd.pivot_table(data, index='family_status', values='debt', aggfunc='count')\n",
    "data_pivot_2 = pd.pivot_table(data, index='family_status', values='debt', aggfunc='sum')\n",
    "debt_family_status = data_pivot_1\n",
    "debt_family_status['not_returned_debt'] = data_pivot_2\n",
    "debt_family_status['returned_debt'] = debt_family_status['debt'] - debt_family_status['not_returned_debt']\n",
    "debt_family_status['return_ratio'] = debt_family_status['returned_debt'] / debt_family_status['debt'] \n",
    "debt_family_status"
   ]
  },
  {
   "cell_type": "markdown",
   "id": "f1c668fc",
   "metadata": {},
   "source": [
    "1. Высокий процент возврата имеют следующие категории:\n",
    "- вдовец / вдова (93,4 %)\n",
    "- в разводе (92,9 %)\n",
    "- женат/замужем (92,5 %)\n",
    "2. Люди, которые не женаты/не замужем, а также состоящие в гражданском браке имеют процент возврата относительно ниже 90,2% и 90,7 %\n",
    "\n",
    "Выборку по клиентам, имеющим статус \"вдовец/вдова\", а также состоящим в разводе можно считать не репрезентативной."
   ]
  },
  {
   "cell_type": "markdown",
   "id": "f5065e70",
   "metadata": {},
   "source": [
    "**Вывод:** \n",
    "Таким образом, количество замужних/женатых людей среди тех, кто берет кредиты в банке примерно вдвое выше числа одиноких. \n",
    "Самыми надежными кредиторами являются люди, которые имели/имеют опыт супружеской жизни. А самыми ненадежными являются кредиторы, которые не состоят в зарегистрированном браке."
   ]
  },
  {
   "cell_type": "markdown",
   "id": "cbc48794",
   "metadata": {},
   "source": [
    "### Есть ли зависимость между уровнем дохода и возвратом кредита в срок?"
   ]
  },
  {
   "cell_type": "code",
   "execution_count": 27,
   "id": "9639a8e6",
   "metadata": {},
   "outputs": [
    {
     "name": "stdout",
     "output_type": "stream",
     "text": [
      "C    15921\n",
      "B     5014\n",
      "D      349\n",
      "A       25\n",
      "E       22\n",
      "Name: total_income_category, dtype: int64\n"
     ]
    }
   ],
   "source": [
    "print(data['total_income_category'].value_counts())"
   ]
  },
  {
   "cell_type": "code",
   "execution_count": 28,
   "id": "0c0e1866",
   "metadata": {},
   "outputs": [
    {
     "data": {
      "text/html": [
       "<div>\n",
       "<style scoped>\n",
       "    .dataframe tbody tr th:only-of-type {\n",
       "        vertical-align: middle;\n",
       "    }\n",
       "\n",
       "    .dataframe tbody tr th {\n",
       "        vertical-align: top;\n",
       "    }\n",
       "\n",
       "    .dataframe thead th {\n",
       "        text-align: right;\n",
       "    }\n",
       "</style>\n",
       "<table border=\"1\" class=\"dataframe\">\n",
       "  <thead>\n",
       "    <tr style=\"text-align: right;\">\n",
       "      <th></th>\n",
       "      <th>debt</th>\n",
       "      <th>not_returned_debt</th>\n",
       "      <th>returned_debt</th>\n",
       "      <th>return_ratio</th>\n",
       "    </tr>\n",
       "    <tr>\n",
       "      <th>total_income_category</th>\n",
       "      <th></th>\n",
       "      <th></th>\n",
       "      <th></th>\n",
       "      <th></th>\n",
       "    </tr>\n",
       "  </thead>\n",
       "  <tbody>\n",
       "    <tr>\n",
       "      <th>A</th>\n",
       "      <td>25</td>\n",
       "      <td>2</td>\n",
       "      <td>23</td>\n",
       "      <td>0.920000</td>\n",
       "    </tr>\n",
       "    <tr>\n",
       "      <th>B</th>\n",
       "      <td>5014</td>\n",
       "      <td>354</td>\n",
       "      <td>4660</td>\n",
       "      <td>0.929398</td>\n",
       "    </tr>\n",
       "    <tr>\n",
       "      <th>C</th>\n",
       "      <td>15921</td>\n",
       "      <td>1353</td>\n",
       "      <td>14568</td>\n",
       "      <td>0.915018</td>\n",
       "    </tr>\n",
       "    <tr>\n",
       "      <th>D</th>\n",
       "      <td>349</td>\n",
       "      <td>21</td>\n",
       "      <td>328</td>\n",
       "      <td>0.939828</td>\n",
       "    </tr>\n",
       "    <tr>\n",
       "      <th>E</th>\n",
       "      <td>22</td>\n",
       "      <td>2</td>\n",
       "      <td>20</td>\n",
       "      <td>0.909091</td>\n",
       "    </tr>\n",
       "  </tbody>\n",
       "</table>\n",
       "</div>"
      ],
      "text/plain": [
       "                        debt  not_returned_debt  returned_debt  return_ratio\n",
       "total_income_category                                                       \n",
       "A                         25                  2             23      0.920000\n",
       "B                       5014                354           4660      0.929398\n",
       "C                      15921               1353          14568      0.915018\n",
       "D                        349                 21            328      0.939828\n",
       "E                         22                  2             20      0.909091"
      ]
     },
     "execution_count": 28,
     "metadata": {},
     "output_type": "execute_result"
    }
   ],
   "source": [
    "data_pivot_1 = pd.pivot_table(data, index='total_income_category', values='debt', aggfunc='count')\n",
    "data_pivot_2 = pd.pivot_table(data, index='total_income_category', values='debt', aggfunc='sum')\n",
    "debt_total_income = data_pivot_1\n",
    "debt_total_income['not_returned_debt'] = data_pivot_2\n",
    "debt_total_income['returned_debt'] = debt_total_income['debt'] - debt_total_income['not_returned_debt']\n",
    "debt_total_income['return_ratio'] = debt_total_income['returned_debt'] / debt_total_income['debt'] \n",
    "debt_total_income"
   ]
  },
  {
   "cell_type": "markdown",
   "id": "eb9a3652",
   "metadata": {},
   "source": [
    "**Вывод:** \n",
    "\n",
    "Количество записей в категориях \"A\", \"D\" и \"E\" недостаточно чтобы репрезентативно оценить генеральную совокупность. Большинство клиентов попадают в категории \"B\" и \"C\", то есть имеют доход от 200 000 тыс. до 1 000 000 млн. и от 50 000 тыс. до 200 000 тыс. \n",
    "По указанным клиентам можно провести анализ:\n",
    "\n",
    "- Высокий процент возврата имеют заемщики, доход которых находится в диапазоне от 200 000 тыс. до 1 000 000 млн. - 92,9%\n",
    "- Заемщики, доход которых находится в диапазоне от 50 000 тыс. до 200 000 тыс. имеют процент возврата - 91,5%"
   ]
  },
  {
   "cell_type": "markdown",
   "id": "95da0b5a",
   "metadata": {},
   "source": [
    "Таким образом, наиболее надежной группой заемщиков являются клиенты, доход которых выше 200 000 тыс. В свою очередь заемщики с низким уровнем доходов финансово уязвимы, что может негативно повлиять на выплату кредита в срок."
   ]
  },
  {
   "cell_type": "markdown",
   "id": "9ca4c851",
   "metadata": {},
   "source": [
    "### Как разные цели кредита влияют на его возврат в срок?"
   ]
  },
  {
   "cell_type": "code",
   "execution_count": 29,
   "id": "00f0a645",
   "metadata": {},
   "outputs": [
    {
     "data": {
      "text/html": [
       "<div>\n",
       "<style scoped>\n",
       "    .dataframe tbody tr th:only-of-type {\n",
       "        vertical-align: middle;\n",
       "    }\n",
       "\n",
       "    .dataframe tbody tr th {\n",
       "        vertical-align: top;\n",
       "    }\n",
       "\n",
       "    .dataframe thead tr th {\n",
       "        text-align: left;\n",
       "    }\n",
       "\n",
       "    .dataframe thead tr:last-of-type th {\n",
       "        text-align: right;\n",
       "    }\n",
       "</style>\n",
       "<table border=\"1\" class=\"dataframe\">\n",
       "  <thead>\n",
       "    <tr>\n",
       "      <th></th>\n",
       "      <th colspan=\"2\" halign=\"left\">debt</th>\n",
       "    </tr>\n",
       "    <tr>\n",
       "      <th></th>\n",
       "      <th>count</th>\n",
       "      <th>sum</th>\n",
       "    </tr>\n",
       "    <tr>\n",
       "      <th>purpose_category</th>\n",
       "      <th></th>\n",
       "      <th></th>\n",
       "    </tr>\n",
       "  </thead>\n",
       "  <tbody>\n",
       "    <tr>\n",
       "      <th>операции с автомобилем</th>\n",
       "      <td>4279</td>\n",
       "      <td>400</td>\n",
       "    </tr>\n",
       "    <tr>\n",
       "      <th>операции с недвижимостью</th>\n",
       "      <td>10751</td>\n",
       "      <td>780</td>\n",
       "    </tr>\n",
       "    <tr>\n",
       "      <th>получение образования</th>\n",
       "      <td>3988</td>\n",
       "      <td>369</td>\n",
       "    </tr>\n",
       "    <tr>\n",
       "      <th>проведение свадьбы</th>\n",
       "      <td>2313</td>\n",
       "      <td>183</td>\n",
       "    </tr>\n",
       "  </tbody>\n",
       "</table>\n",
       "</div>"
      ],
      "text/plain": [
       "                           debt     \n",
       "                          count  sum\n",
       "purpose_category                    \n",
       "операции с автомобилем     4279  400\n",
       "операции с недвижимостью  10751  780\n",
       "получение образования      3988  369\n",
       "проведение свадьбы         2313  183"
      ]
     },
     "execution_count": 29,
     "metadata": {},
     "output_type": "execute_result"
    }
   ],
   "source": [
    "data.groupby('purpose_category').agg({'debt': ['count', 'sum']})"
   ]
  },
  {
   "cell_type": "code",
   "execution_count": 30,
   "id": "841cd3c2",
   "metadata": {},
   "outputs": [
    {
     "data": {
      "text/html": [
       "<div>\n",
       "<style scoped>\n",
       "    .dataframe tbody tr th:only-of-type {\n",
       "        vertical-align: middle;\n",
       "    }\n",
       "\n",
       "    .dataframe tbody tr th {\n",
       "        vertical-align: top;\n",
       "    }\n",
       "\n",
       "    .dataframe thead th {\n",
       "        text-align: right;\n",
       "    }\n",
       "</style>\n",
       "<table border=\"1\" class=\"dataframe\">\n",
       "  <thead>\n",
       "    <tr style=\"text-align: right;\">\n",
       "      <th></th>\n",
       "      <th>debt</th>\n",
       "      <th>not_returned_debt</th>\n",
       "      <th>returned_debt</th>\n",
       "      <th>return_ratio</th>\n",
       "    </tr>\n",
       "    <tr>\n",
       "      <th>purpose_category</th>\n",
       "      <th></th>\n",
       "      <th></th>\n",
       "      <th></th>\n",
       "      <th></th>\n",
       "    </tr>\n",
       "  </thead>\n",
       "  <tbody>\n",
       "    <tr>\n",
       "      <th>операции с автомобилем</th>\n",
       "      <td>4279</td>\n",
       "      <td>400</td>\n",
       "      <td>3879</td>\n",
       "      <td>0.906520</td>\n",
       "    </tr>\n",
       "    <tr>\n",
       "      <th>операции с недвижимостью</th>\n",
       "      <td>10751</td>\n",
       "      <td>780</td>\n",
       "      <td>9971</td>\n",
       "      <td>0.927449</td>\n",
       "    </tr>\n",
       "    <tr>\n",
       "      <th>получение образования</th>\n",
       "      <td>3988</td>\n",
       "      <td>369</td>\n",
       "      <td>3619</td>\n",
       "      <td>0.907472</td>\n",
       "    </tr>\n",
       "    <tr>\n",
       "      <th>проведение свадьбы</th>\n",
       "      <td>2313</td>\n",
       "      <td>183</td>\n",
       "      <td>2130</td>\n",
       "      <td>0.920882</td>\n",
       "    </tr>\n",
       "  </tbody>\n",
       "</table>\n",
       "</div>"
      ],
      "text/plain": [
       "                           debt  not_returned_debt  returned_debt  \\\n",
       "purpose_category                                                    \n",
       "операции с автомобилем     4279                400           3879   \n",
       "операции с недвижимостью  10751                780           9971   \n",
       "получение образования      3988                369           3619   \n",
       "проведение свадьбы         2313                183           2130   \n",
       "\n",
       "                          return_ratio  \n",
       "purpose_category                        \n",
       "операции с автомобилем        0.906520  \n",
       "операции с недвижимостью      0.927449  \n",
       "получение образования         0.907472  \n",
       "проведение свадьбы            0.920882  "
      ]
     },
     "execution_count": 30,
     "metadata": {},
     "output_type": "execute_result"
    }
   ],
   "source": [
    "data_pivot_1 = pd.pivot_table(data, index='purpose_category', values='debt', aggfunc='count')\n",
    "data_pivot_2 = pd.pivot_table(data, index='purpose_category', values='debt', aggfunc='sum')\n",
    "debt_purpose = data_pivot_1\n",
    "debt_purpose['not_returned_debt'] = data_pivot_2\n",
    "debt_purpose['returned_debt'] = debt_purpose['debt'] - debt_purpose['not_returned_debt']\n",
    "debt_purpose['return_ratio'] = debt_purpose['returned_debt'] / debt_purpose['debt'] \n",
    "debt_purpose"
   ]
  },
  {
   "cell_type": "markdown",
   "id": "a3f90906",
   "metadata": {},
   "source": [
    "- Самый высокий процент возврата составляют кредиты, связанные с покупкой недвижимости - 92,7%. \n",
    "- Проведение свадьбы - 92%\n",
    "- Получение образования - 90,7%\n",
    "- Операции с автомобилем - 90,6%"
   ]
  },
  {
   "cell_type": "markdown",
   "id": "03ac00b4",
   "metadata": {},
   "source": [
    "**Вывод:** \n",
    "\n",
    "Ответственно люди подходят к выплате кредита, связанного с покупкой недвижимости. Кроме того, операции с недвижимостью составляют практически половину всех кредитов. \n",
    "\n",
    "Наименьшую надежность по возврату кредита мы наблюдаем в категории \"операции с автомобилем\". Можно сделать вывод, что автомобиль, в отличие от квартиры, влечет за собой много дополнительных расходов (траты на бензин, техническое обслуживание, оформление страховки, возможные поломки или ДТП), что усложняет выплату кредита в срок."
   ]
  },
  {
   "cell_type": "markdown",
   "id": "950d5d0a",
   "metadata": {},
   "source": [
    "### Приведите возможные причины появления пропусков в исходных данных."
   ]
  },
  {
   "cell_type": "markdown",
   "id": "77493ab6",
   "metadata": {},
   "source": [
    "*Возможные причины:*\n",
    "- Пропуски могли возникнуть из-за технических проблем при выгрузке датасета, например, были использованы неверные форматы кодировки данных или использован некорректный разделитель;\n",
    "- Изначальное отсутствие ответа на определенный вопрос анкеты заемщика.Это может быть обусловлено нежеланием клиента раскрывать личную информацию (например, сокрытие возраста, информации о доходах) или при ситуации, когда данные по этим вопросам отсутствуют (например, отсутствует общий трудовой стаж);\n",
    "- Наличие различий в анкетах для заемщиков в зависимости от целей получения кредита. Возможно, в определенных анкетах отсутствуют некоторые поля в виду ненадобности этой информации для банка."
   ]
  },
  {
   "cell_type": "markdown",
   "id": "ee689570",
   "metadata": {},
   "source": [
    "## Общий вывод"
   ]
  },
  {
   "cell_type": "markdown",
   "id": "1ecb6b58",
   "metadata": {},
   "source": [
    "**По результатам анализа можно сделать следующие выводы:**\n",
    "- Наиболее надежными кредиторами являются люди, которые имели/имеют опыт супружеской жизни;\n",
    "- Отсутствие детей у заемщика также повышает вероятность возврата кредита в срок.\n",
    "- Если целью кредита является покупка недвижимости, то заемщик подходит более ответственно к выплате кредита."
   ]
  },
  {
   "cell_type": "markdown",
   "id": "6e1a18c4",
   "metadata": {},
   "source": [
    "**Небольшие рекомендации для банка, касающиеся сбора данных:**\n",
    "- Указывать трудовой стаж лучше в годах, чем в днях;\n",
    "- Указывать валюту месячного дохода (из таблицы неясно);\n",
    "- Разработать единые анкеты для всех заемщиков, сделать ограниченные варианты ответов на выбор в полях, добавить необходимые подсказки в полях для заполнения (если такие отсутствуют)"
   ]
  },
  {
   "cell_type": "markdown",
   "id": "d05852a5",
   "metadata": {},
   "source": [
    "**Рекомендации для банка с точки зрения бизнеса:**\n",
    "\n",
    "\n",
    "\n",
    "По результатам анализа нами был составлен портрет надежного заемщика - это человек с доходом от 200 000 тыс., имеющий опыт супружеской жизни и не имеющий детей, целью кредита у такого заемщика является покупка недвижимости.\n",
    "\n",
    "\n",
    "\n",
    "Таким образом чтобы привлечь больше надежных клиентов, банку следует формулировать выгодные предложения, учитывая характеристики \"идельного заемщика\" и ориентируясь на его потребности."
   ]
  }
 ],
 "metadata": {
  "ExecuteTimeLog": [
   {
    "duration": 435,
    "start_time": "2024-01-17T09:20:52.333Z"
   },
   {
    "duration": 318,
    "start_time": "2024-01-17T09:21:03.318Z"
   },
   {
    "duration": 31,
    "start_time": "2024-01-17T09:21:21.174Z"
   },
   {
    "duration": 15,
    "start_time": "2024-01-17T09:22:06.900Z"
   },
   {
    "duration": 21,
    "start_time": "2024-01-17T09:23:07.443Z"
   },
   {
    "duration": 43,
    "start_time": "2024-01-17T09:24:02.131Z"
   },
   {
    "duration": 4,
    "start_time": "2024-01-17T09:25:47.893Z"
   },
   {
    "duration": 7,
    "start_time": "2024-01-17T09:26:36.061Z"
   },
   {
    "duration": 5,
    "start_time": "2024-01-17T09:27:33.323Z"
   },
   {
    "duration": 7,
    "start_time": "2024-01-17T09:28:06.761Z"
   },
   {
    "duration": 5,
    "start_time": "2024-01-17T09:28:33.009Z"
   },
   {
    "duration": 52,
    "start_time": "2024-01-17T09:30:06.656Z"
   },
   {
    "duration": 11,
    "start_time": "2024-01-17T09:30:21.154Z"
   },
   {
    "duration": 454,
    "start_time": "2024-01-17T09:30:26.126Z"
   },
   {
    "duration": 83,
    "start_time": "2024-01-17T09:30:26.582Z"
   },
   {
    "duration": 22,
    "start_time": "2024-01-17T09:30:26.666Z"
   },
   {
    "duration": 38,
    "start_time": "2024-01-17T09:30:26.689Z"
   },
   {
    "duration": 32,
    "start_time": "2024-01-17T09:30:26.729Z"
   },
   {
    "duration": 51,
    "start_time": "2024-01-17T09:30:26.762Z"
   },
   {
    "duration": 42,
    "start_time": "2024-01-17T09:30:26.814Z"
   },
   {
    "duration": 9,
    "start_time": "2024-01-17T09:30:26.858Z"
   },
   {
    "duration": 3,
    "start_time": "2024-01-17T09:30:26.869Z"
   },
   {
    "duration": 8,
    "start_time": "2024-01-17T09:30:26.873Z"
   },
   {
    "duration": 5,
    "start_time": "2024-01-17T09:30:26.882Z"
   },
   {
    "duration": 6,
    "start_time": "2024-01-17T09:30:26.889Z"
   },
   {
    "duration": 39,
    "start_time": "2024-01-17T09:30:26.897Z"
   },
   {
    "duration": 17,
    "start_time": "2024-01-17T09:31:03.457Z"
   },
   {
    "duration": 83,
    "start_time": "2024-01-17T09:31:45.042Z"
   },
   {
    "duration": 4,
    "start_time": "2024-01-17T09:31:56.680Z"
   },
   {
    "duration": 67,
    "start_time": "2024-01-17T09:32:43.512Z"
   },
   {
    "duration": 13,
    "start_time": "2024-01-17T09:33:02.563Z"
   },
   {
    "duration": 20,
    "start_time": "2024-01-17T09:33:38.482Z"
   },
   {
    "duration": 17,
    "start_time": "2024-01-17T09:33:46.458Z"
   },
   {
    "duration": 4,
    "start_time": "2024-01-17T09:34:47.969Z"
   },
   {
    "duration": 10,
    "start_time": "2024-01-17T09:34:57.676Z"
   },
   {
    "duration": 13,
    "start_time": "2024-01-17T09:35:28.331Z"
   },
   {
    "duration": 7,
    "start_time": "2024-01-17T09:35:52.690Z"
   },
   {
    "duration": 4,
    "start_time": "2024-01-17T09:36:42.289Z"
   },
   {
    "duration": 12,
    "start_time": "2024-01-17T09:36:48.789Z"
   },
   {
    "duration": 6,
    "start_time": "2024-01-17T09:38:18.113Z"
   },
   {
    "duration": 27,
    "start_time": "2024-01-17T09:38:28.308Z"
   },
   {
    "duration": 7,
    "start_time": "2024-01-17T09:40:05.354Z"
   },
   {
    "duration": 21,
    "start_time": "2024-01-17T09:40:46.148Z"
   },
   {
    "duration": 6,
    "start_time": "2024-01-17T09:42:27.006Z"
   },
   {
    "duration": 31,
    "start_time": "2024-01-17T09:42:35.412Z"
   },
   {
    "duration": 12,
    "start_time": "2024-01-17T09:43:32.787Z"
   },
   {
    "duration": 25,
    "start_time": "2024-01-17T09:43:40.293Z"
   },
   {
    "duration": 3,
    "start_time": "2024-01-17T09:48:02.758Z"
   },
   {
    "duration": 457,
    "start_time": "2024-01-17T09:48:07.775Z"
   },
   {
    "duration": 80,
    "start_time": "2024-01-17T09:48:08.237Z"
   },
   {
    "duration": 39,
    "start_time": "2024-01-17T09:48:08.319Z"
   },
   {
    "duration": 26,
    "start_time": "2024-01-17T09:48:08.360Z"
   },
   {
    "duration": 18,
    "start_time": "2024-01-17T09:48:08.389Z"
   },
   {
    "duration": 70,
    "start_time": "2024-01-17T09:48:08.409Z"
   },
   {
    "duration": 41,
    "start_time": "2024-01-17T09:48:08.481Z"
   },
   {
    "duration": 19,
    "start_time": "2024-01-17T09:48:08.524Z"
   },
   {
    "duration": 14,
    "start_time": "2024-01-17T09:48:08.549Z"
   },
   {
    "duration": 20,
    "start_time": "2024-01-17T09:48:08.564Z"
   },
   {
    "duration": 6,
    "start_time": "2024-01-17T09:48:08.586Z"
   },
   {
    "duration": 24,
    "start_time": "2024-01-17T09:48:08.593Z"
   },
   {
    "duration": 11,
    "start_time": "2024-01-17T09:48:08.619Z"
   },
   {
    "duration": 11,
    "start_time": "2024-01-17T09:48:08.632Z"
   },
   {
    "duration": 13,
    "start_time": "2024-01-17T09:48:08.651Z"
   },
   {
    "duration": 32,
    "start_time": "2024-01-17T09:48:08.666Z"
   },
   {
    "duration": 29,
    "start_time": "2024-01-17T09:48:08.700Z"
   },
   {
    "duration": 7,
    "start_time": "2024-01-17T09:48:08.733Z"
   },
   {
    "duration": 34,
    "start_time": "2024-01-17T09:48:08.741Z"
   },
   {
    "duration": 8,
    "start_time": "2024-01-17T09:48:08.776Z"
   },
   {
    "duration": 5,
    "start_time": "2024-01-17T09:48:08.786Z"
   },
   {
    "duration": 11,
    "start_time": "2024-01-17T09:48:08.792Z"
   },
   {
    "duration": 5,
    "start_time": "2024-01-17T09:48:08.805Z"
   },
   {
    "duration": 43,
    "start_time": "2024-01-17T09:48:08.811Z"
   },
   {
    "duration": 9,
    "start_time": "2024-01-17T09:48:08.856Z"
   },
   {
    "duration": 22,
    "start_time": "2024-01-17T09:48:08.866Z"
   },
   {
    "duration": 6,
    "start_time": "2024-01-17T09:48:08.890Z"
   },
   {
    "duration": 59,
    "start_time": "2024-01-17T09:48:08.897Z"
   },
   {
    "duration": 12,
    "start_time": "2024-01-17T09:48:08.958Z"
   },
   {
    "duration": 24,
    "start_time": "2024-01-17T09:48:08.972Z"
   }
  ],
  "kernelspec": {
   "display_name": "Python 3 (ipykernel)",
   "language": "python",
   "name": "python3"
  },
  "language_info": {
   "codemirror_mode": {
    "name": "ipython",
    "version": 3
   },
   "file_extension": ".py",
   "mimetype": "text/x-python",
   "name": "python",
   "nbconvert_exporter": "python",
   "pygments_lexer": "ipython3",
   "version": "3.9.5"
  },
  "toc": {
   "base_numbering": 1,
   "nav_menu": {},
   "number_sections": true,
   "sideBar": true,
   "skip_h1_title": true,
   "title_cell": "Table of Contents",
   "title_sidebar": "Contents",
   "toc_cell": false,
   "toc_position": {},
   "toc_section_display": true,
   "toc_window_display": false
  }
 },
 "nbformat": 4,
 "nbformat_minor": 5
}
